{
 "cells": [
  {
   "cell_type": "code",
   "execution_count": 1,
   "id": "01c1f0ca",
   "metadata": {},
   "outputs": [],
   "source": [
    "import json\n",
    "\n",
    "open_file = lambda num_inputs: open(f\"odeint_gpu_parallel_{num_inputs}.json\")"
   ]
  },
  {
   "cell_type": "code",
   "execution_count": 2,
   "id": "d74a03f3",
   "metadata": {},
   "outputs": [],
   "source": [
    "num_inputs = [100, 1000, 2000, 3000, 4000, 5000, 6000, 7000, 8000, 9000]#, 10000, 11000, 12000, 13000, 14000]\n",
    "results_dict = {x: json.load(open_file(x)) for x in num_inputs}\n",
    "sim_times = [results_dict[x]['sim_time'] for x in num_inputs]\n",
    "grad_times = [results_dict[x]['grad_time'] for x in num_inputs]"
   ]
  },
  {
   "cell_type": "code",
   "execution_count": 3,
   "id": "ae68ecb0",
   "metadata": {},
   "outputs": [
    {
     "data": {
      "text/plain": [
       "[<matplotlib.lines.Line2D at 0x10bb8c040>]"
      ]
     },
     "execution_count": 3,
     "metadata": {},
     "output_type": "execute_result"
    },
    {
     "data": {
      "image/png": "[encoded data removed]",
      "text/plain": [
       "<Figure size 432x288 with 1 Axes>"
      ]
     },
     "metadata": {
      "needs_background": "light"
     },
     "output_type": "display_data"
    }
   ],
   "source": [
    "from matplotlib import pyplot as plt\n",
    "import numpy as np\n",
    "\n",
    "num_inputs = np.array(num_inputs)\n",
    "sim_times = np.array(sim_times)\n",
    "\n",
    "plt.plot(num_inputs, (sim_times/num_inputs))"
   ]
  },
  {
   "cell_type": "code",
   "execution_count": 4,
   "id": "3a78f142",
   "metadata": {},
   "outputs": [
    {
     "data": {
      "text/plain": [
       "[<matplotlib.lines.Line2D at 0x10bc8d600>]"
      ]
     },
     "execution_count": 4,
     "metadata": {},
     "output_type": "execute_result"
    },
    {
     "data": {
      "image/png": "[encoded data removed]",
      "text/plain": [
       "<Figure size 432x288 with 1 Axes>"
      ]
     },
     "metadata": {
      "needs_background": "light"
     },
     "output_type": "display_data"
    }
   ],
   "source": [
    "from matplotlib import pyplot as plt\n",
    "import numpy as np\n",
    "\n",
    "num_inputs = np.array(num_inputs)\n",
    "grade_times = np.array(grad_times)\n",
    "\n",
    "plt.plot(num_inputs, (grad_times/num_inputs))"
   ]
  },
  {
   "cell_type": "code",
   "execution_count": 6,
   "id": "01b5fbaf",
   "metadata": {},
   "outputs": [
    {
     "data": {
      "text/plain": [
       "array([0.17912231, 0.0808615 , 0.08070679, 0.0683649 , 0.06657896,\n",
       "       0.06353477, 0.0622989 , 0.07253471, 0.06793204, 0.06128452])"
      ]
     },
     "execution_count": 6,
     "metadata": {},
     "output_type": "execute_result"
    }
   ],
   "source": [
    "sim_times/num_inputs"
   ]
  },
  {
   "cell_type": "code",
   "execution_count": 7,
   "id": "fae671fc",
   "metadata": {},
   "outputs": [
    {
     "data": {
      "text/plain": [
       "1.0165519775630125"
      ]
     },
     "execution_count": 7,
     "metadata": {},
     "output_type": "execute_result"
    }
   ],
   "source": [
    "0.0622989/0.06128452"
   ]
  },
  {
   "cell_type": "code",
   "execution_count": 8,
   "id": "9b745a1d",
   "metadata": {},
   "outputs": [
    {
     "data": {
      "text/plain": [
       "16.666666666666668"
      ]
     },
     "execution_count": 8,
     "metadata": {},
     "output_type": "execute_result"
    }
   ],
   "source": [
    "1000/60"
   ]
  },
  {
   "cell_type": "code",
   "execution_count": null,
   "id": "4e30719d",
   "metadata": {},
   "outputs": [],
   "source": []
  }
 ],
 "metadata": {
  "kernelspec": {
   "display_name": "Python 3",
   "language": "python",
   "name": "python3"
  },
  "language_info": {
   "codemirror_mode": {
    "name": "ipython",
    "version": 3
   },
   "file_extension": ".py",
   "mimetype": "text/x-python",
   "name": "python",
   "nbconvert_exporter": "python",
   "pygments_lexer": "ipython3",
   "version": "3.10.2"
  }
 },
 "nbformat": 4,
 "nbformat_minor": 5
}
