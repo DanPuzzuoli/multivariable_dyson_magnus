{
 "cells": [
  {
   "cell_type": "code",
   "execution_count": 1,
   "id": "803b5d8d",
   "metadata": {},
   "outputs": [],
   "source": [
    "import numpy as np\n",
    "import jax.numpy as jnp"
   ]
  },
  {
   "cell_type": "code",
   "execution_count": 2,
   "id": "0deb1b5d",
   "metadata": {},
   "outputs": [],
   "source": [
    "from qiskit_dynamics.array import Array\n",
    "\n",
    "# configure jax to use 64 bit mode\n",
    "import jax\n",
    "jax.config.update(\"jax_enable_x64\", True)\n",
    "\n",
    "# tell JAX we are using CPU\n",
    "jax.config.update('jax_platform_name', 'cpu')\n",
    "\n",
    "# set default backend\n",
    "Array.set_default_backend('jax')"
   ]
  },
  {
   "cell_type": "markdown",
   "id": "c5fd31be",
   "metadata": {},
   "source": [
    "Build model operators."
   ]
  },
  {
   "cell_type": "code",
   "execution_count": 3,
   "id": "7c2b1867",
   "metadata": {},
   "outputs": [],
   "source": [
    "dim = 5 # dimension cutoff\n",
    "\n",
    "# truncated annihilation, creation, and number operators\n",
    "a = jnp.diag(np.sqrt(np.arange(1, dim, dtype=complex)), -1)\n",
    "adag = a.conj().transpose()\n",
    "numb = jnp.diag(np.arange(dim, dtype=complex))\n",
    "ident = np.eye(dim, dtype=complex)\n",
    "\n",
    "# truncated oscillator X and Y\n",
    "osc_X = a + adag\n",
    "osc_Y = 1j*(a-adag)\n",
    "\n",
    "# model parameters - work in units of GHz/ns\n",
    "v = 5.0\n",
    "anharm = -0.33\n",
    "r = 0.02\n",
    "\n",
    "ones = np.ones(dim, dtype=complex)\n",
    "ones[0:2] = np.array([0., 0.])\n",
    "P = np.diag(ones)"
   ]
  },
  {
   "cell_type": "markdown",
   "id": "c26e9c67",
   "metadata": {},
   "source": [
    "# 1. Construct signal model\n",
    "\n",
    "Something is wrong with this function, it outputs the same real/complex parts regardless of input. Can investigate in clean up.\n",
    "\n",
    "Here we should plot some examples. We may want the output of this to be a full-fledged `DiscreteSignal`."
   ]
  },
  {
   "cell_type": "code",
   "execution_count": 4,
   "id": "be2a05e7",
   "metadata": {},
   "outputs": [],
   "source": [
    "from discrete_signals import get_param_to_signal\n",
    "\n",
    "# choose the size of the legendre basis\n",
    "leg_order = 4\n",
    "# choose # steps of the signal\n",
    "N = 25\n",
    "\n",
    "#get the filter\n",
    "param_to_signal = get_param_to_signal(leg_order, N)\n",
    "\n",
    "# maybe determine overall length?\n",
    "sample_dt = 0.125\n",
    "\n",
    "T = sample_dt * len(param_to_signal(np.ones((2, leg_order + 1))))"
   ]
  },
  {
   "cell_type": "markdown",
   "id": "6c92ab27",
   "metadata": {},
   "source": [
    "# 2. Construct objective"
   ]
  },
  {
   "cell_type": "code",
   "execution_count": 5,
   "id": "f47f752b",
   "metadata": {},
   "outputs": [],
   "source": [
    "X = np.array([[0., 1.], [1., 0.]])\n",
    "\n",
    "def fidelity(V):\n",
    "    V = Array(V)\n",
    "    return np.abs((Array(X) * V[0:2, 0:2]).sum())**2 / 4"
   ]
  },
  {
   "cell_type": "markdown",
   "id": "c4b2dd28",
   "metadata": {},
   "source": [
    "# 3. Observe Magnus expansion approximation to various orders for each perturbation"
   ]
  },
  {
   "cell_type": "code",
   "execution_count": 6,
   "id": "693270f3",
   "metadata": {},
   "outputs": [],
   "source": [
    "from qiskit_dynamics import Solver, DiscreteSignal, RotatingFrame\n",
    "from qiskit_dynamics.perturbation import solve_lmde_perturbation, ArrayPolynomial\n",
    "from qiskit_dynamics.array import Array\n",
    "from jax import jit\n",
    "\n",
    "from functools import partial\n",
    "from jax import jit\n",
    "from jax.scipy.linalg import expm as jexpm\n",
    "\n",
    "static_hamiltonian = 2 * np.pi * v * numb + np.pi * anharm * numb * (numb - ident)\n",
    "drive_hamiltonian = 2 * np.pi * r * osc_X\n",
    "\n",
    "perturb1 = 2 * np.pi * v * numb\n",
    "perturb2 = np.pi * anharm * numb * (numb - ident)\n",
    "perturb3 = 2 * np.pi * r * osc_X\n",
    "perturb4 = 2 * np.pi * r * osc_X\n",
    "perturb5 = (np.pi / 3) * anharm * numb * (numb - ident) * (numb - 2 * ident)\n",
    "perturb6 = 2 * np.pi * r * (P @ osc_X @ P)\n",
    "\n",
    "hamiltonian_operators = [\n",
    "    drive_hamiltonian,\n",
    "    perturb1,\n",
    "    perturb2,\n",
    "    perturb3,\n",
    "    perturb4,\n",
    "    perturb5,\n",
    "    perturb6\n",
    "]\n",
    "\n",
    "solver = Solver(\n",
    "    static_hamiltonian=static_hamiltonian,\n",
    "    hamiltonian_operators=hamiltonian_operators,\n",
    "    rotating_frame=np.diag(static_hamiltonian)\n",
    ")\n",
    "\n",
    "\n",
    "def ode_infidelity(control_params, model_params):\n",
    "    # construct s(b, t)\n",
    "    samples = param_to_signal(control_params)\n",
    "    control_signal = DiscreteSignal(samples=samples, dt=sample_dt, carrier_freq=v)\n",
    "    \n",
    "    # extract model parameters and set up solver coefficients\n",
    "    c1, c2, c3, c4, c5, c6 = model_params\n",
    "\n",
    "    signals = [\n",
    "        control_signal,\n",
    "        Array(c1),\n",
    "        Array(c2),\n",
    "        control_signal * Array(c3),\n",
    "        (control_signal * control_signal) * Array(c4),\n",
    "        Array(c5),\n",
    "        control_signal * Array(c6)\n",
    "    ]\n",
    "    \n",
    "    solver_copy = solver.copy()\n",
    "    solver_copy.signals = signals\n",
    "    \n",
    "    results = solver_copy.solve(\n",
    "        t_span=[0,T], \n",
    "        y0=np.eye(dim), \n",
    "        atol=1e-10, \n",
    "        rtol=1e-10,\n",
    "        method='jax_odeint'\n",
    "    )\n",
    "    \n",
    "    # return infidelity\n",
    "    return 1. - fidelity(results.y[-1]).data\n",
    "\n",
    "\n",
    "rotating_frame = solver.model.rotating_frame\n",
    "\n",
    "def compute_1d_perturbation_comparison(\n",
    "    control_params, \n",
    "    model_params_dir, \n",
    "    perturbation, \n",
    "    perturb_vals,\n",
    "    max_magnus_order=5\n",
    "):\n",
    "    \"\"\"\n",
    "    Args:\n",
    "        control_params for params to signal\n",
    "        model_params_dir for 1d direction in model parameter space\n",
    "        perturbation is the function computing the perturbation in the lab frame\n",
    "        perturb_vals is the list of values to plot over\n",
    "        max_magnus_order is the maximum magnus order to compute up to\n",
    "    \"\"\"\n",
    "    \n",
    "    # jit function for computing ode fidelity\n",
    "    ode_func = jit(lambda x: ode_infidelity(control_params, x * model_params_dir))\n",
    "    \n",
    "    # compute perturbation terms\n",
    "    samples = param_to_signal(control_params)\n",
    "    control_signal = DiscreteSignal(samples=samples, dt=sample_dt, carrier_freq=v)\n",
    "    \n",
    "    def generator(t):\n",
    "        op = control_signal(t) * (-1j * drive_hamiltonian)\n",
    "        return rotating_frame.operator_into_frame(t, op)\n",
    "    \n",
    "    def perturb_in_frame(t):\n",
    "        op = perturbation(t)\n",
    "        return rotating_frame.operator_into_frame(t, op)\n",
    "    \n",
    "    results = solve_lmde_perturbation(\n",
    "        perturbations=[perturb_in_frame],\n",
    "        t_span=[0, T],\n",
    "        expansion_method='magnus',\n",
    "        expansion_order=max_magnus_order,\n",
    "        generator=generator,\n",
    "        integration_method='jax_odeint',\n",
    "        rtol=1e-10,\n",
    "        atol=1e-10\n",
    "    )\n",
    "    term_labels = results.perturbation_results.expansion_labels\n",
    "    perturbation_terms = results.perturbation_results.expansion_terms\n",
    "    \n",
    "    # construct magnus expansions for each order from results\n",
    "    magnus_expansions = []\n",
    "    for order in range(1, max_magnus_order + 1):\n",
    "        n_terms = list(map(lambda x: len(x) <= order, term_labels)).count(True)\n",
    "        magnus_expansion = ArrayPolynomial(\n",
    "            array_coefficients=perturbation_terms[:n_terms, -1],\n",
    "            monomial_labels=term_labels[:n_terms]\n",
    "        )\n",
    "        magnus_expansions.append(magnus_expansion)\n",
    "    \n",
    "    U = results.y[-1]\n",
    "    \n",
    "    # get the 1st to 5th order approximate error rates using the Magnus terms\n",
    "    @partial(jit, static_argnums=(1,))\n",
    "    def magnus_infidelity(perturb_val, order):\n",
    "\n",
    "        coeffs = jnp.array([perturb_val])\n",
    "\n",
    "        U_approx = U @ jexpm(magnus_expansions[order - 1](coeffs).data)\n",
    "\n",
    "        return 1. - fidelity(U_approx).data\n",
    "    \n",
    "    ode_vals = []\n",
    "    magnus_vals = [[] for _ in range(max_magnus_order)]\n",
    "    for val in perturb_vals:\n",
    "        ode_vals.append(ode_func(val))\n",
    "        \n",
    "        for order, magnus_val in enumerate(magnus_vals):\n",
    "            magnus_val.append(magnus_infidelity(val, order + 1))\n",
    "    \n",
    "    return ode_vals, magnus_vals"
   ]
  },
  {
   "cell_type": "code",
   "execution_count": 7,
   "id": "739bddc2",
   "metadata": {},
   "outputs": [],
   "source": [
    "rand_control_params = 100*jnp.ones((2, leg_order + 1))"
   ]
  },
  {
   "cell_type": "markdown",
   "id": "3352fc06",
   "metadata": {},
   "source": [
    "## 3.1 1st perturbation"
   ]
  },
  {
   "cell_type": "code",
   "execution_count": 8,
   "id": "db1fb4ce",
   "metadata": {},
   "outputs": [
    {
     "data": {
      "text/plain": [
       "Text(0, 0.5, 'Infidelity')"
      ]
     },
     "execution_count": 8,
     "metadata": {},
     "output_type": "execute_result"
    },
    {
     "data": {
      "image/png": "[encoded data removed]",
      "text/plain": [
       "<Figure size 432x288 with 1 Axes>"
      ]
     },
     "metadata": {
      "needs_background": "light"
     },
     "output_type": "display_data"
    }
   ],
   "source": [
    "perturb_vals = jnp.linspace(-0.0075, 0.0075, 50)\n",
    "\n",
    "test = compute_1d_perturbation_comparison(\n",
    "    rand_control_params, \n",
    "    jnp.array([1., 0., 0., 0., 0., 0.]), \n",
    "    perturbation = lambda t: -1j * perturb1, \n",
    "    perturb_vals=perturb_vals,\n",
    "    max_magnus_order=5\n",
    ")\n",
    "\n",
    "import matplotlib.pyplot as plt\n",
    "\n",
    "plt.plot(perturb_vals, test[1][0],label='1st order Est')\n",
    "plt.plot(perturb_vals, test[1][1],label='2nd order Est')\n",
    "plt.plot(perturb_vals, test[1][2],label='3rd order Est')\n",
    "plt.plot(perturb_vals, test[1][3],label='4th order Est')\n",
    "plt.plot(perturb_vals, test[1][4],label='5th order Est')\n",
    "plt.plot(perturb_vals, test[0], label='Direct solving')\n",
    "plt.legend()\n",
    "plt.xlabel('Perturbation 1')\n",
    "plt.ylabel('Infidelity')"
   ]
  },
  {
   "cell_type": "markdown",
   "id": "19944fd9",
   "metadata": {},
   "source": [
    "## 3.2 2nd perturbation"
   ]
  },
  {
   "cell_type": "code",
   "execution_count": 9,
   "id": "a1a06777",
   "metadata": {},
   "outputs": [
    {
     "data": {
      "text/plain": [
       "Text(0, 0.5, 'Infidelity')"
      ]
     },
     "execution_count": 9,
     "metadata": {},
     "output_type": "execute_result"
    },
    {
     "data": {
      "image/png": "[encoded data removed]",
      "text/plain": [
       "<Figure size 432x288 with 1 Axes>"
      ]
     },
     "metadata": {
      "needs_background": "light"
     },
     "output_type": "display_data"
    }
   ],
   "source": [
    "perturb_vals = jnp.linspace(-0.2, 0.2, 50)\n",
    "\n",
    "test = compute_1d_perturbation_comparison(\n",
    "    rand_control_params, \n",
    "    jnp.array([0., 1., 0., 0., 0., 0.]), \n",
    "    perturbation = lambda t: -1j * perturb2, \n",
    "    perturb_vals=perturb_vals,\n",
    "    max_magnus_order=5\n",
    ")\n",
    "\n",
    "import matplotlib.pyplot as plt\n",
    "\n",
    "plt.plot(perturb_vals, test[1][0],label='1st order Est')\n",
    "plt.plot(perturb_vals, test[1][1],label='2nd order Est')\n",
    "plt.plot(perturb_vals, test[1][2],label='3rd order Est')\n",
    "plt.plot(perturb_vals, test[1][3],label='4th order Est')\n",
    "plt.plot(perturb_vals, test[1][4],label='5th order Est')\n",
    "plt.plot(perturb_vals, test[0], label='Direct solving')\n",
    "plt.legend()\n",
    "plt.xlabel('Perturbation 2')\n",
    "plt.ylabel('Infidelity')"
   ]
  },
  {
   "cell_type": "markdown",
   "id": "621fb6e8",
   "metadata": {},
   "source": [
    "## 3.3 3rd perturbation\n",
    "\n",
    "This seems oddly ridiculously accurate."
   ]
  },
  {
   "cell_type": "code",
   "execution_count": 10,
   "id": "84fe0f88",
   "metadata": {},
   "outputs": [
    {
     "data": {
      "text/plain": [
       "Text(0, 0.5, 'Infidelity')"
      ]
     },
     "execution_count": 10,
     "metadata": {},
     "output_type": "execute_result"
    },
    {
     "data": {
      "image/png": "[encoded data removed]",
      "text/plain": [
       "<Figure size 432x288 with 1 Axes>"
      ]
     },
     "metadata": {
      "needs_background": "light"
     },
     "output_type": "display_data"
    }
   ],
   "source": [
    "perturb_vals = jnp.linspace(-0.5, 0.5, 50)\n",
    "\n",
    "# compute perturbation terms\n",
    "samples = param_to_signal(rand_control_params)\n",
    "control_signal = DiscreteSignal(samples=samples, dt=sample_dt, carrier_freq=v)\n",
    "\n",
    "test = compute_1d_perturbation_comparison(\n",
    "    rand_control_params, \n",
    "    jnp.array([0., 0., 1., 0., 0., 0.]), \n",
    "    perturbation = lambda t: -1j * control_signal(t) * drive_hamiltonian, \n",
    "    perturb_vals=perturb_vals,\n",
    "    max_magnus_order=5\n",
    ")\n",
    "\n",
    "import matplotlib.pyplot as plt\n",
    "\n",
    "plt.plot(perturb_vals, test[1][0],label='1st order Est')\n",
    "plt.plot(perturb_vals, test[1][1],label='2nd order Est')\n",
    "plt.plot(perturb_vals, test[1][2],label='3rd order Est')\n",
    "plt.plot(perturb_vals, test[1][3],label='4th order Est')\n",
    "plt.plot(perturb_vals, test[1][4],label='5th order Est')\n",
    "plt.plot(perturb_vals, test[0], label='Direct solving')\n",
    "plt.legend()\n",
    "plt.xlabel('Perturbation 3')\n",
    "plt.ylabel('Infidelity')"
   ]
  },
  {
   "cell_type": "markdown",
   "id": "a1663f5a",
   "metadata": {},
   "source": [
    "## 3.4 4th perturbation\n",
    "\n",
    "Dunno what's going on with the full solution here, maybe need higher accuracy?"
   ]
  },
  {
   "cell_type": "code",
   "execution_count": 11,
   "id": "2932c29e",
   "metadata": {},
   "outputs": [
    {
     "data": {
      "text/plain": [
       "Text(0, 0.5, 'Infidelity')"
      ]
     },
     "execution_count": 11,
     "metadata": {},
     "output_type": "execute_result"
    },
    {
     "data": {
      "image/png": "[encoded data removed]",
      "text/plain": [
       "<Figure size 432x288 with 1 Axes>"
      ]
     },
     "metadata": {
      "needs_background": "light"
     },
     "output_type": "display_data"
    }
   ],
   "source": [
    "perturb_vals = jnp.linspace(-5., 5., 50)\n",
    "\n",
    "# compute perturbation terms\n",
    "samples = param_to_signal(rand_control_params)\n",
    "control_signal = DiscreteSignal(samples=samples, dt=sample_dt, carrier_freq=v)\n",
    "control_signal2 = control_signal * control_signal\n",
    "\n",
    "test = compute_1d_perturbation_comparison(\n",
    "    rand_control_params, \n",
    "    jnp.array([0., 0., 0., 1., 0., 0.]), \n",
    "    perturbation = lambda t: -1j * control_signal2(t) * drive_hamiltonian, \n",
    "    perturb_vals=perturb_vals,\n",
    "    max_magnus_order=5\n",
    ")\n",
    "\n",
    "import matplotlib.pyplot as plt\n",
    "\n",
    "plt.plot(perturb_vals, test[1][0],label='1st order Est')\n",
    "plt.plot(perturb_vals, test[1][1],label='2nd order Est')\n",
    "plt.plot(perturb_vals, test[1][2],label='3rd order Est')\n",
    "plt.plot(perturb_vals, test[1][3],label='4th order Est')\n",
    "plt.plot(perturb_vals, test[1][4],label='5th order Est')\n",
    "plt.plot(perturb_vals, test[0], label='Direct solving')\n",
    "plt.legend()\n",
    "plt.xlabel('Perturbation 4')\n",
    "plt.ylabel('Infidelity')"
   ]
  },
  {
   "cell_type": "markdown",
   "id": "4e90bda3",
   "metadata": {},
   "source": [
    "## 3.5 5th perturbation\n",
    "\n",
    "Is this the result of instability? Weird that it only appears at 5th order"
   ]
  },
  {
   "cell_type": "code",
   "execution_count": 12,
   "id": "a5d9d85a",
   "metadata": {},
   "outputs": [
    {
     "data": {
      "text/plain": [
       "Text(0, 0.5, 'Infidelity')"
      ]
     },
     "execution_count": 12,
     "metadata": {},
     "output_type": "execute_result"
    },
    {
     "data": {
      "image/png": "[encoded data removed]",
      "text/plain": [
       "<Figure size 432x288 with 1 Axes>"
      ]
     },
     "metadata": {
      "needs_background": "light"
     },
     "output_type": "display_data"
    }
   ],
   "source": [
    "perturb_vals = jnp.linspace(-1.0, 1.0, 50)\n",
    "\n",
    "test = compute_1d_perturbation_comparison(\n",
    "    rand_control_params, \n",
    "    jnp.array([0., 0., 0., 0., 1., 0.]), \n",
    "    perturbation = lambda t: -1j * perturb5, \n",
    "    perturb_vals=perturb_vals,\n",
    "    max_magnus_order=5\n",
    ")\n",
    "\n",
    "import matplotlib.pyplot as plt\n",
    "\n",
    "plt.plot(perturb_vals, test[1][0],label='1st order Est')\n",
    "plt.plot(perturb_vals, test[1][1],label='2nd order Est')\n",
    "plt.plot(perturb_vals, test[1][2],label='3rd order Est')\n",
    "plt.plot(perturb_vals, test[1][3],label='4th order Est')\n",
    "plt.plot(perturb_vals, test[1][4],label='5th order Est')\n",
    "plt.plot(perturb_vals, test[0], label='Direct solving')\n",
    "plt.legend()\n",
    "plt.xlabel('Perturbation 5')\n",
    "plt.ylabel('Infidelity')"
   ]
  },
  {
   "cell_type": "markdown",
   "id": "4c09d3c0",
   "metadata": {},
   "source": [
    "## 3.6 6th perturbation"
   ]
  },
  {
   "cell_type": "code",
   "execution_count": 13,
   "id": "27409ea6",
   "metadata": {},
   "outputs": [
    {
     "data": {
      "text/plain": [
       "Text(0, 0.5, 'Infidelity')"
      ]
     },
     "execution_count": 13,
     "metadata": {},
     "output_type": "execute_result"
    },
    {
     "data": {
      "image/png": "[encoded data removed]",
      "text/plain": [
       "<Figure size 432x288 with 1 Axes>"
      ]
     },
     "metadata": {
      "needs_background": "light"
     },
     "output_type": "display_data"
    }
   ],
   "source": [
    "perturb_vals = jnp.linspace(-5.0, 5.0, 50)\n",
    "\n",
    "# compute perturbation terms\n",
    "samples = param_to_signal(rand_control_params)\n",
    "control_signal = DiscreteSignal(samples=samples, dt=sample_dt, carrier_freq=v)\n",
    "\n",
    "test = compute_1d_perturbation_comparison(\n",
    "    rand_control_params, \n",
    "    jnp.array([0., 0., 0., 0., 0., 1.]), \n",
    "    perturbation = lambda t: -1j * control_signal(t) * perturb6, \n",
    "    perturb_vals=perturb_vals,\n",
    "    max_magnus_order=5\n",
    ")\n",
    "\n",
    "import matplotlib.pyplot as plt\n",
    "\n",
    "plt.plot(perturb_vals, test[1][0],label='1st order Est')\n",
    "plt.plot(perturb_vals, test[1][1],label='2nd order Est')\n",
    "plt.plot(perturb_vals, test[1][2],label='3rd order Est')\n",
    "plt.plot(perturb_vals, test[1][3],label='4th order Est')\n",
    "plt.plot(perturb_vals, test[1][4],label='5th order Est')\n",
    "plt.plot(perturb_vals, test[0], label='Direct solving')\n",
    "plt.legend()\n",
    "plt.xlabel('Perturbation 6')\n",
    "plt.ylabel('Infidelity')"
   ]
  },
  {
   "cell_type": "markdown",
   "id": "e8dcf8eb",
   "metadata": {},
   "source": [
    "# 4. Plotting 2 perturbations\n",
    "\n",
    "Would be good to do a heat plot here as in the original notebook. Can modify `compute_1d_perturbation_comparison` to do a 2d scan, and then plot as in the original notebook. For this we can do it with just the first two perturbations."
   ]
  },
  {
   "cell_type": "markdown",
   "id": "40511166",
   "metadata": {},
   "source": [
    "# 5. Robustness objective"
   ]
  },
  {
   "cell_type": "code",
   "execution_count": 14,
   "id": "999eb7d0",
   "metadata": {},
   "outputs": [],
   "source": [
    "from scipy.integrate import quad"
   ]
  },
  {
   "cell_type": "code",
   "execution_count": 15,
   "id": "1f58324e",
   "metadata": {},
   "outputs": [],
   "source": [
    "from qiskit_dynamics.perturbation import Multiset\n",
    "from qiskit_dynamics.perturbation.perturbation_utils import merge_multiset_expansion_order_labels\n",
    "from qiskit_dynamics.perturbation.multiset import get_all_submultisets\n",
    "\n",
    "def polynomial_integrate(f, a, b, degree):\n",
    "    \"\"\"Integrate [f(x), x*f(x), ..., (x**degree) * f(x)] over [a, b].\"\"\"\n",
    "    \n",
    "    results = []\n",
    "    for k in range(degree + 1):\n",
    "        integrand = lambda t: (t**k) * f(t)\n",
    "        results.append(quad(integrand, a, b)[0])\n",
    "    \n",
    "    return np.array(results)\n",
    "\n",
    "def independent_multivariable_integrate(f_list, ranges, max_degree):\n",
    "    \"\"\"Return an array of shape (degrees[0] + 1, ..., degrees[-1] + 1),\n",
    "    whose i[0], ..., i[-1] entry is the integral\n",
    "    \n",
    "    (degrees)\n",
    "    \"\"\"\n",
    "    \n",
    "    one_d_results = []\n",
    "    for f, [a, b] in zip(f_list, ranges):\n",
    "        one_d_results.append(polynomial_integrate(f, a, b, max_degree)) \n",
    "    \n",
    "    # construct all multisets up to a given degree\n",
    "    multisets = merge_multiset_expansion_order_labels(\n",
    "        perturbation_labels=[[k] for k in range(len(f_list))],\n",
    "        expansion_order=max_degree\n",
    "    )\n",
    "    multisets = get_all_submultisets(multisets)\n",
    "    \n",
    "    # prepend the empty multiset\n",
    "    multisets = [Multiset({})] + multisets\n",
    "\n",
    "    integration_results = []\n",
    "    for multiset in multisets:\n",
    "        res = 1.\n",
    "        for k in range(len(f_list)):\n",
    "            res = res * one_d_results[k][multiset.count(k)]\n",
    "        \n",
    "        integration_results.append(res)\n",
    "    \n",
    "    return np.array(integration_results), multisets\n",
    "    "
   ]
  },
  {
   "cell_type": "code",
   "execution_count": 16,
   "id": "e07b8d61",
   "metadata": {},
   "outputs": [
    {
     "data": {
      "text/plain": [
       "(array([0.33333333, 0.22222222, 0.        , 0.16666667, 0.        ,\n",
       "        0.2       ]),\n",
       " [Multiset({}),\n",
       "  Multiset({0: 1}),\n",
       "  Multiset({1: 1}),\n",
       "  Multiset({0: 2}),\n",
       "  Multiset({0: 1, 1: 1}),\n",
       "  Multiset({1: 2})])"
      ]
     },
     "execution_count": 16,
     "metadata": {},
     "output_type": "execute_result"
    }
   ],
   "source": [
    "independent_multivariable_integrate(\n",
    "    f_list=[lambda t: t, lambda t: t**2],\n",
    "    ranges=[[0, 1], [-1, 1]],\n",
    "    max_degree=2\n",
    ")"
   ]
  },
  {
   "cell_type": "markdown",
   "id": "ea761c70",
   "metadata": {},
   "source": [
    "We can use this function to integrate array polynomials that contain all terms up to a given order."
   ]
  },
  {
   "cell_type": "code",
   "execution_count": 17,
   "id": "6ac2836d",
   "metadata": {},
   "outputs": [],
   "source": [
    "def get_guassian(mean, std):\n",
    "    \n",
    "    const = 1 / (std * np.sqrt(2 * np.pi))\n",
    "    \n",
    "    return lambda t: const * np.exp(-0.5 * ((t - mean) / std)**2)\n",
    "\n"
   ]
  },
  {
   "cell_type": "code",
   "execution_count": 18,
   "id": "5c8840dc",
   "metadata": {},
   "outputs": [],
   "source": [
    "deg = 1\n",
    "\n",
    "integration_ranges = [\n",
    "    [-0.005, 0.005], # frequency\n",
    "    [-0.1, 0.1], # anharmonicity\n",
    "    [-1., 1.], # drive strength\n",
    "    [-1., 1.], # non-linear control term\n",
    "    [-0.5, 0.5], # higher level spacings\n",
    "    [-2., 2.] # higher level drive operator\n",
    "]\n",
    "\n",
    "means = np.zeros(6, dtype=float)\n",
    "stds = np.ones(6, dtype=float)\n",
    "\n",
    "f_list = [get_guassian(mean, std) for mean, std in zip(means, stds)]\n",
    "\n",
    "vals, multisets = independent_multivariable_integrate(\n",
    "    f_list, \n",
    "    ranges=integration_ranges, \n",
    "    max_degree=2 * deg\n",
    ")\n",
    "\n",
    "# normalize in case \n",
    "vals = vals / vals[0]"
   ]
  },
  {
   "cell_type": "code",
   "execution_count": 19,
   "id": "09345b8b",
   "metadata": {},
   "outputs": [],
   "source": [
    "# determine elements to cut based on the integral being zero\n",
    "tol=1e-12\n",
    "\n",
    "nonzero_idx = []\n",
    "nonzero_vals = []\n",
    "nonzero_multisets = []\n",
    "for idx, (val, multiset) in enumerate(zip(vals, multisets)):\n",
    "    if np.abs(val) > tol:\n",
    "        nonzero_idx.append(idx)\n",
    "        nonzero_vals.append(val)\n",
    "        nonzero_multisets.append(multiset)\n",
    "\n",
    "nonzero_idx = np.array(nonzero_idx)\n",
    "nonzero_vals = np.array(nonzero_vals)"
   ]
  },
  {
   "cell_type": "markdown",
   "id": "e2022c01",
   "metadata": {},
   "source": [
    "It's kinda funny here cause the moments of the guassian are just multiples of the std, which I completely forgot :D. \n",
    "\n",
    "We can test out integrating an array polynomial of the appropriate size using this."
   ]
  },
  {
   "cell_type": "code",
   "execution_count": 20,
   "id": "c27d4d1a",
   "metadata": {},
   "outputs": [
    {
     "data": {
      "text/plain": [
       "[Multiset({}),\n",
       " Multiset({0: 2}),\n",
       " Multiset({1: 2}),\n",
       " Multiset({2: 2}),\n",
       " Multiset({3: 2}),\n",
       " Multiset({4: 2}),\n",
       " Multiset({5: 2})]"
      ]
     },
     "execution_count": 20,
     "metadata": {},
     "output_type": "execute_result"
    }
   ],
   "source": [
    "nonzero_multisets"
   ]
  },
  {
   "cell_type": "code",
   "execution_count": 55,
   "id": "9a6b4cc8",
   "metadata": {},
   "outputs": [],
   "source": [
    "##########################################\n",
    "# magnus order and number of perturbations\n",
    "##########################################\n",
    "\n",
    "magnus_order = 1\n",
    "n_perturb = 6\n",
    "\n",
    "integration_ranges = [\n",
    "    [-0.005, 0.005], # frequency\n",
    "    [-0.1, 0.1], # anharmonicity\n",
    "    [-1., 1.], # drive strength\n",
    "    [-1., 1.], # non-linear control term\n",
    "    [-0.5, 0.5], # higher level spacings\n",
    "    [-2., 2.] # higher level drive operator\n",
    "]\n",
    "\n",
    "means = np.zeros(n_perturb, dtype=float)\n",
    "stds = np.ones(n_perturb, dtype=float)\n",
    "\n",
    "##################\n",
    "# compute moments\n",
    "#################\n",
    "\n",
    "\n",
    "f_list = [get_guassian(mean, std) for mean, std in zip(means[:n_perturb], stds[:n_perturb])]\n",
    "\n",
    "vals, multisets = independent_multivariable_integrate(\n",
    "    f_list, \n",
    "    ranges=integration_ranges, \n",
    "    max_degree=2 * magnus_order\n",
    ")\n",
    "\n",
    "# normalize in case \n",
    "vals = vals / vals[0]\n",
    "\n",
    "# determine elements to cut based on the integral being zero\n",
    "tol=1e-12\n",
    "\n",
    "nonzero_idx = []\n",
    "nonzero_vals = []\n",
    "nonzero_multisets = []\n",
    "for idx, (val, multiset) in enumerate(zip(vals, multisets)):\n",
    "    if np.abs(val) > tol:\n",
    "        nonzero_idx.append(idx)\n",
    "        nonzero_vals.append(val)\n",
    "        nonzero_multisets.append(multiset)\n",
    "\n",
    "nonzero_idx = np.array(nonzero_idx)\n",
    "nonzero_vals = np.array(nonzero_vals)\n",
    "\n",
    "\n",
    "\n",
    "rotating_frame = solver.model.rotating_frame\n",
    "\n",
    "@jit\n",
    "def magnus_computation(params):\n",
    "\n",
    "    ##############################\n",
    "    # setup time-dependent signals\n",
    "    ##############################\n",
    "    \n",
    "    samples = param_to_signal(params)\n",
    "    control_signal = DiscreteSignal(samples=samples, dt=sample_dt, carrier_freq=v)\n",
    "    control_signal2 = control_signal * control_signal\n",
    "\n",
    "    def generator(t):\n",
    "        op = control_signal(t) * (-1j * drive_hamiltonian)\n",
    "        return rotating_frame.operator_into_frame(t, op)\n",
    "\n",
    "    def perturbation1(t):\n",
    "        op = -1j * perturb1\n",
    "        return rotating_frame.operator_into_frame(t, op)\n",
    "\n",
    "    def perturbation2(t):\n",
    "        op = -1j * perturb2\n",
    "        return rotating_frame.operator_into_frame(t, op)\n",
    "\n",
    "    def perturbation3(t):\n",
    "        op = -1j * control_signal(t) * drive_hamiltonian\n",
    "        return rotating_frame.operator_into_frame(t, op)\n",
    "\n",
    "    def perturbation4(t):\n",
    "        op = -1j * control_signal2(t) * drive_hamiltonian\n",
    "        return rotating_frame.operator_into_frame(t, op)\n",
    "\n",
    "    def perturbation5(t):\n",
    "        op = -1j * perturb5\n",
    "        return rotating_frame.operator_into_frame(t, op)\n",
    "\n",
    "    def perturbation6(t):\n",
    "        op = -1j * control_signal(t) * perturb6\n",
    "        return rotating_frame.operator_into_frame(t, op)\n",
    "\n",
    "\n",
    "    perturbations = [\n",
    "        perturbation1,\n",
    "        perturbation2,\n",
    "        perturbation3,\n",
    "        perturbation4,\n",
    "        perturbation5,\n",
    "        perturbation6,\n",
    "    ]\n",
    "    \n",
    "    perturbations = perturbations[:n_perturb]\n",
    "\n",
    "    results = solve_lmde_perturbation(\n",
    "        perturbations=perturbations,\n",
    "        t_span=[0, T],\n",
    "        expansion_method='magnus',\n",
    "        expansion_order=magnus_order,\n",
    "        generator=generator,\n",
    "        integration_method='jax_odeint',\n",
    "        rtol=1e-8,\n",
    "        atol=1e-8\n",
    "    )\n",
    "    \n",
    "    # final unitary\n",
    "    U = results.y[-1]\n",
    "    \n",
    "    # Magnus terms\n",
    "    magnus_terms = results.perturbation_results.expansion_terms[:, -1]\n",
    "    monomial_labels = results.perturbation_results.expansion_labels\n",
    "    \n",
    "    magnus_polynomial = ArrayPolynomial(\n",
    "        array_coefficients=magnus_terms,\n",
    "        monomial_labels=monomial_labels\n",
    "    )\n",
    "    \n",
    "    ################################\n",
    "    # construct robustness objective\n",
    "    ################################\n",
    "    \n",
    "    # project onto computational subspace\n",
    "    magnus_polynomial = magnus_polynomial[0:2, 0:2]\n",
    "    \n",
    "    # remove identity component\n",
    "    magnus_no_id = magnus_polynomial - (magnus_polynomial.trace() * (np.eye(2, dtype=complex) / 2))\n",
    "    \n",
    "    # construct polynomial computing norm, only including terms\n",
    "    # that have non-zero integral\n",
    "    magnus_norm = magnus_no_id.conj().mul(magnus_no_id, monomial_filter=lambda x: x in nonzero_multisets).real.sum()\n",
    "    \n",
    "    robustness_integral = np.dot(magnus_norm.array_coefficients, nonzero_vals[1:]).data\n",
    "    \n",
    "    ##################################\n",
    "    # fidelity objective\n",
    "    ##################################\n",
    "    \n",
    "    fid = fidelity(U).data\n",
    "    \n",
    "    #############################\n",
    "    # return linearized objective\n",
    "    #############################\n",
    "    \n",
    "    return (1 - fid) + 0.1 * robustness_integral"
   ]
  },
  {
   "cell_type": "code",
   "execution_count": 56,
   "id": "12e88e8e",
   "metadata": {},
   "outputs": [],
   "source": [
    "params = 1e10*np.ones((2, leg_order + 1))"
   ]
  },
  {
   "cell_type": "code",
   "execution_count": 57,
   "id": "fe8d6338",
   "metadata": {},
   "outputs": [
    {
     "name": "stdout",
     "output_type": "stream",
     "text": [
      "CPU times: user 3.16 s, sys: 36 ms, total: 3.2 s\n",
      "Wall time: 3.18 s\n"
     ]
    }
   ],
   "source": [
    "%time res = magnus_computation(params).block_until_ready()"
   ]
  },
  {
   "cell_type": "code",
   "execution_count": 58,
   "id": "93f47b5e",
   "metadata": {},
   "outputs": [
    {
     "name": "stdout",
     "output_type": "stream",
     "text": [
      "CPU times: user 306 ms, sys: 2.07 ms, total: 308 ms\n",
      "Wall time: 307 ms\n"
     ]
    }
   ],
   "source": [
    "%time res = magnus_computation(params).block_until_ready()"
   ]
  },
  {
   "cell_type": "code",
   "execution_count": 59,
   "id": "f82e503d",
   "metadata": {},
   "outputs": [
    {
     "data": {
      "text/plain": [
       "4839.528270553996"
      ]
     },
     "execution_count": 59,
     "metadata": {},
     "output_type": "execute_result"
    }
   ],
   "source": [
    "np.linalg.norm(perturb1) * T"
   ]
  },
  {
   "cell_type": "code",
   "execution_count": null,
   "id": "026c9b98",
   "metadata": {},
   "outputs": [],
   "source": []
  }
 ],
 "metadata": {
  "kernelspec": {
   "display_name": "Python 3 (ipykernel)",
   "language": "python",
   "name": "python3"
  },
  "language_info": {
   "codemirror_mode": {
    "name": "ipython",
    "version": 3
   },
   "file_extension": ".py",
   "mimetype": "text/x-python",
   "name": "python",
   "nbconvert_exporter": "python",
   "pygments_lexer": "ipython3",
   "version": "3.10.2"
  }
 },
 "nbformat": 4,
 "nbformat_minor": 5
}
