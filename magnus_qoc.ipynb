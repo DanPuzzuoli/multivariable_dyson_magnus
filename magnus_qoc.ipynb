{
 "cells": [
  {
   "cell_type": "code",
   "execution_count": 1,
   "metadata": {},
   "outputs": [
    {
     "name": "stderr",
     "output_type": "stream",
     "text": [
      "WARNING:absl:No GPU/TPU found, falling back to CPU. (Set TF_CPP_MIN_LOG_LEVEL=0 and rerun for more info.)\n"
     ]
    }
   ],
   "source": [
    "import timeit\n",
    "\n",
    "import matplotlib.pyplot as plt\n",
    "from jax import jit, grad, vmap\n",
    "from jax import numpy as jnp\n",
    "from jax.scipy.optimize import minimize\n",
    "from jax import value_and_grad\n",
    "from jax.lax import scan\n",
    "\n",
    "#import scipy\n",
    "#from scipy.integrate import solve_ivp\n",
    "import numpy as np\n",
    "from jax.scipy.linalg import expm\n",
    "from scipy.signal import gaussian\n",
    "\n",
    "from qiskit.quantum_info.operators import Operator\n",
    "from qiskit_ode import dispatch, solve_lmde, solve_ode\n",
    "from qiskit_ode.dispatch import Array\n",
    "from qiskit_ode.models import HamiltonianModel\n",
    "from qiskit_ode.signals import Signal, DiscreteSignal\n",
    "\n",
    "###############\n",
    "# needed these:\n",
    "from jax.config import config\n",
    "config.update(\"jax_enable_x64\", True)\n",
    "dispatch.set_default_backend('jax')\n",
    "###############\n",
    "\n",
    "from qiskit_ode_internal.perturbation import solve_lmde_perturbation\n",
    "from discrete_signals import get_param_to_signal\n",
    "from objectives import get_grape_fidelity_func\n",
    "\n",
    "Z = Array([[1., 0.], [0., -1.]], dtype=complex)\n",
    "X = Array([[0., 1.], [1., 0.]], dtype=complex)\n",
    "Y = Array([[0., -1j], [1j, 0.]], dtype=complex)\n",
    "\n",
    "tol = 1e-8"
   ]
  },
  {
   "cell_type": "markdown",
   "metadata": {},
   "source": [
    "# Approximate fidelity with Magnus terms, in the presence of 2 perturbations\n",
    "\n",
    "Here we set up a duffing oscillator model in the rotating frame of an on-resonance drive frequency, after the RWA:\n",
    "\\begin{equation}\n",
    "    H(t) = 2\\pi\\delta_0 a^\\dagger a+\\pi \\alpha a^\\dagger a (a^\\dagger a - 1) + 2 \\pi r(1+\\delta_1)[ c_x(t) (a + a^\\dagger) + c_y(t) i(a - a^\\dagger)].\n",
    "\\end{equation}\n",
    "where\n",
    "- $\\delta_0$ is the difference between the qubit frequency and drive frequency\n",
    "-$\\delta_1$ is similar to a variation in transfer function\n",
    "- $\\alpha$ is the anharmonicity\n",
    "- $r$ is the drive strength, and\n",
    "- $c_x(t)$ and $c_y(t)$ are the x and y control fields"
   ]
  },
  {
   "cell_type": "code",
   "execution_count": 2,
   "metadata": {},
   "outputs": [],
   "source": [
    "#setting\n",
    "\n",
    "dim = 4 # dimension cutoff for oscillators\n",
    "\n",
    "# truncated annihilation, creation, and number operators\n",
    "a = jnp.diag(np.sqrt(np.arange(1, dim, dtype=complex)), -1)\n",
    "adag = a.conj().transpose()\n",
    "numb = jnp.diag(np.arange(dim, dtype=complex))\n",
    "\n",
    "# truncated oscillator X and Y\n",
    "osc_X = a + adag\n",
    "osc_Y = 1j*(a-adag)\n",
    "\n",
    "\n",
    "# model parameters - work in units of GHz/ns\n",
    "anharm = -0.33\n",
    "drive_strength = 0.02\n",
    "\n",
    "# drift Hamiltonian on resonance\n",
    "H0 = Array(np.pi * anharm * numb * (numb - jnp.eye(dim)))\n",
    "\n",
    "# control terms - X and Y multiplied by 2 pi * drive_strength\n",
    "Hc = Array(2 * np.pi * drive_strength * jnp.array([osc_X, osc_Y]))\n",
    "perturb = Array(-1j*2*np.pi*numb)\n",
    "\n",
    "Utarget = X\n",
    "\n",
    "Alist = -1j * Hc\n",
    "D = -1j * H0\n",
    "\n",
    "dt_filter = 0.125\n",
    "T = 28.125\n",
    "\n",
    "#get fidelity function\n",
    "fid_func = get_grape_fidelity_func(X)"
   ]
  },
  {
   "cell_type": "markdown",
   "metadata": {},
   "source": [
    "## Choose a signal from the 3 cells below\n",
    "The signals are all in the legendre basis"
   ]
  },
  {
   "cell_type": "code",
   "execution_count": 3,
   "metadata": {},
   "outputs": [],
   "source": [
    "#use hardcoded signal with good robustness against the first perturbation\n",
    "param = jnp.array([[-4.59237981e+00, 4.24980538e+01, -8.46739534e+01, 5.75898575e+01,-1.50812797e-01],\n",
    "                  [5.81268528e+02, 1.81435728e+02, -5.81151908e+02, -6.48605967e+01,5.10149009e+02]])"
   ]
  },
  {
   "cell_type": "code",
   "execution_count": 4,
   "metadata": {},
   "outputs": [],
   "source": [
    "#or, use hardcoded signal, randomly generated\n",
    "param = jnp.array([[0.42143394, 0.56289994, 0.18579787, 0.46135739, 0.00488543],\n",
    "                  [0.37749316, 0.87822718, 0.18513398, 0.20995738, 0.47369254]])"
   ]
  },
  {
   "cell_type": "code",
   "execution_count": 5,
   "metadata": {},
   "outputs": [],
   "source": [
    "#or, randomly generate your own signal\n",
    "param = jnp.array(np.random.rand(2,5))"
   ]
  },
  {
   "cell_type": "code",
   "execution_count": 6,
   "metadata": {},
   "outputs": [],
   "source": [
    "#Convert the signal from legendre basis to time series\n",
    "\n",
    "#get the filter\n",
    "param_to_signal = get_param_to_signal(4, 25)\n",
    "#get the signal\n",
    "signal = param_to_signal(param)\n",
    "signal1 = signal[:,0]\n",
    "signal2 = signal[:,1]\n",
    "\n",
    "pc1 = DiscreteSignal(dt=dt_filter, samples=signal1,carrier_freq=0.)\n",
    "pc2 = DiscreteSignal(dt=dt_filter, samples=signal2,carrier_freq=0.)\n",
    "operators1 = [H0, Hc[0], Hc[1], 1j*perturb]\n",
    "hamiltonian1 = HamiltonianModel(operators=Array(operators1))\n",
    "\n",
    "def G(t):#the generator\n",
    "    c1 = pc1(t)\n",
    "    c2 = pc2(t)\n",
    "    return -1j*(H0 + c1*Hc[0] + c2*Hc[1])\n",
    "\n",
    "#the 1st perturbation\n",
    "def A0(t):\n",
    "    return perturb\n",
    "\n",
    "# the 2nd perturbation - transfer function variation\n",
    "def A1(t):\n",
    "    c1 = pc1(t)\n",
    "    c2 = pc2(t)\n",
    "    return -1j*(c1*Hc[0] + c2*Hc[1])"
   ]
  },
  {
   "cell_type": "code",
   "execution_count": 7,
   "metadata": {},
   "outputs": [],
   "source": [
    "#use the \"generator\" as input\n",
    "results = solve_lmde_perturbation(A_list=[A0, A1], # list of A matrices\n",
    "                             perturbation_method='symmetric_magnus',\n",
    "                             perturbation_order=5,\n",
    "                             t_span=[0, T], # integrate over one period of drive oscillation\n",
    "                             generator=G, # generator\n",
    "                             y0=np.eye(dim), # initial state for base DE U'(t) = G(t)U(t)\n",
    "                             method='jax_odeint',\n",
    "                             rtol=1e-13, # standard solver arguments\n",
    "                             atol=1e-13)"
   ]
  },
  {
   "cell_type": "code",
   "execution_count": 8,
   "metadata": {},
   "outputs": [],
   "source": [
    "U = results.y[-1] #unitary tranformation when there's no error\n",
    "#symmetric Magnus terms\n",
    "M0 = results.perturbation_results[[0]][-1]\n",
    "M1 = results.perturbation_results[[1]][-1]\n",
    "M00 = results.perturbation_results[[0, 0]][-1]\n",
    "M11 = results.perturbation_results[[1, 1]][-1]\n",
    "M01 = results.perturbation_results[[0, 1]][-1]\n",
    "M000 = results.perturbation_results[[0, 0, 0]][-1]\n",
    "M001 = results.perturbation_results[[0, 0, 1]][-1]\n",
    "M011 = results.perturbation_results[[0, 1, 1]][-1]\n",
    "M111 = results.perturbation_results[[1, 1, 1]][-1]\n",
    "M0000 = results.perturbation_results[[0, 0, 0, 0]][-1]\n",
    "M0001 = results.perturbation_results[[0, 0, 0, 1]][-1]\n",
    "M0011 = results.perturbation_results[[0, 0, 1, 1]][-1]\n",
    "M0111 = results.perturbation_results[[0, 1, 1, 1]][-1]\n",
    "M1111 = results.perturbation_results[[1, 1, 1, 1]][-1]\n",
    "M00000 = results.perturbation_results[[0, 0, 0, 0, 0]][-1]\n",
    "M00001 = results.perturbation_results[[0, 0, 0, 0, 1]][-1]\n",
    "M00011 = results.perturbation_results[[0, 0, 0, 1, 1]][-1]\n",
    "M00111 = results.perturbation_results[[0, 0, 1, 1, 1]][-1]\n",
    "M01111 = results.perturbation_results[[0, 1, 1, 1, 1]][-1]\n",
    "M11111 = results.perturbation_results[[1, 1, 1, 1, 1]][-1]"
   ]
  },
  {
   "cell_type": "code",
   "execution_count": 9,
   "metadata": {},
   "outputs": [],
   "source": [
    "# get the 2nd to 5th order approximate error rates using the Magnus terms\n",
    "def err_est(c1, c2, order):\n",
    "    #2nd order approximation\n",
    "    if order == 2:\n",
    "        U_approx = U@expm(c1*M0+c2*M1+c1*c2*M01+c1**2*M00+c2**2*M11)\n",
    "    #3rd order approximation\n",
    "    elif order == 3:\n",
    "        U_approx = U@expm(c1*M0+c2*M1+c1*c2*M01+c1**2*M00+c2**2*M11\n",
    "                          +c1**3*M000+c2**3*M111+c1**2*c2*M001+c1*c2**2*M011)\n",
    "    elif order == 4:\n",
    "        c11 = c1 * c1\n",
    "        c12 = c1 * c2\n",
    "        c22 = c2 * c2\n",
    "        c111 = c1 * c11\n",
    "        c112 = c1 * c12\n",
    "        c122 = c1 * c22\n",
    "        c222 = c2 * c22\n",
    "        c1111 = c1 * c111\n",
    "        c1112 = c1 * c112\n",
    "        c1122 = c1 * c122\n",
    "        c1222 = c1 * c222\n",
    "        c2222 = c2 * c222\n",
    "        U_approx = U@expm(c1*M0 + c2*M1 \n",
    "                          + c12*M01 + c11*M00 + c22*M11\n",
    "                          +c111*M000+c222*M111+c112*M001+c122*M011\n",
    "                          + c1111 * M0000 + c1112 * M0001 + c1122 * M0011 + c1222 * M0111 + c2222 * M1111)\n",
    "    \n",
    "    elif order == 5:\n",
    "        c11 = c1 * c1\n",
    "        c12 = c1 * c2\n",
    "        c22 = c2 * c2\n",
    "        c111 = c1 * c11\n",
    "        c112 = c1 * c12\n",
    "        c122 = c1 * c22\n",
    "        c222 = c2 * c22\n",
    "        c1111 = c1 * c111\n",
    "        c1112 = c1 * c112\n",
    "        c1122 = c1 * c122\n",
    "        c1222 = c1 * c222\n",
    "        c2222 = c2 * c222\n",
    "        c11111 = c1 * c1111\n",
    "        c11112 = c1 * c1112\n",
    "        c11122 = c1 * c1122\n",
    "        c11222 = c1 * c1222\n",
    "        c12222 = c1 * c2222\n",
    "        c22222 = c2 * c2222\n",
    "        U_approx = U@expm(c1*M0 + c2*M1 \n",
    "                          + c12*M01 + c11*M00 + c22*M11\n",
    "                          +c111*M000+c222*M111+c112*M001+c122*M011\n",
    "                          + c1111 * M0000 + c1112 * M0001 + c1122 * M0011 + c1222 * M0111 + c2222 * M1111\n",
    "                         + c11111 * M00000 + c11112 * M00001 + c11122 * M00011 + c11222 * M00111 + c12222 * M01111 + c22222 * M11111)\n",
    "        \n",
    "    fid = fid_func(U_approx)\n",
    "    return 1. - fid \n",
    "\n",
    "z_vals = jnp.linspace(-1.5*drive_strength, 1.5*drive_strength, 20)\n",
    "v_vals = jnp.linspace(-0.2, 0.2, len(z_vals))\n",
    "err_estimate2 = [err_est(z,v,2) for v in v_vals for z in z_vals]\n",
    "err_estimate3 = [err_est(z,v,3) for v in v_vals for z in z_vals]\n",
    "err_estimate4 = [err_est(z,v,4) for v in v_vals for z in z_vals]\n",
    "err_estimate5 = [err_est(z,v,5) for v in v_vals for z in z_vals]"
   ]
  },
  {
   "cell_type": "code",
   "execution_count": 10,
   "metadata": {},
   "outputs": [],
   "source": [
    "#exact error with the two perturbations\n",
    "def exact_err(args):\n",
    "    c1,c2 = args\n",
    "    pc1_ = DiscreteSignal(dt=dt_filter, samples=(1+c2)*signal1,carrier_freq=0.)\n",
    "    pc2_ = DiscreteSignal(dt=dt_filter, samples=(1+c2)*signal2,carrier_freq=0.)\n",
    "    signals2 = [1., pc1_, pc2_, Array(c1)]\n",
    "    ham_copy = hamiltonian1.copy()\n",
    "    ham_copy.signals = signals2\n",
    "    time_results = solve_lmde(ham_copy, t_span=[0,T], y0=np.eye(dim), atol=tol, rtol=tol,method='jax_odeint')\n",
    "    return 1.-fid_func(time_results.y[-1]).data\n",
    "\n",
    "err_exact = vmap(exact_err)((jnp.tile(z_vals,len(v_vals)),jnp.repeat(v_vals,len(z_vals))))"
   ]
  },
  {
   "cell_type": "code",
   "execution_count": 11,
   "metadata": {},
   "outputs": [
    {
     "name": "stderr",
     "output_type": "stream",
     "text": [
      "<ipython-input-11-ac0d31d0e8f4>:5: MatplotlibDeprecationWarning: shading='flat' when X and Y have the same dimensions as C is deprecated since 3.3.  Either specify the corners of the quadrilaterals with X and Y, or pass shading='auto', 'nearest' or 'gouraud', or set rcParams['pcolor.shading'].  This will become an error two minor releases later.\n",
      "  im0 = ax0.pcolormesh(z_vals, v_vals, err_exact.reshape(len(z_vals),len(v_vals)))\n",
      "<ipython-input-11-ac0d31d0e8f4>:6: MatplotlibDeprecationWarning: shading='flat' when X and Y have the same dimensions as C is deprecated since 3.3.  Either specify the corners of the quadrilaterals with X and Y, or pass shading='auto', 'nearest' or 'gouraud', or set rcParams['pcolor.shading'].  This will become an error two minor releases later.\n",
      "  im1 = ax1.pcolormesh(z_vals, v_vals, jnp.array(err_estimate2).reshape(len(z_vals),len(v_vals)))\n",
      "<ipython-input-11-ac0d31d0e8f4>:7: MatplotlibDeprecationWarning: shading='flat' when X and Y have the same dimensions as C is deprecated since 3.3.  Either specify the corners of the quadrilaterals with X and Y, or pass shading='auto', 'nearest' or 'gouraud', or set rcParams['pcolor.shading'].  This will become an error two minor releases later.\n",
      "  im2 = ax2.pcolormesh(z_vals, v_vals, jnp.array(err_estimate3).reshape(len(z_vals),len(v_vals)))\n",
      "<ipython-input-11-ac0d31d0e8f4>:8: MatplotlibDeprecationWarning: shading='flat' when X and Y have the same dimensions as C is deprecated since 3.3.  Either specify the corners of the quadrilaterals with X and Y, or pass shading='auto', 'nearest' or 'gouraud', or set rcParams['pcolor.shading'].  This will become an error two minor releases later.\n",
      "  im3 = ax3.pcolormesh(z_vals, v_vals, jnp.array(err_estimate4).reshape(len(z_vals),len(v_vals)))\n",
      "<ipython-input-11-ac0d31d0e8f4>:9: MatplotlibDeprecationWarning: shading='flat' when X and Y have the same dimensions as C is deprecated since 3.3.  Either specify the corners of the quadrilaterals with X and Y, or pass shading='auto', 'nearest' or 'gouraud', or set rcParams['pcolor.shading'].  This will become an error two minor releases later.\n",
      "  im4 = ax4.pcolormesh(z_vals, v_vals, jnp.array(err_estimate5).reshape(len(z_vals),len(v_vals)))\n"
     ]
    },
    {
     "data": {
      "image/png": "[encoded data removed]",
      "text/plain": [
       "<Figure size 360x1332 with 10 Axes>"
      ]
     },
     "metadata": {
      "needs_background": "light"
     },
     "output_type": "display_data"
    }
   ],
   "source": [
    "from mpl_toolkits.axes_grid1 import make_axes_locatable\n",
    "\n",
    "#plot the estimates and the exact errors together\n",
    "fig, (ax0, ax1, ax2, ax3, ax4) = plt.subplots(nrows=5)\n",
    "im0 = ax0.pcolormesh(z_vals, v_vals, err_exact.reshape(len(z_vals),len(v_vals)))\n",
    "im1 = ax1.pcolormesh(z_vals, v_vals, jnp.array(err_estimate2).reshape(len(z_vals),len(v_vals)))\n",
    "im2 = ax2.pcolormesh(z_vals, v_vals, jnp.array(err_estimate3).reshape(len(z_vals),len(v_vals)))\n",
    "im3 = ax3.pcolormesh(z_vals, v_vals, jnp.array(err_estimate4).reshape(len(z_vals),len(v_vals)))\n",
    "im4 = ax4.pcolormesh(z_vals, v_vals, jnp.array(err_estimate5).reshape(len(z_vals),len(v_vals)))\n",
    "ax0.title.set_text('Exact error')\n",
    "ax1.title.set_text('2nd order approximation')\n",
    "ax2.title.set_text('3rd order approximation')\n",
    "ax3.title.set_text('4th order approximation')\n",
    "ax4.title.set_text('5th order approximation')\n",
    "fig.colorbar(im0, ax=ax0)\n",
    "fig.colorbar(im1, ax=ax1)\n",
    "fig.colorbar(im2, ax=ax2)\n",
    "fig.colorbar(im3, ax=ax3)\n",
    "fig.colorbar(im4, ax=ax4)\n",
    "plt.subplots_adjust(left=None, bottom=None, right=None, top=None, wspace=None, hspace=0.5)\n",
    "fig.set_size_inches(5, 18.5) #change these numbers to adjust the plots\n",
    "plt.show()"
   ]
  },
  {
   "cell_type": "code",
   "execution_count": 12,
   "metadata": {},
   "outputs": [
    {
     "data": {
      "text/plain": [
       "Text(0, 0.5, 'Error')"
      ]
     },
     "execution_count": 12,
     "metadata": {},
     "output_type": "execute_result"
    },
    {
     "data": {
      "image/png": "[encoded data removed]",
      "text/plain": [
       "<Figure size 432x288 with 1 Axes>"
      ]
     },
     "metadata": {
      "needs_background": "light"
     },
     "output_type": "display_data"
    }
   ],
   "source": [
    "#Plot the diagonal of the 2D plot above\n",
    "dia_err_exact = [err_exact.reshape(len(z_vals),len(v_vals))[i,i] for i in range(len(z_vals))]\n",
    "dia_err2 = [jnp.array(err_estimate2).reshape(len(z_vals),len(v_vals))[i,i] for i in range(len(z_vals))]\n",
    "dia_err3 = [jnp.array(err_estimate3).reshape(len(z_vals),len(v_vals))[i,i] for i in range(len(z_vals))]\n",
    "dia_err4 = [jnp.array(err_estimate4).reshape(len(z_vals),len(v_vals))[i,i] for i in range(len(z_vals))]\n",
    "dia_err5 = [jnp.array(err_estimate5).reshape(len(z_vals),len(v_vals))[i,i] for i in range(len(z_vals))]\n",
    "\n",
    "plt.plot(z_vals, dia_err2,label='2nd order Est')\n",
    "plt.plot(z_vals, dia_err3,label='3rd order Est')\n",
    "plt.plot(z_vals, dia_err4,label='4th order Est')\n",
    "plt.plot(z_vals, dia_err5,label='5th order Est')\n",
    "plt.plot(z_vals, dia_err_exact,label='Exact')\n",
    "plt.legend()\n",
    "plt.xlabel('Perturbation 1')\n",
    "plt.ylabel('Error')"
   ]
  },
  {
   "cell_type": "code",
   "execution_count": 13,
   "metadata": {},
   "outputs": [
    {
     "data": {
      "text/plain": [
       "Text(0, 0.5, 'Error')"
      ]
     },
     "execution_count": 13,
     "metadata": {},
     "output_type": "execute_result"
    },
    {
     "data": {
      "image/png": "[encoded data removed]",
      "text/plain": [
       "<Figure size 432x288 with 1 Axes>"
      ]
     },
     "metadata": {
      "needs_background": "light"
     },
     "output_type": "display_data"
    }
   ],
   "source": [
    "#Plot variation along vertical\n",
    "col = 15\n",
    "dia_err_exact = [err_exact.reshape(len(z_vals),len(v_vals))[i,col] for i in range(len(z_vals))]\n",
    "dia_err2 = [jnp.array(err_estimate2).reshape(len(z_vals),len(v_vals))[i,col] for i in range(len(z_vals))]\n",
    "dia_err3 = [jnp.array(err_estimate3).reshape(len(z_vals),len(v_vals))[i,col] for i in range(len(z_vals))]\n",
    "dia_err4 = [jnp.array(err_estimate4).reshape(len(z_vals),len(v_vals))[i,col] for i in range(len(z_vals))]\n",
    "dia_err5 = [jnp.array(err_estimate5).reshape(len(z_vals),len(v_vals))[i,col] for i in range(len(z_vals))]\n",
    "\n",
    "plt.plot(v_vals, dia_err2,label='2nd order Est')\n",
    "plt.plot(v_vals, dia_err3,label='3rd order Est')\n",
    "plt.plot(v_vals, dia_err4,label='4th order Est')\n",
    "plt.plot(v_vals, dia_err5,label='5th order Est')\n",
    "plt.plot(v_vals, dia_err_exact,label='Exact')\n",
    "plt.legend()\n",
    "plt.xlabel('Perturbation 2')\n",
    "plt.ylabel('Error')"
   ]
  },
  {
   "cell_type": "code",
   "execution_count": 14,
   "metadata": {},
   "outputs": [
    {
     "data": {
      "text/plain": [
       "Text(0, 0.5, 'Error')"
      ]
     },
     "execution_count": 14,
     "metadata": {},
     "output_type": "execute_result"
    },
    {
     "data": {
      "image/png": "[encoded data removed]",
      "text/plain": [
       "<Figure size 432x288 with 1 Axes>"
      ]
     },
     "metadata": {
      "needs_background": "light"
     },
     "output_type": "display_data"
    }
   ],
   "source": [
    "#Plot variation along horizontal\n",
    "row = 10\n",
    "dia_err_exact = [err_exact.reshape(len(z_vals),len(v_vals))[row,i] for i in range(len(z_vals))]\n",
    "dia_err2 = [jnp.array(err_estimate2).reshape(len(z_vals),len(v_vals))[row,i] for i in range(len(z_vals))]\n",
    "dia_err3 = [jnp.array(err_estimate3).reshape(len(z_vals),len(v_vals))[row,i] for i in range(len(z_vals))]\n",
    "dia_err4 = [jnp.array(err_estimate4).reshape(len(z_vals),len(v_vals))[row,i] for i in range(len(z_vals))]\n",
    "dia_err5 = [jnp.array(err_estimate5).reshape(len(z_vals),len(v_vals))[row,i] for i in range(len(z_vals))]\n",
    "\n",
    "plt.plot(z_vals, dia_err2,label='2nd order Est')\n",
    "plt.plot(z_vals, dia_err3,label='3rd order Est')\n",
    "plt.plot(z_vals, dia_err4,label='4th order Est')\n",
    "plt.plot(z_vals, dia_err5,label='5th order Est')\n",
    "plt.plot(z_vals, dia_err_exact,color='g',label='Exact')\n",
    "plt.legend()\n",
    "plt.xlabel('Perturbation 1')\n",
    "plt.ylabel('Error')"
   ]
  },
  {
   "cell_type": "markdown",
   "metadata": {},
   "source": [
    "## Compare the costs: use an approximate fid curve v.s. the exact fid curve in objective function"
   ]
  },
  {
   "cell_type": "code",
   "execution_count": 15,
   "metadata": {},
   "outputs": [],
   "source": [
    "#random inputs\n",
    "inputs = jnp.array(np.random.rand(10,2,5))\n",
    "\n",
    "#objective function defined with the approximate fid curve (2nd order)\n",
    "def obj1(param1, z_vals, v_vals):\n",
    "    sig1 = param_to_signal(param1)\n",
    "    pc1_ = DiscreteSignal(dt=dt_filter, samples=sig1[:,0],carrier_freq=0.)\n",
    "    pc2_ = DiscreteSignal(dt=dt_filter, samples=sig1[:,1],carrier_freq=0.)\n",
    "\n",
    "    def G_(t):#the generator\n",
    "        c1 = pc1_(t)\n",
    "        c2 = pc2_(t)\n",
    "        return -1j*(H0 + c1*Hc[0] + c2*Hc[1])\n",
    "\n",
    "    def A1_(t):\n",
    "        c1 = pc1_(t)\n",
    "        c2 = pc2_(t)\n",
    "        return -1j*(c1*Hc[0] + c2*Hc[1])\n",
    "    \n",
    "    results = solve_lmde_perturbation(A_list=[A0, A1_], # list of A matrices\n",
    "                             perturbation_method='symmetric_magnus',\n",
    "                             perturbation_order=5,\n",
    "                             t_span=[0, T], # integrate over one period of drive oscillation\n",
    "                             generator=G_, # generator\n",
    "                             y0=np.eye(dim), # initial state for base DE U'(t) = G(t)U(t)\n",
    "                             method='jax_odeint',\n",
    "                             rtol=tol, # standard solver arguments\n",
    "                             atol=tol)\n",
    "    U = results.y[-1]\n",
    "    #symmetric Magnus terms\n",
    "    M0 = results.perturbation_results[[0]][-1]\n",
    "    M1 = results.perturbation_results[[1]][-1]\n",
    "    M00 = results.perturbation_results[[0, 0]][-1]\n",
    "    M11 = results.perturbation_results[[1, 1]][-1]\n",
    "    M01 = results.perturbation_results[[0, 1]][-1]\n",
    "    M000 = results.perturbation_results[[0, 0, 0]][-1]\n",
    "    M001 = results.perturbation_results[[0, 0, 1]][-1]\n",
    "    M011 = results.perturbation_results[[0, 1, 1]][-1]\n",
    "    M111 = results.perturbation_results[[1, 1, 1]][-1]\n",
    "    M0000 = results.perturbation_results[[0, 0, 0, 0]][-1]\n",
    "    M0001 = results.perturbation_results[[0, 0, 0, 1]][-1]\n",
    "    M0011 = results.perturbation_results[[0, 0, 1, 1]][-1]\n",
    "    M0111 = results.perturbation_results[[0, 1, 1, 1]][-1]\n",
    "    M1111 = results.perturbation_results[[1, 1, 1, 1]][-1]\n",
    "    M00000 = results.perturbation_results[[0, 0, 0, 0, 0]][-1]\n",
    "    M00001 = results.perturbation_results[[0, 0, 0, 0, 1]][-1]\n",
    "    M00011 = results.perturbation_results[[0, 0, 0, 1, 1]][-1]\n",
    "    M00111 = results.perturbation_results[[0, 0, 1, 1, 1]][-1]\n",
    "    M01111 = results.perturbation_results[[0, 1, 1, 1, 1]][-1]\n",
    "    M11111 = results.perturbation_results[[1, 1, 1, 1, 1]][-1]\n",
    "    def err_est(args):\n",
    "        c1, c2 = args\n",
    "        c11 = c1 * c1\n",
    "        c12 = c1 * c2\n",
    "        c22 = c2 * c2\n",
    "        c111 = c1 * c11\n",
    "        c112 = c1 * c12\n",
    "        c122 = c1 * c22\n",
    "        c222 = c2 * c22\n",
    "        c1111 = c1 * c111\n",
    "        c1112 = c1 * c112\n",
    "        c1122 = c1 * c122\n",
    "        c1222 = c1 * c222\n",
    "        c2222 = c2 * c222\n",
    "        c11111 = c1 * c1111\n",
    "        c11112 = c1 * c1112\n",
    "        c11122 = c1 * c1122\n",
    "        c11222 = c1 * c1222\n",
    "        c12222 = c1 * c2222\n",
    "        c22222 = c2 * c2222\n",
    "        U_approx = U@expm(c1*M0 + c2*M1 \n",
    "                          + c12*M01 + c11*M00 + c22*M11\n",
    "                          +c111*M000+c222*M111+c112*M001+c122*M011\n",
    "                          + c1111 * M0000 + c1112 * M0001 + c1122 * M0011 + c1222 * M0111 + c2222 * M1111\n",
    "                         + c11111 * M00000 + c11112 * M00001 + c11122 * M00011 + c11222 * M00111 + c12222 * M01111 + c22222 * M11111)\n",
    "        fid = fid_func(U_approx)\n",
    "        return 1. - Array(fid).data \n",
    "    err_estimate = vmap(err_est)((jnp.tile(z_vals,len(v_vals)),jnp.repeat(v_vals,len(z_vals))))\n",
    "    return Array(jnp.sum(err_estimate)).data\n",
    "\n",
    "#objective function defined with the exact fid curve\n",
    "def obj2(param2, z_vals, v_vals):\n",
    "    sig2 = param_to_signal(param2)\n",
    "    pc1_ = DiscreteSignal(dt=dt_filter, samples=sig2[:,0],carrier_freq=0.)\n",
    "    pc2_ = DiscreteSignal(dt=dt_filter, samples=sig2[:,1],carrier_freq=0.)\n",
    "    \n",
    "    def exact_err(args):\n",
    "        c1,c2 = args\n",
    "        pc1_ = DiscreteSignal(dt=dt_filter, samples=(1+c2)*signal1,carrier_freq=0.)\n",
    "        pc2_ = DiscreteSignal(dt=dt_filter, samples=(1+c2)*signal2,carrier_freq=0.)\n",
    "        signals2 = [1., pc1_, pc2_, Array(c1)]\n",
    "        ham_copy = hamiltonian1.copy()\n",
    "        ham_copy.signals = signals2\n",
    "        time_results = solve_lmde(ham_copy, t_span=[0,T], y0=np.eye(dim), atol=tol, rtol=tol,method='jax_odeint')\n",
    "        return 1.- Array(fid_func(time_results.y[-1])).data\n",
    "    err_exact = vmap(exact_err)((jnp.tile(z_vals,len(v_vals)),jnp.repeat(v_vals,len(z_vals))))\n",
    "    return Array(jnp.sum(err_exact)).data"
   ]
  },
  {
   "cell_type": "code",
   "execution_count": 16,
   "metadata": {},
   "outputs": [],
   "source": [
    "from time import time"
   ]
  },
  {
   "cell_type": "code",
   "execution_count": 17,
   "metadata": {
    "scrolled": true
   },
   "outputs": [
    {
     "name": "stdout",
     "output_type": "stream",
     "text": [
      "Time to jit and run once: 32.0845832824707\n",
      "Average jitted run time: 4.934258408016628\n",
      "Average time including initial jit: 7.649290895462036\n"
     ]
    }
   ],
   "source": [
    "#time it takes to evaluate the approximation\n",
    "obj = lambda params: obj1(params, z_vals, v_vals)\n",
    "\n",
    "\n",
    "jit_obj = jit(value_and_grad(obj))\n",
    "\n",
    "start = time()\n",
    "val = jit_obj(inputs[0])[0].block_until_ready()\n",
    "jit_time = time() - start\n",
    "\n",
    "jitted_times = []\n",
    "for rand_in in inputs[1:]:\n",
    "    start = time()\n",
    "    val = jit_obj(rand_in)[0].block_until_ready()\n",
    "    jitted_times.append(time() - start)\n",
    "\n",
    "print('Time to jit and run once: ' + str(jit_time))\n",
    "print('Average jitted run time: ' + str(np.sum(jitted_times) / len(jitted_times)))\n",
    "print('Average time including initial jit: ' + str((np.sum(jitted_times) + jit_time) / (len(jitted_times) + 1)))"
   ]
  },
  {
   "cell_type": "code",
   "execution_count": 18,
   "metadata": {},
   "outputs": [
    {
     "name": "stdout",
     "output_type": "stream",
     "text": [
      "Time to jit and run once: 4.636971950531006\n",
      "Average jitted run time: 2.3945191436343722\n",
      "Average time including initial jit: 2.6187644243240356\n"
     ]
    }
   ],
   "source": [
    "#time it takes to evaluate the exact fid curve\n",
    "obj = lambda params: obj2(params, z_vals, v_vals)\n",
    "\n",
    "\n",
    "jit_obj = jit(value_and_grad(obj))\n",
    "\n",
    "start = time()\n",
    "val = jit_obj(inputs[0])[0].block_until_ready()\n",
    "jit_time = time() - start\n",
    "\n",
    "jitted_times = []\n",
    "for rand_in in inputs[1:]:\n",
    "    start = time()\n",
    "    val = jit_obj(rand_in)[0].block_until_ready()\n",
    "    jitted_times.append(time() - start)\n",
    "\n",
    "print('Time to jit and run once: ' + str(jit_time))\n",
    "print('Average jitted run time: ' + str(np.sum(jitted_times) / len(jitted_times)))\n",
    "print('Average time including initial jit: ' + str((np.sum(jitted_times) + jit_time) / (len(jitted_times) + 1)))"
   ]
  },
  {
   "cell_type": "markdown",
   "metadata": {},
   "source": [
    "## Plotting run-time increase with number of points\n",
    "\n",
    "Here we want to provide a visual representation of the scaling cost of the gradient computation as a function of the number of points. The cost of both will scale linearly, with the rate difference coming from the difference between doing a full ODE simulation v.s. doing a single exponential.\n",
    "\n",
    "The motivation for considering such a large number of points is not for this model, but for applications with many more uncertain parameters. E.g. a for model with $10$ uncertain parameters, even if only $3$ points along each parameter axis are used, this results in a grid of $3^{10} = 59049$ points. I'm realizing that the simulation below doesn't quite capture the scaling cost of this for the Magnus method as we would need to also compute many more Magnus terms. Should we update this? We could potentially do this \"artificially\" by just increasing the number of operators in the symmetric Magnus computation."
   ]
  },
  {
   "cell_type": "code",
   "execution_count": 19,
   "metadata": {},
   "outputs": [],
   "source": [
    "# Note: full simulation takes many hours to run with these numbers!!\n",
    "N_vals_sqrt = np.array(np.sqrt([10, 1e2, 1e3, 1e4, 1e5]), dtype=int)\n",
    "N_vals = N_vals_sqrt ** 2"
   ]
  },
  {
   "cell_type": "code",
   "execution_count": 20,
   "metadata": {},
   "outputs": [
    {
     "name": "stdout",
     "output_type": "stream",
     "text": [
      "Working on number 1/5\n",
      "Working on number 2/5\n",
      "Working on number 3/5\n",
      "Working on number 4/5\n",
      "Working on number 5/5\n"
     ]
    }
   ],
   "source": [
    "mag_jit_times = []\n",
    "mag_ave_times = []\n",
    "mag_ave_jitted_times = []\n",
    "\n",
    "for idx, N in enumerate(N_vals_sqrt):\n",
    "    print('Working on number ' + str(idx + 1) + '/' + str(len(N_vals)))\n",
    "    z_vals = jnp.linspace(-1.5 * drive_strength, 1.5 * drive_strength, int(N))\n",
    "    v_vals = jnp.linspace(-0.2, 0.2, len(z_vals))\n",
    "\n",
    "    obj = lambda params: obj1(params, z_vals, v_vals)\n",
    "    jit_obj = jit(value_and_grad(obj))\n",
    "\n",
    "    # measure time to jit/grad + one evaluation\n",
    "    start = time()\n",
    "    val = jit_obj(inputs[0])[0].block_until_ready()\n",
    "    mag_jit_times.append(time() - start)\n",
    "\n",
    "    # average jitted run time over multiple inputs\n",
    "    jitted_time = 0.\n",
    "    for rand_in in inputs[1:]:\n",
    "        start = time()\n",
    "        val = jit_obj(rand_in)[0].block_until_ready()\n",
    "        jitted_time += time() - start\n",
    "    \n",
    "    mag_ave_jitted_times.append(jitted_time / (len(inputs) - 1))\n",
    "    mag_ave_times.append((mag_jit_times[-1] + jitted_time) / len(inputs))"
   ]
  },
  {
   "cell_type": "markdown",
   "metadata": {},
   "source": [
    "Initial results:"
   ]
  },
  {
   "cell_type": "code",
   "execution_count": 21,
   "metadata": {},
   "outputs": [
    {
     "name": "stdout",
     "output_type": "stream",
     "text": [
      "[30.228678941726685, 33.75034284591675, 34.48591899871826, 34.30910611152649, 39.24224019050598]\n",
      "[7.029416704177857, 8.041097187995911, 9.104953074455262, 10.044741201400758, 14.666435980796814]\n",
      "[4.451720900005764, 5.184514337115818, 6.28484574953715, 7.348700655831231, 11.935791068606907]\n"
     ]
    }
   ],
   "source": [
    "print(mag_jit_times)\n",
    "print(mag_ave_times)\n",
    "print(mag_ave_jitted_times)"
   ]
  },
  {
   "cell_type": "code",
   "execution_count": 22,
   "metadata": {},
   "outputs": [
    {
     "name": "stdout",
     "output_type": "stream",
     "text": [
      "Working on number 1/5\n",
      "Working on number 2/5\n",
      "Working on number 3/5\n",
      "Working on number 4/5\n",
      "Working on number 5/5\n"
     ]
    }
   ],
   "source": [
    "point_jit_times = []\n",
    "point_ave_times = []\n",
    "point_ave_jitted_times = []\n",
    "\n",
    "for idx, N in enumerate(N_vals_sqrt):\n",
    "    print('Working on number ' + str(idx + 1) + '/' + str(len(N_vals)))\n",
    "    z_vals = jnp.linspace(-1.5 * drive_strength, 1.5 * drive_strength, int(N))\n",
    "    v_vals = jnp.linspace(-0.2, 0.2, len(z_vals))\n",
    "\n",
    "    obj = lambda params: obj2(params, z_vals, v_vals)\n",
    "    jit_obj = jit(value_and_grad(obj))\n",
    "\n",
    "    # measure time to jit/grad + one evaluation\n",
    "    start = time()\n",
    "    val = jit_obj(inputs[0])[0].block_until_ready()\n",
    "    point_jit_times.append(time() - start)\n",
    "\n",
    "    # average jitted run time over multiple inputs\n",
    "    jitted_time = 0.\n",
    "    for rand_in in inputs[1:]:\n",
    "        start = time()\n",
    "        val = jit_obj(rand_in)[0].block_until_ready()\n",
    "        jitted_time += time() - start\n",
    "    \n",
    "    point_ave_jitted_times.append(jitted_time / (len(inputs) - 1))\n",
    "    point_ave_times.append((point_jit_times[-1] + jitted_time) / len(inputs))"
   ]
  },
  {
   "cell_type": "code",
   "execution_count": 23,
   "metadata": {},
   "outputs": [
    {
     "name": "stdout",
     "output_type": "stream",
     "text": [
      "[2.645779848098755, 4.9146950244903564, 26.164633989334106, 267.00866293907166, 3024.2569847106934]\n",
      "[0.4502354860305786, 2.7230324029922484, 23.890185499191283, 271.6649610757828, 3046.201462960243]\n",
      "[0.2062861124674479, 2.479514333936903, 23.637469000286526, 272.18232753541736, 3048.6397383213043]\n"
     ]
    }
   ],
   "source": [
    "print(point_jit_times)\n",
    "print(point_ave_times)\n",
    "print(point_ave_jitted_times)"
   ]
  },
  {
   "cell_type": "code",
   "execution_count": 42,
   "metadata": {},
   "outputs": [
    {
     "data": {
      "text/plain": [
       "<matplotlib.legend.Legend at 0x7fbf8c9af730>"
      ]
     },
     "execution_count": 42,
     "metadata": {},
     "output_type": "execute_result"
    },
    {
     "data": {
      "image/png": "[encoded data removed]",
      "text/plain": [
       "<Figure size 432x288 with 1 Axes>"
      ]
     },
     "metadata": {
      "needs_background": "light"
     },
     "output_type": "display_data"
    }
   ],
   "source": [
    "plt.plot(N_vals, point_jit_times, label='point')\n",
    "plt.plot(N_vals, mag_jit_times, label='Magnus')\n",
    "plt.legend()"
   ]
  },
  {
   "cell_type": "code",
   "execution_count": 25,
   "metadata": {},
   "outputs": [
    {
     "data": {
      "text/plain": [
       "<matplotlib.legend.Legend at 0x7fbf72580460>"
      ]
     },
     "execution_count": 25,
     "metadata": {},
     "output_type": "execute_result"
    },
    {
     "data": {
      "image/png": "[encoded data removed]",
      "text/plain": [
       "<Figure size 432x288 with 1 Axes>"
      ]
     },
     "metadata": {
      "needs_background": "light"
     },
     "output_type": "display_data"
    }
   ],
   "source": [
    "plt.plot(N_vals, point_ave_times, label='point')\n",
    "plt.plot(N_vals, mag_ave_times, label='Magnus')\n",
    "plt.legend()"
   ]
  },
  {
   "cell_type": "code",
   "execution_count": 26,
   "metadata": {},
   "outputs": [
    {
     "data": {
      "text/plain": [
       "<matplotlib.legend.Legend at 0x7fbf388afe50>"
      ]
     },
     "execution_count": 26,
     "metadata": {},
     "output_type": "execute_result"
    },
    {
     "data": {
      "image/png": "[encoded data removed]",
      "text/plain": [
       "<Figure size 432x288 with 1 Axes>"
      ]
     },
     "metadata": {
      "needs_background": "light"
     },
     "output_type": "display_data"
    }
   ],
   "source": [
    "plt.plot(N_vals, point_ave_jitted_times, label='point')\n",
    "plt.plot(N_vals, mag_ave_jitted_times, label='Magnus')\n",
    "plt.legend()"
   ]
  },
  {
   "cell_type": "markdown",
   "metadata": {},
   "source": [
    "Perhaps the above graphs are not the best. Of course the results are good for the Magnus-based method, but visually, going up to `1e5` points doesn't demonstrate that, at low numbers, the direct simualtion is faster, but it has a way worse scaling constant. \n",
    "\n",
    "Trying out Log scale for both the x and y axis:"
   ]
  },
  {
   "cell_type": "code",
   "execution_count": 83,
   "metadata": {},
   "outputs": [
    {
     "data": {
      "text/plain": [
       "<matplotlib.legend.Legend at 0x7fbf997247f0>"
      ]
     },
     "execution_count": 83,
     "metadata": {},
     "output_type": "execute_result"
    },
    {
     "data": {
      "image/png": "[encoded data removed]",
      "text/plain": [
       "<Figure size 432x288 with 1 Axes>"
      ]
     },
     "metadata": {
      "needs_background": "light"
     },
     "output_type": "display_data"
    }
   ],
   "source": [
    "plt.plot(jnp.log10(N_vals), jnp.log10(jnp.array(point_jit_times)), label='point')\n",
    "plt.plot(jnp.log10(N_vals), jnp.log10(jnp.array(mag_jit_times)), label='Magnus')\n",
    "plt.legend()"
   ]
  },
  {
   "cell_type": "code",
   "execution_count": 84,
   "metadata": {},
   "outputs": [
    {
     "data": {
      "text/plain": [
       "<matplotlib.legend.Legend at 0x7fbf7295b850>"
      ]
     },
     "execution_count": 84,
     "metadata": {},
     "output_type": "execute_result"
    },
    {
     "data": {
      "image/png": "[encoded data removed]",
      "text/plain": [
       "<Figure size 432x288 with 1 Axes>"
      ]
     },
     "metadata": {
      "needs_background": "light"
     },
     "output_type": "display_data"
    }
   ],
   "source": [
    "plt.plot(jnp.log10(N_vals), jnp.log10(jnp.array(point_ave_times)), label='point')\n",
    "plt.plot(jnp.log10(N_vals), jnp.log10(jnp.array(mag_ave_times)), label='Magnus')\n",
    "plt.legend()"
   ]
  },
  {
   "cell_type": "code",
   "execution_count": 85,
   "metadata": {},
   "outputs": [
    {
     "data": {
      "text/plain": [
       "<matplotlib.legend.Legend at 0x7fbf8cfc8040>"
      ]
     },
     "execution_count": 85,
     "metadata": {},
     "output_type": "execute_result"
    },
    {
     "data": {
      "image/png": "[encoded data removed]",
      "text/plain": [
       "<Figure size 432x288 with 1 Axes>"
      ]
     },
     "metadata": {
      "needs_background": "light"
     },
     "output_type": "display_data"
    }
   ],
   "source": [
    "plt.plot(jnp.log10(N_vals), jnp.log10(jnp.array(point_ave_jitted_times)), label='point')\n",
    "plt.plot(jnp.log10(N_vals), jnp.log10(jnp.array(mag_ave_jitted_times)), label='Magnus')\n",
    "plt.legend()"
   ]
  },
  {
   "cell_type": "markdown",
   "metadata": {},
   "source": [
    "Considering just the averaged jitted times, it seems that the time-cost of adding a new point for the Magnus-based objective is roughly:"
   ]
  },
  {
   "cell_type": "code",
   "execution_count": 34,
   "metadata": {},
   "outputs": [
    {
     "data": {
      "text/plain": [
       "7.495538342264809e-05"
      ]
     },
     "execution_count": 34,
     "metadata": {},
     "output_type": "execute_result"
    }
   ],
   "source": [
    "(mag_ave_jitted_times[-1] - mag_ave_jitted_times[0]) / (N_vals[-1] - N_vals[0])"
   ]
  },
  {
   "cell_type": "markdown",
   "metadata": {},
   "source": [
    "Whereas for the full simulation based method is:"
   ]
  },
  {
   "cell_type": "code",
   "execution_count": 35,
   "metadata": {},
   "outputs": [
    {
     "data": {
      "text/plain": [
       "0.030531047024035144"
      ]
     },
     "execution_count": 35,
     "metadata": {},
     "output_type": "execute_result"
    }
   ],
   "source": [
    "(point_ave_jitted_times[-1] - point_ave_jitted_times[0]) / (N_vals[-1] - N_vals[0])"
   ]
  },
  {
   "cell_type": "markdown",
   "metadata": {},
   "source": [
    "giving a difference of $2-3$ orders of magnitude (I think, essentially, the difference between computing/differentiating an exponential, v.s. computing/differentiating the solution to a DE).\n",
    "\n",
    "Question: Is this a fair/meaningful comparison? Other points yield different results. I think in principle it should be linear, but practically it may not be (for better or worse)."
   ]
  },
  {
   "cell_type": "code",
   "execution_count": 39,
   "metadata": {},
   "outputs": [
    {
     "name": "stdout",
     "output_type": "stream",
     "text": [
      "0.0002899589386273113\n",
      "0.027222104035927324\n"
     ]
    }
   ],
   "source": [
    "print((mag_ave_jitted_times[-2] - mag_ave_jitted_times[0]) / (N_vals[-2] - N_vals[0]))\n",
    "print((point_ave_jitted_times[-2] - point_ave_jitted_times[0]) / (N_vals[-2] - N_vals[0]))"
   ]
  },
  {
   "cell_type": "code",
   "execution_count": 40,
   "metadata": {},
   "outputs": [
    {
     "name": "stdout",
     "output_type": "stream",
     "text": [
      "0.0019255513125329689\n",
      "0.024612587067036847\n"
     ]
    }
   ],
   "source": [
    "print((mag_ave_jitted_times[-3] - mag_ave_jitted_times[0]) / (N_vals[-3] - N_vals[0]))\n",
    "print((point_ave_jitted_times[-3] - point_ave_jitted_times[0]) / (N_vals[-3] - N_vals[0]))"
   ]
  },
  {
   "cell_type": "markdown",
   "metadata": {},
   "source": [
    "## Trying runtime increase scaling as perturbations increase\n",
    "\n",
    "The plots above are pretty compelling and I personally think they pretty much demonstrate what we need, however they can be criticized by the fact that one would never need to finely sample points to this degree along only two variations. For the direct simulation of each point this doesn't really matter as it's a full simulation either way, but for the Magnus-based objective it is a bit misleading as an increase in number of points will come from increasing the number of perturbations, and hence more terms will need to be computed.\n",
    "\n",
    "As a final ammendment to this demo, I think it makes sense to demonstrate scaling as we increase the number of parameters, but where each parameter is limited to some small number of sample points. I think $5$ sample points per variation is a good number: it's small enough to be a \"natural\" number of points that someone might use, but it will scale to $10^5$ points with much fewer parameters than $3$ points per variation would, and each parameter is a big cost in terms of implementation by hand.\n",
    "\n",
    "What parameters could be added?\n",
    "- Anharmonicity\n",
    "- phase-type errors\n",
    "- Other static errors - not sure how physically motivated this would be but it's fine to test numerical scaling\n",
    "\n",
    "Can do either 2nd or 3rd order Magnus."
   ]
  },
  {
   "cell_type": "code",
   "execution_count": 89,
   "metadata": {},
   "outputs": [
    {
     "data": {
      "text/plain": [
       "15625"
      ]
     },
     "execution_count": 89,
     "metadata": {},
     "output_type": "execute_result"
    }
   ],
   "source": [
    "5**6"
   ]
  },
  {
   "cell_type": "code",
   "execution_count": 91,
   "metadata": {},
   "outputs": [
    {
     "data": {
      "text/plain": [
       "19683"
      ]
     },
     "execution_count": 91,
     "metadata": {},
     "output_type": "execute_result"
    }
   ],
   "source": [
    "3**9"
   ]
  },
  {
   "cell_type": "code",
   "execution_count": 17,
   "metadata": {},
   "outputs": [],
   "source": [
    "\n",
    "# drift Hamiltonian on resonance\n",
    "H0 = Array(np.pi * anharm * numb * (numb - jnp.eye(dim)))\n",
    "\n",
    "# control terms - X and Y multiplied by 2 pi * drive_strength\n",
    "Hc = Array(2 * np.pi * drive_strength * jnp.array([osc_X, osc_Y]))\n",
    "perturb0 = Array(-1j*2*np.pi*numb)\n",
    "perturb2 = Array(-1j * np.pi * numb * (numb - jnp.eye(dim)))\n",
    "perturb3 = Array(-1j * 2 * np.pi * osc_X)\n",
    "perturb4 = Array(-1j * 2 * np.pi * osc_Y)\n",
    "perturb5 = Array(-1j * 2 * np.pi * (osc_X + osc_Y))"
   ]
  },
  {
   "cell_type": "code",
   "execution_count": 18,
   "metadata": {},
   "outputs": [],
   "source": [
    "#objective function defined with the approximate fid curve (2nd order)\n",
    "def magnus_obj0(param1, p0_vals):\n",
    "    sig1 = param_to_signal(param1)\n",
    "    pc1_ = DiscreteSignal(dt=dt_filter, samples=sig1[:,0],carrier_freq=0.)\n",
    "    pc2_ = DiscreteSignal(dt=dt_filter, samples=sig1[:,1],carrier_freq=0.)\n",
    "\n",
    "    def G_(t):#the generator\n",
    "        c1 = pc1_(t)\n",
    "        c2 = pc2_(t)\n",
    "        return -1j*(H0 + c1*Hc[0] + c2*Hc[1])\n",
    "    \n",
    "    results = solve_lmde_perturbation(A_list=[A0], # list of A matrices\n",
    "                             perturbation_method='symmetric_magnus',\n",
    "                             perturbation_order=3,\n",
    "                             t_span=[0, T], # integrate over one period of drive oscillation\n",
    "                             generator=G_, # generator\n",
    "                             y0=np.eye(dim), # initial state for base DE U'(t) = G(t)U(t)\n",
    "                             method='jax_odeint',\n",
    "                             rtol=tol, # standard solver arguments\n",
    "                             atol=tol)\n",
    "    U = results.y[-1]\n",
    "    #symmetric Magnus terms\n",
    "    M0 = results.perturbation_results[[0]][-1]\n",
    "    M00 = results.perturbation_results[[0, 0]][-1]\n",
    "    M000 = results.perturbation_results[[0, 0, 0]][-1]\n",
    "    def err_est(args):\n",
    "        c0 = args\n",
    "        c00 = c0 * c0\n",
    "        c000 = c0 * c00\n",
    "        approx_gen = (c0 * M0\n",
    "                      + c00 * M00\n",
    "                      + c000 * M000)\n",
    "        U_approx = U@expm(approx_gen)\n",
    "        fid = fid_func(U_approx)\n",
    "        return 1. - Array(fid).data\n",
    "    err_estimate = vmap(err_est)(p0_vals)\n",
    "    return Array(jnp.sum(err_estimate)).data / 5\n",
    "\n",
    "#objective function defined with the approximate fid curve (2nd order)\n",
    "def magnus_obj1(param1, p0_vals, p1_vals):\n",
    "    sig1 = param_to_signal(param1)\n",
    "    pc1_ = DiscreteSignal(dt=dt_filter, samples=sig1[:,0],carrier_freq=0.)\n",
    "    pc2_ = DiscreteSignal(dt=dt_filter, samples=sig1[:,1],carrier_freq=0.)\n",
    "\n",
    "    def G_(t):#the generator\n",
    "        c1 = pc1_(t)\n",
    "        c2 = pc2_(t)\n",
    "        return -1j*(H0 + c1*Hc[0] + c2*Hc[1])\n",
    "\n",
    "    def A1_(t):\n",
    "        c1 = pc1_(t)\n",
    "        c2 = pc2_(t)\n",
    "        return -1j*(c1*Hc[0] + c2*Hc[1])\n",
    "    \n",
    "    results = solve_lmde_perturbation(A_list=[A0, A1_], # list of A matrices\n",
    "                             perturbation_method='symmetric_magnus',\n",
    "                             perturbation_order=3,\n",
    "                             t_span=[0, T], # integrate over one period of drive oscillation\n",
    "                             generator=G_, # generator\n",
    "                             y0=np.eye(dim), # initial state for base DE U'(t) = G(t)U(t)\n",
    "                             method='jax_odeint',\n",
    "                             rtol=tol, # standard solver arguments\n",
    "                             atol=tol)\n",
    "    U = results.y[-1]\n",
    "    #symmetric Magnus terms\n",
    "    M0 = results.perturbation_results[[0]][-1]\n",
    "    M1 = results.perturbation_results[[1]][-1]\n",
    "    M00 = results.perturbation_results[[0, 0]][-1]\n",
    "    M01 = results.perturbation_results[[0, 1]][-1]\n",
    "    M11 = results.perturbation_results[[1, 1]][-1]\n",
    "    M000 = results.perturbation_results[[0, 0, 0]][-1]\n",
    "    M001 = results.perturbation_results[[0, 0, 1]][-1]\n",
    "    M011 = results.perturbation_results[[0, 1, 1]][-1]\n",
    "    M111 = results.perturbation_results[[1, 1, 1]][-1]\n",
    "    def err_est(args):\n",
    "        c0, c1 = args\n",
    "        c00 = c0 * c0\n",
    "        c01 = c0 * c1\n",
    "        c11 = c1 * c1\n",
    "        c000 = c0 * c00\n",
    "        c001 = c0 * c01\n",
    "        c011 = c0 * c11\n",
    "        c111 = c1 * c11\n",
    "        approx_gen = (c0 * M0 + c1 * M1\n",
    "                      + c00 * M00 + c01 * M01 + c11 * M11\n",
    "                      + c000 * M000 + c001 * M001 + c011 * M011 + c111 * M111)\n",
    "        U_approx = U@expm(approx_gen)\n",
    "        fid = fid_func(U_approx)\n",
    "        return 1. - Array(fid).data \n",
    "    p0_repeated = jnp.kron(p0_vals, jnp.ones(5))\n",
    "    p1_repeated = jnp.kron(jnp.ones(5), p1_vals)\n",
    "    err_estimate = vmap(err_est)((p0_repeated ,p1_repeated))\n",
    "    return Array(jnp.sum(err_estimate)).data / (5**2)\n",
    "\n",
    "#objective function defined with the approximate fid curve (2nd order)\n",
    "def magnus_obj2(param1, p0_vals, p1_vals, p2_vals):\n",
    "    sig1 = param_to_signal(param1)\n",
    "    pc1_ = DiscreteSignal(dt=dt_filter, samples=sig1[:,0],carrier_freq=0.)\n",
    "    pc2_ = DiscreteSignal(dt=dt_filter, samples=sig1[:,1],carrier_freq=0.)\n",
    "\n",
    "    def G_(t):#the generator\n",
    "        c1 = pc1_(t)\n",
    "        c2 = pc2_(t)\n",
    "        return -1j*(H0 + c1*Hc[0] + c2*Hc[1])\n",
    "\n",
    "    def A1_(t):\n",
    "        c1 = pc1_(t)\n",
    "        c2 = pc2_(t)\n",
    "        return -1j*(c1*Hc[0] + c2*Hc[1])\n",
    "\n",
    "    def A2_(t):\n",
    "        return perturb2\n",
    "    \n",
    "    results = solve_lmde_perturbation(A_list=[A0, A1_, A2_], # list of A matrices\n",
    "                             perturbation_method='symmetric_magnus',\n",
    "                             perturbation_order=3,\n",
    "                             t_span=[0, T], # integrate over one period of drive oscillation\n",
    "                             generator=G_, # generator\n",
    "                             y0=np.eye(dim), # initial state for base DE U'(t) = G(t)U(t)\n",
    "                             method='jax_odeint',\n",
    "                             rtol=tol, # standard solver arguments\n",
    "                             atol=tol)\n",
    "    U = results.y[-1]\n",
    "    #symmetric Magnus terms\n",
    "    M0 = results.perturbation_results[[0]][-1]\n",
    "    M1 = results.perturbation_results[[1]][-1]\n",
    "    M2 = results.perturbation_results[[2]][-1]\n",
    "    M00 = results.perturbation_results[[0, 0]][-1]\n",
    "    M01 = results.perturbation_results[[0, 1]][-1]\n",
    "    M02 = results.perturbation_results[[0, 2]][-1]\n",
    "    M11 = results.perturbation_results[[1, 1]][-1]\n",
    "    M12 = results.perturbation_results[[1, 2]][-1]\n",
    "    M22 = results.perturbation_results[[2, 2]][-1]\n",
    "    M000 = results.perturbation_results[[0, 0, 0]][-1]\n",
    "    M001 = results.perturbation_results[[0, 0, 1]][-1]\n",
    "    M002 = results.perturbation_results[[0, 0, 2]][-1]\n",
    "    M011 = results.perturbation_results[[0, 1, 1]][-1]\n",
    "    M012 = results.perturbation_results[[0, 1, 2]][-1]\n",
    "    M022 = results.perturbation_results[[0, 2, 2]][-1]\n",
    "    M111 = results.perturbation_results[[1, 1, 1]][-1]\n",
    "    M112 = results.perturbation_results[[1, 1, 2]][-1]\n",
    "    M122 = results.perturbation_results[[1, 2, 2]][-1]\n",
    "    M222 = results.perturbation_results[[2, 2, 2]][-1]\n",
    "    def err_est(args):\n",
    "        c0, c1, c2 = args\n",
    "        c00 = c0 * c0\n",
    "        c01 = c0 * c1\n",
    "        c02 = c0 * c2\n",
    "        c11 = c1 * c1\n",
    "        c12 = c1 * c2\n",
    "        c22 = c2 * c2\n",
    "        c000 = c0 * c00\n",
    "        c001 = c0 * c01\n",
    "        c002 = c0 * c02\n",
    "        c011 = c0 * c11\n",
    "        c012 = c0 * c12\n",
    "        c022 = c0 * c22\n",
    "        c111 = c1 * c11\n",
    "        c112 = c1 * c12\n",
    "        c122 = c1 * c22\n",
    "        c222 = c2 * c22\n",
    "        approx_gen = (c0 * M0 \n",
    "                      + c1 * M1 \n",
    "                      + c2 * M2\n",
    "                      + c00 * M00 \n",
    "                      + c01 * M01 \n",
    "                      + c02 * M02 \n",
    "                      + c11 * M11\n",
    "                      + c12 * M12\n",
    "                      + c22 * M22\n",
    "                      + c000 * M000 \n",
    "                      + c001 * M001\n",
    "                      + c002 * M002\n",
    "                      + c011 * M011\n",
    "                      + c012 * M012\n",
    "                      + c022 * M022\n",
    "                      + c111 * M111\n",
    "                      + c112 * M112\n",
    "                      + c122 * M122\n",
    "                      + c222 * M222)\n",
    "        U_approx = U@expm(approx_gen)\n",
    "        fid = fid_func(U_approx)\n",
    "        return 1. - Array(fid).data \n",
    "    p0_repeated = jnp.kron(p0_vals, jnp.ones(25))\n",
    "    p1_repeated = jnp.kron(jnp.kron(jnp.ones(5), p1_vals), jnp.ones(5))\n",
    "    p2_repeated = jnp.kron(jnp.ones(25), p2_vals)\n",
    "    err_estimate = vmap(err_est)((p0_repeated, p1_repeated, p2_repeated))\n",
    "    return Array(jnp.sum(err_estimate)).data / (5**3)\n",
    "\n",
    "#objective function defined with the approximate fid curve (2nd order)\n",
    "def magnus_obj3(param1, p0_vals, p1_vals, p2_vals, p3_vals):\n",
    "    sig1 = param_to_signal(param1)\n",
    "    pc1_ = DiscreteSignal(dt=dt_filter, samples=sig1[:,0],carrier_freq=0.)\n",
    "    pc2_ = DiscreteSignal(dt=dt_filter, samples=sig1[:,1],carrier_freq=0.)\n",
    "\n",
    "    def G_(t):#the generator\n",
    "        c1 = pc1_(t)\n",
    "        c2 = pc2_(t)\n",
    "        return -1j*(H0 + c1*Hc[0] + c2*Hc[1])\n",
    "\n",
    "    def A1_(t):\n",
    "        c1 = pc1_(t)\n",
    "        c2 = pc2_(t)\n",
    "        return -1j*(c1*Hc[0] + c2*Hc[1])\n",
    "\n",
    "    def A2_(t):\n",
    "        return perturb2\n",
    "\n",
    "    def A3_(t):\n",
    "        return perturb3\n",
    "    \n",
    "    results = solve_lmde_perturbation(A_list=[A0, A1_, A2_, A3_], # list of A matrices\n",
    "                             perturbation_method='symmetric_magnus',\n",
    "                             perturbation_order=3,\n",
    "                             t_span=[0, T], # integrate over one period of drive oscillation\n",
    "                             generator=G_, # generator\n",
    "                             y0=np.eye(dim), # initial state for base DE U'(t) = G(t)U(t)\n",
    "                             method='jax_odeint',\n",
    "                             rtol=tol, # standard solver arguments\n",
    "                             atol=tol)\n",
    "    U = results.y[-1]\n",
    "    #symmetric Magnus terms\n",
    "    M0 = results.perturbation_results[[0]][-1]\n",
    "    M1 = results.perturbation_results[[1]][-1]\n",
    "    M2 = results.perturbation_results[[2]][-1]\n",
    "    M3 = results.perturbation_results[[3]][-1]\n",
    "    M00 = results.perturbation_results[[0, 0]][-1]\n",
    "    M01 = results.perturbation_results[[0, 1]][-1]\n",
    "    M02 = results.perturbation_results[[0, 2]][-1]\n",
    "    M03 = results.perturbation_results[[0, 3]][-1]\n",
    "    M11 = results.perturbation_results[[1, 1]][-1]\n",
    "    M12 = results.perturbation_results[[1, 2]][-1]\n",
    "    M13 = results.perturbation_results[[1, 3]][-1]\n",
    "    M22 = results.perturbation_results[[2, 2]][-1]\n",
    "    M23 = results.perturbation_results[[2, 3]][-1]\n",
    "    M33 = results.perturbation_results[[3, 3]][-1]\n",
    "    M000 = results.perturbation_results[[0, 0, 0]][-1]\n",
    "    M001 = results.perturbation_results[[0, 0, 1]][-1]\n",
    "    M002 = results.perturbation_results[[0, 0, 2]][-1]\n",
    "    M003 = results.perturbation_results[[0, 0, 3]][-1]\n",
    "    M011 = results.perturbation_results[[0, 1, 1]][-1]\n",
    "    M012 = results.perturbation_results[[0, 1, 2]][-1]\n",
    "    M013 = results.perturbation_results[[0, 1, 3]][-1]\n",
    "    M022 = results.perturbation_results[[0, 2, 2]][-1]\n",
    "    M023 = results.perturbation_results[[0, 2, 3]][-1]\n",
    "    M033 = results.perturbation_results[[0, 3, 3]][-1]\n",
    "    M111 = results.perturbation_results[[1, 1, 1]][-1]\n",
    "    M112 = results.perturbation_results[[1, 1, 2]][-1]\n",
    "    M113 = results.perturbation_results[[1, 1, 3]][-1]\n",
    "    M122 = results.perturbation_results[[1, 2, 2]][-1]\n",
    "    M123 = results.perturbation_results[[1, 2, 3]][-1]\n",
    "    M133 = results.perturbation_results[[1, 3, 3]][-1]\n",
    "    M222 = results.perturbation_results[[2, 2, 2]][-1]\n",
    "    M223 = results.perturbation_results[[2, 2, 3]][-1]\n",
    "    M233 = results.perturbation_results[[2, 3, 3]][-1]\n",
    "    M333 = results.perturbation_results[[3, 3, 3]][-1]\n",
    "    def err_est(args):\n",
    "        c0, c1, c2, c3 = args\n",
    "        c00 = c0 * c0\n",
    "        c01 = c0 * c1\n",
    "        c02 = c0 * c2\n",
    "        c03 = c0 * c3\n",
    "        c11 = c1 * c1\n",
    "        c12 = c1 * c2\n",
    "        c13 = c1 * c3\n",
    "        c22 = c2 * c2\n",
    "        c23 = c2 * c3\n",
    "        c33 = c3 * c3\n",
    "        c000 = c0 * c00\n",
    "        c001 = c0 * c01\n",
    "        c002 = c0 * c02\n",
    "        c003 = c0 * c03\n",
    "        c011 = c0 * c11\n",
    "        c012 = c0 * c12\n",
    "        c013 = c0 * c13\n",
    "        c022 = c0 * c22\n",
    "        c023 = c0 * c23\n",
    "        c033 = c0 * c33\n",
    "        c111 = c1 * c11\n",
    "        c112 = c1 * c12\n",
    "        c113 = c1 * c13\n",
    "        c122 = c1 * c22\n",
    "        c123 = c1 * c23\n",
    "        c133 = c1 * c33\n",
    "        c222 = c2 * c22\n",
    "        c223 = c2 * c23\n",
    "        c233 = c2 * c33\n",
    "        c333 = c3 * c33\n",
    "        approx_gen = (c0 * M0 \n",
    "                      + c1 * M1 \n",
    "                      + c2 * M2\n",
    "                      + c3 * M3\n",
    "                      + c00 * M00 \n",
    "                      + c01 * M01 \n",
    "                      + c02 * M02\n",
    "                      + c03 * M03 \n",
    "                      + c11 * M11\n",
    "                      + c12 * M12\n",
    "                      + c13 * M13\n",
    "                      + c22 * M22\n",
    "                      + c23 * M23\n",
    "                      + c33 * M33\n",
    "                      + c000 * M000 \n",
    "                      + c001 * M001\n",
    "                      + c002 * M002\n",
    "                      + c003 * M003\n",
    "                      + c011 * M011\n",
    "                      + c012 * M012\n",
    "                      + c013 * M013\n",
    "                      + c022 * M022\n",
    "                      + c023 * M023\n",
    "                      + c033 * M033\n",
    "                      + c111 * M111\n",
    "                      + c112 * M112\n",
    "                      + c113 * M113\n",
    "                      + c122 * M122\n",
    "                      + c123 * M123\n",
    "                      + c133 * M133\n",
    "                      + c222 * M222\n",
    "                      + c223 * M223\n",
    "                      + c233 * M233\n",
    "                      + c333 * M333)\n",
    "        U_approx = U@expm(approx_gen)\n",
    "        fid = fid_func(U_approx)\n",
    "        return 1. - Array(fid).data \n",
    "    p0_repeated = jnp.kron(p0_vals, jnp.ones(5**3))\n",
    "    p1_repeated = jnp.kron(jnp.kron(jnp.ones(5), p1_vals), jnp.ones(5**2))\n",
    "    p2_repeated = jnp.kron(jnp.kron(jnp.ones(5**2), p2_vals), jnp.ones(5))\n",
    "    p3_repeated = jnp.kron(jnp.ones(5**3), p3_vals)\n",
    "    err_estimate = vmap(err_est)((p0_repeated, p1_repeated, p2_repeated, p3_repeated))\n",
    "    return Array(jnp.sum(err_estimate)).data / (5**4)\n",
    "\n",
    "\n",
    "#objective function defined with the approximate fid curve (2nd order)\n",
    "def magnus_obj4(param1, p0_vals, p1_vals, p2_vals, p3_vals, p4_vals):\n",
    "    sig1 = param_to_signal(param1)\n",
    "    pc1_ = DiscreteSignal(dt=dt_filter, samples=sig1[:,0],carrier_freq=0.)\n",
    "    pc2_ = DiscreteSignal(dt=dt_filter, samples=sig1[:,1],carrier_freq=0.)\n",
    "\n",
    "    def G_(t):#the generator\n",
    "        c1 = pc1_(t)\n",
    "        c2 = pc2_(t)\n",
    "        return -1j*(H0 + c1*Hc[0] + c2*Hc[1])\n",
    "\n",
    "    def A1_(t):\n",
    "        c1 = pc1_(t)\n",
    "        c2 = pc2_(t)\n",
    "        return -1j*(c1*Hc[0] + c2*Hc[1])\n",
    "\n",
    "    def A2_(t):\n",
    "        return perturb2\n",
    "\n",
    "    def A3_(t):\n",
    "        return perturb3\n",
    "\n",
    "    def A4_(t):\n",
    "        return perturb4\n",
    "    \n",
    "    results = solve_lmde_perturbation(A_list=[A0, A1_, A2_, A3_, A4_], # list of A matrices\n",
    "                             perturbation_method='symmetric_magnus',\n",
    "                             perturbation_order=3,\n",
    "                             t_span=[0, T], # integrate over one period of drive oscillation\n",
    "                             generator=G_, # generator\n",
    "                             y0=np.eye(dim), # initial state for base DE U'(t) = G(t)U(t)\n",
    "                             method='jax_odeint',\n",
    "                             rtol=tol, # standard solver arguments\n",
    "                             atol=tol)\n",
    "    U = results.y[-1]\n",
    "    #symmetric Magnus terms\n",
    "    M0 = results.perturbation_results[[0]][-1]\n",
    "    M1 = results.perturbation_results[[1]][-1]\n",
    "    M2 = results.perturbation_results[[2]][-1]\n",
    "    M3 = results.perturbation_results[[3]][-1]\n",
    "    M4 = results.perturbation_results[[4]][-1]\n",
    "    M00 = results.perturbation_results[[0, 0]][-1]\n",
    "    M01 = results.perturbation_results[[0, 1]][-1]\n",
    "    M02 = results.perturbation_results[[0, 2]][-1]\n",
    "    M03 = results.perturbation_results[[0, 3]][-1]\n",
    "    M04 = results.perturbation_results[[0, 4]][-1]\n",
    "    M11 = results.perturbation_results[[1, 1]][-1]\n",
    "    M12 = results.perturbation_results[[1, 2]][-1]\n",
    "    M13 = results.perturbation_results[[1, 3]][-1]\n",
    "    M14 = results.perturbation_results[[1, 4]][-1]\n",
    "    M22 = results.perturbation_results[[2, 2]][-1]\n",
    "    M23 = results.perturbation_results[[2, 3]][-1]\n",
    "    M24 = results.perturbation_results[[2, 4]][-1]\n",
    "    M33 = results.perturbation_results[[3, 3]][-1]\n",
    "    M34 = results.perturbation_results[[3, 4]][-1]\n",
    "    M44 = results.perturbation_results[[4, 4]][-1]\n",
    "    M000 = results.perturbation_results[[0, 0, 0]][-1]\n",
    "    M001 = results.perturbation_results[[0, 0, 1]][-1]\n",
    "    M002 = results.perturbation_results[[0, 0, 2]][-1]\n",
    "    M003 = results.perturbation_results[[0, 0, 3]][-1]\n",
    "    M004 = results.perturbation_results[[0, 0, 4]][-1]\n",
    "    M011 = results.perturbation_results[[0, 1, 1]][-1]\n",
    "    M012 = results.perturbation_results[[0, 1, 2]][-1]\n",
    "    M013 = results.perturbation_results[[0, 1, 3]][-1]\n",
    "    M014 = results.perturbation_results[[0, 1, 4]][-1]\n",
    "    M022 = results.perturbation_results[[0, 2, 2]][-1]\n",
    "    M023 = results.perturbation_results[[0, 2, 3]][-1]\n",
    "    M024 = results.perturbation_results[[0, 2, 4]][-1]\n",
    "    M033 = results.perturbation_results[[0, 3, 3]][-1]\n",
    "    M034 = results.perturbation_results[[0, 3, 4]][-1]\n",
    "    M044 = results.perturbation_results[[0, 4, 4]][-1]\n",
    "    M111 = results.perturbation_results[[1, 1, 1]][-1]\n",
    "    M112 = results.perturbation_results[[1, 1, 2]][-1]\n",
    "    M113 = results.perturbation_results[[1, 1, 3]][-1]\n",
    "    M114 = results.perturbation_results[[1, 1, 4]][-1]\n",
    "    M122 = results.perturbation_results[[1, 2, 2]][-1]\n",
    "    M123 = results.perturbation_results[[1, 2, 3]][-1]\n",
    "    M124 = results.perturbation_results[[1, 2, 4]][-1]\n",
    "    M133 = results.perturbation_results[[1, 3, 3]][-1]\n",
    "    M134 = results.perturbation_results[[1, 3, 4]][-1]\n",
    "    M144 = results.perturbation_results[[1, 4, 4]][-1]\n",
    "    M222 = results.perturbation_results[[2, 2, 2]][-1]\n",
    "    M223 = results.perturbation_results[[2, 2, 3]][-1]\n",
    "    M224 = results.perturbation_results[[2, 2, 4]][-1]\n",
    "    M233 = results.perturbation_results[[2, 3, 3]][-1]\n",
    "    M234 = results.perturbation_results[[2, 3, 4]][-1]\n",
    "    M244 = results.perturbation_results[[2, 4, 4]][-1]\n",
    "    M333 = results.perturbation_results[[3, 3, 3]][-1]\n",
    "    M334 = results.perturbation_results[[3, 3, 4]][-1]\n",
    "    M344 = results.perturbation_results[[3, 4, 4]][-1]\n",
    "    M444 = results.perturbation_results[[4, 4, 4]][-1]\n",
    "    def err_est(args):\n",
    "        c0, c1, c2, c3, c4 = args\n",
    "        c00 = c0 * c0\n",
    "        c01 = c0 * c1\n",
    "        c02 = c0 * c2\n",
    "        c03 = c0 * c3\n",
    "        c04 = c0 * c4\n",
    "        c11 = c1 * c1\n",
    "        c12 = c1 * c2\n",
    "        c13 = c1 * c3\n",
    "        c14 = c1 * c4\n",
    "        c22 = c2 * c2\n",
    "        c23 = c2 * c3\n",
    "        c24 = c2 * c4\n",
    "        c33 = c3 * c3\n",
    "        c34 = c3 * c4\n",
    "        c44 = c4 * c4\n",
    "        c000 = c0 * c00\n",
    "        c001 = c0 * c01\n",
    "        c002 = c0 * c02\n",
    "        c003 = c0 * c03\n",
    "        c004 = c0 * c04\n",
    "        c011 = c0 * c11\n",
    "        c012 = c0 * c12\n",
    "        c013 = c0 * c13\n",
    "        c014 = c0 * c14\n",
    "        c022 = c0 * c22\n",
    "        c023 = c0 * c23\n",
    "        c024 = c0 * c24\n",
    "        c033 = c0 * c33\n",
    "        c034 = c0 * c34\n",
    "        c044 = c0 * c44\n",
    "        c111 = c1 * c11\n",
    "        c112 = c1 * c12\n",
    "        c113 = c1 * c13\n",
    "        c114 = c1 * c14\n",
    "        c122 = c1 * c22\n",
    "        c123 = c1 * c23\n",
    "        c124 = c1 * c24\n",
    "        c133 = c1 * c33\n",
    "        c134 = c1 * c34\n",
    "        c144 = c1 * c44\n",
    "        c222 = c2 * c22\n",
    "        c223 = c2 * c23\n",
    "        c224 = c2 * c24\n",
    "        c233 = c2 * c33\n",
    "        c234 = c2 * c34\n",
    "        c244 = c2 * c44\n",
    "        c333 = c3 * c33\n",
    "        c334 = c3 * c34\n",
    "        c344 = c3 * c44\n",
    "        c444 = c4 * c44\n",
    "        approx_gen = (c0 * M0 \n",
    "                      + c1 * M1 \n",
    "                      + c2 * M2\n",
    "                      + c3 * M3\n",
    "                      + c4 * M4\n",
    "                      + c00 * M00 \n",
    "                      + c01 * M01 \n",
    "                      + c02 * M02\n",
    "                      + c03 * M03\n",
    "                      + c04 * M04\n",
    "                      + c11 * M11\n",
    "                      + c12 * M12\n",
    "                      + c13 * M13\n",
    "                      + c14 * M14\n",
    "                      + c22 * M22\n",
    "                      + c23 * M23\n",
    "                      + c24 * M24\n",
    "                      + c33 * M33\n",
    "                      + c34 * M34\n",
    "                      + c44 * M44\n",
    "                      + c000 * M000 \n",
    "                      + c001 * M001\n",
    "                      + c002 * M002\n",
    "                      + c003 * M003\n",
    "                      + c004 * M004\n",
    "                      + c011 * M011\n",
    "                      + c012 * M012\n",
    "                      + c013 * M013\n",
    "                      + c014 * M014\n",
    "                      + c022 * M022\n",
    "                      + c023 * M023\n",
    "                      + c024 * M024\n",
    "                      + c033 * M033\n",
    "                      + c034 * M034\n",
    "                      + c044 * M044\n",
    "                      + c111 * M111\n",
    "                      + c112 * M112\n",
    "                      + c113 * M113\n",
    "                      + c114 * M114\n",
    "                      + c122 * M122\n",
    "                      + c123 * M123\n",
    "                      + c124 * M124\n",
    "                      + c133 * M133\n",
    "                      + c134 * M134\n",
    "                      + c144 * M144\n",
    "                      + c222 * M222\n",
    "                      + c223 * M223\n",
    "                      + c224 * M224\n",
    "                      + c233 * M233\n",
    "                      + c234 * M234\n",
    "                      + c244 * M244\n",
    "                      + c333 * M333\n",
    "                      + c334 * M334\n",
    "                      + c344 * M344\n",
    "                      + c444 * M444)\n",
    "        U_approx = U@expm(approx_gen)\n",
    "        fid = fid_func(U_approx)\n",
    "        return 1. - Array(fid).data \n",
    "    p0_repeated = jnp.kron(p0_vals, jnp.ones(5**4))\n",
    "    p1_repeated = jnp.kron(jnp.kron(jnp.ones(5), p1_vals), jnp.ones(5**3))\n",
    "    p2_repeated = jnp.kron(jnp.kron(jnp.ones(5**2), p2_vals), jnp.ones(5**2))\n",
    "    p3_repeated = jnp.kron(jnp.kron(jnp.ones(5**3), p3_vals), jnp.ones(5))\n",
    "    p4_repeated = jnp.kron(jnp.ones(5**4), p4_vals)\n",
    "    err_estimate = vmap(err_est)((p0_repeated, p1_repeated, p2_repeated, p3_repeated, p4_repeated))\n",
    "    return Array(jnp.sum(err_estimate)).data / (5**5)\n",
    "\n",
    "def magnus_obj5(param1, p0_vals, p1_vals, p2_vals, p3_vals, p4_vals, p5_vals):\n",
    "    sig1 = param_to_signal(param1)\n",
    "    pc1_ = DiscreteSignal(dt=dt_filter, samples=sig1[:,0],carrier_freq=0.)\n",
    "    pc2_ = DiscreteSignal(dt=dt_filter, samples=sig1[:,1],carrier_freq=0.)\n",
    "\n",
    "    def G_(t):#the generator\n",
    "        c1 = pc1_(t)\n",
    "        c2 = pc2_(t)\n",
    "        return -1j*(H0 + c1*Hc[0] + c2*Hc[1])\n",
    "\n",
    "    def A1_(t):\n",
    "        c1 = pc1_(t)\n",
    "        c2 = pc2_(t)\n",
    "        return -1j*(c1*Hc[0] + c2*Hc[1])\n",
    "\n",
    "    def A2_(t):\n",
    "        return perturb2\n",
    "\n",
    "    def A3_(t):\n",
    "        return perturb3\n",
    "\n",
    "    def A4_(t):\n",
    "        return perturb4\n",
    "\n",
    "    def A5_(t):\n",
    "        return perturb5\n",
    "    \n",
    "    results = solve_lmde_perturbation(A_list=[A0, A1_, A2_, A3_, A4_, A5_], # list of A matrices\n",
    "                             perturbation_method='symmetric_magnus',\n",
    "                             perturbation_order=3,\n",
    "                             t_span=[0, T], # integrate over one period of drive oscillation\n",
    "                             generator=G_, # generator\n",
    "                             y0=np.eye(dim), # initial state for base DE U'(t) = G(t)U(t)\n",
    "                             method='jax_odeint',\n",
    "                             rtol=tol, # standard solver arguments\n",
    "                             atol=tol)\n",
    "    U = results.y[-1]\n",
    "    #symmetric Magnus terms\n",
    "    M0 = results.perturbation_results[[0]][-1]\n",
    "    M1 = results.perturbation_results[[1]][-1]\n",
    "    M2 = results.perturbation_results[[2]][-1]\n",
    "    M3 = results.perturbation_results[[3]][-1]\n",
    "    M4 = results.perturbation_results[[4]][-1]\n",
    "    M5 = results.perturbation_results[[5]][-1]\n",
    "    M00 = results.perturbation_results[[0, 0]][-1]\n",
    "    M01 = results.perturbation_results[[0, 1]][-1]\n",
    "    M02 = results.perturbation_results[[0, 2]][-1]\n",
    "    M03 = results.perturbation_results[[0, 3]][-1]\n",
    "    M04 = results.perturbation_results[[0, 4]][-1]\n",
    "    M05 = results.perturbation_results[[0, 5]][-1]\n",
    "    M11 = results.perturbation_results[[1, 1]][-1]\n",
    "    M12 = results.perturbation_results[[1, 2]][-1]\n",
    "    M13 = results.perturbation_results[[1, 3]][-1]\n",
    "    M14 = results.perturbation_results[[1, 4]][-1]\n",
    "    M15 = results.perturbation_results[[1, 5]][-1]\n",
    "    M22 = results.perturbation_results[[2, 2]][-1]\n",
    "    M23 = results.perturbation_results[[2, 3]][-1]\n",
    "    M24 = results.perturbation_results[[2, 4]][-1]\n",
    "    M25 = results.perturbation_results[[2, 5]][-1]\n",
    "    M33 = results.perturbation_results[[3, 3]][-1]\n",
    "    M34 = results.perturbation_results[[3, 4]][-1]\n",
    "    M35 = results.perturbation_results[[3, 5]][-1]\n",
    "    M44 = results.perturbation_results[[4, 4]][-1]\n",
    "    M45 = results.perturbation_results[[4, 5]][-1]\n",
    "    M55 = results.perturbation_results[[5, 5]][-1]\n",
    "    M000 = results.perturbation_results[[0, 0, 0]][-1]\n",
    "    M001 = results.perturbation_results[[0, 0, 1]][-1]\n",
    "    M002 = results.perturbation_results[[0, 0, 2]][-1]\n",
    "    M003 = results.perturbation_results[[0, 0, 3]][-1]\n",
    "    M004 = results.perturbation_results[[0, 0, 4]][-1]\n",
    "    M005 = results.perturbation_results[[0, 0, 5]][-1]\n",
    "    M011 = results.perturbation_results[[0, 1, 1]][-1]\n",
    "    M012 = results.perturbation_results[[0, 1, 2]][-1]\n",
    "    M013 = results.perturbation_results[[0, 1, 3]][-1]\n",
    "    M014 = results.perturbation_results[[0, 1, 4]][-1]\n",
    "    M015 = results.perturbation_results[[0, 1, 5]][-1]\n",
    "    M022 = results.perturbation_results[[0, 2, 2]][-1]\n",
    "    M023 = results.perturbation_results[[0, 2, 3]][-1]\n",
    "    M024 = results.perturbation_results[[0, 2, 4]][-1]\n",
    "    M025 = results.perturbation_results[[0, 2, 5]][-1]\n",
    "    M033 = results.perturbation_results[[0, 3, 3]][-1]\n",
    "    M034 = results.perturbation_results[[0, 3, 4]][-1]\n",
    "    M035 = results.perturbation_results[[0, 3, 5]][-1]\n",
    "    M044 = results.perturbation_results[[0, 4, 4]][-1]\n",
    "    M045 = results.perturbation_results[[0, 4, 5]][-1]\n",
    "    M055 = results.perturbation_results[[0, 5, 5]][-1]\n",
    "    M111 = results.perturbation_results[[1, 1, 1]][-1]\n",
    "    M112 = results.perturbation_results[[1, 1, 2]][-1]\n",
    "    M113 = results.perturbation_results[[1, 1, 3]][-1]\n",
    "    M114 = results.perturbation_results[[1, 1, 4]][-1]\n",
    "    M115 = results.perturbation_results[[1, 1, 5]][-1]\n",
    "    M122 = results.perturbation_results[[1, 2, 2]][-1]\n",
    "    M123 = results.perturbation_results[[1, 2, 3]][-1]\n",
    "    M124 = results.perturbation_results[[1, 2, 4]][-1]\n",
    "    M125 = results.perturbation_results[[1, 2, 5]][-1]\n",
    "    M133 = results.perturbation_results[[1, 3, 3]][-1]\n",
    "    M134 = results.perturbation_results[[1, 3, 4]][-1]\n",
    "    M135 = results.perturbation_results[[1, 3, 5]][-1]\n",
    "    M144 = results.perturbation_results[[1, 4, 4]][-1]\n",
    "    M145 = results.perturbation_results[[1, 4, 5]][-1]\n",
    "    M155 = results.perturbation_results[[1, 5, 5]][-1]\n",
    "    M222 = results.perturbation_results[[2, 2, 2]][-1]\n",
    "    M223 = results.perturbation_results[[2, 2, 3]][-1]\n",
    "    M224 = results.perturbation_results[[2, 2, 4]][-1]\n",
    "    M225 = results.perturbation_results[[2, 2, 5]][-1]\n",
    "    M233 = results.perturbation_results[[2, 3, 3]][-1]\n",
    "    M234 = results.perturbation_results[[2, 3, 4]][-1]\n",
    "    M235 = results.perturbation_results[[2, 3, 5]][-1]\n",
    "    M244 = results.perturbation_results[[2, 4, 4]][-1]\n",
    "    M245 = results.perturbation_results[[2, 4, 5]][-1]\n",
    "    M255 = results.perturbation_results[[2, 5, 5]][-1]\n",
    "    M333 = results.perturbation_results[[3, 3, 3]][-1]\n",
    "    M334 = results.perturbation_results[[3, 3, 4]][-1]\n",
    "    M335 = results.perturbation_results[[3, 3, 5]][-1]\n",
    "    M344 = results.perturbation_results[[3, 4, 4]][-1]\n",
    "    M345 = results.perturbation_results[[3, 4, 5]][-1]\n",
    "    M355 = results.perturbation_results[[3, 5, 5]][-1]\n",
    "    M444 = results.perturbation_results[[4, 4, 4]][-1]\n",
    "    M445 = results.perturbation_results[[4, 4, 5]][-1]\n",
    "    M455 = results.perturbation_results[[4, 5, 5]][-1]\n",
    "    M555 = results.perturbation_results[[5, 5, 5]][-1]\n",
    "    def err_est(args):\n",
    "        c0, c1, c2, c3, c4, c5 = args\n",
    "        c00 = c0 * c0\n",
    "        c01 = c0 * c1\n",
    "        c02 = c0 * c2\n",
    "        c03 = c0 * c3\n",
    "        c04 = c0 * c4\n",
    "        c05 = c0 * c5\n",
    "        c11 = c1 * c1\n",
    "        c12 = c1 * c2\n",
    "        c13 = c1 * c3\n",
    "        c14 = c1 * c4\n",
    "        c15 = c1 * c5\n",
    "        c22 = c2 * c2\n",
    "        c23 = c2 * c3\n",
    "        c24 = c2 * c4\n",
    "        c25 = c2 * c5\n",
    "        c33 = c3 * c3\n",
    "        c34 = c3 * c4\n",
    "        c35 = c3 * c5\n",
    "        c44 = c4 * c4\n",
    "        c45 = c4 * c5\n",
    "        c55 = c5 * c5\n",
    "        c000 = c0 * c00\n",
    "        c001 = c0 * c01\n",
    "        c002 = c0 * c02\n",
    "        c003 = c0 * c03\n",
    "        c004 = c0 * c04\n",
    "        c005 = c0 * c05\n",
    "        c011 = c0 * c11\n",
    "        c012 = c0 * c12\n",
    "        c013 = c0 * c13\n",
    "        c014 = c0 * c14\n",
    "        c015 = c0 * c15\n",
    "        c022 = c0 * c22\n",
    "        c023 = c0 * c23\n",
    "        c024 = c0 * c24\n",
    "        c025 = c0 * c25\n",
    "        c033 = c0 * c33\n",
    "        c034 = c0 * c34\n",
    "        c035 = c0 * c35\n",
    "        c044 = c0 * c44\n",
    "        c045 = c0 * c45\n",
    "        c055 = c0 * c55\n",
    "        c111 = c1 * c11\n",
    "        c112 = c1 * c12\n",
    "        c113 = c1 * c13\n",
    "        c114 = c1 * c14\n",
    "        c115 = c1 * c15\n",
    "        c122 = c1 * c22\n",
    "        c123 = c1 * c23\n",
    "        c124 = c1 * c24\n",
    "        c125 = c1 * c25\n",
    "        c133 = c1 * c33\n",
    "        c134 = c1 * c34\n",
    "        c135 = c1 * c35\n",
    "        c144 = c1 * c44\n",
    "        c145 = c1 * c45\n",
    "        c155 = c1 * c55\n",
    "        c222 = c2 * c22\n",
    "        c223 = c2 * c23\n",
    "        c224 = c2 * c24\n",
    "        c225 = c2 * c25\n",
    "        c233 = c2 * c33\n",
    "        c234 = c2 * c34\n",
    "        c235 = c2 * c35\n",
    "        c244 = c2 * c44\n",
    "        c245 = c2 * c45\n",
    "        c255 = c2 * c55\n",
    "        c333 = c3 * c33\n",
    "        c334 = c3 * c34\n",
    "        c335 = c3 * c35\n",
    "        c344 = c3 * c44\n",
    "        c345 = c3 * c45\n",
    "        c355 = c3 * c55\n",
    "        c444 = c4 * c44\n",
    "        c445 = c4 * c45\n",
    "        c455 = c4 * c55\n",
    "        c555 = c5 * c55\n",
    "        approx_gen = (c0 * M0 \n",
    "                      + c1 * M1 \n",
    "                      + c2 * M2\n",
    "                      + c3 * M3\n",
    "                      + c4 * M4\n",
    "                      + c5 * M5\n",
    "                      + c00 * M00 \n",
    "                      + c01 * M01 \n",
    "                      + c02 * M02\n",
    "                      + c03 * M03\n",
    "                      + c04 * M04\n",
    "                      + c05 * M05\n",
    "                      + c11 * M11\n",
    "                      + c12 * M12\n",
    "                      + c13 * M13\n",
    "                      + c14 * M14\n",
    "                      + c15 * M15\n",
    "                      + c22 * M22\n",
    "                      + c23 * M23\n",
    "                      + c24 * M24\n",
    "                      + c25 * M25\n",
    "                      + c33 * M33\n",
    "                      + c34 * M34\n",
    "                      + c35 * M35\n",
    "                      + c44 * M44\n",
    "                      + c45 * M45\n",
    "                      + c55 * M55\n",
    "                      + c000 * M000 \n",
    "                      + c001 * M001\n",
    "                      + c002 * M002\n",
    "                      + c003 * M003\n",
    "                      + c004 * M004\n",
    "                      + c005 * M005\n",
    "                      + c011 * M011\n",
    "                      + c012 * M012\n",
    "                      + c013 * M013\n",
    "                      + c014 * M014\n",
    "                      + c015 * M015\n",
    "                      + c022 * M022\n",
    "                      + c023 * M023\n",
    "                      + c024 * M024\n",
    "                      + c025 * M025\n",
    "                      + c033 * M033\n",
    "                      + c034 * M034\n",
    "                      + c035 * M035\n",
    "                      + c044 * M044\n",
    "                      + c045 * M045\n",
    "                      + c055 * M055\n",
    "                      + c111 * M111\n",
    "                      + c112 * M112\n",
    "                      + c113 * M113\n",
    "                      + c114 * M114\n",
    "                      + c115 * M115\n",
    "                      + c122 * M122\n",
    "                      + c123 * M123\n",
    "                      + c124 * M124\n",
    "                      + c125 * M125\n",
    "                      + c133 * M133\n",
    "                      + c134 * M134\n",
    "                      + c135 * M135\n",
    "                      + c144 * M144\n",
    "                      + c145 * M145\n",
    "                      + c155 * M155\n",
    "                      + c222 * M222\n",
    "                      + c223 * M223\n",
    "                      + c224 * M224\n",
    "                      + c225 * M225\n",
    "                      + c233 * M233\n",
    "                      + c234 * M234\n",
    "                      + c235 * M235\n",
    "                      + c244 * M244\n",
    "                      + c245 * M245\n",
    "                      + c255 * M255\n",
    "                      + c333 * M333\n",
    "                      + c334 * M334\n",
    "                      + c335 * M335\n",
    "                      + c344 * M344\n",
    "                      + c345 * M345\n",
    "                      + c355 * M355\n",
    "                      + c444 * M444\n",
    "                      + c445 * M445\n",
    "                      + c455 * M455\n",
    "                      + c555 * M555)\n",
    "        U_approx = U@expm(approx_gen)\n",
    "        fid = fid_func(U_approx)\n",
    "        return 1. - Array(fid).data \n",
    "    p0_repeated = jnp.kron(p0_vals, jnp.ones(5**5))\n",
    "    p1_repeated = jnp.kron(jnp.kron(jnp.ones(5), p1_vals), jnp.ones(5**4))\n",
    "    p2_repeated = jnp.kron(jnp.kron(jnp.ones(5**2), p2_vals), jnp.ones(5**3))\n",
    "    p3_repeated = jnp.kron(jnp.kron(jnp.ones(5**3), p3_vals), jnp.ones(5**2))\n",
    "    p4_repeated = jnp.kron(jnp.kron(jnp.ones(5**4), p4_vals), jnp.ones(5))\n",
    "    p5_repeated = jnp.kron(jnp.ones(5**5), p5_vals)\n",
    "    err_estimate = vmap(err_est)((p0_repeated, p1_repeated, p2_repeated, p3_repeated, p4_repeated, p5_repeated))\n",
    "    return Array(jnp.sum(err_estimate)).data / (5**6)"
   ]
  },
  {
   "cell_type": "markdown",
   "metadata": {},
   "source": [
    "Note: in the following, `scan` appears to outperform `vmap` as the number of points increases. I don't know why this is, but I think maybe `vmap` and `odeint` may not behave super well together."
   ]
  },
  {
   "cell_type": "code",
   "execution_count": 19,
   "metadata": {},
   "outputs": [],
   "source": [
    "operators0 = [H0, Hc[0], Hc[1], 1j*perturb0]\n",
    "hamiltonian0 = HamiltonianModel(operators=operators0)\n",
    "hamiltonian0.frame = H0\n",
    "\n",
    "def point_obj0(param2, p0_vals):\n",
    "    sig2 = param_to_signal(param2)\n",
    "    pc1_ = DiscreteSignal(dt=dt_filter, samples=sig2[:,0],carrier_freq=0.)\n",
    "    pc2_ = DiscreteSignal(dt=dt_filter, samples=sig2[:,1],carrier_freq=0.)\n",
    "    \n",
    "    def exact_err(args):\n",
    "        c0 = args\n",
    "        pc1_ = DiscreteSignal(dt=dt_filter, samples=signal1,carrier_freq=0.)\n",
    "        pc2_ = DiscreteSignal(dt=dt_filter, samples=signal2,carrier_freq=0.)\n",
    "        signals = [1., pc1_, pc2_, Array(c0)]\n",
    "        ham_copy = hamiltonian0.copy()\n",
    "        ham_copy.signals = signals\n",
    "        time_results = solve_lmde(ham_copy, t_span=[0,T], y0=np.eye(dim), atol=tol, rtol=tol,method='jax_odeint')\n",
    "        return 1.- Array(fid_func(time_results.y[-1])).data\n",
    "    err_exact = vmap(exact_err)(p0_vals)\n",
    "    \n",
    "    #def scan_f(carry, x):\n",
    "    #    err_val = exact_err(x)\n",
    "    #    return None, err_val\n",
    "\n",
    "    #err_exact = scan(scan_f, init=None, xs=(p0_vals))[1]\n",
    "    return Array(jnp.sum(err_exact)).data / (5**1)\n",
    "\n",
    "def point_obj1(param2, p0_vals, p1_vals):\n",
    "    sig2 = param_to_signal(param2)\n",
    "    pc1_ = DiscreteSignal(dt=dt_filter, samples=sig2[:,0],carrier_freq=0.)\n",
    "    pc2_ = DiscreteSignal(dt=dt_filter, samples=sig2[:,1],carrier_freq=0.)\n",
    "    \n",
    "    def exact_err(args):\n",
    "        c0, c1 = args\n",
    "        pc1_ = DiscreteSignal(dt=dt_filter, samples=(1+c1)*signal1,carrier_freq=0.)\n",
    "        pc2_ = DiscreteSignal(dt=dt_filter, samples=(1+c1)*signal2,carrier_freq=0.)\n",
    "        signals = [1., pc1_, pc2_, Array(c0)]\n",
    "        ham_copy = hamiltonian0.copy()\n",
    "        ham_copy.signals = signals\n",
    "        time_results = solve_lmde(ham_copy, t_span=[0,T], y0=np.eye(dim), atol=tol, rtol=tol,method='jax_odeint')\n",
    "        return 1.- Array(fid_func(time_results.y[-1])).data\n",
    "    \n",
    "    p0_repeated = jnp.kron(p0_vals, jnp.ones(5))\n",
    "    p1_repeated = jnp.kron(jnp.ones(5), p1_vals)\n",
    "    err_exact = vmap(exact_err)((p0_repeated ,p1_repeated))\n",
    "    \n",
    "    #def scan_f(carry, x):\n",
    "    #    err_val = exact_err(x)\n",
    "    #    return None, err_val\n",
    "\n",
    "    #err_exact = scan(scan_f, init=None, xs=(p0_repeated, p1_repeated))[1]\n",
    "    return Array(jnp.sum(err_exact)).data / (5**2)\n",
    "\n",
    "operators2 = [H0, Hc[0], Hc[1], 1j*perturb0, 1j*perturb2]\n",
    "hamiltonian2 = HamiltonianModel(operators=operators2)\n",
    "hamiltonian2.frame = H0\n",
    "\n",
    "def point_obj2(param2, p0_vals, p1_vals, p2_vals):\n",
    "    sig2 = param_to_signal(param2)\n",
    "    pc1_ = DiscreteSignal(dt=dt_filter, samples=sig2[:,0],carrier_freq=0.)\n",
    "    pc2_ = DiscreteSignal(dt=dt_filter, samples=sig2[:,1],carrier_freq=0.)\n",
    "    \n",
    "    def exact_err(args):\n",
    "        c0, c1, c2 = args\n",
    "        pc1_ = DiscreteSignal(dt=dt_filter, samples=(1+c1)*signal1,carrier_freq=0.)\n",
    "        pc2_ = DiscreteSignal(dt=dt_filter, samples=(1+c1)*signal2,carrier_freq=0.)\n",
    "        signals = [1., pc1_, pc2_, Array(c0), Array(c2)]\n",
    "        ham_copy = hamiltonian2.copy()\n",
    "        ham_copy.signals = signals\n",
    "        time_results = solve_lmde(ham_copy, t_span=[0,T], y0=np.eye(dim), atol=tol, rtol=tol,method='jax_odeint')\n",
    "        return 1.- Array(fid_func(time_results.y[-1])).data\n",
    "    \n",
    "    p0_repeated = jnp.kron(p0_vals, jnp.ones(25))\n",
    "    p1_repeated = jnp.kron(jnp.kron(jnp.ones(5), p1_vals), jnp.ones(5))\n",
    "    p2_repeated = jnp.kron(jnp.ones(25), p2_vals)\n",
    "    #err_exact = vmap(exact_err)((p0_repeated, p1_repeated, p2_repeated))\n",
    "    \n",
    "    def scan_f(carry, x):\n",
    "        err_val = exact_err(x)\n",
    "        return None, err_val\n",
    "\n",
    "    err_exact = scan(scan_f, init=None, xs=(p0_repeated, p1_repeated, p2_repeated))[1]\n",
    "    return Array(jnp.sum(err_exact)).data /(5**3)\n",
    "\n",
    "operators3 = [H0, Hc[0], Hc[1], 1j*perturb0, 1j*perturb2, 1j * perturb3]\n",
    "hamiltonian3 = HamiltonianModel(operators=operators3)\n",
    "hamiltonian3.frame = H0\n",
    "\n",
    "def point_obj3(param2, p0_vals, p1_vals, p2_vals, p3_vals):\n",
    "    sig2 = param_to_signal(param2)\n",
    "    pc1_ = DiscreteSignal(dt=dt_filter, samples=sig2[:,0],carrier_freq=0.)\n",
    "    pc2_ = DiscreteSignal(dt=dt_filter, samples=sig2[:,1],carrier_freq=0.)\n",
    "    \n",
    "    def exact_err(args):\n",
    "        c0, c1, c2, c3 = args\n",
    "        pc1_ = DiscreteSignal(dt=dt_filter, samples=(1+c1)*signal1,carrier_freq=0.)\n",
    "        pc2_ = DiscreteSignal(dt=dt_filter, samples=(1+c1)*signal2,carrier_freq=0.)\n",
    "        signals = [1., pc1_, pc2_, Array(c0), Array(c2), Array(c3)]\n",
    "        ham_copy = hamiltonian3.copy()\n",
    "        ham_copy.signals = signals\n",
    "        time_results = solve_lmde(ham_copy, t_span=[0,T], y0=np.eye(dim), atol=tol, rtol=tol,method='jax_odeint')\n",
    "        return 1.- Array(fid_func(time_results.y[-1])).data\n",
    "    \n",
    "    p0_repeated = jnp.kron(p0_vals, jnp.ones(5**3))\n",
    "    p1_repeated = jnp.kron(jnp.kron(jnp.ones(5), p1_vals), jnp.ones(5**2))\n",
    "    p2_repeated = jnp.kron(jnp.kron(jnp.ones(5**2), p2_vals), jnp.ones(5))\n",
    "    p3_repeated = jnp.kron(jnp.ones(5**3), p3_vals)\n",
    "    #err_exact = vmap(exact_err)((p0_repeated, p1_repeated, p2_repeated, p3_repeated))\n",
    "    \n",
    "    def scan_f(carry, x):\n",
    "        err_val = exact_err(x)\n",
    "        return None, err_val\n",
    "\n",
    "    err_exact = scan(scan_f, init=None, xs=(p0_repeated, p1_repeated, p2_repeated, p3_repeated))[1]\n",
    "    \n",
    "    return Array(jnp.sum(err_exact)).data /(5**4)\n",
    "\n",
    "operators4 = [H0, Hc[0], Hc[1], 1j*perturb0, 1j*perturb2, 1j * perturb3, 1j * perturb4]\n",
    "hamiltonian4 = HamiltonianModel(operators=operators4)\n",
    "hamiltonian4.frame = H0\n",
    "\n",
    "def point_obj4(param2, p0_vals, p1_vals, p2_vals, p3_vals, p4_vals):\n",
    "    sig2 = param_to_signal(param2)\n",
    "    pc1_ = DiscreteSignal(dt=dt_filter, samples=sig2[:,0],carrier_freq=0.)\n",
    "    pc2_ = DiscreteSignal(dt=dt_filter, samples=sig2[:,1],carrier_freq=0.)\n",
    "    \n",
    "    def exact_err(args):\n",
    "        c0, c1, c2, c3, c4 = args\n",
    "        pc1_ = DiscreteSignal(dt=dt_filter, samples=(1+c1)*signal1,carrier_freq=0.)\n",
    "        pc2_ = DiscreteSignal(dt=dt_filter, samples=(1+c1)*signal2,carrier_freq=0.)\n",
    "        signals = [1., pc1_, pc2_, Array(c0), Array(c2), Array(c3), Array(c4)]\n",
    "        ham_copy = hamiltonian4.copy()\n",
    "        ham_copy.signals = signals\n",
    "        time_results = solve_lmde(ham_copy, t_span=[0,T], y0=np.eye(dim), atol=tol, rtol=tol,method='jax_odeint')\n",
    "        return 1.- Array(fid_func(time_results.y[-1])).data\n",
    "    \n",
    "    p0_repeated = jnp.kron(p0_vals, jnp.ones(5**4))\n",
    "    p1_repeated = jnp.kron(jnp.kron(jnp.ones(5), p1_vals), jnp.ones(5**3))\n",
    "    p2_repeated = jnp.kron(jnp.kron(jnp.ones(5**2), p2_vals), jnp.ones(5**2))\n",
    "    p3_repeated = jnp.kron(jnp.kron(jnp.ones(5**3), p3_vals), jnp.ones(5))\n",
    "    p4_repeated = jnp.kron(jnp.ones(5**4), p4_vals)\n",
    "    #err_exact = vmap(exact_err)((p0_repeated, p1_repeated, p2_repeated, p3_repeated, p4_repeated))\n",
    "    \n",
    "    def scan_f(carry, x):\n",
    "        err_val = exact_err(x)\n",
    "        return None, err_val\n",
    "\n",
    "    err_exact = scan(scan_f, init=None, xs=(p0_repeated, p1_repeated, p2_repeated, p3_repeated, p4_repeated))[1]\n",
    "    \n",
    "    return Array(jnp.sum(err_exact)).data / (5**5)\n",
    "\n",
    "operators5 = [H0, Hc[0], Hc[1], 1j*perturb0, 1j*perturb2, 1j * perturb3, 1j * perturb4, 1j*perturb5]\n",
    "hamiltonian5 = HamiltonianModel(operators=operators5)\n",
    "hamiltonian5.frame = H0\n",
    "\n",
    "def point_obj5(param2, p0_vals, p1_vals, p2_vals, p3_vals, p4_vals, p5_vals):\n",
    "    sig2 = param_to_signal(param2)\n",
    "    pc1_ = DiscreteSignal(dt=dt_filter, samples=sig2[:,0],carrier_freq=0.)\n",
    "    pc2_ = DiscreteSignal(dt=dt_filter, samples=sig2[:,1],carrier_freq=0.)\n",
    "    \n",
    "    def exact_err(args):\n",
    "        c0, c1, c2, c3, c4, c5 = args\n",
    "        pc1_ = DiscreteSignal(dt=dt_filter, samples=(1+c1)*signal1,carrier_freq=0.)\n",
    "        pc2_ = DiscreteSignal(dt=dt_filter, samples=(1+c1)*signal2,carrier_freq=0.)\n",
    "        signals = [1., pc1_, pc2_, Array(c0), Array(c2), Array(c3), Array(c4), Array(c5)]\n",
    "        ham_copy = hamiltonian5.copy()\n",
    "        ham_copy.signals = signals\n",
    "        time_results = solve_lmde(ham_copy, t_span=[0,T], y0=np.eye(dim), atol=tol, rtol=tol,method='jax_odeint')\n",
    "        return 1.- Array(fid_func(time_results.y[-1])).data\n",
    "    \n",
    "    \n",
    "    p0_repeated = jnp.kron(p0_vals, jnp.ones(5**5))\n",
    "    p1_repeated = jnp.kron(jnp.kron(jnp.ones(5), p1_vals), jnp.ones(5**4))\n",
    "    p2_repeated = jnp.kron(jnp.kron(jnp.ones(5**2), p2_vals), jnp.ones(5**3))\n",
    "    p3_repeated = jnp.kron(jnp.kron(jnp.ones(5**3), p3_vals), jnp.ones(5**2))\n",
    "    p4_repeated = jnp.kron(jnp.kron(jnp.ones(5**4), p4_vals), jnp.ones(5))\n",
    "    p5_repeated = jnp.kron(jnp.ones(5**5), p5_vals)\n",
    "    #err_exact = vmap(exact_err)((p0_repeated, p1_repeated, p2_repeated, p3_repeated, p4_repeated, p5_repeated))\n",
    "    \n",
    "    def scan_f(carry, x):\n",
    "        err_val = exact_err(x)\n",
    "        return None, err_val\n",
    "\n",
    "    err_exact = scan(scan_f, init=None, xs=(p0_repeated, p1_repeated, p2_repeated, p3_repeated, p4_repeated, p5_repeated))[1]\n",
    "    \n",
    "    \n",
    "    return Array(jnp.sum(err_exact)).data / (5**6)"
   ]
  },
  {
   "cell_type": "code",
   "execution_count": 20,
   "metadata": {},
   "outputs": [],
   "source": [
    "N_variations = np.arange(6) + 1\n",
    "\n",
    "p0_vals = jnp.linspace(-1.5*drive_strength, 1.5*drive_strength, 5)\n",
    "p1_vals = jnp.linspace(-0.2, 0.2, 5)\n",
    "p2_vals = jnp.linspace(-0.2, 0.2, 5)\n",
    "p3_vals = jnp.linspace(-0.2, 0.2, 5)\n",
    "p4_vals = jnp.linspace(-0.2, 0.2, 5)\n",
    "p5_vals = jnp.linspace(-0.2, 0.2, 5)"
   ]
  },
  {
   "cell_type": "code",
   "execution_count": 21,
   "metadata": {},
   "outputs": [
    {
     "name": "stdout",
     "output_type": "stream",
     "text": [
      "Working on number 1/6\n",
      "Working on number 2/6\n",
      "Working on number 3/6\n",
      "Working on number 4/6\n",
      "Working on number 5/6\n",
      "Working on number 6/6\n"
     ]
    }
   ],
   "source": [
    "from time import time\n",
    "\n",
    "mag_jit_times = []\n",
    "mag_ave_times = []\n",
    "mag_ave_jitted_times = []\n",
    "\n",
    "mag_obj_funcs = [lambda params: magnus_obj0(params, p0_vals),\n",
    "                 lambda params: magnus_obj1(params, p0_vals, p1_vals),\n",
    "                 lambda params: magnus_obj2(params, p0_vals, p1_vals, p2_vals),\n",
    "                 lambda params: magnus_obj3(params, p0_vals, p1_vals, p2_vals, p3_vals),\n",
    "                 lambda params: magnus_obj4(params, p0_vals, p1_vals, p2_vals, p3_vals, p4_vals),\n",
    "                 lambda params: magnus_obj5(params, p0_vals, p1_vals, p2_vals, p3_vals, p4_vals, p5_vals)]\n",
    "\n",
    "for idx, obj_func in enumerate(mag_obj_funcs):\n",
    "    print('Working on number ' + str(idx + 1) + '/' + str(len(mag_obj_funcs)))\n",
    "    jit_grad_obj = jit(value_and_grad(obj_func))\n",
    "\n",
    "    # measure time to jit/grad + one evaluation\n",
    "    start = time()\n",
    "    val = jit_grad_obj(inputs[0])[0].block_until_ready()\n",
    "    mag_jit_times.append(time() - start)\n",
    "\n",
    "    # average jitted run time over multiple inputs\n",
    "    jitted_time = 0.\n",
    "    for rand_in in inputs[1:]:\n",
    "        start = time()\n",
    "        val = jit_grad_obj(rand_in)[0].block_until_ready()\n",
    "        jitted_time += time() - start\n",
    "    \n",
    "    mag_ave_jitted_times.append(jitted_time / (len(inputs) - 1))\n",
    "    mag_ave_times.append((mag_jit_times[-1] + jitted_time) / len(inputs))"
   ]
  },
  {
   "cell_type": "code",
   "execution_count": 22,
   "metadata": {},
   "outputs": [
    {
     "name": "stdout",
     "output_type": "stream",
     "text": [
      "[16.592622995376587, 23.748573303222656, 36.2880859375, 50.782811880111694, 79.6441080570221, 140.1252520084381]\n",
      "[2.426632213592529, 4.335275101661682, 7.7797390699386595, 13.602555894851685, 22.021992993354797, 38.028144574165346]\n",
      "[0.8526332378387451, 2.1782419681549072, 4.612144973542955, 9.471416340933906, 15.619535764058432, 26.684021525912815]\n"
     ]
    }
   ],
   "source": [
    "print(mag_jit_times)\n",
    "print(mag_ave_times)\n",
    "print(mag_ave_jitted_times)"
   ]
  },
  {
   "cell_type": "code",
   "execution_count": 23,
   "metadata": {},
   "outputs": [
    {
     "name": "stdout",
     "output_type": "stream",
     "text": [
      "Working on number 1/6\n",
      "Working on number 2/6\n",
      "Working on number 3/6\n",
      "Working on number 4/6\n",
      "Working on number 5/6\n",
      "Working on number 6/6\n"
     ]
    }
   ],
   "source": [
    "from time import time\n",
    "\n",
    "point_jit_times = []\n",
    "point_ave_times = []\n",
    "point_ave_jitted_times = []\n",
    "\n",
    "point_obj_funcs = [lambda params: point_obj0(params, p0_vals),\n",
    "                   lambda params: point_obj1(params, p0_vals, p1_vals),\n",
    "                   lambda params: point_obj2(params, p0_vals, p1_vals, p2_vals),\n",
    "                   lambda params: point_obj3(params, p0_vals, p1_vals, p2_vals, p3_vals),\n",
    "                   lambda params: point_obj4(params, p0_vals, p1_vals, p2_vals, p3_vals, p4_vals),\n",
    "                   lambda params: point_obj5(params, p0_vals, p1_vals, p2_vals, p3_vals, p4_vals, p5_vals)]\n",
    "\n",
    "for idx, obj_func in enumerate(point_obj_funcs):\n",
    "    print('Working on number ' + str(idx + 1) + '/' + str(len(point_obj_funcs)))\n",
    "    jit_grad_obj = jit(value_and_grad(obj_func))\n",
    "\n",
    "    # measure time to jit/grad + one evaluation\n",
    "    start = time()\n",
    "    val = jit_grad_obj(inputs[0])[0].block_until_ready()\n",
    "    point_jit_times.append(time() - start)\n",
    "\n",
    "    # average jitted run time over multiple inputs\n",
    "    jitted_time = 0.\n",
    "    for rand_in in inputs[1:]:\n",
    "        start = time()\n",
    "        val = jit_grad_obj(rand_in)[0].block_until_ready()\n",
    "        jitted_time += time() - start\n",
    "    \n",
    "    point_ave_jitted_times.append(jitted_time / (len(inputs) - 1))\n",
    "    point_ave_times.append((point_jit_times[-1] + jitted_time) / len(inputs))"
   ]
  },
  {
   "cell_type": "code",
   "execution_count": 24,
   "metadata": {},
   "outputs": [
    {
     "name": "stdout",
     "output_type": "stream",
     "text": [
      "[2.679579257965088, 3.028980016708374, 4.670228958129883, 15.345634937286377, 71.46591091156006, 405.4309558868408]\n",
      "[0.36027798652648924, 0.7835597515106201, 2.832900786399841, 14.132861256599426, 70.59512658119202, 350.1426218986511]\n",
      "[0.10257784525553386, 0.5340686109330919, 2.6287532117631702, 13.998108625411987, 70.49837276670668, 343.99947367774115]\n"
     ]
    }
   ],
   "source": [
    "print(point_jit_times)\n",
    "print(point_ave_times)\n",
    "print(point_ave_jitted_times)"
   ]
  },
  {
   "cell_type": "code",
   "execution_count": 25,
   "metadata": {},
   "outputs": [
    {
     "data": {
      "text/plain": [
       "<matplotlib.legend.Legend at 0x7fcae1256760>"
      ]
     },
     "execution_count": 25,
     "metadata": {},
     "output_type": "execute_result"
    },
    {
     "data": {
      "image/png": "[encoded data removed]",
      "text/plain": [
       "<Figure size 432x288 with 1 Axes>"
      ]
     },
     "metadata": {
      "needs_background": "light"
     },
     "output_type": "display_data"
    }
   ],
   "source": [
    "plt.plot(N_variations, point_jit_times, label='point')\n",
    "plt.plot(N_variations, mag_jit_times, label='Magnus')\n",
    "plt.legend()"
   ]
  },
  {
   "cell_type": "code",
   "execution_count": 29,
   "metadata": {},
   "outputs": [
    {
     "data": {
      "text/plain": [
       "<matplotlib.legend.Legend at 0x7fcb106675e0>"
      ]
     },
     "execution_count": 29,
     "metadata": {},
     "output_type": "execute_result"
    },
    {
     "data": {
      "image/png": "[encoded data removed]",
      "text/plain": [
       "<Figure size 432x288 with 1 Axes>"
      ]
     },
     "metadata": {
      "needs_background": "light"
     },
     "output_type": "display_data"
    }
   ],
   "source": [
    "plt.plot(N_variations, jnp.log10(jnp.array(point_ave_times)), label='point')\n",
    "plt.plot(N_variations, jnp.log10(jnp.array(mag_ave_times)), label='Magnus')\n",
    "plt.legend()"
   ]
  },
  {
   "cell_type": "code",
   "execution_count": 30,
   "metadata": {},
   "outputs": [
    {
     "data": {
      "text/plain": [
       "<matplotlib.legend.Legend at 0x7fcad1bd6d00>"
      ]
     },
     "execution_count": 30,
     "metadata": {},
     "output_type": "execute_result"
    },
    {
     "data": {
      "image/png": "[encoded data removed]",
      "text/plain": [
       "<Figure size 432x288 with 1 Axes>"
      ]
     },
     "metadata": {
      "needs_background": "light"
     },
     "output_type": "display_data"
    }
   ],
   "source": [
    "plt.plot(N_variations, jnp.log10(jnp.array(point_ave_jitted_times)), label='point')\n",
    "plt.plot(N_variations, jnp.log10(jnp.array(mag_ave_jitted_times)), label='Magnus')\n",
    "plt.legend()"
   ]
  },
  {
   "cell_type": "code",
   "execution_count": null,
   "metadata": {},
   "outputs": [],
   "source": []
  }
 ],
 "metadata": {
  "kernelspec": {
   "display_name": "Python 3",
   "language": "python",
   "name": "python3"
  },
  "language_info": {
   "codemirror_mode": {
    "name": "ipython",
    "version": 3
   },
   "file_extension": ".py",
   "mimetype": "text/x-python",
   "name": "python",
   "nbconvert_exporter": "python",
   "pygments_lexer": "ipython3",
   "version": "3.8.5"
  }
 },
 "nbformat": 4,
 "nbformat_minor": 4
}
