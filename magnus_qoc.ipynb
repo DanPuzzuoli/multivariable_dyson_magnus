{
 "cells": [
  {
   "cell_type": "code",
   "execution_count": 2,
   "metadata": {},
   "outputs": [
    {
     "name": "stderr",
     "output_type": "stream",
     "text": [
      "WARNING:absl:No GPU/TPU found, falling back to CPU. (Set TF_CPP_MIN_LOG_LEVEL=0 and rerun for more info.)\n"
     ]
    }
   ],
   "source": [
    "import timeit\n",
    "\n",
    "import matplotlib.pyplot as plt\n",
    "from jax import jit, grad, vmap\n",
    "from jax import numpy as jnp\n",
    "from jax.scipy.optimize import minimize\n",
    "from jax import value_and_grad\n",
    "\n",
    "#import scipy\n",
    "#from scipy.integrate import solve_ivp\n",
    "import numpy as np\n",
    "from jax.scipy.linalg import expm\n",
    "from scipy.signal import gaussian\n",
    "\n",
    "from qiskit.quantum_info.operators import Operator\n",
    "from qiskit_ode import dispatch, solve_lmde, solve_ode\n",
    "from qiskit_ode.dispatch import Array\n",
    "from qiskit_ode.models import HamiltonianModel\n",
    "from qiskit_ode.signals import Constant, Signal, DiscreteSignal\n",
    "\n",
    "###############\n",
    "# needed these:\n",
    "from jax.config import config\n",
    "config.update(\"jax_enable_x64\", True)\n",
    "dispatch.set_default_backend('jax')\n",
    "###############\n",
    "\n",
    "from qiskit_ode_internal.perturbation import solve_lmde_perturbation\n",
    "from discrete_signals import get_param_to_signal\n",
    "from objectives import get_grape_fidelity_func\n",
    "\n",
    "Z = Array([[1., 0.], [0., -1.]], dtype=complex)\n",
    "X = Array([[0., 1.], [1., 0.]], dtype=complex)\n",
    "Y = Array([[0., -1j], [1j, 0.]], dtype=complex)"
   ]
  },
  {
   "cell_type": "markdown",
   "metadata": {},
   "source": [
    "# 1. Approximate fidelity curve with Magnus terms, in the presence of 1 perturbation\n",
    "\n",
    "Here we set up a duffing oscillator model in the rotating frame of an on-resonance drive frequency, after the RWA:\n",
    "\\begin{equation}\n",
    "    H(t) = 2\\pi\\delta a^\\dagger a+\\pi \\alpha a^\\dagger a (a^\\dagger a - 1) + 2 \\pi r[ c_x(t) (a + a^\\dagger) + c_y(t) i(a - a^\\dagger)],\n",
    "\\end{equation}\n",
    "where\n",
    "- $\\delta$ is the difference between the qubit frequency and drive frequency\n",
    "- $\\alpha$ is the anharmonicity\n",
    "- $r$ is the drive strength, and\n",
    "- $c_x(t)$ and $c_y(t)$ are the x and y control fields"
   ]
  },
  {
   "cell_type": "code",
   "execution_count": 3,
   "metadata": {},
   "outputs": [],
   "source": [
    "#setting\n",
    "\n",
    "dim = 2 # dimension cutoff for oscillators\n",
    "\n",
    "# truncated annihilation, creation, and number operators\n",
    "a = jnp.diag(np.sqrt(np.arange(1, dim, dtype=complex)), -1)\n",
    "adag = a.conj().transpose()\n",
    "numb = jnp.diag(np.arange(dim, dtype=complex))\n",
    "\n",
    "# truncated oscillator X and Y\n",
    "osc_X = a + adag\n",
    "osc_Y = 1j*(a-adag)\n",
    "\n",
    "\n",
    "# model parameters - work in units of GHz/ns\n",
    "anharm = -0.33\n",
    "drive_strength = 0.02\n",
    "\n",
    "# drift Hamiltonian on resonance\n",
    "H0 = Array(np.pi * anharm * numb * (numb - jnp.eye(dim)))\n",
    "\n",
    "# control terms - X and Y multiplied by 2 pi * drive_strength\n",
    "Hc = Array(2 * np.pi * drive_strength * jnp.array([osc_X, osc_Y]))\n",
    "perturb = Array(-1j*2*np.pi*numb)\n",
    "\n",
    "Utarget = X\n",
    "\n",
    "Alist = -1j * Hc\n",
    "D = -1j * H0\n",
    "\n",
    "dt_filter = 0.125\n",
    "T = 28.125\n",
    "\n",
    "#get fidelity function\n",
    "fid_func = get_grape_fidelity_func(X)"
   ]
  },
  {
   "cell_type": "markdown",
   "metadata": {},
   "source": [
    "## Choose a signal from the 3 cells below\n",
    "The signals are all in the legendre basis"
   ]
  },
  {
   "cell_type": "code",
   "execution_count": 3,
   "metadata": {},
   "outputs": [],
   "source": [
    "#use hardcoded signal with good robustness\n",
    "param = jnp.array([[-4.59237981e+00, 4.24980538e+01, -8.46739534e+01, 5.75898575e+01,-1.50812797e-01],\n",
    "                  [5.81268528e+02, 1.81435728e+02, -5.81151908e+02, -6.48605967e+01,5.10149009e+02]])"
   ]
  },
  {
   "cell_type": "code",
   "execution_count": 4,
   "metadata": {},
   "outputs": [],
   "source": [
    "#or, use hardcoded signal, randomly generated\n",
    "param = jnp.array([[0.42143394, 0.56289994, 0.18579787, 0.46135739, 0.00488543],\n",
    "                  [0.37749316, 0.87822718, 0.18513398, 0.20995738, 0.47369254]])"
   ]
  },
  {
   "cell_type": "code",
   "execution_count": 5,
   "metadata": {},
   "outputs": [],
   "source": [
    "#or, randomly generate your own signal\n",
    "param = jnp.array(np.random.rand(2,5))"
   ]
  },
  {
   "cell_type": "code",
   "execution_count": 5,
   "metadata": {},
   "outputs": [],
   "source": [
    "#Convert the signal from legendre basis to time series\n",
    "\n",
    "#get the filter\n",
    "param_to_signal = get_param_to_signal(4, 25)\n",
    "#get the signal\n",
    "signal = param_to_signal(param)\n",
    "signal1 = signal[:,0]\n",
    "signal2 = signal[:,1]\n",
    "\n",
    "pc1 = DiscreteSignal(dt=dt_filter, samples=signal1,carrier_freq=0.)\n",
    "pc2 = DiscreteSignal(dt=dt_filter, samples=signal2,carrier_freq=0.)\n",
    "operators = [H0, Hc[0], Hc[1]]\n",
    "signals = [Constant(1.), pc1, pc2]\n",
    "hamiltonian = HamiltonianModel(operators=operators, signals=signals)\n",
    "hamiltonian.frame = hamiltonian.drift\n",
    "\n",
    "def G(t):#the generator\n",
    "    N_steps = jnp.linspace(0, dt_filter * 225, 225)\n",
    "    c1 = pc1(t)\n",
    "    c2 = pc2(t)\n",
    "    return -1j*(H0 + c1*Hc[0] + c2*Hc[1])\n",
    "\n",
    "def A0(t):#the perturbation\n",
    "    return perturb"
   ]
  },
  {
   "cell_type": "code",
   "execution_count": 7,
   "metadata": {},
   "outputs": [],
   "source": [
    "#simulation \n",
    "results = solve_lmde_perturbation(A_list=[A0], # list of A matrices\n",
    "                             perturbation_method='symmetric_magnus',\n",
    "                             perturbation_order=5,\n",
    "                             t_span=[0, T], # integrate over one period of drive oscillation\n",
    "                             generator=G, # generator\n",
    "                             y0=np.eye(2), # initial state for base DE U'(t) = G(t)U(t)\n",
    "                             method='jax_odeint',\n",
    "                             rtol=1e-13, # standard solver arguments\n",
    "                             atol=1e-13)"
   ]
  },
  {
   "cell_type": "code",
   "execution_count": 9,
   "metadata": {},
   "outputs": [],
   "source": [
    "\"\"\"\n",
    "#use the \"hamiltonian\" as input. Equivalent to using the \"generator\"\n",
    "results = solve_lmde_perturbation(A_list=[A0], # list of A matrices\n",
    "                             perturbation_method='symmetric_magnus',\n",
    "                             perturbation_order=5,\n",
    "                             t_span=[0, T], # integrate over one period of drive oscillation\n",
    "                             generator = hamiltonian,\n",
    "                             y0=np.eye(2), # initial state for base DE U'(t) = G(t)U(t)\n",
    "                             method='jax_odeint',\n",
    "                             rtol=1e-13, # standard solver arguments\n",
    "                             atol=1e-13)\n",
    "\"\"\""
   ]
  },
  {
   "cell_type": "code",
   "execution_count": 8,
   "metadata": {},
   "outputs": [],
   "source": [
    "U = results.y[-1] #the unitary tranformation when there's no perturbation\n",
    "#symmetric Magnus terms from 1st to 5th order\n",
    "M1 = results.perturbation_results[[0]][-1]\n",
    "M2 = results.perturbation_results[[0, 0]][-1]\n",
    "M3 = results.perturbation_results[[0, 0, 0]][-1]\n",
    "M4 = results.perturbation_results[[0, 0, 0, 0]][-1]\n",
    "M5 = results.perturbation_results[[0, 0, 0, 0, 0]][-1]"
   ]
  },
  {
   "cell_type": "code",
   "execution_count": 9,
   "metadata": {},
   "outputs": [],
   "source": [
    "#compute the estimated unitary transformation in the presence of perturbation, using the Magnus terms\n",
    "#detuning: magnitude of perturbation\n",
    "#order: order of approximation\n",
    "def err_est(detuning, order):\n",
    "    if order == 1:       \n",
    "        U_approx = U@expm(detuning*M1)  # 1st order\n",
    "    elif order == 2:\n",
    "        U_approx = U@expm(detuning*M1+detuning**2*M2)  # 2nd order\n",
    "    elif order == 3:\n",
    "        U_approx = U@expm(detuning*M1+detuning**2*M2+detuning**3*M3) #3rd order\n",
    "    elif order == 4:\n",
    "        U_approx = U@expm(detuning*M1+detuning**2*M2+detuning**3*M3+detuning**4*M4) #4th order\n",
    "    elif order == 5:\n",
    "        U_approx = U@expm(detuning*M1+detuning**2*M2+detuning**3*M3+detuning**4*M4+detuning**5*M5) #5th order\n",
    "    fid = fid_func(U_approx)\n",
    "    return 1. - fid "
   ]
  },
  {
   "cell_type": "code",
   "execution_count": 10,
   "metadata": {},
   "outputs": [],
   "source": [
    "#range of delta values that we consider\n",
    "z_vals = jnp.linspace(-1.5*drive_strength, 1.5*drive_strength, 20)\n",
    "\n",
    "#obtain the errors estimated using the Magnus terms\n",
    "err_estimate1 = [err_est(z,1) for z in z_vals]\n",
    "err_estimate2 = [err_est(z,2) for z in z_vals]\n",
    "err_estimate3 = [err_est(z,3) for z in z_vals]\n",
    "err_estimate4 = [err_est(z,4) for z in z_vals]\n",
    "err_estimate5 = [err_est(z,5) for z in z_vals]"
   ]
  },
  {
   "cell_type": "code",
   "execution_count": 11,
   "metadata": {},
   "outputs": [],
   "source": [
    "#exact error with the perturbation\n",
    "operators1 = [H0, Hc[0], Hc[1], 1j*perturb]\n",
    "hamiltonian1 = HamiltonianModel(operators=Array(operators1))\n",
    "def exact_fid(detuning):\n",
    "    signals1 = [Constant(1.), pc1, pc2, Constant(detuning)]\n",
    "    ham_copy = hamiltonian1.copy()\n",
    "    ham_copy.signals = signals1\n",
    "    time_results = solve_lmde(ham_copy, t_span=[0,T], y0=np.eye(2), atol=1e-13, rtol=1e-13,method='jax_odeint')\n",
    "    return fid_func(time_results.y[-1]).data\n",
    "\n",
    "fid_exact = vmap(exact_fid)(z_vals)"
   ]
  },
  {
   "cell_type": "code",
   "execution_count": 12,
   "metadata": {},
   "outputs": [
    {
     "data": {
      "text/plain": [
       "Text(0, 0.5, 'Error')"
      ]
     },
     "execution_count": 12,
     "metadata": {},
     "output_type": "execute_result"
    },
    {
     "data": {
      "image/png": "[encoded data removed]",
      "text/plain": [
       "<Figure size 432x288 with 1 Axes>"
      ]
     },
     "metadata": {
      "needs_background": "light"
     },
     "output_type": "display_data"
    }
   ],
   "source": [
    "#plot the estimate and the exact errors together\n",
    "plt.plot(z_vals, err_estimate1,color='r',label='1st order Est')\n",
    "plt.plot(z_vals, err_estimate2,label='2nd order Est')\n",
    "plt.plot(z_vals, err_estimate3,label='3rd order Est')\n",
    "plt.plot(z_vals, err_estimate4,label='4th order Est')\n",
    "plt.plot(z_vals, err_estimate5,label='5th order Est')\n",
    "plt.plot(z_vals, 1-fid_exact,color='g',label='Exact')\n",
    "plt.legend()\n",
    "plt.xlabel('Drive strength')\n",
    "plt.ylabel('Error')"
   ]
  },
  {
   "cell_type": "markdown",
   "metadata": {},
   "source": [
    "## Compare the costs: use an approximate fid curve v.s. the exact fid curve in objective function"
   ]
  },
  {
   "cell_type": "code",
   "execution_count": 16,
   "metadata": {},
   "outputs": [],
   "source": [
    "#random inputs\n",
    "inputs = jnp.array(np.random.rand(10,2,5))\n",
    "\n",
    "#objective function defined with the approximate fid curve (2nd order)\n",
    "def obj1(param1):\n",
    "    sig1 = param_to_signal(param1)\n",
    "    pc1 = DiscreteSignal(dt=dt_filter, samples=sig1[:,0],carrier_freq=0.)\n",
    "    pc2 = DiscreteSignal(dt=dt_filter, samples=sig1[:,1],carrier_freq=0.)\n",
    "    sigs = [Constant(1.), pc1, pc2]\n",
    "    ham = HamiltonianModel(operators=operators, signals=sigs,validate=False)\n",
    "    ham.frame = ham.drift\n",
    "    results = solve_lmde_perturbation(A_list=[A], # list of A matrices\n",
    "                             perturbation_method='symmetric_magnus',\n",
    "                             perturbation_order=2,\n",
    "                             t_span=[0, T], # integrate over one period of drive oscillation\n",
    "                             generator = ham,\n",
    "                             y0=np.eye(2), # initial state for base DE U'(t) = G(t)U(t)\n",
    "                             method='jax_odeint',\n",
    "                             rtol=1e-13, # standard solver arguments\n",
    "                             atol=1e-13)\n",
    "    U = results.y[-1]\n",
    "    M1 = results.perturbation_results[[0]][-1]\n",
    "    M2 = results.perturbation_results[[0, 0]][-1]\n",
    "    def err(detuning):\n",
    "        U_approx = U@expm(detuning*M1+detuning**2*M2)\n",
    "        fid = Array(fid_func(U_approx)).data\n",
    "        return 1. - fid\n",
    "    err_estimate = vmap(err)(z_vals)\n",
    "    n_samples = len(err_estimate)\n",
    "    filter_Gaussian = jnp.array(gaussian(n_samples, n_samples/5))/n_samples\n",
    "    return Array(jnp.sum(err_estimate*filter_Gaussian)).data\n",
    "\n",
    "#objective function defined with the exact fid curve\n",
    "def obj2(param2):\n",
    "    sig2 = param_to_signal(param2)\n",
    "    pc1 = DiscreteSignal(dt=dt_filter, samples=sig2[:,0],carrier_freq=0.)\n",
    "    pc2 = DiscreteSignal(dt=dt_filter, samples=sig2[:,1],carrier_freq=0.)\n",
    "    \n",
    "    def err(detuning):\n",
    "        signals_detuning = [Constant(1.), pc1, pc2, Constant(detuning)]\n",
    "        ham_copy = hamiltonian1.copy()\n",
    "        ham_copy.signals = signals_detuning\n",
    "        time_results = solve_lmde(ham_copy, t_span=[0,T], y0=np.eye(2), atol=1e-13, rtol=1e-13,method='jax_odeint')\n",
    "        return 1 - Array(fid_func(time_results.y[-1])).data\n",
    "\n",
    "    err_exact = vmap(err)(z_vals)\n",
    "    n_samples = len(err_exact)\n",
    "    filter_Gaussian = jnp.array(gaussian(n_samples, n_samples/5))/n_samples\n",
    "    return Array(jnp.sum(err_exact*filter_Gaussian)).data\n",
    "\n",
    "def f1():\n",
    "    jit_obj = jit(value_and_grad(obj1))\n",
    "    for i in range(len(inputs)):\n",
    "        val, grad = jit_obj(inputs[i])\n",
    "\n",
    "def f2():\n",
    "    jit_obj = jit(value_and_grad(obj2))\n",
    "    for i in range(len(inputs)):\n",
    "        val, grad = jit_obj(inputs[i])"
   ]
  },
  {
   "cell_type": "code",
   "execution_count": 17,
   "metadata": {},
   "outputs": [],
   "source": [
    "from time import time"
   ]
  },
  {
   "cell_type": "code",
   "execution_count": 18,
   "metadata": {
    "scrolled": true
   },
   "outputs": [
    {
     "name": "stdout",
     "output_type": "stream",
     "text": [
      "Time to jit and run once: 15.375475883483887\n",
      "Average jitted run time: 1.6591655413309734\n",
      "Average time including initial jit: 3.0307965755462645\n"
     ]
    }
   ],
   "source": [
    "#time it takes to evaluate the approximation\n",
    "\n",
    "jit_obj = jit(value_and_grad(obj1))\n",
    "\n",
    "start = time()\n",
    "val = jit_obj(inputs[0])[0].block_until_ready()\n",
    "jit_time = time() - start\n",
    "\n",
    "jitted_times = []\n",
    "for rand_in in inputs[1:]:\n",
    "    start = time()\n",
    "    val = jit_obj(rand_in)[0].block_until_ready()\n",
    "    jitted_times.append(time() - start)\n",
    "\n",
    "print('Time to jit and run once: ' + str(jit_time))\n",
    "print('Average jitted run time: ' + str(np.sum(jitted_times) / len(jitted_times)))\n",
    "print('Average time including initial jit: ' + str((np.sum(jitted_times) + jit_time) / (len(jitted_times) + 1)))"
   ]
  },
  {
   "cell_type": "code",
   "execution_count": 19,
   "metadata": {},
   "outputs": [
    {
     "name": "stdout",
     "output_type": "stream",
     "text": [
      "Time to jit and run once: 24.74736213684082\n",
      "Average jitted run time: 18.19731929567125\n",
      "Average time including initial jit: 18.85232357978821\n"
     ]
    }
   ],
   "source": [
    "#time it takes to evaluate the exact fid curve\n",
    "\n",
    "jit_obj = jit(value_and_grad(obj2))\n",
    "\n",
    "start = time()\n",
    "val = jit_obj(inputs[0])[0].block_until_ready()\n",
    "jit_time = time() - start\n",
    "\n",
    "jitted_times = []\n",
    "for rand_in in inputs[1:]:\n",
    "    start = time()\n",
    "    val = jit_obj(rand_in)[0].block_until_ready()\n",
    "    jitted_times.append(time() - start)\n",
    "\n",
    "print('Time to jit and run once: ' + str(jit_time))\n",
    "print('Average jitted run time: ' + str(np.sum(jitted_times) / len(jitted_times)))\n",
    "print('Average time including initial jit: ' + str((np.sum(jitted_times) + jit_time) / (len(jitted_times) + 1)))"
   ]
  },
  {
   "cell_type": "code",
   "execution_count": 20,
   "metadata": {},
   "outputs": [],
   "source": [
    "jit_obj = jit_obj2 = jit(value_and_grad(obj1))"
   ]
  },
  {
   "cell_type": "code",
   "execution_count": 21,
   "metadata": {},
   "outputs": [
    {
     "name": "stdout",
     "output_type": "stream",
     "text": [
      "CPU times: user 15 s, sys: 84.7 ms, total: 15.1 s\n",
      "Wall time: 15.1 s\n"
     ]
    }
   ],
   "source": [
    "%time test = jit_obj(inputs[1])[0].block_until_ready()"
   ]
  },
  {
   "cell_type": "code",
   "execution_count": 22,
   "metadata": {},
   "outputs": [],
   "source": [
    "jit_obj2 = jit(value_and_grad(obj2))"
   ]
  },
  {
   "cell_type": "code",
   "execution_count": 23,
   "metadata": {},
   "outputs": [
    {
     "name": "stdout",
     "output_type": "stream",
     "text": [
      "CPU times: user 26.2 s, sys: 725 ms, total: 26.9 s\n",
      "Wall time: 25 s\n"
     ]
    }
   ],
   "source": [
    "%time test = jit_obj2(inputs[1])[0].block_until_ready()"
   ]
  },
  {
   "cell_type": "markdown",
   "metadata": {},
   "source": [
    "# 2. Approximate fidelity with Magnus terms, in the presence of 2 perturbations\n",
    "\n",
    "We now have 2 perturbations, $\\delta_0$ and $\\delta_1$, where $\\delta_1$ is similar to a variation in transfer function.\n",
    "\\begin{equation}\n",
    "    H(t) = 2\\pi\\delta_0 a^\\dagger a+\\pi \\alpha a^\\dagger a (a^\\dagger a - 1) + 2 \\pi r(1+\\delta_1)[ c_x(t) (a + a^\\dagger) + c_y(t) i(a - a^\\dagger)].\n",
    "\\end{equation}"
   ]
  },
  {
   "cell_type": "code",
   "execution_count": 23,
   "metadata": {},
   "outputs": [],
   "source": [
    "# the added perturbation - transfer function variation\n",
    "def A1(t):\n",
    "    N_steps = jnp.linspace(0, dt_filter * 225, 225)\n",
    "    c1 = pc1(t)\n",
    "    c2 = pc2(t)\n",
    "    return -1j*(c1*Hc[0] + c2*Hc[1])\n",
    "\n",
    "#use the \"generator\" as input\n",
    "results = solve_lmde_perturbation(A_list=[A0, A1], # list of A matrices\n",
    "                             perturbation_method='symmetric_magnus',\n",
    "                             perturbation_order=3,\n",
    "                             t_span=[0, T], # integrate over one period of drive oscillation\n",
    "                             generator=G, # generator\n",
    "                             y0=np.eye(2), # initial state for base DE U'(t) = G(t)U(t)\n",
    "                             method='jax_odeint',\n",
    "                             rtol=1e-13, # standard solver arguments\n",
    "                             atol=1e-13)"
   ]
  },
  {
   "cell_type": "code",
   "execution_count": 24,
   "metadata": {},
   "outputs": [],
   "source": [
    "U = results.y[-1] #unitary tranformation when there's no error\n",
    "#symmetric Magnus terms\n",
    "M0 = results.perturbation_results[[0]][-1]\n",
    "M1 = results.perturbation_results[[1]][-1]\n",
    "M00 = results.perturbation_results[[0, 0]][-1]\n",
    "M11 = results.perturbation_results[[1, 1]][-1]\n",
    "M01 = results.perturbation_results[[0, 1]][-1]\n",
    "M000 = results.perturbation_results[[0, 0, 0]][-1]\n",
    "M001 = results.perturbation_results[[0, 0, 1]][-1]\n",
    "M011 = results.perturbation_results[[0, 1, 1]][-1]\n",
    "M111 = results.perturbation_results[[1, 1, 1]][-1]"
   ]
  },
  {
   "cell_type": "code",
   "execution_count": 25,
   "metadata": {},
   "outputs": [],
   "source": [
    "# get the 2nd and 3rd order approximate error rates using the Magnus terms\n",
    "def err_est(c1, c2, order):\n",
    "    #2nd order approximation\n",
    "    if order == 2:\n",
    "        U_approx = U@expm(c1*M0+c2*M1+c1*c2*M01+c1**2*M00+c2**2*M11)\n",
    "    #3rd order approximation\n",
    "    elif order == 3:\n",
    "        U_approx = U@expm(c1*M0+c2*M1+c1*c2*M01+c1**2*M00+c2**2*M11\n",
    "                          +c1**3*M000+c2**3*M111+c1**2*c2*M001+c1*c2**2*M011)\n",
    "    fid = fid_func(U_approx)\n",
    "    return 1. - fid \n",
    "\n",
    "v_vals = jnp.linspace(-0.2, 0.2, len(z_vals))\n",
    "err_estimate2 = [err_est(z,v,2) for v in v_vals for z in z_vals]\n",
    "err_estimate3 = [err_est(z,v,3) for v in v_vals for z in z_vals]"
   ]
  },
  {
   "cell_type": "code",
   "execution_count": 17,
   "metadata": {},
   "outputs": [],
   "source": [
    "#exact error with the two perturbations\n",
    "def exact_err(args):\n",
    "    c1,c2 = args\n",
    "    pc1_ = DiscreteSignal(dt=dt_filter, samples=(1+c2)*signal1,carrier_freq=0.)\n",
    "    pc2_ = DiscreteSignal(dt=dt_filter, samples=(1+c2)*signal2,carrier_freq=0.)\n",
    "    signals2 = [Constant(1.), pc1_, pc2_, Constant(c1)]\n",
    "    ham_copy = hamiltonian1.copy()\n",
    "    ham_copy.signals = signals2\n",
    "    time_results = solve_lmde(ham_copy, t_span=[0,T], y0=np.eye(2), atol=1e-13, rtol=1e-13,method='jax_odeint')\n",
    "    return 1.-fid_func(time_results.y[-1]).data\n",
    "\n",
    "err_exact = vmap(exact_err)((jnp.tile(z_vals,len(v_vals)),jnp.repeat(v_vals,len(z_vals))))"
   ]
  },
  {
   "cell_type": "code",
   "execution_count": 30,
   "metadata": {},
   "outputs": [
    {
     "name": "stderr",
     "output_type": "stream",
     "text": [
      "<ipython-input-30-d0d25891a67b>:3: MatplotlibDeprecationWarning: shading='flat' when X and Y have the same dimensions as C is deprecated since 3.3.  Either specify the corners of the quadrilaterals with X and Y, or pass shading='auto', 'nearest' or 'gouraud', or set rcParams['pcolor.shading'].  This will become an error two minor releases later.\n",
      "  im0 = ax0.pcolormesh(z_vals, v_vals, err_exact.reshape(len(z_vals),len(v_vals)))\n",
      "<ipython-input-30-d0d25891a67b>:4: MatplotlibDeprecationWarning: shading='flat' when X and Y have the same dimensions as C is deprecated since 3.3.  Either specify the corners of the quadrilaterals with X and Y, or pass shading='auto', 'nearest' or 'gouraud', or set rcParams['pcolor.shading'].  This will become an error two minor releases later.\n",
      "  im1 = ax1.pcolormesh(z_vals, v_vals, jnp.array(err_estimate2).reshape(len(z_vals),len(v_vals)))\n",
      "<ipython-input-30-d0d25891a67b>:5: MatplotlibDeprecationWarning: shading='flat' when X and Y have the same dimensions as C is deprecated since 3.3.  Either specify the corners of the quadrilaterals with X and Y, or pass shading='auto', 'nearest' or 'gouraud', or set rcParams['pcolor.shading'].  This will become an error two minor releases later.\n",
      "  im2 = ax2.pcolormesh(z_vals, v_vals, jnp.array(err_estimate3).reshape(len(z_vals),len(v_vals)))\n"
     ]
    },
    {
     "data": {
      "image/png": "[encoded data removed]",
      "text/plain": [
       "<Figure size 432x288 with 6 Axes>"
      ]
     },
     "metadata": {
      "needs_background": "light"
     },
     "output_type": "display_data"
    }
   ],
   "source": [
    "#plot the estimates and the exact errors together\n",
    "fig, (ax0, ax1, ax2) = plt.subplots(nrows=3)\n",
    "im0 = ax0.pcolormesh(z_vals, v_vals, err_exact.reshape(len(z_vals),len(v_vals)))\n",
    "im1 = ax1.pcolormesh(z_vals, v_vals, jnp.array(err_estimate2).reshape(len(z_vals),len(v_vals)))\n",
    "im2 = ax2.pcolormesh(z_vals, v_vals, jnp.array(err_estimate3).reshape(len(z_vals),len(v_vals)))\n",
    "ax0.title.set_text('Exact error')\n",
    "ax1.title.set_text('2nd order approximation')\n",
    "ax2.title.set_text('3rd order approximation')\n",
    "fig.colorbar(im0, ax=ax0)\n",
    "fig.colorbar(im1, ax=ax1)\n",
    "fig.colorbar(im2, ax=ax2)\n",
    "plt.subplots_adjust(left=None, bottom=None, right=None, top=None, wspace=None, hspace=0.8)\n",
    "plt.show()"
   ]
  },
  {
   "cell_type": "code",
   "execution_count": 31,
   "metadata": {},
   "outputs": [
    {
     "data": {
      "text/plain": [
       "Text(0, 0.5, 'Error')"
      ]
     },
     "execution_count": 31,
     "metadata": {},
     "output_type": "execute_result"
    },
    {
     "data": {
      "image/png": "[encoded data removed]",
      "text/plain": [
       "<Figure size 432x288 with 1 Axes>"
      ]
     },
     "metadata": {
      "needs_background": "light"
     },
     "output_type": "display_data"
    }
   ],
   "source": [
    "#Plot the diagonal of the 2D plot above\n",
    "dia_err_exact = [err_exact.reshape(len(z_vals),len(v_vals))[i,i] for i in range(len(z_vals))]\n",
    "dia_err2 = [jnp.array(err_estimate2).reshape(len(z_vals),len(v_vals))[i,i] for i in range(len(z_vals))]\n",
    "dia_err3 = [jnp.array(err_estimate3).reshape(len(z_vals),len(v_vals))[i,i] for i in range(len(z_vals))]\n",
    "\n",
    "plt.plot(z_vals, dia_err2,label='2nd order Est')\n",
    "plt.plot(z_vals, dia_err3,label='3rd order Est')\n",
    "plt.plot(z_vals, dia_err_exact,color='g',label='Exact')\n",
    "plt.legend()\n",
    "plt.xlabel('Perturbation magnitude')\n",
    "plt.ylabel('Error')"
   ]
  },
  {
   "cell_type": "code",
   "execution_count": null,
   "metadata": {},
   "outputs": [],
   "source": []
  }
 ],
 "metadata": {
  "kernelspec": {
   "display_name": "Python 3",
   "language": "python",
   "name": "python3"
  },
  "language_info": {
   "codemirror_mode": {
    "name": "ipython",
    "version": 3
   },
   "file_extension": ".py",
   "mimetype": "text/x-python",
   "name": "python",
   "nbconvert_exporter": "python",
   "pygments_lexer": "ipython3",
   "version": "3.8.2"
  }
 },
 "nbformat": 4,
 "nbformat_minor": 4
}
