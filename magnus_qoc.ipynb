{
 "cells": [
  {
   "cell_type": "code",
   "execution_count": 1,
   "metadata": {},
   "outputs": [
    {
     "name": "stderr",
     "output_type": "stream",
     "text": [
      "/Users/dpuzzuoli/Documents/projects/qiskit-dynamics/qiskit_dynamics/dispatch/array.py:20: DeprecationWarning: Importing Array from `qiskit_dynamics.dispatch` is deprecated and will be removed next release. Import from `qiskit_dynamics.array` instead.\n",
      "  warnings.warn(\n",
      "WARNING:absl:No GPU/TPU found, falling back to CPU. (Set TF_CPP_MIN_LOG_LEVEL=0 and rerun for more info.)\n"
     ]
    }
   ],
   "source": [
    "import timeit\n",
    "\n",
    "import matplotlib.pyplot as plt\n",
    "from jax import jit, grad, vmap\n",
    "from jax import numpy as jnp\n",
    "from jax.scipy.optimize import minimize\n",
    "from jax import value_and_grad\n",
    "from jax.lax import scan\n",
    "\n",
    "import numpy as np\n",
    "from jax.scipy.linalg import expm\n",
    "from scipy.signal import gaussian\n",
    "\n",
    "from qiskit.quantum_info.operators import Operator\n",
    "from qiskit_dynamics import dispatch\n",
    "from qiskit_dynamics.dispatch import Array\n",
    "from qiskit_dynamics.models import HamiltonianModel\n",
    "from qiskit_dynamics import Signal, DiscreteSignal, solve_lmde\n",
    "\n",
    "from jax.config import config\n",
    "config.update(\"jax_enable_x64\", True)\n",
    "dispatch.set_default_backend('jax')\n",
    "\n",
    "from qiskit_dynamics_internal.perturbation import solve_lmde_perturbation\n",
    "from discrete_signals import get_param_to_signal\n",
    "from objectives import get_grape_fidelity_func\n",
    "\n",
    "Z = Array([[1., 0.], [0., -1.]], dtype=complex)\n",
    "X = Array([[0., 1.], [1., 0.]], dtype=complex)\n",
    "Y = Array([[0., -1j], [1j, 0.]], dtype=complex)\n",
    "\n",
    "tol = 1e-8"
   ]
  },
  {
   "cell_type": "markdown",
   "metadata": {},
   "source": [
    "# 1. In the presence of 2 perturbations, demonstrate approximating fidelity with Magnus terms\n",
    "\n",
    "Here we set up a duffing oscillator model in the rotating frame of an on-resonance drive frequency, after the RWA:\n",
    "\\begin{equation}\n",
    "    H(t) = 2\\pi\\delta_0 a^\\dagger a+\\pi \\alpha a^\\dagger a (a^\\dagger a - 1) + 2 \\pi r(1+\\delta_1)[ c_x(t) (a + a^\\dagger) + c_y(t) i(a - a^\\dagger)].\n",
    "\\end{equation}\n",
    "where\n",
    "- $\\delta_0$ is the difference between the qubit frequency and drive frequency\n",
    "-$\\delta_1$ is similar to a variation in transfer function\n",
    "- $\\alpha$ is the anharmonicity\n",
    "- $r$ is the drive strength, and\n",
    "- $c_x(t)$ and $c_y(t)$ are the x and y control fields"
   ]
  },
  {
   "cell_type": "code",
   "execution_count": 2,
   "metadata": {},
   "outputs": [],
   "source": [
    "#setting\n",
    "\n",
    "dim = 4 # dimension cutoff for oscillators\n",
    "\n",
    "# truncated annihilation, creation, and number operators\n",
    "a = jnp.diag(np.sqrt(np.arange(1, dim, dtype=complex)), -1)\n",
    "adag = a.conj().transpose()\n",
    "numb = jnp.diag(np.arange(dim, dtype=complex))\n",
    "\n",
    "# truncated oscillator X and Y\n",
    "osc_X = a + adag\n",
    "osc_Y = 1j*(a-adag)\n",
    "\n",
    "\n",
    "# model parameters - work in units of GHz/ns\n",
    "anharm = -0.33\n",
    "drive_strength = 0.02\n",
    "\n",
    "# drift Hamiltonian on resonance\n",
    "H0 = Array(np.pi * anharm * numb * (numb - jnp.eye(dim)))\n",
    "\n",
    "# control terms - X and Y multiplied by 2 pi * drive_strength\n",
    "Hc = Array(2 * np.pi * drive_strength * jnp.array([osc_X, osc_Y]))\n",
    "perturb = Array(-1j*2*np.pi*numb) #the 0th perturbation\n",
    "\n",
    "Utarget = X\n",
    "\n",
    "Alist = -1j * Hc\n",
    "D = -1j * H0\n",
    "\n",
    "dt_filter = 0.125\n",
    "\n",
    "#get fidelity function\n",
    "fid_func = get_grape_fidelity_func(X)\n",
    "\n",
    "# helper function for 2D meshplots\n",
    "def cell_centered(arr_in):\n",
    "    arr_out = np.empty(len(arr_in)+1)\n",
    "    dist = arr_in[1] - arr_in[0]\n",
    "    for i in range(len(arr_in)):\n",
    "        arr_out[i] = arr_in[i] - dist/2\n",
    "    arr_out[-1] = arr_in[-1] + dist/2\n",
    "    return arr_out"
   ]
  },
  {
   "cell_type": "markdown",
   "metadata": {},
   "source": [
    "## 1.1 Set up signal parameterization\n",
    "\n",
    "Here we use discretized legendre polynomials up to a given order `leg_order` for a given number of time steps `N`, which are then filtered to be smooth. This is contained in the `get_param_to_signal` function, which we should explain in detail."
   ]
  },
  {
   "cell_type": "code",
   "execution_count": 3,
   "metadata": {},
   "outputs": [],
   "source": [
    "# choose the size of the legendre basis\n",
    "leg_order = 4\n",
    "# choose # steps of the signal\n",
    "N = 25\n",
    "\n",
    "#randomly generate a signal in the legendre basis\n",
    "param = jnp.array(np.random.rand(2,leg_order + 1))\n",
    "\n",
    "#Convert the signal from legendre basis to time series\n",
    "\n",
    "#get the filter\n",
    "param_to_signal = get_param_to_signal(leg_order, N)\n",
    "#get the signal\n",
    "signal = param_to_signal(param)\n",
    "signal1 = signal[:,0]\n",
    "signal2 = signal[:,1]\n",
    "\n",
    "T = dt_filter*len(signal1) #28.125 for (4,25)\n",
    "\n",
    "pc1 = DiscreteSignal(dt=dt_filter, samples=signal1,carrier_freq=0.)\n",
    "pc2 = DiscreteSignal(dt=dt_filter, samples=signal2,carrier_freq=0.)\n",
    "operators = [H0, Hc[0], Hc[1], 1j*perturb]\n",
    "hamiltonian = HamiltonianModel(operators=Array(operators))\n",
    "\n",
    "def G(t):#the generator\n",
    "    c1 = pc1(t)\n",
    "    c2 = pc2(t)\n",
    "    return -1j*(H0 + c1*Hc[0] + c2*Hc[1])\n",
    "\n",
    "#the 1st perturbation\n",
    "def A0(t):\n",
    "    return perturb\n",
    "\n",
    "# the 2nd perturbation - transfer function variation\n",
    "def A1(t):\n",
    "    c1 = pc1(t)\n",
    "    c2 = pc2(t)\n",
    "    return -1j*(c1*Hc[0] + c2*Hc[1])"
   ]
  },
  {
   "cell_type": "code",
   "execution_count": 4,
   "metadata": {},
   "outputs": [
    {
     "name": "stderr",
     "output_type": "stream",
     "text": [
      "/Users/dpuzzuoli/Documents/projects/qiskit-dynamics/qiskit_dynamics/dispatch/array.py:20: DeprecationWarning: Importing Array from `qiskit_dynamics.dispatch` is deprecated and will be removed next release. Import from `qiskit_dynamics.array` instead.\n",
      "  warnings.warn(\n"
     ]
    }
   ],
   "source": [
    "ham = hamiltonian.copy()\n",
    "ham.signals = [1., pc1, pc2, 0.]\n",
    "\n",
    "results = solve_lmde_perturbation(A_list=[A0, A1], # list of A matrices\n",
    "                             perturbation_method='symmetric_magnus',\n",
    "                             perturbation_order=5,\n",
    "                             t_span=[0, T], # integrate over one period of drive oscillation\n",
    "                             generator=ham, # generator\n",
    "                             y0=np.eye(dim), # initial state for base DE U'(t) = G(t)U(t)\n",
    "                             method='jax_odeint',\n",
    "                             rtol=1e-13, # standard solver arguments\n",
    "                             atol=1e-13)"
   ]
  },
  {
   "cell_type": "markdown",
   "metadata": {},
   "source": [
    "Extract final unitary and construct polynomials for various orders."
   ]
  },
  {
   "cell_type": "code",
   "execution_count": 5,
   "metadata": {},
   "outputs": [],
   "source": [
    "U = results.y[-1]\n",
    "\n",
    "from qiskit_dynamics_internal.perturbation.power_series_utils import MatrixPolynomial\n",
    "\n",
    "term_labels = results.perturbation_results.term_labels\n",
    "perturbation_terms = results.perturbation_results.perturbation_terms\n",
    "\n",
    "# second order polynomial\n",
    "n_terms = list(map(lambda x: len(x) <= 2, term_labels)).count(True)\n",
    "magnus_poly2 = MatrixPolynomial(perturbation_terms[:n_terms, -1],\n",
    "                                monomial_multisets=term_labels[:n_terms])\n",
    "\n",
    "# third order polynomial\n",
    "n_terms = list(map(lambda x: len(x) <= 3, term_labels)).count(True)\n",
    "magnus_poly3 = MatrixPolynomial(perturbation_terms[:n_terms, -1],\n",
    "                                monomial_multisets=term_labels[:n_terms])\n",
    "\n",
    "# fourth order polynomial\n",
    "n_terms = list(map(lambda x: len(x) <= 4, term_labels)).count(True)\n",
    "magnus_poly4 = MatrixPolynomial(perturbation_terms[:n_terms, -1],\n",
    "                                monomial_multisets=term_labels[:n_terms])\n",
    "\n",
    "# fifth order polynomial\n",
    "n_terms = list(map(lambda x: len(x) <= 5, term_labels)).count(True)\n",
    "magnus_poly5 = MatrixPolynomial(perturbation_terms[:n_terms, -1],\n",
    "                                monomial_multisets=term_labels[:n_terms])\n",
    "\n",
    "magnus_polynomials = [magnus_poly2, magnus_poly3, magnus_poly4, magnus_poly5]"
   ]
  },
  {
   "cell_type": "markdown",
   "metadata": {},
   "source": [
    "Compute error estimates over a range of values of $c1$ and $c2$ using the Magnus approximation."
   ]
  },
  {
   "cell_type": "code",
   "execution_count": 6,
   "metadata": {},
   "outputs": [],
   "source": [
    "# get the 2nd to 5th order approximate error rates using the Magnus terms\n",
    "def err_est(c1, c2, order):\n",
    "    \n",
    "    coeffs = jnp.array([c1, c2])\n",
    "    \n",
    "    U_approx = U @ expm(magnus_polynomials[order - 2](coeffs).data)\n",
    "    \n",
    "    fid = fid_func(U_approx)\n",
    "    return 1. - fid \n",
    "\n",
    "z_vals = jnp.linspace(-1.5*drive_strength, 1.5*drive_strength, 20)\n",
    "v_vals = jnp.linspace(-0.2, 0.2, len(z_vals))\n",
    "err_estimate2 = [err_est(z,v,2) for v in v_vals for z in z_vals]\n",
    "err_estimate3 = [err_est(z,v,3) for v in v_vals for z in z_vals]\n",
    "err_estimate4 = [err_est(z,v,4) for v in v_vals for z in z_vals]\n",
    "err_estimate5 = [err_est(z,v,5) for v in v_vals for z in z_vals]"
   ]
  },
  {
   "cell_type": "markdown",
   "metadata": {},
   "source": [
    "Compute error via direct simulation."
   ]
  },
  {
   "cell_type": "code",
   "execution_count": 7,
   "metadata": {},
   "outputs": [],
   "source": [
    "#exact error with the two perturbations\n",
    "def exact_err(args):\n",
    "    c1,c2 = args\n",
    "    pc1_ = DiscreteSignal(dt=dt_filter, samples=(1+c2)*signal1,carrier_freq=0.)\n",
    "    pc2_ = DiscreteSignal(dt=dt_filter, samples=(1+c2)*signal2,carrier_freq=0.)\n",
    "    signals2 = [1., pc1_, pc2_, Array(c1)]\n",
    "    ham_copy = hamiltonian.copy()\n",
    "    ham_copy.signals = signals2\n",
    "    time_results = solve_lmde(ham_copy, t_span=[0,T], y0=np.eye(dim), atol=tol, rtol=tol,method='jax_odeint')\n",
    "    return 1.-fid_func(time_results.y[-1]).data\n",
    "\n",
    "err_exact = vmap(exact_err)((jnp.tile(z_vals,len(v_vals)),jnp.repeat(v_vals,len(z_vals))))"
   ]
  },
  {
   "cell_type": "markdown",
   "metadata": {},
   "source": [
    "Plot the difference."
   ]
  },
  {
   "cell_type": "code",
   "execution_count": 8,
   "metadata": {},
   "outputs": [
    {
     "data": {
      "image/png": "[encoded data removed]",
      "text/plain": [
       "<Figure size 360x1332 with 8 Axes>"
      ]
     },
     "metadata": {
      "needs_background": "light"
     },
     "output_type": "display_data"
    }
   ],
   "source": [
    "from mpl_toolkits.axes_grid1 import make_axes_locatable\n",
    "import matplotlib.colors as colors\n",
    "\n",
    "#plot the differences between estimates and exact error\n",
    "fig, (ax1, ax2, ax3, ax4) = plt.subplots(nrows=4)\n",
    "diff2 = jnp.array(err_estimate2) - err_exact\n",
    "diff3 = jnp.array(err_estimate3) - err_exact\n",
    "diff4 = jnp.array(err_estimate4) - err_exact\n",
    "diff5 = jnp.array(err_estimate5) - err_exact\n",
    "\n",
    "x_cell = cell_centered(z_vals)\n",
    "y_cell = cell_centered(v_vals)\n",
    "\n",
    "#im0 = ax0.pcolormesh(z_vals, v_vals, err_exact.reshape(len(z_vals),len(v_vals)))\n",
    "im1 = ax1.pcolormesh(x_cell, y_cell, diff2.reshape(len(z_vals),len(v_vals)),\n",
    "                     norm=colors.SymLogNorm(linthresh=0.03, linscale=0.03,vmin=-1.0, vmax=1.0),\n",
    "                     cmap='RdBu_r')\n",
    "im2 = ax2.pcolormesh(x_cell, y_cell, diff3.reshape(len(z_vals),len(v_vals)),\n",
    "                     norm=colors.SymLogNorm(linthresh=0.03, linscale=0.03,vmin=-1.0, vmax=1.0),\n",
    "                     cmap='RdBu_r')\n",
    "im3 = ax3.pcolormesh(x_cell, y_cell, diff4.reshape(len(z_vals),len(v_vals)),\n",
    "                     norm=colors.SymLogNorm(linthresh=0.03, linscale=0.03,vmin=-1.0, vmax=1.0),\n",
    "                     cmap='RdBu_r')\n",
    "im4 = ax4.pcolormesh(x_cell, y_cell, diff5.reshape(len(z_vals),len(v_vals)),\n",
    "                     norm=colors.SymLogNorm(linthresh=0.03, linscale=0.03,vmin=-1.0, vmax=1.0),\n",
    "                     cmap='RdBu_r')\n",
    "#ax0.title.set_text('Exact error')\n",
    "ax1.title.set_text('Exact error - 2nd order approximation')\n",
    "ax2.title.set_text('Exact error - 3rd order approximation')\n",
    "ax3.title.set_text('Exact error - 4th order approximation')\n",
    "ax4.title.set_text('Exact error - 5th order approximation')\n",
    "#fig.colorbar(im0, ax=ax0)\n",
    "fig.colorbar(im1, ax=ax1)\n",
    "fig.colorbar(im2, ax=ax2)\n",
    "fig.colorbar(im3, ax=ax3)\n",
    "fig.colorbar(im4, ax=ax4)\n",
    "plt.subplots_adjust(left=None, bottom=None, right=None, top=None, wspace=None, hspace=0.5)\n",
    "fig.set_size_inches(5, 18.5) #change these numbers to adjust the plots\n",
    "plt.show()"
   ]
  },
  {
   "cell_type": "code",
   "execution_count": 9,
   "metadata": {},
   "outputs": [
    {
     "data": {
      "text/plain": [
       "Text(0, 0.5, 'Error')"
      ]
     },
     "execution_count": 9,
     "metadata": {},
     "output_type": "execute_result"
    },
    {
     "data": {
      "image/png": "[encoded data removed]",
      "text/plain": [
       "<Figure size 432x288 with 1 Axes>"
      ]
     },
     "metadata": {
      "needs_background": "light"
     },
     "output_type": "display_data"
    }
   ],
   "source": [
    "#Plot the diagonal of the 2D plot above\n",
    "dia_err_exact = [err_exact.reshape(len(z_vals),len(v_vals))[i,i] for i in range(len(z_vals))]\n",
    "dia_err2 = [jnp.array(err_estimate2).reshape(len(z_vals),len(v_vals))[i,i] for i in range(len(z_vals))]\n",
    "dia_err3 = [jnp.array(err_estimate3).reshape(len(z_vals),len(v_vals))[i,i] for i in range(len(z_vals))]\n",
    "dia_err4 = [jnp.array(err_estimate4).reshape(len(z_vals),len(v_vals))[i,i] for i in range(len(z_vals))]\n",
    "dia_err5 = [jnp.array(err_estimate5).reshape(len(z_vals),len(v_vals))[i,i] for i in range(len(z_vals))]\n",
    "\n",
    "plt.plot(z_vals, dia_err2,label='2nd order Est')\n",
    "plt.plot(z_vals, dia_err3,label='3rd order Est')\n",
    "plt.plot(z_vals, dia_err4,label='4th order Est')\n",
    "plt.plot(z_vals, dia_err5,label='5th order Est')\n",
    "plt.plot(z_vals, dia_err_exact,label='Exact')\n",
    "plt.legend()\n",
    "plt.xlabel('Perturbation 1')\n",
    "plt.ylabel('Error')"
   ]
  },
  {
   "cell_type": "code",
   "execution_count": 10,
   "metadata": {},
   "outputs": [
    {
     "data": {
      "text/plain": [
       "Text(0, 0.5, 'Error')"
      ]
     },
     "execution_count": 10,
     "metadata": {},
     "output_type": "execute_result"
    },
    {
     "data": {
      "image/png": "[encoded data removed]",
      "text/plain": [
       "<Figure size 432x288 with 1 Axes>"
      ]
     },
     "metadata": {
      "needs_background": "light"
     },
     "output_type": "display_data"
    }
   ],
   "source": [
    "#Plot variation along vertical\n",
    "col = 15\n",
    "dia_err_exact = [err_exact.reshape(len(z_vals),len(v_vals))[i,col] for i in range(len(z_vals))]\n",
    "dia_err2 = [jnp.array(err_estimate2).reshape(len(z_vals),len(v_vals))[i,col] for i in range(len(z_vals))]\n",
    "dia_err3 = [jnp.array(err_estimate3).reshape(len(z_vals),len(v_vals))[i,col] for i in range(len(z_vals))]\n",
    "dia_err4 = [jnp.array(err_estimate4).reshape(len(z_vals),len(v_vals))[i,col] for i in range(len(z_vals))]\n",
    "dia_err5 = [jnp.array(err_estimate5).reshape(len(z_vals),len(v_vals))[i,col] for i in range(len(z_vals))]\n",
    "\n",
    "plt.plot(v_vals, dia_err2,label='2nd order Est')\n",
    "plt.plot(v_vals, dia_err3,label='3rd order Est')\n",
    "plt.plot(v_vals, dia_err4,label='4th order Est')\n",
    "plt.plot(v_vals, dia_err5,label='5th order Est')\n",
    "plt.plot(v_vals, dia_err_exact,label='Exact')\n",
    "plt.legend()\n",
    "plt.xlabel('Perturbation 2')\n",
    "plt.ylabel('Error')"
   ]
  },
  {
   "cell_type": "code",
   "execution_count": 11,
   "metadata": {},
   "outputs": [
    {
     "data": {
      "text/plain": [
       "Text(0, 0.5, 'Error')"
      ]
     },
     "execution_count": 11,
     "metadata": {},
     "output_type": "execute_result"
    },
    {
     "data": {
      "image/png": "[encoded data removed]",
      "text/plain": [
       "<Figure size 432x288 with 1 Axes>"
      ]
     },
     "metadata": {
      "needs_background": "light"
     },
     "output_type": "display_data"
    }
   ],
   "source": [
    "#Plot variation along horizontal\n",
    "row = 10\n",
    "dia_err_exact = [err_exact.reshape(len(z_vals),len(v_vals))[row,i] for i in range(len(z_vals))]\n",
    "dia_err2 = [jnp.array(err_estimate2).reshape(len(z_vals),len(v_vals))[row,i] for i in range(len(z_vals))]\n",
    "dia_err3 = [jnp.array(err_estimate3).reshape(len(z_vals),len(v_vals))[row,i] for i in range(len(z_vals))]\n",
    "dia_err4 = [jnp.array(err_estimate4).reshape(len(z_vals),len(v_vals))[row,i] for i in range(len(z_vals))]\n",
    "dia_err5 = [jnp.array(err_estimate5).reshape(len(z_vals),len(v_vals))[row,i] for i in range(len(z_vals))]\n",
    "\n",
    "plt.plot(z_vals, dia_err2,label='2nd order Est')\n",
    "plt.plot(z_vals, dia_err3,label='3rd order Est')\n",
    "plt.plot(z_vals, dia_err4,label='4th order Est')\n",
    "plt.plot(z_vals, dia_err5,label='5th order Est')\n",
    "plt.plot(z_vals, dia_err_exact,color='g',label='Exact')\n",
    "plt.legend()\n",
    "plt.xlabel('Perturbation 1')\n",
    "plt.ylabel('Error')"
   ]
  },
  {
   "cell_type": "markdown",
   "metadata": {},
   "source": [
    "# 2. Scaling in number of parameters\n",
    "\n",
    "The 2d plots above are nice for visualizing how increasing order helps. This next section demonstrates how the cost of this approach scales with the number of perturbations, for a fixed magnus order, as compared to direct simulation over a grid of points.\n",
    "\n",
    "For each perturbation, we will consider $5$ sample points along its axis. Hence, $n$ parameters, we will be aggregating estimates of the fidelity at $5^n$ points. At $n=7$ we have $5^7 = 78125$ points.\n",
    "\n",
    "We will do this at third order Magnus. Should we do higher order?"
   ]
  },
  {
   "cell_type": "code",
   "execution_count": 12,
   "metadata": {},
   "outputs": [
    {
     "name": "stderr",
     "output_type": "stream",
     "text": [
      "/Users/dpuzzuoli/Documents/projects/qiskit-dynamics/qiskit_dynamics/dispatch/array.py:20: DeprecationWarning: Importing Array from `qiskit_dynamics.dispatch` is deprecated and will be removed next release. Import from `qiskit_dynamics.array` instead.\n",
      "  warnings.warn(\n"
     ]
    }
   ],
   "source": [
    "magnus_order = 4\n",
    "\n",
    "#random inputs\n",
    "inputs = jnp.array(np.random.rand(10, 2, leg_order + 1))\n",
    "\n",
    "# drift Hamiltonian on resonance\n",
    "H0 = Array(np.pi * anharm * numb * (numb - jnp.eye(dim)))\n",
    "\n",
    "# control terms - X and Y multiplied by 2 pi * drive_strength\n",
    "Hc = Array(2 * np.pi * drive_strength * jnp.array([osc_X, osc_Y]))\n",
    "perturb0 = Array(-1j * 2 * np.pi * numb)\n",
    "#perturb1 = -1j*(c1*Hc[0] + c2*Hc[1])\n",
    "perturb2 = Array(-1j * np.pi * numb * (numb - jnp.eye(dim)))\n",
    "perturb3 = Array(-1j * 2 * np.pi * osc_X)\n",
    "perturb4 = Array(-1j * 2 * np.pi * osc_Y)\n",
    "#perturb5 = -1j*(c1**2*Hc[0])   #c**2 * (a + adag)\n",
    "perturb6 = Array(-1j * np.pi * anharm * numb * (numb - jnp.eye(dim)) * (numb - 2 * jnp.eye(dim)))\n",
    "\n",
    "# 1. resonant frequency uncertainty * perturb0\n",
    "# 2. anharmonicity uncertainty * perturb2\n",
    "# 3. drive strength uncertainty 1 * perturb3\n",
    "# 4. drive strength uncertainty 2 (or, amplitude/phase) * perturb4\n",
    "# 5. c**2 * (a + adag) or c * (a + adag)**2 * \n",
    "# 6. anharmonicity of higher levels, uncertainty in drive strength between different levels *"
   ]
  },
  {
   "cell_type": "code",
   "execution_count": 31,
   "metadata": {},
   "outputs": [],
   "source": [
    "n_samples = 5\n",
    "gaussian1 = jnp.array(gaussian(n_samples, n_samples/5))\n",
    "gaussian1 /= jnp.sum(gaussian1) #normalize the distribution\n",
    "gaussian2 = jnp.kron(gaussian1,gaussian1)\n",
    "gaussian3 = jnp.kron(gaussian2,gaussian1)\n",
    "gaussian4 = jnp.kron(gaussian3,gaussian1)\n",
    "gaussian5 = jnp.kron(gaussian4,gaussian1)\n",
    "gaussian6 = jnp.kron(gaussian5,gaussian1)\n",
    "gaussian7 = jnp.kron(gaussian6,gaussian1)\n",
    "\n",
    "\n",
    "#objective function defined with the approximate fid curve, 1 variation\n",
    "def magnus_obj0(param1, p0_vals):\n",
    "    sig1 = param_to_signal(param1)\n",
    "    pc1_ = DiscreteSignal(dt=dt_filter, samples=sig1[:,0],carrier_freq=0.)\n",
    "    pc2_ = DiscreteSignal(dt=dt_filter, samples=sig1[:,1],carrier_freq=0.)\n",
    "\n",
    "    def G_(t):#the generator\n",
    "        c1 = pc1_(t)\n",
    "        c2 = pc2_(t)\n",
    "        return -1j*(H0 + c1*Hc[0] + c2*Hc[1])\n",
    "    \n",
    "    results = solve_lmde_perturbation(A_list=[A0], # list of A matrices\n",
    "                             perturbation_method='symmetric_magnus',\n",
    "                             perturbation_order=magnus_order,\n",
    "                             t_span=[0, T], # integrate over one period of drive oscillation\n",
    "                             generator=G_, # generator\n",
    "                             y0=np.eye(dim), # initial state for base DE U'(t) = G(t)U(t)\n",
    "                             method='jax_odeint',\n",
    "                             rtol=tol, # standard solver arguments\n",
    "                             atol=tol)\n",
    "    U = results.y[-1]\n",
    "    #symmetric Magnus polynomial\n",
    "    perturb_terms = results.perturbation_results.perturbation_terms[:, -1]\n",
    "    term_labels = results.perturbation_results.term_labels\n",
    "    magnus_polynomial = MatrixPolynomial(matrix_coefficients=perturb_terms,\n",
    "                                         monomial_multisets=term_labels)\n",
    "    def err_est(args):\n",
    "        coeffs = jnp.array([args])\n",
    "        U_approx = U @ expm(magnus_polynomial(coeffs).data)\n",
    "        fid = fid_func(U_approx)\n",
    "        return 1. - Array(fid).data\n",
    "    \n",
    "    err_estimate = vmap(err_est)(p0_vals)\n",
    "    return Array(jnp.sum(err_estimate * gaussian1)).data\n",
    "\n",
    "#objective function defined with the approximate fid curve, 2 variations\n",
    "def magnus_obj1(param1, p0_vals, p1_vals):\n",
    "    sig1 = param_to_signal(param1)\n",
    "    pc1_ = DiscreteSignal(dt=dt_filter, samples=sig1[:,0],carrier_freq=0.)\n",
    "    pc2_ = DiscreteSignal(dt= dt_filter, samples=sig1[:,1],carrier_freq=0.)\n",
    "\n",
    "    def G_(t):#the generator\n",
    "        c1 = pc1_(t)\n",
    "        c2 = pc2_(t)\n",
    "        return -1j*(H0 + c1*Hc[0] + c2*Hc[1])\n",
    "\n",
    "    def A1_(t):\n",
    "        c1 = pc1_(t)\n",
    "        c2 = pc2_(t)\n",
    "        return -1j*(c1*Hc[0] + c2*Hc[1])\n",
    "    \n",
    "    results = solve_lmde_perturbation(A_list=[A0, A1_], # list of A matrices\n",
    "                             perturbation_method='symmetric_magnus',\n",
    "                             perturbation_order=magnus_order,\n",
    "                             t_span=[0, T], # integrate over one period of drive oscillation\n",
    "                             generator=G_, # generator\n",
    "                             y0=np.eye(dim), # initial state for base DE U'(t) = G(t)U(t)\n",
    "                             method='jax_odeint',\n",
    "                             rtol=tol, # standard solver arguments\n",
    "                             atol=tol)\n",
    "    U = results.y[-1]\n",
    "        #symmetric Magnus polynomial\n",
    "    perturb_terms = results.perturbation_results.perturbation_terms[:, -1]\n",
    "    term_labels = results.perturbation_results.term_labels\n",
    "    magnus_polynomial = MatrixPolynomial(matrix_coefficients=perturb_terms,\n",
    "                                         monomial_multisets=term_labels)\n",
    "    def err_est(args):\n",
    "        coeffs = jnp.array(args)\n",
    "        U_approx = U @ expm(magnus_polynomial(coeffs).data)\n",
    "        fid = fid_func(U_approx)\n",
    "        return 1. - Array(fid).data \n",
    "    p0_repeated = np.kron(p0_vals, np.ones(5))\n",
    "    p1_repeated = np.kron(np.ones(5), p1_vals)\n",
    "    err_estimate = vmap(err_est)((p0_repeated ,p1_repeated))\n",
    "    return Array(jnp.sum(err_estimate * gaussian2)) .data\n",
    "\n",
    "#objective function defined with the approximate fid curve, 3 variations\n",
    "def magnus_obj2(param1, p0_vals, p1_vals, p2_vals):\n",
    "    sig1 = param_to_signal(param1)\n",
    "    pc1_ = DiscreteSignal(dt=dt_filter, samples=sig1[:,0],carrier_freq=0.)\n",
    "    pc2_ = DiscreteSignal(dt=dt_filter, samples=sig1[:,1],carrier_freq=0.)\n",
    "\n",
    "    def G_(t):#the generator\n",
    "        c1 = pc1_(t)\n",
    "        c2 = pc2_(t)\n",
    "        return -1j*(H0 + c1*Hc[0] + c2*Hc[1])\n",
    "\n",
    "    def A1_(t):\n",
    "        c1 = pc1_(t)\n",
    "        c2 = pc2_(t)\n",
    "        return -1j*(c1*Hc[0] + c2*Hc[1])\n",
    "\n",
    "    def A2_(t):\n",
    "        return perturb2\n",
    "    \n",
    "    results = solve_lmde_perturbation(A_list=[A0, A1_, A2_], # list of A matrices\n",
    "                             perturbation_method='symmetric_magnus',\n",
    "                             perturbation_order=magnus_order,\n",
    "                             t_span=[0, T], # integrate over one period of drive oscillation\n",
    "                             generator=G_, # generator\n",
    "                             y0=np.eye(dim), # initial state for base DE U'(t) = G(t)U(t)\n",
    "                             method='jax_odeint',\n",
    "                             rtol=tol, # standard solver arguments\n",
    "                             atol=tol)\n",
    "    U = results.y[-1]\n",
    "        #symmetric Magnus polynomial\n",
    "    perturb_terms = results.perturbation_results.perturbation_terms[:, -1]\n",
    "    term_labels = results.perturbation_results.term_labels\n",
    "    magnus_polynomial = MatrixPolynomial(matrix_coefficients=perturb_terms,\n",
    "                                         monomial_multisets=term_labels)\n",
    "    def err_est(args):\n",
    "        coeffs = jnp.array(args)\n",
    "        U_approx = U @ expm(magnus_polynomial(coeffs).data)\n",
    "        fid = fid_func(U_approx)\n",
    "        return 1. - Array(fid).data \n",
    "    p0_repeated = jnp.kron(p0_vals, jnp.ones(25))\n",
    "    p1_repeated = jnp.kron( jnp.kron(jnp.ones(5), p1_vals), jnp.ones(5))\n",
    "    p2_repeated = jnp.kron(jnp.ones(25), p2_vals)\n",
    "    err_estimate = vmap(err_est)((p0_repeated, p1_repeated, p2_repeated))\n",
    "    return Array(jnp.sum(err_estimate * gaussian3)).data\n",
    "\n",
    "#objective function defined with the approximate fid curve, 4 variations\n",
    "def magnus_obj3(param1, p0_vals, p1_vals, p2_vals, p3_vals):\n",
    "    sig1 = param_to_signal(param1)\n",
    "    pc1_ = DiscreteSignal(dt=dt_filter, samples=sig1[:,0],carrier_freq=0.)\n",
    "    pc2_ = DiscreteSignal(dt=dt_filter, samples=sig1[:,1],carrier_freq=0.)\n",
    "\n",
    "    def G_(t):#the generator\n",
    "        c1 = pc1_(t)\n",
    "        c2 = pc2_(t)\n",
    "        return -1j*(H0 + c1*Hc[0] + c2*Hc[1])\n",
    "\n",
    "    def A1_(t):\n",
    "        c1 = pc1_(t)\n",
    "        c2 = pc2_(t)\n",
    "        return -1j*(c1*Hc[0] + c2*Hc[1])\n",
    "\n",
    "    def A2_(t):\n",
    "        return perturb2\n",
    "\n",
    "    def A3_(t):\n",
    "        return perturb3\n",
    "    \n",
    "    results = solve_lmde_perturbation(A_list=[A0, A1_, A2_, A3_], # list of A matrices\n",
    "                             perturbation_method='symmetric_magnus',\n",
    "                             perturbation_order=magnus_order,\n",
    "                             t_span=[0, T], # integrate over one period of drive oscillation\n",
    "                             generator=G_, # generator\n",
    "                             y0=np.eye(dim), # initial state for base DE U'(t) = G(t)U(t)\n",
    "                             method='jax_odeint',\n",
    "                             rtol=tol, # standard solver arguments\n",
    "                             atol=tol)\n",
    "    U = results.y[-1]\n",
    "        #symmetric Magnus polynomial\n",
    "    perturb_terms = results.perturbation_results.perturbation_terms[:, -1]\n",
    "    term_labels = results.perturbation_results.term_labels\n",
    "    magnus_polynomial = MatrixPolynomial(matrix_coefficients=perturb_terms,\n",
    "                                         monomial_multisets=term_labels)\n",
    "    def err_est(args):\n",
    "        coeffs = jnp.array(args)\n",
    "        U_approx = U @ expm(magnus_polynomial(coeffs).data)\n",
    "        fid = fid_func(U_approx)\n",
    "        return 1. - Array(fid).data \n",
    "    p0_repeated = jnp.kron(p0_vals, jnp.ones(5**3))\n",
    "    p1_repeated = jnp.kron(jnp.kron(jnp.ones(5), p1_vals), jnp.ones(5**2))\n",
    "    p2_repeated = jnp.kron(jnp.kron(jnp.ones(5**2), p2_vals), jnp.ones(5))\n",
    "    p3_repeated = jnp.kron(jnp.ones(5**3), p3_vals)\n",
    "    err_estimate = vmap(err_est)((p0_repeated, p1_repeated, p2_repeated, p3_repeated))\n",
    "    return Array(jnp.sum(err_estimate * gaussian4)).data\n",
    "\n",
    "\n",
    "#objective function defined with the approximate fid curve, 5 variations\n",
    "def magnus_obj4(param1, p0_vals, p1_vals, p2_vals, p3_vals, p4_vals):\n",
    "    sig1 = param_to_signal(param1)\n",
    "    pc1_ = DiscreteSignal(dt=dt_filter, samples=sig1[:,0],carrier_freq=0.)\n",
    "    pc2_ = DiscreteSignal(dt=dt_filter, samples=sig1[:,1],carrier_freq=0.)\n",
    "\n",
    "    def G_(t):#the generator\n",
    "        c1 = pc1_(t)\n",
    "        c2 = pc2_(t)\n",
    "        return -1j*(H0 + c1*Hc[0] + c2*Hc[1])\n",
    "\n",
    "    def A1_(t):\n",
    "        c1 = pc1_(t)\n",
    "        c2 = pc2_(t)\n",
    "        return -1j*(c1*Hc[0] + c2*Hc[1])\n",
    "\n",
    "    def A2_(t):\n",
    "        return perturb2\n",
    "\n",
    "    def A3_(t):\n",
    "        return perturb3\n",
    "\n",
    "    def A4_(t):\n",
    "        return perturb4\n",
    "    \n",
    "    results = solve_lmde_perturbation(A_list=[A0, A1_, A2_, A3_, A4_], # list of A matrices\n",
    "                             perturbation_method='symmetric_magnus',\n",
    "                             perturbation_order=magnus_order,\n",
    "                             t_span=[0, T], # integrate over one period of drive oscillation\n",
    "                             generator=G_, # generator\n",
    "                             y0=np.eye(dim), # initial state for base DE U'(t) = G(t)U(t)\n",
    "                             method='jax_odeint',\n",
    "                             rtol=tol, # standard solver arguments\n",
    "                             atol=tol)\n",
    "    U = results.y[-1]\n",
    "    #symmetric Magnus polynomial\n",
    "    perturb_terms = results.perturbation_results.perturbation_terms[:, -1]\n",
    "    term_labels = results.perturbation_results.term_labels\n",
    "    magnus_polynomial = MatrixPolynomial(matrix_coefficients=perturb_terms,\n",
    "                                         monomial_multisets=term_labels)\n",
    "    def err_est(args):\n",
    "        coeffs = jnp.array(args)\n",
    "        U_approx = U @ expm(magnus_polynomial(coeffs).data)\n",
    "        fid = fid_func(U_approx)\n",
    "        return 1. - Array(fid).data \n",
    "    p0_repeated = jnp.kron(p0_vals, jnp.ones(5**4))\n",
    "    p1_repeated = jnp.kron(jnp.kron(jnp.ones(5), p1_vals), jnp.ones(5**3))\n",
    "    p2_repeated = jnp.kron(jnp.kron(jnp.ones(5**2), p2_vals), jnp.ones(5**2))\n",
    "    p3_repeated = jnp.kron(jnp.kron(jnp.ones(5**3), p3_vals), jnp.ones(5))\n",
    "    p4_repeated = jnp.kron(jnp.ones(5**4), p4_vals)\n",
    "    err_estimate = vmap(err_est)((p0_repeated, p1_repeated, p2_repeated, p3_repeated, p4_repeated))\n",
    "    return Array(jnp.sum(err_estimate * gaussian5)).data\n",
    "\n",
    "#6 variations\n",
    "def magnus_obj5(param1, p0_vals, p1_vals, p2_vals, p3_vals, p4_vals, p5_vals):\n",
    "    sig1 = param_to_signal(param1)\n",
    "    pc1_ = DiscreteSignal(dt=dt_filter, samples=sig1[:,0],carrier_freq=0.)\n",
    "    pc2_ = DiscreteSignal(dt=dt_filter, samples=sig1[:,1],carrier_freq=0.)\n",
    "\n",
    "    def G_(t):#the generator\n",
    "        c1 = pc1_(t)\n",
    "        c2 = pc2_(t)\n",
    "        return -1j*(H0 + c1*Hc[0] + c2*Hc[1])\n",
    "\n",
    "    def A1_(t):\n",
    "        c1 = pc1_(t)\n",
    "        c2 = pc2_(t)\n",
    "        return -1j*(c1*Hc[0] + c2*Hc[1])\n",
    "\n",
    "    def A2_(t):\n",
    "        return perturb2\n",
    "\n",
    "    def A3_(t):\n",
    "        return perturb3\n",
    "\n",
    "    def A4_(t):\n",
    "        return perturb4\n",
    "\n",
    "    def A5_(t):\n",
    "        c1 = pc1_(t)\n",
    "        return -1j*(c1**2*Hc[0])\n",
    "    \n",
    "    results = solve_lmde_perturbation(A_list=[A0, A1_, A2_, A3_, A4_, A5_], # list of A matrices\n",
    "                             perturbation_method='symmetric_magnus',\n",
    "                             perturbation_order=magnus_order,\n",
    "                             t_span=[0, T], # integrate over one period of drive oscillation\n",
    "                             generator=G_, # generator\n",
    "                             y0=np.eye(dim), # initial state for base DE U'(t) = G(t)U(t)\n",
    "                             method='jax_odeint',\n",
    "                             rtol=tol, # standard solver arguments\n",
    "                             atol=tol)\n",
    "    U = results.y[-1]\n",
    "    #symmetric Magnus polynomial\n",
    "    perturb_terms = results.perturbation_results.perturbation_terms[:, -1]\n",
    "    term_labels = results.perturbation_results.term_labels\n",
    "    magnus_polynomial = MatrixPolynomial(matrix_coefficients=perturb_terms,\n",
    "                                         monomial_multisets=term_labels)\n",
    "    def err_est(args):\n",
    "        coeffs = jnp.array(args)\n",
    "        U_approx = U @ expm(magnus_polynomial(coeffs).data)\n",
    "        fid = fid_func(U_approx)\n",
    "        return 1. - Array(fid).data \n",
    "    p0_repeated = jnp.kron(p0_vals, jnp.ones(5**5))\n",
    "    p1_repeated = jnp.kron(jnp.kron(jnp.ones(5), p1_vals), jnp.ones(5**4))\n",
    "    p2_repeated = jnp.kron(jnp.kron(jnp.ones(5**2), p2_vals), jnp.ones(5**3))\n",
    "    p3_repeated = jnp.kron(jnp.kron(jnp.ones(5**3), p3_vals), jnp.ones(5**2))\n",
    "    p4_repeated = jnp.kron(jnp.kron(jnp.ones(5**4), p4_vals), jnp.ones(5))\n",
    "    p5_repeated = jnp.kron(jnp.ones(5**5), p5_vals)\n",
    "    err_estimate = vmap(err_est)((p0_repeated, p1_repeated, p2_repeated, p3_repeated, p4_repeated, p5_repeated))\n",
    "    return Array(jnp.sum(err_estimate * gaussian6)).data\n",
    "\n",
    "#7 variations\n",
    "def magnus_obj6(param1, p0_vals, p1_vals, p2_vals, p3_vals, p4_vals, p5_vals, p6_vals):\n",
    "    sig1 = param_to_signal(param1)\n",
    "    pc1_ = DiscreteSignal(dt=dt_filter, samples=sig1[:,0],carrier_freq=0.)\n",
    "    pc2_ = DiscreteSignal(dt=dt_filter, samples=sig1[:,1],carrier_freq=0.)\n",
    "\n",
    "    def G_(t):#the generator\n",
    "        c1 = pc1_(t)\n",
    "        c2 = pc2_(t)\n",
    "        return -1j*(H0 + c1*Hc[0] + c2*Hc[1])\n",
    "\n",
    "    def A1_(t):\n",
    "        c1 = pc1_(t)\n",
    "        c2 = pc2_(t)\n",
    "        return -1j*(c1*Hc[0] + c2*Hc[1])\n",
    "\n",
    "    def A2_(t):\n",
    "        return perturb2\n",
    "\n",
    "    def A3_(t):\n",
    "        return perturb3\n",
    "\n",
    "    def A4_(t):\n",
    "        return perturb4\n",
    "\n",
    "    def A5_(t):\n",
    "        c1 = pc1_(t)\n",
    "        return -1j*(c1**2*Hc[0])\n",
    "    \n",
    "    def A6_(t):\n",
    "        return perturb6\n",
    "    \n",
    "    results = solve_lmde_perturbation(A_list=[A0, A1_, A2_, A3_, A4_, A5_, A6_], # list of A matrices\n",
    "                             perturbation_method='symmetric_magnus',\n",
    "                             perturbation_order=magnus_order,\n",
    "                             t_span=[0, T], # integrate over one period of drive oscillation\n",
    "                             generator=G_, # generator\n",
    "                             y0=np.eye(dim), # initial state for base DE U'(t) = G(t)U(t)\n",
    "                             method='jax_odeint',\n",
    "                             rtol=tol, # standard solver arguments\n",
    "                             atol=tol)\n",
    "    U = results.y[-1]\n",
    "    #symmetric Magnus polynomial\n",
    "    perturb_terms = results.perturbation_results.perturbation_terms[:, -1]\n",
    "    term_labels = results.perturbation_results.term_labels\n",
    "    magnus_polynomial = MatrixPolynomial(matrix_coefficients=perturb_terms,\n",
    "                                         monomial_multisets=term_labels)\n",
    "    def err_est(args):\n",
    "        coeffs = jnp.array(args)\n",
    "        U_approx = U @ expm(magnus_polynomial(coeffs).data)\n",
    "        fid = fid_func(U_approx)\n",
    "        return 1. - Array(fid).data\n",
    "    p0_repeated = jnp.kron(p0_vals, jnp.ones(5**6))\n",
    "    p1_repeated = jnp.kron(jnp.kron(jnp.ones(5), p1_vals), jnp.ones(5**5))\n",
    "    p2_repeated = jnp.kron(jnp.kron(jnp.ones(5**2), p2_vals), jnp.ones(5**4))\n",
    "    p3_repeated = jnp.kron(jnp.kron(jnp.ones(5**3), p3_vals), jnp.ones(5**3))\n",
    "    p4_repeated = jnp.kron(jnp.kron(jnp.ones(5**4), p4_vals), jnp.ones(5**2))\n",
    "    p5_repeated = jnp.kron(jnp.kron(jnp.ones(5**5), p5_vals), jnp.ones(5))\n",
    "    p6_repeated = jnp.kron(jnp.ones(5**6), p6_vals)\n",
    "\n",
    "    err_estimate = vmap(err_est)((p0_repeated, p1_repeated, p2_repeated, p3_repeated, p4_repeated, p5_repeated, p6_repeated))\n",
    "    return Array(jnp.sum(err_estimate * gaussian7)).data"
   ]
  },
  {
   "cell_type": "markdown",
   "metadata": {},
   "source": [
    "Note: in the following, `scan` appears to outperform `vmap` as the number of points increases. I don't know why this is, but I think maybe `vmap` and `odeint` may not behave super well together."
   ]
  },
  {
   "cell_type": "code",
   "execution_count": 32,
   "metadata": {},
   "outputs": [],
   "source": [
    "operators0 = [H0, Hc[0], Hc[1], 1j*perturb0]\n",
    "hamiltonian0 = HamiltonianModel(operators=operators0)\n",
    "#hamiltonian0.frame = H0\n",
    "\n",
    "def point_obj0(param2, p0_vals, out = 0):\n",
    "    sig2 = param_to_signal(param2)\n",
    "    \n",
    "    def exact_err(args):\n",
    "        c0 = args\n",
    "        pc1_ = DiscreteSignal(dt=dt_filter, samples=sig2[:,0], carrier_freq=0.)\n",
    "        pc2_ = DiscreteSignal(dt=dt_filter, samples=sig2[:,1], carrier_freq=0.)\n",
    "        signals = [1., pc1_, pc2_, Array(c0)]\n",
    "        ham_copy = hamiltonian0.copy()\n",
    "        ham_copy.signals = signals\n",
    "        time_results = solve_lmde(ham_copy, t_span=[0,T], y0=np.eye(dim), atol=tol, rtol=tol,method='jax_odeint')\n",
    "        return 1.- Array(fid_func(time_results.y[-1])).data\n",
    "    err_exact = vmap(exact_err)(p0_vals)\n",
    "    \n",
    "    #def scan_f(carry, x):\n",
    "    #    err_val = exact_err(x)\n",
    "    #    return None, err_val\n",
    "\n",
    "    #err_exact = scan(scan_f, init=None, xs=(p0_vals))[1]\n",
    "    if out == 0:\n",
    "        return Array(jnp.sum(err_exact)).data / (5**1)\n",
    "    elif out == 1:\n",
    "        return err_exact\n",
    "\n",
    "def point_obj1(param2, p0_vals, p1_vals, out = 0):\n",
    "    sig2 = param_to_signal(param2)\n",
    "    \n",
    "    def exact_err(args):\n",
    "        c0, c1 = args\n",
    "        pc1_ = DiscreteSignal(dt=dt_filter, samples=(1+c1)*sig2[:,0],carrier_freq=0.)\n",
    "        pc2_ = DiscreteSignal(dt=dt_filter, samples=(1+c1)*sig2[:,1],carrier_freq=0.)\n",
    "        signals = [1., pc1_, pc2_, Array(c0)]\n",
    "        ham_copy = hamiltonian0.copy()\n",
    "        ham_copy.signals = signals\n",
    "        time_results = solve_lmde(ham_copy, t_span=[0,T], y0=np.eye(dim), atol=tol, rtol=tol,method='jax_odeint')\n",
    "        return 1.- Array(fid_func(time_results.y[-1])).data\n",
    "    \n",
    "    p0_repeated = np.kron(p0_vals, np.ones(5))\n",
    "    p1_repeated = np.kron(np.ones(5), p1_vals)\n",
    "    err_exact = vmap(exact_err)((p0_repeated, p1_repeated))\n",
    "    \n",
    "    #def scan_f(carry, x):\n",
    "    #    err_val = exact_err(x)\n",
    "    #    return None, err_val\n",
    "\n",
    "    #err_exact = scan(scan_f, init=None, xs=(p0_repeated, p1_repeated))[1]\n",
    "    if out == 0:\n",
    "        return Array(jnp.sum(err_exact)).data / (5**2)\n",
    "    elif out == 1:\n",
    "        return err_exact\n",
    "        \n",
    "operators2 = [H0, Hc[0], Hc[1], 1j*perturb0, 1j*perturb2]\n",
    "hamiltonian2 = HamiltonianModel(operators=operators2)\n",
    "#hamiltonian2.frame = H0\n",
    "\n",
    "def point_obj2(param2, p0_vals, p1_vals, p2_vals, out = 0):\n",
    "    sig2 = param_to_signal(param2)\n",
    "    \n",
    "    def exact_err(args):\n",
    "        c0, c1, c2 = args\n",
    "        pc1_ = DiscreteSignal(dt=dt_filter, samples=(1+c1)*sig2[:,0],carrier_freq=0.)\n",
    "        pc2_ = DiscreteSignal(dt=dt_filter, samples=(1+c1)*sig2[:,1],carrier_freq=0.)\n",
    "        signals = [1., pc1_, pc2_, Array(c0), Array(c2)]\n",
    "        ham_copy = hamiltonian2.copy()\n",
    "        ham_copy.signals = signals\n",
    "        time_results = solve_lmde(ham_copy, t_span=[0,T], y0=np.eye(dim), atol=tol, rtol=tol,method='jax_odeint')\n",
    "        return 1.- Array(fid_func(time_results.y[-1])).data\n",
    "    \n",
    "    p0_repeated = jnp.kron(p0_vals, jnp.ones(25))\n",
    "    p1_repeated = jnp.kron(jnp.kron(jnp.ones(5), p1_vals), jnp.ones(5))\n",
    "    p2_repeated = jnp.kron(jnp.ones(25), p2_vals)\n",
    "    #err_exact = vmap(exact_err)((p0_repeated, p1_repeated, p2_repeated))\n",
    "    \n",
    "    def scan_f(carry, x):\n",
    "        err_val = exact_err(x)\n",
    "        return None, err_val\n",
    "\n",
    "    err_exact = scan(scan_f, init=None, xs=(p0_repeated, p1_repeated, p2_repeated))[1]\n",
    "    if out == 0:\n",
    "        return Array(jnp.sum(err_exact)).data /(5**3)\n",
    "    elif out == 1:\n",
    "        return err_exact\n",
    "        \n",
    "operators3 = [H0, Hc[0], Hc[1], 1j*perturb0, 1j*perturb2, 1j * perturb3]\n",
    "hamiltonian3 = HamiltonianModel(operators=operators3)\n",
    "#hamiltonian3.frame = H0\n",
    "\n",
    "def point_obj3(param2, p0_vals, p1_vals, p2_vals, p3_vals, out = 0):\n",
    "    sig2 = param_to_signal(param2)\n",
    "    \n",
    "    def exact_err(args):\n",
    "        c0, c1, c2, c3 = args\n",
    "        pc1_ = DiscreteSignal(dt=dt_filter, samples=(1+c1)*sig2[:,0],carrier_freq=0.)\n",
    "        pc2_ = DiscreteSignal(dt=dt_filter, samples=(1+c1)*sig2[:,1],carrier_freq=0.)\n",
    "        signals = [1., pc1_, pc2_, Array(c0), Array(c2), Array(c3)]\n",
    "        ham_copy = hamiltonian3.copy()\n",
    "        ham_copy.signals = signals\n",
    "        time_results = solve_lmde(ham_copy, t_span=[0,T], y0=np.eye(dim), atol=tol, rtol=tol,method='jax_odeint')\n",
    "        return 1.- Array(fid_func(time_results.y[-1])).data\n",
    "    \n",
    "    p0_repeated = jnp.kron(p0_vals, jnp.ones(5**3))\n",
    "    p1_repeated = jnp.kron(jnp.kron(jnp.ones(5), p1_vals), jnp.ones(5**2))\n",
    "    p2_repeated = jnp.kron(jnp.kron(jnp.ones(5**2), p2_vals), jnp.ones(5))\n",
    "    p3_repeated = jnp.kron(jnp.ones(5**3), p3_vals)\n",
    "    #err_exact = vmap(exact_err)((p0_repeated, p1_repeated, p2_repeated, p3_repeated))\n",
    "    \n",
    "    def scan_f(carry, x):\n",
    "        err_val = exact_err(x)\n",
    "        return None, err_val\n",
    "\n",
    "    err_exact = scan(scan_f, init=None, xs=(p0_repeated, p1_repeated, p2_repeated, p3_repeated))[1]\n",
    "    \n",
    "    if out == 0:\n",
    "        return Array(jnp.sum(err_exact)).data /(5**4)\n",
    "    elif out == 1:\n",
    "        return err_exact\n",
    "        \n",
    "operators4 = [H0, Hc[0], Hc[1], 1j*perturb0, 1j*perturb2, 1j * perturb3, 1j * perturb4]\n",
    "hamiltonian4 = HamiltonianModel(operators=operators4)\n",
    "#hamiltonian4.frame = H0\n",
    "\n",
    "def point_obj4(param2, p0_vals, p1_vals, p2_vals, p3_vals, p4_vals, out = 0):\n",
    "    sig2 = param_to_signal(param2)\n",
    "    \n",
    "    def exact_err(args):\n",
    "        c0, c1, c2, c3, c4 = args\n",
    "        pc1_ = DiscreteSignal(dt=dt_filter, samples=(1+c1)*sig2[:,0],carrier_freq=0.)\n",
    "        pc2_ = DiscreteSignal(dt=dt_filter, samples=(1+c1)*sig2[:,1],carrier_freq=0.)\n",
    "        signals = [1., pc1_, pc2_, Array(c0), Array(c2), Array(c3), Array(c4)]\n",
    "        ham_copy = hamiltonian4.copy()\n",
    "        ham_copy.signals = signals\n",
    "        time_results = solve_lmde(ham_copy, t_span=[0,T], y0=np.eye(dim), atol=tol, rtol=tol,method='jax_odeint')\n",
    "        return 1.- Array(fid_func(time_results.y[-1])).data\n",
    "    \n",
    "    p0_repeated = jnp.kron(p0_vals, jnp.ones(5**4))\n",
    "    p1_repeated = jnp.kron(jnp.kron(jnp.ones(5), p1_vals), jnp.ones(5**3))\n",
    "    p2_repeated = jnp.kron(jnp.kron(jnp.ones(5**2), p2_vals), jnp.ones(5**2))\n",
    "    p3_repeated = jnp.kron(jnp.kron(jnp.ones(5**3), p3_vals), jnp.ones(5))\n",
    "    p4_repeated = jnp.kron(jnp.ones(5**4), p4_vals)\n",
    "    #err_exact = vmap(exact_err)((p0_repeated, p1_repeated, p2_repeated, p3_repeated, p4_repeated))\n",
    "    \n",
    "    def scan_f(carry, x):\n",
    "        err_val = exact_err(x)\n",
    "        return None, err_val\n",
    "\n",
    "    err_exact = scan(scan_f, init=None, xs=(p0_repeated, p1_repeated, p2_repeated, p3_repeated, p4_repeated))[1]\n",
    "    \n",
    "    if out == 0:\n",
    "        return Array(jnp.sum(err_exact)).data / (5**5)\n",
    "    elif out == 1:\n",
    "        return err_exact\n",
    "        \n",
    "operators5 = [H0, Hc[0], Hc[1], 1j*perturb0, 1j*perturb2, 1j * perturb3, 1j * perturb4]\n",
    "hamiltonian5 = HamiltonianModel(operators=operators5)\n",
    "#hamiltonian5.frame = H0\n",
    "\n",
    "def point_obj5(param2, p0_vals, p1_vals, p2_vals, p3_vals, p4_vals, p5_vals, out = 0):\n",
    "    sig2 = param_to_signal(param2)\n",
    "    \n",
    "    def exact_err(args):\n",
    "        c0, c1, c2, c3, c4, c5 = args\n",
    "        pc1_ = DiscreteSignal(dt=dt_filter, samples=(1+c1+c1**2)*sig2[:,0],carrier_freq=0.)\n",
    "        pc2_ = DiscreteSignal(dt=dt_filter, samples=(1+c1)*sig2[:,1],carrier_freq=0.)\n",
    "        signals = [1., pc1_, pc2_, Array(c0), Array(c2), Array(c3), Array(c4), Array(c5)]\n",
    "        ham_copy = hamiltonian5.copy()\n",
    "        ham_copy.signals = signals\n",
    "        time_results = solve_lmde(ham_copy, t_span=[0,T], y0=np.eye(dim), atol=tol, rtol=tol,method='jax_odeint')\n",
    "        return 1.- Array(fid_func(time_results.y[-1])).data\n",
    "    \n",
    "    \n",
    "    p0_repeated = jnp.kron(p0_vals, jnp.ones(5**5))\n",
    "    p1_repeated = jnp.kron(jnp.kron(jnp.ones(5), p1_vals), jnp.ones(5**4))\n",
    "    p2_repeated = jnp.kron(jnp.kron(jnp.ones(5**2), p2_vals), jnp.ones(5**3))\n",
    "    p3_repeated = jnp.kron(jnp.kron(jnp.ones(5**3), p3_vals), jnp.ones(5**2))\n",
    "    p4_repeated = jnp.kron(jnp.kron(jnp.ones(5**4), p4_vals), jnp.ones(5))\n",
    "    p5_repeated = jnp.kron(jnp.ones(5**5), p5_vals)\n",
    "    #err_exact = vmap(exact_err)((p0_repeated, p1_repeated, p2_repeated, p3_repeated, p4_repeated, p5_repeated))\n",
    "    \n",
    "    def scan_f(carry, x):\n",
    "        err_val = exact_err(x)\n",
    "        return None, err_val\n",
    "\n",
    "    err_exact = scan(scan_f, init=None, xs=(p0_repeated, p1_repeated, p2_repeated, p3_repeated, p4_repeated, p5_repeated))[1]\n",
    "    if out == 0:\n",
    "        return Array(jnp.sum(err_exact)).data / (5**6)\n",
    "    elif out == 1:\n",
    "        return err_exact\n",
    "\n",
    "operators6 = [H0, Hc[0], Hc[1], 1j*perturb0, 1j*perturb2, 1j * perturb3, 1j * perturb4, 1j*perturb6]\n",
    "hamiltonian6 = HamiltonianModel(operators=operators6)\n",
    "#hamiltonian6.frame = H0\n",
    "\n",
    "def point_obj6(param2, p0_vals, p1_vals, p2_vals, p3_vals, p4_vals, p5_vals, p6_vals, out = 0):\n",
    "    sig2 = param_to_signal(param2)\n",
    "    \n",
    "    def exact_err(args):\n",
    "        c0, c1, c2, c3, c4, c5, c6 = args\n",
    "        pc1_ = DiscreteSignal(dt=dt_filter, samples=(1+c1+c1**2)*sig2[:,0],carrier_freq=0.)\n",
    "        pc2_ = DiscreteSignal(dt=dt_filter, samples=(1+c1)*sig2[:,1],carrier_freq=0.)\n",
    "        signals = [1., pc1_, pc2_, Array(c0), Array(c2), Array(c3), Array(c4), Array(c5), Array(c6)]\n",
    "        ham_copy = hamiltonian6.copy()\n",
    "        ham_copy.signals = signals\n",
    "        time_results = solve_lmde(ham_copy, t_span=[0,T], y0=np.eye(dim), atol=tol, rtol=tol,method='jax_odeint')\n",
    "        return 1.- Array(fid_func(time_results.y[-1])).data\n",
    "    \n",
    "    \n",
    "    p0_repeated = jnp.kron(p0_vals, jnp.ones(5**6))\n",
    "    p1_repeated = jnp.kron(jnp.kron(jnp.ones(5), p1_vals), jnp.ones(5**5))\n",
    "    p2_repeated = jnp.kron(jnp.kron(jnp.ones(5**2), p2_vals), jnp.ones(5**4))\n",
    "    p3_repeated = jnp.kron(jnp.kron(jnp.ones(5**3), p3_vals), jnp.ones(5**3))\n",
    "    p4_repeated = jnp.kron(jnp.kron(jnp.ones(5**4), p4_vals), jnp.ones(5**2))\n",
    "    p5_repeated = jnp.kron(jnp.kron(jnp.ones(5**5), p5_vals), jnp.ones(5))\n",
    "    p6_repeated = jnp.kron(jnp.ones(5**6), p6_vals)\n",
    "    \n",
    "    def scan_f(carry, x):\n",
    "        err_val = exact_err(x)\n",
    "        return None, err_val\n",
    "\n",
    "    err_exact = scan(scan_f, init=None, xs=(p0_repeated, p1_repeated, p2_repeated, p3_repeated, p4_repeated, p5_repeated, p6_repeated))[1]\n",
    "    if out == 0:    \n",
    "        return Array(jnp.sum(err_exact)).data / (5**7)\n",
    "    if out == 1:\n",
    "        return err_exact"
   ]
  },
  {
   "cell_type": "code",
   "execution_count": 33,
   "metadata": {},
   "outputs": [],
   "source": [
    "N_variations = np.arange(7) + 1\n",
    "\n",
    "n_points = 5\n",
    "p0_vals = jnp.linspace(-0.1*drive_strength, 0.1*drive_strength, n_points)\n",
    "p1_vals = jnp.linspace(-0.1*drive_strength, 0.1*drive_strength, n_points)\n",
    "p2_vals = jnp.linspace(-0.1*drive_strength, 0.1*drive_strength, n_points)\n",
    "p3_vals = jnp.linspace(-0.1*drive_strength, 0.1*drive_strength, n_points)\n",
    "p4_vals = jnp.linspace(-0.1*drive_strength, 0.1*drive_strength, n_points)\n",
    "p5_vals = jnp.linspace(-0.1*drive_strength, 0.1*drive_strength, n_points)\n",
    "p6_vals = jnp.linspace(-0.1*drive_strength, 0.1*drive_strength, n_points)"
   ]
  },
  {
   "cell_type": "code",
   "execution_count": 34,
   "metadata": {},
   "outputs": [
    {
     "name": "stdout",
     "output_type": "stream",
     "text": [
      "Working on number 1/1\n"
     ]
    },
    {
     "name": "stderr",
     "output_type": "stream",
     "text": [
      "/Users/dpuzzuoli/Documents/projects/qiskit-dynamics/qiskit_dynamics/dispatch/array.py:20: DeprecationWarning: Importing Array from `qiskit_dynamics.dispatch` is deprecated and will be removed next release. Import from `qiskit_dynamics.array` instead.\n",
      "  warnings.warn(\n",
      "/Users/dpuzzuoli/Documents/projects/qiskit-dynamics/qiskit_dynamics/dispatch/array.py:20: DeprecationWarning: Importing Array from `qiskit_dynamics.dispatch` is deprecated and will be removed next release. Import from `qiskit_dynamics.array` instead.\n",
      "  warnings.warn(\n"
     ]
    }
   ],
   "source": [
    "from time import time\n",
    "\n",
    "mag_jit_times = []\n",
    "mag_ave_times = []\n",
    "mag_ave_jitted_times = []\n",
    "\n",
    "mag_obj_funcs = [lambda params: magnus_obj0(params, p0_vals),\n",
    "                 lambda params: magnus_obj1(params, p0_vals, p1_vals),\n",
    "                 lambda params: magnus_obj2(params, p0_vals, p1_vals, p2_vals),\n",
    "                 lambda params: magnus_obj3(params, p0_vals, p1_vals, p2_vals, p3_vals),\n",
    "                 lambda params: magnus_obj4(params, p0_vals, p1_vals, p2_vals, p3_vals, p4_vals),\n",
    "                 lambda params: magnus_obj5(params, p0_vals, p1_vals, p2_vals, p3_vals, p4_vals, p5_vals),\n",
    "                 lambda params: magnus_obj6(params, p0_vals, p1_vals, p2_vals, p3_vals, p4_vals, p5_vals, p6_vals)]\n",
    "\n",
    "# only do first few for now\n",
    "n_perturb = 1\n",
    "mag_obj_funcs = mag_obj_funcs[:n_perturb]\n",
    "\n",
    "for idx, obj_func in enumerate(mag_obj_funcs):\n",
    "    print('Working on number ' + str(idx + 1) + '/' + str(len(mag_obj_funcs)))\n",
    "    jit_grad_obj = jit(value_and_grad(obj_func))\n",
    "\n",
    "    # measure time to jit/grad + one evaluation\n",
    "    start = time()\n",
    "    val = jit_grad_obj(inputs[0])[0].block_until_ready()\n",
    "    mag_jit_times.append(time() - start)\n",
    "\n",
    "    # average jitted run time over multiple inputs\n",
    "    jitted_time = 0.\n",
    "    for rand_in in inputs[1:]: \n",
    "        start = time()\n",
    "        val = jit_grad_obj(rand_in)[0].block_until_ready()\n",
    "        jitted_time += time() - start\n",
    "    \n",
    "    mag_ave_jitted_times.append(jitted_time / (len(inputs) - 1))\n",
    "    mag_ave_times.append((mag_jit_times[-1] + jitted_time) / len(inputs))"
   ]
  },
  {
   "cell_type": "code",
   "execution_count": 35,
   "metadata": {},
   "outputs": [
    {
     "name": "stdout",
     "output_type": "stream",
     "text": [
      "[12.637094974517822]\n",
      "[2.2659392833709715]\n",
      "[1.1135886510213215]\n"
     ]
    }
   ],
   "source": [
    "print(mag_jit_times)\n",
    "print(mag_ave_times)\n",
    "print(mag_ave_jitted_times)"
   ]
  },
  {
   "cell_type": "code",
   "execution_count": 36,
   "metadata": {},
   "outputs": [
    {
     "name": "stderr",
     "output_type": "stream",
     "text": [
      "/Users/dpuzzuoli/Documents/projects/qiskit-dynamics/qiskit_dynamics/dispatch/array.py:20: DeprecationWarning: Importing Array from `qiskit_dynamics.dispatch` is deprecated and will be removed next release. Import from `qiskit_dynamics.array` instead.\n",
      "  warnings.warn(\n",
      "/Users/dpuzzuoli/Documents/projects/qiskit-dynamics/qiskit_dynamics/dispatch/array.py:20: DeprecationWarning: Importing Array from `qiskit_dynamics.dispatch` is deprecated and will be removed next release. Import from `qiskit_dynamics.array` instead.\n",
      "  warnings.warn(\n"
     ]
    },
    {
     "ename": "UnexpectedTracerError",
     "evalue": "Encountered an unexpected tracer. A function transformed by JAX had a side effect, allowing for a reference to an intermediate value with shape (1,) and dtype complex128 to escape.\nJAX transformations require that functions explicitly return their outputs, and disallow saving intermediate values to global state.\n------------------------------\nThe leaked intermediate value was created on line /Users/dpuzzuoli/Documents/projects/qiskit-dynamics/qiskit_dynamics/array/array.py:250 (__array_ufunc__). \n------------------------------\nWhen the value was created, the final 5 stack frames (most recent last) excluding JAX-internal frames were:\n------------------------------\n/Users/dpuzzuoli/Documents/projects/qiskit-dynamics/qiskit_dynamics/signals/signals.py:1146 (eval_func)\n/Users/dpuzzuoli/Documents/projects/qiskit-dynamics/qiskit_dynamics/signals/signals.py:1146 (<listcomp>)\n/Users/dpuzzuoli/Documents/projects/qiskit-dynamics/qiskit_dynamics/signals/signals.py:167 (__call__)\n/Users/dpuzzuoli/Documents/projects/qiskit-dynamics/qiskit_dynamics/signals/signals.py:599 (complex_value)\n/Users/dpuzzuoli/Documents/projects/qiskit-dynamics/qiskit_dynamics/array/array.py:250 (__array_ufunc__)\n------------------------------\n\nTo catch the leak earlier, try setting the environment variable JAX_CHECK_TRACER_LEAKS or using the `jax.checking_leaks` context manager.Detail: Different traces at same level: Traced<ShapedArray(complex128[1])>with<DynamicJaxprTrace(level=3/2)>, BatchTrace(level=3/2)\nSee https://jax.readthedocs.io/en/latest/errors.html#jax.errors.UnexpectedTracerError",
     "output_type": "error",
     "traceback": [
      "\u001b[0;31m---------------------------------------------------------------------------\u001b[0m",
      "\u001b[0;31mJaxStackTraceBeforeTransformation\u001b[0m         Traceback (most recent call last)",
      "\u001b[0;32m/opt/anaconda3/envs/devEnv39/lib/python3.9/runpy.py\u001b[0m in \u001b[0;36m_run_module_as_main\u001b[0;34m(***failed resolving arguments***)\u001b[0m\n\u001b[1;32m    196\u001b[0m         \u001b[0msys\u001b[0m\u001b[0;34m.\u001b[0m\u001b[0margv\u001b[0m\u001b[0;34m[\u001b[0m\u001b[0;36m0\u001b[0m\u001b[0;34m]\u001b[0m \u001b[0;34m=\u001b[0m \u001b[0mmod_spec\u001b[0m\u001b[0;34m.\u001b[0m\u001b[0morigin\u001b[0m\u001b[0;34m\u001b[0m\u001b[0;34m\u001b[0m\u001b[0m\n\u001b[0;32m--> 197\u001b[0;31m     return _run_code(code, main_globals, None,\n\u001b[0m\u001b[1;32m    198\u001b[0m                      \"__main__\", mod_spec)\n",
      "\u001b[0;32m/opt/anaconda3/envs/devEnv39/lib/python3.9/runpy.py\u001b[0m in \u001b[0;36m_run_code\u001b[0;34m(***failed resolving arguments***)\u001b[0m\n\u001b[1;32m     86\u001b[0m                        __spec__ = mod_spec)\n\u001b[0;32m---> 87\u001b[0;31m     \u001b[0mexec\u001b[0m\u001b[0;34m(\u001b[0m\u001b[0mcode\u001b[0m\u001b[0;34m,\u001b[0m \u001b[0mrun_globals\u001b[0m\u001b[0;34m)\u001b[0m\u001b[0;34m\u001b[0m\u001b[0;34m\u001b[0m\u001b[0m\n\u001b[0m\u001b[1;32m     88\u001b[0m     \u001b[0;32mreturn\u001b[0m \u001b[0mrun_globals\u001b[0m\u001b[0;34m\u001b[0m\u001b[0;34m\u001b[0m\u001b[0m\n",
      "\u001b[0;32m/opt/anaconda3/envs/devEnv39/lib/python3.9/site-packages/ipykernel_launcher.py\u001b[0m in \u001b[0;36m<module>\u001b[0;34m\u001b[0m\n\u001b[1;32m     15\u001b[0m     \u001b[0;32mfrom\u001b[0m \u001b[0mipykernel\u001b[0m \u001b[0;32mimport\u001b[0m \u001b[0mkernelapp\u001b[0m \u001b[0;32mas\u001b[0m \u001b[0mapp\u001b[0m\u001b[0;34m\u001b[0m\u001b[0;34m\u001b[0m\u001b[0m\n\u001b[0;32m---> 16\u001b[0;31m     \u001b[0mapp\u001b[0m\u001b[0;34m.\u001b[0m\u001b[0mlaunch_new_instance\u001b[0m\u001b[0;34m(\u001b[0m\u001b[0;34m)\u001b[0m\u001b[0;34m\u001b[0m\u001b[0;34m\u001b[0m\u001b[0m\n\u001b[0m",
      "\u001b[0;32m/opt/anaconda3/envs/devEnv39/lib/python3.9/site-packages/traitlets/config/application.py\u001b[0m in \u001b[0;36mlaunch_instance\u001b[0;34m(***failed resolving arguments***)\u001b[0m\n\u001b[1;32m    844\u001b[0m         \u001b[0mapp\u001b[0m\u001b[0;34m.\u001b[0m\u001b[0minitialize\u001b[0m\u001b[0;34m(\u001b[0m\u001b[0margv\u001b[0m\u001b[0;34m)\u001b[0m\u001b[0;34m\u001b[0m\u001b[0;34m\u001b[0m\u001b[0m\n\u001b[0;32m--> 845\u001b[0;31m         \u001b[0mapp\u001b[0m\u001b[0;34m.\u001b[0m\u001b[0mstart\u001b[0m\u001b[0;34m(\u001b[0m\u001b[0;34m)\u001b[0m\u001b[0;34m\u001b[0m\u001b[0;34m\u001b[0m\u001b[0m\n\u001b[0m\u001b[1;32m    846\u001b[0m \u001b[0;34m\u001b[0m\u001b[0m\n",
      "\u001b[0;32m/opt/anaconda3/envs/devEnv39/lib/python3.9/site-packages/ipykernel/kernelapp.py\u001b[0m in \u001b[0;36mstart\u001b[0;34m(***failed resolving arguments***)\u001b[0m\n\u001b[1;32m    618\u001b[0m             \u001b[0;32mtry\u001b[0m\u001b[0;34m:\u001b[0m\u001b[0;34m\u001b[0m\u001b[0;34m\u001b[0m\u001b[0m\n\u001b[0;32m--> 619\u001b[0;31m                 \u001b[0mself\u001b[0m\u001b[0;34m.\u001b[0m\u001b[0mio_loop\u001b[0m\u001b[0;34m.\u001b[0m\u001b[0mstart\u001b[0m\u001b[0;34m(\u001b[0m\u001b[0;34m)\u001b[0m\u001b[0;34m\u001b[0m\u001b[0;34m\u001b[0m\u001b[0m\n\u001b[0m\u001b[1;32m    620\u001b[0m             \u001b[0;32mexcept\u001b[0m \u001b[0mKeyboardInterrupt\u001b[0m\u001b[0;34m:\u001b[0m\u001b[0;34m\u001b[0m\u001b[0;34m\u001b[0m\u001b[0m\n",
      "\u001b[0;32m/opt/anaconda3/envs/devEnv39/lib/python3.9/site-packages/tornado/platform/asyncio.py\u001b[0m in \u001b[0;36mstart\u001b[0;34m(***failed resolving arguments***)\u001b[0m\n\u001b[1;32m    198\u001b[0m             \u001b[0masyncio\u001b[0m\u001b[0;34m.\u001b[0m\u001b[0mset_event_loop\u001b[0m\u001b[0;34m(\u001b[0m\u001b[0mself\u001b[0m\u001b[0;34m.\u001b[0m\u001b[0masyncio_loop\u001b[0m\u001b[0;34m)\u001b[0m\u001b[0;34m\u001b[0m\u001b[0;34m\u001b[0m\u001b[0m\n\u001b[0;32m--> 199\u001b[0;31m             \u001b[0mself\u001b[0m\u001b[0;34m.\u001b[0m\u001b[0masyncio_loop\u001b[0m\u001b[0;34m.\u001b[0m\u001b[0mrun_forever\u001b[0m\u001b[0;34m(\u001b[0m\u001b[0;34m)\u001b[0m\u001b[0;34m\u001b[0m\u001b[0;34m\u001b[0m\u001b[0m\n\u001b[0m\u001b[1;32m    200\u001b[0m         \u001b[0;32mfinally\u001b[0m\u001b[0;34m:\u001b[0m\u001b[0;34m\u001b[0m\u001b[0;34m\u001b[0m\u001b[0m\n",
      "\u001b[0;32m/opt/anaconda3/envs/devEnv39/lib/python3.9/asyncio/base_events.py\u001b[0m in \u001b[0;36mrun_forever\u001b[0;34m(***failed resolving arguments***)\u001b[0m\n\u001b[1;32m    595\u001b[0m             \u001b[0;32mwhile\u001b[0m \u001b[0;32mTrue\u001b[0m\u001b[0;34m:\u001b[0m\u001b[0;34m\u001b[0m\u001b[0;34m\u001b[0m\u001b[0m\n\u001b[0;32m--> 596\u001b[0;31m                 \u001b[0mself\u001b[0m\u001b[0;34m.\u001b[0m\u001b[0m_run_once\u001b[0m\u001b[0;34m(\u001b[0m\u001b[0;34m)\u001b[0m\u001b[0;34m\u001b[0m\u001b[0;34m\u001b[0m\u001b[0m\n\u001b[0m\u001b[1;32m    597\u001b[0m                 \u001b[0;32mif\u001b[0m \u001b[0mself\u001b[0m\u001b[0;34m.\u001b[0m\u001b[0m_stopping\u001b[0m\u001b[0;34m:\u001b[0m\u001b[0;34m\u001b[0m\u001b[0;34m\u001b[0m\u001b[0m\n",
      "\u001b[0;32m/opt/anaconda3/envs/devEnv39/lib/python3.9/asyncio/base_events.py\u001b[0m in \u001b[0;36m_run_once\u001b[0;34m(***failed resolving arguments***)\u001b[0m\n\u001b[1;32m   1889\u001b[0m             \u001b[0;32melse\u001b[0m\u001b[0;34m:\u001b[0m\u001b[0;34m\u001b[0m\u001b[0;34m\u001b[0m\u001b[0m\n\u001b[0;32m-> 1890\u001b[0;31m                 \u001b[0mhandle\u001b[0m\u001b[0;34m.\u001b[0m\u001b[0m_run\u001b[0m\u001b[0;34m(\u001b[0m\u001b[0;34m)\u001b[0m\u001b[0;34m\u001b[0m\u001b[0;34m\u001b[0m\u001b[0m\n\u001b[0m\u001b[1;32m   1891\u001b[0m         \u001b[0mhandle\u001b[0m \u001b[0;34m=\u001b[0m \u001b[0;32mNone\u001b[0m  \u001b[0;31m# Needed to break cycles when an exception occurs.\u001b[0m\u001b[0;34m\u001b[0m\u001b[0;34m\u001b[0m\u001b[0m\n",
      "\u001b[0;32m/opt/anaconda3/envs/devEnv39/lib/python3.9/asyncio/events.py\u001b[0m in \u001b[0;36m_run\u001b[0;34m(***failed resolving arguments***)\u001b[0m\n\u001b[1;32m     79\u001b[0m         \u001b[0;32mtry\u001b[0m\u001b[0;34m:\u001b[0m\u001b[0;34m\u001b[0m\u001b[0;34m\u001b[0m\u001b[0m\n\u001b[0;32m---> 80\u001b[0;31m             \u001b[0mself\u001b[0m\u001b[0;34m.\u001b[0m\u001b[0m_context\u001b[0m\u001b[0;34m.\u001b[0m\u001b[0mrun\u001b[0m\u001b[0;34m(\u001b[0m\u001b[0mself\u001b[0m\u001b[0;34m.\u001b[0m\u001b[0m_callback\u001b[0m\u001b[0;34m,\u001b[0m \u001b[0;34m*\u001b[0m\u001b[0mself\u001b[0m\u001b[0;34m.\u001b[0m\u001b[0m_args\u001b[0m\u001b[0;34m)\u001b[0m\u001b[0;34m\u001b[0m\u001b[0;34m\u001b[0m\u001b[0m\n\u001b[0m\u001b[1;32m     81\u001b[0m         \u001b[0;32mexcept\u001b[0m \u001b[0;34m(\u001b[0m\u001b[0mSystemExit\u001b[0m\u001b[0;34m,\u001b[0m \u001b[0mKeyboardInterrupt\u001b[0m\u001b[0;34m)\u001b[0m\u001b[0;34m:\u001b[0m\u001b[0;34m\u001b[0m\u001b[0;34m\u001b[0m\u001b[0m\n",
      "\u001b[0;32m/opt/anaconda3/envs/devEnv39/lib/python3.9/site-packages/tornado/ioloop.py\u001b[0m in \u001b[0;36m<lambda>\u001b[0;34m(***failed resolving arguments***)\u001b[0m\n\u001b[1;32m    687\u001b[0m             future.add_done_callback(\n\u001b[0;32m--> 688\u001b[0;31m                 \u001b[0;32mlambda\u001b[0m \u001b[0mf\u001b[0m\u001b[0;34m:\u001b[0m \u001b[0mself\u001b[0m\u001b[0;34m.\u001b[0m\u001b[0m_run_callback\u001b[0m\u001b[0;34m(\u001b[0m\u001b[0mfunctools\u001b[0m\u001b[0;34m.\u001b[0m\u001b[0mpartial\u001b[0m\u001b[0;34m(\u001b[0m\u001b[0mcallback\u001b[0m\u001b[0;34m,\u001b[0m \u001b[0mfuture\u001b[0m\u001b[0;34m)\u001b[0m\u001b[0;34m)\u001b[0m\u001b[0;34m\u001b[0m\u001b[0;34m\u001b[0m\u001b[0m\n\u001b[0m\u001b[1;32m    689\u001b[0m             )\n",
      "\u001b[0;32m/opt/anaconda3/envs/devEnv39/lib/python3.9/site-packages/tornado/ioloop.py\u001b[0m in \u001b[0;36m_run_callback\u001b[0;34m(***failed resolving arguments***)\u001b[0m\n\u001b[1;32m    740\u001b[0m         \u001b[0;32mtry\u001b[0m\u001b[0;34m:\u001b[0m\u001b[0;34m\u001b[0m\u001b[0;34m\u001b[0m\u001b[0m\n\u001b[0;32m--> 741\u001b[0;31m             \u001b[0mret\u001b[0m \u001b[0;34m=\u001b[0m \u001b[0mcallback\u001b[0m\u001b[0;34m(\u001b[0m\u001b[0;34m)\u001b[0m\u001b[0;34m\u001b[0m\u001b[0;34m\u001b[0m\u001b[0m\n\u001b[0m\u001b[1;32m    742\u001b[0m             \u001b[0;32mif\u001b[0m \u001b[0mret\u001b[0m \u001b[0;32mis\u001b[0m \u001b[0;32mnot\u001b[0m \u001b[0;32mNone\u001b[0m\u001b[0;34m:\u001b[0m\u001b[0;34m\u001b[0m\u001b[0;34m\u001b[0m\u001b[0m\n",
      "\u001b[0;32m/opt/anaconda3/envs/devEnv39/lib/python3.9/site-packages/tornado/gen.py\u001b[0m in \u001b[0;36minner\u001b[0;34m(***failed resolving arguments***)\u001b[0m\n\u001b[1;32m    813\u001b[0m                 \u001b[0mf\u001b[0m \u001b[0;34m=\u001b[0m \u001b[0;32mNone\u001b[0m  \u001b[0;31m# noqa: F841\u001b[0m\u001b[0;34m\u001b[0m\u001b[0;34m\u001b[0m\u001b[0m\n\u001b[0;32m--> 814\u001b[0;31m                 \u001b[0mself\u001b[0m\u001b[0;34m.\u001b[0m\u001b[0mctx_run\u001b[0m\u001b[0;34m(\u001b[0m\u001b[0mself\u001b[0m\u001b[0;34m.\u001b[0m\u001b[0mrun\u001b[0m\u001b[0;34m)\u001b[0m\u001b[0;34m\u001b[0m\u001b[0;34m\u001b[0m\u001b[0m\n\u001b[0m\u001b[1;32m    815\u001b[0m \u001b[0;34m\u001b[0m\u001b[0m\n",
      "\u001b[0;32m/opt/anaconda3/envs/devEnv39/lib/python3.9/site-packages/tornado/gen.py\u001b[0m in \u001b[0;36mrun\u001b[0;34m(***failed resolving arguments***)\u001b[0m\n\u001b[1;32m    774\u001b[0m                     \u001b[0;32melse\u001b[0m\u001b[0;34m:\u001b[0m\u001b[0;34m\u001b[0m\u001b[0;34m\u001b[0m\u001b[0m\n\u001b[0;32m--> 775\u001b[0;31m                         \u001b[0myielded\u001b[0m \u001b[0;34m=\u001b[0m \u001b[0mself\u001b[0m\u001b[0;34m.\u001b[0m\u001b[0mgen\u001b[0m\u001b[0;34m.\u001b[0m\u001b[0msend\u001b[0m\u001b[0;34m(\u001b[0m\u001b[0mvalue\u001b[0m\u001b[0;34m)\u001b[0m\u001b[0;34m\u001b[0m\u001b[0;34m\u001b[0m\u001b[0m\n\u001b[0m\u001b[1;32m    776\u001b[0m \u001b[0;34m\u001b[0m\u001b[0m\n",
      "\u001b[0;32m/opt/anaconda3/envs/devEnv39/lib/python3.9/site-packages/ipykernel/kernelbase.py\u001b[0m in \u001b[0;36mprocess_one\u001b[0;34m(***failed resolving arguments***)\u001b[0m\n\u001b[1;32m    357\u001b[0m                 \u001b[0;32mreturn\u001b[0m \u001b[0;32mNone\u001b[0m\u001b[0;34m\u001b[0m\u001b[0;34m\u001b[0m\u001b[0m\n\u001b[0;32m--> 358\u001b[0;31m         \u001b[0;32myield\u001b[0m \u001b[0mgen\u001b[0m\u001b[0;34m.\u001b[0m\u001b[0mmaybe_future\u001b[0m\u001b[0;34m(\u001b[0m\u001b[0mdispatch\u001b[0m\u001b[0;34m(\u001b[0m\u001b[0;34m*\u001b[0m\u001b[0margs\u001b[0m\u001b[0;34m)\u001b[0m\u001b[0;34m)\u001b[0m\u001b[0;34m\u001b[0m\u001b[0;34m\u001b[0m\u001b[0m\n\u001b[0m\u001b[1;32m    359\u001b[0m \u001b[0;34m\u001b[0m\u001b[0m\n",
      "\u001b[0;32m/opt/anaconda3/envs/devEnv39/lib/python3.9/site-packages/tornado/gen.py\u001b[0m in \u001b[0;36mwrapper\u001b[0;34m(***failed resolving arguments***)\u001b[0m\n\u001b[1;32m    233\u001b[0m                 \u001b[0;32mtry\u001b[0m\u001b[0;34m:\u001b[0m\u001b[0;34m\u001b[0m\u001b[0;34m\u001b[0m\u001b[0m\n\u001b[0;32m--> 234\u001b[0;31m                     \u001b[0myielded\u001b[0m \u001b[0;34m=\u001b[0m \u001b[0mctx_run\u001b[0m\u001b[0;34m(\u001b[0m\u001b[0mnext\u001b[0m\u001b[0;34m,\u001b[0m \u001b[0mresult\u001b[0m\u001b[0;34m)\u001b[0m\u001b[0;34m\u001b[0m\u001b[0;34m\u001b[0m\u001b[0m\n\u001b[0m\u001b[1;32m    235\u001b[0m                 \u001b[0;32mexcept\u001b[0m \u001b[0;34m(\u001b[0m\u001b[0mStopIteration\u001b[0m\u001b[0;34m,\u001b[0m \u001b[0mReturn\u001b[0m\u001b[0;34m)\u001b[0m \u001b[0;32mas\u001b[0m \u001b[0me\u001b[0m\u001b[0;34m:\u001b[0m\u001b[0;34m\u001b[0m\u001b[0;34m\u001b[0m\u001b[0m\n",
      "\u001b[0;32m/opt/anaconda3/envs/devEnv39/lib/python3.9/site-packages/ipykernel/kernelbase.py\u001b[0m in \u001b[0;36mdispatch_shell\u001b[0;34m(***failed resolving arguments***)\u001b[0m\n\u001b[1;32m    260\u001b[0m             \u001b[0;32mtry\u001b[0m\u001b[0;34m:\u001b[0m\u001b[0;34m\u001b[0m\u001b[0;34m\u001b[0m\u001b[0m\n\u001b[0;32m--> 261\u001b[0;31m                 \u001b[0;32myield\u001b[0m \u001b[0mgen\u001b[0m\u001b[0;34m.\u001b[0m\u001b[0mmaybe_future\u001b[0m\u001b[0;34m(\u001b[0m\u001b[0mhandler\u001b[0m\u001b[0;34m(\u001b[0m\u001b[0mstream\u001b[0m\u001b[0;34m,\u001b[0m \u001b[0midents\u001b[0m\u001b[0;34m,\u001b[0m \u001b[0mmsg\u001b[0m\u001b[0;34m)\u001b[0m\u001b[0;34m)\u001b[0m\u001b[0;34m\u001b[0m\u001b[0;34m\u001b[0m\u001b[0m\n\u001b[0m\u001b[1;32m    262\u001b[0m             \u001b[0;32mexcept\u001b[0m \u001b[0mException\u001b[0m\u001b[0;34m:\u001b[0m\u001b[0;34m\u001b[0m\u001b[0;34m\u001b[0m\u001b[0m\n",
      "\u001b[0;32m/opt/anaconda3/envs/devEnv39/lib/python3.9/site-packages/tornado/gen.py\u001b[0m in \u001b[0;36mwrapper\u001b[0;34m(***failed resolving arguments***)\u001b[0m\n\u001b[1;32m    233\u001b[0m                 \u001b[0;32mtry\u001b[0m\u001b[0;34m:\u001b[0m\u001b[0;34m\u001b[0m\u001b[0;34m\u001b[0m\u001b[0m\n\u001b[0;32m--> 234\u001b[0;31m                     \u001b[0myielded\u001b[0m \u001b[0;34m=\u001b[0m \u001b[0mctx_run\u001b[0m\u001b[0;34m(\u001b[0m\u001b[0mnext\u001b[0m\u001b[0;34m,\u001b[0m \u001b[0mresult\u001b[0m\u001b[0;34m)\u001b[0m\u001b[0;34m\u001b[0m\u001b[0;34m\u001b[0m\u001b[0m\n\u001b[0m\u001b[1;32m    235\u001b[0m                 \u001b[0;32mexcept\u001b[0m \u001b[0;34m(\u001b[0m\u001b[0mStopIteration\u001b[0m\u001b[0;34m,\u001b[0m \u001b[0mReturn\u001b[0m\u001b[0;34m)\u001b[0m \u001b[0;32mas\u001b[0m \u001b[0me\u001b[0m\u001b[0;34m:\u001b[0m\u001b[0;34m\u001b[0m\u001b[0;34m\u001b[0m\u001b[0m\n",
      "\u001b[0;32m/opt/anaconda3/envs/devEnv39/lib/python3.9/site-packages/ipykernel/kernelbase.py\u001b[0m in \u001b[0;36mexecute_request\u001b[0;34m(***failed resolving arguments***)\u001b[0m\n\u001b[1;32m    535\u001b[0m         reply_content = yield gen.maybe_future(\n\u001b[0;32m--> 536\u001b[0;31m             self.do_execute(\n\u001b[0m\u001b[1;32m    537\u001b[0m                 \u001b[0mcode\u001b[0m\u001b[0;34m,\u001b[0m \u001b[0msilent\u001b[0m\u001b[0;34m,\u001b[0m \u001b[0mstore_history\u001b[0m\u001b[0;34m,\u001b[0m\u001b[0;34m\u001b[0m\u001b[0;34m\u001b[0m\u001b[0m\n",
      "\u001b[0;32m/opt/anaconda3/envs/devEnv39/lib/python3.9/site-packages/tornado/gen.py\u001b[0m in \u001b[0;36mwrapper\u001b[0;34m(***failed resolving arguments***)\u001b[0m\n\u001b[1;32m    233\u001b[0m                 \u001b[0;32mtry\u001b[0m\u001b[0;34m:\u001b[0m\u001b[0;34m\u001b[0m\u001b[0;34m\u001b[0m\u001b[0m\n\u001b[0;32m--> 234\u001b[0;31m                     \u001b[0myielded\u001b[0m \u001b[0;34m=\u001b[0m \u001b[0mctx_run\u001b[0m\u001b[0;34m(\u001b[0m\u001b[0mnext\u001b[0m\u001b[0;34m,\u001b[0m \u001b[0mresult\u001b[0m\u001b[0;34m)\u001b[0m\u001b[0;34m\u001b[0m\u001b[0;34m\u001b[0m\u001b[0m\n\u001b[0m\u001b[1;32m    235\u001b[0m                 \u001b[0;32mexcept\u001b[0m \u001b[0;34m(\u001b[0m\u001b[0mStopIteration\u001b[0m\u001b[0;34m,\u001b[0m \u001b[0mReturn\u001b[0m\u001b[0;34m)\u001b[0m \u001b[0;32mas\u001b[0m \u001b[0me\u001b[0m\u001b[0;34m:\u001b[0m\u001b[0;34m\u001b[0m\u001b[0;34m\u001b[0m\u001b[0m\n",
      "\u001b[0;32m/opt/anaconda3/envs/devEnv39/lib/python3.9/site-packages/ipykernel/ipkernel.py\u001b[0m in \u001b[0;36mdo_execute\u001b[0;34m(***failed resolving arguments***)\u001b[0m\n\u001b[1;32m    301\u001b[0m                 \u001b[0;31m# letting shell dispatch to loop runners\u001b[0m\u001b[0;34m\u001b[0m\u001b[0;34m\u001b[0m\u001b[0;34m\u001b[0m\u001b[0m\n\u001b[0;32m--> 302\u001b[0;31m                 \u001b[0mres\u001b[0m \u001b[0;34m=\u001b[0m \u001b[0mshell\u001b[0m\u001b[0;34m.\u001b[0m\u001b[0mrun_cell\u001b[0m\u001b[0;34m(\u001b[0m\u001b[0mcode\u001b[0m\u001b[0;34m,\u001b[0m \u001b[0mstore_history\u001b[0m\u001b[0;34m=\u001b[0m\u001b[0mstore_history\u001b[0m\u001b[0;34m,\u001b[0m \u001b[0msilent\u001b[0m\u001b[0;34m=\u001b[0m\u001b[0msilent\u001b[0m\u001b[0;34m)\u001b[0m\u001b[0;34m\u001b[0m\u001b[0;34m\u001b[0m\u001b[0m\n\u001b[0m\u001b[1;32m    303\u001b[0m         \u001b[0;32mfinally\u001b[0m\u001b[0;34m:\u001b[0m\u001b[0;34m\u001b[0m\u001b[0;34m\u001b[0m\u001b[0m\n",
      "\u001b[0;32m/opt/anaconda3/envs/devEnv39/lib/python3.9/site-packages/ipykernel/zmqshell.py\u001b[0m in \u001b[0;36mrun_cell\u001b[0;34m(***failed resolving arguments***)\u001b[0m\n\u001b[1;32m    538\u001b[0m         \u001b[0mself\u001b[0m\u001b[0;34m.\u001b[0m\u001b[0m_last_traceback\u001b[0m \u001b[0;34m=\u001b[0m \u001b[0;32mNone\u001b[0m\u001b[0;34m\u001b[0m\u001b[0;34m\u001b[0m\u001b[0m\n\u001b[0;32m--> 539\u001b[0;31m         \u001b[0;32mreturn\u001b[0m \u001b[0msuper\u001b[0m\u001b[0;34m(\u001b[0m\u001b[0mZMQInteractiveShell\u001b[0m\u001b[0;34m,\u001b[0m \u001b[0mself\u001b[0m\u001b[0;34m)\u001b[0m\u001b[0;34m.\u001b[0m\u001b[0mrun_cell\u001b[0m\u001b[0;34m(\u001b[0m\u001b[0;34m*\u001b[0m\u001b[0margs\u001b[0m\u001b[0;34m,\u001b[0m \u001b[0;34m**\u001b[0m\u001b[0mkwargs\u001b[0m\u001b[0;34m)\u001b[0m\u001b[0;34m\u001b[0m\u001b[0;34m\u001b[0m\u001b[0m\n\u001b[0m\u001b[1;32m    540\u001b[0m \u001b[0;34m\u001b[0m\u001b[0m\n",
      "\u001b[0;32m/opt/anaconda3/envs/devEnv39/lib/python3.9/site-packages/IPython/core/interactiveshell.py\u001b[0m in \u001b[0;36mrun_cell\u001b[0;34m(***failed resolving arguments***)\u001b[0m\n\u001b[1;32m   2897\u001b[0m         \u001b[0;32mtry\u001b[0m\u001b[0;34m:\u001b[0m\u001b[0;34m\u001b[0m\u001b[0;34m\u001b[0m\u001b[0m\n\u001b[0;32m-> 2898\u001b[0;31m             result = self._run_cell(\n\u001b[0m\u001b[1;32m   2899\u001b[0m                 raw_cell, store_history, silent, shell_futures)\n",
      "\u001b[0;32m/opt/anaconda3/envs/devEnv39/lib/python3.9/site-packages/IPython/core/interactiveshell.py\u001b[0m in \u001b[0;36m_run_cell\u001b[0;34m(***failed resolving arguments***)\u001b[0m\n\u001b[1;32m   2943\u001b[0m         \u001b[0;32mtry\u001b[0m\u001b[0;34m:\u001b[0m\u001b[0;34m\u001b[0m\u001b[0;34m\u001b[0m\u001b[0m\n\u001b[0;32m-> 2944\u001b[0;31m             \u001b[0;32mreturn\u001b[0m \u001b[0mrunner\u001b[0m\u001b[0;34m(\u001b[0m\u001b[0mcoro\u001b[0m\u001b[0;34m)\u001b[0m\u001b[0;34m\u001b[0m\u001b[0;34m\u001b[0m\u001b[0m\n\u001b[0m\u001b[1;32m   2945\u001b[0m         \u001b[0;32mexcept\u001b[0m \u001b[0mBaseException\u001b[0m \u001b[0;32mas\u001b[0m \u001b[0me\u001b[0m\u001b[0;34m:\u001b[0m\u001b[0;34m\u001b[0m\u001b[0;34m\u001b[0m\u001b[0m\n",
      "\u001b[0;32m/opt/anaconda3/envs/devEnv39/lib/python3.9/site-packages/IPython/core/async_helpers.py\u001b[0m in \u001b[0;36m_pseudo_sync_runner\u001b[0;34m(***failed resolving arguments***)\u001b[0m\n\u001b[1;32m     67\u001b[0m     \u001b[0;32mtry\u001b[0m\u001b[0;34m:\u001b[0m\u001b[0;34m\u001b[0m\u001b[0;34m\u001b[0m\u001b[0m\n\u001b[0;32m---> 68\u001b[0;31m         \u001b[0mcoro\u001b[0m\u001b[0;34m.\u001b[0m\u001b[0msend\u001b[0m\u001b[0;34m(\u001b[0m\u001b[0;32mNone\u001b[0m\u001b[0;34m)\u001b[0m\u001b[0;34m\u001b[0m\u001b[0;34m\u001b[0m\u001b[0m\n\u001b[0m\u001b[1;32m     69\u001b[0m     \u001b[0;32mexcept\u001b[0m \u001b[0mStopIteration\u001b[0m \u001b[0;32mas\u001b[0m \u001b[0mexc\u001b[0m\u001b[0;34m:\u001b[0m\u001b[0;34m\u001b[0m\u001b[0;34m\u001b[0m\u001b[0m\n",
      "\u001b[0;32m/opt/anaconda3/envs/devEnv39/lib/python3.9/site-packages/IPython/core/interactiveshell.py\u001b[0m in \u001b[0;36mrun_cell_async\u001b[0;34m(***failed resolving arguments***)\u001b[0m\n\u001b[1;32m   3168\u001b[0m \u001b[0;34m\u001b[0m\u001b[0m\n\u001b[0;32m-> 3169\u001b[0;31m                 has_raised = await self.run_ast_nodes(code_ast.body, cell_name,\n\u001b[0m\u001b[1;32m   3170\u001b[0m                        interactivity=interactivity, compiler=compiler, result=result)\n",
      "\u001b[0;32m/opt/anaconda3/envs/devEnv39/lib/python3.9/site-packages/IPython/core/interactiveshell.py\u001b[0m in \u001b[0;36mrun_ast_nodes\u001b[0;34m(***failed resolving arguments***)\u001b[0m\n\u001b[1;32m   3360\u001b[0m                         \u001b[0masy\u001b[0m \u001b[0;34m=\u001b[0m \u001b[0mcompare\u001b[0m\u001b[0;34m(\u001b[0m\u001b[0mcode\u001b[0m\u001b[0;34m)\u001b[0m\u001b[0;34m\u001b[0m\u001b[0;34m\u001b[0m\u001b[0m\n\u001b[0;32m-> 3361\u001b[0;31m                     \u001b[0;32mif\u001b[0m \u001b[0;34m(\u001b[0m\u001b[0;32mawait\u001b[0m \u001b[0mself\u001b[0m\u001b[0;34m.\u001b[0m\u001b[0mrun_code\u001b[0m\u001b[0;34m(\u001b[0m\u001b[0mcode\u001b[0m\u001b[0;34m,\u001b[0m \u001b[0mresult\u001b[0m\u001b[0;34m,\u001b[0m  \u001b[0masync_\u001b[0m\u001b[0;34m=\u001b[0m\u001b[0masy\u001b[0m\u001b[0;34m)\u001b[0m\u001b[0;34m)\u001b[0m\u001b[0;34m:\u001b[0m\u001b[0;34m\u001b[0m\u001b[0;34m\u001b[0m\u001b[0m\n\u001b[0m\u001b[1;32m   3362\u001b[0m                         \u001b[0;32mreturn\u001b[0m \u001b[0;32mTrue\u001b[0m\u001b[0;34m\u001b[0m\u001b[0;34m\u001b[0m\u001b[0m\n",
      "\u001b[0;32m/opt/anaconda3/envs/devEnv39/lib/python3.9/site-packages/IPython/core/interactiveshell.py\u001b[0m in \u001b[0;36mrun_code\u001b[0;34m(***failed resolving arguments***)\u001b[0m\n\u001b[1;32m   3440\u001b[0m                 \u001b[0;32melse\u001b[0m\u001b[0;34m:\u001b[0m\u001b[0;34m\u001b[0m\u001b[0;34m\u001b[0m\u001b[0m\n\u001b[0;32m-> 3441\u001b[0;31m                     \u001b[0mexec\u001b[0m\u001b[0;34m(\u001b[0m\u001b[0mcode_obj\u001b[0m\u001b[0;34m,\u001b[0m \u001b[0mself\u001b[0m\u001b[0;34m.\u001b[0m\u001b[0muser_global_ns\u001b[0m\u001b[0;34m,\u001b[0m \u001b[0mself\u001b[0m\u001b[0;34m.\u001b[0m\u001b[0muser_ns\u001b[0m\u001b[0;34m)\u001b[0m\u001b[0;34m\u001b[0m\u001b[0;34m\u001b[0m\u001b[0m\n\u001b[0m\u001b[1;32m   3442\u001b[0m             \u001b[0;32mfinally\u001b[0m\u001b[0;34m:\u001b[0m\u001b[0;34m\u001b[0m\u001b[0;34m\u001b[0m\u001b[0m\n",
      "\u001b[0;32m<ipython-input-36-e2c93009c2f6>\u001b[0m in \u001b[0;36m<module>\u001b[0;34m\u001b[0m\n\u001b[0;32m----> 1\u001b[0;31m \u001b[0mjit\u001b[0m\u001b[0;34m(\u001b[0m\u001b[0mvalue_and_grad\u001b[0m\u001b[0;34m(\u001b[0m\u001b[0;32mlambda\u001b[0m \u001b[0mx\u001b[0m\u001b[0;34m:\u001b[0m \u001b[0mpoint_obj1\u001b[0m\u001b[0;34m(\u001b[0m\u001b[0mx\u001b[0m\u001b[0;34m,\u001b[0m \u001b[0mp0_vals\u001b[0m\u001b[0;34m,\u001b[0m \u001b[0mp1_vals\u001b[0m\u001b[0;34m)\u001b[0m\u001b[0;34m)\u001b[0m\u001b[0;34m)\u001b[0m\u001b[0;34m(\u001b[0m\u001b[0minputs\u001b[0m\u001b[0;34m[\u001b[0m\u001b[0;36m0\u001b[0m\u001b[0;34m]\u001b[0m\u001b[0;34m)\u001b[0m\u001b[0;34m\u001b[0m\u001b[0;34m\u001b[0m\u001b[0m\n\u001b[0m",
      "\u001b[0;32m<ipython-input-36-e2c93009c2f6>\u001b[0m in \u001b[0;36m<lambda>\u001b[0;34m(***failed resolving arguments***)\u001b[0m\n\u001b[0;32m----> 1\u001b[0;31m \u001b[0mjit\u001b[0m\u001b[0;34m(\u001b[0m\u001b[0mvalue_and_grad\u001b[0m\u001b[0;34m(\u001b[0m\u001b[0;32mlambda\u001b[0m \u001b[0mx\u001b[0m\u001b[0;34m:\u001b[0m \u001b[0mpoint_obj1\u001b[0m\u001b[0;34m(\u001b[0m\u001b[0mx\u001b[0m\u001b[0;34m,\u001b[0m \u001b[0mp0_vals\u001b[0m\u001b[0;34m,\u001b[0m \u001b[0mp1_vals\u001b[0m\u001b[0;34m)\u001b[0m\u001b[0;34m)\u001b[0m\u001b[0;34m)\u001b[0m\u001b[0;34m(\u001b[0m\u001b[0minputs\u001b[0m\u001b[0;34m[\u001b[0m\u001b[0;36m0\u001b[0m\u001b[0;34m]\u001b[0m\u001b[0;34m)\u001b[0m\u001b[0;34m\u001b[0m\u001b[0;34m\u001b[0m\u001b[0m\n\u001b[0m",
      "\u001b[0;32m<ipython-input-32-dead6eb40c27>\u001b[0m in \u001b[0;36mpoint_obj1\u001b[0;34m(***failed resolving arguments***)\u001b[0m\n\u001b[1;32m     43\u001b[0m     \u001b[0mp1_repeated\u001b[0m \u001b[0;34m=\u001b[0m \u001b[0mnp\u001b[0m\u001b[0;34m.\u001b[0m\u001b[0mkron\u001b[0m\u001b[0;34m(\u001b[0m\u001b[0mnp\u001b[0m\u001b[0;34m.\u001b[0m\u001b[0mones\u001b[0m\u001b[0;34m(\u001b[0m\u001b[0;36m5\u001b[0m\u001b[0;34m)\u001b[0m\u001b[0;34m,\u001b[0m \u001b[0mp1_vals\u001b[0m\u001b[0;34m)\u001b[0m\u001b[0;34m\u001b[0m\u001b[0;34m\u001b[0m\u001b[0m\n\u001b[0;32m---> 44\u001b[0;31m     \u001b[0merr_exact\u001b[0m \u001b[0;34m=\u001b[0m \u001b[0mvmap\u001b[0m\u001b[0;34m(\u001b[0m\u001b[0mexact_err\u001b[0m\u001b[0;34m)\u001b[0m\u001b[0;34m(\u001b[0m\u001b[0;34m(\u001b[0m\u001b[0mp0_repeated\u001b[0m\u001b[0;34m,\u001b[0m \u001b[0mp1_repeated\u001b[0m\u001b[0;34m)\u001b[0m\u001b[0;34m)\u001b[0m\u001b[0;34m\u001b[0m\u001b[0;34m\u001b[0m\u001b[0m\n\u001b[0m\u001b[1;32m     45\u001b[0m \u001b[0;34m\u001b[0m\u001b[0m\n",
      "\u001b[0;32m<ipython-input-32-dead6eb40c27>\u001b[0m in \u001b[0;36mexact_err\u001b[0;34m(***failed resolving arguments***)\u001b[0m\n\u001b[1;32m     38\u001b[0m         \u001b[0mham_copy\u001b[0m\u001b[0;34m.\u001b[0m\u001b[0msignals\u001b[0m \u001b[0;34m=\u001b[0m \u001b[0msignals\u001b[0m\u001b[0;34m\u001b[0m\u001b[0;34m\u001b[0m\u001b[0m\n\u001b[0;32m---> 39\u001b[0;31m         \u001b[0mtime_results\u001b[0m \u001b[0;34m=\u001b[0m \u001b[0msolve_lmde\u001b[0m\u001b[0;34m(\u001b[0m\u001b[0mham_copy\u001b[0m\u001b[0;34m,\u001b[0m \u001b[0mt_span\u001b[0m\u001b[0;34m=\u001b[0m\u001b[0;34m[\u001b[0m\u001b[0;36m0\u001b[0m\u001b[0;34m,\u001b[0m\u001b[0mT\u001b[0m\u001b[0;34m]\u001b[0m\u001b[0;34m,\u001b[0m \u001b[0my0\u001b[0m\u001b[0;34m=\u001b[0m\u001b[0mnp\u001b[0m\u001b[0;34m.\u001b[0m\u001b[0meye\u001b[0m\u001b[0;34m(\u001b[0m\u001b[0mdim\u001b[0m\u001b[0;34m)\u001b[0m\u001b[0;34m,\u001b[0m \u001b[0matol\u001b[0m\u001b[0;34m=\u001b[0m\u001b[0mtol\u001b[0m\u001b[0;34m,\u001b[0m \u001b[0mrtol\u001b[0m\u001b[0;34m=\u001b[0m\u001b[0mtol\u001b[0m\u001b[0;34m,\u001b[0m\u001b[0mmethod\u001b[0m\u001b[0;34m=\u001b[0m\u001b[0;34m'jax_odeint'\u001b[0m\u001b[0;34m)\u001b[0m\u001b[0;34m\u001b[0m\u001b[0;34m\u001b[0m\u001b[0m\n\u001b[0m\u001b[1;32m     40\u001b[0m         \u001b[0;32mreturn\u001b[0m \u001b[0;36m1.\u001b[0m\u001b[0;34m-\u001b[0m \u001b[0mArray\u001b[0m\u001b[0;34m(\u001b[0m\u001b[0mfid_func\u001b[0m\u001b[0;34m(\u001b[0m\u001b[0mtime_results\u001b[0m\u001b[0;34m.\u001b[0m\u001b[0my\u001b[0m\u001b[0;34m[\u001b[0m\u001b[0;34m-\u001b[0m\u001b[0;36m1\u001b[0m\u001b[0;34m]\u001b[0m\u001b[0;34m)\u001b[0m\u001b[0;34m)\u001b[0m\u001b[0;34m.\u001b[0m\u001b[0mdata\u001b[0m\u001b[0;34m\u001b[0m\u001b[0;34m\u001b[0m\u001b[0m\n",
      "\u001b[0;32m~/Documents/projects/qiskit-dynamics/qiskit_dynamics/solvers/solver_functions.py\u001b[0m in \u001b[0;36msolve_lmde\u001b[0;34m(***failed resolving arguments***)\u001b[0m\n\u001b[1;32m    250\u001b[0m \u001b[0;34m\u001b[0m\u001b[0m\n\u001b[0;32m--> 251\u001b[0;31m         \u001b[0;32mreturn\u001b[0m \u001b[0msolve_ode\u001b[0m\u001b[0;34m(\u001b[0m\u001b[0mrhs\u001b[0m\u001b[0;34m,\u001b[0m \u001b[0mt_span\u001b[0m\u001b[0;34m,\u001b[0m \u001b[0my0\u001b[0m\u001b[0;34m,\u001b[0m \u001b[0mmethod\u001b[0m\u001b[0;34m=\u001b[0m\u001b[0mmethod\u001b[0m\u001b[0;34m,\u001b[0m \u001b[0mt_eval\u001b[0m\u001b[0;34m=\u001b[0m\u001b[0mt_eval\u001b[0m\u001b[0;34m,\u001b[0m \u001b[0;34m**\u001b[0m\u001b[0mkwargs\u001b[0m\u001b[0;34m)\u001b[0m\u001b[0;34m\u001b[0m\u001b[0;34m\u001b[0m\u001b[0m\n\u001b[0m\u001b[1;32m    252\u001b[0m \u001b[0;34m\u001b[0m\u001b[0m\n",
      "\u001b[0;32m~/Documents/projects/qiskit-dynamics/qiskit_dynamics/solvers/solver_functions.py\u001b[0m in \u001b[0;36msolve_ode\u001b[0;34m(***failed resolving arguments***)\u001b[0m\n\u001b[1;32m    146\u001b[0m     \u001b[0;32melif\u001b[0m \u001b[0misinstance\u001b[0m\u001b[0;34m(\u001b[0m\u001b[0mmethod\u001b[0m\u001b[0;34m,\u001b[0m \u001b[0mstr\u001b[0m\u001b[0;34m)\u001b[0m \u001b[0;32mand\u001b[0m \u001b[0mmethod\u001b[0m \u001b[0;34m==\u001b[0m \u001b[0;34m\"jax_odeint\"\u001b[0m\u001b[0;34m:\u001b[0m\u001b[0;34m\u001b[0m\u001b[0;34m\u001b[0m\u001b[0m\n\u001b[0;32m--> 147\u001b[0;31m         \u001b[0mresults\u001b[0m \u001b[0;34m=\u001b[0m \u001b[0mjax_odeint\u001b[0m\u001b[0;34m(\u001b[0m\u001b[0msolver_rhs\u001b[0m\u001b[0;34m,\u001b[0m \u001b[0mt_span\u001b[0m\u001b[0;34m,\u001b[0m \u001b[0my0\u001b[0m\u001b[0;34m,\u001b[0m \u001b[0mt_eval\u001b[0m\u001b[0;34m=\u001b[0m\u001b[0mt_eval\u001b[0m\u001b[0;34m,\u001b[0m \u001b[0;34m**\u001b[0m\u001b[0mkwargs\u001b[0m\u001b[0;34m)\u001b[0m\u001b[0;34m\u001b[0m\u001b[0;34m\u001b[0m\u001b[0m\n\u001b[0m\u001b[1;32m    148\u001b[0m \u001b[0;34m\u001b[0m\u001b[0m\n",
      "\u001b[0;32m~/Documents/projects/qiskit-dynamics/qiskit_dynamics/dispatch/dispatch.py\u001b[0m in \u001b[0;36mdecorated_func\u001b[0;34m(***failed resolving arguments***)\u001b[0m\n\u001b[1;32m    363\u001b[0m                 \u001b[0mcheck_backend\u001b[0m\u001b[0;34m(\u001b[0m\u001b[0;34mf\"function {obj}\"\u001b[0m\u001b[0;34m)\u001b[0m\u001b[0;34m\u001b[0m\u001b[0;34m\u001b[0m\u001b[0m\n\u001b[0;32m--> 364\u001b[0;31m                 \u001b[0;32mreturn\u001b[0m \u001b[0mobj\u001b[0m\u001b[0;34m(\u001b[0m\u001b[0;34m*\u001b[0m\u001b[0margs\u001b[0m\u001b[0;34m,\u001b[0m \u001b[0;34m**\u001b[0m\u001b[0mkwargs\u001b[0m\u001b[0;34m)\u001b[0m\u001b[0;34m\u001b[0m\u001b[0;34m\u001b[0m\u001b[0m\n\u001b[0m\u001b[1;32m    365\u001b[0m \u001b[0;34m\u001b[0m\u001b[0m\n",
      "\u001b[0;32m~/Documents/projects/qiskit-dynamics/qiskit_dynamics/solvers/jax_odeint.py\u001b[0m in \u001b[0;36mjax_odeint\u001b[0;34m(***failed resolving arguments***)\u001b[0m\n\u001b[1;32m     63\u001b[0m \u001b[0;34m\u001b[0m\u001b[0m\n\u001b[0;32m---> 64\u001b[0;31m     results = odeint(\n\u001b[0m\u001b[1;32m     65\u001b[0m         \u001b[0;32mlambda\u001b[0m \u001b[0my\u001b[0m\u001b[0;34m,\u001b[0m \u001b[0mt\u001b[0m\u001b[0;34m:\u001b[0m \u001b[0mrhs\u001b[0m\u001b[0;34m(\u001b[0m\u001b[0mnp\u001b[0m\u001b[0;34m.\u001b[0m\u001b[0mreal\u001b[0m\u001b[0;34m(\u001b[0m\u001b[0mt_direction\u001b[0m \u001b[0;34m*\u001b[0m \u001b[0mt\u001b[0m\u001b[0;34m)\u001b[0m\u001b[0;34m,\u001b[0m \u001b[0my\u001b[0m\u001b[0;34m)\u001b[0m \u001b[0;34m*\u001b[0m \u001b[0mt_direction\u001b[0m\u001b[0;34m,\u001b[0m\u001b[0;34m\u001b[0m\u001b[0;34m\u001b[0m\u001b[0m\n",
      "\u001b[0;32m~/Documents/projects/qiskit-dynamics/qiskit_dynamics/array/wrap.py\u001b[0m in \u001b[0;36mwrapped_func\u001b[0;34m(***failed resolving arguments***)\u001b[0m\n\u001b[1;32m    106\u001b[0m             \u001b[0mkwargs\u001b[0m \u001b[0;34m=\u001b[0m \u001b[0m_wrap_kwargs\u001b[0m\u001b[0;34m(\u001b[0m\u001b[0mkwargs\u001b[0m\u001b[0;34m)\u001b[0m\u001b[0;34m\u001b[0m\u001b[0;34m\u001b[0m\u001b[0m\n\u001b[0;32m--> 107\u001b[0;31m             \u001b[0mresult\u001b[0m \u001b[0;34m=\u001b[0m \u001b[0m_wrap_array_function\u001b[0m\u001b[0;34m(\u001b[0m\u001b[0mfunc\u001b[0m\u001b[0;34m)\u001b[0m\u001b[0;34m(\u001b[0m\u001b[0;34m*\u001b[0m\u001b[0margs\u001b[0m\u001b[0;34m,\u001b[0m \u001b[0;34m**\u001b[0m\u001b[0mkwargs\u001b[0m\u001b[0;34m)\u001b[0m\u001b[0;34m\u001b[0m\u001b[0;34m\u001b[0m\u001b[0m\n\u001b[0m\u001b[1;32m    108\u001b[0m             \u001b[0;32mreturn\u001b[0m \u001b[0mArray\u001b[0m\u001b[0;34m.\u001b[0m\u001b[0m_wrap\u001b[0m\u001b[0;34m(\u001b[0m\u001b[0mresult\u001b[0m\u001b[0;34m)\u001b[0m\u001b[0;34m\u001b[0m\u001b[0;34m\u001b[0m\u001b[0m\n",
      "\u001b[0;32m~/Documents/projects/qiskit-dynamics/qiskit_dynamics/array/wrap.py\u001b[0m in \u001b[0;36mwrapped_function\u001b[0;34m(***failed resolving arguments***)\u001b[0m\n\u001b[1;32m     59\u001b[0m         \u001b[0;31m# Evaluate function with unwrapped inputs\u001b[0m\u001b[0;34m\u001b[0m\u001b[0;34m\u001b[0m\u001b[0;34m\u001b[0m\u001b[0m\n\u001b[0;32m---> 60\u001b[0;31m         \u001b[0mresult\u001b[0m \u001b[0;34m=\u001b[0m \u001b[0mfunc\u001b[0m\u001b[0;34m(\u001b[0m\u001b[0;34m*\u001b[0m\u001b[0margs\u001b[0m\u001b[0;34m,\u001b[0m \u001b[0;34m**\u001b[0m\u001b[0mkwargs\u001b[0m\u001b[0;34m)\u001b[0m\u001b[0;34m\u001b[0m\u001b[0;34m\u001b[0m\u001b[0m\n\u001b[0m\u001b[1;32m     61\u001b[0m \u001b[0;34m\u001b[0m\u001b[0m\n",
      "\u001b[0;32m/opt/anaconda3/envs/devEnv39/lib/python3.9/site-packages/jax/experimental/ode.py\u001b[0m in \u001b[0;36modeint\u001b[0;34m(***failed resolving arguments***)\u001b[0m\n\u001b[1;32m    173\u001b[0m \u001b[0;34m\u001b[0m\u001b[0m\n\u001b[0;32m--> 174\u001b[0;31m   \u001b[0mconverted\u001b[0m\u001b[0;34m,\u001b[0m \u001b[0mconsts\u001b[0m \u001b[0;34m=\u001b[0m \u001b[0mcustom_derivatives\u001b[0m\u001b[0;34m.\u001b[0m\u001b[0mclosure_convert\u001b[0m\u001b[0;34m(\u001b[0m\u001b[0mfunc\u001b[0m\u001b[0;34m,\u001b[0m \u001b[0my0\u001b[0m\u001b[0;34m,\u001b[0m \u001b[0mt\u001b[0m\u001b[0;34m[\u001b[0m\u001b[0;36m0\u001b[0m\u001b[0;34m]\u001b[0m\u001b[0;34m,\u001b[0m \u001b[0;34m*\u001b[0m\u001b[0margs\u001b[0m\u001b[0;34m)\u001b[0m\u001b[0;34m\u001b[0m\u001b[0;34m\u001b[0m\u001b[0m\n\u001b[0m\u001b[1;32m    175\u001b[0m   \u001b[0;32mreturn\u001b[0m \u001b[0m_odeint_wrapper\u001b[0m\u001b[0;34m(\u001b[0m\u001b[0mconverted\u001b[0m\u001b[0;34m,\u001b[0m \u001b[0mrtol\u001b[0m\u001b[0;34m,\u001b[0m \u001b[0matol\u001b[0m\u001b[0;34m,\u001b[0m \u001b[0mmxstep\u001b[0m\u001b[0;34m,\u001b[0m \u001b[0my0\u001b[0m\u001b[0;34m,\u001b[0m \u001b[0mt\u001b[0m\u001b[0;34m,\u001b[0m \u001b[0;34m*\u001b[0m\u001b[0margs\u001b[0m\u001b[0;34m,\u001b[0m \u001b[0;34m*\u001b[0m\u001b[0mconsts\u001b[0m\u001b[0;34m)\u001b[0m\u001b[0;34m\u001b[0m\u001b[0;34m\u001b[0m\u001b[0m\n",
      "\u001b[0;32m~/Documents/projects/qiskit-dynamics/qiskit_dynamics/array/wrap.py\u001b[0m in \u001b[0;36mwrapped_function\u001b[0;34m(***failed resolving arguments***)\u001b[0m\n\u001b[1;32m     59\u001b[0m         \u001b[0;31m# Evaluate function with unwrapped inputs\u001b[0m\u001b[0;34m\u001b[0m\u001b[0;34m\u001b[0m\u001b[0;34m\u001b[0m\u001b[0m\n\u001b[0;32m---> 60\u001b[0;31m         \u001b[0mresult\u001b[0m \u001b[0;34m=\u001b[0m \u001b[0mfunc\u001b[0m\u001b[0;34m(\u001b[0m\u001b[0;34m*\u001b[0m\u001b[0margs\u001b[0m\u001b[0;34m,\u001b[0m \u001b[0;34m**\u001b[0m\u001b[0mkwargs\u001b[0m\u001b[0;34m)\u001b[0m\u001b[0;34m\u001b[0m\u001b[0;34m\u001b[0m\u001b[0m\n\u001b[0m\u001b[1;32m     61\u001b[0m \u001b[0;34m\u001b[0m\u001b[0m\n",
      "\u001b[0;32m~/Documents/projects/qiskit-dynamics/qiskit_dynamics/solvers/jax_odeint.py\u001b[0m in \u001b[0;36m<lambda>\u001b[0;34m(***failed resolving arguments***)\u001b[0m\n\u001b[1;32m     64\u001b[0m     results = odeint(\n\u001b[0;32m---> 65\u001b[0;31m         \u001b[0;32mlambda\u001b[0m \u001b[0my\u001b[0m\u001b[0;34m,\u001b[0m \u001b[0mt\u001b[0m\u001b[0;34m:\u001b[0m \u001b[0mrhs\u001b[0m\u001b[0;34m(\u001b[0m\u001b[0mnp\u001b[0m\u001b[0;34m.\u001b[0m\u001b[0mreal\u001b[0m\u001b[0;34m(\u001b[0m\u001b[0mt_direction\u001b[0m \u001b[0;34m*\u001b[0m \u001b[0mt\u001b[0m\u001b[0;34m)\u001b[0m\u001b[0;34m,\u001b[0m \u001b[0my\u001b[0m\u001b[0;34m)\u001b[0m \u001b[0;34m*\u001b[0m \u001b[0mt_direction\u001b[0m\u001b[0;34m,\u001b[0m\u001b[0;34m\u001b[0m\u001b[0;34m\u001b[0m\u001b[0m\n\u001b[0m\u001b[1;32m     66\u001b[0m         \u001b[0my0\u001b[0m\u001b[0;34m=\u001b[0m\u001b[0mArray\u001b[0m\u001b[0;34m(\u001b[0m\u001b[0my0\u001b[0m\u001b[0;34m,\u001b[0m \u001b[0mdtype\u001b[0m\u001b[0;34m=\u001b[0m\u001b[0mcomplex\u001b[0m\u001b[0;34m)\u001b[0m\u001b[0;34m,\u001b[0m\u001b[0;34m\u001b[0m\u001b[0;34m\u001b[0m\u001b[0m\n",
      "\u001b[0;32m~/Documents/projects/qiskit-dynamics/qiskit_dynamics/array/wrap.py\u001b[0m in \u001b[0;36mwrapped_func\u001b[0;34m(***failed resolving arguments***)\u001b[0m\n\u001b[1;32m    106\u001b[0m             \u001b[0mkwargs\u001b[0m \u001b[0;34m=\u001b[0m \u001b[0m_wrap_kwargs\u001b[0m\u001b[0;34m(\u001b[0m\u001b[0mkwargs\u001b[0m\u001b[0;34m)\u001b[0m\u001b[0;34m\u001b[0m\u001b[0;34m\u001b[0m\u001b[0m\n\u001b[0;32m--> 107\u001b[0;31m             \u001b[0mresult\u001b[0m \u001b[0;34m=\u001b[0m \u001b[0m_wrap_array_function\u001b[0m\u001b[0;34m(\u001b[0m\u001b[0mfunc\u001b[0m\u001b[0;34m)\u001b[0m\u001b[0;34m(\u001b[0m\u001b[0;34m*\u001b[0m\u001b[0margs\u001b[0m\u001b[0;34m,\u001b[0m \u001b[0;34m**\u001b[0m\u001b[0mkwargs\u001b[0m\u001b[0;34m)\u001b[0m\u001b[0;34m\u001b[0m\u001b[0;34m\u001b[0m\u001b[0m\n\u001b[0m\u001b[1;32m    108\u001b[0m             \u001b[0;32mreturn\u001b[0m \u001b[0mArray\u001b[0m\u001b[0;34m.\u001b[0m\u001b[0m_wrap\u001b[0m\u001b[0;34m(\u001b[0m\u001b[0mresult\u001b[0m\u001b[0;34m)\u001b[0m\u001b[0;34m\u001b[0m\u001b[0;34m\u001b[0m\u001b[0m\n",
      "\u001b[0;32m~/Documents/projects/qiskit-dynamics/qiskit_dynamics/array/wrap.py\u001b[0m in \u001b[0;36mwrapped_function\u001b[0;34m(***failed resolving arguments***)\u001b[0m\n\u001b[1;32m     59\u001b[0m         \u001b[0;31m# Evaluate function with unwrapped inputs\u001b[0m\u001b[0;34m\u001b[0m\u001b[0;34m\u001b[0m\u001b[0;34m\u001b[0m\u001b[0m\n\u001b[0;32m---> 60\u001b[0;31m         \u001b[0mresult\u001b[0m \u001b[0;34m=\u001b[0m \u001b[0mfunc\u001b[0m\u001b[0;34m(\u001b[0m\u001b[0;34m*\u001b[0m\u001b[0margs\u001b[0m\u001b[0;34m,\u001b[0m \u001b[0;34m**\u001b[0m\u001b[0mkwargs\u001b[0m\u001b[0;34m)\u001b[0m\u001b[0;34m\u001b[0m\u001b[0;34m\u001b[0m\u001b[0m\n\u001b[0m\u001b[1;32m     61\u001b[0m \u001b[0;34m\u001b[0m\u001b[0m\n",
      "\u001b[0;32m~/Documents/projects/qiskit-dynamics/qiskit_dynamics/solvers/solver_functions.py\u001b[0m in \u001b[0;36mrhs\u001b[0;34m(***failed resolving arguments***)\u001b[0m\n\u001b[1;32m    334\u001b[0m     \u001b[0;32mdef\u001b[0m \u001b[0mrhs\u001b[0m\u001b[0;34m(\u001b[0m\u001b[0mt\u001b[0m\u001b[0;34m,\u001b[0m \u001b[0my\u001b[0m\u001b[0;34m)\u001b[0m\u001b[0;34m:\u001b[0m\u001b[0;34m\u001b[0m\u001b[0;34m\u001b[0m\u001b[0m\n\u001b[0;32m--> 335\u001b[0;31m         \u001b[0;32mreturn\u001b[0m \u001b[0mgenerator_model\u001b[0m\u001b[0;34m(\u001b[0m\u001b[0mt\u001b[0m\u001b[0;34m,\u001b[0m \u001b[0my\u001b[0m\u001b[0;34m)\u001b[0m\u001b[0;34m\u001b[0m\u001b[0;34m\u001b[0m\u001b[0m\n\u001b[0m\u001b[1;32m    336\u001b[0m \u001b[0;34m\u001b[0m\u001b[0m\n",
      "\u001b[0;32m~/Documents/projects/qiskit-dynamics/qiskit_dynamics/models/generator_model.py\u001b[0m in \u001b[0;36m__call__\u001b[0;34m(***failed resolving arguments***)\u001b[0m\n\u001b[1;32m    136\u001b[0m \u001b[0;34m\u001b[0m\u001b[0m\n\u001b[0;32m--> 137\u001b[0;31m         \u001b[0;32mreturn\u001b[0m \u001b[0mself\u001b[0m\u001b[0;34m.\u001b[0m\u001b[0mevaluate_rhs\u001b[0m\u001b[0;34m(\u001b[0m\u001b[0mtime\u001b[0m\u001b[0;34m,\u001b[0m \u001b[0my\u001b[0m\u001b[0;34m)\u001b[0m\u001b[0;34m\u001b[0m\u001b[0;34m\u001b[0m\u001b[0m\n\u001b[0m\u001b[1;32m    138\u001b[0m \u001b[0;34m\u001b[0m\u001b[0m\n",
      "\u001b[0;32m~/Documents/projects/qiskit-dynamics/qiskit_dynamics/models/hamiltonian_model.py\u001b[0m in \u001b[0;36mevaluate_rhs\u001b[0;34m(***failed resolving arguments***)\u001b[0m\n\u001b[1;32m    158\u001b[0m     \u001b[0;32mdef\u001b[0m \u001b[0mevaluate_rhs\u001b[0m\u001b[0;34m(\u001b[0m\u001b[0mself\u001b[0m\u001b[0;34m,\u001b[0m \u001b[0mtime\u001b[0m\u001b[0;34m:\u001b[0m \u001b[0mfloat\u001b[0m\u001b[0;34m,\u001b[0m \u001b[0my\u001b[0m\u001b[0;34m:\u001b[0m \u001b[0mArray\u001b[0m\u001b[0;34m)\u001b[0m \u001b[0;34m->\u001b[0m \u001b[0mArray\u001b[0m\u001b[0;34m:\u001b[0m\u001b[0;34m\u001b[0m\u001b[0;34m\u001b[0m\u001b[0m\n\u001b[0;32m--> 159\u001b[0;31m         \u001b[0;32mreturn\u001b[0m \u001b[0;34m-\u001b[0m\u001b[0;36m1j\u001b[0m \u001b[0;34m*\u001b[0m \u001b[0msuper\u001b[0m\u001b[0;34m(\u001b[0m\u001b[0;34m)\u001b[0m\u001b[0;34m.\u001b[0m\u001b[0mevaluate_rhs\u001b[0m\u001b[0;34m(\u001b[0m\u001b[0mtime\u001b[0m\u001b[0;34m,\u001b[0m \u001b[0my\u001b[0m\u001b[0;34m)\u001b[0m\u001b[0;34m\u001b[0m\u001b[0;34m\u001b[0m\u001b[0m\n\u001b[0m\u001b[1;32m    160\u001b[0m \u001b[0;34m\u001b[0m\u001b[0m\n",
      "\u001b[0;32m~/Documents/projects/qiskit-dynamics/qiskit_dynamics/models/generator_model.py\u001b[0m in \u001b[0;36mevaluate_rhs\u001b[0;34m(***failed resolving arguments***)\u001b[0m\n\u001b[1;32m    442\u001b[0m         \u001b[0;32melse\u001b[0m\u001b[0;34m:\u001b[0m\u001b[0;34m\u001b[0m\u001b[0;34m\u001b[0m\u001b[0m\n\u001b[0;32m--> 443\u001b[0;31m             \u001b[0msig_vals\u001b[0m \u001b[0;34m=\u001b[0m \u001b[0mself\u001b[0m\u001b[0;34m.\u001b[0m\u001b[0m_signals\u001b[0m\u001b[0;34m.\u001b[0m\u001b[0m__call__\u001b[0m\u001b[0;34m(\u001b[0m\u001b[0mtime\u001b[0m\u001b[0;34m)\u001b[0m\u001b[0;34m\u001b[0m\u001b[0;34m\u001b[0m\u001b[0m\n\u001b[0m\u001b[1;32m    444\u001b[0m \u001b[0;34m\u001b[0m\u001b[0m\n",
      "\u001b[0;32m~/Documents/projects/qiskit-dynamics/qiskit_dynamics/signals/signals.py\u001b[0m in \u001b[0;36m__call__\u001b[0;34m(***failed resolving arguments***)\u001b[0m\n\u001b[1;32m    829\u001b[0m         \u001b[0;34m\"\"\"Vectorized evaluation of all components.\"\"\"\u001b[0m\u001b[0;34m\u001b[0m\u001b[0;34m\u001b[0m\u001b[0m\n\u001b[0;32m--> 830\u001b[0;31m         \u001b[0;32mreturn\u001b[0m \u001b[0mnp\u001b[0m\u001b[0;34m.\u001b[0m\u001b[0mmoveaxis\u001b[0m\u001b[0;34m(\u001b[0m\u001b[0mself\u001b[0m\u001b[0;34m.\u001b[0m\u001b[0m_eval_signals\u001b[0m\u001b[0;34m(\u001b[0m\u001b[0mt\u001b[0m\u001b[0;34m)\u001b[0m\u001b[0;34m,\u001b[0m \u001b[0;36m0\u001b[0m\u001b[0;34m,\u001b[0m \u001b[0;34m-\u001b[0m\u001b[0;36m1\u001b[0m\u001b[0;34m)\u001b[0m\u001b[0;34m\u001b[0m\u001b[0;34m\u001b[0m\u001b[0m\n\u001b[0m\u001b[1;32m    831\u001b[0m \u001b[0;34m\u001b[0m\u001b[0m\n",
      "\u001b[0;32m~/Documents/projects/qiskit-dynamics/qiskit_dynamics/signals/signals.py\u001b[0m in \u001b[0;36meval_func\u001b[0;34m(***failed resolving arguments***)\u001b[0m\n\u001b[1;32m   1145\u001b[0m     \u001b[0;32mdef\u001b[0m \u001b[0meval_func\u001b[0m\u001b[0;34m(\u001b[0m\u001b[0mt\u001b[0m\u001b[0;34m)\u001b[0m\u001b[0;34m:\u001b[0m\u001b[0;34m\u001b[0m\u001b[0;34m\u001b[0m\u001b[0m\n\u001b[0;32m-> 1146\u001b[0;31m         \u001b[0;32mreturn\u001b[0m \u001b[0mArray\u001b[0m\u001b[0;34m(\u001b[0m\u001b[0;34m[\u001b[0m\u001b[0mArray\u001b[0m\u001b[0;34m(\u001b[0m\u001b[0mfunc\u001b[0m\u001b[0;34m(\u001b[0m\u001b[0mt\u001b[0m\u001b[0;34m)\u001b[0m\u001b[0;34m)\u001b[0m\u001b[0;34m.\u001b[0m\u001b[0mdata\u001b[0m \u001b[0;32mfor\u001b[0m \u001b[0mfunc\u001b[0m \u001b[0;32min\u001b[0m \u001b[0mfunc_list\u001b[0m\u001b[0;34m]\u001b[0m\u001b[0;34m)\u001b[0m\u001b[0;34m\u001b[0m\u001b[0;34m\u001b[0m\u001b[0m\n\u001b[0m\u001b[1;32m   1147\u001b[0m \u001b[0;34m\u001b[0m\u001b[0m\n",
      "\u001b[0;32m~/Documents/projects/qiskit-dynamics/qiskit_dynamics/signals/signals.py\u001b[0m in \u001b[0;36m<listcomp>\u001b[0;34m(***failed resolving arguments***)\u001b[0m\n\u001b[1;32m   1145\u001b[0m     \u001b[0;32mdef\u001b[0m \u001b[0meval_func\u001b[0m\u001b[0;34m(\u001b[0m\u001b[0mt\u001b[0m\u001b[0;34m)\u001b[0m\u001b[0;34m:\u001b[0m\u001b[0;34m\u001b[0m\u001b[0;34m\u001b[0m\u001b[0m\n\u001b[0;32m-> 1146\u001b[0;31m         \u001b[0;32mreturn\u001b[0m \u001b[0mArray\u001b[0m\u001b[0;34m(\u001b[0m\u001b[0;34m[\u001b[0m\u001b[0mArray\u001b[0m\u001b[0;34m(\u001b[0m\u001b[0mfunc\u001b[0m\u001b[0;34m(\u001b[0m\u001b[0mt\u001b[0m\u001b[0;34m)\u001b[0m\u001b[0;34m)\u001b[0m\u001b[0;34m.\u001b[0m\u001b[0mdata\u001b[0m \u001b[0;32mfor\u001b[0m \u001b[0mfunc\u001b[0m \u001b[0;32min\u001b[0m \u001b[0mfunc_list\u001b[0m\u001b[0;34m]\u001b[0m\u001b[0;34m)\u001b[0m\u001b[0;34m\u001b[0m\u001b[0;34m\u001b[0m\u001b[0m\n\u001b[0m\u001b[1;32m   1147\u001b[0m \u001b[0;34m\u001b[0m\u001b[0m\n",
      "\u001b[0;32m~/Documents/projects/qiskit-dynamics/qiskit_dynamics/signals/signals.py\u001b[0m in \u001b[0;36m__call__\u001b[0;34m(***failed resolving arguments***)\u001b[0m\n\u001b[1;32m    166\u001b[0m         \u001b[0;34m\"\"\"Vectorized evaluation of the signal at time(s) t.\"\"\"\u001b[0m\u001b[0;34m\u001b[0m\u001b[0;34m\u001b[0m\u001b[0m\n\u001b[0;32m--> 167\u001b[0;31m         \u001b[0;32mreturn\u001b[0m \u001b[0mnp\u001b[0m\u001b[0;34m.\u001b[0m\u001b[0mreal\u001b[0m\u001b[0;34m(\u001b[0m\u001b[0mself\u001b[0m\u001b[0;34m.\u001b[0m\u001b[0mcomplex_value\u001b[0m\u001b[0;34m(\u001b[0m\u001b[0mt\u001b[0m\u001b[0;34m)\u001b[0m\u001b[0;34m)\u001b[0m\u001b[0;34m\u001b[0m\u001b[0;34m\u001b[0m\u001b[0m\n\u001b[0m\u001b[1;32m    168\u001b[0m \u001b[0;34m\u001b[0m\u001b[0m\n",
      "\u001b[0;32m~/Documents/projects/qiskit-dynamics/qiskit_dynamics/signals/signals.py\u001b[0m in \u001b[0;36mcomplex_value\u001b[0;34m(***failed resolving arguments***)\u001b[0m\n\u001b[1;32m    599\u001b[0m         \u001b[0mexp_phases\u001b[0m \u001b[0;34m=\u001b[0m \u001b[0mnp\u001b[0m\u001b[0;34m.\u001b[0m\u001b[0mexp\u001b[0m\u001b[0;34m(\u001b[0m\u001b[0mnp\u001b[0m\u001b[0;34m.\u001b[0m\u001b[0mexpand_dims\u001b[0m\u001b[0;34m(\u001b[0m\u001b[0mt\u001b[0m\u001b[0;34m,\u001b[0m \u001b[0;34m-\u001b[0m\u001b[0;36m1\u001b[0m\u001b[0;34m)\u001b[0m \u001b[0;34m*\u001b[0m \u001b[0mself\u001b[0m\u001b[0;34m.\u001b[0m\u001b[0m_carrier_arg\u001b[0m \u001b[0;34m+\u001b[0m \u001b[0mself\u001b[0m\u001b[0;34m.\u001b[0m\u001b[0m_phase_arg\u001b[0m\u001b[0;34m)\u001b[0m\u001b[0;34m\u001b[0m\u001b[0;34m\u001b[0m\u001b[0m\n\u001b[0;32m--> 600\u001b[0;31m         \u001b[0;32mreturn\u001b[0m \u001b[0mnp\u001b[0m\u001b[0;34m.\u001b[0m\u001b[0msum\u001b[0m\u001b[0;34m(\u001b[0m\u001b[0mself\u001b[0m\u001b[0;34m.\u001b[0m\u001b[0menvelope\u001b[0m\u001b[0;34m(\u001b[0m\u001b[0mt\u001b[0m\u001b[0;34m)\u001b[0m \u001b[0;34m*\u001b[0m \u001b[0mexp_phases\u001b[0m\u001b[0;34m,\u001b[0m \u001b[0maxis\u001b[0m\u001b[0;34m=\u001b[0m\u001b[0;34m-\u001b[0m\u001b[0;36m1\u001b[0m\u001b[0;34m)\u001b[0m\u001b[0;34m\u001b[0m\u001b[0;34m\u001b[0m\u001b[0m\n\u001b[0m\u001b[1;32m    601\u001b[0m \u001b[0;34m\u001b[0m\u001b[0m\n",
      "\u001b[0;32m/opt/anaconda3/envs/devEnv39/lib/python3.9/site-packages/numpy/lib/mixins.py\u001b[0m in \u001b[0;36mfunc\u001b[0;34m(***failed resolving arguments***)\u001b[0m\n\u001b[1;32m     20\u001b[0m             \u001b[0;32mreturn\u001b[0m \u001b[0mNotImplemented\u001b[0m\u001b[0;34m\u001b[0m\u001b[0;34m\u001b[0m\u001b[0m\n\u001b[0;32m---> 21\u001b[0;31m         \u001b[0;32mreturn\u001b[0m \u001b[0mufunc\u001b[0m\u001b[0;34m(\u001b[0m\u001b[0mself\u001b[0m\u001b[0;34m,\u001b[0m \u001b[0mother\u001b[0m\u001b[0;34m)\u001b[0m\u001b[0;34m\u001b[0m\u001b[0;34m\u001b[0m\u001b[0m\n\u001b[0m\u001b[1;32m     22\u001b[0m     \u001b[0mfunc\u001b[0m\u001b[0;34m.\u001b[0m\u001b[0m__name__\u001b[0m \u001b[0;34m=\u001b[0m \u001b[0;34m'__{}__'\u001b[0m\u001b[0;34m.\u001b[0m\u001b[0mformat\u001b[0m\u001b[0;34m(\u001b[0m\u001b[0mname\u001b[0m\u001b[0;34m)\u001b[0m\u001b[0;34m\u001b[0m\u001b[0;34m\u001b[0m\u001b[0m\n",
      "\u001b[0;32m~/Documents/projects/qiskit-dynamics/qiskit_dynamics/array/array.py\u001b[0m in \u001b[0;36m__array_ufunc__\u001b[0;34m(***failed resolving arguments***)\u001b[0m\n\u001b[1;32m    249\u001b[0m             \u001b[0;32mreturn\u001b[0m \u001b[0mNotImplemented\u001b[0m\u001b[0;34m\u001b[0m\u001b[0;34m\u001b[0m\u001b[0m\n\u001b[0;32m--> 250\u001b[0;31m         \u001b[0mresult\u001b[0m \u001b[0;34m=\u001b[0m \u001b[0mdispatch_func\u001b[0m\u001b[0;34m(\u001b[0m\u001b[0;34m*\u001b[0m\u001b[0minputs\u001b[0m\u001b[0;34m,\u001b[0m \u001b[0;34m**\u001b[0m\u001b[0mkwargs\u001b[0m\u001b[0;34m)\u001b[0m\u001b[0;34m\u001b[0m\u001b[0;34m\u001b[0m\u001b[0m\n\u001b[0m\u001b[1;32m    251\u001b[0m \u001b[0;34m\u001b[0m\u001b[0m\n",
      "\u001b[0;32m/opt/anaconda3/envs/devEnv39/lib/python3.9/site-packages/jax/_src/numpy/lax_numpy.py\u001b[0m in \u001b[0;36mfn\u001b[0;34m(***failed resolving arguments***)\u001b[0m\n\u001b[1;32m    689\u001b[0m     \u001b[0mx1\u001b[0m\u001b[0;34m,\u001b[0m \u001b[0mx2\u001b[0m \u001b[0;34m=\u001b[0m \u001b[0m_promote_args\u001b[0m\u001b[0;34m(\u001b[0m\u001b[0mnumpy_fn\u001b[0m\u001b[0;34m.\u001b[0m\u001b[0m__name__\u001b[0m\u001b[0;34m,\u001b[0m \u001b[0mx1\u001b[0m\u001b[0;34m,\u001b[0m \u001b[0mx2\u001b[0m\u001b[0;34m)\u001b[0m\u001b[0;34m\u001b[0m\u001b[0;34m\u001b[0m\u001b[0m\n\u001b[0;32m--> 690\u001b[0;31m     \u001b[0;32mreturn\u001b[0m \u001b[0mlax_fn\u001b[0m\u001b[0;34m(\u001b[0m\u001b[0mx1\u001b[0m\u001b[0;34m,\u001b[0m \u001b[0mx2\u001b[0m\u001b[0;34m)\u001b[0m \u001b[0;32mif\u001b[0m \u001b[0mx1\u001b[0m\u001b[0;34m.\u001b[0m\u001b[0mdtype\u001b[0m \u001b[0;34m!=\u001b[0m \u001b[0mbool_\u001b[0m \u001b[0;32melse\u001b[0m \u001b[0mbool_lax_fn\u001b[0m\u001b[0;34m(\u001b[0m\u001b[0mx1\u001b[0m\u001b[0;34m,\u001b[0m \u001b[0mx2\u001b[0m\u001b[0;34m)\u001b[0m\u001b[0;34m\u001b[0m\u001b[0;34m\u001b[0m\u001b[0m\n\u001b[0m\u001b[1;32m    691\u001b[0m   \u001b[0mfn\u001b[0m \u001b[0;34m=\u001b[0m \u001b[0mjit\u001b[0m\u001b[0;34m(\u001b[0m\u001b[0mfn\u001b[0m\u001b[0;34m,\u001b[0m \u001b[0minline\u001b[0m\u001b[0;34m=\u001b[0m\u001b[0;32mTrue\u001b[0m\u001b[0;34m)\u001b[0m\u001b[0;34m\u001b[0m\u001b[0;34m\u001b[0m\u001b[0m\n",
      "\u001b[0;31mJaxStackTraceBeforeTransformation\u001b[0m: jax._src.errors.UnexpectedTracerError: Encountered an unexpected tracer. A function transformed by JAX had a side effect, allowing for a reference to an intermediate value with shape (1,) and dtype complex128 to escape.\nJAX transformations require that functions explicitly return their outputs, and disallow saving intermediate values to global state.\n------------------------------\nThe leaked intermediate value was created on line /Users/dpuzzuoli/Documents/projects/qiskit-dynamics/qiskit_dynamics/array/array.py:250 (__array_ufunc__). \n------------------------------\nWhen the value was created, the final 5 stack frames (most recent last) excluding JAX-internal frames were:\n------------------------------\n/Users/dpuzzuoli/Documents/projects/qiskit-dynamics/qiskit_dynamics/signals/signals.py:1146 (eval_func)\n/Users/dpuzzuoli/Documents/projects/qiskit-dynamics/qiskit_dynamics/signals/signals.py:1146 (<listcomp>)\n/Users/dpuzzuoli/Documents/projects/qiskit-dynamics/qiskit_dynamics/signals/signals.py:167 (__call__)\n/Users/dpuzzuoli/Documents/projects/qiskit-dynamics/qiskit_dynamics/signals/signals.py:599 (complex_value)\n/Users/dpuzzuoli/Documents/projects/qiskit-dynamics/qiskit_dynamics/array/array.py:250 (__array_ufunc__)\n------------------------------\n\nTo catch the leak earlier, try setting the environment variable JAX_CHECK_TRACER_LEAKS or using the `jax.checking_leaks` context manager.Detail: Different traces at same level: Traced<ShapedArray(complex128[1])>with<DynamicJaxprTrace(level=3/2)>, BatchTrace(level=3/2)\nSee https://jax.readthedocs.io/en/latest/errors.html#jax.errors.UnexpectedTracerError\n\nThe preceding stack trace is the source of the JAX operation that, once transformed by JAX, triggered the following exception.\n\n--------------------",
      "\nThe above exception was the direct cause of the following exception:\n",
      "\u001b[0;31mUnexpectedTracerError\u001b[0m                     Traceback (most recent call last)",
      "\u001b[0;32m<ipython-input-36-e2c93009c2f6>\u001b[0m in \u001b[0;36m<module>\u001b[0;34m\u001b[0m\n\u001b[0;32m----> 1\u001b[0;31m \u001b[0mjit\u001b[0m\u001b[0;34m(\u001b[0m\u001b[0mvalue_and_grad\u001b[0m\u001b[0;34m(\u001b[0m\u001b[0;32mlambda\u001b[0m \u001b[0mx\u001b[0m\u001b[0;34m:\u001b[0m \u001b[0mpoint_obj1\u001b[0m\u001b[0;34m(\u001b[0m\u001b[0mx\u001b[0m\u001b[0;34m,\u001b[0m \u001b[0mp0_vals\u001b[0m\u001b[0;34m,\u001b[0m \u001b[0mp1_vals\u001b[0m\u001b[0;34m)\u001b[0m\u001b[0;34m)\u001b[0m\u001b[0;34m)\u001b[0m\u001b[0;34m(\u001b[0m\u001b[0minputs\u001b[0m\u001b[0;34m[\u001b[0m\u001b[0;36m0\u001b[0m\u001b[0;34m]\u001b[0m\u001b[0;34m)\u001b[0m\u001b[0;34m\u001b[0m\u001b[0;34m\u001b[0m\u001b[0m\n\u001b[0m",
      "    \u001b[0;31m[... skipping hidden 30 frame]\u001b[0m\n",
      "\u001b[0;32m/opt/anaconda3/envs/devEnv39/lib/python3.9/site-packages/jax/experimental/ode.py\u001b[0m in \u001b[0;36m_odeint_rev\u001b[0;34m(func, rtol, atol, mxstep, res, g)\u001b[0m\n\u001b[1;32m    253\u001b[0m \u001b[0;34m\u001b[0m\u001b[0m\n\u001b[1;32m    254\u001b[0m   \u001b[0minit_carry\u001b[0m \u001b[0;34m=\u001b[0m \u001b[0;34m(\u001b[0m\u001b[0mg\u001b[0m\u001b[0;34m[\u001b[0m\u001b[0;34m-\u001b[0m\u001b[0;36m1\u001b[0m\u001b[0;34m]\u001b[0m\u001b[0;34m,\u001b[0m \u001b[0;36m0.\u001b[0m\u001b[0;34m,\u001b[0m \u001b[0mtree_map\u001b[0m\u001b[0;34m(\u001b[0m\u001b[0mjnp\u001b[0m\u001b[0;34m.\u001b[0m\u001b[0mzeros_like\u001b[0m\u001b[0;34m,\u001b[0m \u001b[0margs\u001b[0m\u001b[0;34m)\u001b[0m\u001b[0;34m)\u001b[0m\u001b[0;34m\u001b[0m\u001b[0;34m\u001b[0m\u001b[0m\n\u001b[0;32m--> 255\u001b[0;31m   (y_bar, t0_bar, args_bar), rev_ts_bar = lax.scan(\n\u001b[0m\u001b[1;32m    256\u001b[0m       scan_fun, init_carry, jnp.arange(len(ts) - 1, 0, -1))\n\u001b[1;32m    257\u001b[0m   \u001b[0mts_bar\u001b[0m \u001b[0;34m=\u001b[0m \u001b[0mjnp\u001b[0m\u001b[0;34m.\u001b[0m\u001b[0mconcatenate\u001b[0m\u001b[0;34m(\u001b[0m\u001b[0;34m[\u001b[0m\u001b[0mjnp\u001b[0m\u001b[0;34m.\u001b[0m\u001b[0marray\u001b[0m\u001b[0;34m(\u001b[0m\u001b[0;34m[\u001b[0m\u001b[0mt0_bar\u001b[0m\u001b[0;34m]\u001b[0m\u001b[0;34m)\u001b[0m\u001b[0;34m,\u001b[0m \u001b[0mrev_ts_bar\u001b[0m\u001b[0;34m[\u001b[0m\u001b[0;34m:\u001b[0m\u001b[0;34m:\u001b[0m\u001b[0;34m-\u001b[0m\u001b[0;36m1\u001b[0m\u001b[0;34m]\u001b[0m\u001b[0;34m]\u001b[0m\u001b[0;34m)\u001b[0m\u001b[0;34m\u001b[0m\u001b[0;34m\u001b[0m\u001b[0m\n",
      "    \u001b[0;31m[... skipping hidden 12 frame]\u001b[0m\n",
      "\u001b[0;32m/opt/anaconda3/envs/devEnv39/lib/python3.9/site-packages/jax/experimental/ode.py\u001b[0m in \u001b[0;36mscan_fun\u001b[0;34m(carry, i)\u001b[0m\n\u001b[1;32m    243\u001b[0m     \u001b[0mt0_bar\u001b[0m \u001b[0;34m=\u001b[0m \u001b[0mt0_bar\u001b[0m \u001b[0;34m-\u001b[0m \u001b[0mt_bar\u001b[0m\u001b[0;34m\u001b[0m\u001b[0;34m\u001b[0m\u001b[0m\n\u001b[1;32m    244\u001b[0m     \u001b[0;31m# Run augmented system backwards to previous observation\u001b[0m\u001b[0;34m\u001b[0m\u001b[0;34m\u001b[0m\u001b[0;34m\u001b[0m\u001b[0m\n\u001b[0;32m--> 245\u001b[0;31m     _, y_bar, t0_bar, args_bar = odeint(\n\u001b[0m\u001b[1;32m    246\u001b[0m         \u001b[0maug_dynamics\u001b[0m\u001b[0;34m,\u001b[0m \u001b[0;34m(\u001b[0m\u001b[0mys\u001b[0m\u001b[0;34m[\u001b[0m\u001b[0mi\u001b[0m\u001b[0;34m]\u001b[0m\u001b[0;34m,\u001b[0m \u001b[0my_bar\u001b[0m\u001b[0;34m,\u001b[0m \u001b[0mt0_bar\u001b[0m\u001b[0;34m,\u001b[0m \u001b[0margs_bar\u001b[0m\u001b[0;34m)\u001b[0m\u001b[0;34m,\u001b[0m\u001b[0;34m\u001b[0m\u001b[0;34m\u001b[0m\u001b[0m\n\u001b[1;32m    247\u001b[0m         \u001b[0mjnp\u001b[0m\u001b[0;34m.\u001b[0m\u001b[0marray\u001b[0m\u001b[0;34m(\u001b[0m\u001b[0;34m[\u001b[0m\u001b[0;34m-\u001b[0m\u001b[0mts\u001b[0m\u001b[0;34m[\u001b[0m\u001b[0mi\u001b[0m\u001b[0;34m]\u001b[0m\u001b[0;34m,\u001b[0m \u001b[0;34m-\u001b[0m\u001b[0mts\u001b[0m\u001b[0;34m[\u001b[0m\u001b[0mi\u001b[0m \u001b[0;34m-\u001b[0m \u001b[0;36m1\u001b[0m\u001b[0;34m]\u001b[0m\u001b[0;34m]\u001b[0m\u001b[0;34m)\u001b[0m\u001b[0;34m,\u001b[0m\u001b[0;34m\u001b[0m\u001b[0;34m\u001b[0m\u001b[0m\n",
      "\u001b[0;32m/opt/anaconda3/envs/devEnv39/lib/python3.9/site-packages/jax/experimental/ode.py\u001b[0m in \u001b[0;36modeint\u001b[0;34m(func, y0, t, rtol, atol, mxstep, *args)\u001b[0m\n\u001b[1;32m    172\u001b[0m       \u001b[0;32mraise\u001b[0m \u001b[0mTypeError\u001b[0m\u001b[0;34m(\u001b[0m\u001b[0mmsg\u001b[0m\u001b[0;34m.\u001b[0m\u001b[0mformat\u001b[0m\u001b[0;34m(\u001b[0m\u001b[0marg\u001b[0m\u001b[0;34m)\u001b[0m\u001b[0;34m)\u001b[0m\u001b[0;34m\u001b[0m\u001b[0;34m\u001b[0m\u001b[0m\n\u001b[1;32m    173\u001b[0m \u001b[0;34m\u001b[0m\u001b[0m\n\u001b[0;32m--> 174\u001b[0;31m   \u001b[0mconverted\u001b[0m\u001b[0;34m,\u001b[0m \u001b[0mconsts\u001b[0m \u001b[0;34m=\u001b[0m \u001b[0mcustom_derivatives\u001b[0m\u001b[0;34m.\u001b[0m\u001b[0mclosure_convert\u001b[0m\u001b[0;34m(\u001b[0m\u001b[0mfunc\u001b[0m\u001b[0;34m,\u001b[0m \u001b[0my0\u001b[0m\u001b[0;34m,\u001b[0m \u001b[0mt\u001b[0m\u001b[0;34m[\u001b[0m\u001b[0;36m0\u001b[0m\u001b[0;34m]\u001b[0m\u001b[0;34m,\u001b[0m \u001b[0;34m*\u001b[0m\u001b[0margs\u001b[0m\u001b[0;34m)\u001b[0m\u001b[0;34m\u001b[0m\u001b[0;34m\u001b[0m\u001b[0m\n\u001b[0m\u001b[1;32m    175\u001b[0m   \u001b[0;32mreturn\u001b[0m \u001b[0m_odeint_wrapper\u001b[0m\u001b[0;34m(\u001b[0m\u001b[0mconverted\u001b[0m\u001b[0;34m,\u001b[0m \u001b[0mrtol\u001b[0m\u001b[0;34m,\u001b[0m \u001b[0matol\u001b[0m\u001b[0;34m,\u001b[0m \u001b[0mmxstep\u001b[0m\u001b[0;34m,\u001b[0m \u001b[0my0\u001b[0m\u001b[0;34m,\u001b[0m \u001b[0mt\u001b[0m\u001b[0;34m,\u001b[0m \u001b[0;34m*\u001b[0m\u001b[0margs\u001b[0m\u001b[0;34m,\u001b[0m \u001b[0;34m*\u001b[0m\u001b[0mconsts\u001b[0m\u001b[0;34m)\u001b[0m\u001b[0;34m\u001b[0m\u001b[0;34m\u001b[0m\u001b[0m\n\u001b[1;32m    176\u001b[0m \u001b[0;34m\u001b[0m\u001b[0m\n",
      "    \u001b[0;31m[... skipping hidden 7 frame]\u001b[0m\n",
      "\u001b[0;32m/opt/anaconda3/envs/devEnv39/lib/python3.9/site-packages/jax/experimental/ode.py\u001b[0m in \u001b[0;36maug_dynamics\u001b[0;34m(augmented_state, t, *args)\u001b[0m\n\u001b[1;32m    229\u001b[0m     \u001b[0;31m# `t` here is negatice time, so we need to negate again to get back to\u001b[0m\u001b[0;34m\u001b[0m\u001b[0;34m\u001b[0m\u001b[0;34m\u001b[0m\u001b[0m\n\u001b[1;32m    230\u001b[0m     \u001b[0;31m# normal time. See the `odeint` invocation in `scan_fun` below.\u001b[0m\u001b[0;34m\u001b[0m\u001b[0;34m\u001b[0m\u001b[0;34m\u001b[0m\u001b[0m\n\u001b[0;32m--> 231\u001b[0;31m     \u001b[0my_dot\u001b[0m\u001b[0;34m,\u001b[0m \u001b[0mvjpfun\u001b[0m \u001b[0;34m=\u001b[0m \u001b[0mjax\u001b[0m\u001b[0;34m.\u001b[0m\u001b[0mvjp\u001b[0m\u001b[0;34m(\u001b[0m\u001b[0mfunc\u001b[0m\u001b[0;34m,\u001b[0m \u001b[0my\u001b[0m\u001b[0;34m,\u001b[0m \u001b[0;34m-\u001b[0m\u001b[0mt\u001b[0m\u001b[0;34m,\u001b[0m \u001b[0;34m*\u001b[0m\u001b[0margs\u001b[0m\u001b[0;34m)\u001b[0m\u001b[0;34m\u001b[0m\u001b[0;34m\u001b[0m\u001b[0m\n\u001b[0m\u001b[1;32m    232\u001b[0m     \u001b[0;32mreturn\u001b[0m \u001b[0;34m(\u001b[0m\u001b[0;34m-\u001b[0m\u001b[0my_dot\u001b[0m\u001b[0;34m,\u001b[0m \u001b[0;34m*\u001b[0m\u001b[0mvjpfun\u001b[0m\u001b[0;34m(\u001b[0m\u001b[0my_bar\u001b[0m\u001b[0;34m)\u001b[0m\u001b[0;34m)\u001b[0m\u001b[0;34m\u001b[0m\u001b[0;34m\u001b[0m\u001b[0m\n\u001b[1;32m    233\u001b[0m \u001b[0;34m\u001b[0m\u001b[0m\n",
      "    \u001b[0;31m[... skipping hidden 15 frame]\u001b[0m\n",
      "\u001b[0;32m/opt/anaconda3/envs/devEnv39/lib/python3.9/site-packages/jax/core.py\u001b[0m in \u001b[0;36mfull_raise\u001b[0;34m(self, val)\u001b[0m\n\u001b[1;32m    407\u001b[0m           val, f\"Can't lift level {val} to {self}\")\n\u001b[1;32m    408\u001b[0m     \u001b[0;32melse\u001b[0m\u001b[0;34m:\u001b[0m  \u001b[0;31m# val._trace.level == self.level:\u001b[0m\u001b[0;34m\u001b[0m\u001b[0;34m\u001b[0m\u001b[0m\n\u001b[0;32m--> 409\u001b[0;31m       raise escaped_tracer_error(\n\u001b[0m\u001b[1;32m    410\u001b[0m           val, f\"Different traces at same level: {val}, {self}\")\n\u001b[1;32m    411\u001b[0m \u001b[0;34m\u001b[0m\u001b[0m\n",
      "\u001b[0;31mUnexpectedTracerError\u001b[0m: Encountered an unexpected tracer. A function transformed by JAX had a side effect, allowing for a reference to an intermediate value with shape (1,) and dtype complex128 to escape.\nJAX transformations require that functions explicitly return their outputs, and disallow saving intermediate values to global state.\n------------------------------\nThe leaked intermediate value was created on line /Users/dpuzzuoli/Documents/projects/qiskit-dynamics/qiskit_dynamics/array/array.py:250 (__array_ufunc__). \n------------------------------\nWhen the value was created, the final 5 stack frames (most recent last) excluding JAX-internal frames were:\n------------------------------\n/Users/dpuzzuoli/Documents/projects/qiskit-dynamics/qiskit_dynamics/signals/signals.py:1146 (eval_func)\n/Users/dpuzzuoli/Documents/projects/qiskit-dynamics/qiskit_dynamics/signals/signals.py:1146 (<listcomp>)\n/Users/dpuzzuoli/Documents/projects/qiskit-dynamics/qiskit_dynamics/signals/signals.py:167 (__call__)\n/Users/dpuzzuoli/Documents/projects/qiskit-dynamics/qiskit_dynamics/signals/signals.py:599 (complex_value)\n/Users/dpuzzuoli/Documents/projects/qiskit-dynamics/qiskit_dynamics/array/array.py:250 (__array_ufunc__)\n------------------------------\n\nTo catch the leak earlier, try setting the environment variable JAX_CHECK_TRACER_LEAKS or using the `jax.checking_leaks` context manager.Detail: Different traces at same level: Traced<ShapedArray(complex128[1])>with<DynamicJaxprTrace(level=3/2)>, BatchTrace(level=3/2)\nSee https://jax.readthedocs.io/en/latest/errors.html#jax.errors.UnexpectedTracerError"
     ]
    }
   ],
   "source": [
    "jit(value_and_grad(lambda x: point_obj1(x, p0_vals, p1_vals)))(inputs[0])"
   ]
  },
  {
   "cell_type": "code",
   "execution_count": 23,
   "metadata": {},
   "outputs": [
    {
     "data": {
      "text/plain": [
       "DeviceArray(0.24033591, dtype=float64)"
      ]
     },
     "execution_count": 23,
     "metadata": {},
     "output_type": "execute_result"
    }
   ],
   "source": [
    "magnus_obj4(inputs[1], p0_vals, p1_vals, p2_vals, p3_vals, p4_vals)"
   ]
  },
  {
   "cell_type": "code",
   "execution_count": null,
   "metadata": {},
   "outputs": [],
   "source": [
    "from time import time\n",
    "\n",
    "point_jit_times = []\n",
    "point_ave_times = []\n",
    "point_ave_jitted_times = []\n",
    "\n",
    "point_obj_funcs = [lambda params: point_obj0(params, p0_vals),\n",
    "                   lambda params: point_obj1(params, p0_vals, p1_vals),\n",
    "                   lambda params: point_obj2(params, p0_vals, p1_vals, p2_vals),\n",
    "                   lambda params: point_obj3(params, p0_vals, p1_vals, p2_vals, p3_vals),\n",
    "                   lambda params: point_obj4(params, p0_vals, p1_vals, p2_vals, p3_vals, p4_vals),\n",
    "                   lambda params: point_obj5(params, p0_vals, p1_vals, p2_vals, p3_vals, p4_vals, p5_vals),\n",
    "                   lambda params: point_obj6(params, p0_vals, p1_vals, p2_vals, p3_vals, p4_vals, p5_vals, p6_vals)]\n",
    "\n",
    "point_obj_funcs = point_obj_funcs[:n_perturb]\n",
    "\n",
    "for idx, obj_func in enumerate(point_obj_funcs):\n",
    "    print('Working on number ' + str(idx + 1) + '/' + str(len(point_obj_funcs)))\n",
    "    jit_grad_obj = jit(value_and_grad(obj_func))\n",
    "\n",
    "    # measure time to jit/grad + one evaluation\n",
    "    start = time()\n",
    "    val = jit_grad_obj(inputs[0])[0].block_until_ready()\n",
    "    point_jit_times.append(time() - start)\n",
    "\n",
    "    # average jitted run time over multiple inputs\n",
    "    jitted_time = 0.\n",
    "    for rand_in in inputs[1:]:\n",
    "        start = time()\n",
    "        val = jit_grad_obj(rand_in)[0].block_until_ready()\n",
    "        jitted_time += time() - start\n",
    "    \n",
    "    point_ave_jitted_times.append(jitted_time / (len(inputs) - 1))\n",
    "    point_ave_times.append((point_jit_times[-1] + jitted_time) / len(inputs))"
   ]
  },
  {
   "cell_type": "code",
   "execution_count": null,
   "metadata": {},
   "outputs": [],
   "source": [
    "print(point_jit_times)\n",
    "print(point_ave_times)\n",
    "print(point_ave_jitted_times)"
   ]
  },
  {
   "cell_type": "code",
   "execution_count": 43,
   "metadata": {},
   "outputs": [],
   "source": [
    "#temp \n",
    "mag_jit_times = jnp.array([15.633368253707886, 22.518843173980713, 30.838497161865234, 46.85136389732361, 72.26748323440552, 119.76512312889099, 225.17702507972717])\n",
    "mag_ave_times = jnp.array([2.3228111982345583, 4.057305026054382, 7.1609525918960575, 12.95760772228241, 20.427796721458435, 33.598188972473146, 54.88755824565887])\n",
    "mag_ave_jitted_times = jnp.array([0.8438604142930772, 2.0060230096181235, 4.530114306343926, 9.191634813944498, 14.667831553353203, 24.024085177315605, 35.96650637520684])\n",
    "point_jit_times = jnp.array([2.0493712425231934, 2.986600875854492, 4.539067268371582, 15.955105066299438, 73.52751421928406, 353.06354689598083, 1764.7598361968994])\n",
    "point_ave_times = jnp.array([0.2928745269775391, 0.8137963771820068, 2.95493483543396, 13.817261624336243, 70.26102268695831, 349.182505607605, 1759.0153705596924])\n",
    "point_ave_jitted_times = jnp.array([0.09770822525024414, 0.5723736551072862, 2.778920120663113, 13.57972346411811, 69.89807918336656, 348.75127879778546, 1758.3770966000027])"
   ]
  },
  {
   "cell_type": "markdown",
   "metadata": {},
   "source": [
    "average jit time on a log scale"
   ]
  },
  {
   "cell_type": "code",
   "execution_count": 44,
   "metadata": {},
   "outputs": [
    {
     "data": {
      "text/plain": [
       "<matplotlib.legend.Legend at 0x124548070>"
      ]
     },
     "execution_count": 44,
     "metadata": {},
     "output_type": "execute_result"
    },
    {
     "data": {
      "image/png": "[encoded data removed]",
      "text/plain": [
       "<Figure size 432x288 with 1 Axes>"
      ]
     },
     "metadata": {
      "needs_background": "light"
     },
     "output_type": "display_data"
    }
   ],
   "source": [
    "#plt.plot(N_variations, point_jit_times, label='point')\n",
    "#plt.plot(N_variations, mag_jit_times, label='Magnus')\n",
    "plt.plot(N_variations, point_jit_times, label='point')\n",
    "plt.plot(N_variations, mag_jit_times, label='Magnus')\n",
    "plt.yscale('log')\n",
    "plt.legend()"
   ]
  },
  {
   "cell_type": "markdown",
   "metadata": {},
   "source": [
    "average time including jit"
   ]
  },
  {
   "cell_type": "code",
   "execution_count": 45,
   "metadata": {},
   "outputs": [
    {
     "data": {
      "text/plain": [
       "<matplotlib.legend.Legend at 0x1240eb460>"
      ]
     },
     "execution_count": 45,
     "metadata": {},
     "output_type": "execute_result"
    },
    {
     "data": {
      "image/png": "[encoded data removed]",
      "text/plain": [
       "<Figure size 432x288 with 1 Axes>"
      ]
     },
     "metadata": {
      "needs_background": "light"
     },
     "output_type": "display_data"
    }
   ],
   "source": [
    "plt.plot(N_variations, point_ave_times, label='point')\n",
    "plt.plot(N_variations, mag_ave_times, label='Magnus')\n",
    "plt.yscale('log')\n",
    "plt.legend()"
   ]
  },
  {
   "cell_type": "markdown",
   "metadata": {},
   "source": [
    "average time not including jit time"
   ]
  },
  {
   "cell_type": "code",
   "execution_count": 46,
   "metadata": {},
   "outputs": [
    {
     "data": {
      "text/plain": [
       "<matplotlib.legend.Legend at 0x123eaa940>"
      ]
     },
     "execution_count": 46,
     "metadata": {},
     "output_type": "execute_result"
    },
    {
     "data": {
      "image/png": "[encoded data removed]",
      "text/plain": [
       "<Figure size 432x288 with 1 Axes>"
      ]
     },
     "metadata": {
      "needs_background": "light"
     },
     "output_type": "display_data"
    }
   ],
   "source": [
    "plt.plot(N_variations, point_ave_jitted_times, label='point')\n",
    "plt.plot(N_variations, mag_ave_jitted_times, label='Magnus')\n",
    "plt.yscale('log')\n",
    "plt.legend()"
   ]
  },
  {
   "cell_type": "markdown",
   "metadata": {},
   "source": []
  },
  {
   "cell_type": "markdown",
   "metadata": {},
   "source": [
    "# Running optimization with Magnus-based objective functions"
   ]
  },
  {
   "cell_type": "code",
   "execution_count": 12,
   "metadata": {},
   "outputs": [],
   "source": [
    "from random import randint\n",
    "from scipy.optimize import minimize\n",
    "from time import time\n",
    "from jax import random, config\n",
    "\n",
    "def vec_value_and_grad(f, ctrl_shape):\n",
    "    \"\"\" Given a function f returns a version of value_and_grad(f) that takes 1d arrays\n",
    "    and returns 1d array gradients (for scipy minimize)\n",
    "    \"\"\"\n",
    "\n",
    "    f_value_and_grad = value_and_grad(f)\n",
    "\n",
    "    def vecf(x):\n",
    "        val, grad = f_value_and_grad(x.reshape(ctrl_shape))\n",
    "        return val, grad.real.flatten()\n",
    "\n",
    "    return vecf\n",
    "\n",
    "def updating_function(f, update_rate):\n",
    "    \"\"\"Print updates at each function call\n",
    "    \"\"\"\n",
    "\n",
    "    # set up the call counter\n",
    "    calls = 0\n",
    "    time_taken = 0.\n",
    "\n",
    "    # define the new function\n",
    "    def upd_f(x):\n",
    "        # give the function access to the call counter, and increment it\n",
    "        # every call\n",
    "        nonlocal calls\n",
    "        nonlocal time_taken\n",
    "        calls = calls + 1\n",
    "\n",
    "        start = time()\n",
    "        #compute f\n",
    "        output = f(x)\n",
    "        end = time()\n",
    "\n",
    "        time_taken += end - start\n",
    "\n",
    "        # if its time to give an update, report the update depending on the\n",
    "        # format of the output of f\n",
    "        if calls % update_rate == 0:\n",
    "            val = None\n",
    "            if type(output) == tuple:\n",
    "                val = output[0]\n",
    "            else:\n",
    "                val = output\n",
    "\n",
    "            print('Evaluation {}: obj = {}, time = {}'.format(str(calls), str(val), str(time_taken)))\n",
    "            time_taken = 0.\n",
    "        return output\n",
    "\n",
    "    return upd_f\n",
    "\n",
    "def find_pulse_bfgs(obj, ctrl_shape, initial_guess=None, update_rate=None,tol=0.):\n",
    "    \"\"\" Runs bfgs algorithm from scipy minimize for a given objective, ctrl_shape\n",
    "    and initial guess\n",
    "    \"\"\"\n",
    "\n",
    "    mod_obj = jit(vec_value_and_grad(obj, ctrl_shape))\n",
    "\n",
    "    if update_rate is not None:\n",
    "        mod_obj = updating_function(mod_obj, update_rate)\n",
    "\n",
    "    if initial_guess == None:\n",
    "        key = randint(-10**5,10**5)\n",
    "        initial_guess = random.uniform(random.PRNGKey(key), shape=ctrl_shape, minval=-1, maxval=1)\n",
    "\n",
    "    # set the start time\n",
    "    start = time()\n",
    "\n",
    "    print('Optimizing pulse...')\n",
    "    # run the optimization\n",
    "    if tol != 0:\n",
    "        result = minimize(mod_obj, initial_guess.flatten(), method='BFGS', jac=True, options={'disp': True},tol=tol)\n",
    "    else:\n",
    "        result = minimize(mod_obj, initial_guess.flatten(), method='BFGS', jac=True, options={'disp': True})\n",
    "    # reshape the point the optimizer ends on to be the correct shape\n",
    "    result.x = result.x.reshape(ctrl_shape)\n",
    "\n",
    "    # record the end time and report the total time taken\n",
    "    end = time()\n",
    "    print('Total time taken: ' + str(end-start))\n",
    "\n",
    "    return result"
   ]
  },
  {
   "cell_type": "code",
   "execution_count": 13,
   "metadata": {},
   "outputs": [],
   "source": [
    "mag_obj_funcs = [lambda params: magnus_obj0(params, p0_vals),\n",
    "                 lambda params: magnus_obj1(params, p0_vals, p1_vals),\n",
    "                 lambda params: magnus_obj2(params, p0_vals, p1_vals, p2_vals),\n",
    "                 lambda params: magnus_obj3(params, p0_vals, p1_vals, p2_vals, p3_vals),\n",
    "                 lambda params: magnus_obj4(params, p0_vals, p1_vals, p2_vals, p3_vals, p4_vals),\n",
    "                 lambda params: magnus_obj5(params, p0_vals, p1_vals, p2_vals, p3_vals, p4_vals, p5_vals),\n",
    "                 lambda params: magnus_obj6(params, p0_vals, p1_vals, p2_vals, p3_vals, p4_vals, p5_vals, p6_vals)]\n",
    "\n",
    "exact_obj_funcs = [lambda params: point_obj0(params, p0_vals),\n",
    "                   lambda params: point_obj1(params, p0_vals, p1_vals)]\n",
    "\n",
    "ctrl_shape = (2, leg_order+1)"
   ]
  },
  {
   "cell_type": "code",
   "execution_count": 20,
   "metadata": {},
   "outputs": [
    {
     "name": "stdout",
     "output_type": "stream",
     "text": [
      "[[ 0.5121181  -0.05975102 -0.90055784  0.69679124  0.16320247]\n",
      " [ 0.47334127  0.96164478  0.35713535  0.35439576  0.28126117]]\n"
     ]
    }
   ],
   "source": [
    "# prepare an initial guess\n",
    "guess = random.uniform(random.PRNGKey(11),shape=ctrl_shape, minval=-1, maxval=1)\n",
    "print(guess)"
   ]
  },
  {
   "cell_type": "code",
   "execution_count": 21,
   "metadata": {},
   "outputs": [
    {
     "name": "stdout",
     "output_type": "stream",
     "text": [
      "Optimizing pulse...\n",
      "Evaluation 10: obj = 0.1326007665589276, time = 17.565286874771118\n",
      "Evaluation 20: obj = 0.04196224822900996, time = 0.0006175041198730469\n",
      "Optimization terminated successfully.\n",
      "         Current function value: 0.030974\n",
      "         Iterations: 27\n",
      "         Function evaluations: 28\n",
      "         Gradient evaluations: 28\n",
      "Total time taken: 43.823610067367554\n"
     ]
    }
   ],
   "source": [
    "#1 variation\n",
    "obj = mag_obj_funcs[0]\n",
    "result0 =  find_pulse_bfgs(obj, ctrl_shape, initial_guess=guess, update_rate=10,tol=0.01)"
   ]
  },
  {
   "cell_type": "code",
   "execution_count": 22,
   "metadata": {},
   "outputs": [
    {
     "name": "stdout",
     "output_type": "stream",
     "text": [
      "Optimizing pulse...\n",
      "Evaluation 10: obj = 0.09482322264779247, time = 9.119730234146118\n",
      "Optimization terminated successfully.\n",
      "         Current function value: 0.035811\n",
      "         Iterations: 16\n",
      "         Function evaluations: 17\n",
      "         Gradient evaluations: 17\n",
      "Total time taken: 45.22459316253662\n"
     ]
    }
   ],
   "source": [
    "#1 variation, run the optimization using the exact-error based objective function\n",
    "result0_ex =  find_pulse_bfgs(exact_obj_funcs[0], ctrl_shape, initial_guess=guess, update_rate=10,tol=0.01)"
   ]
  },
  {
   "cell_type": "code",
   "execution_count": 43,
   "metadata": {},
   "outputs": [
    {
     "name": "stdout",
     "output_type": "stream",
     "text": [
      "[[  7.51304128   7.43698254 -48.29599594  -0.48006661  -0.44491655]\n",
      " [  2.08135822   1.0698587    1.05090028   3.0237258   -0.15345103]]\n",
      "[[  2.00662374   1.19774419 -13.5611861   -0.25615391   0.05156082]\n",
      " [  1.91962051   0.6109728    1.24330775   0.85064485  -0.6350828 ]]\n"
     ]
    },
    {
     "name": "stderr",
     "output_type": "stream",
     "text": [
      "/Users/fuhuilin/anaconda3/envs/qiskit_new/lib/python3.8/site-packages/numpy/core/_asarray.py:83: ComplexWarning: Casting complex values to real discards the imaginary part\n",
      "  return array(a, dtype, copy=False, order=order)\n",
      "/Users/fuhuilin/anaconda3/envs/qiskit_new/lib/python3.8/site-packages/numpy/core/_asarray.py:83: ComplexWarning: Casting complex values to real discards the imaginary part\n",
      "  return array(a, dtype, copy=False, order=order)\n"
     ]
    },
    {
     "data": {
      "text/plain": [
       "<matplotlib.legend.Legend at 0x12a9e3b80>"
      ]
     },
     "execution_count": 43,
     "metadata": {},
     "output_type": "execute_result"
    },
    {
     "data": {
      "image/png": "[encoded data removed]",
      "text/plain": [
       "<Figure size 432x288 with 1 Axes>"
      ]
     },
     "metadata": {
      "needs_background": "light"
     },
     "output_type": "display_data"
    }
   ],
   "source": [
    "# Compare the pulses found by the 2 optimizations above\n",
    "r0_0 = param_to_signal(result0.x)\n",
    "r0_1 = param_to_signal(result0_ex.x)\n",
    "plt.plot(r0_0[:,0],label='approx')\n",
    "plt.plot(r0_1[:,0],label='exact')\n",
    "plt.legend()"
   ]
  },
  {
   "cell_type": "code",
   "execution_count": 44,
   "metadata": {},
   "outputs": [
    {
     "name": "stderr",
     "output_type": "stream",
     "text": [
      "/Users/fuhuilin/anaconda3/envs/qiskit_new/lib/python3.8/site-packages/numpy/core/_asarray.py:83: ComplexWarning: Casting complex values to real discards the imaginary part\n",
      "  return array(a, dtype, copy=False, order=order)\n",
      "/Users/fuhuilin/anaconda3/envs/qiskit_new/lib/python3.8/site-packages/numpy/core/_asarray.py:83: ComplexWarning: Casting complex values to real discards the imaginary part\n",
      "  return array(a, dtype, copy=False, order=order)\n"
     ]
    },
    {
     "data": {
      "text/plain": [
       "<matplotlib.legend.Legend at 0x12b091220>"
      ]
     },
     "execution_count": 44,
     "metadata": {},
     "output_type": "execute_result"
    },
    {
     "data": {
      "image/png": "[encoded data removed]",
      "text/plain": [
       "<Figure size 432x288 with 1 Axes>"
      ]
     },
     "metadata": {
      "needs_background": "light"
     },
     "output_type": "display_data"
    }
   ],
   "source": [
    "plt.plot(r0_0[:,1],label='approx')\n",
    "plt.plot(r0_1[:,1],label='exact')\n",
    "plt.legend()"
   ]
  },
  {
   "cell_type": "code",
   "execution_count": 30,
   "metadata": {},
   "outputs": [],
   "source": [
    "# Evaluate the robustness of the pulse obtained with the approximate objective function\n",
    "\n",
    "exact_err0 = point_obj0(result0.x, p0_vals, out = 1)\n",
    "\n",
    "plt.plot(p0_vals, exact_err0)\n",
    "plt.xlabel('Perturbation Magnitude')# unit?\n",
    "plt.ylabel('Exact error')\n",
    "plt.title(\"1 perturbation\")"
   ]
  },
  {
   "cell_type": "code",
   "execution_count": 24,
   "metadata": {},
   "outputs": [
    {
     "name": "stdout",
     "output_type": "stream",
     "text": [
      "Optimizing pulse...\n",
      "Evaluation 10: obj = 0.13758728755130334, time = 25.540122509002686\n",
      "Evaluation 20: obj = 0.050582327655627424, time = 0.0006427764892578125\n",
      "Optimization terminated successfully.\n",
      "         Current function value: 0.041693\n",
      "         Iterations: 26\n",
      "         Function evaluations: 27\n",
      "         Gradient evaluations: 27\n",
      "Total time taken: 84.19830799102783\n"
     ]
    }
   ],
   "source": [
    "#2 variations\n",
    "obj = mag_obj_funcs[1]\n",
    "result1 = find_pulse_bfgs(obj, ctrl_shape, update_rate=10,tol=0.01)\n",
    "#result1 = find_pulse_bfgs(obj, ctrl_shape,initial_guess=guess, update_rate=10,tol=0.01)"
   ]
  },
  {
   "cell_type": "code",
   "execution_count": 24,
   "metadata": {},
   "outputs": [],
   "source": [
    "# Evaluate and visualize the robustness of the pulse\n",
    "\n",
    "exact_err1 = point_obj1(result1.x, p0_vals, p1_vals, out = 1)\n",
    "\n",
    "import matplotlib as mpl\n",
    "\n",
    "cell0 = cell_centered(p0_vals)\n",
    "cell1 = cell_centered(p1_vals)\n",
    "cmap = mpl.cm.Greys\n",
    "norm = mpl.colors.Normalize(vmin=0., vmax=max(exact_err1))\n",
    "exact_err1_reshape = exact_err1.reshape((5,5))\n",
    "plt.pcolormesh(cell0, cell1, exact_err1_reshape, norm=norm, cmap=cmap)\n",
    "plt.colorbar(mpl.cm.ScalarMappable(norm=norm, cmap=cmap),orientation='horizontal',label=\"Exact error\")\n",
    "plt.title(\"2 perturbations\")"
   ]
  },
  {
   "cell_type": "code",
   "execution_count": 26,
   "metadata": {},
   "outputs": [
    {
     "name": "stdout",
     "output_type": "stream",
     "text": [
      "Optimizing pulse...\n",
      "Evaluation 10: obj = 0.7336889509786674, time = 36.056445360183716\n",
      "Evaluation 20: obj = 0.08467806089848526, time = 0.0020248889923095703\n",
      "Evaluation 30: obj = 0.04607600225006023, time = 0.0017571449279785156\n",
      "Optimization terminated successfully.\n",
      "         Current function value: 0.046076\n",
      "         Iterations: 20\n",
      "         Function evaluations: 30\n",
      "         Gradient evaluations: 30\n",
      "Total time taken: 180.40686702728271\n"
     ]
    }
   ],
   "source": [
    "#3 variations\n",
    "obj = mag_obj_funcs[2]\n",
    "result2 = find_pulse_bfgs(obj, ctrl_shape, update_rate=10,tol=0.01)"
   ]
  },
  {
   "cell_type": "code",
   "execution_count": 30,
   "metadata": {},
   "outputs": [
    {
     "name": "stdout",
     "output_type": "stream",
     "text": [
      "Center: 0.014025969810546823\n",
      "Average error at points with max distance 1 from center: 0.025704336221938302\n",
      "Average error at points with max distance 2 from center: 0.08568735832103302\n"
     ]
    }
   ],
   "source": [
    "exact_err2 = point_obj2(result2.x, p0_vals, p1_vals, p2_vals, out = 1)\n",
    "exact_err2_reshape = exact_err2.reshape((5,5,5))\n",
    "print(\"Center:\",exact_err2_reshape[2,2,2])\n",
    "avg_err1 = 0.\n",
    "count1 = 0\n",
    "avg_err2 = 0.\n",
    "count2 = 0\n",
    "for i in range(5):\n",
    "    for j in range(5):\n",
    "        for k in range(5):\n",
    "            max_d = max(abs(i-2),abs(j-2),abs(k-2))\n",
    "            if max_d == 1:\n",
    "                avg_err1 += exact_err2_reshape[i,j,k]\n",
    "                count1 += 1\n",
    "            elif max_d == 2:\n",
    "                avg_err2 += exact_err2_reshape[i,j,k]\n",
    "                count2 += 1\n",
    "avg_err1 /= count1\n",
    "avg_err2 /= count2\n",
    "print(\"Average error at points with max coordinate-wise distance 1 from center:\",avg_err1)\n",
    "print(\"Average error at points with max coordinate-wise distance 2 from center:\",avg_err2)"
   ]
  },
  {
   "cell_type": "code",
   "execution_count": 31,
   "metadata": {},
   "outputs": [
    {
     "name": "stdout",
     "output_type": "stream",
     "text": [
      "Optimizing pulse...\n",
      "Evaluation 10: obj = 0.5904414363082325, time = 53.28021574020386\n",
      "Evaluation 20: obj = 0.5426898889397176, time = 0.0036253929138183594\n",
      "Evaluation 30: obj = 0.5200836720511435, time = 0.003826618194580078\n",
      "Optimization terminated successfully.\n",
      "         Current function value: 0.503049\n",
      "         Iterations: 29\n",
      "         Function evaluations: 34\n",
      "         Gradient evaluations: 34\n",
      "Total time taken: 344.7638430595398\n"
     ]
    }
   ],
   "source": [
    "#4 variations\n",
    "obj = mag_obj_funcs[3]\n",
    "result3 =  find_pulse_bfgs(obj, ctrl_shape, update_rate=10,tol=0.01)"
   ]
  },
  {
   "cell_type": "code",
   "execution_count": 32,
   "metadata": {},
   "outputs": [
    {
     "name": "stdout",
     "output_type": "stream",
     "text": [
      "Center: 0.12087878353892323\n",
      "Average error at points with max distance 1 from center: 0.6247607958860442\n",
      "Average error at points with max distance 2 from center: 0.6239117863184627\n"
     ]
    }
   ],
   "source": [
    "exact_err3 = point_obj3(result3.x, p0_vals, p1_vals, p2_vals, p3_vals, out = 1)\n",
    "exact_err3_reshape = exact_err3.reshape((5,5,5,5))\n",
    "print(\"Center:\",exact_err3_reshape[2,2,2,2])\n",
    "avg_err1 = 0.\n",
    "count1 = 0\n",
    "avg_err2 = 0.\n",
    "count2 = 0\n",
    "for i1 in range(5):\n",
    "    for i2 in range(5):\n",
    "        for i3 in range(5):\n",
    "            for i4 in range(5):\n",
    "                max_d = max(abs(i1-2),abs(i2-2),abs(i3-2),abs(i4-2))\n",
    "                if max_d == 1:\n",
    "                    avg_err1 += exact_err3_reshape[i1,i2,i3,i4]\n",
    "                    count1 += 1\n",
    "                elif max_d == 2:\n",
    "                    avg_err2 += exact_err3_reshape[i1,i2,i3,i4]\n",
    "                    count2 += 1\n",
    "avg_err1 /= count1\n",
    "avg_err2 /= count2\n",
    "print(\"Average error at points with max distance 1 from center:\",avg_err1)\n",
    "print(\"Average error at points with max distance 2 from center:\",avg_err2)"
   ]
  },
  {
   "cell_type": "code",
   "execution_count": 33,
   "metadata": {},
   "outputs": [
    {
     "name": "stdout",
     "output_type": "stream",
     "text": [
      "Optimizing pulse...\n",
      "Evaluation 10: obj = 0.6659980633583727, time = 86.38551378250122\n"
     ]
    },
    {
     "ename": "KeyboardInterrupt",
     "evalue": "",
     "output_type": "error",
     "traceback": [
      "\u001b[0;31m---------------------------------------------------------------------------\u001b[0m",
      "\u001b[0;31mKeyboardInterrupt\u001b[0m                         Traceback (most recent call last)",
      "\u001b[0;32m<ipython-input-33-bcfc44bd478e>\u001b[0m in \u001b[0;36m<module>\u001b[0;34m\u001b[0m\n\u001b[1;32m      1\u001b[0m \u001b[0;31m#5 variations\u001b[0m\u001b[0;34m\u001b[0m\u001b[0;34m\u001b[0m\u001b[0;34m\u001b[0m\u001b[0m\n\u001b[1;32m      2\u001b[0m \u001b[0mobj\u001b[0m \u001b[0;34m=\u001b[0m \u001b[0mmag_obj_funcs\u001b[0m\u001b[0;34m[\u001b[0m\u001b[0;36m4\u001b[0m\u001b[0;34m]\u001b[0m\u001b[0;34m\u001b[0m\u001b[0;34m\u001b[0m\u001b[0m\n\u001b[0;32m----> 3\u001b[0;31m \u001b[0mresult4\u001b[0m \u001b[0;34m=\u001b[0m  \u001b[0mfind_pulse_bfgs\u001b[0m\u001b[0;34m(\u001b[0m\u001b[0mobj\u001b[0m\u001b[0;34m,\u001b[0m \u001b[0mctrl_shape\u001b[0m\u001b[0;34m,\u001b[0m \u001b[0mupdate_rate\u001b[0m\u001b[0;34m=\u001b[0m\u001b[0;36m10\u001b[0m\u001b[0;34m,\u001b[0m\u001b[0mtol\u001b[0m\u001b[0;34m=\u001b[0m\u001b[0;36m0.01\u001b[0m\u001b[0;34m)\u001b[0m\u001b[0;34m\u001b[0m\u001b[0;34m\u001b[0m\u001b[0m\n\u001b[0m",
      "\u001b[0;32m<ipython-input-19-ce1de75d8b59>\u001b[0m in \u001b[0;36mfind_pulse_bfgs\u001b[0;34m(obj, ctrl_shape, initial_guess, update_rate, tol)\u001b[0m\n\u001b[1;32m     75\u001b[0m     \u001b[0;31m# run the optimization\u001b[0m\u001b[0;34m\u001b[0m\u001b[0;34m\u001b[0m\u001b[0;34m\u001b[0m\u001b[0m\n\u001b[1;32m     76\u001b[0m     \u001b[0;32mif\u001b[0m \u001b[0mtol\u001b[0m \u001b[0;34m!=\u001b[0m \u001b[0;36m0\u001b[0m\u001b[0;34m:\u001b[0m\u001b[0;34m\u001b[0m\u001b[0;34m\u001b[0m\u001b[0m\n\u001b[0;32m---> 77\u001b[0;31m         \u001b[0mresult\u001b[0m \u001b[0;34m=\u001b[0m \u001b[0mminimize\u001b[0m\u001b[0;34m(\u001b[0m\u001b[0mmod_obj\u001b[0m\u001b[0;34m,\u001b[0m \u001b[0minitial_guess\u001b[0m\u001b[0;34m.\u001b[0m\u001b[0mflatten\u001b[0m\u001b[0;34m(\u001b[0m\u001b[0;34m)\u001b[0m\u001b[0;34m,\u001b[0m \u001b[0mmethod\u001b[0m\u001b[0;34m=\u001b[0m\u001b[0;34m'BFGS'\u001b[0m\u001b[0;34m,\u001b[0m \u001b[0mjac\u001b[0m\u001b[0;34m=\u001b[0m\u001b[0;32mTrue\u001b[0m\u001b[0;34m,\u001b[0m \u001b[0moptions\u001b[0m\u001b[0;34m=\u001b[0m\u001b[0;34m{\u001b[0m\u001b[0;34m'disp'\u001b[0m\u001b[0;34m:\u001b[0m \u001b[0;32mTrue\u001b[0m\u001b[0;34m}\u001b[0m\u001b[0;34m,\u001b[0m\u001b[0mtol\u001b[0m\u001b[0;34m=\u001b[0m\u001b[0mtol\u001b[0m\u001b[0;34m)\u001b[0m\u001b[0;34m\u001b[0m\u001b[0;34m\u001b[0m\u001b[0m\n\u001b[0m\u001b[1;32m     78\u001b[0m     \u001b[0;32melse\u001b[0m\u001b[0;34m:\u001b[0m\u001b[0;34m\u001b[0m\u001b[0;34m\u001b[0m\u001b[0m\n\u001b[1;32m     79\u001b[0m         \u001b[0mresult\u001b[0m \u001b[0;34m=\u001b[0m \u001b[0mminimize\u001b[0m\u001b[0;34m(\u001b[0m\u001b[0mmod_obj\u001b[0m\u001b[0;34m,\u001b[0m \u001b[0minitial_guess\u001b[0m\u001b[0;34m.\u001b[0m\u001b[0mflatten\u001b[0m\u001b[0;34m(\u001b[0m\u001b[0;34m)\u001b[0m\u001b[0;34m,\u001b[0m \u001b[0mmethod\u001b[0m\u001b[0;34m=\u001b[0m\u001b[0;34m'BFGS'\u001b[0m\u001b[0;34m,\u001b[0m \u001b[0mjac\u001b[0m\u001b[0;34m=\u001b[0m\u001b[0;32mTrue\u001b[0m\u001b[0;34m,\u001b[0m \u001b[0moptions\u001b[0m\u001b[0;34m=\u001b[0m\u001b[0;34m{\u001b[0m\u001b[0;34m'disp'\u001b[0m\u001b[0;34m:\u001b[0m \u001b[0;32mTrue\u001b[0m\u001b[0;34m}\u001b[0m\u001b[0;34m)\u001b[0m\u001b[0;34m\u001b[0m\u001b[0;34m\u001b[0m\u001b[0m\n",
      "\u001b[0;32m~/anaconda3/envs/qiskit_new/lib/python3.8/site-packages/scipy/optimize/_minimize.py\u001b[0m in \u001b[0;36mminimize\u001b[0;34m(fun, x0, args, method, jac, hess, hessp, bounds, constraints, tol, callback, options)\u001b[0m\n\u001b[1;32m    602\u001b[0m         \u001b[0;32mreturn\u001b[0m \u001b[0m_minimize_cg\u001b[0m\u001b[0;34m(\u001b[0m\u001b[0mfun\u001b[0m\u001b[0;34m,\u001b[0m \u001b[0mx0\u001b[0m\u001b[0;34m,\u001b[0m \u001b[0margs\u001b[0m\u001b[0;34m,\u001b[0m \u001b[0mjac\u001b[0m\u001b[0;34m,\u001b[0m \u001b[0mcallback\u001b[0m\u001b[0;34m,\u001b[0m \u001b[0;34m**\u001b[0m\u001b[0moptions\u001b[0m\u001b[0;34m)\u001b[0m\u001b[0;34m\u001b[0m\u001b[0;34m\u001b[0m\u001b[0m\n\u001b[1;32m    603\u001b[0m     \u001b[0;32melif\u001b[0m \u001b[0mmeth\u001b[0m \u001b[0;34m==\u001b[0m \u001b[0;34m'bfgs'\u001b[0m\u001b[0;34m:\u001b[0m\u001b[0;34m\u001b[0m\u001b[0;34m\u001b[0m\u001b[0m\n\u001b[0;32m--> 604\u001b[0;31m         \u001b[0;32mreturn\u001b[0m \u001b[0m_minimize_bfgs\u001b[0m\u001b[0;34m(\u001b[0m\u001b[0mfun\u001b[0m\u001b[0;34m,\u001b[0m \u001b[0mx0\u001b[0m\u001b[0;34m,\u001b[0m \u001b[0margs\u001b[0m\u001b[0;34m,\u001b[0m \u001b[0mjac\u001b[0m\u001b[0;34m,\u001b[0m \u001b[0mcallback\u001b[0m\u001b[0;34m,\u001b[0m \u001b[0;34m**\u001b[0m\u001b[0moptions\u001b[0m\u001b[0;34m)\u001b[0m\u001b[0;34m\u001b[0m\u001b[0;34m\u001b[0m\u001b[0m\n\u001b[0m\u001b[1;32m    605\u001b[0m     \u001b[0;32melif\u001b[0m \u001b[0mmeth\u001b[0m \u001b[0;34m==\u001b[0m \u001b[0;34m'newton-cg'\u001b[0m\u001b[0;34m:\u001b[0m\u001b[0;34m\u001b[0m\u001b[0;34m\u001b[0m\u001b[0m\n\u001b[1;32m    606\u001b[0m         return _minimize_newtoncg(fun, x0, args, jac, hess, hessp, callback,\n",
      "\u001b[0;32m~/anaconda3/envs/qiskit_new/lib/python3.8/site-packages/scipy/optimize/optimize.py\u001b[0m in \u001b[0;36m_minimize_bfgs\u001b[0;34m(fun, x0, args, jac, callback, gtol, norm, eps, maxiter, disp, return_all, **unknown_options)\u001b[0m\n\u001b[1;32m   1025\u001b[0m         \u001b[0;32mtry\u001b[0m\u001b[0;34m:\u001b[0m\u001b[0;34m\u001b[0m\u001b[0;34m\u001b[0m\u001b[0m\n\u001b[1;32m   1026\u001b[0m             \u001b[0malpha_k\u001b[0m\u001b[0;34m,\u001b[0m \u001b[0mfc\u001b[0m\u001b[0;34m,\u001b[0m \u001b[0mgc\u001b[0m\u001b[0;34m,\u001b[0m \u001b[0mold_fval\u001b[0m\u001b[0;34m,\u001b[0m \u001b[0mold_old_fval\u001b[0m\u001b[0;34m,\u001b[0m \u001b[0mgfkp1\u001b[0m \u001b[0;34m=\u001b[0m\u001b[0;31m \u001b[0m\u001b[0;31m\\\u001b[0m\u001b[0;34m\u001b[0m\u001b[0;34m\u001b[0m\u001b[0m\n\u001b[0;32m-> 1027\u001b[0;31m                      _line_search_wolfe12(f, myfprime, xk, pk, gfk,\n\u001b[0m\u001b[1;32m   1028\u001b[0m                                           old_fval, old_old_fval, amin=1e-100, amax=1e100)\n\u001b[1;32m   1029\u001b[0m         \u001b[0;32mexcept\u001b[0m \u001b[0m_LineSearchError\u001b[0m\u001b[0;34m:\u001b[0m\u001b[0;34m\u001b[0m\u001b[0;34m\u001b[0m\u001b[0m\n",
      "\u001b[0;32m~/anaconda3/envs/qiskit_new/lib/python3.8/site-packages/scipy/optimize/optimize.py\u001b[0m in \u001b[0;36m_line_search_wolfe12\u001b[0;34m(f, fprime, xk, pk, gfk, old_fval, old_old_fval, **kwargs)\u001b[0m\n\u001b[1;32m    841\u001b[0m     \u001b[0mextra_condition\u001b[0m \u001b[0;34m=\u001b[0m \u001b[0mkwargs\u001b[0m\u001b[0;34m.\u001b[0m\u001b[0mpop\u001b[0m\u001b[0;34m(\u001b[0m\u001b[0;34m'extra_condition'\u001b[0m\u001b[0;34m,\u001b[0m \u001b[0;32mNone\u001b[0m\u001b[0;34m)\u001b[0m\u001b[0;34m\u001b[0m\u001b[0;34m\u001b[0m\u001b[0m\n\u001b[1;32m    842\u001b[0m \u001b[0;34m\u001b[0m\u001b[0m\n\u001b[0;32m--> 843\u001b[0;31m     ret = line_search_wolfe1(f, fprime, xk, pk, gfk,\n\u001b[0m\u001b[1;32m    844\u001b[0m                              \u001b[0mold_fval\u001b[0m\u001b[0;34m,\u001b[0m \u001b[0mold_old_fval\u001b[0m\u001b[0;34m,\u001b[0m\u001b[0;34m\u001b[0m\u001b[0;34m\u001b[0m\u001b[0m\n\u001b[1;32m    845\u001b[0m                              **kwargs)\n",
      "\u001b[0;32m~/anaconda3/envs/qiskit_new/lib/python3.8/site-packages/scipy/optimize/linesearch.py\u001b[0m in \u001b[0;36mline_search_wolfe1\u001b[0;34m(f, fprime, xk, pk, gfk, old_fval, old_old_fval, args, c1, c2, amax, amin, xtol)\u001b[0m\n\u001b[1;32m     97\u001b[0m     \u001b[0mderphi0\u001b[0m \u001b[0;34m=\u001b[0m \u001b[0mnp\u001b[0m\u001b[0;34m.\u001b[0m\u001b[0mdot\u001b[0m\u001b[0;34m(\u001b[0m\u001b[0mgfk\u001b[0m\u001b[0;34m,\u001b[0m \u001b[0mpk\u001b[0m\u001b[0;34m)\u001b[0m\u001b[0;34m\u001b[0m\u001b[0;34m\u001b[0m\u001b[0m\n\u001b[1;32m     98\u001b[0m \u001b[0;34m\u001b[0m\u001b[0m\n\u001b[0;32m---> 99\u001b[0;31m     stp, fval, old_fval = scalar_search_wolfe1(\n\u001b[0m\u001b[1;32m    100\u001b[0m             \u001b[0mphi\u001b[0m\u001b[0;34m,\u001b[0m \u001b[0mderphi\u001b[0m\u001b[0;34m,\u001b[0m \u001b[0mold_fval\u001b[0m\u001b[0;34m,\u001b[0m \u001b[0mold_old_fval\u001b[0m\u001b[0;34m,\u001b[0m \u001b[0mderphi0\u001b[0m\u001b[0;34m,\u001b[0m\u001b[0;34m\u001b[0m\u001b[0;34m\u001b[0m\u001b[0m\n\u001b[1;32m    101\u001b[0m             c1=c1, c2=c2, amax=amax, amin=amin, xtol=xtol)\n",
      "\u001b[0;32m~/anaconda3/envs/qiskit_new/lib/python3.8/site-packages/scipy/optimize/linesearch.py\u001b[0m in \u001b[0;36mscalar_search_wolfe1\u001b[0;34m(phi, derphi, phi0, old_phi0, derphi0, c1, c2, amax, amin, xtol)\u001b[0m\n\u001b[1;32m    173\u001b[0m         \u001b[0;32mif\u001b[0m \u001b[0mtask\u001b[0m\u001b[0;34m[\u001b[0m\u001b[0;34m:\u001b[0m\u001b[0;36m2\u001b[0m\u001b[0;34m]\u001b[0m \u001b[0;34m==\u001b[0m \u001b[0;34mb'FG'\u001b[0m\u001b[0;34m:\u001b[0m\u001b[0;34m\u001b[0m\u001b[0;34m\u001b[0m\u001b[0m\n\u001b[1;32m    174\u001b[0m             \u001b[0malpha1\u001b[0m \u001b[0;34m=\u001b[0m \u001b[0mstp\u001b[0m\u001b[0;34m\u001b[0m\u001b[0;34m\u001b[0m\u001b[0m\n\u001b[0;32m--> 175\u001b[0;31m             \u001b[0mphi1\u001b[0m \u001b[0;34m=\u001b[0m \u001b[0mphi\u001b[0m\u001b[0;34m(\u001b[0m\u001b[0mstp\u001b[0m\u001b[0;34m)\u001b[0m\u001b[0;34m\u001b[0m\u001b[0;34m\u001b[0m\u001b[0m\n\u001b[0m\u001b[1;32m    176\u001b[0m             \u001b[0mderphi1\u001b[0m \u001b[0;34m=\u001b[0m \u001b[0mderphi\u001b[0m\u001b[0;34m(\u001b[0m\u001b[0mstp\u001b[0m\u001b[0;34m)\u001b[0m\u001b[0;34m\u001b[0m\u001b[0;34m\u001b[0m\u001b[0m\n\u001b[1;32m    177\u001b[0m         \u001b[0;32melse\u001b[0m\u001b[0;34m:\u001b[0m\u001b[0;34m\u001b[0m\u001b[0;34m\u001b[0m\u001b[0m\n",
      "\u001b[0;32m~/anaconda3/envs/qiskit_new/lib/python3.8/site-packages/scipy/optimize/linesearch.py\u001b[0m in \u001b[0;36mphi\u001b[0;34m(s)\u001b[0m\n\u001b[1;32m     85\u001b[0m     \u001b[0;32mdef\u001b[0m \u001b[0mphi\u001b[0m\u001b[0;34m(\u001b[0m\u001b[0ms\u001b[0m\u001b[0;34m)\u001b[0m\u001b[0;34m:\u001b[0m\u001b[0;34m\u001b[0m\u001b[0;34m\u001b[0m\u001b[0m\n\u001b[1;32m     86\u001b[0m         \u001b[0mfc\u001b[0m\u001b[0;34m[\u001b[0m\u001b[0;36m0\u001b[0m\u001b[0;34m]\u001b[0m \u001b[0;34m+=\u001b[0m \u001b[0;36m1\u001b[0m\u001b[0;34m\u001b[0m\u001b[0;34m\u001b[0m\u001b[0m\n\u001b[0;32m---> 87\u001b[0;31m         \u001b[0;32mreturn\u001b[0m \u001b[0mf\u001b[0m\u001b[0;34m(\u001b[0m\u001b[0mxk\u001b[0m \u001b[0;34m+\u001b[0m \u001b[0ms\u001b[0m\u001b[0;34m*\u001b[0m\u001b[0mpk\u001b[0m\u001b[0;34m,\u001b[0m \u001b[0;34m*\u001b[0m\u001b[0margs\u001b[0m\u001b[0;34m)\u001b[0m\u001b[0;34m\u001b[0m\u001b[0;34m\u001b[0m\u001b[0m\n\u001b[0m\u001b[1;32m     88\u001b[0m \u001b[0;34m\u001b[0m\u001b[0m\n\u001b[1;32m     89\u001b[0m     \u001b[0;32mdef\u001b[0m \u001b[0mderphi\u001b[0m\u001b[0;34m(\u001b[0m\u001b[0ms\u001b[0m\u001b[0;34m)\u001b[0m\u001b[0;34m:\u001b[0m\u001b[0;34m\u001b[0m\u001b[0;34m\u001b[0m\u001b[0m\n",
      "\u001b[0;32m~/anaconda3/envs/qiskit_new/lib/python3.8/site-packages/scipy/optimize/optimize.py\u001b[0m in \u001b[0;36mfunction_wrapper\u001b[0;34m(*wrapper_args)\u001b[0m\n\u001b[1;32m    325\u001b[0m     \u001b[0;32mdef\u001b[0m \u001b[0mfunction_wrapper\u001b[0m\u001b[0;34m(\u001b[0m\u001b[0;34m*\u001b[0m\u001b[0mwrapper_args\u001b[0m\u001b[0;34m)\u001b[0m\u001b[0;34m:\u001b[0m\u001b[0;34m\u001b[0m\u001b[0;34m\u001b[0m\u001b[0m\n\u001b[1;32m    326\u001b[0m         \u001b[0mncalls\u001b[0m\u001b[0;34m[\u001b[0m\u001b[0;36m0\u001b[0m\u001b[0;34m]\u001b[0m \u001b[0;34m+=\u001b[0m \u001b[0;36m1\u001b[0m\u001b[0;34m\u001b[0m\u001b[0;34m\u001b[0m\u001b[0m\n\u001b[0;32m--> 327\u001b[0;31m         \u001b[0;32mreturn\u001b[0m \u001b[0mfunction\u001b[0m\u001b[0;34m(\u001b[0m\u001b[0;34m*\u001b[0m\u001b[0;34m(\u001b[0m\u001b[0mwrapper_args\u001b[0m \u001b[0;34m+\u001b[0m \u001b[0margs\u001b[0m\u001b[0;34m)\u001b[0m\u001b[0;34m)\u001b[0m\u001b[0;34m\u001b[0m\u001b[0;34m\u001b[0m\u001b[0m\n\u001b[0m\u001b[1;32m    328\u001b[0m \u001b[0;34m\u001b[0m\u001b[0m\n\u001b[1;32m    329\u001b[0m     \u001b[0;32mreturn\u001b[0m \u001b[0mncalls\u001b[0m\u001b[0;34m,\u001b[0m \u001b[0mfunction_wrapper\u001b[0m\u001b[0;34m\u001b[0m\u001b[0;34m\u001b[0m\u001b[0m\n",
      "\u001b[0;32m~/anaconda3/envs/qiskit_new/lib/python3.8/site-packages/scipy/optimize/optimize.py\u001b[0m in \u001b[0;36m__call__\u001b[0;34m(self, x, *args)\u001b[0m\n\u001b[1;32m     63\u001b[0m     \u001b[0;32mdef\u001b[0m \u001b[0m__call__\u001b[0m\u001b[0;34m(\u001b[0m\u001b[0mself\u001b[0m\u001b[0;34m,\u001b[0m \u001b[0mx\u001b[0m\u001b[0;34m,\u001b[0m \u001b[0;34m*\u001b[0m\u001b[0margs\u001b[0m\u001b[0;34m)\u001b[0m\u001b[0;34m:\u001b[0m\u001b[0;34m\u001b[0m\u001b[0;34m\u001b[0m\u001b[0m\n\u001b[1;32m     64\u001b[0m         \u001b[0mself\u001b[0m\u001b[0;34m.\u001b[0m\u001b[0mx\u001b[0m \u001b[0;34m=\u001b[0m \u001b[0mnumpy\u001b[0m\u001b[0;34m.\u001b[0m\u001b[0masarray\u001b[0m\u001b[0;34m(\u001b[0m\u001b[0mx\u001b[0m\u001b[0;34m)\u001b[0m\u001b[0;34m.\u001b[0m\u001b[0mcopy\u001b[0m\u001b[0;34m(\u001b[0m\u001b[0;34m)\u001b[0m\u001b[0;34m\u001b[0m\u001b[0;34m\u001b[0m\u001b[0m\n\u001b[0;32m---> 65\u001b[0;31m         \u001b[0mfg\u001b[0m \u001b[0;34m=\u001b[0m \u001b[0mself\u001b[0m\u001b[0;34m.\u001b[0m\u001b[0mfun\u001b[0m\u001b[0;34m(\u001b[0m\u001b[0mx\u001b[0m\u001b[0;34m,\u001b[0m \u001b[0;34m*\u001b[0m\u001b[0margs\u001b[0m\u001b[0;34m)\u001b[0m\u001b[0;34m\u001b[0m\u001b[0;34m\u001b[0m\u001b[0m\n\u001b[0m\u001b[1;32m     66\u001b[0m         \u001b[0mself\u001b[0m\u001b[0;34m.\u001b[0m\u001b[0mjac\u001b[0m \u001b[0;34m=\u001b[0m \u001b[0mfg\u001b[0m\u001b[0;34m[\u001b[0m\u001b[0;36m1\u001b[0m\u001b[0;34m]\u001b[0m\u001b[0;34m\u001b[0m\u001b[0;34m\u001b[0m\u001b[0m\n\u001b[1;32m     67\u001b[0m         \u001b[0;32mreturn\u001b[0m \u001b[0mfg\u001b[0m\u001b[0;34m[\u001b[0m\u001b[0;36m0\u001b[0m\u001b[0;34m]\u001b[0m\u001b[0;34m\u001b[0m\u001b[0;34m\u001b[0m\u001b[0m\n",
      "\u001b[0;32m<ipython-input-19-ce1de75d8b59>\u001b[0m in \u001b[0;36mupd_f\u001b[0;34m(x)\u001b[0m\n\u001b[1;32m     49\u001b[0m                 \u001b[0mval\u001b[0m \u001b[0;34m=\u001b[0m \u001b[0moutput\u001b[0m\u001b[0;34m\u001b[0m\u001b[0;34m\u001b[0m\u001b[0m\n\u001b[1;32m     50\u001b[0m \u001b[0;34m\u001b[0m\u001b[0m\n\u001b[0;32m---> 51\u001b[0;31m             \u001b[0mprint\u001b[0m\u001b[0;34m(\u001b[0m\u001b[0;34m'Evaluation {}: obj = {}, time = {}'\u001b[0m\u001b[0;34m.\u001b[0m\u001b[0mformat\u001b[0m\u001b[0;34m(\u001b[0m\u001b[0mstr\u001b[0m\u001b[0;34m(\u001b[0m\u001b[0mcalls\u001b[0m\u001b[0;34m)\u001b[0m\u001b[0;34m,\u001b[0m \u001b[0mstr\u001b[0m\u001b[0;34m(\u001b[0m\u001b[0mval\u001b[0m\u001b[0;34m)\u001b[0m\u001b[0;34m,\u001b[0m \u001b[0mstr\u001b[0m\u001b[0;34m(\u001b[0m\u001b[0mtime_taken\u001b[0m\u001b[0;34m)\u001b[0m\u001b[0;34m)\u001b[0m\u001b[0;34m)\u001b[0m\u001b[0;34m\u001b[0m\u001b[0;34m\u001b[0m\u001b[0m\n\u001b[0m\u001b[1;32m     52\u001b[0m             \u001b[0mtime_taken\u001b[0m \u001b[0;34m=\u001b[0m \u001b[0;36m0.\u001b[0m\u001b[0;34m\u001b[0m\u001b[0;34m\u001b[0m\u001b[0m\n\u001b[1;32m     53\u001b[0m         \u001b[0;32mreturn\u001b[0m \u001b[0moutput\u001b[0m\u001b[0;34m\u001b[0m\u001b[0;34m\u001b[0m\u001b[0m\n",
      "\u001b[0;32m~/anaconda3/envs/qiskit_new/lib/python3.8/site-packages/jax/interpreters/xla.py\u001b[0m in \u001b[0;36m_forward_method\u001b[0;34m(attrname, self, fun, *args)\u001b[0m\n\u001b[1;32m   1039\u001b[0m \u001b[0;34m\u001b[0m\u001b[0m\n\u001b[1;32m   1040\u001b[0m \u001b[0;32mdef\u001b[0m \u001b[0m_forward_method\u001b[0m\u001b[0;34m(\u001b[0m\u001b[0mattrname\u001b[0m\u001b[0;34m,\u001b[0m \u001b[0mself\u001b[0m\u001b[0;34m,\u001b[0m \u001b[0mfun\u001b[0m\u001b[0;34m,\u001b[0m \u001b[0;34m*\u001b[0m\u001b[0margs\u001b[0m\u001b[0;34m)\u001b[0m\u001b[0;34m:\u001b[0m\u001b[0;34m\u001b[0m\u001b[0;34m\u001b[0m\u001b[0m\n\u001b[0;32m-> 1041\u001b[0;31m   \u001b[0;32mreturn\u001b[0m \u001b[0mfun\u001b[0m\u001b[0;34m(\u001b[0m\u001b[0mgetattr\u001b[0m\u001b[0;34m(\u001b[0m\u001b[0mself\u001b[0m\u001b[0;34m,\u001b[0m \u001b[0mattrname\u001b[0m\u001b[0;34m)\u001b[0m\u001b[0;34m,\u001b[0m \u001b[0;34m*\u001b[0m\u001b[0margs\u001b[0m\u001b[0;34m)\u001b[0m\u001b[0;34m\u001b[0m\u001b[0;34m\u001b[0m\u001b[0m\n\u001b[0m\u001b[1;32m   1042\u001b[0m \u001b[0m_forward_to_value\u001b[0m \u001b[0;34m=\u001b[0m \u001b[0mpartial\u001b[0m\u001b[0;34m(\u001b[0m\u001b[0m_forward_method\u001b[0m\u001b[0;34m,\u001b[0m \u001b[0;34m\"_value\"\u001b[0m\u001b[0;34m)\u001b[0m\u001b[0;34m\u001b[0m\u001b[0;34m\u001b[0m\u001b[0m\n\u001b[1;32m   1043\u001b[0m \u001b[0;34m\u001b[0m\u001b[0m\n",
      "\u001b[0;31mKeyboardInterrupt\u001b[0m: "
     ]
    }
   ],
   "source": [
    "#5 variations\n",
    "obj = mag_obj_funcs[4]\n",
    "result4 =  find_pulse_bfgs(obj, ctrl_shape, update_rate=10,tol=0.01)"
   ]
  },
  {
   "cell_type": "code",
   "execution_count": null,
   "metadata": {},
   "outputs": [],
   "source": [
    "exact_err4 = point_obj4(result4.x, p0_vals, p1_vals, p2_vals, p3_vals, p4_vals, out = 1)\n",
    "exact_err4_reshape = exact_err4.reshape((5,5,5,5,5))\n",
    "print(\"Center:\",exact_err4_reshape[2,2,2,2,2])\n",
    "avg_err1 = 0.\n",
    "count1 = 0\n",
    "avg_err2 = 0.\n",
    "count2 = 0\n",
    "for i1 in range(5):\n",
    "    for i2 in range(5):\n",
    "        for i3 in range(5):\n",
    "            for i4 in range(5):\n",
    "                for i5 in range(5):\n",
    "                    max_d = max(abs(i1-2),abs(i2-2),abs(i3-2),abs(i4-2),abs(i5-2))\n",
    "                    if max_d == 1:\n",
    "                        avg_err1 += exact_err3_reshape[i1,i2,i3,i4,i5]\n",
    "                        count1 += 1\n",
    "                    elif max_d == 2:\n",
    "                        avg_err2 += exact_err3_reshape[i1,i2,i3,i4,i5]\n",
    "                        count2 += 1\n",
    "avg_err1 /= count1\n",
    "avg_err2 /= count2\n",
    "print(\"Average error at points with max distance 1 from center:\",avg_err1)\n",
    "print(\"Average error at points with max distance 2 from center:\",avg_err2)"
   ]
  },
  {
   "cell_type": "code",
   "execution_count": 67,
   "metadata": {},
   "outputs": [
    {
     "name": "stdout",
     "output_type": "stream",
     "text": [
      "Optimizing pulse...\n",
      "Evaluation 10: obj = 0.46181984609653737, time = 146.2245044708252\n",
      "Evaluation 20: obj = 0.4549279713564349, time = 0.0011475086212158203\n",
      "Optimization terminated successfully.\n",
      "         Current function value: 0.453407\n",
      "         Iterations: 17\n",
      "         Function evaluations: 24\n",
      "         Gradient evaluations: 24\n",
      "Total time taken: 793.5342440605164\n"
     ]
    }
   ],
   "source": [
    "#6 variations\n",
    "obj = mag_obj_funcs[5]\n",
    "result5 =  find_pulse_bfgs(obj, ctrl_shape, update_rate=10,tol=0.01)"
   ]
  },
  {
   "cell_type": "code",
   "execution_count": null,
   "metadata": {},
   "outputs": [],
   "source": [
    "exact_err5 = point_obj5(result5.x, p0_vals, p1_vals, p2_vals, p3_vals, p4_vals, p5_vals, out = 1)\n",
    "exact_err5_reshape = exact_err5.reshape((5,5,5,5,5,5))\n",
    "print(\"Center:\",exact_err5_reshape[2,2,2,2,2,2])\n",
    "avg_err1 = 0.\n",
    "count1 = 0\n",
    "avg_err2 = 0.\n",
    "count2 = 0\n",
    "for i1 in range(5):\n",
    "    for i2 in range(5):\n",
    "        for i3 in range(5):\n",
    "            for i4 in range(5):\n",
    "                for i5 in range(5):\n",
    "                    for i6 in range(5):\n",
    "                        max_d = max(abs(i1-2),abs(i2-2),abs(i3-2),abs(i4-2),abs(i5-2),abs(i6-2))\n",
    "                        if max_d == 1:\n",
    "                            avg_err1 += exact_err3_reshape[i1,i2,i3,i4,i5,i6]\n",
    "                            count1 += 1\n",
    "                        elif max_d == 2:\n",
    "                            avg_err2 += exact_err3_reshape[i1,i2,i3,i4,i5,i6]\n",
    "                            count2 += 1\n",
    "avg_err1 /= count1\n",
    "avg_err2 /= count2\n",
    "print(\"Average error at points with max distance 1 from center:\",avg_err1)\n",
    "print(\"Average error at points with max distance 2 from center:\",avg_err2)"
   ]
  },
  {
   "cell_type": "code",
   "execution_count": 68,
   "metadata": {},
   "outputs": [
    {
     "name": "stdout",
     "output_type": "stream",
     "text": [
      "Optimizing pulse...\n",
      "Evaluation 10: obj = 0.45296321123456895, time = 271.8437638282776\n",
      "Optimization terminated successfully.\n",
      "         Current function value: 0.452646\n",
      "         Iterations: 8\n",
      "         Function evaluations: 11\n",
      "         Gradient evaluations: 11\n",
      "Total time taken: 790.102374792099\n"
     ]
    }
   ],
   "source": [
    "#7 variations  \n",
    "obj = mag_obj_funcs[6]\n",
    "result6 =  find_pulse_bfgs(obj, ctrl_shape, update_rate=10,tol=0.01)"
   ]
  },
  {
   "cell_type": "code",
   "execution_count": null,
   "metadata": {},
   "outputs": [],
   "source": [
    "exact_err6 = point_obj6(result6.x, p0_vals, p1_vals, p2_vals, p3_vals, p4_vals, p5_vals, out = 1)\n",
    "exact_err6_reshape = exact_err6.reshape((5,5,5,5,5,5,5))\n",
    "print(\"Center:\",exact_err6_reshape[2,2,2,2,2,2,2])\n",
    "avg_err1 = 0.\n",
    "count1 = 0\n",
    "avg_err2 = 0.\n",
    "count2 = 0\n",
    "for i1 in range(5):\n",
    "    for i2 in range(5):\n",
    "        for i3 in range(5):\n",
    "            for i4 in range(5):\n",
    "                for i5 in range(5):\n",
    "                    for i6 in range(5):\n",
    "                        for i7 in range(5):\n",
    "                            max_d = max(abs(i1-2),abs(i2-2),abs(i3-2),abs(i4-2),abs(i5-2),abs(i6-2),abs(i7-2))\n",
    "                            if max_d == 1:\n",
    "                                avg_err1 += exact_err3_reshape[i1,i2,i3,i4,i5,i6,i7]\n",
    "                                count1 += 1\n",
    "                            elif max_d == 2:\n",
    "                                avg_err2 += exact_err3_reshape[i1,i2,i3,i4,i5,i6,i7]\n",
    "                                count2 += 1\n",
    "avg_err1 /= count1\n",
    "avg_err2 /= count2\n",
    "print(\"Average error at points with max distance 1 from center:\",avg_err1)\n",
    "print(\"Average error at points with max distance 2 from center:\",avg_err2)"
   ]
  }
 ],
 "metadata": {
  "kernelspec": {
   "display_name": "Python 3",
   "language": "python",
   "name": "python3"
  },
  "language_info": {
   "codemirror_mode": {
    "name": "ipython",
    "version": 3
   },
   "file_extension": ".py",
   "mimetype": "text/x-python",
   "name": "python",
   "nbconvert_exporter": "python",
   "pygments_lexer": "ipython3",
   "version": "3.9.4"
  }
 },
 "nbformat": 4,
 "nbformat_minor": 4
}
