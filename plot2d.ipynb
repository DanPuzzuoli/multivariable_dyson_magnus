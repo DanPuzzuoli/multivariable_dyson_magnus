{
 "cells": [
  {
   "cell_type": "markdown",
   "metadata": {},
   "source": [
    "Use the model in magnus_objective"
   ]
  },
  {
   "cell_type": "code",
   "execution_count": 1,
   "metadata": {},
   "outputs": [],
   "source": [
    "import numpy as np\n",
    "import jax.numpy as jnp\n",
    "\n",
    "from qiskit_dynamics.array import Array\n",
    "\n",
    "# configure jax to use 64 bit mode\n",
    "import jax\n",
    "jax.config.update(\"jax_enable_x64\", True)\n",
    "\n",
    "# tell JAX we are using CPU\n",
    "jax.config.update('jax_platform_name', 'cpu')\n",
    "\n",
    "\n",
    "# set default backend\n",
    "Array.set_default_backend('jax')"
   ]
  },
  {
   "cell_type": "code",
   "execution_count": 2,
   "metadata": {},
   "outputs": [],
   "source": [
    "dim = 5 # truncation dimension\n",
    "\n",
    "# truncated annihilation, creation, and number operators\n",
    "a = jnp.diag(np.sqrt(np.arange(1, dim, dtype=complex)), -1)\n",
    "adag = a.conj().transpose()\n",
    "numb = jnp.diag(np.arange(dim, dtype=complex))\n",
    "ident = np.eye(dim, dtype=complex)\n",
    "\n",
    "# truncated oscillator X and Y\n",
    "osc_X = a + adag\n",
    "osc_Y = 1j*(a-adag)\n",
    "\n",
    "# projection onto levels above the first two\n",
    "ones = np.ones(dim, dtype=complex)\n",
    "ones[0:2] = np.array([0., 0.])\n",
    "P = np.diag(ones)\n",
    "\n",
    "# model parameters - work in units of GHz/ns\n",
    "v = 5.0\n",
    "anharm = -0.33\n",
    "r = 0.02"
   ]
  },
  {
   "cell_type": "code",
   "execution_count": 3,
   "metadata": {},
   "outputs": [],
   "source": [
    "from qiskit_dynamics import DiscreteSignal\n",
    "from discrete_signals import get_param_to_signal\n",
    "\n",
    "# choose the size of the cheb basis\n",
    "cheb_order = 8\n",
    "\n",
    "# choose # steps of the signal\n",
    "N = 50\n",
    "\n",
    "# Construct the parameterization given the parameters\n",
    "param_to_signal = get_param_to_signal(cheb_order, N)\n",
    "sample_dt = 0.125\n",
    "\n",
    "# total time of pulse\n",
    "T = sample_dt * len(param_to_signal(np.random.rand(2, cheb_order + 1)))"
   ]
  },
  {
   "cell_type": "code",
   "execution_count": 4,
   "metadata": {},
   "outputs": [],
   "source": [
    "X = Array([[0., 1.], [1., 0.]])\n",
    "\n",
    "def fidelity(V):\n",
    "    V = Array(V)\n",
    "    return np.abs((X * V[0:2, 0:2]).sum())**2 / 4"
   ]
  },
  {
   "cell_type": "code",
   "execution_count": 5,
   "metadata": {},
   "outputs": [],
   "source": [
    "from qiskit_dynamics import Solver, DiscreteSignal, RotatingFrame\n",
    "from qiskit_dynamics.perturbation import solve_lmde_perturbation, ArrayPolynomial\n",
    "from qiskit_dynamics.array import Array\n",
    "from jax import jit\n",
    "\n",
    "from functools import partial\n",
    "from jax import jit\n",
    "from jax.scipy.linalg import expm as jexpm\n",
    "\n",
    "static_hamiltonian = 2 * np.pi * v * numb + np.pi * anharm * numb * (numb - ident)\n",
    "drive_hamiltonian = 2 * np.pi * r * osc_X\n",
    "\n",
    "perturb1 = 2 * np.pi * v * numb\n",
    "perturb2 = np.pi * anharm * numb * (numb - ident)\n",
    "perturb3 = 2 * np.pi * r * osc_X\n",
    "perturb4 = 2 * np.pi * r * osc_X\n",
    "perturb5 = (np.pi / 3) * anharm * numb * (numb - ident) * (numb - 2 * ident)\n",
    "perturb6 = 2 * np.pi * r * (P @ osc_X @ P)\n",
    "\n",
    "hamiltonian_operators = [\n",
    "    drive_hamiltonian,\n",
    "    perturb1,\n",
    "    perturb2,\n",
    "    perturb3,\n",
    "    perturb4,\n",
    "    perturb5,\n",
    "    perturb6\n",
    "]\n",
    "\n",
    "solver = Solver(\n",
    "    static_hamiltonian=static_hamiltonian,\n",
    "    hamiltonian_operators=hamiltonian_operators,\n",
    "    rotating_frame=np.diag(static_hamiltonian)\n",
    ")\n",
    "\n",
    "\n",
    "def ode_infidelity(control_params, model_params):\n",
    "    # construct s(b, t)\n",
    "    samples = param_to_signal(control_params)\n",
    "    control_signal = DiscreteSignal(samples=samples, dt=sample_dt, carrier_freq=v)\n",
    "    \n",
    "    # extract model parameters and set up solver coefficients\n",
    "    c1, c2, c3, c4, c5, c6 = model_params\n",
    "\n",
    "    signals = [\n",
    "        control_signal,\n",
    "        Array(c1),\n",
    "        Array(c2),\n",
    "        control_signal * Array(c3),\n",
    "        (control_signal * control_signal) * Array(c4),\n",
    "        Array(c5),\n",
    "        control_signal * Array(c6)\n",
    "    ]\n",
    "    \n",
    "    solver_copy = solver.copy()\n",
    "    solver_copy.signals = signals\n",
    "    \n",
    "    results = solver_copy.solve(\n",
    "        t_span=[0,T], \n",
    "        y0=np.eye(dim), \n",
    "        #atol=1e-10, \n",
    "        atol=1e-12,\n",
    "        #rtol=1e-10,\n",
    "        rtol=1e-12,\n",
    "        method='jax_odeint'\n",
    "    )\n",
    "    \n",
    "    # return infidelity\n",
    "    return 1. - fidelity(results.y[-1]).data\n",
    "\n",
    "\n",
    "rotating_frame = solver.model.rotating_frame"
   ]
  },
  {
   "cell_type": "code",
   "execution_count": null,
   "metadata": {},
   "outputs": [],
   "source": []
  },
  {
   "cell_type": "code",
   "execution_count": 44,
   "metadata": {},
   "outputs": [],
   "source": [
    "def compute_2d_perturbation_comparison(\n",
    "    control_params, \n",
    "    model_params_dirs,\n",
    "    perturbations,\n",
    "    perturb_vals,\n",
    "    max_magnus_order=5\n",
    "):\n",
    "    \"\"\"\n",
    "    Args:\n",
    "        control_params for params to signal\n",
    "        model_params_dir for 1d direction in model parameter space\n",
    "        perturbation is the function computing the perturbation in the lab frame\n",
    "        perturb_vals is the list of values to plot over\n",
    "        max_magnus_order is the maximum magnus order to compute up to\n",
    "    \"\"\"\n",
    "    (model_params_dir1, model_params_dir2) = model_params_dirs\n",
    "    (perturbation1,perturbation2) = perturbations\n",
    "    (perturb_vals1, perturb_vals2) = perturb_vals\n",
    "    # jit function for computing ode fidelity\n",
    "    #ode_func = jit(lambda x: ode_infidelity(control_params, x * model_params_dir))\n",
    "    ode_func = jit(lambda x,y: ode_infidelity(control_params, x * model_params_dir1 + y * model_params_dir2))\n",
    "    \n",
    "    # compute perturbation terms\n",
    "    samples = param_to_signal(control_params)\n",
    "    control_signal = DiscreteSignal(samples=samples, dt=sample_dt, carrier_freq=v)\n",
    "    \n",
    "    def generator(t):\n",
    "        op = control_signal(t) * (-1j * drive_hamiltonian)\n",
    "        return rotating_frame.operator_into_frame(t, op)\n",
    "    \n",
    "    def perturb_in_frame1(t):\n",
    "        op = perturbation1(t)\n",
    "        return rotating_frame.operator_into_frame(t, op)\n",
    "    \n",
    "    def perturb_in_frame2(t):\n",
    "        op = perturbation2(t)\n",
    "        return rotating_frame.operator_into_frame(t, op)\n",
    "    \n",
    "    # change tolerance here\n",
    "    results = solve_lmde_perturbation(\n",
    "        perturbations=[perturb_in_frame1, perturb_in_frame2],\n",
    "        t_span=[0, T],\n",
    "        expansion_method='magnus',\n",
    "        expansion_order=max_magnus_order,\n",
    "        generator=generator,\n",
    "        integration_method='jax_odeint',\n",
    "        #rtol=1e-10,\n",
    "        rtol=1e-13,\n",
    "        #atol=1e-10\n",
    "        atol=1e-13\n",
    "    )\n",
    "    term_labels = results.perturbation_results.expansion_labels\n",
    "    perturbation_terms = results.perturbation_results.expansion_terms\n",
    "    \n",
    "    # construct magnus expansions for each order from results\n",
    "    magnus_expansions = []\n",
    "    for order in range(1, max_magnus_order + 1):\n",
    "        n_terms = list(map(lambda x: len(x) <= order, term_labels)).count(True)\n",
    "        magnus_expansion = ArrayPolynomial(\n",
    "            array_coefficients=perturbation_terms[:n_terms, -1],\n",
    "            monomial_labels=term_labels[:n_terms]\n",
    "        )\n",
    "        magnus_expansions.append(magnus_expansion)\n",
    "    \n",
    "    U = results.y[-1]\n",
    "\n",
    "    # get the approximate error rates using the Magnus terms\n",
    "    @partial(jit, static_argnums=(2,))\n",
    "    def err_est(c1, c2, order):\n",
    "\n",
    "        coeffs = jnp.array([c1, c2])\n",
    "\n",
    "        U_approx = U @ jexpm(magnus_expansions[order - 1](coeffs).data)\n",
    "\n",
    "        return 1. - fidelity(U_approx).data\n",
    "    \n",
    "    ode_vals = []\n",
    "    magnus_vals = [[] for _ in range(max_magnus_order)]\n",
    "    for val1 in perturb_vals1:\n",
    "        for val2 in perturb_vals2:\n",
    "            ode_vals.append(ode_func(val1,val2))\n",
    "        \n",
    "            for order, magnus_val in enumerate(magnus_vals):\n",
    "                magnus_val.append(err_est(val1, val2, order + 1))\n",
    "    \n",
    "    return ode_vals, magnus_vals"
   ]
  },
  {
   "cell_type": "code",
   "execution_count": 45,
   "metadata": {},
   "outputs": [],
   "source": [
    "rand_control_params = 10. * np.random.rand(2, cheb_order + 1)"
   ]
  },
  {
   "cell_type": "code",
   "execution_count": 46,
   "metadata": {},
   "outputs": [],
   "source": [
    "perturb1_vals = jnp.linspace(-0.002, 0.002, 21) \n",
    "perturb2_vals = jnp.linspace(-0.04, 0.04, 21) # not interesting\n",
    "perturb3_vals = jnp.linspace(-0.20, 0.20, 21)\n",
    "perturb4_vals = jnp.linspace(-2., 2., 21) # not interesting\n",
    "perturb5_vals = jnp.linspace(-0.5, 0.5, 21) # not interesting\n",
    "perturb6_vals = jnp.linspace(-2.0, 2.0, 21)\n",
    "\n",
    "# change this to use 2 different perturbations\n",
    "perturb2d_results = compute_2d_perturbation_comparison(\n",
    "    rand_control_params,\n",
    "    (jnp.array([1., 0., 0., 0., 0., 0.]),jnp.array([0., 0., 1., 0., 0., 0.])),\n",
    "    (lambda t: -1j * perturb1, lambda t: -1j * perturb3), \n",
    "    perturb_vals= (perturb1_vals, perturb3_vals),\n",
    "    max_magnus_order=5\n",
    ")"
   ]
  },
  {
   "cell_type": "code",
   "execution_count": 47,
   "metadata": {},
   "outputs": [],
   "source": [
    "# helper function for 2D meshplots\n",
    "def cell_centered(arr_in):\n",
    "    arr_out = np.empty(len(arr_in)+1)\n",
    "    dist = arr_in[1] - arr_in[0]\n",
    "    for i in range(len(arr_in)):\n",
    "        arr_out[i] = arr_in[i] - dist/2\n",
    "    arr_out[-1] = arr_in[-1] + dist/2\n",
    "    return arr_out"
   ]
  },
  {
   "cell_type": "code",
   "execution_count": 48,
   "metadata": {},
   "outputs": [],
   "source": [
    "import matplotlib.pyplot as plt\n",
    "from mpl_toolkits.axes_grid1 import make_axes_locatable\n",
    "import matplotlib.colors as colors\n",
    "\n",
    "#plot the differences between estimates and exact error\n",
    "\n",
    "diff1 = jnp.array(perturb2d_results[1][0]) - jnp.array(perturb2d_results[0])\n",
    "diff2 = jnp.array(perturb2d_results[1][1]) - jnp.array(perturb2d_results[0])\n",
    "diff3 = jnp.array(perturb2d_results[1][2]) - jnp.array(perturb2d_results[0])\n",
    "diff4 = jnp.array(perturb2d_results[1][3]) - jnp.array(perturb2d_results[0])\n",
    "diff5 = jnp.array(perturb2d_results[1][4]) - jnp.array(perturb2d_results[0])\n",
    "\n",
    "x_cell = cell_centered(perturb3_vals)\n",
    "y_cell = cell_centered(perturb1_vals)"
   ]
  },
  {
   "cell_type": "code",
   "execution_count": 49,
   "metadata": {},
   "outputs": [
    {
     "data": {
      "text/plain": [
       "-0.4024442999682665"
      ]
     },
     "execution_count": 49,
     "metadata": {},
     "output_type": "execute_result"
    }
   ],
   "source": [
    "min(min(diff1), min(diff2), min(diff3), min(diff4), min(diff5))"
   ]
  },
  {
   "cell_type": "code",
   "execution_count": 50,
   "metadata": {},
   "outputs": [
    {
     "data": {
      "text/plain": [
       "0.1859743597866882"
      ]
     },
     "execution_count": 50,
     "metadata": {},
     "output_type": "execute_result"
    }
   ],
   "source": [
    "max(max(diff1), max(diff2), max(diff3), max(diff4), max(diff5))"
   ]
  },
  {
   "cell_type": "code",
   "execution_count": 54,
   "metadata": {},
   "outputs": [
    {
     "data": {
      "image/png": "[encoded data removed]",
      "text/plain": [
       "<Figure size 360x1332 with 10 Axes>"
      ]
     },
     "metadata": {
      "needs_background": "light"
     },
     "output_type": "display_data"
    }
   ],
   "source": [
    "cb_min = -0.41 # colorbar min and max\n",
    "cb_max = 0.41\n",
    "fig, (ax1, ax2, ax3, ax4, ax5) = plt.subplots(nrows=5)\n",
    "im1 = ax1.pcolormesh(x_cell, y_cell, diff1.reshape(len(perturb1_vals),len(perturb3_vals)),\n",
    "                     vmin=cb_min, vmax=cb_max,\n",
    "                     #norm=colors.SymLogNorm(linthresh=0.03, linscale=0.03,vmin=-1.0, vmax=1.0),\n",
    "                     cmap='RdBu_r')\n",
    "im2 = ax2.pcolormesh(x_cell, y_cell, diff2.reshape(len(perturb1_vals),len(perturb3_vals)),\n",
    "                     vmin=cb_min, vmax=cb_max,\n",
    "                     #norm=colors.SymLogNorm(linthresh=0.03, linscale=0.03,vmin=-1.0, vmax=1.0),\n",
    "                     cmap='RdBu_r')\n",
    "im3 = ax3.pcolormesh(x_cell, y_cell, diff3.reshape(len(perturb1_vals),len(perturb3_vals)),\n",
    "                     vmin=cb_min, vmax=cb_max,\n",
    "                     #norm=colors.SymLogNorm(linthresh=0.03, linscale=0.03,vmin=-1.0, vmax=1.0),\n",
    "                     cmap='RdBu_r')\n",
    "im4 = ax4.pcolormesh(x_cell, y_cell, diff4.reshape(len(perturb1_vals),len(perturb3_vals)),\n",
    "                     vmin=cb_min, vmax=cb_max,\n",
    "                     #norm=colors.SymLogNorm(linthresh=0.03, linscale=0.03,vmin=-1.0, vmax=1.0),\n",
    "                     cmap='RdBu_r')\n",
    "im5 = ax5.pcolormesh(x_cell, y_cell, diff5.reshape(len(perturb1_vals),len(perturb3_vals)),\n",
    "                     vmin=cb_min, vmax=cb_max,\n",
    "                     #norm=colors.SymLogNorm(linthresh=0.03, linscale=0.03,vmin=-1.0, vmax=1.0),\n",
    "                     cmap='RdBu_r')\n",
    "#ax0.title.set_text('Exact error')\n",
    "ax1.title.set_text('1st order approximation - Exact error')\n",
    "ax2.title.set_text('2nd order approximation - Exact error')\n",
    "ax3.title.set_text('3rd order approximation - Exact error')\n",
    "ax4.title.set_text('4th order approximation - Exact error')\n",
    "ax5.title.set_text('5th order approximation - Exact error')\n",
    "#fig.colorbar(im0, ax=ax0)\n",
    "fig.colorbar(im1, ax=ax1)\n",
    "fig.colorbar(im2, ax=ax2)\n",
    "fig.colorbar(im3, ax=ax3)\n",
    "fig.colorbar(im4, ax=ax4)\n",
    "fig.colorbar(im5, ax=ax5)\n",
    "plt.subplots_adjust(left=None, bottom=None, right=None, top=None, wspace=None, hspace=0.5)\n",
    "fig.set_size_inches(5, 18.5) #change these numbers to adjust the plots\n",
    "plt.show()"
   ]
  },
  {
   "cell_type": "code",
   "execution_count": null,
   "metadata": {},
   "outputs": [],
   "source": []
  },
  {
   "cell_type": "code",
   "execution_count": null,
   "metadata": {},
   "outputs": [],
   "source": []
  }
 ],
 "metadata": {
  "kernelspec": {
   "display_name": "Python 3",
   "language": "python",
   "name": "python3"
  },
  "language_info": {
   "codemirror_mode": {
    "name": "ipython",
    "version": 3
   },
   "file_extension": ".py",
   "mimetype": "text/x-python",
   "name": "python",
   "nbconvert_exporter": "python",
   "pygments_lexer": "ipython3",
   "version": "3.8.2"
  }
 },
 "nbformat": 4,
 "nbformat_minor": 4
}
