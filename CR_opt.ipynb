{
 "cells": [
  {
   "cell_type": "markdown",
   "id": "a9f09f62",
   "metadata": {},
   "source": [
    "General notes:\n",
    "- This is highlighting a further point that the perturbation stuff is really about full unitary/super op simulation. The benefits of this approach are most stark in that regime - for single state simulation it seems to not provide enough of a speed up (i.e. for unitary simulation we can observe more than 10x speed up (with right parameters I've seen more than 25x), but for single input state simulation it's more like 2-3x, which I don't personally think is enough to justify its use given the compilation cost)\n",
    "\n",
    "\n",
    "3 is control, 5 is target\n",
    "\n",
    "steps:\n",
    "- compute the dressed frequencies\n",
    "\n",
    "pulses:\n",
    "- CR is gaussian square on control at \"freq of target\"\n",
    "- Rotary echo is on target with \"freq of target\"\n",
    "- Bipolar guassian square/antisymmetric thing is on target with \"freq of target\""
   ]
  },
  {
   "cell_type": "markdown",
   "id": "d8723ae3",
   "metadata": {},
   "source": [
    "# gaussian square:\n",
    "\n",
    "```\n",
    "if params[\"type\"]==\"GaussianSquare\":\n",
    "    T=self.params[\"twidth\"]; sigma=self.params[\"sigma\"];risefall=self.params['risefall']\n",
    "    C=np.exp(-(2*risefall*sigma)**2/(8*sigma**2));\n",
    "    den=(np.sqrt(np.pi*2*sigma**2)*sp.special.erf(2*risefall*sigma/(np.sqrt(8)*sigma))-2*risefall*sigma*C)\n",
    "    \n",
    "    if t<risefall*sigma:\n",
    "        temp=self.params[\"amp\"]*(np.exp(-(t-sigma*risefall)**2/(2*sigma**2))-C)/den\n",
    "        return temp\n",
    "    elif T-t<risefall*sigma: \n",
    "        return self.params[\"amp\"]*(np.exp(-(T-t-sigma*risefall)**2/(2*sigma**2))-C)/den\n",
    "    else: \n",
    "        return self.params[\"amp\"]*(1-C)/den\n",
    "\n",
    "self.params[\"type\"]==\"BipolarGaussianSquare\":\n",
    "T=self.params[\"twidth\"];sigma=self.params[\"sigma\"];risefall=self.params['risefall']\n",
    "C=np.exp(-(2*risefall*sigma)**2/(8*sigma**2));\n",
    "den=(np.sqrt(np.pi*2*sigma**2)*sp.special.erf(2*risefall*sigma/(np.sqrt(8)*sigma))-2*risefall*sigma*C)\n",
    "if t<risefall*sigma:\n",
    "    temp=self.params[\"amp\"]*(np.exp(-(t-sigma*risefall)**2/(2*sigma**2))-C)/den\n",
    "    return temp\n",
    "elif t<T/2-risefall*sigma: \n",
    "    return self.params[\"amp\"]*(1-C)/den\n",
    "elif t<T/2: \n",
    "    return self.params[\"amp\"]*(np.exp(-(T/2-t-sigma*risefall)**2/(2*sigma**2))-C)/den\n",
    "elif t<T/2+risefall*sigma: \n",
    "    return -1*self.params[\"amp\"]*(np.exp(-((t-T/2)-sigma*risefall)**2/(2*sigma**2))-C)/den\n",
    "elif t<T-risefall*sigma: \n",
    "    return -1*self.params[\"amp\"]*(1-C)/den\n",
    "elif T-t<risefall*sigma: \n",
    "    return -1*self.params[\"amp\"]*(np.exp(-(T-t-sigma*risefall)**2/(2*sigma**2))-C)/den\n",
    "```"
   ]
  },
  {
   "cell_type": "code",
   "execution_count": 1,
   "id": "4849454f",
   "metadata": {},
   "outputs": [],
   "source": [
    "from time import time\n",
    "\n",
    "import numpy as np\n",
    "import scipy as sp\n",
    "\n",
    "import jax.numpy as jnp\n",
    "from jax import jit, grad, value_and_grad, vmap\n",
    "from jax.scipy.special import erf\n",
    "from jax.lax import cond, associative_scan\n",
    "from jax.scipy.linalg import expm as jexpm\n",
    "from jax.config import config\n",
    "from jax.ops import index_update\n",
    "config.update(\"jax_enable_x64\", True)\n",
    "\n",
    "from qiskit.quantum_info import Operator\n",
    "\n",
    "from qiskit_dynamics.signals import Signal\n",
    "from qiskit_dynamics.models import HamiltonianModel\n",
    "from qiskit_dynamics import solve_lmde\n",
    "from qiskit_dynamics_internal.perturbation.perturbative_solvers import PerturbativeSolver\n",
    "\n",
    "from qiskit_dynamics import dispatch\n",
    "from qiskit_dynamics.dispatch import Array\n",
    "\n",
    "dispatch.set_default_backend('jax')"
   ]
  },
  {
   "cell_type": "code",
   "execution_count": 2,
   "id": "fd39cff5",
   "metadata": {},
   "outputs": [],
   "source": [
    "def gaussian_square(t, amp, sigma, risefall, T):\n",
    "    \"\"\"Compute gaussian square with parameters.\"\"\"\n",
    "    # are the sigmas redundant in the following formulas? Aside from the first term in \n",
    "    # den it seems to be getting divided out\n",
    "    t = Array(t).data\n",
    "    C = jnp.exp(-(2*risefall*sigma)**2/(8*sigma**2))\n",
    "    den = (jnp.sqrt(jnp.pi*2*sigma**2)*erf(2*risefall*sigma/(jnp.sqrt(8)*sigma))-2*risefall*sigma*C)\n",
    "    return amp * cond(t < risefall * sigma,\n",
    "                      lambda s: (jnp.exp(-(s-sigma*risefall)**2/(2*sigma**2))-C)/den,\n",
    "                      lambda s: cond(T - t < risefall * sigma,\n",
    "                                     lambda u: (jnp.exp(-(T-u-sigma*risefall)**2/(2*sigma**2))-C)/den,\n",
    "                                     lambda u: (1-C)/den,\n",
    "                                     t),\n",
    "                      t)\n",
    "\n",
    "def bipolar_gaussian_square(t, amp, sigma, risefall, T):\n",
    "    t = Array(t).data\n",
    "    unipolar = lambda s: gaussian_square(s, amp, sigma, risefall, T/2)\n",
    "    return cond(t < T/2,\n",
    "                unipolar,\n",
    "                lambda s: -unipolar(s - T/2),\n",
    "                t)"
   ]
  },
  {
   "cell_type": "code",
   "execution_count": 3,
   "id": "90aa42a6",
   "metadata": {},
   "outputs": [
    {
     "name": "stderr",
     "output_type": "stream",
     "text": [
      "WARNING:absl:No GPU/TPU found, falling back to CPU. (Set TF_CPP_MIN_LOG_LEVEL=0 and rerun for more info.)\n"
     ]
    }
   ],
   "source": [
    "T = 300.\n",
    "risefall = 2.\n",
    "sigma = 15.\n",
    "amp=4.\n",
    "\n",
    "test = jnp.vectorize(lambda t: bipolar_gaussian_square(t, amp, sigma, risefall, T))\n",
    "\n",
    "sig = Signal(test)"
   ]
  },
  {
   "cell_type": "code",
   "execution_count": 4,
   "id": "2da67fc0",
   "metadata": {},
   "outputs": [],
   "source": [
    "def pulseFunction(t,amp,T,sigma,risefall,shape=\"GaussianSquare\"):\n",
    "    if t>T: return 0\n",
    "    elif shape==\"GaussianSquare\":\n",
    "      C=np.exp(-(2*risefall*sigma)**2/(8*sigma**2));\n",
    "      den=(np.sqrt(np.pi*2*sigma**2)*sp.special.erf(2*risefall*sigma/(np.sqrt(8)*sigma))-2*risefall*sigma*C)\n",
    "      if t<risefall*sigma:\n",
    "        temp=amp*(np.exp(-(t-sigma*risefall)**2/(2*sigma**2))-C)/den\n",
    "        return temp\n",
    "      elif T-t<risefall*sigma: return amp*(np.exp(-(T-t-sigma*risefall)**2/(2*sigma**2))-C)/den\n",
    "      else: return amp*(1-C)/den\n",
    "    elif shape==\"BipolarGaussianSquare\":\n",
    "      C=np.exp(-(2*risefall*sigma)**2/(8*sigma**2));\n",
    "      den=(np.sqrt(np.pi*2*sigma**2)*sp.special.erf(2*risefall*sigma/(np.sqrt(8)*sigma))-2*risefall*sigma*C)\n",
    "      if t<risefall*sigma:\n",
    "        temp=amp*(np.exp(-(t-sigma*risefall)**2/(2*sigma**2))-C)/den\n",
    "        return temp\n",
    "      elif t<T/2-risefall*sigma: return amp*(1-C)/den\n",
    "      elif t<T/2: return amp*(np.exp(-(T/2-t-sigma*risefall)**2/(2*sigma**2))-C)/den\n",
    "      elif t<T/2+risefall*sigma: return -1*amp*(np.exp(-((t-T/2)-sigma*risefall)**2/(2*sigma**2))-C)/den\n",
    "      elif t<T-risefall*sigma: return -1*amp*(1-C)/den\n",
    "      elif T-t<risefall*sigma: return -1*amp*(np.exp(-(T-t-sigma*risefall)**2/(2*sigma**2))-C)/den\n",
    "      else: return 0\n",
    "    else: raise Exception('type: ' + shape + ' is unsupported :(')"
   ]
  },
  {
   "cell_type": "code",
   "execution_count": 5,
   "id": "e373e53d",
   "metadata": {},
   "outputs": [],
   "source": [
    "sig2 = Signal(np.vectorize(lambda t: pulseFunction(t, amp, T, sigma, risefall, \"BipolarGaussianSquare\")))"
   ]
  },
  {
   "cell_type": "code",
   "execution_count": 6,
   "id": "44227202",
   "metadata": {},
   "outputs": [
    {
     "data": {
      "image/png": "[encoded data removed]",
      "text/plain": [
       "<Figure size 432x288 with 1 Axes>"
      ]
     },
     "metadata": {
      "needs_background": "light"
     },
     "output_type": "display_data"
    }
   ],
   "source": [
    "sig.draw(0, 300, 500, function='envelope')\n",
    "sig2.draw(0, 300, 500, function='envelope')"
   ]
  },
  {
   "cell_type": "markdown",
   "id": "ab2f3dba",
   "metadata": {},
   "source": [
    "Input data\n",
    "\n",
    "```\n",
    "inputDict = {'systemDict': {'elementDict':\n",
    "{0: {'label': 'q3', 'dim': 5, 'freq': 5.105,'anharmonicity': -0.33534, 'T1': 100.17, 'T2': 71.25},\n",
    "1: {'label': 'q5', 'dim': 5, 'freq': 5.033, 'anharmonicity': -0.33834, 'T1': 79.34, 'T2': 71.89}},\n",
    "'couplingDict': {0: {'label1': 'q10', 'label2': 'q12', 'strength': 0.002}}},\n",
    "'gateDict': {'qubits': ['q3', 'q5'], 'sigma': 15, 'risefall': 2, 'gatetime'300}\n",
    "```"
   ]
  },
  {
   "cell_type": "code",
   "execution_count": 7,
   "id": "4d775dcf",
   "metadata": {},
   "outputs": [],
   "source": [
    "w_c = 2 * np.pi * 5.105\n",
    "w_t = 2 * np.pi * 5.033\n",
    "alpha_c = 2 * np.pi * (-0.33534)\n",
    "alpha_t = 2 * np.pi * (-0.33834)\n",
    "J = 2 * np.pi * 0.002\n",
    "\n",
    "dim = 5\n",
    "\n",
    "a = np.diag(np.sqrt(np.arange(1, dim)), 1)\n",
    "adag = a.transpose()\n",
    "N = np.diag(np.arange(dim))\n",
    "ident = np.eye(dim)\n",
    "ident2 = np.eye(dim**2)\n",
    "\n",
    "# operators on the control qubit (first tensor factor)\n",
    "a0 = np.kron(a, ident)\n",
    "adag0 = np.kron(adag, ident)\n",
    "N0 = np.kron(N, ident)\n",
    "\n",
    "# operators on the target qubit (first tensor factor)\n",
    "a1 = np.kron(ident, a)\n",
    "adag1 = np.kron(ident, adag)\n",
    "N1 = np.kron(ident, N)"
   ]
  },
  {
   "cell_type": "code",
   "execution_count": 8,
   "id": "daf0f7f6",
   "metadata": {},
   "outputs": [],
   "source": [
    "H0 = (w_c * N0 + 0.5 * alpha_c * N0 @ (N0 - ident2)\n",
    "      + w_t * N1 + 0.5 * alpha_t * N1 @ (N1 - ident2)\n",
    "      + J * (a0 @ adag1 + adag0 @ a1))\n",
    "Hdc = 2 * np.pi * (a0 + adag0)\n",
    "Hdt = 2 * np.pi * (a1 + adag1)"
   ]
  },
  {
   "cell_type": "code",
   "execution_count": 9,
   "id": "ed648956",
   "metadata": {},
   "outputs": [],
   "source": [
    "def basis_vec(ind, dimension):\n",
    "    vec = np.zeros(dimension, dtype=complex)\n",
    "    vec[ind] = 1.\n",
    "    return vec\n",
    "\n",
    "def two_q_basis_vec(inda, indb, dimension):\n",
    "    vec_a = basis_vec(inda, dimension)\n",
    "    vec_b = basis_vec(indb, dimension)\n",
    "    return np.kron(vec_a, vec_b)\n",
    "\n",
    "def get_dressed_state_index(inda, indb, dimension, evectors):\n",
    "    b_vec = two_q_basis_vec(inda, indb, dimension)\n",
    "    overlaps = np.abs(evectors @ b_vec)\n",
    "    return overlaps.argmax()\n",
    "\n",
    "def get_dressed_state_and_energy(inda, indb, dimension, evecs):\n",
    "    ind = get_dressed_state_index(inda, indb, dimension, evecs)\n",
    "    return evals[ind], evecs[ind]"
   ]
  },
  {
   "cell_type": "code",
   "execution_count": 10,
   "id": "76d9fef8",
   "metadata": {},
   "outputs": [],
   "source": [
    "evals, B = jnp.linalg.eigh(H0)\n",
    "Badj = B.conj().transpose()\n",
    "\n",
    "E00, dressed00 = get_dressed_state_and_energy(0, 0, dim, B.transpose())\n",
    "E01, dressed01 = get_dressed_state_and_energy(0, 1, dim, B.transpose())\n",
    "E10, dressed10 = get_dressed_state_and_energy(1, 0, dim, B.transpose())\n",
    "E11, dressed11 = get_dressed_state_and_energy(1, 1, dim, B.transpose())"
   ]
  },
  {
   "cell_type": "code",
   "execution_count": 11,
   "id": "5e3a8758",
   "metadata": {},
   "outputs": [],
   "source": [
    "# \"target dressed frequency\"\n",
    "v_t = E01 / (2 * np.pi)"
   ]
  },
  {
   "cell_type": "code",
   "execution_count": 12,
   "id": "aa991923",
   "metadata": {},
   "outputs": [
    {
     "data": {
      "text/plain": [
       "DeviceArray(5.03294449, dtype=float64)"
      ]
     },
     "execution_count": 12,
     "metadata": {},
     "output_type": "execute_result"
    }
   ],
   "source": [
    "v_t"
   ]
  },
  {
   "cell_type": "code",
   "execution_count": 13,
   "id": "ca516789",
   "metadata": {},
   "outputs": [],
   "source": [
    "H0_B = Badj @ H0 @ B\n",
    "Hdc_B = Badj @ Hdc @ B\n",
    "Hdt_B = Badj @ Hdt @ B"
   ]
  },
  {
   "cell_type": "code",
   "execution_count": 14,
   "id": "d2260ed8",
   "metadata": {},
   "outputs": [],
   "source": [
    "init_amps = np.array([1.4, 0., 0.3])\n",
    "init_phases = np.array([0., 0., 0.])"
   ]
  },
  {
   "cell_type": "code",
   "execution_count": 15,
   "id": "93005c81",
   "metadata": {},
   "outputs": [],
   "source": [
    "idx00 = 0\n",
    "idx01 = get_dressed_state_index(0, 1, dim, B.transpose())\n",
    "idx10 = get_dressed_state_index(1, 0, dim, B.transpose())\n",
    "idx11 = get_dressed_state_index(1, 1, dim, B.transpose())\n",
    "\n",
    "e00 = np.zeros(dim**2, dtype=complex)\n",
    "e00[0] = 1.\n",
    "e10 = np.zeros(dim**2, dtype=complex)\n",
    "e10[idx10] = 1.\n",
    "e01 = np.zeros(dim**2, dtype=complex)\n",
    "e01[idx01] = 1.\n",
    "e11 = np.zeros(dim**2, dtype=complex)\n",
    "e11[idx11] = 1.\n",
    "\n",
    "# set up observables\n",
    "S = np.array([e00, e01, e10, e11]).transpose()\n",
    "Sdag = S.conj().transpose()\n",
    "\n",
    "II = S @ Sdag\n",
    "IX = S @ np.array(Operator.from_label('IX')) @ Sdag\n",
    "IY = S @ np.array(Operator.from_label('IY')) @ Sdag\n",
    "IZ = S @ np.array(Operator.from_label('IZ')) @ Sdag\n",
    "XI = S @ np.array(Operator.from_label('XI')) @ Sdag\n",
    "XX = S @ np.array(Operator.from_label('XX')) @ Sdag\n",
    "XY = S @ np.array(Operator.from_label('XY')) @ Sdag\n",
    "XZ = S @ np.array(Operator.from_label('XZ')) @ Sdag\n",
    "YI = S @ np.array(Operator.from_label('YI')) @ Sdag\n",
    "YX = S @ np.array(Operator.from_label('YX')) @ Sdag\n",
    "YY = S @ np.array(Operator.from_label('YY')) @ Sdag\n",
    "YZ = S @ np.array(Operator.from_label('YZ')) @ Sdag\n",
    "ZI = S @ np.array(Operator.from_label('ZI')) @ Sdag\n",
    "ZX = S @ np.array(Operator.from_label('ZX')) @ Sdag\n",
    "ZY = S @ np.array(Operator.from_label('ZY')) @ Sdag\n",
    "ZZ = S @ np.array(Operator.from_label('ZZ')) @ Sdag"
   ]
  },
  {
   "cell_type": "code",
   "execution_count": 16,
   "id": "be1fd381",
   "metadata": {},
   "outputs": [
    {
     "data": {
      "text/plain": [
       "array([0.+0.j, 0.+0.j, 0.+0.j, 0.+0.j, 0.+0.j, 1.+0.j, 0.+0.j, 0.+0.j,\n",
       "       0.+0.j, 0.+0.j, 0.+0.j, 0.+0.j, 0.+0.j, 0.+0.j, 0.+0.j, 0.+0.j,\n",
       "       0.+0.j, 0.+0.j, 0.+0.j, 0.+0.j, 0.+0.j, 0.+0.j, 0.+0.j, 0.+0.j,\n",
       "       0.+0.j])"
      ]
     },
     "execution_count": 16,
     "metadata": {},
     "output_type": "execute_result"
    }
   ],
   "source": [
    "e11"
   ]
  },
  {
   "cell_type": "markdown",
   "id": "14f46ecb",
   "metadata": {},
   "source": [
    "# 1.1 sim function"
   ]
  },
  {
   "cell_type": "code",
   "execution_count": 17,
   "id": "2679ce0e",
   "metadata": {},
   "outputs": [],
   "source": [
    "ham = HamiltonianModel(operators=[H0_B, Hdc_B, Hdt_B])\n",
    "#ham.frame = H0_B\n",
    "\n",
    "y0 = np.eye(dim**2, dtype=complex)\n",
    "\n",
    "def full_sim(amps, phases, pre_rot, post_rot):\n",
    "    cr_amp = amps[0]\n",
    "    cr_phase = phases[0]\n",
    "    rotary_amp = amps[1]\n",
    "    rotary_phase = phases[1]\n",
    "    bipolar_amp = amps[2] \n",
    "    bipolar_phase = phases[2]\n",
    "    ham_copy = ham.copy()\n",
    "    cr_signal = Signal(lambda t: gaussian_square(t, cr_amp, sigma, risefall, T), \n",
    "                       carrier_freq=v_t, \n",
    "                       phase=cr_phase)\n",
    "    rotary_signal = Signal(lambda t: gaussian_square(t, rotary_amp, sigma, risefall, T), \n",
    "                           carrier_freq=v_t,\n",
    "                           phase=rotary_phase)\n",
    "    bipolar_signal = Signal(lambda t: bipolar_gaussian_square(t, bipolar_amp, sigma, risefall, T), \n",
    "                            carrier_freq=v_t,\n",
    "                            phase=bipolar_phase)\n",
    "    \n",
    "    target_signal = (rotary_signal + bipolar_signal).flatten()\n",
    "    ham_copy.signals = [1., cr_signal, target_signal]\n",
    "    ham_copy.frame = ham_copy.drift\n",
    "    #import pdb; pdb.set_trace()\n",
    "    results = solve_lmde(ham_copy, \n",
    "                     t_span=[0, T],\n",
    "                     y0=y0,\n",
    "                     method='jax_odeint',\n",
    "                     atol=1e-8,\n",
    "                     rtol=1e-8)\n",
    "    \n",
    "    U = results.y[-1]\n",
    "\n",
    "    return jexpm(-1j * (post_rot[0] * IZ + post_rot[1] * ZI)) @ U @ jexpm(-1j * (pre_rot[0] * IZ + pre_rot[1] * ZI))\n"
   ]
  },
  {
   "cell_type": "code",
   "execution_count": 18,
   "id": "a56efcc8",
   "metadata": {},
   "outputs": [],
   "source": [
    "target = S @ jexpm(-1j * np.array(Operator.from_label('ZX')) * jnp.pi / 4) @ Sdag\n",
    "target_conj = target.conj()\n",
    "\n",
    "def fidelity(U):\n",
    "    return jnp.abs(jnp.sum(target_conj * U))**2 / (4**2)"
   ]
  },
  {
   "cell_type": "code",
   "execution_count": 19,
   "id": "9066e571",
   "metadata": {},
   "outputs": [],
   "source": [
    "def obj(x):\n",
    "    amps = x[0:3]\n",
    "    phases = x[3:6]\n",
    "    pre_rot = x[6:8]\n",
    "    post_rot = x[8:]\n",
    "    \n",
    "    U = full_sim(amps, phases, pre_rot, post_rot)\n",
    "    \n",
    "    return 1 - fidelity(U)"
   ]
  },
  {
   "cell_type": "code",
   "execution_count": 20,
   "id": "50d09884",
   "metadata": {},
   "outputs": [],
   "source": [
    "from scipy.optimize import minimize"
   ]
  },
  {
   "cell_type": "markdown",
   "id": "edf9a70a",
   "metadata": {},
   "source": [
    "bipolar amp"
   ]
  },
  {
   "cell_type": "code",
   "execution_count": 21,
   "id": "b5cecd8b",
   "metadata": {},
   "outputs": [
    {
     "name": "stdout",
     "output_type": "stream",
     "text": [
      "time taken: 1588.8131248950958\n",
      "      fun: 0.00016131728370660792\n",
      " hess_inv: array([[ 1.89480353e+02, -1.69664776e+00, -1.82478559e+00,\n",
      "        -7.02321102e+01,  3.07851415e-01,  5.91981037e+01,\n",
      "        -1.16125962e+01,  1.44291278e+03,  1.15683739e+01,\n",
      "         1.44291278e+03],\n",
      "       [-1.69664776e+00,  3.24061643e-02,  2.43973720e-02,\n",
      "         3.99975749e-01,  5.65363169e-01, -7.53808426e-01,\n",
      "         2.22697415e-01, -1.29187287e+01, -2.15981420e-01,\n",
      "        -1.29187287e+01],\n",
      "       [-1.82478559e+00,  2.43973720e-02,  9.06227375e-02,\n",
      "         5.66573595e-01,  2.83287060e-01, -6.52914029e-01,\n",
      "         2.06647693e-01, -1.38927261e+01, -2.04053312e-01,\n",
      "        -1.38927261e+01],\n",
      "       [-7.02321102e+01,  3.99975749e-01,  5.66573595e-01,\n",
      "         3.00779090e+01, -8.32608723e+00, -1.85439303e+01,\n",
      "         2.47563359e+00, -5.34820368e+02, -2.57967438e+00,\n",
      "        -5.34820368e+02],\n",
      "       [ 3.07851415e-01,  5.65363169e-01,  2.83287060e-01,\n",
      "        -8.32608723e+00,  2.14361614e+01, -7.92904317e+00,\n",
      "         4.38366198e+00,  2.37677919e+00, -3.98034516e+00,\n",
      "         2.37677919e+00],\n",
      "       [ 5.91981037e+01, -7.53808426e-01, -6.52914029e-01,\n",
      "        -1.85439303e+01, -7.92904317e+00,  2.23328114e+01,\n",
      "        -5.51136006e+00,  4.50776837e+02,  5.31125377e+00,\n",
      "         4.50776837e+02],\n",
      "       [-1.16125962e+01,  2.22697415e-01,  2.06647693e-01,\n",
      "         2.47563359e+00,  4.38366198e+00, -5.51136006e+00,\n",
      "         2.19871800e+00, -8.84171961e+01, -1.60450463e+00,\n",
      "        -8.84171961e+01],\n",
      "       [ 1.44291278e+03, -1.29187287e+01, -1.38927261e+01,\n",
      "        -5.34820368e+02,  2.37677918e+00,  4.50776837e+02,\n",
      "        -8.84171961e+01,  1.09885940e+04,  8.80796961e+01,\n",
      "         1.09875940e+04],\n",
      "       [ 1.15683739e+01, -2.15981420e-01, -2.04053312e-01,\n",
      "        -2.57967438e+00, -3.98034516e+00,  5.31125377e+00,\n",
      "        -1.60450463e+00,  8.80796961e+01,  1.99981385e+00,\n",
      "         8.80796961e+01],\n",
      "       [ 1.44291278e+03, -1.29187287e+01, -1.38927261e+01,\n",
      "        -5.34820368e+02,  2.37677918e+00,  4.50776837e+02,\n",
      "        -8.84171961e+01,  1.09875940e+04,  8.80796961e+01,\n",
      "         1.09885940e+04]])\n",
      "      jac: array([ 3.11959201e-04,  2.51357846e-05,  5.95539362e-06,  2.84507305e-08,\n",
      "       -6.58481137e-07,  1.06873280e-06,  2.17415580e-07, -2.04055238e-05,\n",
      "       -5.83086211e-07, -2.04055238e-05])\n",
      "  message: 'Desired error not necessarily achieved due to precision loss.'\n",
      "     nfev: 88\n",
      "      nit: 50\n",
      "     njev: 76\n",
      "   status: 2\n",
      "  success: False\n",
      "        x: array([ 1.27442734, -0.01338417,  0.28255851, -0.18661718, -0.48018257,\n",
      "        0.49798044, -0.18130978, -1.01441554,  0.15589549, -1.01441554])\n"
     ]
    }
   ],
   "source": [
    "jit_obj = jit(obj)\n",
    "grad_obj = jit(value_and_grad(obj))\n",
    "\n",
    "x0=[1.4, 0., 0.3, 0., 0., 0., 0., 0., 0., 0.]\n",
    "\n",
    "start = time()\n",
    "# needs x vals need to be 1d\n",
    "res = minimize(grad_obj, x0=x0, method='BFGS', jac=True)\n",
    "print('time taken: ' + str(time() - start))\n",
    "\n",
    "print(res)"
   ]
  },
  {
   "cell_type": "markdown",
   "id": "bde6750f",
   "metadata": {},
   "source": [
    "## Attempt with Dyson solver"
   ]
  },
  {
   "cell_type": "code",
   "execution_count": 22,
   "id": "c260c4dd",
   "metadata": {
    "scrolled": false
   },
   "outputs": [
    {
     "name": "stdout",
     "output_type": "stream",
     "text": [
      "680.0120961666107\n"
     ]
    }
   ],
   "source": [
    "# system information\n",
    "generator_decomp = [-1j  * Hdc_B, -1j * Hdt_B]\n",
    "carrier_freqs = [v_t, v_t]\n",
    "frame_operator = -1j * H0_B\n",
    "\n",
    "# approximation specification:\n",
    "# chebyshev order to use\n",
    "polynomial_degrees = [1, 1]\n",
    "# Dyson series order to go to\n",
    "perturbation_order = 6\n",
    "\n",
    "\n",
    "# we will use \n",
    "n_steps = 600\n",
    "dt = T / n_steps\n",
    "\n",
    "start = time()\n",
    "dyson_solver_jax = PerturbativeSolver(generator_decomp, \n",
    "                                       frame_operator,\n",
    "                                       dt,\n",
    "                                       carrier_freqs,\n",
    "                                       polynomial_degrees,\n",
    "                                       perturbation_method='dyson',\n",
    "                                       perturbation_order=perturbation_order,\n",
    "                                       method='jax_odeint',\n",
    "                                       atol=1e-8,\n",
    "                                       rtol=1e-8)\n",
    "print(time() - start)"
   ]
  },
  {
   "cell_type": "code",
   "execution_count": 31,
   "id": "fea67bc9",
   "metadata": {},
   "outputs": [],
   "source": [
    "y0 = np.eye(dim**2, dtype=complex)\n",
    "\n",
    "def dyson_sim(amps, phases, pre_rot, post_rot):\n",
    "    cr_amp = amps[0]\n",
    "    cr_phase = phases[0]\n",
    "    rotary_amp = amps[1]\n",
    "    rotary_phase = phases[1]\n",
    "    bipolar_amp = amps[2] \n",
    "    bipolar_phase = phases[2]\n",
    "    ham_copy = ham.copy()\n",
    "    cr_signal = Signal(jnp.vectorize(lambda t: gaussian_square(t, cr_amp, sigma, risefall, T)), \n",
    "                       carrier_freq=v_t, \n",
    "                       phase=cr_phase)\n",
    "    rotary_signal = Signal(jnp.vectorize(lambda t: gaussian_square(t, rotary_amp, sigma, risefall, T)), \n",
    "                           carrier_freq=v_t,\n",
    "                           phase=rotary_phase)\n",
    "    bipolar_signal = Signal(jnp.vectorize(lambda t: bipolar_gaussian_square(t, bipolar_amp, sigma, risefall, T)), \n",
    "                            carrier_freq=v_t,\n",
    "                            phase=bipolar_phase)\n",
    "    \n",
    "    target_signal = (rotary_signal + bipolar_signal).flatten()\n",
    "    #import pdb; pdb.set_trace()\n",
    "    U = dyson_solver_jax.solve([cr_signal, target_signal], y0, 0, n_steps)\n",
    "\n",
    "    return jexpm(-1j * (post_rot[0] * IZ + post_rot[1] * ZI)) @ U @ jexpm(-1j * (pre_rot[0] * IZ + pre_rot[1] * ZI))\n"
   ]
  },
  {
   "cell_type": "code",
   "execution_count": 32,
   "id": "85c9b94b",
   "metadata": {},
   "outputs": [],
   "source": [
    "def dyson_obj(x):\n",
    "    amps = x[0:3]\n",
    "    phases = x[3:6]\n",
    "    pre_rot = x[6:8]\n",
    "    post_rot = x[8:]\n",
    "\n",
    "    U = dyson_sim(amps, phases, pre_rot, post_rot)\n",
    "    \n",
    "    return 1 - fidelity(U)"
   ]
  },
  {
   "cell_type": "code",
   "execution_count": 33,
   "id": "9db21e3a",
   "metadata": {},
   "outputs": [
    {
     "name": "stdout",
     "output_type": "stream",
     "text": [
      "time taken: 32.80638384819031\n",
      "      fun: 0.00016710781572526479\n",
      " hess_inv: array([[ 2.06302483e+02, -1.96360697e+00, -2.13008545e+00,\n",
      "        -7.61686399e+01, -2.00429515e+00,  6.55459082e+01,\n",
      "        -1.35511594e+01,  1.56977713e+03,  1.31079426e+01,\n",
      "         1.56977713e+03],\n",
      "       [-1.96360697e+00,  3.94612096e-02,  2.61127786e-02,\n",
      "         4.39563030e-01,  7.32094819e-01, -9.05783271e-01,\n",
      "         2.86473779e-01, -1.49410460e+01, -2.58083477e-01,\n",
      "        -1.49410460e+01],\n",
      "       [-2.13008545e+00,  2.61127786e-02,  9.40836402e-02,\n",
      "         7.24839321e-01,  2.22571271e-01, -7.39505053e-01,\n",
      "         2.43816064e-01, -1.62076252e+01, -1.87504676e-01,\n",
      "        -1.62076252e+01],\n",
      "       [-7.61686399e+01,  4.39563030e-01,  7.24839321e-01,\n",
      "         3.30834846e+01, -9.84461768e+00, -1.98254523e+01,\n",
      "         2.55235691e+00, -5.79572608e+02, -2.81033616e+00,\n",
      "        -5.79572608e+02],\n",
      "       [-2.00429515e+00,  7.32094819e-01,  2.22571271e-01,\n",
      "        -9.84461768e+00,  2.76514840e+01, -1.12125282e+01,\n",
      "         6.10754746e+00, -1.52517453e+01, -5.05456288e+00,\n",
      "        -1.52517453e+01],\n",
      "       [ 6.55459082e+01, -9.05783271e-01, -7.39505053e-01,\n",
      "        -1.98254523e+01, -1.12125282e+01,  2.57069253e+01,\n",
      "        -6.81717507e+00,  4.98745056e+02,  6.27560385e+00,\n",
      "         4.98745056e+02],\n",
      "       [-1.35511594e+01,  2.86473779e-01,  2.43816064e-01,\n",
      "         2.55235691e+00,  6.10754746e+00, -6.81717507e+00,\n",
      "         2.76455282e+00, -1.03110989e+02, -2.00544852e+00,\n",
      "        -1.03110989e+02],\n",
      "       [ 1.56977713e+03, -1.49410460e+01, -1.62076252e+01,\n",
      "        -5.79572608e+02, -1.52517453e+01,  4.98745056e+02,\n",
      "        -1.03110989e+02,  1.19452099e+04,  9.97377203e+01,\n",
      "         1.19442099e+04],\n",
      "       [ 1.31079426e+01, -2.58083477e-01, -1.87504676e-01,\n",
      "        -2.81033616e+00, -5.05456288e+00,  6.27560385e+00,\n",
      "        -2.00544852e+00,  9.97377203e+01,  2.25582547e+00,\n",
      "         9.97377203e+01],\n",
      "       [ 1.56977713e+03, -1.49410460e+01, -1.62076252e+01,\n",
      "        -5.79572608e+02, -1.52517453e+01,  4.98745056e+02,\n",
      "        -1.03110989e+02,  1.19442099e+04,  9.97377203e+01,\n",
      "         1.19452099e+04]])\n",
      "      jac: array([ 2.93634699e-06,  1.93770627e-07,  5.37711801e-08, -1.00474424e-10,\n",
      "        1.46575213e-09,  1.98328070e-08, -1.10986187e-08, -1.93092781e-07,\n",
      "       -5.85121399e-09, -1.93092781e-07])\n",
      "  message: 'Optimization terminated successfully.'\n",
      "     nfev: 65\n",
      "      nit: 52\n",
      "     njev: 65\n",
      "   status: 0\n",
      "  success: True\n",
      "        x: array([ 1.27407435, -0.01338075,  0.28256235, -0.18646636, -0.48015264,\n",
      "        0.49788822, -0.18129652, -1.01711123,  0.15588295, -1.01711123])\n"
     ]
    }
   ],
   "source": [
    "jit_dyson_obj = jit(dyson_obj)\n",
    "grad_dyson_obj = jit(value_and_grad(dyson_obj))\n",
    "\n",
    "x0=[1.4, 0., 0.3, 0., 0., 0., 0., 0., 0., 0.]\n",
    "\n",
    "start = time()\n",
    "# needs x vals need to be 1d\n",
    "perturb_res = minimize(grad_dyson_obj, x0=x0, method='BFGS', jac=True)\n",
    "print('time taken: ' + str(time() - start))\n",
    "\n",
    "print(perturb_res)"
   ]
  },
  {
   "cell_type": "code",
   "execution_count": 34,
   "id": "a71bb479",
   "metadata": {
    "scrolled": true
   },
   "outputs": [
    {
     "name": "stdout",
     "output_type": "stream",
     "text": [
      "0.00016710849668755134\n",
      "0.00016710781572504274\n"
     ]
    }
   ],
   "source": [
    "print(dyson_obj(res.x))\n",
    "print(dyson_obj(perturb_res.x))"
   ]
  },
  {
   "cell_type": "code",
   "execution_count": 35,
   "id": "e6b29ade",
   "metadata": {},
   "outputs": [
    {
     "name": "stdout",
     "output_type": "stream",
     "text": [
      "0.00016131728370993859\n",
      "0.00016131772719940596\n"
     ]
    }
   ],
   "source": [
    "print(obj(res.x))\n",
    "print(obj(perturb_res.x))"
   ]
  },
  {
   "cell_type": "code",
   "execution_count": 36,
   "id": "1fcda069",
   "metadata": {},
   "outputs": [
    {
     "name": "stdout",
     "output_type": "stream",
     "text": [
      "0.21885895729064941\n"
     ]
    }
   ],
   "source": [
    "start = time()\n",
    "out = grad_dyson_obj(res.x)[1].block_until_ready()\n",
    "print(time() - start)"
   ]
  },
  {
   "cell_type": "code",
   "execution_count": 37,
   "id": "0ac6efef",
   "metadata": {},
   "outputs": [],
   "source": [
    "# Emily's optimization parameters\n",
    "#x = [0.8928422518670537, -0.006545166015625003, 0.30030852556228615]\n",
    "#[0, 0.15063515396118174, -0.0011186523437500052]\n",
    "\n",
    "x2 = np.array([0.8928422518670537, -0.006545166015625003, 0.30030852556228615,\n",
    "               0, 0.15063515396118174, -0.0011186523437500052,\n",
    "              0., 0., 0., 0.])"
   ]
  },
  {
   "cell_type": "code",
   "execution_count": 38,
   "id": "80505d67",
   "metadata": {},
   "outputs": [
    {
     "data": {
      "text/plain": [
       "DeviceArray(0.59893858, dtype=float64)"
      ]
     },
     "execution_count": 38,
     "metadata": {},
     "output_type": "execute_result"
    }
   ],
   "source": [
    "obj(x2)"
   ]
  },
  {
   "cell_type": "code",
   "execution_count": 39,
   "id": "3f3435a6",
   "metadata": {},
   "outputs": [],
   "source": [
    "# 0.59971594"
   ]
  },
  {
   "cell_type": "code",
   "execution_count": 40,
   "id": "ac6da1c6",
   "metadata": {},
   "outputs": [
    {
     "data": {
      "image/png": "[encoded data removed]",
      "text/plain": [
       "<Figure size 432x288 with 1 Axes>"
      ]
     },
     "metadata": {
      "needs_background": "light"
     },
     "output_type": "display_data"
    }
   ],
   "source": [
    "amps = perturb_res.x[0:3]\n",
    "phases = perturb_res.x[3:6]\n",
    "pre_rot = perturb_res.x[6:8]\n",
    "post_rot = perturb_res.x[8:]\n",
    "\n",
    "cr_signal = Signal(jnp.vectorize(lambda t: gaussian_square(t, amps[0], sigma, risefall, T)), \n",
    "                   carrier_freq=v_t, \n",
    "                   phase=phases[0])\n",
    "rotary_signal = Signal(jnp.vectorize(lambda t: gaussian_square(t, amps[1], sigma, risefall, T)), \n",
    "                       carrier_freq=v_t,\n",
    "                       phase=phases[1])\n",
    "bipolar_signal = Signal(jnp.vectorize(lambda t: bipolar_gaussian_square(t, amps[2], sigma, risefall, T)), \n",
    "                        carrier_freq=v_t,\n",
    "                        phase=phases[2])\n",
    "\n",
    "cr_signal.draw(0, T, 300, function='envelope')\n",
    "rotary_signal.draw(0, T, 300, function='envelope')\n",
    "bipolar_signal.draw(0, T, 300, function='envelope')"
   ]
  },
  {
   "cell_type": "code",
   "execution_count": 41,
   "id": "724859f3",
   "metadata": {},
   "outputs": [
    {
     "data": {
      "image/png": "[encoded data removed]",
      "text/plain": [
       "<Figure size 432x288 with 1 Axes>"
      ]
     },
     "metadata": {
      "needs_background": "light"
     },
     "output_type": "display_data"
    }
   ],
   "source": [
    "amps2 = x2[0:3]\n",
    "phases2 = x2[3:6]\n",
    "pre_rot2 = x2[6:8]\n",
    "post_rot2 = x2[8:]\n",
    "\n",
    "cr_signal2 = Signal(jnp.vectorize(lambda t: gaussian_square(t, amps2[0], sigma, risefall, T)), \n",
    "                   carrier_freq=v_t, \n",
    "                   phase=phases2[0])\n",
    "rotary_signal2 = Signal(jnp.vectorize(lambda t: gaussian_square(t, amps2[1], sigma, risefall, T)), \n",
    "                       carrier_freq=v_t,\n",
    "                       phase=phases2[1])\n",
    "bipolar_signal2 = Signal(jnp.vectorize(lambda t: bipolar_gaussian_square(t, amps[2], sigma, risefall, T)), \n",
    "                        carrier_freq=v_t,\n",
    "                        phase=phases2[2])\n",
    "\n",
    "cr_signal2.draw(0, T, 300, function='envelope')\n",
    "rotary_signal2.draw(0, T, 300, function='envelope')\n",
    "bipolar_signal2.draw(0, T, 300, function='envelope')"
   ]
  },
  {
   "cell_type": "code",
   "execution_count": 42,
   "id": "3aa7d950",
   "metadata": {},
   "outputs": [
    {
     "data": {
      "image/png": "[encoded data removed]",
      "text/plain": [
       "<Figure size 432x288 with 1 Axes>"
      ]
     },
     "metadata": {
      "needs_background": "light"
     },
     "output_type": "display_data"
    }
   ],
   "source": [
    "cr_signal.draw(0, T, 300, function='envelope')\n",
    "cr_signal2.draw(0, T, 300, function='envelope')"
   ]
  },
  {
   "cell_type": "code",
   "execution_count": 43,
   "id": "de99b814",
   "metadata": {},
   "outputs": [
    {
     "data": {
      "image/png": "[encoded data removed]",
      "text/plain": [
       "<Figure size 432x288 with 1 Axes>"
      ]
     },
     "metadata": {
      "needs_background": "light"
     },
     "output_type": "display_data"
    }
   ],
   "source": [
    "rotary_signal.draw(0, T, 300, function='envelope')\n",
    "rotary_signal2.draw(0, T, 300, function='envelope')"
   ]
  },
  {
   "cell_type": "code",
   "execution_count": 44,
   "id": "fbb70b87",
   "metadata": {},
   "outputs": [
    {
     "name": "stdout",
     "output_type": "stream",
     "text": [
      "0.49788821998108584\n",
      "-0.0011186523437500052\n"
     ]
    },
    {
     "data": {
      "image/png": "[encoded data removed]",
      "text/plain": [
       "<Figure size 432x288 with 1 Axes>"
      ]
     },
     "metadata": {
      "needs_background": "light"
     },
     "output_type": "display_data"
    }
   ],
   "source": [
    "bipolar_signal.draw(0, T, 300, function='envelope')\n",
    "print(bipolar_signal.phase)\n",
    "bipolar_signal2.draw(0, T, 300, function='envelope')\n",
    "print(bipolar_signal2.phase)"
   ]
  },
  {
   "cell_type": "code",
   "execution_count": 45,
   "id": "00e7fad2",
   "metadata": {},
   "outputs": [],
   "source": [
    "ham = HamiltonianModel(operators=[H0_B, Hdc_B, Hdt_B])\n",
    "#ham.frame = H0_B\n",
    "\n",
    "y0 = np.eye(dim**2, dtype=complex)\n",
    "\n",
    "def full_sim_high_tol(amps, phases, pre_rot, post_rot):\n",
    "    cr_amp = amps[0]\n",
    "    cr_phase = phases[0]\n",
    "    rotary_amp = amps[1]\n",
    "    rotary_phase = phases[1]\n",
    "    bipolar_amp = amps[2] \n",
    "    bipolar_phase = phases[2]\n",
    "    ham_copy = ham.copy()\n",
    "    cr_signal = Signal(lambda t: gaussian_square(t, cr_amp, sigma, risefall, T), \n",
    "                       carrier_freq=v_t, \n",
    "                       phase=cr_phase)\n",
    "    rotary_signal = Signal(lambda t: gaussian_square(t, rotary_amp, sigma, risefall, T), \n",
    "                           carrier_freq=v_t,\n",
    "                           phase=rotary_phase)\n",
    "    bipolar_signal = Signal(lambda t: bipolar_gaussian_square(t, bipolar_amp, sigma, risefall, T), \n",
    "                            carrier_freq=v_t,\n",
    "                            phase=bipolar_phase)\n",
    "    \n",
    "    target_signal = (rotary_signal + bipolar_signal).flatten()\n",
    "    ham_copy.signals = [1., cr_signal, target_signal]\n",
    "    ham_copy.frame = ham_copy.drift\n",
    "    #import pdb; pdb.set_trace()\n",
    "    results = solve_lmde(ham_copy, \n",
    "                     t_span=[0, T],\n",
    "                     y0=y0,\n",
    "                     method='jax_odeint',\n",
    "                     atol=1e-13,\n",
    "                     rtol=1e-13)\n",
    "    \n",
    "    U = results.y[-1]\n",
    "\n",
    "    return jexpm(-1j * (post_rot[0] * IZ + post_rot[1] * ZI)) @ U @ jexpm(-1j * (pre_rot[0] * IZ + pre_rot[1] * ZI))\n"
   ]
  },
  {
   "cell_type": "code",
   "execution_count": 46,
   "id": "f365fd71",
   "metadata": {},
   "outputs": [],
   "source": [
    "def obj_high_tol(x):\n",
    "    amps = x[0:3]\n",
    "    phases = x[3:6]\n",
    "    pre_rot = x[6:8]\n",
    "    post_rot = x[8:]\n",
    "    \n",
    "    U = full_sim_high_tol(amps, phases, pre_rot, post_rot)\n",
    "    \n",
    "    return 1 - fidelity(U)"
   ]
  },
  {
   "cell_type": "code",
   "execution_count": 47,
   "id": "3f0923b4",
   "metadata": {},
   "outputs": [
    {
     "data": {
      "text/plain": [
       "DeviceArray(0.59894059, dtype=float64)"
      ]
     },
     "execution_count": 47,
     "metadata": {},
     "output_type": "execute_result"
    }
   ],
   "source": [
    "obj_high_tol(x2)\n",
    "# 0.59971594"
   ]
  },
  {
   "cell_type": "markdown",
   "id": "0426e182",
   "metadata": {},
   "source": [
    "Speed comparisons"
   ]
  },
  {
   "cell_type": "code",
   "execution_count": 48,
   "id": "4fbd16a6",
   "metadata": {},
   "outputs": [
    {
     "name": "stdout",
     "output_type": "stream",
     "text": [
      "16.790015935897827\n"
     ]
    }
   ],
   "source": [
    "start = time()\n",
    "grad_obj(res.x)[0].block_until_ready()\n",
    "print(time() - start)"
   ]
  },
  {
   "cell_type": "code",
   "execution_count": 49,
   "id": "b353f815",
   "metadata": {},
   "outputs": [
    {
     "name": "stdout",
     "output_type": "stream",
     "text": [
      "0.23738694190979004\n"
     ]
    }
   ],
   "source": [
    "start = time()\n",
    "grad_dyson_obj(res.x)[0].block_until_ready()\n",
    "print(time() - start)"
   ]
  },
  {
   "cell_type": "code",
   "execution_count": 50,
   "id": "2e611cb7",
   "metadata": {},
   "outputs": [
    {
     "data": {
      "text/plain": [
       "56.66666666666667"
      ]
     },
     "execution_count": 50,
     "metadata": {},
     "output_type": "execute_result"
    }
   ],
   "source": [
    "# roughly\n",
    "17 / 0.3"
   ]
  },
  {
   "cell_type": "markdown",
   "id": "e72d435b",
   "metadata": {},
   "source": [
    "## Parallelizing standard ODE routine\n",
    "\n",
    "I think for more fair speed comparison we should parallelize the standard ODE execution to try to make use of more cores."
   ]
  },
  {
   "cell_type": "code",
   "execution_count": 51,
   "id": "bb5ddb02",
   "metadata": {},
   "outputs": [],
   "source": [
    "ham = HamiltonianModel(operators=[H0_B, Hdc_B, Hdt_B])\n",
    "#ham.frame = H0_B\n",
    "n_steps = 100\n",
    "\n",
    "\n",
    "y0 = np.eye(dim**2, dtype=complex)\n",
    "\n",
    "def full_sim_parallel(amps, phases, pre_rot, post_rot):\n",
    "    cr_amp = amps[0]\n",
    "    cr_phase = phases[0]\n",
    "    rotary_amp = amps[1]\n",
    "    rotary_phase = phases[1]\n",
    "    bipolar_amp = amps[2] \n",
    "    bipolar_phase = phases[2]\n",
    "    ham_copy = ham.copy()\n",
    "    cr_signal = Signal(lambda t: gaussian_square(t, cr_amp, sigma, risefall, T), \n",
    "                       carrier_freq=v_t, \n",
    "                       phase=cr_phase)\n",
    "    rotary_signal = Signal(lambda t: gaussian_square(t, rotary_amp, sigma, risefall, T), \n",
    "                           carrier_freq=v_t,\n",
    "                           phase=rotary_phase)\n",
    "    bipolar_signal = Signal(lambda t: bipolar_gaussian_square(t, bipolar_amp, sigma, risefall, T), \n",
    "                            carrier_freq=v_t,\n",
    "                            phase=bipolar_phase)\n",
    "    \n",
    "    target_signal = (rotary_signal + bipolar_signal).flatten()\n",
    "    ham_copy.signals = [1., cr_signal, target_signal]\n",
    "    ham_copy.frame = ham_copy.drift\n",
    "    \n",
    "    dt = T / n_steps\n",
    "    def single_sim(k):\n",
    "        return solve_lmde(ham_copy, \n",
    "                     t_span=[k * dt, (k + 1) * dt],\n",
    "                     y0=y0,\n",
    "                     method='jax_odeint',\n",
    "                     atol=1e-8,\n",
    "                     rtol=1e-8).y[-1]\n",
    "    \n",
    "    Us = vmap(single_sim)(jnp.flip(jnp.arange(n_steps)))\n",
    "\n",
    "    U = associative_scan(jnp.matmul, Us, axis=0)[-1]\n",
    "\n",
    "    return jexpm(-1j * (post_rot[0] * IZ + post_rot[1] * ZI)) @ U @ jexpm(-1j * (pre_rot[0] * IZ + pre_rot[1] * ZI))\n"
   ]
  },
  {
   "cell_type": "code",
   "execution_count": 52,
   "id": "a76b59c7",
   "metadata": {},
   "outputs": [],
   "source": [
    "def obj_parallel(x):\n",
    "    amps = x[0:3]\n",
    "    phases = x[3:7]\n",
    "    pre_rot = x[7:9]\n",
    "    post_rot = x[9:]\n",
    "    \n",
    "    U = full_sim_parallel(amps, phases, pre_rot, post_rot)\n",
    "    \n",
    "    return 1 - fidelity(U)"
   ]
  },
  {
   "cell_type": "code",
   "execution_count": 53,
   "id": "c0169775",
   "metadata": {},
   "outputs": [],
   "source": [
    "jit_obj_parallel = jit(obj_parallel)\n",
    "grad_obj_parallel = jit(value_and_grad(obj_parallel))\n",
    "\n",
    "x0=[1.4, 0., 0.3, 0., 0., 0., 0., 0., 0., 0.]\n",
    "\n",
    "#start = time()\n",
    "# needs x vals need to be 1d\n",
    "#res = minimize(grad_obj_parallel, x0=x0, method='BFGS', jac=True)\n",
    "#print('time taken: ' + str(time() - start))\n",
    "\n",
    "#print(res)"
   ]
  },
  {
   "cell_type": "code",
   "execution_count": 54,
   "id": "fed90040",
   "metadata": {},
   "outputs": [
    {
     "name": "stdout",
     "output_type": "stream",
     "text": [
      "47.6769380569458\n"
     ]
    }
   ],
   "source": [
    "start = time()\n",
    "grad_obj_parallel(res.x)[0].block_until_ready()\n",
    "print(time() - start)"
   ]
  },
  {
   "cell_type": "markdown",
   "id": "03065a7e",
   "metadata": {},
   "source": [
    "Some weird stuff is going on here... I think this is the `vmap` + `odeint` issue - it won't use nearly as much CPU as the dysolve version - doesn't seem to matter how many steps I put, but adding more steps even makes things slower."
   ]
  },
  {
   "cell_type": "code",
   "execution_count": null,
   "id": "97b382e1",
   "metadata": {},
   "outputs": [],
   "source": []
  }
 ],
 "metadata": {
  "kernelspec": {
   "display_name": "Python 3",
   "language": "python",
   "name": "python3"
  },
  "language_info": {
   "codemirror_mode": {
    "name": "ipython",
    "version": 3
   },
   "file_extension": ".py",
   "mimetype": "text/x-python",
   "name": "python",
   "nbconvert_exporter": "python",
   "pygments_lexer": "ipython3",
   "version": "3.9.4"
  }
 },
 "nbformat": 4,
 "nbformat_minor": 5
}
