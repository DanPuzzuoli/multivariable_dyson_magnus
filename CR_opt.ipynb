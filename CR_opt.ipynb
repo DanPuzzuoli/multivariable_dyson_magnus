{
 "cells": [
  {
   "cell_type": "markdown",
   "id": "a9f09f62",
   "metadata": {},
   "source": [
    "General notes:\n",
    "- This is highlighting a further point that the perturbation stuff is really about full unitary/super op simulation. The benefits of this approach are most stark in that regime - for single state simulation it seems to not provide enough of a speed up (i.e. for unitary simulation we can observe more than 10x speed up (with right parameters I've seen more than 25x), but for single input state simulation it's more like 2-3x, which I don't personally think is enough to justify its use given the compilation cost)\n",
    "\n",
    "\n",
    "3 is control, 5 is target\n",
    "\n",
    "steps:\n",
    "- compute the dressed frequencies\n",
    "\n",
    "pulses:\n",
    "- CR is gaussian square on control at \"freq of target\"\n",
    "- Rotary echo is on target with \"freq of target\"\n",
    "- Bipolar guassian square/antisymmetric thing is on target with \"freq of target\"\n",
    "\n",
    "\n",
    "# This notebook\n",
    "\n",
    "This notebook sets up an objective function for a CR gate in 3 ways:\n",
    "- Using dense arrays\n",
    "- Using sparse arrays\n",
    "- Using a specialized Dyson-expansion based solver\n",
    "\n",
    "and compare the speed of the three of these."
   ]
  },
  {
   "cell_type": "code",
   "execution_count": 1,
   "id": "4849454f",
   "metadata": {},
   "outputs": [],
   "source": [
    "from time import time\n",
    "\n",
    "import numpy as np\n",
    "import scipy as sp\n",
    "\n",
    "import jax.numpy as jnp\n",
    "from jax import jit, grad, value_and_grad, vmap\n",
    "from jax.scipy.special import erf\n",
    "from jax.lax import cond, associative_scan\n",
    "from jax.scipy.linalg import expm as jexpm\n",
    "from jax.config import config\n",
    "from jax.ops import index_update\n",
    "config.update(\"jax_enable_x64\", True)\n",
    "\n",
    "from qiskit.quantum_info import Operator\n",
    "\n",
    "from qiskit_dynamics import Solver, Signal\n",
    "from qiskit_dynamics_internal.perturbation.perturbative_solvers import PerturbativeSolver\n",
    "\n",
    "from qiskit_dynamics import dispatch\n",
    "from qiskit_dynamics.array import Array\n",
    "\n",
    "dispatch.set_default_backend('jax')"
   ]
  },
  {
   "cell_type": "markdown",
   "id": "fda804f8",
   "metadata": {},
   "source": [
    "# 1. Define envelope functions"
   ]
  },
  {
   "cell_type": "code",
   "execution_count": 2,
   "id": "fd39cff5",
   "metadata": {},
   "outputs": [],
   "source": [
    "def gaussian_square(t, amp, sigma, risefall, T):\n",
    "    \"\"\"Gaussian square pulse.\"\"\"\n",
    "    \n",
    "    t = Array(t).data\n",
    "    C = jnp.exp(-(2*risefall*sigma)**2/(8*sigma**2))\n",
    "    den = (jnp.sqrt(jnp.pi*2*sigma**2)*erf(2*risefall*sigma/(jnp.sqrt(8)*sigma))-2*risefall*sigma*C)\n",
    "    return amp * jnp.piecewise(t,\n",
    "                         condlist=[t < (risefall * sigma), (T - t) < (risefall * sigma)],\n",
    "                         funclist=[lambda s: (jnp.exp(-(s-sigma*risefall)**2/(2*sigma**2))-C)/den,\n",
    "                                   lambda s: (jnp.exp(-(T-s-sigma*risefall)**2/(2*sigma**2))-C)/den,\n",
    "                                   lambda s: (1-C)/den]\n",
    "                        )\n",
    "\n",
    "def bipolar_gaussian_square(t, amp, sigma, risefall, T):\n",
    "    t = Array(t).data\n",
    "    unipolar = lambda s: gaussian_square(s, amp, sigma, risefall, T/2)\n",
    "    return jnp.piecewise(t,\n",
    "                         condlist=[t < (T/2)],\n",
    "                         funclist=[unipolar, lambda s: -unipolar(s - T/2)])"
   ]
  },
  {
   "cell_type": "markdown",
   "id": "23b3c588",
   "metadata": {},
   "source": [
    "Set some parameters."
   ]
  },
  {
   "cell_type": "code",
   "execution_count": 3,
   "id": "90aa42a6",
   "metadata": {},
   "outputs": [
    {
     "name": "stderr",
     "output_type": "stream",
     "text": [
      "WARNING:absl:No GPU/TPU found, falling back to CPU. (Set TF_CPP_MIN_LOG_LEVEL=0 and rerun for more info.)\n"
     ]
    }
   ],
   "source": [
    "T = 300.\n",
    "risefall = 2.\n",
    "sigma = 15.\n",
    "amp=4.\n",
    "\n",
    "test = jnp.vectorize(lambda t: bipolar_gaussian_square(t, amp, sigma, risefall, T))\n",
    "\n",
    "sig = Signal(test)"
   ]
  },
  {
   "cell_type": "markdown",
   "id": "d7c691f4",
   "metadata": {},
   "source": [
    "## 1.1 Compare to original function"
   ]
  },
  {
   "cell_type": "code",
   "execution_count": 4,
   "id": "2da67fc0",
   "metadata": {},
   "outputs": [],
   "source": [
    "def pulseFunction(t,amp,T,sigma,risefall,shape=\"GaussianSquare\"):\n",
    "    if t>T: return 0\n",
    "    elif shape==\"GaussianSquare\":\n",
    "      C=np.exp(-(2*risefall*sigma)**2/(8*sigma**2));\n",
    "      den=(np.sqrt(np.pi*2*sigma**2)*sp.special.erf(2*risefall*sigma/(np.sqrt(8)*sigma))-2*risefall*sigma*C)\n",
    "      if t<risefall*sigma:\n",
    "        temp=amp*(np.exp(-(t-sigma*risefall)**2/(2*sigma**2))-C)/den\n",
    "        return temp\n",
    "      elif T-t<risefall*sigma: return amp*(np.exp(-(T-t-sigma*risefall)**2/(2*sigma**2))-C)/den\n",
    "      else: return amp*(1-C)/den\n",
    "    elif shape==\"BipolarGaussianSquare\":\n",
    "      C=np.exp(-(2*risefall*sigma)**2/(8*sigma**2));\n",
    "      den=(np.sqrt(np.pi*2*sigma**2)*sp.special.erf(2*risefall*sigma/(np.sqrt(8)*sigma))-2*risefall*sigma*C)\n",
    "      if t<risefall*sigma:\n",
    "        temp=amp*(np.exp(-(t-sigma*risefall)**2/(2*sigma**2))-C)/den\n",
    "        return temp\n",
    "      elif t<T/2-risefall*sigma: return amp*(1-C)/den\n",
    "      elif t<T/2: return amp*(np.exp(-(T/2-t-sigma*risefall)**2/(2*sigma**2))-C)/den\n",
    "      elif t<T/2+risefall*sigma: return -1*amp*(np.exp(-((t-T/2)-sigma*risefall)**2/(2*sigma**2))-C)/den\n",
    "      elif t<T-risefall*sigma: return -1*amp*(1-C)/den\n",
    "      elif T-t<risefall*sigma: return -1*amp*(np.exp(-(T-t-sigma*risefall)**2/(2*sigma**2))-C)/den\n",
    "      else: return 0\n",
    "    else: raise Exception('type: ' + shape + ' is unsupported :(')"
   ]
  },
  {
   "cell_type": "code",
   "execution_count": 5,
   "id": "e373e53d",
   "metadata": {},
   "outputs": [],
   "source": [
    "sig2 = Signal(np.vectorize(lambda t: pulseFunction(t, amp, T, sigma, risefall, \"BipolarGaussianSquare\")))"
   ]
  },
  {
   "cell_type": "code",
   "execution_count": 6,
   "id": "44227202",
   "metadata": {},
   "outputs": [
    {
     "data": {
      "image/png": "[encoded data removed]",
      "text/plain": [
       "<Figure size 432x288 with 1 Axes>"
      ]
     },
     "metadata": {
      "needs_background": "light"
     },
     "output_type": "display_data"
    }
   ],
   "source": [
    "sig.draw(0, 300, 500, function='envelope')\n",
    "sig2.draw(0, 300, 500, function='envelope')"
   ]
  },
  {
   "cell_type": "markdown",
   "id": "ab2f3dba",
   "metadata": {},
   "source": [
    "# 2. Construct model operators\n",
    "\n",
    "Input data\n",
    "\n",
    "```\n",
    "inputDict = {'systemDict': {'elementDict':\n",
    "{0: {'label': 'q3', 'dim': 5, 'freq': 5.105,'anharmonicity': -0.33534, 'T1': 100.17, 'T2': 71.25},\n",
    "1: {'label': 'q5', 'dim': 5, 'freq': 5.033, 'anharmonicity': -0.33834, 'T1': 79.34, 'T2': 71.89}},\n",
    "'couplingDict': {0: {'label1': 'q10', 'label2': 'q12', 'strength': 0.002}}},\n",
    "'gateDict': {'qubits': ['q3', 'q5'], 'sigma': 15, 'risefall': 2, 'gatetime'300}\n",
    "```"
   ]
  },
  {
   "cell_type": "code",
   "execution_count": 7,
   "id": "4d775dcf",
   "metadata": {},
   "outputs": [],
   "source": [
    "w_c = 2 * np.pi * 5.105\n",
    "w_t = 2 * np.pi * 5.033\n",
    "alpha_c = 2 * np.pi * (-0.33534)\n",
    "alpha_t = 2 * np.pi * (-0.33834)\n",
    "J = 2 * np.pi * 0.002\n",
    "\n",
    "dim = 5\n",
    "\n",
    "a = np.diag(np.sqrt(np.arange(1, dim)), 1)\n",
    "adag = a.transpose()\n",
    "N = np.diag(np.arange(dim))\n",
    "ident = np.eye(dim)\n",
    "ident2 = np.eye(dim**2)\n",
    "\n",
    "# operators on the control qubit (first tensor factor)\n",
    "a0 = np.kron(a, ident)\n",
    "adag0 = np.kron(adag, ident)\n",
    "N0 = np.kron(N, ident)\n",
    "\n",
    "# operators on the target qubit (first tensor factor)\n",
    "a1 = np.kron(ident, a)\n",
    "adag1 = np.kron(ident, adag)\n",
    "N1 = np.kron(ident, N)"
   ]
  },
  {
   "cell_type": "code",
   "execution_count": 8,
   "id": "daf0f7f6",
   "metadata": {},
   "outputs": [],
   "source": [
    "H0 = (w_c * N0 + 0.5 * alpha_c * N0 @ (N0 - ident2)\n",
    "      + w_t * N1 + 0.5 * alpha_t * N1 @ (N1 - ident2)\n",
    "      + J * (a0 @ adag1 + adag0 @ a1))\n",
    "Hdc = 2 * np.pi * (a0 + adag0)\n",
    "Hdt = 2 * np.pi * (a1 + adag1)"
   ]
  },
  {
   "cell_type": "markdown",
   "id": "c4ecc796",
   "metadata": {},
   "source": [
    "## 2.1 Diagonalize `H0` and extract computational states and frequencies"
   ]
  },
  {
   "cell_type": "code",
   "execution_count": 9,
   "id": "ed648956",
   "metadata": {},
   "outputs": [],
   "source": [
    "def basis_vec(ind, dimension):\n",
    "    vec = np.zeros(dimension, dtype=complex)\n",
    "    vec[ind] = 1.\n",
    "    return vec\n",
    "\n",
    "def two_q_basis_vec(inda, indb, dimension):\n",
    "    vec_a = basis_vec(inda, dimension)\n",
    "    vec_b = basis_vec(indb, dimension)\n",
    "    return np.kron(vec_a, vec_b)\n",
    "\n",
    "def get_dressed_state_index(inda, indb, dimension, evectors):\n",
    "    b_vec = two_q_basis_vec(inda, indb, dimension)\n",
    "    overlaps = np.abs(evectors @ b_vec)\n",
    "    return overlaps.argmax()\n",
    "\n",
    "def get_dressed_state_and_energy(inda, indb, dimension, evecs):\n",
    "    ind = get_dressed_state_index(inda, indb, dimension, evecs)\n",
    "    return evals[ind], evecs[ind]"
   ]
  },
  {
   "cell_type": "code",
   "execution_count": 10,
   "id": "76d9fef8",
   "metadata": {},
   "outputs": [],
   "source": [
    "evals, B = jnp.linalg.eigh(H0)\n",
    "Badj = B.conj().transpose()\n",
    "\n",
    "E00, dressed00 = get_dressed_state_and_energy(0, 0, dim, B.transpose())\n",
    "E01, dressed01 = get_dressed_state_and_energy(0, 1, dim, B.transpose())\n",
    "E10, dressed10 = get_dressed_state_and_energy(1, 0, dim, B.transpose())\n",
    "E11, dressed11 = get_dressed_state_and_energy(1, 1, dim, B.transpose())\n",
    "\n",
    "# \"target dressed frequency\"\n",
    "v_t = E01 / (2 * np.pi)"
   ]
  },
  {
   "cell_type": "markdown",
   "id": "5d8b9776",
   "metadata": {},
   "source": [
    "Model operators in basis in which `H0` is diagonal."
   ]
  },
  {
   "cell_type": "code",
   "execution_count": 11,
   "id": "ca516789",
   "metadata": {},
   "outputs": [],
   "source": [
    "H0_B = Badj @ H0 @ B\n",
    "Hdc_B = Badj @ Hdc @ B\n",
    "Hdt_B = Badj @ Hdt @ B"
   ]
  },
  {
   "cell_type": "markdown",
   "id": "6a3bf816",
   "metadata": {},
   "source": [
    "## 2.2 Construct Pauli operators for computational subspace"
   ]
  },
  {
   "cell_type": "code",
   "execution_count": 12,
   "id": "93005c81",
   "metadata": {},
   "outputs": [],
   "source": [
    "idx00 = 0\n",
    "idx01 = get_dressed_state_index(0, 1, dim, B.transpose())\n",
    "idx10 = get_dressed_state_index(1, 0, dim, B.transpose())\n",
    "idx11 = get_dressed_state_index(1, 1, dim, B.transpose())\n",
    "\n",
    "e00 = np.zeros(dim**2, dtype=complex)\n",
    "e00[0] = 1.\n",
    "e10 = np.zeros(dim**2, dtype=complex)\n",
    "e10[idx10] = 1.\n",
    "e01 = np.zeros(dim**2, dtype=complex)\n",
    "e01[idx01] = 1.\n",
    "e11 = np.zeros(dim**2, dtype=complex)\n",
    "e11[idx11] = 1.\n",
    "\n",
    "# set up observables\n",
    "S = np.array([e00, e01, e10, e11]).transpose()\n",
    "Sdag = S.conj().transpose()\n",
    "\n",
    "II = S @ Sdag\n",
    "IX = S @ np.array(Operator.from_label('IX')) @ Sdag\n",
    "IY = S @ np.array(Operator.from_label('IY')) @ Sdag\n",
    "IZ = S @ np.array(Operator.from_label('IZ')) @ Sdag\n",
    "XI = S @ np.array(Operator.from_label('XI')) @ Sdag\n",
    "XX = S @ np.array(Operator.from_label('XX')) @ Sdag\n",
    "XY = S @ np.array(Operator.from_label('XY')) @ Sdag\n",
    "XZ = S @ np.array(Operator.from_label('XZ')) @ Sdag\n",
    "YI = S @ np.array(Operator.from_label('YI')) @ Sdag\n",
    "YX = S @ np.array(Operator.from_label('YX')) @ Sdag\n",
    "YY = S @ np.array(Operator.from_label('YY')) @ Sdag\n",
    "YZ = S @ np.array(Operator.from_label('YZ')) @ Sdag\n",
    "ZI = S @ np.array(Operator.from_label('ZI')) @ Sdag\n",
    "ZX = S @ np.array(Operator.from_label('ZX')) @ Sdag\n",
    "ZY = S @ np.array(Operator.from_label('ZY')) @ Sdag\n",
    "ZZ = S @ np.array(Operator.from_label('ZZ')) @ Sdag"
   ]
  },
  {
   "cell_type": "markdown",
   "id": "14f46ecb",
   "metadata": {},
   "source": [
    "# 3. Dense simulation and optimization\n",
    "\n",
    "For dense simulation, we work in the basis in which `H0` is diagonal, and simulate in the frame of the static hamiltonian.\n",
    "\n",
    "Question: should the initial state here actually just be `S` since we only care about the computational subspace? Could affect scaling quite a bit."
   ]
  },
  {
   "cell_type": "code",
   "execution_count": 13,
   "id": "2679ce0e",
   "metadata": {},
   "outputs": [],
   "source": [
    "dense_solver = Solver(static_hamiltonian=H0_B,\n",
    "                      hamiltonian_operators=[Hdc_B, Hdt_B],\n",
    "                      rotating_frame=H0_B)\n",
    "\n",
    "y0 = np.eye(dim**2, dtype=complex)\n",
    "\n",
    "def full_sim(amps, phases, pre_rot, post_rot):\n",
    "    cr_amp = amps[0]\n",
    "    cr_phase = phases[0]\n",
    "    rotary_amp = amps[1]\n",
    "    rotary_phase = phases[1]\n",
    "    bipolar_amp = amps[2] \n",
    "    bipolar_phase = phases[2]\n",
    "    cr_signal = Signal(lambda t: gaussian_square(t, cr_amp, sigma, risefall, T), \n",
    "                       carrier_freq=v_t, \n",
    "                       phase=cr_phase)\n",
    "    rotary_signal = Signal(lambda t: gaussian_square(t, rotary_amp, sigma, risefall, T), \n",
    "                           carrier_freq=v_t,\n",
    "                           phase=rotary_phase)\n",
    "    bipolar_signal = Signal(lambda t: bipolar_gaussian_square(t, bipolar_amp, sigma, risefall, T), \n",
    "                            carrier_freq=v_t,\n",
    "                            phase=bipolar_phase)\n",
    "    \n",
    "    target_signal = (rotary_signal + bipolar_signal).flatten()\n",
    "    \n",
    "    solver_copy = dense_solver.copy()\n",
    "    \n",
    "    solver_copy.signals = [cr_signal, target_signal]\n",
    "    results = solver_copy.solve(t_span=[0, T],\n",
    "                                y0=y0,\n",
    "                                method='jax_odeint')\n",
    "    \n",
    "    U = results.y[-1]\n",
    "\n",
    "    return jexpm(-1j * (post_rot[0] * IZ + post_rot[1] * ZI)) @ U @ jexpm(-1j * (pre_rot[0] * IZ + pre_rot[1] * ZI))\n"
   ]
  },
  {
   "cell_type": "markdown",
   "id": "23d806a1",
   "metadata": {},
   "source": [
    "Construct fidelity function to target unitary."
   ]
  },
  {
   "cell_type": "code",
   "execution_count": 14,
   "id": "a56efcc8",
   "metadata": {},
   "outputs": [],
   "source": [
    "target = S @ jexpm(-1j * np.array(Operator.from_label('ZX')) * jnp.pi / 4) @ Sdag\n",
    "target_conj = target.conj()\n",
    "\n",
    "def fidelity(U):\n",
    "    return jnp.abs(jnp.sum(target_conj * U))**2 / (4**2)"
   ]
  },
  {
   "cell_type": "markdown",
   "id": "2eeda784",
   "metadata": {},
   "source": [
    "Construct full objective function."
   ]
  },
  {
   "cell_type": "code",
   "execution_count": 15,
   "id": "9066e571",
   "metadata": {},
   "outputs": [],
   "source": [
    "def obj(x):\n",
    "    # extract parameters\n",
    "    amps = x[0:3]\n",
    "    phases = x[3:6]\n",
    "    pre_rot = x[6:8]\n",
    "    post_rot = x[8:]\n",
    "    \n",
    "    # run simulation\n",
    "    U = full_sim(amps, phases, pre_rot, post_rot)\n",
    "    \n",
    "    # compute fidelity\n",
    "    return 1 - fidelity(U)\n",
    "\n",
    "# compile and differentiate\n",
    "jit_obj = jit(obj)\n",
    "grad_obj = jit(value_and_grad(obj))"
   ]
  },
  {
   "cell_type": "markdown",
   "id": "a9d99a85",
   "metadata": {},
   "source": [
    "## 3.1 Time to compute objective and gradients"
   ]
  },
  {
   "cell_type": "markdown",
   "id": "8f61cbae",
   "metadata": {},
   "source": [
    "Time to compute objective."
   ]
  },
  {
   "cell_type": "code",
   "execution_count": 16,
   "id": "7be9c2b4",
   "metadata": {},
   "outputs": [
    {
     "name": "stdout",
     "output_type": "stream",
     "text": [
      "compile + simulate time: 6.550750970840454\n",
      "compiled simulation time: 2.2274842262268066\n"
     ]
    }
   ],
   "source": [
    "x0=jnp.array([1.4, 0., 0.3, 0., 0., 0., 0., 0., 0., 0.])\n",
    "\n",
    "start = time()\n",
    "jit_obj(x0).block_until_ready()\n",
    "print('compile + simulate time: ' + str(time() - start))\n",
    "\n",
    "start = time()\n",
    "jit_obj(x0).block_until_ready()\n",
    "print('compiled simulation time: ' + str(time() - start))"
   ]
  },
  {
   "cell_type": "markdown",
   "id": "edf9a70a",
   "metadata": {},
   "source": [
    "Time to compute gradient."
   ]
  },
  {
   "cell_type": "code",
   "execution_count": 17,
   "id": "ded3b0fa",
   "metadata": {},
   "outputs": [
    {
     "name": "stdout",
     "output_type": "stream",
     "text": [
      "compile + simulate time: 17.697789907455444\n",
      "compiled simulation time: 6.861664056777954\n"
     ]
    }
   ],
   "source": [
    "start = time()\n",
    "grad_obj(x0)[0].block_until_ready()\n",
    "print('compile + simulate time: ' + str(time() - start))\n",
    "\n",
    "start = time()\n",
    "grad_obj(x0)[0].block_until_ready()\n",
    "print('compiled simulation time: ' + str(time() - start))"
   ]
  },
  {
   "cell_type": "markdown",
   "id": "18022b7c",
   "metadata": {},
   "source": [
    "## 3.2 Optimize the objective\n",
    "\n",
    "I don't know how important this actually is - the speed of the computation is the most important."
   ]
  },
  {
   "cell_type": "code",
   "execution_count": 18,
   "id": "b5cecd8b",
   "metadata": {},
   "outputs": [
    {
     "name": "stdout",
     "output_type": "stream",
     "text": [
      "time taken: 697.4565000534058\n",
      "      fun: 0.00015802292366406956\n",
      " hess_inv: array([[ 1.41694852e+02, -1.54001469e+00, -1.20833151e+00,\n",
      "        -4.99960991e+01, -8.16764011e+00,  4.79920304e+01,\n",
      "        -1.12911742e+01,  1.08067201e+03,  1.04699669e+01,\n",
      "         1.08067201e+03],\n",
      "       [-1.54001469e+00,  3.57372210e-02,  2.35467117e-02,\n",
      "         2.87785565e-01,  7.13197275e-01, -7.64158835e-01,\n",
      "         2.55264597e-01, -1.17358890e+01, -2.34178799e-01,\n",
      "        -1.17358890e+01],\n",
      "       [-1.20833151e+00,  2.35467117e-02,  8.24678008e-02,\n",
      "         3.07500180e-01,  3.95393304e-01, -5.12874463e-01,\n",
      "         2.12811486e-01, -9.21973169e+00, -1.79483026e-01,\n",
      "        -9.21973169e+00],\n",
      "       [-4.99960991e+01,  2.87785565e-01,  3.07500180e-01,\n",
      "         2.20249633e+01, -6.12303779e+00, -1.32307736e+01,\n",
      "         1.97860442e+00, -3.81372103e+02, -1.85944795e+00,\n",
      "        -3.81372103e+02],\n",
      "       [-8.16764011e+00,  7.13197275e-01,  3.95393304e-01,\n",
      "        -6.12303779e+00,  2.37264207e+01, -1.14727227e+01,\n",
      "         5.44903253e+00, -6.20150122e+01, -4.90752132e+00,\n",
      "        -6.20150122e+01],\n",
      "       [ 4.79920304e+01, -7.64158835e-01, -5.12874463e-01,\n",
      "        -1.32307736e+01, -1.14727227e+01,  2.03056738e+01,\n",
      "        -5.87046588e+00,  3.65882788e+02,  5.41118661e+00,\n",
      "         3.65882788e+02],\n",
      "       [-1.12911742e+01,  2.55264597e-01,  2.12811486e-01,\n",
      "         1.97860442e+00,  5.44903253e+00, -5.87046588e+00,\n",
      "         2.46867896e+00, -8.60338674e+01, -1.76210154e+00,\n",
      "        -8.60338674e+01],\n",
      "       [ 1.08067201e+03, -1.17358890e+01, -9.21973169e+00,\n",
      "        -3.81372103e+02, -6.20150122e+01,  3.65882788e+02,\n",
      "        -8.60338674e+01,  8.24271130e+03,  7.97868238e+01,\n",
      "         8.24171130e+03],\n",
      "       [ 1.04699669e+01, -2.34178799e-01, -1.79483026e-01,\n",
      "        -1.85944795e+00, -4.90752132e+00,  5.41118661e+00,\n",
      "        -1.76210154e+00,  7.97868238e+01,  2.05717301e+00,\n",
      "         7.97868238e+01],\n",
      "       [ 1.08067201e+03, -1.17358890e+01, -9.21973169e+00,\n",
      "        -3.81372103e+02, -6.20150122e+01,  3.65882788e+02,\n",
      "        -8.60338674e+01,  8.24171130e+03,  7.97868238e+01,\n",
      "         8.24271130e+03]])\n",
      "      jac: array([ 5.40514464e-04, -3.33281994e-04,  1.42073328e-04, -5.12889794e-05,\n",
      "       -3.55848780e-08,  1.89024242e-05, -3.87449866e-05, -3.71546586e-05,\n",
      "        2.61800156e-05, -3.71546586e-05])\n",
      "  message: 'Desired error not necessarily achieved due to precision loss.'\n",
      "     nfev: 104\n",
      "      nit: 50\n",
      "     njev: 92\n",
      "   status: 2\n",
      "  success: False\n",
      "        x: array([ 1.27524284, -0.01339849,  0.28255557, -0.18685046, -0.48040595,\n",
      "        0.49836004, -0.18143596, -1.00821259,  0.15600543, -1.00821259])\n"
     ]
    }
   ],
   "source": [
    "from scipy.optimize import minimize\n",
    "\n",
    "# initial guess\n",
    "x0=[1.4, 0., 0.3, 0., 0., 0., 0., 0., 0., 0.]\n",
    "\n",
    "start = time()\n",
    "# needs x vals need to be 1d\n",
    "res = minimize(grad_obj, x0=x0, method='BFGS', jac=True)\n",
    "print('time taken: ' + str(time() - start))\n",
    "\n",
    "print(res)"
   ]
  },
  {
   "cell_type": "markdown",
   "id": "b78dccbc",
   "metadata": {},
   "source": [
    "# 3. Sparse simulation and optimization\n",
    "\n",
    "Simulation with sparse arrays needs to be setup in the standard basis, and simulated in the frame of the diagonal of `H0`, rather than all of `H0`, to preserve sparsity."
   ]
  },
  {
   "cell_type": "code",
   "execution_count": 19,
   "id": "880bc4b7",
   "metadata": {},
   "outputs": [],
   "source": [
    "sparse_solver = Solver(static_hamiltonian=H0,\n",
    "                       hamiltonian_operators=[Hdc, Hdt],\n",
    "                       rotating_frame=np.diag(H0),\n",
    "                       evaluation_mode='sparse')\n",
    "\n",
    "# simulate the identity\n",
    "y0_sparse = B @ y0\n",
    "\n",
    "def full_sim_sparse(amps, phases, pre_rot, post_rot):\n",
    "    cr_amp = amps[0]\n",
    "    cr_phase = phases[0]\n",
    "    rotary_amp = amps[1]\n",
    "    rotary_phase = phases[1]\n",
    "    bipolar_amp = amps[2] \n",
    "    bipolar_phase = phases[2]\n",
    "    cr_signal = Signal(lambda t: gaussian_square(t, cr_amp, sigma, risefall, T), \n",
    "                       carrier_freq=v_t, \n",
    "                       phase=cr_phase)\n",
    "    rotary_signal = Signal(lambda t: gaussian_square(t, rotary_amp, sigma, risefall, T), \n",
    "                           carrier_freq=v_t,\n",
    "                           phase=rotary_phase)\n",
    "    bipolar_signal = Signal(lambda t: bipolar_gaussian_square(t, bipolar_amp, sigma, risefall, T), \n",
    "                            carrier_freq=v_t,\n",
    "                            phase=bipolar_phase)\n",
    "    \n",
    "    target_signal = (rotary_signal + bipolar_signal).flatten()\n",
    "\n",
    "    solver_copy = sparse_solver.copy()\n",
    "    \n",
    "    solver_copy.signals = [cr_signal, target_signal]\n",
    "    results = solver_copy.solve(t_span=[0, T],\n",
    "                                y0=y0_sparse,\n",
    "                                method='jax_odeint')\n",
    "    \n",
    "    U = results.y[-1]\n",
    "    \n",
    "    # convert to correct frame/basis\n",
    "    # take U out of current frame\n",
    "    U = Array(Badj) @ solver_copy.model.rotating_frame.state_out_of_frame(T, U)\n",
    "    # put U into same frame as dense, in the same basis\n",
    "    U = Array(dense_solver.model.rotating_frame.state_into_frame(T, U)).data\n",
    "\n",
    "    return jexpm(-1j * (post_rot[0] * IZ + post_rot[1] * ZI)) @ U @ jexpm(-1j * (pre_rot[0] * IZ + pre_rot[1] * ZI))\n"
   ]
  },
  {
   "cell_type": "markdown",
   "id": "269f1a2e",
   "metadata": {},
   "source": [
    "Set up objective."
   ]
  },
  {
   "cell_type": "code",
   "execution_count": 20,
   "id": "2f392456",
   "metadata": {},
   "outputs": [],
   "source": [
    "def full_sim_U_sparse(x):\n",
    "    amps = x[0:3]\n",
    "    phases = x[3:6]\n",
    "    pre_rot = x[6:8]\n",
    "    post_rot = x[8:]\n",
    "    \n",
    "    U = full_sim_sparse(amps, phases, pre_rot, post_rot)\n",
    "    return U\n",
    "\n",
    "def obj_sparse(x):\n",
    "    U = full_sim_U_sparse(x)\n",
    "    \n",
    "    return 1 - fidelity(U)\n",
    "\n",
    "# compile and differentiate\n",
    "jit_obj_sparse = jit(obj_sparse)\n",
    "grad_obj_sparse = jit(value_and_grad(obj_sparse))"
   ]
  },
  {
   "cell_type": "markdown",
   "id": "4a230fdd",
   "metadata": {},
   "source": [
    "## 4.1 Time to compute objective and gradients\n",
    "\n",
    "Time to compute objective."
   ]
  },
  {
   "cell_type": "code",
   "execution_count": 21,
   "id": "3122b1d0",
   "metadata": {},
   "outputs": [
    {
     "name": "stdout",
     "output_type": "stream",
     "text": [
      "compile + simulate time: 5.823290109634399\n",
      "compiled simulation time: 1.827211856842041\n"
     ]
    }
   ],
   "source": [
    "x0=jnp.array([1.4, 0., 0.3, 0., 0., 0., 0., 0., 0., 0.])\n",
    "\n",
    "start = time()\n",
    "jit_obj_sparse(x0).block_until_ready()\n",
    "print('compile + simulate time: ' + str(time() - start))\n",
    "\n",
    "start = time()\n",
    "jit_obj_sparse(x0).block_until_ready()\n",
    "print('compiled simulation time: ' + str(time() - start))"
   ]
  },
  {
   "cell_type": "markdown",
   "id": "5ace4ab6",
   "metadata": {},
   "source": [
    "Time to compute gradient."
   ]
  },
  {
   "cell_type": "code",
   "execution_count": 22,
   "id": "cce3d24f",
   "metadata": {},
   "outputs": [
    {
     "name": "stdout",
     "output_type": "stream",
     "text": [
      "compile + simulate time: 23.192317962646484\n",
      "compiled simulation time: 6.97125506401062\n"
     ]
    }
   ],
   "source": [
    "start = time()\n",
    "grad_obj_sparse(x0)[0].block_until_ready()\n",
    "print('compile + simulate time: ' + str(time() - start))\n",
    "\n",
    "start = time()\n",
    "grad_obj_sparse(x0)[0].block_until_ready()\n",
    "print('compiled simulation time: ' + str(time() - start))"
   ]
  },
  {
   "cell_type": "markdown",
   "id": "7c6e784c",
   "metadata": {},
   "source": [
    "## 4.2 Optimize the objective\n",
    "\n",
    "Is this necessary?"
   ]
  },
  {
   "cell_type": "code",
   "execution_count": 23,
   "id": "fc8bbff7",
   "metadata": {},
   "outputs": [
    {
     "name": "stdout",
     "output_type": "stream",
     "text": [
      "time taken: 627.8860149383545\n",
      "      fun: 0.00015802292366406956\n",
      " hess_inv: array([[ 1.41694852e+02, -1.54001469e+00, -1.20833151e+00,\n",
      "        -4.99960991e+01, -8.16764011e+00,  4.79920304e+01,\n",
      "        -1.12911742e+01,  1.08067201e+03,  1.04699669e+01,\n",
      "         1.08067201e+03],\n",
      "       [-1.54001469e+00,  3.57372210e-02,  2.35467117e-02,\n",
      "         2.87785565e-01,  7.13197275e-01, -7.64158835e-01,\n",
      "         2.55264597e-01, -1.17358890e+01, -2.34178799e-01,\n",
      "        -1.17358890e+01],\n",
      "       [-1.20833151e+00,  2.35467117e-02,  8.24678008e-02,\n",
      "         3.07500180e-01,  3.95393304e-01, -5.12874463e-01,\n",
      "         2.12811486e-01, -9.21973169e+00, -1.79483026e-01,\n",
      "        -9.21973169e+00],\n",
      "       [-4.99960991e+01,  2.87785565e-01,  3.07500180e-01,\n",
      "         2.20249633e+01, -6.12303779e+00, -1.32307736e+01,\n",
      "         1.97860442e+00, -3.81372103e+02, -1.85944795e+00,\n",
      "        -3.81372103e+02],\n",
      "       [-8.16764011e+00,  7.13197275e-01,  3.95393304e-01,\n",
      "        -6.12303779e+00,  2.37264207e+01, -1.14727227e+01,\n",
      "         5.44903253e+00, -6.20150122e+01, -4.90752132e+00,\n",
      "        -6.20150122e+01],\n",
      "       [ 4.79920304e+01, -7.64158835e-01, -5.12874463e-01,\n",
      "        -1.32307736e+01, -1.14727227e+01,  2.03056738e+01,\n",
      "        -5.87046588e+00,  3.65882788e+02,  5.41118661e+00,\n",
      "         3.65882788e+02],\n",
      "       [-1.12911742e+01,  2.55264597e-01,  2.12811486e-01,\n",
      "         1.97860442e+00,  5.44903253e+00, -5.87046588e+00,\n",
      "         2.46867896e+00, -8.60338674e+01, -1.76210154e+00,\n",
      "        -8.60338674e+01],\n",
      "       [ 1.08067201e+03, -1.17358890e+01, -9.21973169e+00,\n",
      "        -3.81372103e+02, -6.20150122e+01,  3.65882788e+02,\n",
      "        -8.60338674e+01,  8.24271130e+03,  7.97868238e+01,\n",
      "         8.24171130e+03],\n",
      "       [ 1.04699669e+01, -2.34178799e-01, -1.79483026e-01,\n",
      "        -1.85944795e+00, -4.90752132e+00,  5.41118661e+00,\n",
      "        -1.76210154e+00,  7.97868238e+01,  2.05717301e+00,\n",
      "         7.97868238e+01],\n",
      "       [ 1.08067201e+03, -1.17358890e+01, -9.21973169e+00,\n",
      "        -3.81372103e+02, -6.20150122e+01,  3.65882788e+02,\n",
      "        -8.60338674e+01,  8.24171130e+03,  7.97868238e+01,\n",
      "         8.24271130e+03]])\n",
      "      jac: array([ 5.40514464e-04, -3.33281994e-04,  1.42073328e-04, -5.12889794e-05,\n",
      "       -3.55848780e-08,  1.89024242e-05, -3.87449866e-05, -3.71546586e-05,\n",
      "        2.61800156e-05, -3.71546586e-05])\n",
      "  message: 'Desired error not necessarily achieved due to precision loss.'\n",
      "     nfev: 104\n",
      "      nit: 50\n",
      "     njev: 92\n",
      "   status: 2\n",
      "  success: False\n",
      "        x: array([ 1.27524284, -0.01339849,  0.28255557, -0.18685046, -0.48040595,\n",
      "        0.49836004, -0.18143596, -1.00821259,  0.15600543, -1.00821259])\n"
     ]
    }
   ],
   "source": [
    "x0=[1.4, 0., 0.3, 0., 0., 0., 0., 0., 0., 0.]\n",
    "\n",
    "start = time()\n",
    "# needs x vals need to be 1d\n",
    "sparse_res = minimize(grad_obj_sparse, x0=x0, method='BFGS', jac=True)\n",
    "print('time taken: ' + str(time() - start))\n",
    "\n",
    "print(res)"
   ]
  },
  {
   "cell_type": "markdown",
   "id": "bde6750f",
   "metadata": {},
   "source": [
    "# 5. Simulate with Dyson solver\n",
    "\n",
    "We now setup the problem to simulate the Dyson solver. The parameters of the solver have been reached by playing around with parameters to get a reasonable agreement. \n",
    "\n",
    "We initialize the solver, which involves an expensive pre-computation step."
   ]
  },
  {
   "cell_type": "code",
   "execution_count": 24,
   "id": "c260c4dd",
   "metadata": {
    "scrolled": false
   },
   "outputs": [
    {
     "name": "stderr",
     "output_type": "stream",
     "text": [
      "/Users/dpuzzuoli/Documents/projects/qiskit-dynamics/qiskit_dynamics/dispatch/array.py:20: DeprecationWarning: Importing Array from `qiskit_dynamics.dispatch` is deprecated and will be removed next release. Import from `qiskit_dynamics.array` instead.\n",
      "  warnings.warn(\n",
      "/Users/dpuzzuoli/Documents/projects/qiskit-dynamics/qiskit_dynamics/dispatch/array.py:20: DeprecationWarning: Importing Array from `qiskit_dynamics.dispatch` is deprecated and will be removed next release. Import from `qiskit_dynamics.array` instead.\n",
      "  warnings.warn(\n"
     ]
    },
    {
     "name": "stdout",
     "output_type": "stream",
     "text": [
      "675.3587119579315\n"
     ]
    }
   ],
   "source": [
    "# system information\n",
    "generator_decomp = [-1j  * Hdc_B, -1j * Hdt_B]\n",
    "carrier_freqs = [v_t, v_t]\n",
    "frame_operator = -1j * H0_B\n",
    "\n",
    "# approximation specification:\n",
    "# chebyshev order to use\n",
    "polynomial_degrees = [1, 1]\n",
    "# Dyson series order to go to\n",
    "perturbation_order = 6\n",
    "\n",
    "\n",
    "# we will use \n",
    "n_steps = 600\n",
    "dt = T / n_steps\n",
    "\n",
    "start = time()\n",
    "dyson_solver_jax = PerturbativeSolver(generator_decomp, \n",
    "                                       frame_operator,\n",
    "                                       dt,\n",
    "                                       carrier_freqs,\n",
    "                                       polynomial_degrees,\n",
    "                                       perturbation_method='dyson',\n",
    "                                       perturbation_order=perturbation_order,\n",
    "                                       method='jax_odeint',\n",
    "                                       atol=1e-8,\n",
    "                                       rtol=1e-8)\n",
    "print(time() - start)"
   ]
  },
  {
   "cell_type": "markdown",
   "id": "d4889c24",
   "metadata": {},
   "source": [
    "Set up simulation function with this solver."
   ]
  },
  {
   "cell_type": "code",
   "execution_count": 25,
   "id": "fea67bc9",
   "metadata": {},
   "outputs": [],
   "source": [
    "y0 = np.eye(dim**2, dtype=complex)\n",
    "\n",
    "def dyson_sim(amps, phases, pre_rot, post_rot):\n",
    "    cr_amp = amps[0]\n",
    "    cr_phase = phases[0]\n",
    "    rotary_amp = amps[1]\n",
    "    rotary_phase = phases[1]\n",
    "    bipolar_amp = amps[2] \n",
    "    bipolar_phase = phases[2]\n",
    "    cr_signal = Signal(jnp.vectorize(lambda t: gaussian_square(t, cr_amp, sigma, risefall, T)), \n",
    "                       carrier_freq=v_t, \n",
    "                       phase=cr_phase)\n",
    "    rotary_signal = Signal(jnp.vectorize(lambda t: gaussian_square(t, rotary_amp, sigma, risefall, T)), \n",
    "                           carrier_freq=v_t,\n",
    "                           phase=rotary_phase)\n",
    "    bipolar_signal = Signal(jnp.vectorize(lambda t: bipolar_gaussian_square(t, bipolar_amp, sigma, risefall, T)), \n",
    "                            carrier_freq=v_t,\n",
    "                            phase=bipolar_phase)\n",
    "    \n",
    "    target_signal = (rotary_signal + bipolar_signal).flatten()\n",
    "    #import pdb; pdb.set_trace()\n",
    "    U = dyson_solver_jax.solve([cr_signal, target_signal], y0, 0, n_steps)\n",
    "\n",
    "    return jexpm(-1j * (post_rot[0] * IZ + post_rot[1] * ZI)) @ U @ jexpm(-1j * (pre_rot[0] * IZ + pre_rot[1] * ZI))\n"
   ]
  },
  {
   "cell_type": "markdown",
   "id": "c7dbf0aa",
   "metadata": {},
   "source": [
    "Construct, compile, and differentiate objective."
   ]
  },
  {
   "cell_type": "code",
   "execution_count": 26,
   "id": "85c9b94b",
   "metadata": {},
   "outputs": [],
   "source": [
    "def dyson_obj(x):\n",
    "    amps = x[0:3]\n",
    "    phases = x[3:6]\n",
    "    pre_rot = x[6:8]\n",
    "    post_rot = x[8:]\n",
    "\n",
    "    U = dyson_sim(amps, phases, pre_rot, post_rot)\n",
    "    \n",
    "    return 1 - fidelity(U)\n",
    "\n",
    "jit_dyson_obj = jit(dyson_obj)\n",
    "grad_dyson_obj = jit(value_and_grad(dyson_obj))"
   ]
  },
  {
   "cell_type": "markdown",
   "id": "f73da12a",
   "metadata": {},
   "source": [
    "## 5.1 Time to compute objective and gradients"
   ]
  },
  {
   "cell_type": "markdown",
   "id": "c8db3cae",
   "metadata": {},
   "source": [
    "The objective."
   ]
  },
  {
   "cell_type": "code",
   "execution_count": 27,
   "id": "423651e0",
   "metadata": {},
   "outputs": [
    {
     "name": "stdout",
     "output_type": "stream",
     "text": [
      "compile + simulate time: 7.26019811630249\n",
      "compiled simulation time: 0.10149502754211426\n"
     ]
    }
   ],
   "source": [
    "x0=jnp.array([1.4, 0., 0.3, 0., 0., 0., 0., 0., 0., 0.])\n",
    "\n",
    "start = time()\n",
    "jit_dyson_obj(x0).block_until_ready()\n",
    "print('compile + simulate time: ' + str(time() - start))\n",
    "\n",
    "start = time()\n",
    "jit_dyson_obj(x0).block_until_ready()\n",
    "print('compiled simulation time: ' + str(time() - start))"
   ]
  },
  {
   "cell_type": "markdown",
   "id": "162ca688",
   "metadata": {},
   "source": [
    "Gradient of the objective."
   ]
  },
  {
   "cell_type": "code",
   "execution_count": 28,
   "id": "8cdf949a",
   "metadata": {},
   "outputs": [
    {
     "name": "stdout",
     "output_type": "stream",
     "text": [
      "compile + simulate time: 21.03835701942444\n",
      "compiled simulation time: 0.22298502922058105\n"
     ]
    }
   ],
   "source": [
    "x0=jnp.array([1.4, 0., 0.3, 0., 0., 0., 0., 0., 0., 0.])\n",
    "\n",
    "start = time()\n",
    "grad_dyson_obj(x0)[0].block_until_ready()\n",
    "print('compile + simulate time: ' + str(time() - start))\n",
    "\n",
    "start = time()\n",
    "grad_dyson_obj(x0)[0].block_until_ready()\n",
    "print('compiled simulation time: ' + str(time() - start))"
   ]
  },
  {
   "cell_type": "markdown",
   "id": "e42f33d6",
   "metadata": {},
   "source": [
    "Compare values to ensure consistency."
   ]
  },
  {
   "cell_type": "code",
   "execution_count": 29,
   "id": "a31c4bee",
   "metadata": {},
   "outputs": [
    {
     "data": {
      "text/plain": [
       "DeviceArray(0.15898691, dtype=float64)"
      ]
     },
     "execution_count": 29,
     "metadata": {},
     "output_type": "execute_result"
    }
   ],
   "source": [
    "jit_dyson_obj(x0)"
   ]
  },
  {
   "cell_type": "code",
   "execution_count": 30,
   "id": "f1282300",
   "metadata": {},
   "outputs": [
    {
     "data": {
      "text/plain": [
       "DeviceArray(0.15897535, dtype=float64)"
      ]
     },
     "execution_count": 30,
     "metadata": {},
     "output_type": "execute_result"
    }
   ],
   "source": [
    "jit_obj(x0)"
   ]
  },
  {
   "cell_type": "markdown",
   "id": "8af035b1",
   "metadata": {},
   "source": [
    "## 5.2 Optimize\n",
    "\n",
    "Is this necessary?"
   ]
  },
  {
   "cell_type": "code",
   "execution_count": 31,
   "id": "9db21e3a",
   "metadata": {},
   "outputs": [
    {
     "name": "stdout",
     "output_type": "stream",
     "text": [
      "time taken: 16.466931104660034\n",
      "      fun: 0.0001678414174843823\n",
      " hess_inv: array([[ 2.05425422e+02, -1.93509314e+00, -2.14988115e+00,\n",
      "        -7.63157118e+01, -1.32724135e+00,  6.50950186e+01,\n",
      "        -1.32750538e+01,  1.56274605e+03,  1.30404875e+01,\n",
      "         1.56274605e+03],\n",
      "       [-1.93509314e+00,  3.90547834e-02,  2.78908482e-02,\n",
      "         4.46812469e-01,  6.93569497e-01, -8.82210389e-01,\n",
      "         2.78769445e-01, -1.47207274e+01, -2.49102833e-01,\n",
      "        -1.47207274e+01],\n",
      "       [-2.14988115e+00,  2.78908482e-02,  9.54633851e-02,\n",
      "         7.24259388e-01,  2.67469394e-01, -7.73728974e-01,\n",
      "         2.40385603e-01, -1.63565077e+01, -2.08366291e-01,\n",
      "        -1.63565077e+01],\n",
      "       [-7.63157118e+01,  4.46812469e-01,  7.24259388e-01,\n",
      "         3.28964902e+01, -9.08792606e+00, -2.01911272e+01,\n",
      "         2.69657191e+00, -5.80565657e+02, -2.99083918e+00,\n",
      "        -5.80565657e+02],\n",
      "       [-1.32724135e+00,  6.93569497e-01,  2.67469394e-01,\n",
      "        -9.08792606e+00,  2.52029237e+01, -1.00308577e+01,\n",
      "         5.55967608e+00, -1.00860947e+01, -4.61881535e+00,\n",
      "        -1.00860947e+01],\n",
      "       [ 6.50950186e+01, -8.82210389e-01, -7.73728974e-01,\n",
      "        -2.01911272e+01, -1.00308577e+01,  2.50928339e+01,\n",
      "        -6.54572955e+00,  4.95197923e+02,  6.09979529e+00,\n",
      "         4.95197923e+02],\n",
      "       [-1.32750538e+01,  2.78769445e-01,  2.40385603e-01,\n",
      "         2.69657191e+00,  5.55967608e+00, -6.54572955e+00,\n",
      "         2.59302886e+00, -1.00978979e+02, -1.90883741e+00,\n",
      "        -1.00978979e+02],\n",
      "       [ 1.56274605e+03, -1.47207274e+01, -1.63565077e+01,\n",
      "        -5.80565657e+02, -1.00860947e+01,  4.95197923e+02,\n",
      "        -1.00978979e+02,  1.18890026e+04,  9.92043088e+01,\n",
      "         1.18880026e+04],\n",
      "       [ 1.30404875e+01, -2.49102833e-01, -2.08366291e-01,\n",
      "        -2.99083918e+00, -4.61881535e+00,  6.09979529e+00,\n",
      "        -1.90883741e+00,  9.92043088e+01,  2.18849367e+00,\n",
      "         9.92043088e+01],\n",
      "       [ 1.56274605e+03, -1.47207274e+01, -1.63565077e+01,\n",
      "        -5.80565657e+02, -1.00860947e+01,  4.95197923e+02,\n",
      "        -1.00978979e+02,  1.18880026e+04,  9.92043088e+01,\n",
      "         1.18890026e+04]])\n",
      "      jac: array([-3.04608348e-07,  3.59841802e-07,  1.07221741e-07,  5.52916259e-08,\n",
      "        2.66720898e-09, -5.65377419e-08, -7.26648823e-08,  2.27095134e-08,\n",
      "       -2.77960784e-08,  2.27095134e-08])\n",
      "  message: 'Optimization terminated successfully.'\n",
      "     nfev: 64\n",
      "      nit: 51\n",
      "     njev: 64\n",
      "   status: 0\n",
      "  success: True\n",
      "        x: array([ 1.27383641, -0.01337853,  0.2825648 , -0.1863779 , -0.48015143,\n",
      "        0.49781314, -0.18128124, -1.01892163,  0.15586802, -1.01892163])\n"
     ]
    }
   ],
   "source": [
    "x0=[1.4, 0., 0.3, 0., 0., 0., 0., 0., 0., 0.]\n",
    "\n",
    "start = time()\n",
    "# needs x vals need to be 1d\n",
    "perturb_res = minimize(grad_dyson_obj, x0=x0, method='BFGS', jac=True)\n",
    "print('time taken: ' + str(time() - start))\n",
    "\n",
    "print(perturb_res)"
   ]
  },
  {
   "cell_type": "markdown",
   "id": "d96904ab",
   "metadata": {},
   "source": [
    "# 6. Comparing values\n",
    "\n",
    "These start to deviate around 5 decimal places, which may actually be on the order of the accuracy of the ODE solver itself that we computed things at."
   ]
  },
  {
   "cell_type": "code",
   "execution_count": 32,
   "id": "a71bb479",
   "metadata": {
    "scrolled": false
   },
   "outputs": [
    {
     "name": "stdout",
     "output_type": "stream",
     "text": [
      "0.00016784951963288997\n",
      "0.0001678414174823839\n"
     ]
    }
   ],
   "source": [
    "print(dyson_obj(res.x))\n",
    "print(dyson_obj(perturb_res.x))"
   ]
  },
  {
   "cell_type": "code",
   "execution_count": 33,
   "id": "e6b29ade",
   "metadata": {},
   "outputs": [
    {
     "name": "stdout",
     "output_type": "stream",
     "text": [
      "0.00015802292366406956\n",
      "0.0001580316022478101\n"
     ]
    }
   ],
   "source": [
    "print(obj(res.x))\n",
    "print(obj(perturb_res.x))"
   ]
  },
  {
   "cell_type": "code",
   "execution_count": null,
   "id": "97b382e1",
   "metadata": {},
   "outputs": [],
   "source": []
  }
 ],
 "metadata": {
  "kernelspec": {
   "display_name": "Python 3",
   "language": "python",
   "name": "python3"
  },
  "language_info": {
   "codemirror_mode": {
    "name": "ipython",
    "version": 3
   },
   "file_extension": ".py",
   "mimetype": "text/x-python",
   "name": "python",
   "nbconvert_exporter": "python",
   "pygments_lexer": "ipython3",
   "version": "3.9.4"
  }
 },
 "nbformat": 4,
 "nbformat_minor": 5
}
