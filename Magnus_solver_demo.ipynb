{
 "cells": [
  {
   "cell_type": "code",
   "execution_count": 1,
   "id": "valued-roulette",
   "metadata": {},
   "outputs": [],
   "source": [
    "from time import time\n",
    "\n",
    "import matplotlib.pyplot as plt\n",
    "\n",
    "import numpy as np\n",
    "from numpy.polynomial.chebyshev import chebpts1, chebvander\n",
    "\n",
    "import sys,os\n",
    "sys.path.append(os.getcwd())\n",
    "\n",
    "import jax.numpy as jnp\n",
    "from jax.scipy.linalg import expm as jexpm\n",
    "from jax import vmap, jacfwd, jit\n",
    "from jax.lax import cond, scan, associative_scan\n",
    "from jax.config import config\n",
    "config.update(\"jax_enable_x64\", True)\n",
    "\n",
    "from qiskit_dynamics import dispatch, solve_lmde\n",
    "from qiskit_dynamics.dispatch import Array\n",
    "from qiskit.quantum_info import Operator\n",
    "from qiskit_dynamics.models import HamiltonianModel, Frame\n",
    "from qiskit_dynamics.signals import Signal\n",
    "from qiskit_dynamics_internal.perturbation import solve_lmde_perturbation\n",
    "\n",
    "dispatch.set_default_backend('jax')"
   ]
  },
  {
   "cell_type": "markdown",
   "id": "crazy-thomas",
   "metadata": {},
   "source": [
    "# 1. Define system parameters and operators\n",
    "\n",
    "System parameters"
   ]
  },
  {
   "cell_type": "code",
   "execution_count": 2,
   "id": "dated-traffic",
   "metadata": {},
   "outputs": [],
   "source": [
    "w_c = 2 * np.pi * 5.1\n",
    "w_t = 2 * np.pi * 5.\n",
    "alpha_c = 2 * np.pi * (-0.33)\n",
    "alpha_t = 2 * np.pi * (-0.33)\n",
    "J = 2 * np.pi * 0.002\n",
    "# drive strength\n",
    "r = 2 * np.pi * 0.05\n",
    "\n",
    "dim = 4\n",
    "\n",
    "a = np.diag(np.sqrt(np.arange(1, dim)), 1)\n",
    "adag = a.transpose()\n",
    "N = np.diag(np.arange(dim))\n",
    "ident = np.eye(dim)\n",
    "ident2 = np.eye(dim**2)\n",
    "\n",
    "# operators on the control qubit (first tensor factor)\n",
    "a0 = np.kron(a, ident)\n",
    "adag0 = np.kron(adag, ident)\n",
    "N0 = np.kron(N, ident)\n",
    "\n",
    "# operators on the target qubit (first tensor factor)\n",
    "a1 = np.kron(ident, a)\n",
    "adag1 = np.kron(ident, adag)\n",
    "N1 = np.kron(ident, N)"
   ]
  },
  {
   "cell_type": "markdown",
   "id": "naked-invitation",
   "metadata": {},
   "source": [
    "Hamiltonian operators."
   ]
  },
  {
   "cell_type": "code",
   "execution_count": 3,
   "id": "patent-commons",
   "metadata": {},
   "outputs": [],
   "source": [
    "H0 = (w_c * N0 + 0.5 * alpha_c * N0 @ (N0 - ident2)\n",
    "      + w_t * N1 + 0.5 * alpha_t * N1 @ (N1 - ident2)\n",
    "      + J * (a0 @ adag1 + adag0 @ a1))\n",
    "Hdc = r*(a0 + adag0)\n",
    "Hdt = r*(a1 + adag1)"
   ]
  },
  {
   "cell_type": "markdown",
   "id": "derived-oxide",
   "metadata": {},
   "source": [
    "Pulse envelope to simulate."
   ]
  },
  {
   "cell_type": "code",
   "execution_count": 4,
   "id": "legendary-member",
   "metadata": {},
   "outputs": [],
   "source": [
    "def gauss(t, sig):\n",
    "    t = Array(t).data\n",
    "    return jnp.exp(- (t**2) / (2 *(sig **2)))\n",
    "\n",
    "# this is getting a bit wild with the array wrapping but\n",
    "# I've messed around with too many things\n",
    "def pulse(sig, taur, tau, t):\n",
    "    sig = Array(sig).data\n",
    "    taur = Array(taur).data\n",
    "    tau = Array(tau).data\n",
    "    t = Array(t).data\n",
    "    b = gauss(taur, sig)\n",
    "    return cond(t < taur,\n",
    "                lambda s: (gauss(t - taur, sig) - b) / (1 - b),\n",
    "                lambda s: cond(t < tau-taur,\n",
    "                               lambda r: 1.,\n",
    "                               lambda r: (gauss(t - (tau - taur), sig) - b) / (1-b),\n",
    "                               0.),\n",
    "                0.)"
   ]
  },
  {
   "cell_type": "markdown",
   "id": "wrong-brush",
   "metadata": {},
   "source": [
    "## 1.1 Establish dressed energies"
   ]
  },
  {
   "cell_type": "code",
   "execution_count": 5,
   "id": "smoking-pavilion",
   "metadata": {},
   "outputs": [],
   "source": [
    "def basis_vec(ind, dimension):\n",
    "    vec = np.zeros(dimension, dtype=complex)\n",
    "    vec[ind] = 1.\n",
    "    return vec\n",
    "\n",
    "def two_q_basis_vec(inda, indb, dimension):\n",
    "    vec_a = basis_vec(inda, dimension)\n",
    "    vec_b = basis_vec(indb, dimension)\n",
    "    return np.kron(vec_a, vec_b)\n",
    "\n",
    "def get_dressed_state_index(inda, indb, dimension, evectors):\n",
    "    b_vec = two_q_basis_vec(inda, indb, dimension)\n",
    "    overlaps = np.abs(evectors @ b_vec)\n",
    "    return overlaps.argmax()\n",
    "\n",
    "def get_dressed_state_and_energy(inda, indb, dimension, evecs):\n",
    "    ind = get_dressed_state_index(inda, indb, dimension, evecs)\n",
    "    return evals[ind], evecs[ind]"
   ]
  },
  {
   "cell_type": "markdown",
   "id": "touched-huntington",
   "metadata": {},
   "source": [
    "Establish dressed energies and basis vectors"
   ]
  },
  {
   "cell_type": "code",
   "execution_count": 6,
   "id": "mounted-italian",
   "metadata": {},
   "outputs": [
    {
     "name": "stderr",
     "output_type": "stream",
     "text": [
      "WARNING:absl:No GPU/TPU found, falling back to CPU. (Set TF_CPP_MIN_LOG_LEVEL=0 and rerun for more info.)\n"
     ]
    }
   ],
   "source": [
    "evals, B = jnp.linalg.eigh(H0)\n",
    "Badj = B.conj().transpose()\n",
    "\n",
    "E00, dressed00 = get_dressed_state_and_energy(0, 0, dim, B)\n",
    "E01, dressed01 = get_dressed_state_and_energy(0, 1, dim, B)\n",
    "E10, dressed10 = get_dressed_state_and_energy(1, 0, dim, B)\n",
    "E11, dressed11 = get_dressed_state_and_energy(1, 1, dim, B)"
   ]
  },
  {
   "cell_type": "code",
   "execution_count": 7,
   "id": "mexican-relaxation",
   "metadata": {},
   "outputs": [
    {
     "data": {
      "text/plain": [
       "DeviceArray(-0.00025123, dtype=float64)"
      ]
     },
     "execution_count": 7,
     "metadata": {},
     "output_type": "execute_result"
    }
   ],
   "source": [
    "w_d = E01\n",
    "v_d = w_d / (2 * jnp.pi)\n",
    "w_d - w_t"
   ]
  },
  {
   "cell_type": "code",
   "execution_count": 8,
   "id": "aggressive-clause",
   "metadata": {},
   "outputs": [],
   "source": [
    "H0_B = Badj @ H0 @ B\n",
    "Hdc_B = Badj @ Hdc @ B\n",
    "\n",
    "def full_ham(t):\n",
    "    return H0_B + pulse_func(t) * jnp.cos(w_d * t) * Hdc_B"
   ]
  },
  {
   "cell_type": "markdown",
   "id": "revolutionary-registrar",
   "metadata": {},
   "source": [
    "# 2. Full simulation of the system"
   ]
  },
  {
   "cell_type": "markdown",
   "id": "promising-heart",
   "metadata": {},
   "source": [
    "Set parameters of simulation (length of pulse, number of time steps, etc)."
   ]
  },
  {
   "cell_type": "code",
   "execution_count": 9,
   "id": "rural-newark",
   "metadata": {},
   "outputs": [],
   "source": [
    "# choose parameters, express everything in terms of dt\n",
    "dt = 15. / v_d\n",
    "\n",
    "tau = 200\n",
    "N = int(tau // dt)\n",
    "tau = N * dt\n",
    "taur = (20 //dt) * dt\n",
    "sig = taur / 2\n",
    "\n",
    "pulse_func = jnp.vectorize(lambda t: pulse(sig, taur, tau, t))"
   ]
  },
  {
   "cell_type": "code",
   "execution_count": 10,
   "id": "challenging-declaration",
   "metadata": {},
   "outputs": [
    {
     "data": {
      "text/plain": [
       "66"
      ]
     },
     "execution_count": 10,
     "metadata": {},
     "output_type": "execute_result"
    }
   ],
   "source": [
    "N"
   ]
  },
  {
   "cell_type": "code",
   "execution_count": null,
   "id": "ethical-poker",
   "metadata": {},
   "outputs": [],
   "source": [
    "times = np.linspace(0, N*dt, 100)\n",
    "vals = pulse_func(times)\n",
    "plt.plot(times, vals)"
   ]
  },
  {
   "cell_type": "code",
   "execution_count": null,
   "id": "rental-primary",
   "metadata": {},
   "outputs": [],
   "source": [
    "# first simulate full Hamiltonian to as high a precision as possible for comparisons\n",
    "ham = HamiltonianModel(operators=[H0_B, Hdc_B])"
   ]
  },
  {
   "cell_type": "markdown",
   "id": "dangerous-wheel",
   "metadata": {},
   "source": [
    "As a function"
   ]
  },
  {
   "cell_type": "code",
   "execution_count": null,
   "id": "loved-russell",
   "metadata": {},
   "outputs": [],
   "source": [
    "def full_sim(taur, sig):\n",
    "    ham_copy = ham.copy()\n",
    "    drive_func = lambda t: pulse(sig, taur, tau, t)\n",
    "    ham_copy.signals = [1., Signal(drive_func, carrier_freq=v_d)]\n",
    "    ham_copy.frame = ham_copy.drift\n",
    "    \n",
    "    results = solve_lmde(ham_copy, \n",
    "                     t_span=[0, N*dt],\n",
    "                     y0=jnp.eye(dim**2, dtype=complex),\n",
    "                     method='jax_odeint',\n",
    "                     atol=1e-15,\n",
    "                     rtol=1e-15)\n",
    "\n",
    "    return results.y[-1]\n",
    "\n",
    "# just in time compile it\n",
    "jit_sim = jit(full_sim)"
   ]
  },
  {
   "cell_type": "markdown",
   "id": "prostate-wyoming",
   "metadata": {},
   "source": [
    "## 2.1 measure single jit + simulate"
   ]
  },
  {
   "cell_type": "code",
   "execution_count": null,
   "id": "earned-absence",
   "metadata": {},
   "outputs": [],
   "source": [
    "start = time()\n",
    "single_sim_y = jit_sim(taur/5, sig).block_until_ready()\n",
    "print(time() - start)"
   ]
  },
  {
   "cell_type": "code",
   "execution_count": null,
   "id": "auburn-inflation",
   "metadata": {},
   "outputs": [],
   "source": [
    "start = time()\n",
    "single_sim_y = jit_sim(taur/5, sig).block_until_ready()\n",
    "print(time() - start)"
   ]
  },
  {
   "cell_type": "code",
   "execution_count": null,
   "id": "broad-timber",
   "metadata": {},
   "outputs": [],
   "source": [
    "tau_vals = taur * jnp.linspace(0.1, 5, 1)"
   ]
  },
  {
   "cell_type": "markdown",
   "id": "accurate-brisbane",
   "metadata": {},
   "source": [
    "## 2.2 measure vmap jit + simulate"
   ]
  },
  {
   "cell_type": "code",
   "execution_count": null,
   "id": "looking-community",
   "metadata": {},
   "outputs": [],
   "source": [
    "jit_vmap_sim = jit(vmap(lambda tau: full_sim(tau, sig)))"
   ]
  },
  {
   "cell_type": "code",
   "execution_count": null,
   "id": "above-defense",
   "metadata": {},
   "outputs": [],
   "source": [
    "start = time()\n",
    "direct_sim_y = jit_vmap_sim(tau_vals).block_until_ready()\n",
    "sim_time = time() - start\n",
    "print('Batch simulation time including jit: ' + str(sim_time))\n",
    "print('Batch simulation average time including jit: ' + str(sim_time / len(tau_vals)))"
   ]
  },
  {
   "cell_type": "code",
   "execution_count": null,
   "id": "celtic-worthy",
   "metadata": {},
   "outputs": [],
   "source": [
    "start = time()\n",
    "direct_sim_y = jit_vmap_sim(tau_vals).block_until_ready()\n",
    "sim_time = time() - start\n",
    "print('Batch simulation time without jit: ' + str(sim_time))\n",
    "print('Batch simulation average time without jit: ' + str(sim_time / len(tau_vals)))"
   ]
  },
  {
   "cell_type": "markdown",
   "id": "affecting-fifty",
   "metadata": {},
   "source": [
    "## 2.3 Simulate at lower tolerance\n",
    "\n",
    "Here we set the tolerance of the simulation to try to achieve about $10^{-5}$ infidelity."
   ]
  },
  {
   "cell_type": "code",
   "execution_count": null,
   "id": "sonic-advice",
   "metadata": {},
   "outputs": [],
   "source": [
    "def full_sim2(taur, sig):\n",
    "    ham_copy = ham.copy()\n",
    "    drive_func = lambda t: pulse(sig, taur, tau, t)\n",
    "    ham_copy.signals = [1., Signal(drive_func, carrier_freq=v_d)]\n",
    "    ham_copy.frame = ham_copy.drift\n",
    "    \n",
    "    results = solve_lmde(ham_copy, \n",
    "                     t_span=[0, N*dt],\n",
    "                     y0=jnp.eye(dim**2, dtype=complex),\n",
    "                     method='jax_odeint',\n",
    "                    atol=2.5*1e-8,\n",
    "                    rtol=2.5*1e-8)\n",
    "\n",
    "    return results.y[-1]\n",
    "\n",
    "jit_sim2 = jit(full_sim2)"
   ]
  },
  {
   "cell_type": "markdown",
   "id": "short-choice",
   "metadata": {},
   "source": [
    "### 2.3.1 Measure single jit + sim time "
   ]
  },
  {
   "cell_type": "code",
   "execution_count": null,
   "id": "wound-interference",
   "metadata": {},
   "outputs": [],
   "source": [
    "start = time()\n",
    "single_sim_lower_tol_y = jit_sim2(taur/5, sig).block_until_ready()\n",
    "print(time() - start)"
   ]
  },
  {
   "cell_type": "code",
   "execution_count": null,
   "id": "developing-cache",
   "metadata": {},
   "outputs": [],
   "source": [
    "start = time()\n",
    "single_sim_lower_tol_y = jit_sim2(taur/5, sig).block_until_ready()\n",
    "print(time() - start)"
   ]
  },
  {
   "cell_type": "code",
   "execution_count": null,
   "id": "ready-diamond",
   "metadata": {},
   "outputs": [],
   "source": [
    "1-(jnp.abs((single_sim_lower_tol_y.conj().transpose() @ single_sim_y).trace()) / (dim**2))**2"
   ]
  },
  {
   "cell_type": "markdown",
   "id": "cubic-accident",
   "metadata": {},
   "source": [
    "### 2.3.2 Measure vmap jit + sim time"
   ]
  },
  {
   "cell_type": "code",
   "execution_count": null,
   "id": "sophisticated-phrase",
   "metadata": {},
   "outputs": [],
   "source": [
    "jit_vmap_sim_lower_tol = jit(vmap(lambda tau: full_sim2(tau, sig)))"
   ]
  },
  {
   "cell_type": "code",
   "execution_count": null,
   "id": "accepted-emerald",
   "metadata": {},
   "outputs": [],
   "source": [
    "start = time()\n",
    "direct_sim_lower_tol_y = jit_vmap_sim_lower_tol(tau_vals).block_until_ready()\n",
    "sim_time = time() - start\n",
    "print('Batch simulation time including jit: ' + str(sim_time))\n",
    "print('Batch simulation average time including jit: ' + str(sim_time / len(tau_vals)))"
   ]
  },
  {
   "cell_type": "code",
   "execution_count": null,
   "id": "crazy-wesley",
   "metadata": {},
   "outputs": [],
   "source": [
    "start = time()\n",
    "direct_sim_lower_tol_y = jit_vmap_sim_lower_tol(tau_vals).block_until_ready()\n",
    "sim_time = time() - start\n",
    "print('Batch simulation time without jit: ' + str(sim_time))\n",
    "print('Batch simulation average time without jit: ' + str(sim_time / len(tau_vals)))"
   ]
  },
  {
   "cell_type": "code",
   "execution_count": null,
   "id": "committed-siemens",
   "metadata": {},
   "outputs": [],
   "source": [
    "infidelities = []\n",
    "for k in range(len(tau_vals)):\n",
    "    infidelities.append(1-(jnp.abs((direct_sim_lower_tol_y[k].conj().transpose() @ direct_sim_y[k]).trace()) / (dim**2))**2)"
   ]
  },
  {
   "cell_type": "code",
   "execution_count": null,
   "id": "polish-insulation",
   "metadata": {},
   "outputs": [],
   "source": [
    "infidelities"
   ]
  },
  {
   "cell_type": "markdown",
   "id": "measured-affair",
   "metadata": {},
   "source": [
    "# 3. RWA simulation"
   ]
  },
  {
   "cell_type": "code",
   "execution_count": null,
   "id": "injured-winner",
   "metadata": {},
   "outputs": [],
   "source": [
    "def rwa_sim(taur, sig):\n",
    "    ham_copy = ham.copy()\n",
    "    drive_func = lambda t: pulse(sig, taur, tau, t)\n",
    "    ham_copy.signals = [1., Signal(drive_func, carrier_freq=v_d)]\n",
    "    ham_copy.frame = H0_B\n",
    "    ham_copy.cutoff_freq = 1.9 * v_d # add cutoff\n",
    "    \n",
    "    results = solve_lmde(ham_copy, \n",
    "                     t_span=[0, N*dt],\n",
    "                     y0=jnp.eye(dim**2, dtype=complex),\n",
    "                     #    solver_cutoff_freq = 1.9 * v_d,\n",
    "                     method='jax_odeint',\n",
    "                    atol=1e-6,\n",
    "                    rtol=1e-6)\n",
    "\n",
    "    return results.y[-1]\n",
    "\n",
    "# just in time compile it\n",
    "jit_rwa_sim = jit(rwa_sim)"
   ]
  },
  {
   "cell_type": "code",
   "execution_count": null,
   "id": "regulation-north",
   "metadata": {},
   "outputs": [],
   "source": [
    "start = time()\n",
    "single_rwa_sim_y = jit_rwa_sim(taur/5, sig).block_until_ready()\n",
    "print(time() - start)"
   ]
  },
  {
   "cell_type": "code",
   "execution_count": null,
   "id": "delayed-camcorder",
   "metadata": {},
   "outputs": [],
   "source": [
    "start = time()\n",
    "single_rwa_sim_y = jit_rwa_sim(taur/5, sig).block_until_ready()\n",
    "print(time() - start)"
   ]
  },
  {
   "cell_type": "code",
   "execution_count": null,
   "id": "familiar-government",
   "metadata": {},
   "outputs": [],
   "source": [
    "1-(jnp.abs((single_rwa_sim_y.conj().transpose() @ single_sim_y).trace()) / (dim**2))**2"
   ]
  },
  {
   "cell_type": "markdown",
   "id": "varied-couple",
   "metadata": {},
   "source": [
    "### 3.1 Measure vmap jit + sim time"
   ]
  },
  {
   "cell_type": "code",
   "execution_count": null,
   "id": "narrow-functionality",
   "metadata": {},
   "outputs": [],
   "source": [
    "jit_vmap_rwa_sim = jit(vmap(lambda tau: rwa_sim(tau, sig)))"
   ]
  },
  {
   "cell_type": "code",
   "execution_count": null,
   "id": "accepted-overall",
   "metadata": {},
   "outputs": [],
   "source": [
    "start = time()\n",
    "rwa_sim_y = jit_vmap_rwa_sim(tau_vals).block_until_ready()\n",
    "sim_time = time() - start\n",
    "print('Batch simulation time including jit: ' + str(sim_time))\n",
    "print('Batch simulation average time including jit: ' + str(sim_time / len(tau_vals)))"
   ]
  },
  {
   "cell_type": "code",
   "execution_count": null,
   "id": "romance-thickness",
   "metadata": {},
   "outputs": [],
   "source": [
    "start = time()\n",
    "rwa_sim_y = jit_vmap_rwa_sim(tau_vals).block_until_ready()\n",
    "sim_time = time() - start\n",
    "print('Batch simulation time without jit: ' + str(sim_time))\n",
    "print('Batch simulation average time without jit: ' + str(sim_time / len(tau_vals)))"
   ]
  },
  {
   "cell_type": "code",
   "execution_count": null,
   "id": "surprising-hollywood",
   "metadata": {},
   "outputs": [],
   "source": [
    "infidelities = []\n",
    "for k in range(len(tau_vals)):\n",
    "    infidelities.append(1-(jnp.abs((rwa_sim_y[k].conj().transpose() @ direct_sim_y[k]).trace()) / (dim**2))**2)"
   ]
  },
  {
   "cell_type": "code",
   "execution_count": null,
   "id": "healthy-filename",
   "metadata": {},
   "outputs": [],
   "source": [
    "infidelities"
   ]
  },
  {
   "cell_type": "markdown",
   "id": "revolutionary-print",
   "metadata": {},
   "source": [
    "In the above we see the speed benefits of the RWA, however the fidelity of the simulation is fundamentally limited by the approximation."
   ]
  },
  {
   "cell_type": "markdown",
   "id": "talented-destiny",
   "metadata": {},
   "source": [
    "# 4. Magnus based approximate simulation\n",
    "\n",
    "Next, we simulate the system using the Magnus-RWA method. For this approach, over each short interval, we approximate the drive envelope as a polynomial decomposed via Chebyshev polynomials. For a fixed time interval, we compute Magnus terms for these Chebyshev polynomial drive terms (up to some order).\n",
    "\n",
    "Given these pre-computed Magnus terms, to simulate:\n",
    "- For each time interval, compute Chebyshev coefficients for drive envelope\n",
    "- Take linear combination of Magnus terms based on these coefficients and exponentiate\n",
    "- Multiply by frame correction\n",
    "\n",
    "First, we set up the chebyshev approximation routine."
   ]
  },
  {
   "cell_type": "code",
   "execution_count": null,
   "id": "derived-container",
   "metadata": {},
   "outputs": [],
   "source": [
    "def get_DCT_data(deg, domain=[-1, 1]):\n",
    "    \"\"\"Construct DCT matrix for a given degree, and \n",
    "    compute the shifted chebyshev points for computing the approximation over\n",
    "    domain\n",
    "    \"\"\"\n",
    "    order = deg + 1\n",
    "    xcheb = chebpts1(order)\n",
    "    xcheb_shifted = 0.5*((domain[1] - domain[0]) * xcheb + (domain[1] + domain[0]))\n",
    "    \n",
    "    dct_mat = chebvander(xcheb, deg).T\n",
    "    dct_mat[0] /= order\n",
    "    dct_mat[1:] /= 0.5 * order\n",
    "    \n",
    "    return dct_mat, xcheb_shifted\n",
    "\n",
    "def perform_DCT(func, dct_mat, xcheb_shifted):\n",
    "    # assume vectorized\n",
    "    func_vals = func(xcheb_shifted)\n",
    "    return np.dot(dct_mat, func_vals)\n",
    "\n",
    "def multi_interval_DCT(func, dct_mat, xcheb_shifted, start_point_shifts):\n",
    "    dct_coeffs = [perform_DCT(func, dct_mat, xcheb_shifted + point) for point in start_point_shifts]\n",
    "    return np.array(dct_coeffs)\n",
    "\n",
    "def construct_multi_interval_DCT(deg, dt, n_intervals, start_time):\n",
    "    \n",
    "    # construct chebyshev data for a single interval\n",
    "    dct_mat, xcheb_0 = get_DCT_data(deg, domain=[0, dt])\n",
    "    \n",
    "    # compute all times at which the function needs to be evaluated\n",
    "    interval_start_times = start_time + np.arange(n_intervals) * dt\n",
    "    # time values: columns correspond to interval, rows are the shifted chebyshev values\n",
    "    t_vals = np.add.outer(xcheb_0, interval_start_times)\n",
    "    \n",
    "    def approx_func(func):\n",
    "        f_vals = func(t_vals)\n",
    "        \n",
    "        return dct_mat @ f_vals\n",
    "\n",
    "    return approx_func"
   ]
  },
  {
   "cell_type": "code",
   "execution_count": null,
   "id": "fewer-seller",
   "metadata": {},
   "outputs": [],
   "source": [
    "approx_func = construct_multi_interval_DCT(2, dt, N, start_time=0)"
   ]
  },
  {
   "cell_type": "code",
   "execution_count": null,
   "id": "supreme-burner",
   "metadata": {},
   "outputs": [],
   "source": [
    "vec_pulse_func = jnp.vectorize(pulse_func)"
   ]
  },
  {
   "cell_type": "code",
   "execution_count": null,
   "id": "residential-burke",
   "metadata": {},
   "outputs": [],
   "source": [
    "cheb_coeffs = approx_func(vec_pulse_func)"
   ]
  },
  {
   "cell_type": "markdown",
   "id": "civic-waste",
   "metadata": {},
   "source": [
    "## Chebyshev evaluation"
   ]
  },
  {
   "cell_type": "markdown",
   "id": "electronic-mercury",
   "metadata": {},
   "source": [
    "Function for evaluating Chebyshev "
   ]
  },
  {
   "cell_type": "code",
   "execution_count": null,
   "id": "corresponding-spanish",
   "metadata": {},
   "outputs": [],
   "source": [
    "def evaluate_cheb_series(x, c, domain=[-1, 1]):\n",
    "    \"\"\"Evaluate a chebyshev series on a given domain.\n",
    "    Aside from the domain modification this is copied from numpy,\n",
    "    though I think this is a pretty classic algorithm\n",
    "    \"\"\"\n",
    "    x = (2 * x - domain[1] - domain[0]) / (domain[1] - domain[0])\n",
    "\n",
    "    if len(c) == 1:\n",
    "        c0 = c[0]\n",
    "        c1 = 0\n",
    "    elif len(c) == 2:\n",
    "        c0 = c[0]\n",
    "        c1 = c[1]\n",
    "    else:\n",
    "        x2 = 2*x\n",
    "        \n",
    "        def scan_fun(carry, idx):\n",
    "            c0, c1 = carry\n",
    "            tmp = c0\n",
    "            c0 = c[-idx] - c1\n",
    "            c1 = tmp + c1 * x2\n",
    "            return (c0, c1), None\n",
    "        \n",
    "        c0, c1 = scan(scan_fun, init=(c[-2], c[-1]), xs=jnp.arange(3, len(c) + 1))[0]\n",
    "        \n",
    "    return c0 + c1*x\n",
    "\n",
    "def approx_func_as_callable(cheb_coeffs, dt, n_intervals, start_time):\n",
    "    interval_start_times = start_time + np.arange(n_intervals) * dt\n",
    "    \n",
    "    def approx_func(t):\n",
    "        k = jnp.clip(jnp.array(t // dt, dtype=int), 0, cheb_coeffs.shape[-1]-1)\n",
    "        return evaluate_cheb_series(t - (k * dt), cheb_coeffs[:, k], [0, dt])\n",
    "    return approx_func\n",
    "    "
   ]
  },
  {
   "cell_type": "code",
   "execution_count": null,
   "id": "vital-family",
   "metadata": {},
   "outputs": [],
   "source": [
    "approx_pulse_func = approx_func_as_callable(cheb_coeffs, dt, N, 0)"
   ]
  },
  {
   "cell_type": "code",
   "execution_count": null,
   "id": "missing-catch",
   "metadata": {},
   "outputs": [],
   "source": [
    "k = 0\n",
    "times = np.linspace(k*dt, (k+1)*dt, 100)\n",
    "vals = vec_pulse_func(times)\n",
    "approx_vals = approx_pulse_func(times)\n",
    "plt.plot(times, vals, times, approx_vals)\n",
    "# difference on a log scale!!"
   ]
  },
  {
   "cell_type": "markdown",
   "id": "quantitative-disabled",
   "metadata": {},
   "source": [
    "## Compute magnus approx with chebyshev polynomials"
   ]
  },
  {
   "cell_type": "code",
   "execution_count": null,
   "id": "fatty-nothing",
   "metadata": {},
   "outputs": [],
   "source": [
    "def G(t):\n",
    "    return -1j * H0_B\n",
    "\n",
    "def T0(t, t0):\n",
    "    return evaluate_cheb_series(t - t0, [1], domain=[0, dt])\n",
    "\n",
    "def A0(t, t0):\n",
    "    return -1j * T0(t, t0) * jnp.cos(w_d * t) * Hdc_B\n",
    "\n",
    "def T1(t, t0):\n",
    "    return evaluate_cheb_series(t - t0, [0, 1], domain=[0, dt])\n",
    "\n",
    "def A1(t, t0):\n",
    "    return -1j * T1(t, t0) * jnp.cos(w_d * t) * Hdc_B\n",
    "\n",
    "def T2(t, t0):\n",
    "    return evaluate_cheb_series(t - t0, jnp.array([0, 0, 1], dtype=float), domain=[0, dt])\n",
    "\n",
    "def A2(t, t0):\n",
    "    return -1j * T2(t, t0) * jnp.cos(w_d * t) * Hdc_B"
   ]
  },
  {
   "cell_type": "code",
   "execution_count": null,
   "id": "thick-meaning",
   "metadata": {},
   "outputs": [],
   "source": [
    "start = time()\n",
    "mag_results = solve_lmde_perturbation(A_list=[lambda t: A0(t, 0), lambda t: A1(t, 0), lambda t: A2(t, 0)],\n",
    "                                  perturbation_method='symmetric_magnus',\n",
    "                                  perturbation_order=5,\n",
    "                                  perturbation_terms=[[0, 0, 0, 0, 0, 0, 0]],\n",
    "                                  t_span=[0, dt],\n",
    "                                  generator=G,\n",
    "                                  method='jax_odeint',\n",
    "                                  atol=1e-8,\n",
    "                                  rtol=1e-8)\n",
    "print(time() - start)"
   ]
  },
  {
   "cell_type": "markdown",
   "id": "italic-sheffield",
   "metadata": {},
   "source": [
    "## Approx simulation"
   ]
  },
  {
   "cell_type": "code",
   "execution_count": null,
   "id": "respected-poverty",
   "metadata": {},
   "outputs": [],
   "source": [
    "# For perfect solutions the Magnus terms are guaranteed to be anti-hermitian,\n",
    "# but anti-hermiticity doesn't need to be respected in the initial solver tolerance\n",
    "# So, when extracting, project onto the real subspace of anti-hermitian operators\n",
    "def to_aherm(A):\n",
    "    return 0.5 * (A - A.conj().transpose())\n",
    "\n",
    "M0 = to_aherm(mag_results.perturbation_results[[0]][-1])\n",
    "M1 = to_aherm(mag_results.perturbation_results[[1]][-1])\n",
    "M2 = to_aherm(mag_results.perturbation_results[[2]][-1])\n",
    "M00 = to_aherm(mag_results.perturbation_results[[0, 0]][-1])\n",
    "M01 = to_aherm(mag_results.perturbation_results[[0, 1]][-1])\n",
    "M02 = to_aherm(mag_results.perturbation_results[[0, 2]][-1])\n",
    "M11 = to_aherm(mag_results.perturbation_results[[1, 1]][-1])\n",
    "M12 = to_aherm(mag_results.perturbation_results[[1, 2]][-1])\n",
    "M22 = to_aherm(mag_results.perturbation_results[[2, 2]][-1])\n",
    "M000 = to_aherm(mag_results.perturbation_results[[0, 0, 0]][-1])\n",
    "M001 = to_aherm(mag_results.perturbation_results[[0, 0, 1]][-1])\n",
    "M002 = to_aherm(mag_results.perturbation_results[[0, 0, 2]][-1])\n",
    "M011 = to_aherm(mag_results.perturbation_results[[0, 1, 1]][-1])\n",
    "M012 = to_aherm(mag_results.perturbation_results[[0, 1, 2]][-1])\n",
    "M022 = to_aherm(mag_results.perturbation_results[[0, 2, 2]][-1])\n",
    "M111 = to_aherm(mag_results.perturbation_results[[1, 1, 1]][-1])\n",
    "M112 = to_aherm(mag_results.perturbation_results[[1, 1, 2]][-1])\n",
    "M122 = to_aherm(mag_results.perturbation_results[[1, 2, 2]][-1])\n",
    "M222 = to_aherm(mag_results.perturbation_results[[2, 2, 2]][-1])\n",
    "M0000 = to_aherm(mag_results.perturbation_results[[0, 0, 0, 0]][-1])\n",
    "M0001 = to_aherm(mag_results.perturbation_results[[0, 0, 0, 1]][-1])\n",
    "M0002 = to_aherm(mag_results.perturbation_results[[0, 0, 0, 2]][-1])\n",
    "M0011 = to_aherm(mag_results.perturbation_results[[0, 0, 1, 1]][-1])\n",
    "M0012 = to_aherm(mag_results.perturbation_results[[0, 0, 1, 2]][-1])\n",
    "M0022 = to_aherm(mag_results.perturbation_results[[0, 0, 2, 2]][-1])\n",
    "M0111 = to_aherm(mag_results.perturbation_results[[0, 1, 1, 1]][-1])\n",
    "M0112 = to_aherm(mag_results.perturbation_results[[0, 1, 1, 2]][-1])\n",
    "M0122 = to_aherm(mag_results.perturbation_results[[0, 1, 2, 2]][-1])\n",
    "M0222 = to_aherm(mag_results.perturbation_results[[0, 2, 2, 2]][-1])\n",
    "M1111 = to_aherm(mag_results.perturbation_results[[1, 1, 1, 1]][-1])\n",
    "M1112 = to_aherm(mag_results.perturbation_results[[1, 1, 1, 2]][-1])\n",
    "M1122 = to_aherm(mag_results.perturbation_results[[1, 1, 2, 2]][-1])\n",
    "M1222 = to_aherm(mag_results.perturbation_results[[1, 2, 2, 2]][-1])\n",
    "M2222 = to_aherm(mag_results.perturbation_results[[2, 2, 2, 2]][-1])\n",
    "M00000 = to_aherm(mag_results.perturbation_results[[0, 0, 0, 0, 0]][-1])\n",
    "M00001 = to_aherm(mag_results.perturbation_results[[0, 0, 0, 0, 1]][-1])\n",
    "M00002 = to_aherm(mag_results.perturbation_results[[0, 0, 0, 0, 2]][-1])\n",
    "M00011 = to_aherm(mag_results.perturbation_results[[0, 0, 0, 1, 1]][-1])\n",
    "M00012 = to_aherm(mag_results.perturbation_results[[0, 0, 0, 1, 2]][-1])\n",
    "M00022 = to_aherm(mag_results.perturbation_results[[0, 0, 0, 2, 2]][-1])\n",
    "M00111 = to_aherm(mag_results.perturbation_results[[0, 0, 1, 1, 1]][-1])\n",
    "M00112 = to_aherm(mag_results.perturbation_results[[0, 0, 1, 1, 2]][-1])\n",
    "M00122 = to_aherm(mag_results.perturbation_results[[0, 0, 1, 2, 2]][-1])\n",
    "M00222 = to_aherm(mag_results.perturbation_results[[0, 0, 2, 2, 2]][-1])\n",
    "M01111 = to_aherm(mag_results.perturbation_results[[0, 1, 1, 1, 1]][-1])\n",
    "M01112 = to_aherm(mag_results.perturbation_results[[0, 1, 1, 1, 2]][-1])\n",
    "M01122 = to_aherm(mag_results.perturbation_results[[0, 1, 1, 2, 2]][-1])\n",
    "M01222 = to_aherm(mag_results.perturbation_results[[0, 1, 2, 2, 2]][-1])\n",
    "M02222 = to_aherm(mag_results.perturbation_results[[0, 2, 2, 2, 2]][-1])\n",
    "M11111 = to_aherm(mag_results.perturbation_results[[1, 1, 1, 1, 1]][-1])\n",
    "M11112 = to_aherm(mag_results.perturbation_results[[1, 1, 1, 1, 2]][-1])\n",
    "M11122 = to_aherm(mag_results.perturbation_results[[1, 1, 1, 2, 2]][-1])\n",
    "M11222 = to_aherm(mag_results.perturbation_results[[1, 1, 2, 2, 2]][-1])\n",
    "M12222 = to_aherm(mag_results.perturbation_results[[1, 2, 2, 2, 2]][-1])\n",
    "M22222 = to_aherm(mag_results.perturbation_results[[2, 2, 2, 2, 2]][-1])\n",
    "M000000 = to_aherm(mag_results.perturbation_results[[0, 0, 0, 0, 0, 0]][-1])\n",
    "M0000000 = to_aherm(mag_results.perturbation_results[[0, 0, 0, 0, 0, 0, 0]][-1])\n",
    "\n",
    "# single step frame operator\n",
    "Uf_dt = jexpm(-1j * H0_B * dt)\n",
    "\n",
    "# final step frame operator\n",
    "Uf = jexpm(1j * H0_B * N * dt)"
   ]
  },
  {
   "cell_type": "code",
   "execution_count": null,
   "id": "improved-begin",
   "metadata": {},
   "outputs": [],
   "source": [
    "def magnus_sim(taur, sig):\n",
    "    drive_func = jnp.vectorize(lambda t: pulse(sig, taur, tau, t))\n",
    "    c_coeffs = approx_func(drive_func)\n",
    "    \n",
    "    def approx_gen(k):\n",
    "        coeffs = c_coeffs[:, k]\n",
    "        c0 = coeffs[0]\n",
    "        c1 = coeffs[1]\n",
    "        c2 = coeffs[2]\n",
    "        c00 = c0 * c0\n",
    "        c01 = c0 * c1\n",
    "        c02 = c0 * c2\n",
    "        c11 = c1 * c1\n",
    "        c12 = c1 * c2\n",
    "        c22 = c2 * c2\n",
    "        c000 = c0 * c00\n",
    "        c001 = c0 * c01\n",
    "        c002 = c0 * c02\n",
    "        c011 = c0 * c11\n",
    "        c012 = c0 * c12\n",
    "        c022 = c0 * c22\n",
    "        c111 = c1 * c11\n",
    "        c112 = c1 * c12\n",
    "        c122 = c1 * c22\n",
    "        c222 = c2 * c22\n",
    "        c0000 = c0 * c000\n",
    "        c0001 = c0 * c001\n",
    "        c0002 = c0 * c002\n",
    "        c0011 = c0 * c011\n",
    "        c0012 = c0 * c012\n",
    "        c0022 = c0 * c022\n",
    "        c0111 = c0 * c111\n",
    "        c0112 = c0 * c112\n",
    "        c0122 = c0 * c122\n",
    "        c0222 = c0 * c222\n",
    "        c1111 = c1 * c111\n",
    "        c1112 = c1 * c112\n",
    "        c1122 = c1 * c122\n",
    "        c1222 = c1 * c222\n",
    "        c2222 = c2 * c222\n",
    "        c00000 = c0 * c0000\n",
    "        c00001 = c0 * c0001\n",
    "        c00002 = c0 * c0002\n",
    "        c00011 = c0 * c0011\n",
    "        c00012 = c0 * c0012\n",
    "        c00022 = c0 * c0022\n",
    "        c00111 = c0 * c0111\n",
    "        c00112 = c0 * c0112\n",
    "        c00122 = c0 * c0122\n",
    "        c00222 = c0 * c0222\n",
    "        c01111 = c0 * c1111\n",
    "        c01112 = c0 * c1112\n",
    "        c01122 = c0 * c1122\n",
    "        c01222 = c0 * c1222\n",
    "        c02222 = c0 * c2222\n",
    "        c11111 = c1 * c1111\n",
    "        c11112 = c1 * c1112\n",
    "        c11122 = c1 * c1122\n",
    "        c11222 = c1 * c1222\n",
    "        c12222 = c1 * c2222\n",
    "        c22222 = c2 * c2222\n",
    "        c000000 = c0 * c00000\n",
    "        c0000000 = c0 * c000000\n",
    "    \n",
    "        return (c0 * M0\n",
    "                + c1 * M1\n",
    "                + c2 * M2\n",
    "                + c00 * M00\n",
    "                + c01 * M01\n",
    "                + c02 * M02\n",
    "                + c11 * M11\n",
    "                + c12 * M12\n",
    "                + c22 * M22\n",
    "                + c000 * M000\n",
    "                + c001 * M001\n",
    "                + c002 * M002\n",
    "                + c011 * M011\n",
    "                + c012 * M012\n",
    "                + c022 * M022\n",
    "                + c111 * M111\n",
    "                + c112 * M112\n",
    "                + c122 * M112\n",
    "                + c222 * M222\n",
    "                + c0000 * M0000\n",
    "                + c0001 * M0001\n",
    "                + c0002 * M0002\n",
    "                + c0011 * M0011\n",
    "                + c0012 * M0012\n",
    "                + c0022 * M0022\n",
    "                + c0111 * M0111\n",
    "                + c0112 * M0112\n",
    "                + c0122 * M0122\n",
    "                + c0222 * M0222\n",
    "                + c1111 * M1111\n",
    "                + c1112 * M1112\n",
    "                + c1122 * M1122\n",
    "                + c1222 * M1222\n",
    "                + c2222 * M2222\n",
    "                + c00001 * M00001\n",
    "                + c00002 * M00002\n",
    "                + c00011 * M00011\n",
    "                + c00012 * M00012\n",
    "                + c00022 * M00022\n",
    "                + c00111 * M00111\n",
    "                + c00112 * M00112\n",
    "                + c00122 * M00122\n",
    "                + c00222 * M00222\n",
    "                + c01111 * M01111\n",
    "                + c01112 * M01112\n",
    "                + c01122 * M01122\n",
    "                + c01222 * M01222\n",
    "                + c02222 * M02222\n",
    "                + c11111 * M11111\n",
    "                + c11112 * M11112\n",
    "                + c11122 * M11122\n",
    "                + c11222 * M11222\n",
    "                + c12222 * M12222\n",
    "                + c22222 * M22222\n",
    "                + c000000 * M000000\n",
    "                + c0000000 * M0000000)\n",
    "\n",
    "\n",
    "    def single_step(k):\n",
    "        return Uf_dt @ jexpm(approx_gen(k))\n",
    "    \n",
    "    step_propagators = vmap(single_step)(jnp.flip(jnp.arange(0, N, dtype=int)))\n",
    "    final_prop = associative_scan(jnp.matmul, step_propagators, axis=0)[-1]\n",
    "    \n",
    "    return Uf @ final_prop\n",
    "    \n",
    "    \n",
    "    \n",
    "jit_magnus_sim = jit(magnus_sim)"
   ]
  },
  {
   "cell_type": "code",
   "execution_count": null,
   "id": "direct-navigator",
   "metadata": {},
   "outputs": [],
   "source": [
    "start = time()\n",
    "single_magnus_y = jit_magnus_sim(taur/5, sig).block_until_ready()\n",
    "print(time() - start)"
   ]
  },
  {
   "cell_type": "code",
   "execution_count": null,
   "id": "innovative-disney",
   "metadata": {},
   "outputs": [],
   "source": [
    "start = time()\n",
    "single_magnus_y = jit_magnus_sim(taur/5, sig).block_until_ready()\n",
    "print(time() - start)"
   ]
  },
  {
   "cell_type": "code",
   "execution_count": null,
   "id": "aging-sleep",
   "metadata": {},
   "outputs": [],
   "source": [
    "1-(jnp.abs((single_magnus_y.conj().transpose() @ single_sim_y).trace()) / (dim**2))**2"
   ]
  },
  {
   "cell_type": "markdown",
   "id": "phantom-flush",
   "metadata": {},
   "source": [
    "### 4.1 Measure vmap jit + sim time"
   ]
  },
  {
   "cell_type": "code",
   "execution_count": null,
   "id": "virgin-chapter",
   "metadata": {},
   "outputs": [],
   "source": [
    "jit_vmap_magnus_sim = jit(vmap(lambda tau: magnus_sim(tau, sig)))"
   ]
  },
  {
   "cell_type": "code",
   "execution_count": null,
   "id": "future-karaoke",
   "metadata": {},
   "outputs": [],
   "source": [
    "start = time()\n",
    "vmap_magnus_sim_y = jit_vmap_magnus_sim(tau_vals).block_until_ready()\n",
    "sim_time = time() - start\n",
    "print('Batch simulation time including jit: ' + str(sim_time))\n",
    "print('Batch simulation average time including jit: ' + str(sim_time / len(tau_vals)))"
   ]
  },
  {
   "cell_type": "code",
   "execution_count": null,
   "id": "passive-scheduling",
   "metadata": {},
   "outputs": [],
   "source": [
    "start = time()\n",
    "vmap_magnus_sim_y = jit_vmap_magnus_sim(tau_vals).block_until_ready()\n",
    "sim_time = time() - start\n",
    "print('Batch simulation time without jit: ' + str(sim_time))\n",
    "print('Batch simulation average time without jit: ' + str(sim_time / len(tau_vals)))"
   ]
  },
  {
   "cell_type": "code",
   "execution_count": null,
   "id": "competent-orange",
   "metadata": {},
   "outputs": [],
   "source": [
    "infidelities = []\n",
    "for k in range(len(tau_vals)):\n",
    "    infidelities.append(1-(jnp.abs((vmap_magnus_sim_y[k].conj().transpose() @ direct_sim_y[k]).trace()) / (dim**2))**2)"
   ]
  },
  {
   "cell_type": "code",
   "execution_count": null,
   "id": "several-glossary",
   "metadata": {},
   "outputs": [],
   "source": [
    "infidelities"
   ]
  },
  {
   "cell_type": "markdown",
   "id": "3b9679d3",
   "metadata": {},
   "source": [
    "# 5. New code"
   ]
  },
  {
   "cell_type": "code",
   "execution_count": 11,
   "id": "02dfc9e4",
   "metadata": {},
   "outputs": [],
   "source": [
    "from qiskit_dynamics_internal.perturbation.dysolve_magsolve import (compile_dysolve_jax,\n",
    "                                                                    compile_magsolve_jax)"
   ]
  },
  {
   "cell_type": "code",
   "execution_count": 12,
   "id": "c25cc482",
   "metadata": {},
   "outputs": [
    {
     "name": "stdout",
     "output_type": "stream",
     "text": [
      "8.837493896484375\n"
     ]
    }
   ],
   "source": [
    "start = time()\n",
    "mag_solver = compile_magsolve_jax([-1j * Hdc_B],\n",
    "                                  carrier_freqs=[v_d],\n",
    "                                 frame_operator=-1j*H0_B,\n",
    "                                 dt=15. / v_d,\n",
    "                                 polynomial_degrees=[1],\n",
    "                                 perturbation_order=3,\n",
    "                                 #perturbation_terms=[[0, 0, 0, 0, 0, 0, 0]],\n",
    "                                 method='jax_odeint',\n",
    "                                 atol=1e-8,\n",
    "                                 rtol=1e-8)\n",
    "print(time() - start)"
   ]
  },
  {
   "cell_type": "markdown",
   "id": "6ff166c1",
   "metadata": {},
   "source": [
    "Something is wrong here, as this is taking much longer than what should be the exact same computation in the previous section.\n",
    "\n",
    "Actually it may not be wrong, it could be due to this computing many more terms, due to the sine terms."
   ]
  },
  {
   "cell_type": "code",
   "execution_count": 13,
   "id": "c70b823d",
   "metadata": {},
   "outputs": [],
   "source": [
    "def magnus_sim_new(taur, sig):\n",
    "    drive_func = jnp.vectorize(lambda t: pulse(sig, taur, tau, t))\n",
    "    sig = Signal(drive_func, carrier_freq=v_d)\n",
    "    \n",
    "    yf = mag_solver([sig], y0=jnp.eye(dim**2, dtype=complex), t0=0, n_steps=N)\n",
    "    return yf\n",
    "\n",
    "jit_magnus_sim_new = jit(magnus_sim_new)"
   ]
  },
  {
   "cell_type": "code",
   "execution_count": 14,
   "id": "cf1455e3",
   "metadata": {},
   "outputs": [
    {
     "ename": "TypeError",
     "evalue": "operand type(s) all returned NotImplemented from __array_ufunc__(<ufunc 'add'>, 'outer', Array(Traced<ShapedArray(float64[2])>with<DynamicJaxprTrace(level=0/1)>), Array(Traced<ShapedArray(float64[66])>with<DynamicJaxprTrace(level=0/1)>)): 'Array', 'Array'",
     "output_type": "error",
     "traceback": [
      "\u001b[0;31m---------------------------------------------------------------------------\u001b[0m",
      "\u001b[0;31mTypeError\u001b[0m                                 Traceback (most recent call last)",
      "\u001b[0;32m<ipython-input-14-b07db6bfb2fe>\u001b[0m in \u001b[0;36m<module>\u001b[0;34m\u001b[0m\n\u001b[1;32m      1\u001b[0m \u001b[0mstart\u001b[0m \u001b[0;34m=\u001b[0m \u001b[0mtime\u001b[0m\u001b[0;34m(\u001b[0m\u001b[0;34m)\u001b[0m\u001b[0;34m\u001b[0m\u001b[0;34m\u001b[0m\u001b[0m\n\u001b[0;32m----> 2\u001b[0;31m \u001b[0myf\u001b[0m \u001b[0;34m=\u001b[0m \u001b[0mjit_magnus_sim_new\u001b[0m\u001b[0;34m(\u001b[0m\u001b[0mtaur\u001b[0m\u001b[0;34m,\u001b[0m \u001b[0msig\u001b[0m\u001b[0;34m)\u001b[0m\u001b[0;34m.\u001b[0m\u001b[0mblock_until_ready\u001b[0m\u001b[0;34m(\u001b[0m\u001b[0;34m)\u001b[0m\u001b[0;34m\u001b[0m\u001b[0;34m\u001b[0m\u001b[0m\n\u001b[0m\u001b[1;32m      3\u001b[0m \u001b[0mprint\u001b[0m\u001b[0;34m(\u001b[0m\u001b[0mtime\u001b[0m\u001b[0;34m(\u001b[0m\u001b[0;34m)\u001b[0m\u001b[0;34m-\u001b[0m\u001b[0mstart\u001b[0m\u001b[0;34m)\u001b[0m\u001b[0;34m\u001b[0m\u001b[0;34m\u001b[0m\u001b[0m\n",
      "    \u001b[0;31m[... skipping hidden 12 frame]\u001b[0m\n",
      "\u001b[0;32m<ipython-input-13-d66a06990599>\u001b[0m in \u001b[0;36mmagnus_sim_new\u001b[0;34m(taur, sig)\u001b[0m\n\u001b[1;32m      3\u001b[0m     \u001b[0msig\u001b[0m \u001b[0;34m=\u001b[0m \u001b[0mSignal\u001b[0m\u001b[0;34m(\u001b[0m\u001b[0mdrive_func\u001b[0m\u001b[0;34m,\u001b[0m \u001b[0mcarrier_freq\u001b[0m\u001b[0;34m=\u001b[0m\u001b[0mv_d\u001b[0m\u001b[0;34m)\u001b[0m\u001b[0;34m\u001b[0m\u001b[0;34m\u001b[0m\u001b[0m\n\u001b[1;32m      4\u001b[0m \u001b[0;34m\u001b[0m\u001b[0m\n\u001b[0;32m----> 5\u001b[0;31m     \u001b[0myf\u001b[0m \u001b[0;34m=\u001b[0m \u001b[0mmag_solver\u001b[0m\u001b[0;34m(\u001b[0m\u001b[0;34m[\u001b[0m\u001b[0msig\u001b[0m\u001b[0;34m]\u001b[0m\u001b[0;34m,\u001b[0m \u001b[0my0\u001b[0m\u001b[0;34m=\u001b[0m\u001b[0mjnp\u001b[0m\u001b[0;34m.\u001b[0m\u001b[0meye\u001b[0m\u001b[0;34m(\u001b[0m\u001b[0mdim\u001b[0m\u001b[0;34m**\u001b[0m\u001b[0;36m2\u001b[0m\u001b[0;34m,\u001b[0m \u001b[0mdtype\u001b[0m\u001b[0;34m=\u001b[0m\u001b[0mcomplex\u001b[0m\u001b[0;34m)\u001b[0m\u001b[0;34m,\u001b[0m \u001b[0mt0\u001b[0m\u001b[0;34m=\u001b[0m\u001b[0;36m0\u001b[0m\u001b[0;34m,\u001b[0m \u001b[0mn_steps\u001b[0m\u001b[0;34m=\u001b[0m\u001b[0mN\u001b[0m\u001b[0;34m)\u001b[0m\u001b[0;34m\u001b[0m\u001b[0;34m\u001b[0m\u001b[0m\n\u001b[0m\u001b[1;32m      6\u001b[0m     \u001b[0;32mreturn\u001b[0m \u001b[0myf\u001b[0m\u001b[0;34m\u001b[0m\u001b[0;34m\u001b[0m\u001b[0m\n\u001b[1;32m      7\u001b[0m \u001b[0;34m\u001b[0m\u001b[0m\n",
      "\u001b[0;32m~/Documents/projects/qiskit-dynamics-internal/qiskit_dynamics_internal/perturbation/dysolve_magsolve.py\u001b[0m in \u001b[0;36msolve\u001b[0;34m(signals, y0, t0, n_steps)\u001b[0m\n\u001b[1;32m    291\u001b[0m \u001b[0;34m\u001b[0m\u001b[0m\n\u001b[1;32m    292\u001b[0m         \u001b[0;31m# approximate signals and\u001b[0m\u001b[0;34m\u001b[0m\u001b[0;34m\u001b[0m\u001b[0;34m\u001b[0m\u001b[0m\n\u001b[0;32m--> 293\u001b[0;31m         \u001b[0msig_cheb_coeffs\u001b[0m \u001b[0;34m=\u001b[0m \u001b[0mcollective_dct\u001b[0m\u001b[0;34m(\u001b[0m\u001b[0msignals\u001b[0m\u001b[0;34m,\u001b[0m \u001b[0mt0\u001b[0m\u001b[0;34m,\u001b[0m \u001b[0mn_steps\u001b[0m\u001b[0;34m)\u001b[0m\u001b[0;34m\u001b[0m\u001b[0;34m\u001b[0m\u001b[0m\n\u001b[0m\u001b[1;32m    294\u001b[0m         \u001b[0msig_cheb_poly\u001b[0m \u001b[0;34m=\u001b[0m \u001b[0mcompute_monomials\u001b[0m\u001b[0;34m(\u001b[0m\u001b[0msig_cheb_coeffs\u001b[0m\u001b[0;34m)\u001b[0m\u001b[0;34m\u001b[0m\u001b[0;34m\u001b[0m\u001b[0m\n\u001b[1;32m    295\u001b[0m \u001b[0;34m\u001b[0m\u001b[0m\n",
      "\u001b[0;32m~/Documents/projects/qiskit-dynamics-internal/qiskit_dynamics_internal/perturbation/dysolve_magsolve.py\u001b[0m in \u001b[0;36mcollective_dct\u001b[0;34m(signal_list, t0, n_steps)\u001b[0m\n\u001b[1;32m    258\u001b[0m     \u001b[0;31m# construct signal approximation function\u001b[0m\u001b[0;34m\u001b[0m\u001b[0;34m\u001b[0m\u001b[0;34m\u001b[0m\u001b[0m\n\u001b[1;32m    259\u001b[0m     \u001b[0;32mdef\u001b[0m \u001b[0mcollective_dct\u001b[0m\u001b[0;34m(\u001b[0m\u001b[0msignal_list\u001b[0m\u001b[0;34m,\u001b[0m \u001b[0mt0\u001b[0m\u001b[0;34m,\u001b[0m \u001b[0mn_steps\u001b[0m\u001b[0;34m)\u001b[0m\u001b[0;34m:\u001b[0m\u001b[0;34m\u001b[0m\u001b[0;34m\u001b[0m\u001b[0m\n\u001b[0;32m--> 260\u001b[0;31m         return signal_list_envelope_DCT(signal_list,\n\u001b[0m\u001b[1;32m    261\u001b[0m                                         \u001b[0mreference_freqs\u001b[0m\u001b[0;34m=\u001b[0m\u001b[0mcarrier_freqs\u001b[0m\u001b[0;34m,\u001b[0m\u001b[0;34m\u001b[0m\u001b[0;34m\u001b[0m\u001b[0m\n\u001b[1;32m    262\u001b[0m                                         \u001b[0mdegrees\u001b[0m\u001b[0;34m=\u001b[0m\u001b[0mpolynomial_degrees\u001b[0m\u001b[0;34m,\u001b[0m\u001b[0;34m\u001b[0m\u001b[0;34m\u001b[0m\u001b[0m\n",
      "\u001b[0;32m~/Documents/projects/qiskit-dynamics-internal/qiskit_dynamics_internal/perturbation/dysolve_magsolve.py\u001b[0m in \u001b[0;36msignal_list_envelope_DCT\u001b[0;34m(signal_list, reference_freqs, degrees, t0, dt, n_intervals, include_imag)\u001b[0m\n\u001b[1;32m    452\u001b[0m \u001b[0;34m\u001b[0m\u001b[0m\n\u001b[1;32m    453\u001b[0m     \u001b[0;31m# initialize coefficient array with first signal\u001b[0m\u001b[0;34m\u001b[0m\u001b[0;34m\u001b[0m\u001b[0;34m\u001b[0m\u001b[0m\n\u001b[0;32m--> 454\u001b[0;31m     \u001b[0mcoeffs\u001b[0m \u001b[0;34m=\u001b[0m \u001b[0mArray\u001b[0m\u001b[0;34m(\u001b[0m\u001b[0menvelope_DCT\u001b[0m\u001b[0;34m(\u001b[0m\u001b[0msignal_list\u001b[0m\u001b[0;34m[\u001b[0m\u001b[0;36m0\u001b[0m\u001b[0;34m]\u001b[0m\u001b[0;34m,\u001b[0m \u001b[0mreference_freqs\u001b[0m\u001b[0;34m[\u001b[0m\u001b[0;36m0\u001b[0m\u001b[0;34m]\u001b[0m\u001b[0;34m,\u001b[0m \u001b[0mdegrees\u001b[0m\u001b[0;34m[\u001b[0m\u001b[0;36m0\u001b[0m\u001b[0;34m]\u001b[0m\u001b[0;34m)\u001b[0m\u001b[0;34m)\u001b[0m\u001b[0;34m\u001b[0m\u001b[0;34m\u001b[0m\u001b[0m\n\u001b[0m\u001b[1;32m    455\u001b[0m     \u001b[0;32mif\u001b[0m \u001b[0minclude_imag\u001b[0m\u001b[0;34m[\u001b[0m\u001b[0;36m0\u001b[0m\u001b[0;34m]\u001b[0m\u001b[0;34m:\u001b[0m\u001b[0;34m\u001b[0m\u001b[0;34m\u001b[0m\u001b[0m\n\u001b[1;32m    456\u001b[0m         \u001b[0mcoeffs\u001b[0m \u001b[0;34m=\u001b[0m \u001b[0mnp\u001b[0m\u001b[0;34m.\u001b[0m\u001b[0mappend\u001b[0m\u001b[0;34m(\u001b[0m\u001b[0mcoeffs\u001b[0m\u001b[0;34m.\u001b[0m\u001b[0mreal\u001b[0m\u001b[0;34m,\u001b[0m \u001b[0mcoeffs\u001b[0m\u001b[0;34m.\u001b[0m\u001b[0mimag\u001b[0m\u001b[0;34m,\u001b[0m \u001b[0maxis\u001b[0m\u001b[0;34m=\u001b[0m\u001b[0;36m0\u001b[0m\u001b[0;34m)\u001b[0m\u001b[0;34m\u001b[0m\u001b[0;34m\u001b[0m\u001b[0m\n",
      "\u001b[0;32m~/Documents/projects/qiskit-dynamics-internal/qiskit_dynamics_internal/perturbation/dysolve_magsolve.py\u001b[0m in \u001b[0;36m<lambda>\u001b[0;34m(sig, freq, degree)\u001b[0m\n\u001b[1;32m    449\u001b[0m         \u001b[0minclude_imag\u001b[0m \u001b[0;34m=\u001b[0m \u001b[0;34m[\u001b[0m\u001b[0;32mTrue\u001b[0m\u001b[0;34m]\u001b[0m \u001b[0;34m*\u001b[0m \u001b[0mlen\u001b[0m\u001b[0;34m(\u001b[0m\u001b[0msignal_list\u001b[0m\u001b[0;34m)\u001b[0m\u001b[0;34m\u001b[0m\u001b[0;34m\u001b[0m\u001b[0m\n\u001b[1;32m    450\u001b[0m \u001b[0;34m\u001b[0m\u001b[0m\n\u001b[0;32m--> 451\u001b[0;31m     \u001b[0menvelope_DCT\u001b[0m \u001b[0;34m=\u001b[0m \u001b[0;32mlambda\u001b[0m \u001b[0msig\u001b[0m\u001b[0;34m,\u001b[0m \u001b[0mfreq\u001b[0m\u001b[0;34m,\u001b[0m \u001b[0mdegree\u001b[0m\u001b[0;34m:\u001b[0m \u001b[0msignal_envelope_DCT\u001b[0m\u001b[0;34m(\u001b[0m\u001b[0msig\u001b[0m\u001b[0;34m,\u001b[0m \u001b[0mfreq\u001b[0m\u001b[0;34m,\u001b[0m \u001b[0mdegree\u001b[0m\u001b[0;34m,\u001b[0m \u001b[0mt0\u001b[0m\u001b[0;34m,\u001b[0m \u001b[0mdt\u001b[0m\u001b[0;34m,\u001b[0m \u001b[0mn_intervals\u001b[0m\u001b[0;34m)\u001b[0m\u001b[0;34m\u001b[0m\u001b[0;34m\u001b[0m\u001b[0m\n\u001b[0m\u001b[1;32m    452\u001b[0m \u001b[0;34m\u001b[0m\u001b[0m\n\u001b[1;32m    453\u001b[0m     \u001b[0;31m# initialize coefficient array with first signal\u001b[0m\u001b[0;34m\u001b[0m\u001b[0;34m\u001b[0m\u001b[0;34m\u001b[0m\u001b[0m\n",
      "\u001b[0;32m~/Documents/projects/qiskit-dynamics-internal/qiskit_dynamics_internal/perturbation/dysolve_magsolve.py\u001b[0m in \u001b[0;36msignal_envelope_DCT\u001b[0;34m(sig, reference_freq, degree, t0, dt, n_intervals)\u001b[0m\n\u001b[1;32m    478\u001b[0m         \u001b[0;32mreturn\u001b[0m \u001b[0msig\u001b[0m\u001b[0;34m.\u001b[0m\u001b[0mcomplex_value\u001b[0m\u001b[0;34m(\u001b[0m\u001b[0mt\u001b[0m\u001b[0;34m)\u001b[0m \u001b[0;34m*\u001b[0m \u001b[0mnp\u001b[0m\u001b[0;34m.\u001b[0m\u001b[0mexp\u001b[0m\u001b[0;34m(\u001b[0m\u001b[0mphase_arg\u001b[0m \u001b[0;34m*\u001b[0m \u001b[0mt\u001b[0m\u001b[0;34m)\u001b[0m\u001b[0;34m\u001b[0m\u001b[0;34m\u001b[0m\u001b[0m\n\u001b[1;32m    479\u001b[0m \u001b[0;34m\u001b[0m\u001b[0m\n\u001b[0;32m--> 480\u001b[0;31m     \u001b[0;32mreturn\u001b[0m \u001b[0mmulti_interval_DCT\u001b[0m\u001b[0;34m(\u001b[0m\u001b[0mshifted_env\u001b[0m\u001b[0;34m,\u001b[0m \u001b[0mdegree\u001b[0m\u001b[0;34m,\u001b[0m \u001b[0mt0\u001b[0m\u001b[0;34m,\u001b[0m \u001b[0mdt\u001b[0m\u001b[0;34m,\u001b[0m \u001b[0mn_intervals\u001b[0m\u001b[0;34m)\u001b[0m \u001b[0;34m*\u001b[0m \u001b[0mfinal_phase_shift\u001b[0m\u001b[0;34m\u001b[0m\u001b[0;34m\u001b[0m\u001b[0m\n\u001b[0m\u001b[1;32m    481\u001b[0m \u001b[0;34m\u001b[0m\u001b[0m\n\u001b[1;32m    482\u001b[0m \u001b[0;34m\u001b[0m\u001b[0m\n",
      "\u001b[0;32m~/Documents/projects/qiskit-dynamics-internal/qiskit_dynamics_internal/perturbation/dysolve_magsolve.py\u001b[0m in \u001b[0;36mmulti_interval_DCT\u001b[0;34m(f, degree, t0, dt, n_intervals)\u001b[0m\n\u001b[1;32m    503\u001b[0m     \u001b[0minterval_start_times\u001b[0m \u001b[0;34m=\u001b[0m \u001b[0mt0\u001b[0m \u001b[0;34m+\u001b[0m \u001b[0mnp\u001b[0m\u001b[0;34m.\u001b[0m\u001b[0marange\u001b[0m\u001b[0;34m(\u001b[0m\u001b[0mn_intervals\u001b[0m\u001b[0;34m)\u001b[0m \u001b[0;34m*\u001b[0m \u001b[0mdt\u001b[0m\u001b[0;34m\u001b[0m\u001b[0;34m\u001b[0m\u001b[0m\n\u001b[1;32m    504\u001b[0m     \u001b[0;31m# time values: columns correspond to interval, rows are the shifted chebyshev values\u001b[0m\u001b[0;34m\u001b[0m\u001b[0;34m\u001b[0m\u001b[0;34m\u001b[0m\u001b[0m\n\u001b[0;32m--> 505\u001b[0;31m     \u001b[0mx_vals\u001b[0m \u001b[0;34m=\u001b[0m \u001b[0mnp\u001b[0m\u001b[0;34m.\u001b[0m\u001b[0madd\u001b[0m\u001b[0;34m.\u001b[0m\u001b[0mouter\u001b[0m\u001b[0;34m(\u001b[0m\u001b[0mArray\u001b[0m\u001b[0;34m(\u001b[0m\u001b[0mxcheb\u001b[0m\u001b[0;34m)\u001b[0m\u001b[0;34m,\u001b[0m \u001b[0mArray\u001b[0m\u001b[0;34m(\u001b[0m\u001b[0minterval_start_times\u001b[0m\u001b[0;34m)\u001b[0m\u001b[0;34m)\u001b[0m\u001b[0;34m\u001b[0m\u001b[0;34m\u001b[0m\u001b[0m\n\u001b[0m\u001b[1;32m    506\u001b[0m \u001b[0;34m\u001b[0m\u001b[0m\n\u001b[1;32m    507\u001b[0m     \u001b[0;32mreturn\u001b[0m \u001b[0mdct_mat\u001b[0m \u001b[0;34m@\u001b[0m \u001b[0mf\u001b[0m\u001b[0;34m(\u001b[0m\u001b[0mx_vals\u001b[0m\u001b[0;34m)\u001b[0m\u001b[0;34m\u001b[0m\u001b[0;34m\u001b[0m\u001b[0m\n",
      "\u001b[0;31mTypeError\u001b[0m: operand type(s) all returned NotImplemented from __array_ufunc__(<ufunc 'add'>, 'outer', Array(Traced<ShapedArray(float64[2])>with<DynamicJaxprTrace(level=0/1)>), Array(Traced<ShapedArray(float64[66])>with<DynamicJaxprTrace(level=0/1)>)): 'Array', 'Array'"
     ]
    }
   ],
   "source": [
    "start = time()\n",
    "yf = jit_magnus_sim_new(taur, sig).block_until_ready()\n",
    "print(time()-start)"
   ]
  },
  {
   "cell_type": "code",
   "execution_count": null,
   "id": "c8f849d9",
   "metadata": {},
   "outputs": [],
   "source": []
  }
 ],
 "metadata": {
  "kernelspec": {
   "display_name": "Python 3",
   "language": "python",
   "name": "python3"
  },
  "language_info": {
   "codemirror_mode": {
    "name": "ipython",
    "version": 3
   },
   "file_extension": ".py",
   "mimetype": "text/x-python",
   "name": "python",
   "nbconvert_exporter": "python",
   "pygments_lexer": "ipython3",
   "version": "3.9.4"
  }
 },
 "nbformat": 4,
 "nbformat_minor": 5
}
