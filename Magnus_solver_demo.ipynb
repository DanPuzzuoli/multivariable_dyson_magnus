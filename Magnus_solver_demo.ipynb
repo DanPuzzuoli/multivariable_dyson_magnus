{
 "cells": [
  {
   "cell_type": "code",
   "execution_count": 1,
   "id": "valued-roulette",
   "metadata": {},
   "outputs": [],
   "source": [
    "from time import time\n",
    "\n",
    "import matplotlib.pyplot as plt\n",
    "\n",
    "import numpy as np\n",
    "from numpy.polynomial.chebyshev import chebpts1, chebvander\n",
    "\n",
    "import sys,os\n",
    "sys.path.append(os.getcwd())\n",
    "from fast_jexpm import expm as jexpm\n",
    "\n",
    "import jax.numpy as jnp\n",
    "from jax.scipy.linalg import expm as jexpm2\n",
    "from jax import vmap, jacfwd, jit\n",
    "from jax.lax import cond, scan, associative_scan\n",
    "from jax.config import config\n",
    "config.update(\"jax_enable_x64\", True)\n",
    "\n",
    "from qiskit_ode import dispatch, solve_lmde\n",
    "from qiskit_ode.dispatch import Array\n",
    "from qiskit.quantum_info import Operator\n",
    "from qiskit_ode.models import HamiltonianModel, Frame\n",
    "from qiskit_ode.signals import Signal\n",
    "from qiskit_ode_internal.perturbation import solve_lmde_perturbation\n",
    "\n",
    "dispatch.set_default_backend('jax')"
   ]
  },
  {
   "cell_type": "markdown",
   "id": "crazy-thomas",
   "metadata": {},
   "source": [
    "System parameters"
   ]
  },
  {
   "cell_type": "code",
   "execution_count": 2,
   "id": "dated-traffic",
   "metadata": {},
   "outputs": [],
   "source": [
    "w_c = 2 * np.pi * 5.1\n",
    "w_t = 2 * np.pi * 5.\n",
    "alpha_c = 2 * np.pi * (-0.33)\n",
    "alpha_t = 2 * np.pi * (-0.33)\n",
    "J = 2 * np.pi * 0.002\n",
    "# drive strength\n",
    "r = 2 * np.pi * 0.05\n",
    "\n",
    "dim = 4\n",
    "\n",
    "a = np.diag(np.sqrt(np.arange(1, dim)), 1)\n",
    "adag = a.transpose()\n",
    "N = np.diag(np.arange(dim))\n",
    "ident = np.eye(dim)\n",
    "ident2 = np.eye(dim**2)\n",
    "\n",
    "# operators on the control qubit (first tensor factor)\n",
    "a0 = np.kron(a, ident)\n",
    "adag0 = np.kron(adag, ident)\n",
    "N0 = np.kron(N, ident)\n",
    "\n",
    "# operators on the target qubit (first tensor factor)\n",
    "a1 = np.kron(ident, a)\n",
    "adag1 = np.kron(ident, adag)\n",
    "N1 = np.kron(ident, N)"
   ]
  },
  {
   "cell_type": "markdown",
   "id": "naked-invitation",
   "metadata": {},
   "source": [
    "Hamiltonian operators."
   ]
  },
  {
   "cell_type": "code",
   "execution_count": 3,
   "id": "patent-commons",
   "metadata": {},
   "outputs": [],
   "source": [
    "H0 = (w_c * N0 + 0.5 * alpha_c * N0 @ (N0 - ident2)\n",
    "      + w_t * N1 + 0.5 * alpha_t * N1 @ (N1 - ident2)\n",
    "      + J * (a0 @ adag1 + adag0 @ a1))\n",
    "Hdc = r*(a0 + adag0)\n",
    "Hdt = r*(a1 + adag1)"
   ]
  },
  {
   "cell_type": "code",
   "execution_count": 4,
   "id": "smoking-pavilion",
   "metadata": {},
   "outputs": [],
   "source": [
    "def basis_vec(ind, dimension):\n",
    "    vec = np.zeros(dimension, dtype=complex)\n",
    "    vec[ind] = 1.\n",
    "    return vec\n",
    "\n",
    "def two_q_basis_vec(inda, indb, dimension):\n",
    "    vec_a = basis_vec(inda, dimension)\n",
    "    vec_b = basis_vec(indb, dimension)\n",
    "    return np.kron(vec_a, vec_b)\n",
    "\n",
    "def get_dressed_state_index(inda, indb, dimension, evectors):\n",
    "    b_vec = two_q_basis_vec(inda, indb, dimension)\n",
    "    overlaps = np.abs(evectors @ b_vec)\n",
    "    return overlaps.argmax()\n",
    "\n",
    "def get_dressed_state_and_energy(inda, indb, dimension, evecs):\n",
    "    ind = get_dressed_state_index(inda, indb, dimension, evecs)\n",
    "    return evals[ind], evecs[ind]"
   ]
  },
  {
   "cell_type": "code",
   "execution_count": 5,
   "id": "color-german",
   "metadata": {},
   "outputs": [],
   "source": [
    "def gauss(t, sig):\n",
    "    t = Array(t).data\n",
    "    return jnp.exp(- (t**2) / (2 *(sig **2)))\n",
    "\n",
    "# this is gettin ga bit wild with the array wrapping but\n",
    "# I've messed around with too many things\n",
    "def pulse(sig, taur, tau, t):\n",
    "    sig = Array(sig).data\n",
    "    taur = Array(taur).data\n",
    "    tau = Array(tau).data\n",
    "    t = Array(t).data\n",
    "    b = gauss(taur, sig)\n",
    "    return cond(t < taur,\n",
    "                lambda s: (gauss(t - taur, sig) - b) / (1 - b),\n",
    "                lambda s: cond(t < tau-taur,\n",
    "                               lambda r: 1.,\n",
    "                               lambda r: (gauss(t - (tau - taur), sig) - b) / (1-b),\n",
    "                               0.),\n",
    "                0.)"
   ]
  },
  {
   "cell_type": "markdown",
   "id": "touched-huntington",
   "metadata": {},
   "source": [
    "Establish dressed energies and basis vectors"
   ]
  },
  {
   "cell_type": "code",
   "execution_count": 6,
   "id": "mounted-italian",
   "metadata": {},
   "outputs": [
    {
     "name": "stderr",
     "output_type": "stream",
     "text": [
      "WARNING:absl:No GPU/TPU found, falling back to CPU. (Set TF_CPP_MIN_LOG_LEVEL=0 and rerun for more info.)\n"
     ]
    }
   ],
   "source": [
    "evals, B = jnp.linalg.eigh(H0)\n",
    "Badj = B.conj().transpose()\n",
    "\n",
    "E00, dressed00 = get_dressed_state_and_energy(0, 0, dim, B)\n",
    "E01, dressed01 = get_dressed_state_and_energy(0, 1, dim, B)\n",
    "E10, dressed10 = get_dressed_state_and_energy(1, 0, dim, B)\n",
    "E11, dressed11 = get_dressed_state_and_energy(1, 1, dim, B)"
   ]
  },
  {
   "cell_type": "code",
   "execution_count": 7,
   "id": "mexican-relaxation",
   "metadata": {},
   "outputs": [
    {
     "data": {
      "text/plain": [
       "DeviceArray(-0.00025123, dtype=float64)"
      ]
     },
     "execution_count": 7,
     "metadata": {},
     "output_type": "execute_result"
    }
   ],
   "source": [
    "w_d = E01\n",
    "v_d = w_d / (2 * jnp.pi)\n",
    "w_d - w_t"
   ]
  },
  {
   "cell_type": "code",
   "execution_count": 8,
   "id": "commercial-strap",
   "metadata": {},
   "outputs": [],
   "source": [
    "# choose parameters, express everything in terms of dt\n",
    "dt = 4. / v_d\n",
    "\n",
    "tau = 200\n",
    "N = int(tau // dt)\n",
    "tau = N * dt\n",
    "taur = (20 //dt) * dt\n",
    "sig = taur / 2\n",
    "\n",
    "pulse_func = jnp.vectorize(lambda t: pulse(sig, taur, tau, t))"
   ]
  },
  {
   "cell_type": "code",
   "execution_count": 9,
   "id": "permanent-clark",
   "metadata": {},
   "outputs": [
    {
     "data": {
      "text/plain": [
       "[<matplotlib.lines.Line2D at 0x7ffd88c0e400>]"
      ]
     },
     "execution_count": 9,
     "metadata": {},
     "output_type": "execute_result"
    },
    {
     "data": {
      "image/png": "[encoded data removed]",
      "text/plain": [
       "<Figure size 432x288 with 1 Axes>"
      ]
     },
     "metadata": {
      "needs_background": "light"
     },
     "output_type": "display_data"
    }
   ],
   "source": [
    "times = np.linspace(0, tau, 100)\n",
    "vals = pulse_func(times)\n",
    "plt.plot(times, vals)"
   ]
  },
  {
   "cell_type": "code",
   "execution_count": 10,
   "id": "aggressive-clause",
   "metadata": {},
   "outputs": [],
   "source": [
    "H0_B = Badj @ H0 @ B\n",
    "Hdc_B = Badj @ Hdc @ B\n",
    "\n",
    "def full_ham(t):\n",
    "    return H0_B + pulse_func(t) * jnp.cos(w_d * t) * Hdc_B"
   ]
  },
  {
   "cell_type": "markdown",
   "id": "talented-destiny",
   "metadata": {},
   "source": [
    "# Approximation method for signal over an interval"
   ]
  },
  {
   "cell_type": "code",
   "execution_count": 11,
   "id": "derived-container",
   "metadata": {},
   "outputs": [],
   "source": [
    "def get_DCT_data(deg, domain=[-1, 1]):\n",
    "    \"\"\"Construct DCT matrix for a given degree, and \n",
    "    compute the shifted chebyshev points for computing the approximation over\n",
    "    domain\n",
    "    \"\"\"\n",
    "    order = deg + 1\n",
    "    xcheb = chebpts1(order)\n",
    "    xcheb_shifted = 0.5*((domain[1] - domain[0]) * xcheb + (domain[1] + domain[0]))\n",
    "    \n",
    "    dct_mat = chebvander(xcheb, deg).T\n",
    "    dct_mat[0] /= order\n",
    "    dct_mat[1:] /= 0.5 * order\n",
    "    \n",
    "    return dct_mat, xcheb_shifted\n",
    "\n",
    "def perform_DCT(func, dct_mat, xcheb_shifted):\n",
    "    # assume vectorized\n",
    "    func_vals = func(xcheb_shifted)\n",
    "    return np.dot(dct_mat, func_vals)\n",
    "\n",
    "def multi_interval_DCT(func, dct_mat, xcheb_shifted, start_point_shifts):\n",
    "    dct_coeffs = [perform_DCT(func, dct_mat, xcheb_shifted + point) for point in start_point_shifts]\n",
    "    return np.array(dct_coeffs)\n",
    "\n",
    "def construct_multi_interval_DCT(deg, dt, n_intervals, start_time):\n",
    "    \n",
    "    # construct chebyshev data for a single interval\n",
    "    dct_mat, xcheb_0 = get_DCT_data(deg, domain=[0, dt])\n",
    "    \n",
    "    # compute all times at which the function needs to be evaluated\n",
    "    interval_start_times = start_time + np.arange(n_intervals) * dt\n",
    "    # time values: columns correspond to interval, rows are the shifted chebyshev values\n",
    "    t_vals = np.add.outer(xcheb_0, interval_start_times)\n",
    "    \n",
    "    def approx_func(func):\n",
    "        f_vals = func(t_vals)\n",
    "        \n",
    "        return dct_mat @ f_vals\n",
    "\n",
    "    return approx_func"
   ]
  },
  {
   "cell_type": "code",
   "execution_count": 12,
   "id": "fewer-seller",
   "metadata": {},
   "outputs": [],
   "source": [
    "approx_func = construct_multi_interval_DCT(1, dt, N, start_time=0)"
   ]
  },
  {
   "cell_type": "code",
   "execution_count": 13,
   "id": "supreme-burner",
   "metadata": {},
   "outputs": [],
   "source": [
    "vec_pulse_func = jnp.vectorize(pulse_func)"
   ]
  },
  {
   "cell_type": "code",
   "execution_count": 14,
   "id": "residential-burke",
   "metadata": {},
   "outputs": [],
   "source": [
    "cheb_coeffs = approx_func(vec_pulse_func)"
   ]
  },
  {
   "cell_type": "markdown",
   "id": "civic-waste",
   "metadata": {},
   "source": [
    "## Chebyshev evaluation"
   ]
  },
  {
   "cell_type": "code",
   "execution_count": 15,
   "id": "corresponding-spanish",
   "metadata": {},
   "outputs": [],
   "source": [
    "def evaluate_cheb_series(x, c, domain=[-1, 1]):\n",
    "    \"\"\"Evaluate a chebyshev series on a given domain.\n",
    "    Aside from the domain modification this is copied from numpy,\n",
    "    though I think this is a pretty classic algorithm\n",
    "    \"\"\"\n",
    "    x = (2 * x - domain[1] - domain[0]) / (domain[1] - domain[0])\n",
    "\n",
    "    if len(c) == 1:\n",
    "        c0 = c[0]\n",
    "        c1 = 0\n",
    "    elif len(c) == 2:\n",
    "        c0 = c[0]\n",
    "        c1 = c[1]\n",
    "    else:\n",
    "        x2 = 2*x\n",
    "        \n",
    "        def scan_fun(carry, idx):\n",
    "            c0, c1 = carry\n",
    "            tmp = c0\n",
    "            c0 = c[-idx] - c1\n",
    "            c1 = tmp + c1 * x2\n",
    "            return (c0, c1), None\n",
    "        \n",
    "        c0, c1 = scan(scan_fun, init=(c[-2], c[-1]), xs=jnp.arange(3, len(c) + 1))[0]\n",
    "        \n",
    "    return c0 + c1*x\n",
    "\n",
    "def approx_func_as_callable(cheb_coeffs, dt, n_intervals, start_time):\n",
    "    interval_start_times = start_time + np.arange(n_intervals) * dt\n",
    "    \n",
    "    def approx_func(t):\n",
    "        k = jnp.clip(jnp.array(t // dt, dtype=int), 0, cheb_coeffs.shape[-1]-1)\n",
    "        return evaluate_cheb_series(t - (k * dt), cheb_coeffs[:, k], [0, dt])\n",
    "    return approx_func\n",
    "    "
   ]
  },
  {
   "cell_type": "code",
   "execution_count": 16,
   "id": "vital-family",
   "metadata": {},
   "outputs": [],
   "source": [
    "approx_pulse_func = approx_func_as_callable(cheb_coeffs, dt, N, 0)"
   ]
  },
  {
   "cell_type": "code",
   "execution_count": 17,
   "id": "missing-catch",
   "metadata": {},
   "outputs": [
    {
     "data": {
      "text/plain": [
       "[<matplotlib.lines.Line2D at 0x7ffd4855f1c0>,\n",
       " <matplotlib.lines.Line2D at 0x7ffd4855f190>]"
      ]
     },
     "execution_count": 17,
     "metadata": {},
     "output_type": "execute_result"
    },
    {
     "data": {
      "image/png": "[encoded data removed]",
      "text/plain": [
       "<Figure size 432x288 with 1 Axes>"
      ]
     },
     "metadata": {
      "needs_background": "light"
     },
     "output_type": "display_data"
    }
   ],
   "source": [
    "times = np.linspace(0, N*dt, 100)\n",
    "vals = vec_pulse_func(times)\n",
    "approx_vals = approx_pulse_func(times)\n",
    "plt.plot(times, vals, times, approx_vals)"
   ]
  },
  {
   "cell_type": "markdown",
   "id": "quantitative-disabled",
   "metadata": {},
   "source": [
    "## Compute magnus approx with chebyshev polynomials"
   ]
  },
  {
   "cell_type": "code",
   "execution_count": 18,
   "id": "fatty-nothing",
   "metadata": {},
   "outputs": [],
   "source": [
    "def G(t):\n",
    "    return -1j * H0_B\n",
    "\n",
    "def T0(t, t0):\n",
    "    return evaluate_cheb_series(t - t0, [1], domain=[0, dt])\n",
    "\n",
    "def A0(t, t0):\n",
    "    return -1j * T0(t, t0) * jnp.cos(w_d * t) * Hdc_B\n",
    "\n",
    "def T1(t, t0):\n",
    "    return evaluate_cheb_series(t - t0, [0, 1], domain=[0, dt])\n",
    "\n",
    "def A1(t, t0):\n",
    "    return -1j * T1(t, t0) * jnp.cos(w_d * t) * Hdc_B\n",
    "\n",
    "def T2(t, t0):\n",
    "    return evaluate_cheb_series(t - t0, jnp.array([0, 0, 1], dtype=float), domain=[0, dt])\n",
    "\n",
    "def A2(t, t0):\n",
    "    return -1j * T2(t, t0) * jnp.cos(w_d * t) * Hdc_B"
   ]
  },
  {
   "cell_type": "code",
   "execution_count": 19,
   "id": "thick-meaning",
   "metadata": {},
   "outputs": [
    {
     "name": "stdout",
     "output_type": "stream",
     "text": [
      "2.9968979358673096\n"
     ]
    }
   ],
   "source": [
    "start = time()\n",
    "mag_results = solve_lmde_perturbation(A_list=[lambda t: A0(t, 0), lambda t: A1(t, 0)],\n",
    "                                  perturbation_method='symmetric_magnus',\n",
    "                                  perturbation_order=2,\n",
    "                                  t_span=[0, dt],\n",
    "                                  generator=G,\n",
    "                                  method='jax_odeint',\n",
    "                                  atol=1e-10,\n",
    "                                  rtol=1e-10)\n",
    "print(time() - start)"
   ]
  },
  {
   "cell_type": "markdown",
   "id": "quality-montana",
   "metadata": {},
   "source": [
    "## Full simulation"
   ]
  },
  {
   "cell_type": "code",
   "execution_count": 20,
   "id": "after-typing",
   "metadata": {},
   "outputs": [],
   "source": [
    "# first simulate full Hamiltonian to as high a precision as possible for comparisons\n",
    "ham = HamiltonianModel(operators=[H0_B, Hdc_B])"
   ]
  },
  {
   "cell_type": "markdown",
   "id": "upper-technology",
   "metadata": {},
   "source": [
    "As a function"
   ]
  },
  {
   "cell_type": "code",
   "execution_count": 21,
   "id": "neutral-prison",
   "metadata": {},
   "outputs": [],
   "source": [
    "def full_sim(taur, sig):\n",
    "    ham_copy = ham.copy()\n",
    "    drive_func = lambda t: pulse(sig, taur, tau, t)\n",
    "    ham_copy.signals = [1., Signal(drive_func, carrier_freq=v_d)]\n",
    "    ham_copy.frame = ham_copy.drift\n",
    "    \n",
    "    results = solve_lmde(ham_copy, \n",
    "                     t_span=[0, N*dt],\n",
    "                     y0=jnp.eye(dim**2, dtype=complex),\n",
    "                     method='jax_odeint',\n",
    "                    atol=1e-15,\n",
    "                    rtol=1e-15)\n",
    "\n",
    "    return results.y[-1]\n",
    "    "
   ]
  },
  {
   "cell_type": "code",
   "execution_count": 22,
   "id": "short-feelings",
   "metadata": {},
   "outputs": [],
   "source": [
    "jit_sim = jit(full_sim)"
   ]
  },
  {
   "cell_type": "code",
   "execution_count": 23,
   "id": "honey-confidentiality",
   "metadata": {},
   "outputs": [
    {
     "name": "stdout",
     "output_type": "stream",
     "text": [
      "12.408924341201782\n"
     ]
    }
   ],
   "source": [
    "start = time()\n",
    "direct_sim_y = jit_sim(taur/5, sig).block_until_ready()\n",
    "print(time() - start)"
   ]
  },
  {
   "cell_type": "code",
   "execution_count": 24,
   "id": "exotic-balance",
   "metadata": {},
   "outputs": [],
   "source": [
    "def full_sim2(taur, sig):\n",
    "    ham_copy = ham.copy()\n",
    "    drive_func = lambda t: pulse(sig, taur, tau, t)\n",
    "    ham_copy.signals = [1., Signal(drive_func, carrier_freq=v_d)]\n",
    "    ham_copy.frame = ham_copy.drift\n",
    "    \n",
    "    results = solve_lmde(ham_copy, \n",
    "                     t_span=[0, N*dt],\n",
    "                     y0=jnp.eye(dim**2, dtype=complex),\n",
    "                     method='jax_odeint',\n",
    "                    atol=0.3*1e-7,\n",
    "                    rtol=0.3*1e-7)\n",
    "\n",
    "    return results.y[-1]\n",
    "\n",
    "jit_sim2 = jit(full_sim2)"
   ]
  },
  {
   "cell_type": "code",
   "execution_count": 29,
   "id": "wrapped-sarah",
   "metadata": {},
   "outputs": [
    {
     "name": "stdout",
     "output_type": "stream",
     "text": [
      "0.3645029067993164\n"
     ]
    }
   ],
   "source": [
    "start = time()\n",
    "direct_sim_y2 = jit_sim2(taur/5, sig).block_until_ready()\n",
    "print(time() - start)"
   ]
  },
  {
   "cell_type": "code",
   "execution_count": 26,
   "id": "mediterranean-rochester",
   "metadata": {},
   "outputs": [
    {
     "data": {
      "text/plain": [
       "DeviceArray(-2.32362547e-05, dtype=float64)"
      ]
     },
     "execution_count": 26,
     "metadata": {},
     "output_type": "execute_result"
    }
   ],
   "source": [
    "1-(jnp.abs((direct_sim_y2.conj().transpose() @ direct_sim_y).trace()) / (dim**2))**2"
   ]
  },
  {
   "cell_type": "markdown",
   "id": "italic-sheffield",
   "metadata": {},
   "source": [
    "## Approx simulation"
   ]
  },
  {
   "cell_type": "code",
   "execution_count": 27,
   "id": "respected-poverty",
   "metadata": {},
   "outputs": [],
   "source": [
    "M0 = mag_results.perturbation_results[[0]][-1]\n",
    "M1 = mag_results.perturbation_results[[1]][-1]\n",
    "#M2 = mag_results.perturbation_results[[2]][-1]\n",
    "M00 = mag_results.perturbation_results[[0, 0]][-1]\n",
    "M01 = mag_results.perturbation_results[[0, 1]][-1]\n",
    "M11 = mag_results.perturbation_results[[1, 1]][-1]\n",
    "#M02 = mag_results.perturbation_results[[0, 2]][-1]\n",
    "#M12 = mag_results.perturbation_results[[1, 2]][-1]\n",
    "#M22 = mag_results.perturbation_results[[2, 2]][-1]\n",
    "\n",
    "# single step frame operator\n",
    "Uf_dt = jexpm(-1j * H0_B * dt)\n",
    "\n",
    "# final step frame operator\n",
    "Uf = jexpm(1j * H0_B * N * dt)"
   ]
  },
  {
   "cell_type": "code",
   "execution_count": 34,
   "id": "improved-begin",
   "metadata": {},
   "outputs": [],
   "source": [
    "def approx_sim_full(taur, sig):\n",
    "    drive_func = jnp.vectorize(lambda t: pulse(sig, taur, tau, t))\n",
    "    c_coeffs = approx_func(drive_func)\n",
    "    \n",
    "    def approx_gen(k):\n",
    "        coeffs = c_coeffs[:, k]\n",
    "        c0 = coeffs[0]\n",
    "        c1 = coeffs[1]\n",
    "        #c2 = coeffs[2]\n",
    "        c00 = c0 * c0\n",
    "        c01 = c0 * c1\n",
    "        c11 = c1 * c1\n",
    "        #c02 = c0 * c2\n",
    "        #c12 = c1 * c2\n",
    "        #c22 = c2 * c2\n",
    "    \n",
    "        return c0 * M0 + c1 * M1 + c00 * M00 + c01 * M01 + c11 * M11# + c02 * M02 + c12 * M12 + c22 * M22\n",
    "\n",
    "    def single_step(k):\n",
    "        return Uf_dt @ jexpm(approx_gen(k))\n",
    "    \n",
    "    step_propagators = vmap(single_step)(jnp.flip(jnp.arange(0, N, dtype=int)))\n",
    "    final_prop = associative_scan(jnp.matmul, step_propagators, axis=0)[-1]\n",
    "    \n",
    "    return Uf @ final_prop\n",
    "    \n",
    "    \n",
    "    \n",
    "jit_approx_sim_full = jit(approx_sim_full)"
   ]
  },
  {
   "cell_type": "code",
   "execution_count": 38,
   "id": "direct-navigator",
   "metadata": {},
   "outputs": [
    {
     "name": "stdout",
     "output_type": "stream",
     "text": [
      "0.03115677833557129\n"
     ]
    }
   ],
   "source": [
    "start = time()\n",
    "approx_y = jit_approx_sim_full(taur/5, sig).block_until_ready()\n",
    "print(time() - start)"
   ]
  },
  {
   "cell_type": "code",
   "execution_count": 39,
   "id": "civilian-scheduling",
   "metadata": {},
   "outputs": [
    {
     "data": {
      "text/plain": [
       "DeviceArray(3.76936203e-05, dtype=float64)"
      ]
     },
     "execution_count": 39,
     "metadata": {},
     "output_type": "execute_result"
    }
   ],
   "source": [
    "1-(jnp.abs((approx_y.conj().transpose() @ direct_sim_y).trace()) / (dim**2))**2"
   ]
  },
  {
   "cell_type": "code",
   "execution_count": null,
   "id": "isolated-moldova",
   "metadata": {},
   "outputs": [],
   "source": []
  }
 ],
 "metadata": {
  "kernelspec": {
   "display_name": "Python 3",
   "language": "python",
   "name": "python3"
  },
  "language_info": {
   "codemirror_mode": {
    "name": "ipython",
    "version": 3
   },
   "file_extension": ".py",
   "mimetype": "text/x-python",
   "name": "python",
   "nbconvert_exporter": "python",
   "pygments_lexer": "ipython3",
   "version": "3.8.5"
  }
 },
 "nbformat": 4,
 "nbformat_minor": 5
}
