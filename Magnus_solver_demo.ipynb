{
 "cells": [
  {
   "cell_type": "code",
   "execution_count": 1,
   "id": "valued-roulette",
   "metadata": {},
   "outputs": [],
   "source": [
    "from time import time\n",
    "\n",
    "import matplotlib.pyplot as plt\n",
    "\n",
    "import numpy as np\n",
    "from numpy.polynomial.chebyshev import chebpts1, chebvander\n",
    "\n",
    "import sys,os\n",
    "sys.path.append(os.getcwd())\n",
    "\n",
    "import jax.numpy as jnp\n",
    "from jax.scipy.linalg import expm as jexpm\n",
    "from jax import vmap, jacfwd, jit\n",
    "from jax.lax import cond, scan, associative_scan\n",
    "from jax.config import config\n",
    "config.update(\"jax_enable_x64\", True)\n",
    "\n",
    "from qiskit_ode import dispatch, solve_lmde\n",
    "from qiskit_ode.dispatch import Array\n",
    "from qiskit.quantum_info import Operator\n",
    "from qiskit_ode.models import HamiltonianModel, Frame\n",
    "from qiskit_ode.signals import Signal\n",
    "from qiskit_ode_internal.perturbation import solve_lmde_perturbation\n",
    "\n",
    "dispatch.set_default_backend('jax')"
   ]
  },
  {
   "cell_type": "markdown",
   "id": "crazy-thomas",
   "metadata": {},
   "source": [
    "# 1. Define system parameters and operators\n",
    "\n",
    "System parameters"
   ]
  },
  {
   "cell_type": "code",
   "execution_count": 2,
   "id": "dated-traffic",
   "metadata": {},
   "outputs": [],
   "source": [
    "w_c = 2 * np.pi * 5.1\n",
    "w_t = 2 * np.pi * 5.\n",
    "alpha_c = 2 * np.pi * (-0.33)\n",
    "alpha_t = 2 * np.pi * (-0.33)\n",
    "J = 2 * np.pi * 0.002\n",
    "# drive strength\n",
    "r = 2 * np.pi * 0.05\n",
    "\n",
    "dim = 4\n",
    "\n",
    "a = np.diag(np.sqrt(np.arange(1, dim)), 1)\n",
    "adag = a.transpose()\n",
    "N = np.diag(np.arange(dim))\n",
    "ident = np.eye(dim)\n",
    "ident2 = np.eye(dim**2)\n",
    "\n",
    "# operators on the control qubit (first tensor factor)\n",
    "a0 = np.kron(a, ident)\n",
    "adag0 = np.kron(adag, ident)\n",
    "N0 = np.kron(N, ident)\n",
    "\n",
    "# operators on the target qubit (first tensor factor)\n",
    "a1 = np.kron(ident, a)\n",
    "adag1 = np.kron(ident, adag)\n",
    "N1 = np.kron(ident, N)"
   ]
  },
  {
   "cell_type": "markdown",
   "id": "naked-invitation",
   "metadata": {},
   "source": [
    "Hamiltonian operators."
   ]
  },
  {
   "cell_type": "code",
   "execution_count": 3,
   "id": "patent-commons",
   "metadata": {},
   "outputs": [],
   "source": [
    "H0 = (w_c * N0 + 0.5 * alpha_c * N0 @ (N0 - ident2)\n",
    "      + w_t * N1 + 0.5 * alpha_t * N1 @ (N1 - ident2)\n",
    "      + J * (a0 @ adag1 + adag0 @ a1))\n",
    "Hdc = r*(a0 + adag0)\n",
    "Hdt = r*(a1 + adag1)"
   ]
  },
  {
   "cell_type": "markdown",
   "id": "derived-oxide",
   "metadata": {},
   "source": [
    "Pulse envelope to simulate."
   ]
  },
  {
   "cell_type": "code",
   "execution_count": 4,
   "id": "legendary-member",
   "metadata": {},
   "outputs": [],
   "source": [
    "def gauss(t, sig):\n",
    "    t = Array(t).data\n",
    "    return jnp.exp(- (t**2) / (2 *(sig **2)))\n",
    "\n",
    "# this is getting a bit wild with the array wrapping but\n",
    "# I've messed around with too many things\n",
    "def pulse(sig, taur, tau, t):\n",
    "    sig = Array(sig).data\n",
    "    taur = Array(taur).data\n",
    "    tau = Array(tau).data\n",
    "    t = Array(t).data\n",
    "    b = gauss(taur, sig)\n",
    "    return cond(t < taur,\n",
    "                lambda s: (gauss(t - taur, sig) - b) / (1 - b),\n",
    "                lambda s: cond(t < tau-taur,\n",
    "                               lambda r: 1.,\n",
    "                               lambda r: (gauss(t - (tau - taur), sig) - b) / (1-b),\n",
    "                               0.),\n",
    "                0.)"
   ]
  },
  {
   "cell_type": "markdown",
   "id": "wrong-brush",
   "metadata": {},
   "source": [
    "## 1.1 Establish dressed energies"
   ]
  },
  {
   "cell_type": "code",
   "execution_count": 5,
   "id": "smoking-pavilion",
   "metadata": {},
   "outputs": [],
   "source": [
    "def basis_vec(ind, dimension):\n",
    "    vec = np.zeros(dimension, dtype=complex)\n",
    "    vec[ind] = 1.\n",
    "    return vec\n",
    "\n",
    "def two_q_basis_vec(inda, indb, dimension):\n",
    "    vec_a = basis_vec(inda, dimension)\n",
    "    vec_b = basis_vec(indb, dimension)\n",
    "    return np.kron(vec_a, vec_b)\n",
    "\n",
    "def get_dressed_state_index(inda, indb, dimension, evectors):\n",
    "    b_vec = two_q_basis_vec(inda, indb, dimension)\n",
    "    overlaps = np.abs(evectors @ b_vec)\n",
    "    return overlaps.argmax()\n",
    "\n",
    "def get_dressed_state_and_energy(inda, indb, dimension, evecs):\n",
    "    ind = get_dressed_state_index(inda, indb, dimension, evecs)\n",
    "    return evals[ind], evecs[ind]"
   ]
  },
  {
   "cell_type": "markdown",
   "id": "touched-huntington",
   "metadata": {},
   "source": [
    "Establish dressed energies and basis vectors"
   ]
  },
  {
   "cell_type": "code",
   "execution_count": 6,
   "id": "mounted-italian",
   "metadata": {},
   "outputs": [
    {
     "name": "stderr",
     "output_type": "stream",
     "text": [
      "WARNING:absl:No GPU/TPU found, falling back to CPU. (Set TF_CPP_MIN_LOG_LEVEL=0 and rerun for more info.)\n"
     ]
    }
   ],
   "source": [
    "evals, B = jnp.linalg.eigh(H0)\n",
    "Badj = B.conj().transpose()\n",
    "\n",
    "E00, dressed00 = get_dressed_state_and_energy(0, 0, dim, B)\n",
    "E01, dressed01 = get_dressed_state_and_energy(0, 1, dim, B)\n",
    "E10, dressed10 = get_dressed_state_and_energy(1, 0, dim, B)\n",
    "E11, dressed11 = get_dressed_state_and_energy(1, 1, dim, B)"
   ]
  },
  {
   "cell_type": "code",
   "execution_count": 7,
   "id": "mexican-relaxation",
   "metadata": {},
   "outputs": [
    {
     "data": {
      "text/plain": [
       "DeviceArray(-0.00025123, dtype=float64)"
      ]
     },
     "execution_count": 7,
     "metadata": {},
     "output_type": "execute_result"
    }
   ],
   "source": [
    "w_d = E01\n",
    "v_d = w_d / (2 * jnp.pi)\n",
    "w_d - w_t"
   ]
  },
  {
   "cell_type": "code",
   "execution_count": 8,
   "id": "aggressive-clause",
   "metadata": {},
   "outputs": [],
   "source": [
    "H0_B = Badj @ H0 @ B\n",
    "Hdc_B = Badj @ Hdc @ B\n",
    "\n",
    "def full_ham(t):\n",
    "    return H0_B + pulse_func(t) * jnp.cos(w_d * t) * Hdc_B"
   ]
  },
  {
   "cell_type": "markdown",
   "id": "revolutionary-registrar",
   "metadata": {},
   "source": [
    "# 2. Full simulation of the system"
   ]
  },
  {
   "cell_type": "markdown",
   "id": "promising-heart",
   "metadata": {},
   "source": [
    "Set parameters of simulation (length of pulse, number of time steps, etc)."
   ]
  },
  {
   "cell_type": "code",
   "execution_count": 186,
   "id": "rural-newark",
   "metadata": {},
   "outputs": [],
   "source": [
    "# choose parameters, express everything in terms of dt\n",
    "dt = 15. / v_d\n",
    "\n",
    "tau = 200\n",
    "N = int(tau // dt)\n",
    "tau = N * dt\n",
    "taur = (20 //dt) * dt\n",
    "sig = taur / 2\n",
    "\n",
    "pulse_func = jnp.vectorize(lambda t: pulse(sig, taur, tau, t))"
   ]
  },
  {
   "cell_type": "code",
   "execution_count": 187,
   "id": "challenging-declaration",
   "metadata": {},
   "outputs": [
    {
     "data": {
      "text/plain": [
       "66"
      ]
     },
     "execution_count": 187,
     "metadata": {},
     "output_type": "execute_result"
    }
   ],
   "source": [
    "N"
   ]
  },
  {
   "cell_type": "code",
   "execution_count": 188,
   "id": "ethical-poker",
   "metadata": {},
   "outputs": [
    {
     "data": {
      "text/plain": [
       "[<matplotlib.lines.Line2D at 0x7ffd2163aa00>]"
      ]
     },
     "execution_count": 188,
     "metadata": {},
     "output_type": "execute_result"
    },
    {
     "data": {
      "image/png": "[encoded data removed]",
      "text/plain": [
       "<Figure size 432x288 with 1 Axes>"
      ]
     },
     "metadata": {
      "needs_background": "light"
     },
     "output_type": "display_data"
    }
   ],
   "source": [
    "times = np.linspace(0, N*dt, 100)\n",
    "vals = pulse_func(times)\n",
    "plt.plot(times, vals)"
   ]
  },
  {
   "cell_type": "code",
   "execution_count": 12,
   "id": "rental-primary",
   "metadata": {},
   "outputs": [],
   "source": [
    "# first simulate full Hamiltonian to as high a precision as possible for comparisons\n",
    "ham = HamiltonianModel(operators=[H0_B, Hdc_B])"
   ]
  },
  {
   "cell_type": "markdown",
   "id": "dangerous-wheel",
   "metadata": {},
   "source": [
    "As a function"
   ]
  },
  {
   "cell_type": "code",
   "execution_count": 13,
   "id": "loved-russell",
   "metadata": {},
   "outputs": [],
   "source": [
    "def full_sim(taur, sig):\n",
    "    ham_copy = ham.copy()\n",
    "    drive_func = lambda t: pulse(sig, taur, tau, t)\n",
    "    ham_copy.signals = [1., Signal(drive_func, carrier_freq=v_d)]\n",
    "    ham_copy.frame = ham_copy.drift\n",
    "    \n",
    "    results = solve_lmde(ham_copy, \n",
    "                     t_span=[0, N*dt],\n",
    "                     y0=jnp.eye(dim**2, dtype=complex),\n",
    "                     method='jax_odeint',\n",
    "                     atol=1e-15,\n",
    "                     rtol=1e-15)\n",
    "\n",
    "    return results.y[-1]\n",
    "\n",
    "# just in time compile it\n",
    "jit_sim = jit(full_sim)"
   ]
  },
  {
   "cell_type": "markdown",
   "id": "prostate-wyoming",
   "metadata": {},
   "source": [
    "## 2.1 measure single jit + simulate"
   ]
  },
  {
   "cell_type": "code",
   "execution_count": 14,
   "id": "earned-absence",
   "metadata": {},
   "outputs": [
    {
     "name": "stdout",
     "output_type": "stream",
     "text": [
      "12.19560980796814\n"
     ]
    }
   ],
   "source": [
    "start = time()\n",
    "single_sim_y = jit_sim(taur/5, sig).block_until_ready()\n",
    "print(time() - start)"
   ]
  },
  {
   "cell_type": "code",
   "execution_count": 15,
   "id": "auburn-inflation",
   "metadata": {},
   "outputs": [
    {
     "name": "stdout",
     "output_type": "stream",
     "text": [
      "10.631766080856323\n"
     ]
    }
   ],
   "source": [
    "start = time()\n",
    "single_sim_y = jit_sim(taur/5, sig).block_until_ready()\n",
    "print(time() - start)"
   ]
  },
  {
   "cell_type": "code",
   "execution_count": 16,
   "id": "broad-timber",
   "metadata": {},
   "outputs": [],
   "source": [
    "tau_vals = taur * jnp.linspace(0.1, 5, 20)"
   ]
  },
  {
   "cell_type": "markdown",
   "id": "accurate-brisbane",
   "metadata": {},
   "source": [
    "## 2.2 measure vmap jit + simulate"
   ]
  },
  {
   "cell_type": "code",
   "execution_count": 17,
   "id": "looking-community",
   "metadata": {},
   "outputs": [],
   "source": [
    "jit_vmap_sim = jit(vmap(lambda tau: full_sim(tau, sig)))"
   ]
  },
  {
   "cell_type": "code",
   "execution_count": 18,
   "id": "above-defense",
   "metadata": {},
   "outputs": [
    {
     "name": "stdout",
     "output_type": "stream",
     "text": [
      "Batch simulation time including jit: 299.34338903427124\n",
      "Batch simulation average time including jit: 14.967169451713563\n"
     ]
    }
   ],
   "source": [
    "start = time()\n",
    "direct_sim_y = jit_vmap_sim(tau_vals).block_until_ready()\n",
    "sim_time = time() - start\n",
    "print('Batch simulation time including jit: ' + str(sim_time))\n",
    "print('Batch simulation average time including jit: ' + str(sim_time / len(tau_vals)))"
   ]
  },
  {
   "cell_type": "code",
   "execution_count": 19,
   "id": "celtic-worthy",
   "metadata": {},
   "outputs": [
    {
     "name": "stdout",
     "output_type": "stream",
     "text": [
      "Batch simulation time without jit: 302.1729688644409\n",
      "Batch simulation average time without jit: 15.108648443222046\n"
     ]
    }
   ],
   "source": [
    "start = time()\n",
    "direct_sim_y = jit_vmap_sim(tau_vals).block_until_ready()\n",
    "sim_time = time() - start\n",
    "print('Batch simulation time without jit: ' + str(sim_time))\n",
    "print('Batch simulation average time without jit: ' + str(sim_time / len(tau_vals)))"
   ]
  },
  {
   "cell_type": "markdown",
   "id": "affecting-fifty",
   "metadata": {},
   "source": [
    "## 2.3 Simulate at lower tolerance\n",
    "\n",
    "Here we set the tolerance of the simulation to try to achieve about $10^{-5}$ infidelity."
   ]
  },
  {
   "cell_type": "code",
   "execution_count": 20,
   "id": "sonic-advice",
   "metadata": {},
   "outputs": [],
   "source": [
    "def full_sim2(taur, sig):\n",
    "    ham_copy = ham.copy()\n",
    "    drive_func = lambda t: pulse(sig, taur, tau, t)\n",
    "    ham_copy.signals = [1., Signal(drive_func, carrier_freq=v_d)]\n",
    "    ham_copy.frame = ham_copy.drift\n",
    "    \n",
    "    results = solve_lmde(ham_copy, \n",
    "                     t_span=[0, N*dt],\n",
    "                     y0=jnp.eye(dim**2, dtype=complex),\n",
    "                     method='jax_odeint',\n",
    "                    atol=2.5*1e-8,\n",
    "                    rtol=2.5*1e-8)\n",
    "\n",
    "    return results.y[-1]\n",
    "\n",
    "jit_sim2 = jit(full_sim2)"
   ]
  },
  {
   "cell_type": "markdown",
   "id": "short-choice",
   "metadata": {},
   "source": [
    "### 2.3.1 Measure single jit + sim time "
   ]
  },
  {
   "cell_type": "code",
   "execution_count": 21,
   "id": "wound-interference",
   "metadata": {},
   "outputs": [
    {
     "name": "stdout",
     "output_type": "stream",
     "text": [
      "1.9738318920135498\n"
     ]
    }
   ],
   "source": [
    "start = time()\n",
    "single_sim_lower_tol_y = jit_sim2(taur/5, sig).block_until_ready()\n",
    "print(time() - start)"
   ]
  },
  {
   "cell_type": "code",
   "execution_count": 22,
   "id": "developing-cache",
   "metadata": {},
   "outputs": [
    {
     "name": "stdout",
     "output_type": "stream",
     "text": [
      "0.3734090328216553\n"
     ]
    }
   ],
   "source": [
    "start = time()\n",
    "single_sim_lower_tol_y = jit_sim2(taur/5, sig).block_until_ready()\n",
    "print(time() - start)"
   ]
  },
  {
   "cell_type": "code",
   "execution_count": 23,
   "id": "ready-diamond",
   "metadata": {},
   "outputs": [
    {
     "data": {
      "text/plain": [
       "DeviceArray(-1.80845397e-05, dtype=float64)"
      ]
     },
     "execution_count": 23,
     "metadata": {},
     "output_type": "execute_result"
    }
   ],
   "source": [
    "1-(jnp.abs((single_sim_lower_tol_y.conj().transpose() @ single_sim_y).trace()) / (dim**2))**2"
   ]
  },
  {
   "cell_type": "markdown",
   "id": "cubic-accident",
   "metadata": {},
   "source": [
    "### 2.3.2 Measure vmap jit + sim time"
   ]
  },
  {
   "cell_type": "code",
   "execution_count": 24,
   "id": "sophisticated-phrase",
   "metadata": {},
   "outputs": [],
   "source": [
    "jit_vmap_sim_lower_tol = jit(vmap(lambda tau: full_sim2(tau, sig)))"
   ]
  },
  {
   "cell_type": "code",
   "execution_count": 25,
   "id": "accepted-emerald",
   "metadata": {},
   "outputs": [
    {
     "name": "stdout",
     "output_type": "stream",
     "text": [
      "Batch simulation time including jit: 13.062049150466919\n",
      "Batch simulation average time including jit: 0.653102457523346\n"
     ]
    }
   ],
   "source": [
    "start = time()\n",
    "direct_sim_lower_tol_y = jit_vmap_sim_lower_tol(tau_vals).block_until_ready()\n",
    "sim_time = time() - start\n",
    "print('Batch simulation time including jit: ' + str(sim_time))\n",
    "print('Batch simulation average time including jit: ' + str(sim_time / len(tau_vals)))"
   ]
  },
  {
   "cell_type": "code",
   "execution_count": 26,
   "id": "crazy-wesley",
   "metadata": {},
   "outputs": [
    {
     "name": "stdout",
     "output_type": "stream",
     "text": [
      "Batch simulation time without jit: 10.379701852798462\n",
      "Batch simulation average time without jit: 0.5189850926399231\n"
     ]
    }
   ],
   "source": [
    "start = time()\n",
    "direct_sim_lower_tol_y = jit_vmap_sim_lower_tol(tau_vals).block_until_ready()\n",
    "sim_time = time() - start\n",
    "print('Batch simulation time without jit: ' + str(sim_time))\n",
    "print('Batch simulation average time without jit: ' + str(sim_time / len(tau_vals)))"
   ]
  },
  {
   "cell_type": "code",
   "execution_count": 27,
   "id": "committed-siemens",
   "metadata": {},
   "outputs": [],
   "source": [
    "infidelities = []\n",
    "for k in range(len(tau_vals)):\n",
    "    infidelities.append(1-(jnp.abs((direct_sim_lower_tol_y[k].conj().transpose() @ direct_sim_y[k]).trace()) / (dim**2))**2)"
   ]
  },
  {
   "cell_type": "code",
   "execution_count": 28,
   "id": "polish-insulation",
   "metadata": {},
   "outputs": [
    {
     "data": {
      "text/plain": [
       "[DeviceArray(-1.93513923e-05, dtype=float64),\n",
       " DeviceArray(-2.13321402e-05, dtype=float64),\n",
       " DeviceArray(-1.91729934e-05, dtype=float64),\n",
       " DeviceArray(-2.3012992e-05, dtype=float64),\n",
       " DeviceArray(-2.46294768e-05, dtype=float64),\n",
       " DeviceArray(-2.22496564e-05, dtype=float64),\n",
       " DeviceArray(-2.37075782e-05, dtype=float64),\n",
       " DeviceArray(-1.58428055e-05, dtype=float64),\n",
       " DeviceArray(-2.28007174e-05, dtype=float64),\n",
       " DeviceArray(-2.13084367e-05, dtype=float64),\n",
       " DeviceArray(-1.14161642e-05, dtype=float64),\n",
       " DeviceArray(-1.87988642e-05, dtype=float64),\n",
       " DeviceArray(-9.84193965e-06, dtype=float64),\n",
       " DeviceArray(-9.54430523e-06, dtype=float64),\n",
       " DeviceArray(-8.27206379e-06, dtype=float64),\n",
       " DeviceArray(-9.70355804e-06, dtype=float64),\n",
       " DeviceArray(-7.78974991e-06, dtype=float64),\n",
       " DeviceArray(-6.29514242e-06, dtype=float64),\n",
       " DeviceArray(-7.91626331e-06, dtype=float64),\n",
       " DeviceArray(-5.66326902e-06, dtype=float64)]"
      ]
     },
     "execution_count": 28,
     "metadata": {},
     "output_type": "execute_result"
    }
   ],
   "source": [
    "infidelities"
   ]
  },
  {
   "cell_type": "markdown",
   "id": "measured-affair",
   "metadata": {},
   "source": [
    "# 3. RWA simulation"
   ]
  },
  {
   "cell_type": "code",
   "execution_count": 189,
   "id": "injured-winner",
   "metadata": {},
   "outputs": [],
   "source": [
    "def rwa_sim(taur, sig):\n",
    "    ham_copy = ham.copy()\n",
    "    drive_func = lambda t: pulse(sig, taur, tau, t)\n",
    "    ham_copy.signals = [1., Signal(drive_func, carrier_freq=v_d)]\n",
    "    ham_copy.frame = ham_copy.drift\n",
    "    ham_copy.cutoff_freq = 1.9 * v_d # add cutoff\n",
    "    \n",
    "    results = solve_lmde(ham_copy, \n",
    "                     t_span=[0, N*dt],\n",
    "                     y0=jnp.eye(dim**2, dtype=complex),\n",
    "                     method='jax_odeint',\n",
    "                    atol=1e-6,\n",
    "                    rtol=1e-6)\n",
    "\n",
    "    return results.y[-1]\n",
    "\n",
    "# just in time compile it\n",
    "jit_rwa_sim = jit(rwa_sim)"
   ]
  },
  {
   "cell_type": "code",
   "execution_count": 190,
   "id": "regulation-north",
   "metadata": {},
   "outputs": [
    {
     "name": "stdout",
     "output_type": "stream",
     "text": [
      "2.210222005844116\n"
     ]
    }
   ],
   "source": [
    "start = time()\n",
    "single_rwa_sim_y = jit_rwa_sim(taur/5, sig).block_until_ready()\n",
    "print(time() - start)"
   ]
  },
  {
   "cell_type": "code",
   "execution_count": 191,
   "id": "delayed-camcorder",
   "metadata": {},
   "outputs": [
    {
     "name": "stdout",
     "output_type": "stream",
     "text": [
      "0.1817007064819336\n"
     ]
    }
   ],
   "source": [
    "start = time()\n",
    "single_rwa_sim_y = jit_rwa_sim(taur/5, sig).block_until_ready()\n",
    "print(time() - start)"
   ]
  },
  {
   "cell_type": "code",
   "execution_count": 192,
   "id": "familiar-government",
   "metadata": {},
   "outputs": [
    {
     "data": {
      "text/plain": [
       "DeviceArray(0.00629096, dtype=float64)"
      ]
     },
     "execution_count": 192,
     "metadata": {},
     "output_type": "execute_result"
    }
   ],
   "source": [
    "1-(jnp.abs((single_rwa_sim_y.conj().transpose() @ single_sim_y).trace()) / (dim**2))**2"
   ]
  },
  {
   "cell_type": "markdown",
   "id": "varied-couple",
   "metadata": {},
   "source": [
    "### 3.1 Measure vmap jit + sim time"
   ]
  },
  {
   "cell_type": "code",
   "execution_count": 193,
   "id": "narrow-functionality",
   "metadata": {},
   "outputs": [],
   "source": [
    "jit_vmap_rwa_sim = jit(vmap(lambda tau: rwa_sim(tau, sig)))"
   ]
  },
  {
   "cell_type": "code",
   "execution_count": 194,
   "id": "accepted-overall",
   "metadata": {},
   "outputs": [
    {
     "name": "stdout",
     "output_type": "stream",
     "text": [
      "Batch simulation time including jit: 8.29793095588684\n",
      "Batch simulation average time including jit: 0.41489654779434204\n"
     ]
    }
   ],
   "source": [
    "start = time()\n",
    "rwa_sim_y = jit_vmap_rwa_sim(tau_vals).block_until_ready()\n",
    "sim_time = time() - start\n",
    "print('Batch simulation time including jit: ' + str(sim_time))\n",
    "print('Batch simulation average time including jit: ' + str(sim_time / len(tau_vals)))"
   ]
  },
  {
   "cell_type": "code",
   "execution_count": 195,
   "id": "romance-thickness",
   "metadata": {},
   "outputs": [
    {
     "name": "stdout",
     "output_type": "stream",
     "text": [
      "Batch simulation time without jit: 4.756246089935303\n",
      "Batch simulation average time without jit: 0.23781230449676513\n"
     ]
    }
   ],
   "source": [
    "start = time()\n",
    "rwa_sim_y = jit_vmap_rwa_sim(tau_vals).block_until_ready()\n",
    "sim_time = time() - start\n",
    "print('Batch simulation time without jit: ' + str(sim_time))\n",
    "print('Batch simulation average time without jit: ' + str(sim_time / len(tau_vals)))"
   ]
  },
  {
   "cell_type": "code",
   "execution_count": 196,
   "id": "surprising-hollywood",
   "metadata": {},
   "outputs": [],
   "source": [
    "infidelities = []\n",
    "for k in range(len(tau_vals)):\n",
    "    infidelities.append(1-(jnp.abs((rwa_sim_y[k].conj().transpose() @ direct_sim_y[k]).trace()) / (dim**2))**2)"
   ]
  },
  {
   "cell_type": "code",
   "execution_count": 197,
   "id": "healthy-filename",
   "metadata": {},
   "outputs": [
    {
     "data": {
      "text/plain": [
       "[DeviceArray(0.0059107, dtype=float64),\n",
       " DeviceArray(0.0057578, dtype=float64),\n",
       " DeviceArray(0.00604149, dtype=float64),\n",
       " DeviceArray(0.00565438, dtype=float64),\n",
       " DeviceArray(0.00460941, dtype=float64),\n",
       " DeviceArray(0.00383892, dtype=float64),\n",
       " DeviceArray(0.00379682, dtype=float64),\n",
       " DeviceArray(0.00301357, dtype=float64),\n",
       " DeviceArray(0.00286364, dtype=float64),\n",
       " DeviceArray(0.00173735, dtype=float64),\n",
       " DeviceArray(0.00157314, dtype=float64),\n",
       " DeviceArray(0.00158676, dtype=float64),\n",
       " DeviceArray(0.0009665, dtype=float64),\n",
       " DeviceArray(0.00093395, dtype=float64),\n",
       " DeviceArray(0.00066457, dtype=float64),\n",
       " DeviceArray(0.0003809, dtype=float64),\n",
       " DeviceArray(-3.07893977e-05, dtype=float64),\n",
       " DeviceArray(-0.00013692, dtype=float64),\n",
       " DeviceArray(-5.75767116e-05, dtype=float64),\n",
       " DeviceArray(-0.00015253, dtype=float64)]"
      ]
     },
     "execution_count": 197,
     "metadata": {},
     "output_type": "execute_result"
    }
   ],
   "source": [
    "infidelities"
   ]
  },
  {
   "cell_type": "markdown",
   "id": "revolutionary-print",
   "metadata": {},
   "source": [
    "In the above we see the speed benefits of the RWA, however the fidelity of the simulation is fundamentally limited by the approximation."
   ]
  },
  {
   "cell_type": "markdown",
   "id": "talented-destiny",
   "metadata": {},
   "source": [
    "# 4. Magnus based approximate simulation\n",
    "\n",
    "Next, we simulate the system using the Magnus-RWA method. For this approach, over each short interval, we approximate the drive envelope as a polynomial decomposed via Chebyshev polynomials. For a fixed time interval, we compute Magnus terms for these Chebyshev polynomial drive terms (up to some order).\n",
    "\n",
    "Given these pre-computed Magnus terms, to simulate:\n",
    "- For each time interval, compute Chebyshev coefficients for drive envelope\n",
    "- Take linear combination of Magnus terms based on these coefficients and exponentiate\n",
    "- Multiply by frame correction\n",
    "\n",
    "First, we set up the chebyshev approximation routine."
   ]
  },
  {
   "cell_type": "code",
   "execution_count": 104,
   "id": "derived-container",
   "metadata": {},
   "outputs": [],
   "source": [
    "def get_DCT_data(deg, domain=[-1, 1]):\n",
    "    \"\"\"Construct DCT matrix for a given degree, and \n",
    "    compute the shifted chebyshev points for computing the approximation over\n",
    "    domain\n",
    "    \"\"\"\n",
    "    order = deg + 1\n",
    "    xcheb = chebpts1(order)\n",
    "    xcheb_shifted = 0.5*((domain[1] - domain[0]) * xcheb + (domain[1] + domain[0]))\n",
    "    \n",
    "    dct_mat = chebvander(xcheb, deg).T\n",
    "    dct_mat[0] /= order\n",
    "    dct_mat[1:] /= 0.5 * order\n",
    "    \n",
    "    return dct_mat, xcheb_shifted\n",
    "\n",
    "def perform_DCT(func, dct_mat, xcheb_shifted):\n",
    "    # assume vectorized\n",
    "    func_vals = func(xcheb_shifted)\n",
    "    return np.dot(dct_mat, func_vals)\n",
    "\n",
    "def multi_interval_DCT(func, dct_mat, xcheb_shifted, start_point_shifts):\n",
    "    dct_coeffs = [perform_DCT(func, dct_mat, xcheb_shifted + point) for point in start_point_shifts]\n",
    "    return np.array(dct_coeffs)\n",
    "\n",
    "def construct_multi_interval_DCT(deg, dt, n_intervals, start_time):\n",
    "    \n",
    "    # construct chebyshev data for a single interval\n",
    "    dct_mat, xcheb_0 = get_DCT_data(deg, domain=[0, dt])\n",
    "    \n",
    "    # compute all times at which the function needs to be evaluated\n",
    "    interval_start_times = start_time + np.arange(n_intervals) * dt\n",
    "    # time values: columns correspond to interval, rows are the shifted chebyshev values\n",
    "    t_vals = np.add.outer(xcheb_0, interval_start_times)\n",
    "    \n",
    "    def approx_func(func):\n",
    "        f_vals = func(t_vals)\n",
    "        \n",
    "        return dct_mat @ f_vals\n",
    "\n",
    "    return approx_func"
   ]
  },
  {
   "cell_type": "code",
   "execution_count": 105,
   "id": "fewer-seller",
   "metadata": {},
   "outputs": [],
   "source": [
    "approx_func = construct_multi_interval_DCT(2, dt, N, start_time=0)"
   ]
  },
  {
   "cell_type": "code",
   "execution_count": 106,
   "id": "supreme-burner",
   "metadata": {},
   "outputs": [],
   "source": [
    "vec_pulse_func = jnp.vectorize(pulse_func)"
   ]
  },
  {
   "cell_type": "code",
   "execution_count": 107,
   "id": "residential-burke",
   "metadata": {},
   "outputs": [],
   "source": [
    "cheb_coeffs = approx_func(vec_pulse_func)"
   ]
  },
  {
   "cell_type": "markdown",
   "id": "civic-waste",
   "metadata": {},
   "source": [
    "## Chebyshev evaluation"
   ]
  },
  {
   "cell_type": "markdown",
   "id": "electronic-mercury",
   "metadata": {},
   "source": [
    "Function for evaluating Chebyshev "
   ]
  },
  {
   "cell_type": "code",
   "execution_count": 108,
   "id": "corresponding-spanish",
   "metadata": {},
   "outputs": [],
   "source": [
    "def evaluate_cheb_series(x, c, domain=[-1, 1]):\n",
    "    \"\"\"Evaluate a chebyshev series on a given domain.\n",
    "    Aside from the domain modification this is copied from numpy,\n",
    "    though I think this is a pretty classic algorithm\n",
    "    \"\"\"\n",
    "    x = (2 * x - domain[1] - domain[0]) / (domain[1] - domain[0])\n",
    "\n",
    "    if len(c) == 1:\n",
    "        c0 = c[0]\n",
    "        c1 = 0\n",
    "    elif len(c) == 2:\n",
    "        c0 = c[0]\n",
    "        c1 = c[1]\n",
    "    else:\n",
    "        x2 = 2*x\n",
    "        \n",
    "        def scan_fun(carry, idx):\n",
    "            c0, c1 = carry\n",
    "            tmp = c0\n",
    "            c0 = c[-idx] - c1\n",
    "            c1 = tmp + c1 * x2\n",
    "            return (c0, c1), None\n",
    "        \n",
    "        c0, c1 = scan(scan_fun, init=(c[-2], c[-1]), xs=jnp.arange(3, len(c) + 1))[0]\n",
    "        \n",
    "    return c0 + c1*x\n",
    "\n",
    "def approx_func_as_callable(cheb_coeffs, dt, n_intervals, start_time):\n",
    "    interval_start_times = start_time + np.arange(n_intervals) * dt\n",
    "    \n",
    "    def approx_func(t):\n",
    "        k = jnp.clip(jnp.array(t // dt, dtype=int), 0, cheb_coeffs.shape[-1]-1)\n",
    "        return evaluate_cheb_series(t - (k * dt), cheb_coeffs[:, k], [0, dt])\n",
    "    return approx_func\n",
    "    "
   ]
  },
  {
   "cell_type": "code",
   "execution_count": 109,
   "id": "vital-family",
   "metadata": {},
   "outputs": [],
   "source": [
    "approx_pulse_func = approx_func_as_callable(cheb_coeffs, dt, N, 0)"
   ]
  },
  {
   "cell_type": "code",
   "execution_count": 111,
   "id": "missing-catch",
   "metadata": {},
   "outputs": [
    {
     "data": {
      "text/plain": [
       "[<matplotlib.lines.Line2D at 0x7ffd11796580>,\n",
       " <matplotlib.lines.Line2D at 0x7ffd117ab460>]"
      ]
     },
     "execution_count": 111,
     "metadata": {},
     "output_type": "execute_result"
    },
    {
     "data": {
      "image/png": "[encoded data removed]",
      "text/plain": [
       "<Figure size 432x288 with 1 Axes>"
      ]
     },
     "metadata": {
      "needs_background": "light"
     },
     "output_type": "display_data"
    }
   ],
   "source": [
    "k = 0\n",
    "times = np.linspace(k*dt, (k+1)*dt, 100)\n",
    "vals = vec_pulse_func(times)\n",
    "approx_vals = approx_pulse_func(times)\n",
    "plt.plot(times, vals, times, approx_vals)\n",
    "# difference on a log scale!!"
   ]
  },
  {
   "cell_type": "markdown",
   "id": "quantitative-disabled",
   "metadata": {},
   "source": [
    "## Compute magnus approx with chebyshev polynomials"
   ]
  },
  {
   "cell_type": "code",
   "execution_count": 44,
   "id": "fatty-nothing",
   "metadata": {},
   "outputs": [],
   "source": [
    "def G(t):\n",
    "    return -1j * H0_B\n",
    "\n",
    "def T0(t, t0):\n",
    "    return evaluate_cheb_series(t - t0, [1], domain=[0, dt])\n",
    "\n",
    "def A0(t, t0):\n",
    "    return -1j * T0(t, t0) * jnp.cos(w_d * t) * Hdc_B\n",
    "\n",
    "def T1(t, t0):\n",
    "    return evaluate_cheb_series(t - t0, [0, 1], domain=[0, dt])\n",
    "\n",
    "def A1(t, t0):\n",
    "    return -1j * T1(t, t0) * jnp.cos(w_d * t) * Hdc_B\n",
    "\n",
    "def T2(t, t0):\n",
    "    return evaluate_cheb_series(t - t0, jnp.array([0, 0, 1], dtype=float), domain=[0, dt])\n",
    "\n",
    "def A2(t, t0):\n",
    "    return -1j * T2(t, t0) * jnp.cos(w_d * t) * Hdc_B"
   ]
  },
  {
   "cell_type": "code",
   "execution_count": 163,
   "id": "thick-meaning",
   "metadata": {},
   "outputs": [
    {
     "name": "stdout",
     "output_type": "stream",
     "text": [
      "12.65750503540039\n"
     ]
    }
   ],
   "source": [
    "start = time()\n",
    "mag_results = solve_lmde_perturbation(A_list=[lambda t: A0(t, 0), lambda t: A1(t, 0), lambda t: A2(t, 0)],\n",
    "                                  perturbation_method='symmetric_magnus',\n",
    "                                  perturbation_order=5,\n",
    "                                  perturbation_terms=[[0, 0, 0, 0, 0, 0, 0]],\n",
    "                                  t_span=[0, dt],\n",
    "                                  generator=G,\n",
    "                                  method='jax_odeint',\n",
    "                                  atol=1e-8,\n",
    "                                  rtol=1e-8)\n",
    "print(time() - start)"
   ]
  },
  {
   "cell_type": "markdown",
   "id": "italic-sheffield",
   "metadata": {},
   "source": [
    "## Approx simulation"
   ]
  },
  {
   "cell_type": "code",
   "execution_count": 164,
   "id": "respected-poverty",
   "metadata": {},
   "outputs": [],
   "source": [
    "# For perfect solutions the Magnus terms are guaranteed to be anti-hermitian,\n",
    "# but anti-hermiticity doesn't need to be respected in the initial solver tolerance\n",
    "# So, when extracting, project onto the real subspace of anti-hermitian operators\n",
    "def to_aherm(A):\n",
    "    return 0.5 * (A - A.conj().transpose())\n",
    "\n",
    "M0 = to_aherm(mag_results.perturbation_results[[0]][-1])\n",
    "M1 = to_aherm(mag_results.perturbation_results[[1]][-1])\n",
    "M2 = to_aherm(mag_results.perturbation_results[[2]][-1])\n",
    "M00 = to_aherm(mag_results.perturbation_results[[0, 0]][-1])\n",
    "M01 = to_aherm(mag_results.perturbation_results[[0, 1]][-1])\n",
    "M02 = to_aherm(mag_results.perturbation_results[[0, 2]][-1])\n",
    "M11 = to_aherm(mag_results.perturbation_results[[1, 1]][-1])\n",
    "M12 = to_aherm(mag_results.perturbation_results[[1, 2]][-1])\n",
    "M22 = to_aherm(mag_results.perturbation_results[[2, 2]][-1])\n",
    "M000 = to_aherm(mag_results.perturbation_results[[0, 0, 0]][-1])\n",
    "M001 = to_aherm(mag_results.perturbation_results[[0, 0, 1]][-1])\n",
    "M002 = to_aherm(mag_results.perturbation_results[[0, 0, 2]][-1])\n",
    "M011 = to_aherm(mag_results.perturbation_results[[0, 1, 1]][-1])\n",
    "M012 = to_aherm(mag_results.perturbation_results[[0, 1, 2]][-1])\n",
    "M022 = to_aherm(mag_results.perturbation_results[[0, 2, 2]][-1])\n",
    "M111 = to_aherm(mag_results.perturbation_results[[1, 1, 1]][-1])\n",
    "M112 = to_aherm(mag_results.perturbation_results[[1, 1, 2]][-1])\n",
    "M122 = to_aherm(mag_results.perturbation_results[[1, 2, 2]][-1])\n",
    "M222 = to_aherm(mag_results.perturbation_results[[2, 2, 2]][-1])\n",
    "M0000 = to_aherm(mag_results.perturbation_results[[0, 0, 0, 0]][-1])\n",
    "M0001 = to_aherm(mag_results.perturbation_results[[0, 0, 0, 1]][-1])\n",
    "M0002 = to_aherm(mag_results.perturbation_results[[0, 0, 0, 2]][-1])\n",
    "M0011 = to_aherm(mag_results.perturbation_results[[0, 0, 1, 1]][-1])\n",
    "M0012 = to_aherm(mag_results.perturbation_results[[0, 0, 1, 2]][-1])\n",
    "M0022 = to_aherm(mag_results.perturbation_results[[0, 0, 2, 2]][-1])\n",
    "M0111 = to_aherm(mag_results.perturbation_results[[0, 1, 1, 1]][-1])\n",
    "M0112 = to_aherm(mag_results.perturbation_results[[0, 1, 1, 2]][-1])\n",
    "M0122 = to_aherm(mag_results.perturbation_results[[0, 1, 2, 2]][-1])\n",
    "M0222 = to_aherm(mag_results.perturbation_results[[0, 2, 2, 2]][-1])\n",
    "M1111 = to_aherm(mag_results.perturbation_results[[1, 1, 1, 1]][-1])\n",
    "M1112 = to_aherm(mag_results.perturbation_results[[1, 1, 1, 2]][-1])\n",
    "M1122 = to_aherm(mag_results.perturbation_results[[1, 1, 2, 2]][-1])\n",
    "M1222 = to_aherm(mag_results.perturbation_results[[1, 2, 2, 2]][-1])\n",
    "M2222 = to_aherm(mag_results.perturbation_results[[2, 2, 2, 2]][-1])\n",
    "M00000 = to_aherm(mag_results.perturbation_results[[0, 0, 0, 0, 0]][-1])\n",
    "M00001 = to_aherm(mag_results.perturbation_results[[0, 0, 0, 0, 1]][-1])\n",
    "M00002 = to_aherm(mag_results.perturbation_results[[0, 0, 0, 0, 2]][-1])\n",
    "M00011 = to_aherm(mag_results.perturbation_results[[0, 0, 0, 1, 1]][-1])\n",
    "M00012 = to_aherm(mag_results.perturbation_results[[0, 0, 0, 1, 2]][-1])\n",
    "M00022 = to_aherm(mag_results.perturbation_results[[0, 0, 0, 2, 2]][-1])\n",
    "M00111 = to_aherm(mag_results.perturbation_results[[0, 0, 1, 1, 1]][-1])\n",
    "M00112 = to_aherm(mag_results.perturbation_results[[0, 0, 1, 1, 2]][-1])\n",
    "M00122 = to_aherm(mag_results.perturbation_results[[0, 0, 1, 2, 2]][-1])\n",
    "M00222 = to_aherm(mag_results.perturbation_results[[0, 0, 2, 2, 2]][-1])\n",
    "M01111 = to_aherm(mag_results.perturbation_results[[0, 1, 1, 1, 1]][-1])\n",
    "M01112 = to_aherm(mag_results.perturbation_results[[0, 1, 1, 1, 2]][-1])\n",
    "M01122 = to_aherm(mag_results.perturbation_results[[0, 1, 1, 2, 2]][-1])\n",
    "M01222 = to_aherm(mag_results.perturbation_results[[0, 1, 2, 2, 2]][-1])\n",
    "M02222 = to_aherm(mag_results.perturbation_results[[0, 2, 2, 2, 2]][-1])\n",
    "M11111 = to_aherm(mag_results.perturbation_results[[1, 1, 1, 1, 1]][-1])\n",
    "M11112 = to_aherm(mag_results.perturbation_results[[1, 1, 1, 1, 2]][-1])\n",
    "M11122 = to_aherm(mag_results.perturbation_results[[1, 1, 1, 2, 2]][-1])\n",
    "M11222 = to_aherm(mag_results.perturbation_results[[1, 1, 2, 2, 2]][-1])\n",
    "M12222 = to_aherm(mag_results.perturbation_results[[1, 2, 2, 2, 2]][-1])\n",
    "M22222 = to_aherm(mag_results.perturbation_results[[2, 2, 2, 2, 2]][-1])\n",
    "M000000 = to_aherm(mag_results.perturbation_results[[0, 0, 0, 0, 0, 0]][-1])\n",
    "M0000000 = to_aherm(mag_results.perturbation_results[[0, 0, 0, 0, 0, 0, 0]][-1])\n",
    "\n",
    "# single step frame operator\n",
    "Uf_dt = jexpm(-1j * H0_B * dt)\n",
    "\n",
    "# final step frame operator\n",
    "Uf = jexpm(1j * H0_B * N * dt)"
   ]
  },
  {
   "cell_type": "code",
   "execution_count": 165,
   "id": "improved-begin",
   "metadata": {},
   "outputs": [],
   "source": [
    "def magnus_sim(taur, sig):\n",
    "    drive_func = jnp.vectorize(lambda t: pulse(sig, taur, tau, t))\n",
    "    c_coeffs = approx_func(drive_func)\n",
    "    \n",
    "    def approx_gen(k):\n",
    "        coeffs = c_coeffs[:, k]\n",
    "        c0 = coeffs[0]\n",
    "        c1 = coeffs[1]\n",
    "        c2 = coeffs[2]\n",
    "        c00 = c0 * c0\n",
    "        c01 = c0 * c1\n",
    "        c02 = c0 * c2\n",
    "        c11 = c1 * c1\n",
    "        c12 = c1 * c2\n",
    "        c22 = c2 * c2\n",
    "        c000 = c0 * c00\n",
    "        c001 = c0 * c01\n",
    "        c002 = c0 * c02\n",
    "        c011 = c0 * c11\n",
    "        c012 = c0 * c12\n",
    "        c022 = c0 * c22\n",
    "        c111 = c1 * c11\n",
    "        c112 = c1 * c12\n",
    "        c122 = c1 * c22\n",
    "        c222 = c2 * c22\n",
    "        c0000 = c0 * c000\n",
    "        c0001 = c0 * c001\n",
    "        c0002 = c0 * c002\n",
    "        c0011 = c0 * c011\n",
    "        c0012 = c0 * c012\n",
    "        c0022 = c0 * c022\n",
    "        c0111 = c0 * c111\n",
    "        c0112 = c0 * c112\n",
    "        c0122 = c0 * c122\n",
    "        c0222 = c0 * c222\n",
    "        c1111 = c1 * c111\n",
    "        c1112 = c1 * c112\n",
    "        c1122 = c1 * c122\n",
    "        c1222 = c1 * c222\n",
    "        c2222 = c2 * c222\n",
    "        c00000 = c0 * c0000\n",
    "        c00001 = c0 * c0001\n",
    "        c00002 = c0 * c0002\n",
    "        c00011 = c0 * c0011\n",
    "        c00012 = c0 * c0012\n",
    "        c00022 = c0 * c0022\n",
    "        c00111 = c0 * c0111\n",
    "        c00112 = c0 * c0112\n",
    "        c00122 = c0 * c0122\n",
    "        c00222 = c0 * c0222\n",
    "        c01111 = c0 * c1111\n",
    "        c01112 = c0 * c1112\n",
    "        c01122 = c0 * c1122\n",
    "        c01222 = c0 * c1222\n",
    "        c02222 = c0 * c2222\n",
    "        c11111 = c1 * c1111\n",
    "        c11112 = c1 * c1112\n",
    "        c11122 = c1 * c1122\n",
    "        c11222 = c1 * c1222\n",
    "        c12222 = c1 * c2222\n",
    "        c22222 = c2 * c2222\n",
    "        c000000 = c0 * c00000\n",
    "        c0000000 = c0 * c000000\n",
    "    \n",
    "        return (c0 * M0\n",
    "                + c1 * M1\n",
    "                + c2 * M2\n",
    "                + c00 * M00\n",
    "                + c01 * M01\n",
    "                + c02 * M02\n",
    "                + c11 * M11\n",
    "                + c12 * M12\n",
    "                + c22 * M22\n",
    "                + c000 * M000\n",
    "                + c001 * M001\n",
    "                + c002 * M002\n",
    "                + c011 * M011\n",
    "                + c012 * M012\n",
    "                + c022 * M022\n",
    "                + c111 * M111\n",
    "                + c112 * M112\n",
    "                + c122 * M112\n",
    "                + c222 * M222\n",
    "                + c0000 * M0000\n",
    "                + c0001 * M0001\n",
    "                + c0002 * M0002\n",
    "                + c0011 * M0011\n",
    "                + c0012 * M0012\n",
    "                + c0022 * M0022\n",
    "                + c0111 * M0111\n",
    "                + c0112 * M0112\n",
    "                + c0122 * M0122\n",
    "                + c0222 * M0222\n",
    "                + c1111 * M1111\n",
    "                + c1112 * M1112\n",
    "                + c1122 * M1122\n",
    "                + c1222 * M1222\n",
    "                + c2222 * M2222\n",
    "                + c00001 * M00001\n",
    "                + c00002 * M00002\n",
    "                + c00011 * M00011\n",
    "                + c00012 * M00012\n",
    "                + c00022 * M00022\n",
    "                + c00111 * M00111\n",
    "                + c00112 * M00112\n",
    "                + c00122 * M00122\n",
    "                + c00222 * M00222\n",
    "                + c01111 * M01111\n",
    "                + c01112 * M01112\n",
    "                + c01122 * M01122\n",
    "                + c01222 * M01222\n",
    "                + c02222 * M02222\n",
    "                + c11111 * M11111\n",
    "                + c11112 * M11112\n",
    "                + c11122 * M11122\n",
    "                + c11222 * M11222\n",
    "                + c12222 * M12222\n",
    "                + c22222 * M22222\n",
    "                + c000000 * M000000\n",
    "                + c0000000 * M0000000)\n",
    "\n",
    "\n",
    "    def single_step(k):\n",
    "        return Uf_dt @ jexpm(approx_gen(k))\n",
    "    \n",
    "    step_propagators = vmap(single_step)(jnp.flip(jnp.arange(0, N, dtype=int)))\n",
    "    final_prop = associative_scan(jnp.matmul, step_propagators, axis=0)[-1]\n",
    "    \n",
    "    return Uf @ final_prop\n",
    "    \n",
    "    \n",
    "    \n",
    "jit_magnus_sim = jit(magnus_sim)"
   ]
  },
  {
   "cell_type": "code",
   "execution_count": 166,
   "id": "direct-navigator",
   "metadata": {},
   "outputs": [
    {
     "name": "stdout",
     "output_type": "stream",
     "text": [
      "5.5539000034332275\n"
     ]
    }
   ],
   "source": [
    "start = time()\n",
    "single_magnus_y = jit_magnus_sim(taur/5, sig).block_until_ready()\n",
    "print(time() - start)"
   ]
  },
  {
   "cell_type": "code",
   "execution_count": 167,
   "id": "innovative-disney",
   "metadata": {},
   "outputs": [
    {
     "name": "stdout",
     "output_type": "stream",
     "text": [
      "0.008199214935302734\n"
     ]
    }
   ],
   "source": [
    "start = time()\n",
    "single_magnus_y = jit_magnus_sim(taur/5, sig).block_until_ready()\n",
    "print(time() - start)"
   ]
  },
  {
   "cell_type": "code",
   "execution_count": 168,
   "id": "aging-sleep",
   "metadata": {},
   "outputs": [
    {
     "data": {
      "text/plain": [
       "DeviceArray(4.16113777e-06, dtype=float64)"
      ]
     },
     "execution_count": 168,
     "metadata": {},
     "output_type": "execute_result"
    }
   ],
   "source": [
    "1-(jnp.abs((single_magnus_y.conj().transpose() @ single_sim_y).trace()) / (dim**2))**2"
   ]
  },
  {
   "cell_type": "markdown",
   "id": "phantom-flush",
   "metadata": {},
   "source": [
    "### 4.1 Measure vmap jit + sim time"
   ]
  },
  {
   "cell_type": "code",
   "execution_count": 169,
   "id": "virgin-chapter",
   "metadata": {},
   "outputs": [],
   "source": [
    "jit_vmap_magnus_sim = jit(vmap(lambda tau: magnus_sim(tau, sig)))"
   ]
  },
  {
   "cell_type": "code",
   "execution_count": 170,
   "id": "future-karaoke",
   "metadata": {},
   "outputs": [
    {
     "name": "stdout",
     "output_type": "stream",
     "text": [
      "Batch simulation time including jit: 8.566042184829712\n",
      "Batch simulation average time including jit: 0.4283021092414856\n"
     ]
    }
   ],
   "source": [
    "start = time()\n",
    "vmap_magnus_sim_y = jit_vmap_magnus_sim(tau_vals).block_until_ready()\n",
    "sim_time = time() - start\n",
    "print('Batch simulation time including jit: ' + str(sim_time))\n",
    "print('Batch simulation average time including jit: ' + str(sim_time / len(tau_vals)))"
   ]
  },
  {
   "cell_type": "code",
   "execution_count": 171,
   "id": "passive-scheduling",
   "metadata": {},
   "outputs": [
    {
     "name": "stdout",
     "output_type": "stream",
     "text": [
      "Batch simulation time without jit: 0.16030621528625488\n",
      "Batch simulation average time without jit: 0.008015310764312744\n"
     ]
    }
   ],
   "source": [
    "start = time()\n",
    "vmap_magnus_sim_y = jit_vmap_magnus_sim(tau_vals).block_until_ready()\n",
    "sim_time = time() - start\n",
    "print('Batch simulation time without jit: ' + str(sim_time))\n",
    "print('Batch simulation average time without jit: ' + str(sim_time / len(tau_vals)))"
   ]
  },
  {
   "cell_type": "code",
   "execution_count": 172,
   "id": "competent-orange",
   "metadata": {},
   "outputs": [],
   "source": [
    "infidelities = []\n",
    "for k in range(len(tau_vals)):\n",
    "    infidelities.append(1-(jnp.abs((vmap_magnus_sim_y[k].conj().transpose() @ direct_sim_y[k]).trace()) / (dim**2))**2)"
   ]
  },
  {
   "cell_type": "code",
   "execution_count": 173,
   "id": "several-glossary",
   "metadata": {},
   "outputs": [
    {
     "data": {
      "text/plain": [
       "[DeviceArray(0.00058087, dtype=float64),\n",
       " DeviceArray(1.04527318e-06, dtype=float64),\n",
       " DeviceArray(9.09271775e-07, dtype=float64),\n",
       " DeviceArray(6.3152949e-07, dtype=float64),\n",
       " DeviceArray(6.47115417e-07, dtype=float64),\n",
       " DeviceArray(7.09606204e-07, dtype=float64),\n",
       " DeviceArray(5.07156616e-07, dtype=float64),\n",
       " DeviceArray(7.29249733e-07, dtype=float64),\n",
       " DeviceArray(4.13983232e-07, dtype=float64),\n",
       " DeviceArray(4.71617567e-07, dtype=float64),\n",
       " DeviceArray(3.25865063e-07, dtype=float64),\n",
       " DeviceArray(4.58666453e-07, dtype=float64),\n",
       " DeviceArray(2.44367552e-07, dtype=float64),\n",
       " DeviceArray(3.07571517e-07, dtype=float64),\n",
       " DeviceArray(2.18062584e-07, dtype=float64),\n",
       " DeviceArray(1.46536393e-07, dtype=float64),\n",
       " DeviceArray(2.24755255e-07, dtype=float64),\n",
       " DeviceArray(6.7781357e-08, dtype=float64),\n",
       " DeviceArray(3.54294667e-07, dtype=float64),\n",
       " DeviceArray(2.95954485e-08, dtype=float64)]"
      ]
     },
     "execution_count": 173,
     "metadata": {},
     "output_type": "execute_result"
    }
   ],
   "source": [
    "infidelities"
   ]
  },
  {
   "cell_type": "code",
   "execution_count": 174,
   "id": "provincial-spread",
   "metadata": {},
   "outputs": [],
   "source": [
    "dist_to_id = []\n",
    "for k in range(len(vmap_magnus_sim_y)):\n",
    "    dist_to_id.append(jnp.linalg.norm(vmap_magnus_sim_y[k].conj().transpose() @ vmap_magnus_sim_y[k] - jnp.eye(dim**2, dtype=complex)))"
   ]
  },
  {
   "cell_type": "code",
   "execution_count": 175,
   "id": "saved-executive",
   "metadata": {},
   "outputs": [
    {
     "name": "stdout",
     "output_type": "stream",
     "text": [
      "[DeviceArray(3.03469738e-12, dtype=float64), DeviceArray(3.02274631e-12, dtype=float64), DeviceArray(3.01700341e-12, dtype=float64), DeviceArray(3.01956091e-12, dtype=float64), DeviceArray(3.02472066e-12, dtype=float64), DeviceArray(3.02886782e-12, dtype=float64), DeviceArray(3.0361814e-12, dtype=float64), DeviceArray(3.0396323e-12, dtype=float64), DeviceArray(3.05001266e-12, dtype=float64), DeviceArray(3.05370166e-12, dtype=float64), DeviceArray(3.06248321e-12, dtype=float64), DeviceArray(3.06954267e-12, dtype=float64), DeviceArray(3.07395517e-12, dtype=float64), DeviceArray(3.08143205e-12, dtype=float64), DeviceArray(3.08790244e-12, dtype=float64), DeviceArray(3.09343709e-12, dtype=float64), DeviceArray(3.10418244e-12, dtype=float64), DeviceArray(3.11226923e-12, dtype=float64), DeviceArray(3.11813169e-12, dtype=float64), DeviceArray(3.12011715e-12, dtype=float64)]\n"
     ]
    }
   ],
   "source": [
    "print(dist_to_id)"
   ]
  },
  {
   "cell_type": "code",
   "execution_count": 162,
   "id": "occupied-opinion",
   "metadata": {},
   "outputs": [
    {
     "data": {
      "text/plain": [
       "DeviceArray(7.32059201e-07, dtype=float64)"
      ]
     },
     "execution_count": 162,
     "metadata": {},
     "output_type": "execute_result"
    }
   ],
   "source": [
    "jnp.linalg.norm(M0 + M0.conj().transpose())"
   ]
  },
  {
   "cell_type": "code",
   "execution_count": null,
   "id": "heard-female",
   "metadata": {},
   "outputs": [],
   "source": []
  }
 ],
 "metadata": {
  "kernelspec": {
   "display_name": "Python 3",
   "language": "python",
   "name": "python3"
  },
  "language_info": {
   "codemirror_mode": {
    "name": "ipython",
    "version": 3
   },
   "file_extension": ".py",
   "mimetype": "text/x-python",
   "name": "python",
   "nbconvert_exporter": "python",
   "pygments_lexer": "ipython3",
   "version": "3.9.4"
  }
 },
 "nbformat": 4,
 "nbformat_minor": 5
}
