{
 "cells": [
  {
   "cell_type": "code",
   "execution_count": 1,
   "id": "valued-roulette",
   "metadata": {},
   "outputs": [],
   "source": [
    "from time import time\n",
    "\n",
    "import matplotlib.pyplot as plt\n",
    "\n",
    "import numpy as np\n",
    "from numpy.polynomial.chebyshev import chebpts1, chebvander\n",
    "\n",
    "import jax.numpy as jnp\n",
    "from jax.scipy.linalg import expm as jexpm\n",
    "from jax import vmap, jacfwd, jit\n",
    "from jax.lax import cond, scan, associative_scan\n",
    "from jax.config import config\n",
    "config.update(\"jax_enable_x64\", True)\n",
    "\n",
    "from qiskit_ode import dispatch, solve_lmde\n",
    "from qiskit_ode.dispatch import Array\n",
    "from qiskit.quantum_info import Operator\n",
    "from qiskit_ode.models import HamiltonianModel, Frame\n",
    "from qiskit_ode.signals import Constant, Signal\n",
    "from qiskit_ode_internal.perturbation import solve_lmde_perturbation\n",
    "\n",
    "dispatch.set_default_backend('jax')"
   ]
  },
  {
   "cell_type": "markdown",
   "id": "crazy-thomas",
   "metadata": {},
   "source": [
    "System parameters"
   ]
  },
  {
   "cell_type": "code",
   "execution_count": 98,
   "id": "dated-traffic",
   "metadata": {},
   "outputs": [],
   "source": [
    "w_c = 2 * np.pi * 5.1\n",
    "w_t = 2 * np.pi * 5.\n",
    "alpha_c = 2 * np.pi * (-0.33)\n",
    "alpha_t = 2 * np.pi * (-0.33)\n",
    "J = 2 * np.pi * 0.002\n",
    "# drive strength\n",
    "r = 2 * np.pi * 0.05\n",
    "\n",
    "dim = 3\n",
    "\n",
    "a = np.diag(np.sqrt(np.arange(1, dim)), 1)\n",
    "adag = a.transpose()\n",
    "N = np.diag(np.arange(dim))\n",
    "ident = np.eye(dim)\n",
    "ident2 = np.eye(dim**2)\n",
    "\n",
    "# operators on the control qubit (first tensor factor)\n",
    "a0 = np.kron(a, ident)\n",
    "adag0 = np.kron(adag, ident)\n",
    "N0 = np.kron(N, ident)\n",
    "\n",
    "# operators on the target qubit (first tensor factor)\n",
    "a1 = np.kron(ident, a)\n",
    "adag1 = np.kron(ident, adag)\n",
    "N1 = np.kron(ident, N)"
   ]
  },
  {
   "cell_type": "markdown",
   "id": "naked-invitation",
   "metadata": {},
   "source": [
    "Hamiltonian operators."
   ]
  },
  {
   "cell_type": "code",
   "execution_count": 99,
   "id": "patent-commons",
   "metadata": {},
   "outputs": [],
   "source": [
    "H0 = (w_c * N0 + 0.5 * alpha_c * N0 @ (N0 - ident2)\n",
    "      + w_t * N1 + 0.5 * alpha_t * N1 @ (N1 - ident2)\n",
    "      + J * (a0 @ adag1 + adag0 @ a1))\n",
    "Hdc = r*(a0 + adag0)\n",
    "Hdt = r*(a1 + adag1)"
   ]
  },
  {
   "cell_type": "code",
   "execution_count": 100,
   "id": "smoking-pavilion",
   "metadata": {},
   "outputs": [],
   "source": [
    "def basis_vec(ind, dimension):\n",
    "    vec = np.zeros(dimension, dtype=complex)\n",
    "    vec[ind] = 1.\n",
    "    return vec\n",
    "\n",
    "def two_q_basis_vec(inda, indb, dimension):\n",
    "    vec_a = basis_vec(inda, dimension)\n",
    "    vec_b = basis_vec(indb, dimension)\n",
    "    return np.kron(vec_a, vec_b)\n",
    "\n",
    "def get_dressed_state_index(inda, indb, dimension, evectors):\n",
    "    b_vec = two_q_basis_vec(inda, indb, dimension)\n",
    "    overlaps = np.abs(evectors @ b_vec)\n",
    "    return overlaps.argmax()\n",
    "\n",
    "def get_dressed_state_and_energy(inda, indb, dimension, evecs):\n",
    "    ind = get_dressed_state_index(inda, indb, dimension, evecs)\n",
    "    return evals[ind], evecs[ind]"
   ]
  },
  {
   "cell_type": "code",
   "execution_count": 101,
   "id": "color-german",
   "metadata": {},
   "outputs": [],
   "source": [
    "def gauss(t, sig):\n",
    "    return jnp.exp(- (t**2) / (2 *(sig **2)))\n",
    "\n",
    "# for jax may need ot make these conditionals\n",
    "def pulse(sig, taur, tau, t):\n",
    "    b = gauss(taur, sig)\n",
    "    return cond(t < taur,\n",
    "                lambda s: (gauss(t - taur, sig) - b) / (1 - b),\n",
    "                lambda s: cond(t < tau-taur,\n",
    "                               lambda r: 1.,\n",
    "                               lambda r: (gauss(t - (tau - taur), sig) - b) / (1-b),\n",
    "                               0.),\n",
    "                0.)"
   ]
  },
  {
   "cell_type": "markdown",
   "id": "touched-huntington",
   "metadata": {},
   "source": [
    "Establish dressed energies and basis vectors"
   ]
  },
  {
   "cell_type": "code",
   "execution_count": 102,
   "id": "mounted-italian",
   "metadata": {},
   "outputs": [],
   "source": [
    "evals, B = jnp.linalg.eigh(H0)\n",
    "Badj = B.conj().transpose()\n",
    "\n",
    "E00, dressed00 = get_dressed_state_and_energy(0, 0, dim, B)\n",
    "E01, dressed01 = get_dressed_state_and_energy(0, 1, dim, B)\n",
    "E10, dressed10 = get_dressed_state_and_energy(1, 0, dim, B)\n",
    "E11, dressed11 = get_dressed_state_and_energy(1, 1, dim, B)"
   ]
  },
  {
   "cell_type": "code",
   "execution_count": 103,
   "id": "mexican-relaxation",
   "metadata": {},
   "outputs": [
    {
     "data": {
      "text/plain": [
       "DeviceArray(-0.00025123, dtype=float64)"
      ]
     },
     "execution_count": 103,
     "metadata": {},
     "output_type": "execute_result"
    }
   ],
   "source": [
    "w_d = E01\n",
    "v_d = w_d / (2 * jnp.pi)\n",
    "w_d - w_t"
   ]
  },
  {
   "cell_type": "code",
   "execution_count": 104,
   "id": "commercial-strap",
   "metadata": {},
   "outputs": [],
   "source": [
    "# choose parameters, express everything in terms of dt\n",
    "dt = 1 / v_d\n",
    "\n",
    "tau = 200\n",
    "N = int(tau // dt)\n",
    "tau = N * dt\n",
    "taur = (20 //dt) * dt\n",
    "sig = taur / 2\n",
    "\n",
    "pulse_func = jnp.vectorize(lambda t: pulse(sig, taur, tau, t))"
   ]
  },
  {
   "cell_type": "code",
   "execution_count": 105,
   "id": "permanent-clark",
   "metadata": {},
   "outputs": [
    {
     "data": {
      "text/plain": [
       "[<matplotlib.lines.Line2D at 0x7f9fd16f43a0>]"
      ]
     },
     "execution_count": 105,
     "metadata": {},
     "output_type": "execute_result"
    },
    {
     "data": {
      "image/png": "[encoded data removed]",
      "text/plain": [
       "<Figure size 432x288 with 1 Axes>"
      ]
     },
     "metadata": {
      "needs_background": "light"
     },
     "output_type": "display_data"
    }
   ],
   "source": [
    "times = np.linspace(0, tau, 100)\n",
    "vals = pulse_func(times)\n",
    "plt.plot(times, vals)"
   ]
  },
  {
   "cell_type": "code",
   "execution_count": 106,
   "id": "aggressive-clause",
   "metadata": {},
   "outputs": [],
   "source": [
    "H0_B = Badj @ H0 @ B\n",
    "Hdc_B = Badj @ Hdc @ B\n",
    "\n",
    "def full_ham(t):\n",
    "    return H0_B + pulse_func(t) * jnp.cos(w_d * t) * Hdc_B"
   ]
  },
  {
   "cell_type": "markdown",
   "id": "talented-destiny",
   "metadata": {},
   "source": [
    "# Approximation method for signal over an interval"
   ]
  },
  {
   "cell_type": "code",
   "execution_count": 107,
   "id": "derived-container",
   "metadata": {},
   "outputs": [],
   "source": [
    "def get_DCT_data(deg, domain=[-1, 1]):\n",
    "    \"\"\"Construct DCT matrix for a given degree, and \n",
    "    compute the shifted chebyshev points for computing the approximation over\n",
    "    domain\n",
    "    \"\"\"\n",
    "    order = deg + 1\n",
    "    xcheb = chebpts1(order)\n",
    "    xcheb_shifted = 0.5*((domain[1] - domain[0]) * xcheb + (domain[1] + domain[0]))\n",
    "    \n",
    "    dct_mat = chebvander(xcheb, deg).T\n",
    "    dct_mat[0] /= order\n",
    "    dct_mat[1:] /= 0.5 * order\n",
    "    \n",
    "    return dct_mat, xcheb_shifted\n",
    "\n",
    "def perform_DCT(func, dct_mat, xcheb_shifted):\n",
    "    # assume vectorized\n",
    "    func_vals = func(xcheb_shifted)\n",
    "    return np.dot(dct_mat, func_vals)\n",
    "\n",
    "def multi_interval_DCT(func, dct_mat, xcheb_shifted, start_point_shifts):\n",
    "    dct_coeffs = [perform_DCT(func, dct_mat, xcheb_shifted + point) for point in start_point_shifts]\n",
    "    return np.array(dct_coeffs)\n",
    "\n",
    "def construct_multi_interval_DCT(deg, dt, n_intervals, start_time):\n",
    "    \n",
    "    # construct chebyshev data for a single interval\n",
    "    dct_mat, xcheb_0 = get_DCT_data(deg, domain=[0, dt])\n",
    "    \n",
    "    # compute all times at which the function needs to be evaluated\n",
    "    interval_start_times = start_time + np.arange(n_intervals) * dt\n",
    "    # time values: columns correspond to interval, rows are the shifted chebyshev values\n",
    "    t_vals = np.add.outer(xcheb_0, interval_start_times)\n",
    "    \n",
    "    def approx_func(func):\n",
    "        f_vals = func(t_vals)\n",
    "        \n",
    "        return dct_mat @ f_vals\n",
    "\n",
    "    return approx_func"
   ]
  },
  {
   "cell_type": "code",
   "execution_count": 108,
   "id": "fewer-seller",
   "metadata": {},
   "outputs": [],
   "source": [
    "approx_func = construct_multi_interval_DCT(1, dt, N, start_time=0)"
   ]
  },
  {
   "cell_type": "code",
   "execution_count": 109,
   "id": "supreme-burner",
   "metadata": {},
   "outputs": [],
   "source": [
    "vec_pulse_func = jnp.vectorize(pulse_func)"
   ]
  },
  {
   "cell_type": "code",
   "execution_count": 110,
   "id": "residential-burke",
   "metadata": {},
   "outputs": [],
   "source": [
    "cheb_coeffs = approx_func(vec_pulse_func)"
   ]
  },
  {
   "cell_type": "markdown",
   "id": "civic-waste",
   "metadata": {},
   "source": [
    "## Chebyshev evaluation"
   ]
  },
  {
   "cell_type": "code",
   "execution_count": 111,
   "id": "corresponding-spanish",
   "metadata": {},
   "outputs": [],
   "source": [
    "def evaluate_cheb_series(x, c, domain=[-1, 1]):\n",
    "    \"\"\"Evaluate a chebyshev series on a given domain.\n",
    "    Aside from the domain modification this is copied from numpy,\n",
    "    though I think this is a pretty classic algorithm\n",
    "    \"\"\"\n",
    "    x = (2 * x - domain[1] - domain[0]) / (domain[1] - domain[0])\n",
    "\n",
    "    if len(c) == 1:\n",
    "        c0 = c[0]\n",
    "        c1 = 0\n",
    "    elif len(c) == 2:\n",
    "        c0 = c[0]\n",
    "        c1 = c[1]\n",
    "    else:\n",
    "        x2 = 2*x\n",
    "        \n",
    "        def scan_fun(carry, idx):\n",
    "            c0, c1 = carry\n",
    "            tmp = c0\n",
    "            c0 = c[-idx] - c1\n",
    "            c1 = tmp + c1 * x2\n",
    "            return (c0, c1), None\n",
    "        \n",
    "        c0, c1 = scan(scan_fun, init=(c[-2], c[-1]), xs=jnp.arange(3, len(c) + 1))\n",
    "        \n",
    "    return c0 + c1*x\n",
    "\n",
    "def approx_func_as_callable(cheb_coeffs, dt, n_intervals, start_time):\n",
    "    interval_start_times = start_time + np.arange(n_intervals) * dt\n",
    "    \n",
    "    def approx_func(t):\n",
    "        k = jnp.clip(jnp.array(t // dt, dtype=int), 0, cheb_coeffs.shape[-1]-1)\n",
    "        return evaluate_cheb_series(t - (k * dt), cheb_coeffs[:, k], [0, dt])\n",
    "    return approx_func\n",
    "    "
   ]
  },
  {
   "cell_type": "code",
   "execution_count": 112,
   "id": "vital-family",
   "metadata": {},
   "outputs": [],
   "source": [
    "approx_pulse_func = approx_func_as_callable(cheb_coeffs, dt, N, 0)"
   ]
  },
  {
   "cell_type": "code",
   "execution_count": 113,
   "id": "missing-catch",
   "metadata": {},
   "outputs": [
    {
     "data": {
      "text/plain": [
       "[<matplotlib.lines.Line2D at 0x7fa032442f40>,\n",
       " <matplotlib.lines.Line2D at 0x7fa032442f70>]"
      ]
     },
     "execution_count": 113,
     "metadata": {},
     "output_type": "execute_result"
    },
    {
     "data": {
      "image/png": "[encoded data removed]",
      "text/plain": [
       "<Figure size 432x288 with 1 Axes>"
      ]
     },
     "metadata": {
      "needs_background": "light"
     },
     "output_type": "display_data"
    }
   ],
   "source": [
    "times = np.linspace(0, dt, 100)\n",
    "vals = vec_pulse_func(times)\n",
    "approx_vals = approx_pulse_func(times)\n",
    "plt.plot(times, vals, times, approx_vals)"
   ]
  },
  {
   "cell_type": "markdown",
   "id": "quantitative-disabled",
   "metadata": {},
   "source": [
    "## Compute magnus approx with chebyshev polynomials"
   ]
  },
  {
   "cell_type": "code",
   "execution_count": 114,
   "id": "fatty-nothing",
   "metadata": {},
   "outputs": [],
   "source": [
    "def G(t):\n",
    "    return -1j * H0_B\n",
    "\n",
    "def T0(t, t0):\n",
    "    return evaluate_cheb_series(t - t0, [1], domain=[0, dt])\n",
    "\n",
    "def A0(t, t0):\n",
    "    return -1j * T0(t, t0) * jnp.cos(w_d * t) * Hdc_B\n",
    "\n",
    "def T1(t, t0):\n",
    "    return evaluate_cheb_series(t - t0, [0, 1], domain=[0, dt])\n",
    "\n",
    "def A1(t, t0):\n",
    "    return -1j * T1(t, t0) * jnp.cos(w_d * t) * Hdc_B"
   ]
  },
  {
   "cell_type": "code",
   "execution_count": 115,
   "id": "together-scientist",
   "metadata": {},
   "outputs": [
    {
     "data": {
      "text/plain": [
       "[<matplotlib.lines.Line2D at 0x7f9ff0d99c70>]"
      ]
     },
     "execution_count": 115,
     "metadata": {},
     "output_type": "execute_result"
    },
    {
     "data": {
      "image/png": "[encoded data removed]",
      "text/plain": [
       "<Figure size 432x288 with 1 Axes>"
      ]
     },
     "metadata": {
      "needs_background": "light"
     },
     "output_type": "display_data"
    }
   ],
   "source": [
    "t_vals = jnp.arange(0, dt, dt /100)\n",
    "y_vals = [T1(t, 0) for t in t_vals]\n",
    "plt.plot(t_vals, y_vals)"
   ]
  },
  {
   "cell_type": "code",
   "execution_count": 116,
   "id": "thick-meaning",
   "metadata": {},
   "outputs": [
    {
     "name": "stdout",
     "output_type": "stream",
     "text": [
      "3.355644941329956\n"
     ]
    }
   ],
   "source": [
    "start = time()\n",
    "mag_results = solve_lmde_perturbation(A_list=[lambda t: A0(t, 0), lambda t: A1(t, 0)],\n",
    "                                  perturbation_method='symmetric_magnus',\n",
    "                                  perturbation_order=2,\n",
    "                                  t_span=[0, dt],\n",
    "                                  generator=G,\n",
    "                                  method='jax_odeint',\n",
    "                                  atol=1e-15,\n",
    "                                  rtol=1e-15)\n",
    "print(time() - start)"
   ]
  },
  {
   "cell_type": "markdown",
   "id": "quality-montana",
   "metadata": {},
   "source": [
    "## Full simulation"
   ]
  },
  {
   "cell_type": "code",
   "execution_count": 117,
   "id": "after-typing",
   "metadata": {},
   "outputs": [],
   "source": [
    "# first simulate full Hamiltonian to as high a precision as possible for comparisons\n",
    "ham = HamiltonianModel(operators=[H0_B, Hdc_B])"
   ]
  },
  {
   "cell_type": "markdown",
   "id": "upper-technology",
   "metadata": {},
   "source": [
    "As a function"
   ]
  },
  {
   "cell_type": "code",
   "execution_count": 145,
   "id": "neutral-prison",
   "metadata": {},
   "outputs": [],
   "source": [
    "def full_sim(taur, sig):\n",
    "    ham_copy = ham.copy()\n",
    "    drive_func = lambda t: pulse(sig, taur, tau, t)\n",
    "    ham_copy.signals = [Constant(1.), Signal(drive_func, carrier_freq=v_d)]\n",
    "    ham_copy.frame = ham_copy.drift\n",
    "    \n",
    "    def full_ham(t):\n",
    "        frame_op = jexpm(-1j * H0_B * t)\n",
    "        return -1j * drive_func(t) * jnp.cos(w_d * t) * (frame_op.conj().transpose()) @ Hdc_B @ frame_op\n",
    "    results = solve_lmde(full_ham, \n",
    "                     t_span=[0, N*dt],\n",
    "                     y0=jnp.eye(dim**2, dtype=complex),\n",
    "                     method='jax_odeint',\n",
    "                    atol=1e-12,\n",
    "                    rtol=1e-12)\n",
    "\n",
    "    return results.y[-1]\n",
    "    "
   ]
  },
  {
   "cell_type": "code",
   "execution_count": 146,
   "id": "short-feelings",
   "metadata": {},
   "outputs": [],
   "source": [
    "jit_sim = jit(full_sim)"
   ]
  },
  {
   "cell_type": "code",
   "execution_count": 147,
   "id": "honey-confidentiality",
   "metadata": {},
   "outputs": [
    {
     "name": "stdout",
     "output_type": "stream",
     "text": [
      "14.46344780921936\n"
     ]
    }
   ],
   "source": [
    "start = time()\n",
    "direct_sim_y = jit_sim(taur/5, sig).block_until_ready()\n",
    "print(time() - start)"
   ]
  },
  {
   "cell_type": "markdown",
   "id": "italic-sheffield",
   "metadata": {},
   "source": [
    "## Approx simulation"
   ]
  },
  {
   "cell_type": "code",
   "execution_count": 148,
   "id": "respected-poverty",
   "metadata": {},
   "outputs": [],
   "source": [
    "M0 = mag_results.perturbation_results[[0]][-1]\n",
    "M1 = mag_results.perturbation_results[[1]][-1]\n",
    "M00 = mag_results.perturbation_results[[0, 0]][-1]\n",
    "M01 = mag_results.perturbation_results[[0, 1]][-1]\n",
    "M11 = mag_results.perturbation_results[[1, 1]][-1]\n",
    "\n",
    "# single step frame operator\n",
    "Uf_dt = jexpm(-1j * H0_B * dt)\n",
    "\n",
    "# final step frame operator\n",
    "Uf = jexpm(1j * H0_B * N * dt)"
   ]
  },
  {
   "cell_type": "code",
   "execution_count": 170,
   "id": "individual-inspection",
   "metadata": {},
   "outputs": [],
   "source": [
    "def approx_sim_full(taur, sig):\n",
    "    drive_func = jnp.vectorize(lambda t: pulse(sig, taur, tau, t))\n",
    "    c_coeffs = approx_func(drive_func)\n",
    "    \n",
    "    def approx_gen(k):\n",
    "        coeffs = c_coeffs[:, k]\n",
    "        c0 = coeffs[0]\n",
    "        c1 = coeffs[1]\n",
    "        c00 = c0 * c0\n",
    "        c01 = c0 * c1\n",
    "        c11 = c1 * c1\n",
    "    \n",
    "        return c0 * M0 -c1 * M1 + c00 * M00 - c01 * M01 + c11 * M11\n",
    "\n",
    "    def single_step(k):\n",
    "        return Uf_dt @ jexpm(approx_gen(k))\n",
    "\n",
    "    step_propagators = vmap(single_step)(jnp.arange(0, N, dtype=int))\n",
    "    #return step_propagators\n",
    "    final_prop = associative_scan(jnp.matmul, step_propagators, axis=0)[-1]\n",
    "    \n",
    "    return Uf @ final_prop\n",
    "    \n",
    "    \n",
    "    \n",
    "jit_approx_sim_full = jit(approx_sim_full)"
   ]
  },
  {
   "cell_type": "code",
   "execution_count": 173,
   "id": "direct-navigator",
   "metadata": {},
   "outputs": [
    {
     "name": "stdout",
     "output_type": "stream",
     "text": [
      "0.03707098960876465\n"
     ]
    }
   ],
   "source": [
    "start = time()\n",
    "approx_y = jit_approx_sim_full(taur/5, sig).block_until_ready()\n",
    "print(time() - start)"
   ]
  },
  {
   "cell_type": "code",
   "execution_count": 172,
   "id": "civilian-scheduling",
   "metadata": {},
   "outputs": [
    {
     "data": {
      "text/plain": [
       "DeviceArray(2.14450023e-08, dtype=float64)"
      ]
     },
     "execution_count": 172,
     "metadata": {},
     "output_type": "execute_result"
    }
   ],
   "source": [
    "1-(jnp.abs((approx_y.conj().transpose() @ direct_sim_y).trace()) / (dim**2))**2"
   ]
  },
  {
   "cell_type": "code",
   "execution_count": 74,
   "id": "demographic-samba",
   "metadata": {},
   "outputs": [
    {
     "data": {
      "text/plain": [
       "DeviceArray([[ 0.00319804,  0.00971514,  0.01642758, ...,  0.01642758,\n",
       "               0.00971514,  0.00319804],\n",
       "             [ 0.00321007,  0.00330714,  0.00340539, ..., -0.00340539,\n",
       "              -0.00330714, -0.00321007]], dtype=float64)"
      ]
     },
     "execution_count": 74,
     "metadata": {},
     "output_type": "execute_result"
    }
   ],
   "source": [
    "cheb_coeffs"
   ]
  },
  {
   "cell_type": "code",
   "execution_count": 31,
   "id": "bottom-creature",
   "metadata": {},
   "outputs": [
    {
     "data": {
      "text/plain": [
       "0.00379943"
      ]
     },
     "execution_count": 31,
     "metadata": {},
     "output_type": "execute_result"
    }
   ],
   "source": [
    "0.00379943"
   ]
  },
  {
   "cell_type": "code",
   "execution_count": 174,
   "id": "productive-syria",
   "metadata": {},
   "outputs": [
    {
     "data": {
      "text/plain": [
       "DeviceArray(2.6810777e-11, dtype=float64)"
      ]
     },
     "execution_count": 174,
     "metadata": {},
     "output_type": "execute_result"
    }
   ],
   "source": [
    "jnp.linalg.norm(direct_sim_y.conj().transpose() @ direct_sim_y - jnp.eye(dim**2))"
   ]
  },
  {
   "cell_type": "code",
   "execution_count": 175,
   "id": "patient-forum",
   "metadata": {
    "scrolled": true
   },
   "outputs": [
    {
     "data": {
      "text/plain": [
       "DeviceArray(4.70939308e-12, dtype=float64)"
      ]
     },
     "execution_count": 175,
     "metadata": {},
     "output_type": "execute_result"
    }
   ],
   "source": [
    "jnp.linalg.norm(approx_y.conj().transpose() @ approx_y - jnp.eye(dim**2))"
   ]
  },
  {
   "cell_type": "code",
   "execution_count": 34,
   "id": "civilian-conservation",
   "metadata": {},
   "outputs": [
    {
     "data": {
      "text/plain": [
       "DeviceArray([[[ 0.,  1.],\n",
       "              [ 1.,  0.]],\n",
       "\n",
       "             [[ 0., -1.],\n",
       "              [ 1.,  0.]],\n",
       "\n",
       "             [[-1., -1.],\n",
       "              [ 0.,  1.]]], dtype=float64)"
      ]
     },
     "execution_count": 34,
     "metadata": {},
     "output_type": "execute_result"
    }
   ],
   "source": [
    "associative_scan(jnp.matmul, jnp.array([[[0., 1.], [1., 0.]], [[1., 0.], [0., -1.]], [[0., 1.], [1., 1.]]]))"
   ]
  },
  {
   "cell_type": "code",
   "execution_count": null,
   "id": "sexual-queensland",
   "metadata": {},
   "outputs": [],
   "source": []
  }
 ],
 "metadata": {
  "kernelspec": {
   "display_name": "Python 3",
   "language": "python",
   "name": "python3"
  },
  "language_info": {
   "codemirror_mode": {
    "name": "ipython",
    "version": 3
   },
   "file_extension": ".py",
   "mimetype": "text/x-python",
   "name": "python",
   "nbconvert_exporter": "python",
   "pygments_lexer": "ipython3",
   "version": "3.8.5"
  }
 },
 "nbformat": 4,
 "nbformat_minor": 5
}
