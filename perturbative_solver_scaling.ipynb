{
 "cells": [
  {
   "cell_type": "markdown",
   "id": "b57954f5",
   "metadata": {},
   "source": [
    "# Perturbative solver demo\n",
    "\n",
    "This demo walks through the construction and usage of `PerturbativeSolver` objects for simulating a 2 transmon gate, comparing to traditional solvers using both dense and sparse arrays."
   ]
  },
  {
   "cell_type": "code",
   "execution_count": 1,
   "id": "992cf01a",
   "metadata": {},
   "outputs": [],
   "source": [
    "from time import time\n",
    "\n",
    "import numpy as np\n",
    "\n",
    "import jax.numpy as jnp\n",
    "from jax.scipy.linalg import expm as jexpm\n",
    "from jax.scipy.special import erf\n",
    "from jax import jit, value_and_grad\n",
    "\n",
    "\n",
    "from qiskit.quantum_info import Operator\n",
    "\n",
    "from qiskit_dynamics import Solver, Signal\n",
    "from qiskit_dynamics.perturbation import PerturbativeSolver"
   ]
  },
  {
   "cell_type": "markdown",
   "id": "0bba622d",
   "metadata": {},
   "source": [
    "Configure to use JAX."
   ]
  },
  {
   "cell_type": "code",
   "execution_count": 2,
   "id": "f734eb47",
   "metadata": {},
   "outputs": [],
   "source": [
    "from qiskit_dynamics.array import Array\n",
    "\n",
    "# configure jax to use 64 bit mode\n",
    "import jax\n",
    "jax.config.update(\"jax_enable_x64\", True)\n",
    "\n",
    "# tell JAX we are using CPU\n",
    "jax.config.update('jax_platform_name', 'cpu')\n",
    "\n",
    "# set default backend\n",
    "Array.set_default_backend('jax')"
   ]
  },
  {
   "cell_type": "markdown",
   "id": "2d7dd68f",
   "metadata": {},
   "source": [
    "# 1. Define envelope functions\n",
    "\n",
    "We define a Gaussian square and bipolar Gaussian square pulse shape."
   ]
  },
  {
   "cell_type": "code",
   "execution_count": 3,
   "id": "470c364b",
   "metadata": {},
   "outputs": [],
   "source": [
    "def gaussian_square(t, amp, sigma, risefall, T):\n",
    "    \"\"\"Gaussian square pulse.\"\"\"\n",
    "    \n",
    "    t = Array(t).data\n",
    "    C = jnp.exp(-(2*risefall*sigma)**2/(8*sigma**2))\n",
    "    den = (jnp.sqrt(jnp.pi*2*sigma**2)*erf(2*risefall*sigma/(jnp.sqrt(8)*sigma))-2*risefall*sigma*C)\n",
    "    return amp * jnp.piecewise(t,\n",
    "                         condlist=[t < (risefall * sigma), (T - t) < (risefall * sigma)],\n",
    "                         funclist=[lambda s: (jnp.exp(-(s-sigma*risefall)**2/(2*sigma**2))-C)/den,\n",
    "                                   lambda s: (jnp.exp(-(T-s-sigma*risefall)**2/(2*sigma**2))-C)/den,\n",
    "                                   lambda s: (1-C)/den]\n",
    "                        )\n",
    "\n",
    "def bipolar_gaussian_square(t, amp, sigma, risefall, T):\n",
    "    t = Array(t).data\n",
    "    unipolar = lambda s: gaussian_square(s, amp, sigma, risefall, T/2)\n",
    "    return jnp.piecewise(t,\n",
    "                         condlist=[t < (T/2)],\n",
    "                         funclist=[unipolar, lambda s: -unipolar(s - T/2)])"
   ]
  },
  {
   "cell_type": "markdown",
   "id": "f2de3120",
   "metadata": {},
   "source": [
    "Plot an example."
   ]
  },
  {
   "cell_type": "code",
   "execution_count": 4,
   "id": "c9a1b1ba",
   "metadata": {},
   "outputs": [],
   "source": [
    "T = 300.\n",
    "risefall = 2.\n",
    "sigma = 15.\n",
    "amp=4.\n",
    "\n",
    "test = jnp.vectorize(lambda t: bipolar_gaussian_square(t, amp, sigma, risefall, T))\n",
    "\n",
    "sig = Signal(test)"
   ]
  },
  {
   "cell_type": "code",
   "execution_count": 5,
   "id": "8e8e4c86",
   "metadata": {},
   "outputs": [
    {
     "data": {
      "image/png": "[encoded data removed]",
      "text/plain": [
       "<Figure size 432x288 with 1 Axes>"
      ]
     },
     "metadata": {
      "needs_background": "light"
     },
     "output_type": "display_data"
    }
   ],
   "source": [
    "sig.draw(0, T, 1000, function='envelope')"
   ]
  },
  {
   "cell_type": "markdown",
   "id": "731afdd4",
   "metadata": {},
   "source": [
    "# 2. Construct model operators\n",
    "\n",
    "We construct a two transmon model:\n",
    "\n",
    "$$H(t) = 2 \\pi \\nu a_0 a_0^\\dagger + 2 \\pi r (a_0 + a_0^\\dagger) \\\\\n",
    "   + 2 \\pi \\nu a_1 a_1^\\dagger + 2 \\pi r (a_1 + a_1^\\dagger)\\\\\n",
    "   + 2 \\pi J (a_0a_1^\\dagger + a_0^\\dagger a_1)$$"
   ]
  },
  {
   "cell_type": "code",
   "execution_count": 268,
   "id": "2ef3521f",
   "metadata": {},
   "outputs": [],
   "source": [
    "w_c = 2 * np.pi * 5.105\n",
    "w_t = 2 * np.pi * 5.033\n",
    "alpha_c = 2 * np.pi * (-0.33534)\n",
    "alpha_t = 2 * np.pi * (-0.33834)\n",
    "J = 2 * np.pi * 0.002\n",
    "\n",
    "dim = 4\n",
    "\n",
    "a = np.diag(np.sqrt(np.arange(1, dim)), 1)\n",
    "adag = a.transpose()\n",
    "N = np.diag(np.arange(dim))\n",
    "ident = np.eye(dim)\n",
    "ident2 = np.eye(dim**2)\n",
    "\n",
    "# operators on the control qubit (first tensor factor)\n",
    "a0 = np.kron(a, ident)\n",
    "adag0 = np.kron(adag, ident)\n",
    "N0 = np.kron(N, ident)\n",
    "\n",
    "# operators on the target qubit (first tensor factor)\n",
    "a1 = np.kron(ident, a)\n",
    "adag1 = np.kron(ident, adag)\n",
    "N1 = np.kron(ident, N)"
   ]
  },
  {
   "cell_type": "code",
   "execution_count": 269,
   "id": "b39e304f",
   "metadata": {},
   "outputs": [],
   "source": [
    "H0 = (w_c * N0 + 0.5 * alpha_c * N0 @ (N0 - ident2)\n",
    "      + w_t * N1 + 0.5 * alpha_t * N1 @ (N1 - ident2)\n",
    "      + J * (a0 @ adag1 + adag0 @ a1))\n",
    "Hdc = 2 * np.pi * (a0 + adag0)\n",
    "Hdt = 2 * np.pi * (a1 + adag1)"
   ]
  },
  {
   "cell_type": "markdown",
   "id": "ad8b847b",
   "metadata": {},
   "source": [
    "## 2.1 Get the dressed computational states qubit frequencies"
   ]
  },
  {
   "cell_type": "code",
   "execution_count": 270,
   "id": "029c8ba2",
   "metadata": {},
   "outputs": [],
   "source": [
    "def basis_vec(ind, dimension):\n",
    "    vec = np.zeros(dimension, dtype=complex)\n",
    "    vec[ind] = 1.\n",
    "    return vec\n",
    "\n",
    "def two_q_basis_vec(inda, indb, dimension):\n",
    "    vec_a = basis_vec(inda, dimension)\n",
    "    vec_b = basis_vec(indb, dimension)\n",
    "    return np.kron(vec_a, vec_b)\n",
    "\n",
    "def get_dressed_state_index(inda, indb, dimension, evectors):\n",
    "    b_vec = two_q_basis_vec(inda, indb, dimension)\n",
    "    overlaps = np.abs(evectors @ b_vec)\n",
    "    return overlaps.argmax()\n",
    "\n",
    "def get_dressed_state_and_energy(inda, indb, dimension, evecs):\n",
    "    ind = get_dressed_state_index(inda, indb, dimension, evecs)\n",
    "    return evals[ind], evecs[ind]"
   ]
  },
  {
   "cell_type": "markdown",
   "id": "d2a4b5b6",
   "metadata": {},
   "source": [
    "Diagonalize and get dressed energies/states for computational states."
   ]
  },
  {
   "cell_type": "code",
   "execution_count": 271,
   "id": "14c94468",
   "metadata": {},
   "outputs": [],
   "source": [
    "evals, B = jnp.linalg.eigh(H0)\n",
    "Badj = B.conj().transpose()\n",
    "\n",
    "E00, dressed00 = get_dressed_state_and_energy(0, 0, dim, B.transpose())\n",
    "E01, dressed01 = get_dressed_state_and_energy(0, 1, dim, B.transpose())\n",
    "E10, dressed10 = get_dressed_state_and_energy(1, 0, dim, B.transpose())\n",
    "E11, dressed11 = get_dressed_state_and_energy(1, 1, dim, B.transpose())\n",
    "\n",
    "# \"target dressed frequency\"\n",
    "v_t = E01 / (2 * np.pi)"
   ]
  },
  {
   "cell_type": "code",
   "execution_count": 272,
   "id": "8137aa7f",
   "metadata": {},
   "outputs": [],
   "source": [
    "H0_B = Badj @ H0 @ B\n",
    "Hdc_B = Badj @ Hdc @ B\n",
    "Hdt_B = Badj @ Hdt @ B"
   ]
  },
  {
   "cell_type": "markdown",
   "id": "4ebbf44d",
   "metadata": {},
   "source": [
    "Define fidelity with respect to the $Z \\otimes X$ operator for the computational states."
   ]
  },
  {
   "cell_type": "code",
   "execution_count": 273,
   "id": "2b6c4e72",
   "metadata": {},
   "outputs": [],
   "source": [
    "idx00 = 0\n",
    "idx01 = get_dressed_state_index(0, 1, dim, B.transpose())\n",
    "idx10 = get_dressed_state_index(1, 0, dim, B.transpose())\n",
    "idx11 = get_dressed_state_index(1, 1, dim, B.transpose())\n",
    "\n",
    "e00 = np.zeros(dim**2, dtype=complex)\n",
    "e00[0] = 1.\n",
    "e10 = np.zeros(dim**2, dtype=complex)\n",
    "e10[idx10] = 1.\n",
    "e01 = np.zeros(dim**2, dtype=complex)\n",
    "e01[idx01] = 1.\n",
    "e11 = np.zeros(dim**2, dtype=complex)\n",
    "e11[idx11] = 1.\n",
    "\n",
    "# set up observables\n",
    "S = np.array([e00, e01, e10, e11]).transpose()\n",
    "Sdag = S.conj().transpose()\n",
    "\n",
    "ZX = S @ np.array(Operator.from_label('ZX')) @ Sdag\n",
    "\n",
    "target = S @ jexpm(-1j * np.array(Operator.from_label('ZX')) * jnp.pi / 4) @ Sdag\n",
    "target_conj = target.conj()\n",
    "\n",
    "def fidelity(U):\n",
    "    return jnp.abs(jnp.sum(target_conj * U))**2 / (4**2)"
   ]
  },
  {
   "cell_type": "markdown",
   "id": "7008864d",
   "metadata": {},
   "source": [
    "# 3. Consruct dense version of simulation\n",
    "\n",
    "Here we construct a function for simulating the system in the rotating frame of the drift, using a standard ODE solver, and dense arrays."
   ]
  },
  {
   "cell_type": "code",
   "execution_count": 274,
   "id": "5c6a6112",
   "metadata": {},
   "outputs": [],
   "source": [
    "dense_solver = Solver(\n",
    "    static_hamiltonian=H0_B,\n",
    "    hamiltonian_operators=[Hdc_B, Hdt_B],\n",
    "    rotating_frame=np.diag(H0_B)\n",
    ")\n",
    "\n",
    "y0 = np.eye(dim**2, dtype=complex)\n",
    "\n",
    "def ode_sim(params, tol):\n",
    "    cr_amp = params[0]\n",
    "    rotary_amp = params[1]\n",
    "    bipolar_amp = params[2] \n",
    "    \n",
    "    cr_phase = params[3]\n",
    "    rotary_phase = params[4]\n",
    "    bipolar_phase = params[5]\n",
    "    \n",
    "    cr_signal = Signal(lambda t: gaussian_square(t, cr_amp, sigma, risefall, T), \n",
    "                       carrier_freq=v_t, \n",
    "                       phase=cr_phase)\n",
    "    rotary_signal = Signal(lambda t: gaussian_square(t, rotary_amp, sigma, risefall, T), \n",
    "                           carrier_freq=v_t,\n",
    "                           phase=rotary_phase)\n",
    "    bipolar_signal = Signal(lambda t: bipolar_gaussian_square(t, bipolar_amp, sigma, risefall, T), \n",
    "                            carrier_freq=v_t,\n",
    "                            phase=bipolar_phase)\n",
    "    \n",
    "    target_signal = (rotary_signal + bipolar_signal).flatten()\n",
    "    \n",
    "    solver_copy = dense_solver.copy()\n",
    "    \n",
    "    solver_copy.signals = [cr_signal, target_signal]\n",
    "    results = solver_copy.solve(t_span=[0, T],\n",
    "                                y0=y0,\n",
    "                                method='jax_odeint',\n",
    "                                atol=tol,\n",
    "                                rtol=tol)\n",
    "    return results.y[-1]\n",
    "\n",
    "\n",
    "def ode_obj(params, tol):\n",
    "    return fidelity(ode_sim(params, tol))\n"
   ]
  },
  {
   "cell_type": "code",
   "execution_count": 275,
   "id": "432681bb",
   "metadata": {},
   "outputs": [],
   "source": [
    "ode_sim_9 = jit(lambda params: ode_sim(params, 1e-9))"
   ]
  },
  {
   "cell_type": "markdown",
   "id": "5c0b8fcd",
   "metadata": {},
   "source": [
    "Compile + simulate time:"
   ]
  },
  {
   "cell_type": "code",
   "execution_count": 276,
   "id": "3a28a062",
   "metadata": {},
   "outputs": [
    {
     "name": "stdout",
     "output_type": "stream",
     "text": [
      "CPU times: user 2.39 s, sys: 20.3 ms, total: 2.41 s\n",
      "Wall time: 2.38 s\n"
     ]
    }
   ],
   "source": [
    "x0=jnp.array([1.4, 1., 0.3, 0., 0., 0.])\n",
    "\n",
    "%time ode_yf = ode_sim_9(x0).block_until_ready()"
   ]
  },
  {
   "cell_type": "markdown",
   "id": "35a21a25",
   "metadata": {},
   "source": [
    "compiled simulation time"
   ]
  },
  {
   "cell_type": "code",
   "execution_count": 277,
   "id": "e0111606",
   "metadata": {},
   "outputs": [
    {
     "name": "stdout",
     "output_type": "stream",
     "text": [
      "CPU times: user 1.2 s, sys: 2.66 ms, total: 1.2 s\n",
      "Wall time: 1.2 s\n"
     ]
    }
   ],
   "source": [
    "%time ode_yf = ode_sim_9(x0).block_until_ready()"
   ]
  },
  {
   "cell_type": "code",
   "execution_count": 278,
   "id": "fc3b6269",
   "metadata": {},
   "outputs": [],
   "source": [
    "grad_ode_obj_9 = jit(value_and_grad(lambda params: ode_obj(params, 1e-9)))"
   ]
  },
  {
   "cell_type": "code",
   "execution_count": 279,
   "id": "9fa489ed",
   "metadata": {},
   "outputs": [
    {
     "name": "stdout",
     "output_type": "stream",
     "text": [
      "CPU times: user 11.8 s, sys: 97.8 ms, total: 11.9 s\n",
      "Wall time: 11.8 s\n"
     ]
    }
   ],
   "source": [
    "%time ode_grad_val = grad_ode_obj_9(x0)[1].block_until_ready()"
   ]
  },
  {
   "cell_type": "code",
   "execution_count": 280,
   "id": "13052756",
   "metadata": {},
   "outputs": [
    {
     "name": "stdout",
     "output_type": "stream",
     "text": [
      "CPU times: user 7.53 s, sys: 5.81 ms, total: 7.53 s\n",
      "Wall time: 7.53 s\n"
     ]
    }
   ],
   "source": [
    "%time ode_grad_val = grad_ode_obj_9(x0)[1].block_until_ready()"
   ]
  },
  {
   "cell_type": "markdown",
   "id": "63fbe694",
   "metadata": {},
   "source": [
    "# 4. Consruct sparse version of simulation\n",
    "\n",
    "For sparse simulation we need to make sure we are in a basis in which the operators are actually sparse."
   ]
  },
  {
   "cell_type": "code",
   "execution_count": 281,
   "id": "93f2e9dc",
   "metadata": {},
   "outputs": [],
   "source": [
    "sparse_solver = Solver(\n",
    "    static_hamiltonian=H0,\n",
    "    hamiltonian_operators=[Hdc, Hdt],\n",
    "    rotating_frame=np.diag(H0),\n",
    "    evaluation_mode='sparse'\n",
    ")\n",
    "\n",
    "y0_sparse = B @ y0\n",
    "\n",
    "def ode_sparse_sim(params, tol):\n",
    "    cr_amp = params[0]\n",
    "    rotary_amp = params[1]\n",
    "    bipolar_amp = params[2] \n",
    "    \n",
    "    cr_phase = params[3]\n",
    "    rotary_phase = params[4]\n",
    "    bipolar_phase = params[5]\n",
    "    \n",
    "    cr_signal = Signal(lambda t: gaussian_square(t, cr_amp, sigma, risefall, T), \n",
    "                       carrier_freq=v_t, \n",
    "                       phase=cr_phase)\n",
    "    rotary_signal = Signal(lambda t: gaussian_square(t, rotary_amp, sigma, risefall, T), \n",
    "                           carrier_freq=v_t,\n",
    "                           phase=rotary_phase)\n",
    "    bipolar_signal = Signal(lambda t: bipolar_gaussian_square(t, bipolar_amp, sigma, risefall, T), \n",
    "                            carrier_freq=v_t,\n",
    "                            phase=bipolar_phase)\n",
    "    \n",
    "    target_signal = (rotary_signal + bipolar_signal).flatten()\n",
    "    \n",
    "    solver_copy = sparse_solver.copy()\n",
    "    \n",
    "    solver_copy.signals = [cr_signal, target_signal]\n",
    "    results = solver_copy.solve(t_span=[0, T],\n",
    "                                y0=y0_sparse,\n",
    "                                method='jax_odeint',\n",
    "                                atol=tol,\n",
    "                                rtol=tol)\n",
    "    \n",
    "    # transfer unitary into same basis and frame as the dense simulation\n",
    "    U = Array(Badj) @ solver_copy.model.rotating_frame.state_out_of_frame(T, results.y[-1])\n",
    "    U = dense_solver.model.rotating_frame.state_into_frame(T, U).data\n",
    "    \n",
    "    return U\n",
    "\n",
    "def ode_sparse_obj(params, tol):\n",
    "    return fidelity(ode_sparse_sim(params, tol))\n"
   ]
  },
  {
   "cell_type": "code",
   "execution_count": 282,
   "id": "4e0b95ee",
   "metadata": {},
   "outputs": [],
   "source": [
    "ode_sparse_sim_9 = jit(lambda params: ode_sparse_sim(params, 1e-9))"
   ]
  },
  {
   "cell_type": "markdown",
   "id": "e0a12105",
   "metadata": {},
   "source": [
    "Compile + simulate"
   ]
  },
  {
   "cell_type": "code",
   "execution_count": 283,
   "id": "1d41b96e",
   "metadata": {},
   "outputs": [
    {
     "name": "stdout",
     "output_type": "stream",
     "text": [
      "CPU times: user 2.92 s, sys: 43.1 ms, total: 2.96 s\n",
      "Wall time: 2.94 s\n"
     ]
    }
   ],
   "source": [
    "x0=jnp.array([1.4, 1., 0.3, 0., 0., 0.])\n",
    "\n",
    "%time ode_sparse_yf = ode_sparse_sim_9(x0).block_until_ready()"
   ]
  },
  {
   "cell_type": "markdown",
   "id": "fae4ab4b",
   "metadata": {},
   "source": [
    "compiled simulation time"
   ]
  },
  {
   "cell_type": "code",
   "execution_count": 284,
   "id": "26523cda",
   "metadata": {},
   "outputs": [
    {
     "name": "stdout",
     "output_type": "stream",
     "text": [
      "CPU times: user 1.32 s, sys: 2.19 ms, total: 1.32 s\n",
      "Wall time: 1.32 s\n"
     ]
    }
   ],
   "source": [
    "%time ode_sparse_yf = ode_sparse_sim_9(x0).block_until_ready()"
   ]
  },
  {
   "cell_type": "code",
   "execution_count": 285,
   "id": "be515f89",
   "metadata": {},
   "outputs": [
    {
     "data": {
      "text/plain": [
       "1.0000005981929638"
      ]
     },
     "execution_count": 285,
     "metadata": {},
     "output_type": "execute_result"
    }
   ],
   "source": [
    "np.abs((ode_sparse_yf.conj() * ode_yf).sum())**2 / (dim**4)"
   ]
  },
  {
   "cell_type": "code",
   "execution_count": 306,
   "id": "47a5beda",
   "metadata": {},
   "outputs": [
    {
     "data": {
      "text/plain": [
       "2.302233874427172e-09"
      ]
     },
     "execution_count": 306,
     "metadata": {},
     "output_type": "execute_result"
    }
   ],
   "source": [
    "np.linalg.norm(ode_sparse_yf - ode_yf) / (dim**2)"
   ]
  },
  {
   "cell_type": "code",
   "execution_count": 287,
   "id": "0189fbb8",
   "metadata": {},
   "outputs": [],
   "source": [
    "grad_ode_sparse_obj_9 = jit(value_and_grad(lambda params: ode_sparse_obj(params, 1e-9)))"
   ]
  },
  {
   "cell_type": "code",
   "execution_count": 288,
   "id": "22b31154",
   "metadata": {},
   "outputs": [
    {
     "name": "stdout",
     "output_type": "stream",
     "text": [
      "CPU times: user 14.3 s, sys: 97.8 ms, total: 14.4 s\n",
      "Wall time: 14.3 s\n"
     ]
    }
   ],
   "source": [
    "%time ode_sparse_grad_val = grad_ode_sparse_obj_9(x0)[1].block_until_ready()"
   ]
  },
  {
   "cell_type": "code",
   "execution_count": 289,
   "id": "7af1db1c",
   "metadata": {},
   "outputs": [
    {
     "name": "stdout",
     "output_type": "stream",
     "text": [
      "CPU times: user 8.68 s, sys: 6.75 ms, total: 8.68 s\n",
      "Wall time: 8.69 s\n"
     ]
    }
   ],
   "source": [
    "%time ode_sparse_grad_val = grad_ode_sparse_obj_9(x0)[1].block_until_ready()"
   ]
  },
  {
   "cell_type": "markdown",
   "id": "c3e71e19",
   "metadata": {},
   "source": [
    "# 5. Dyson perturbative solver"
   ]
  },
  {
   "cell_type": "code",
   "execution_count": 421,
   "id": "13267e2a",
   "metadata": {},
   "outputs": [
    {
     "name": "stdout",
     "output_type": "stream",
     "text": [
      "CPU times: user 7.28 s, sys: 66.2 ms, total: 7.34 s\n",
      "Wall time: 5.64 s\n"
     ]
    }
   ],
   "source": [
    "%%time\n",
    "\n",
    "# system information\n",
    "operators = [-1j  * Hdc_B, -1j * Hdt_B]\n",
    "carrier_freqs = [v_t, v_t]\n",
    "frame_operator = -1j * np.diag(H0_B)\n",
    "\n",
    "# approximation specification:\n",
    "# chebyshev order to use\n",
    "chebyshev_orders = [2, 2]\n",
    "# Dyson series order to go to\n",
    "perturbation_order = 3\n",
    "\n",
    "\n",
    "# we will use \n",
    "n_steps = 20000\n",
    "dt = T / n_steps\n",
    "\n",
    "dyson_solver_jax = PerturbativeSolver(\n",
    "    operators=operators, \n",
    "    rotating_frame=frame_operator,\n",
    "    dt=dt,\n",
    "    carrier_freqs=carrier_freqs,\n",
    "    chebyshev_orders=chebyshev_orders,\n",
    "    expansion_method='dyson',\n",
    "    expansion_order=perturbation_order,\n",
    "    integration_method='jax_odeint',\n",
    "    atol=1e-12,\n",
    "    rtol=1e-12\n",
    ")"
   ]
  },
  {
   "cell_type": "code",
   "execution_count": 422,
   "id": "bc079404",
   "metadata": {},
   "outputs": [],
   "source": [
    "def dyson_sim(params):\n",
    "    cr_amp = params[0]\n",
    "    rotary_amp = params[1]\n",
    "    bipolar_amp = params[2] \n",
    "    \n",
    "    cr_phase = params[3]\n",
    "    rotary_phase = params[4]\n",
    "    bipolar_phase = params[5]\n",
    "    \n",
    "    cr_signal = Signal(lambda t: gaussian_square(t, cr_amp, sigma, risefall, T), \n",
    "                       carrier_freq=v_t, \n",
    "                       phase=cr_phase)\n",
    "    rotary_signal = Signal(lambda t: gaussian_square(t, rotary_amp, sigma, risefall, T), \n",
    "                           carrier_freq=v_t,\n",
    "                           phase=rotary_phase)\n",
    "    bipolar_signal = Signal(lambda t: bipolar_gaussian_square(t, bipolar_amp, sigma, risefall, T), \n",
    "                            carrier_freq=v_t,\n",
    "                            phase=bipolar_phase)\n",
    "    \n",
    "    target_signal = (rotary_signal + bipolar_signal).flatten()\n",
    "    \n",
    "    return dyson_solver_jax.solve([cr_signal, target_signal], y0, 0., n_steps)\n",
    "\n",
    "def dyson_obj(params):\n",
    "    return fidelity(dyson_sim(params))"
   ]
  },
  {
   "cell_type": "code",
   "execution_count": 423,
   "id": "be713236",
   "metadata": {},
   "outputs": [],
   "source": [
    "jit_dyson_sim = jit(dyson_sim)"
   ]
  },
  {
   "cell_type": "code",
   "execution_count": 424,
   "id": "c56465c8",
   "metadata": {},
   "outputs": [
    {
     "name": "stdout",
     "output_type": "stream",
     "text": [
      "CPU times: user 5.59 s, sys: 442 ms, total: 6.03 s\n",
      "Wall time: 3.56 s\n"
     ]
    }
   ],
   "source": [
    "%time dyson_yf = jit_dyson_sim(x0).block_until_ready()"
   ]
  },
  {
   "cell_type": "code",
   "execution_count": 425,
   "id": "89ee6fd7",
   "metadata": {},
   "outputs": [
    {
     "name": "stdout",
     "output_type": "stream",
     "text": [
      "CPU times: user 2.65 s, sys: 415 ms, total: 3.06 s\n",
      "Wall time: 616 ms\n"
     ]
    }
   ],
   "source": [
    "%time dyson_yf = jit_dyson_sim(x0).block_until_ready()"
   ]
  },
  {
   "cell_type": "code",
   "execution_count": 426,
   "id": "cb353c91",
   "metadata": {},
   "outputs": [
    {
     "data": {
      "text/plain": [
       "0.9999928059052572"
      ]
     },
     "execution_count": 426,
     "metadata": {},
     "output_type": "execute_result"
    }
   ],
   "source": [
    "np.abs((dyson_yf.conj() * ode_yf).sum())**2 / (dim**4)"
   ]
  },
  {
   "cell_type": "code",
   "execution_count": 427,
   "id": "67893b2f",
   "metadata": {},
   "outputs": [],
   "source": [
    "#ode_yf = ode_sim(x0, 1e-12)"
   ]
  },
  {
   "cell_type": "code",
   "execution_count": 429,
   "id": "f33366ea",
   "metadata": {},
   "outputs": [
    {
     "data": {
      "text/plain": [
       "4.148500523734451e-06"
      ]
     },
     "execution_count": 429,
     "metadata": {},
     "output_type": "execute_result"
    }
   ],
   "source": [
    "np.linalg.norm(dyson_yf - ode_yf) / dim"
   ]
  },
  {
   "cell_type": "code",
   "execution_count": 304,
   "id": "ea0216c5",
   "metadata": {},
   "outputs": [],
   "source": [
    "grad_dyson_obj = jit(value_and_grad(dyson_obj))"
   ]
  },
  {
   "cell_type": "code",
   "execution_count": 253,
   "id": "d1f98a47",
   "metadata": {},
   "outputs": [
    {
     "name": "stdout",
     "output_type": "stream",
     "text": [
      "CPU times: user 29 s, sys: 3.2 s, total: 32.2 s\n",
      "Wall time: 15.4 s\n"
     ]
    }
   ],
   "source": [
    "%time dyson_grad_val = grad_dyson_obj(x0)[1].block_until_ready()"
   ]
  },
  {
   "cell_type": "code",
   "execution_count": 200,
   "id": "fc4f9b04",
   "metadata": {},
   "outputs": [
    {
     "name": "stdout",
     "output_type": "stream",
     "text": [
      "CPU times: user 1.64 s, sys: 618 ms, total: 2.26 s\n",
      "Wall time: 863 ms\n"
     ]
    }
   ],
   "source": [
    "%time dyson_grad_val = grad_dyson_obj(x0)[1].block_until_ready()"
   ]
  },
  {
   "cell_type": "code",
   "execution_count": null,
   "id": "01835ff2",
   "metadata": {},
   "outputs": [],
   "source": []
  }
 ],
 "metadata": {
  "kernelspec": {
   "display_name": "Python 3 (ipykernel)",
   "language": "python",
   "name": "python3"
  },
  "language_info": {
   "codemirror_mode": {
    "name": "ipython",
    "version": 3
   },
   "file_extension": ".py",
   "mimetype": "text/x-python",
   "name": "python",
   "nbconvert_exporter": "python",
   "pygments_lexer": "ipython3",
   "version": "3.10.2"
  }
 },
 "nbformat": 4,
 "nbformat_minor": 5
}
