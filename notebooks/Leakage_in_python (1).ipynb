{
 "cells": [
  {
   "cell_type": "code",
   "execution_count": 2,
   "id": "7a539a13",
   "metadata": {},
   "outputs": [],
   "source": [
    "import numpy as np"
   ]
  },
  {
   "cell_type": "code",
   "execution_count": 3,
   "id": "42ec97a7",
   "metadata": {},
   "outputs": [],
   "source": [
    "# Lowering operator function\n",
    "def lower_op(d):\n",
    "    lower_op = np.zeros((d,d))\n",
    "    for ii in range(0,d-1,1):\n",
    "        lower_op[ii,ii+1] = np.sqrt(ii+1) \n",
    "        \n",
    "    return lower_op"
   ]
  },
  {
   "cell_type": "code",
   "execution_count": 4,
   "id": "5c53ede5",
   "metadata": {},
   "outputs": [],
   "source": [
    "# Create operators for cavity and transmon\n",
    "dc = 60\n",
    "dq = 3\n",
    "\n",
    "Ic = np.identity(dc)\n",
    "Iq = np.identity(dq)\n",
    "\n",
    "lowerc = lower_op(dc)\n",
    "lowerq = lower_op(dq)\n",
    "\n",
    "raisec = np.conjugate(np.transpose(lowerc))\n",
    "raiseq = np.conjugate(np.transpose(lowerq))"
   ]
  },
  {
   "cell_type": "code",
   "execution_count": 5,
   "id": "b9b44ddb",
   "metadata": {},
   "outputs": [],
   "source": [
    "# Static Hamiltonian parameters (note the units are GHz)\n",
    "\n",
    "ωq = 5.1*2*np.pi\n",
    "ωc = 7.2*2*np.pi\n",
    "α = -0.35*2*np.pi\n",
    "g = 0.2*2*np.pi"
   ]
  },
  {
   "cell_type": "code",
   "execution_count": 6,
   "id": "73f20bfc",
   "metadata": {},
   "outputs": [],
   "source": [
    "# Static Hamiltonian\n",
    "\n",
    "H0 = ωc*np.kron(Iq,raisec@lowerc) + ωq*np.kron(raiseq@lowerq,Ic) + (α/2)*np.kron(raiseq@raiseq@lowerq@lowerq,Ic) + g*(np.kron(lowerq,raisec) + np.kron(raiseq,lowerc))\n"
   ]
  },
  {
   "cell_type": "code",
   "execution_count": 7,
   "id": "2db49858",
   "metadata": {},
   "outputs": [],
   "source": [
    "# Some physics to calculate the right drive frequency for our standard setup\n",
    "\n",
    "Δ = ωq - ωc\n",
    "χ01 = g**2/Δ\n",
    "χ = (g**2/Δ/(Δ+α)*α)"
   ]
  },
  {
   "cell_type": "code",
   "execution_count": 8,
   "id": "f71ae76e",
   "metadata": {},
   "outputs": [],
   "source": [
    "# Pulse shape for the drive\n",
    "\n",
    "def step_f(t,t_c):\n",
    "    return 0.5 * (np.sign(t-t_c) + 1)\n",
    "\n",
    "def gaussian(t,sig, ti, tf):\n",
    "    return  np.exp(-(t - (tf+ti)/2)**2 / (2 * sig**2))\n",
    "\n",
    "def gaussian_square(t, rise, Δt):\n",
    "    return (step_f(t,rise) - step_f(t,Δt-rise)) + (step_f(t,0.0) - step_f(t,rise))*gaussian(t,rise/4,0.,2*rise) + (step_f(t,Δt-rise) - step_f(t,Δt))*gaussian(t+2*rise-Δt,rise/4,0.,2*rise)"
   ]
  },
  {
   "cell_type": "code",
   "execution_count": 9,
   "id": "d22ea37a",
   "metadata": {},
   "outputs": [],
   "source": [
    "# Drive parameters\n",
    "\n",
    "Ω = 2*np.pi*1e-3\n",
    "ωd = ωc - (χ01 - χ)\n",
    "Δt0 = 350.0\n",
    "rise0 = 8.0"
   ]
  },
  {
   "cell_type": "code",
   "execution_count": 10,
   "id": "34587534",
   "metadata": {},
   "outputs": [],
   "source": [
    "# Drive operator and function\n",
    "\n",
    "Hd = Ω*np.kron(Iq,raisec+lowerc)\n",
    "\n",
    "def drivef(t):\n",
    "    return 2*np.cos(ωd*t)*gaussian_square(t,rise0,Δt0)"
   ]
  },
  {
   "cell_type": "code",
   "execution_count": 11,
   "id": "c7690bc7",
   "metadata": {},
   "outputs": [],
   "source": [
    "# Dissipation\n",
    "\n",
    "# Lindblad operators\n",
    "L0 = np.kron(Iq,lowerc)\n",
    "L1 = np.kron(lowerq,Ic)\n",
    "L2 = np.kron(raiseq*lowerq,Ic)\n",
    "\n",
    "# Rates\n",
    "γ0 = 4*1e-3*2*np.pi\n",
    "γ1 = 1/(350*1e3)\n",
    "γ2 = 1/(230*1e3) - γ1/2"
   ]
  },
  {
   "cell_type": "code",
   "execution_count": 12,
   "id": "94406ac0",
   "metadata": {},
   "outputs": [],
   "source": [
    "# Other parameters\n",
    "\n",
    "# Initial state\n",
    "rho_in = np.zeros((dq*dc,dq*dc))\n",
    "rho_in[0,0] = 1.0\n",
    "\n",
    "# Simulation time\n",
    "t0 = 0.0\n",
    "tf = 700.0"
   ]
  },
  {
   "cell_type": "markdown",
   "id": "97d083c7",
   "metadata": {},
   "source": [
    "#### The rest of these cells define operators to measure the expectation value of"
   ]
  },
  {
   "cell_type": "code",
   "execution_count": 13,
   "id": "c115f614",
   "metadata": {},
   "outputs": [],
   "source": [
    "evs, evecs = np.linalg.eig(H0)"
   ]
  },
  {
   "cell_type": "code",
   "execution_count": 14,
   "id": "aceab2d3",
   "metadata": {},
   "outputs": [
    {
     "name": "stdout",
     "output_type": "stream",
     "text": [
      "True\n",
      "True\n",
      "1.4332109975590533e-09\n"
     ]
    }
   ],
   "source": [
    "# Now this is where things get a bit tricky. We have to sort the eigenvectors so that the basis transformation \n",
    "# matrix respects the ordering of Hilbert spaces we imagine for the dressed states: \n",
    "# i.e. dressed transmon \\otimes dressed cavity\n",
    "# To do this we use that the hybridization is weak so we can sort using the bare projectors\n",
    "\n",
    "# Projectors onto bare transmon states\n",
    "Pg = np.kron(np.array([[1.0,0.0,0.0],[0.0,0.0,0.0],[0.0,0.0,0.0]]),Ic)\n",
    "Pe = np.kron(np.array([[0.0,0.0,0.0],[0.0,1.0,0.0],[0.0,0.0,0.0]]),Ic)\n",
    "Pf = np.kron(np.array([[0.0,0.0,0.0],[0.0,0.0,0.0],[0.0,0.0,1.0]]),Ic)\n",
    "\n",
    "g_ol = []\n",
    "e_ol = []\n",
    "f_ol = []\n",
    "\n",
    "for i in range(dc*dq):\n",
    "    g_ol.append(np.trace(Pg@np.outer(evecs[:,i],evecs[:,i])))\n",
    "    e_ol.append(np.trace(Pe@np.outer(evecs[:,i],evecs[:,i])))\n",
    "    f_ol.append(np.trace(Pf@np.outer(evecs[:,i],evecs[:,i])))\n",
    "\n",
    "\n",
    "# Sort by largest to smallest overlap\n",
    "g_sort = np.argsort(g_ol).tolist()\n",
    "g_sort.reverse()\n",
    "e_sort = np.argsort(e_ol).tolist()\n",
    "e_sort.reverse()\n",
    "f_sort = np.argsort(f_ol).tolist()\n",
    "f_sort.reverse()\n",
    "\n",
    "# Take the largest overlaps\n",
    "g_ind = g_sort[0:dc]\n",
    "e_ind = e_sort[0:dc]\n",
    "f_ind = f_sort[0:dc]\n",
    "\n",
    "# Confirm no duplicate indices\n",
    "temp = g_ind + e_ind + f_ind\n",
    "print(len(temp) == len(set(temp)))\n",
    "\n",
    "# Now since each of the individual lists are ordered by decreasing overlap with the transmon projector, they\n",
    "# should be in reverse order of cavity overlap, but just to be safe let's order them. Upon inspection it turns\n",
    "# out that they actually are not due to the finite truncation, so let's reorder them.\n",
    "\n",
    "Nc = np.kron(Iq,raisec@lowerc)\n",
    "\n",
    "c_ol_g = []\n",
    "c_ol_e = []\n",
    "c_ol_f = []\n",
    "for j in range(dc):\n",
    "    c_ol_g.append(np.trace(Nc@np.outer(evecs[:,g_ind[j]],evecs[:,g_ind[j]])))\n",
    "    c_ol_e.append(np.trace(Nc@np.outer(evecs[:,e_ind[j]],evecs[:,e_ind[j]])))\n",
    "    c_ol_f.append(np.trace(Nc@np.outer(evecs[:,f_ind[j]],evecs[:,f_ind[j]])))\n",
    "    \n",
    "# Sort by smallest to largest cavity overlap\n",
    "gc_sort = np.argsort(c_ol_g).tolist()\n",
    "ec_sort = np.argsort(c_ol_e).tolist()\n",
    "fc_sort = np.argsort(c_ol_f).tolist()\n",
    "\n",
    "g_ind_fullsort = [g_ind[k] for k in gc_sort]\n",
    "e_ind_fullsort = [e_ind[k] for k in ec_sort]\n",
    "f_ind_fullsort = [f_ind[k] for k in fc_sort]\n",
    "\n",
    "# Confirm no duplicate indices again\n",
    "temp2 = g_ind_fullsort + e_ind_fullsort + f_ind_fullsort\n",
    "print(len(temp2) == len(set(temp2)))\n",
    "\n",
    "# Finally we reorder the eigenvector matrix to create the change of basis matrix\n",
    "V = np.zeros((dq*dc,dq*dc))\n",
    "\n",
    "for n in temp2:\n",
    "    V[:,n] = evecs[:,temp2[n]]\n",
    "    \n",
    "# For sanity check that V still does what it should and diagonalizes H0\n",
    "tempM = np.conjugate(np.transpose(V))@H0@V\n",
    "print(np.max(np.abs(tempM - np.diag(np.diagonal(tempM)))))"
   ]
  },
  {
   "cell_type": "code",
   "execution_count": 15,
   "id": "d06a39a3",
   "metadata": {},
   "outputs": [],
   "source": [
    "# Transform dressed cavity lowering and raising operator back into lab frame\n",
    "lowerc_dr = V@np.kron(Iq,lowerc)@np.conjugate(np.transpose(V))\n",
    "raisec_dr = V@np.kron(Iq,raisec)@np.conjugate(np.transpose(V))"
   ]
  },
  {
   "cell_type": "code",
   "execution_count": 16,
   "id": "f62eff23",
   "metadata": {},
   "outputs": [],
   "source": [
    "# Things to measure about the dressed cavity\n",
    "\n",
    "# 1) Photon number operator\n",
    "Nc_dr = raisec_dr@lowerc_dr\n",
    "\n",
    "# 2) Cavity quadratures\n",
    "\n",
    "X_dr = (lowerc_dr + raisec_dr)/np.sqrt(2)\n",
    "Y_dr = -1j*(lowerc_dr - raisec_dr)/np.sqrt(2)"
   ]
  },
  {
   "cell_type": "code",
   "execution_count": 17,
   "id": "22e7b36f",
   "metadata": {},
   "outputs": [],
   "source": [
    "# Things to measure about the dressed transmon: state populations\n",
    "# This creates projectors that sum over all the dressed eigenstates that correspond to a given dressed\n",
    "# transmon state, as opposed to just picking the one with zero dressed cavity excitations\n",
    "\n",
    "# G-state pop\n",
    "g_proj = np.zeros((dq*dc,dq*dc))\n",
    "for m in range(dc):\n",
    "    g_proj = g_proj + np.outer(evecs[:,g_ind[j]],evecs[:,g_ind[j]])\n",
    "\n",
    "# E-state pop\n",
    "e_proj = np.zeros((dq*dc,dq*dc))\n",
    "for m in range(dc):\n",
    "    e_proj = e_proj + np.outer(evecs[:,e_ind[j]],evecs[:,e_ind[j]])\n",
    "\n",
    "# F-state pop\n",
    "f_proj = np.zeros((dq*dc,dq*dc))\n",
    "for m in range(dc):\n",
    "    f_proj = f_proj + np.outer(evecs[:,f_ind[j]],evecs[:,f_ind[j]])"
   ]
  },
  {
   "cell_type": "markdown",
   "id": "8096e630",
   "metadata": {},
   "source": [
    "# Using dynamics with JAX"
   ]
  },
  {
   "cell_type": "markdown",
   "id": "eb5ad83b",
   "metadata": {},
   "source": [
    "Import JAX, set it to use 64 bit and GPU, and setup dynamics to work with JAX in the background."
   ]
  },
  {
   "cell_type": "code",
   "execution_count": 18,
   "id": "693f03a3",
   "metadata": {},
   "outputs": [],
   "source": [
    "from qiskit_dynamics.array import Array\n",
    "\n",
    "# configure jax to use 64 bit mode\n",
    "import jax\n",
    "jax.config.update(\"jax_enable_x64\", True)\n",
    "\n",
    "# tell JAX we are using CPU\n",
    "jax.config.update('jax_platform_name', 'gpu')\n",
    "\n",
    "# set default backend\n",
    "Array.set_default_backend('jax')\n",
    "\n",
    "import jax.numpy as jnp"
   ]
  },
  {
   "cell_type": "markdown",
   "id": "32aa7f05",
   "metadata": {},
   "source": [
    "Modify the functions to use JAX and Array."
   ]
  },
  {
   "cell_type": "code",
   "execution_count": 19,
   "id": "b8672810",
   "metadata": {},
   "outputs": [],
   "source": [
    "# Pulse shape for the drive\n",
    "\n",
    "def step_f(t,t_c):\n",
    "    return 0.5 * (jnp.sign(t-t_c) + 1)\n",
    "\n",
    "def gaussian(t,sig, ti, tf):\n",
    "    return  jnp.exp(-(t - (tf+ti)/2)**2 / (2 * sig**2))\n",
    "\n",
    "def gaussian_square(t, rise, Δt):\n",
    "    t = Array(t).data\n",
    "    rise = Array(rise).data\n",
    "    Δt = Array(Δt).data\n",
    "    out = (step_f(t,rise) - step_f(t,Δt-rise)) + (step_f(t,0.0) - step_f(t,rise))*gaussian(t,rise/4,0.,2*rise) + (step_f(t,Δt-rise) - step_f(t,Δt))*gaussian(t+2*rise-Δt,rise/4,0.,2*rise)\n",
    "    return Array(out)"
   ]
  },
  {
   "cell_type": "markdown",
   "id": "486868e1",
   "metadata": {},
   "source": [
    "For now just run a simulation without dressing everything to demo how dynamics works."
   ]
  },
  {
   "cell_type": "code",
   "execution_count": 20,
   "id": "f0b031dd",
   "metadata": {},
   "outputs": [],
   "source": [
    "# Drive parameters\n",
    "\n",
    "Ω = 2*np.pi*1e-3\n",
    "ωd = ωc - (χ01 - χ)\n",
    "Δt0 = 350.0\n",
    "rise0 = 8.0\n",
    "\n",
    "# Hamiltonian operators\n",
    "H0 = H0\n",
    "Hd = Hd\n",
    "\n",
    "# Lindblad operators\n",
    "L0 = np.kron(Iq,lowerc)\n",
    "L1 = np.kron(lowerq,Ic)\n",
    "L2 = np.kron(raiseq*lowerq,Ic)\n",
    "\n",
    "# Rates\n",
    "γ0 = 4*1e-3*2*np.pi\n",
    "γ1 = 1/(350*1e3)\n",
    "γ2 = 1/(230*1e3) - γ1/2"
   ]
  },
  {
   "cell_type": "code",
   "execution_count": 21,
   "id": "2834e9b1",
   "metadata": {},
   "outputs": [],
   "source": [
    "from qiskit_dynamics import Solver, Signal\n",
    "\n",
    "# setup simulation in the rotating frame of the drift\n",
    "solver = Solver(\n",
    "    static_hamiltonian=H0,\n",
    "    hamiltonian_operators=[Hd],\n",
    "    static_dissipators=[np.sqrt(γ0) * L0, np.sqrt(γ1) * L1, np.sqrt(γ2) * L2],\n",
    "    rotating_frame=H0,\n",
    "    rwa_cutoff=1.1 * ωd\n",
    ")"
   ]
  },
  {
   "cell_type": "code",
   "execution_count": 22,
   "id": "b6a64356",
   "metadata": {},
   "outputs": [],
   "source": [
    "# setup initial state\n",
    "y0 = np.zeros(dc * dq, dtype=complex)\n",
    "y0[0] = 1.\n",
    "y0 = np.diag(y0)\n",
    "\n",
    "# construct a parameterized simulation\n",
    "def sim_function(ωd, rise0, Δt0):\n",
    "    \n",
    "    # drive envelope\n",
    "    def drivef(t):\n",
    "        return 2 * gaussian_square(t,rise0,Δt0)\n",
    "    \n",
    "    # carrier freqs in Hz\n",
    "    signal = Signal(envelope=drivef, carrier_freq=ωd / (2 * np.pi))\n",
    "    \n",
    "    solver_copy = solver.copy()\n",
    "    # set list of time-dependent coefficients for Hamiltonian and Lindblad terms\n",
    "    # in this case there are no time-dependent lindblad terms\n",
    "    solver_copy.signals=([signal], None)\n",
    "    \n",
    "    results = solver_copy.solve(\n",
    "        t_span=[0, Δt0], \n",
    "        y0=y0, \n",
    "        method='jax_odeint', \n",
    "        atol=1e-10, rtol=1e-10\n",
    "    )\n",
    "    \n",
    "    return results.y[-1]"
   ]
  },
  {
   "cell_type": "code",
   "execution_count": 77,
   "id": "91b07fa0",
   "metadata": {},
   "outputs": [],
   "source": [
    "rise_range = np.arange(7.6, 8.38, .05)\n",
    "# input_params = jnp.array()\n",
    "# ω\n",
    "# rng = np.random.default_rng(123)\n",
    "\n",
    "# num_inputs=5\n",
    "# input_params = jnp.array(rng.uniform(low=-0.3, high=0.3, size=(num_inputs, 3)))\n",
    "ls = ([[ωd, rise0+r, Δt0] for r in rise_range])\n",
    "input_params = jnp.array(ls)\n"
   ]
  },
  {
   "cell_type": "code",
   "execution_count": 78,
   "id": "fb8922f1",
   "metadata": {},
   "outputs": [
    {
     "data": {
      "text/plain": [
       "(16, 3)"
      ]
     },
     "execution_count": 78,
     "metadata": {},
     "output_type": "execute_result"
    }
   ],
   "source": [
    "rng = np.random.default_rng(123)\n",
    "input_params1 = jnp.array(rng.uniform(low=-0.3, high=0.3, size=(10, 3)))\n",
    "input_params1.shape\n",
    "input_params.shape"
   ]
  },
  {
   "cell_type": "code",
   "execution_count": 79,
   "id": "c67dbb4a",
   "metadata": {},
   "outputs": [],
   "source": [
    "from jax import jit, vmap\n",
    "\n",
    "l_sim_function = lambda params: sim_function(params[0], params[1], params[2])\n",
    "\n",
    "vmap_sim_func = jit(vmap(l_sim_function))\n",
    "\n"
   ]
  },
  {
   "cell_type": "code",
   "execution_count": 80,
   "id": "5b1a32a8",
   "metadata": {},
   "outputs": [
    {
     "name": "stdout",
     "output_type": "stream",
     "text": [
      "CPU times: user 1min 27s, sys: 83.5 ms, total: 1min 27s\n",
      "Wall time: 1min 26s\n"
     ]
    },
    {
     "data": {
      "text/plain": [
       "DeviceArray([[[ 9.31007088e-01+1.01492253e-18j,\n",
       "               -2.43032816e-01-4.83450838e-02j,\n",
       "                4.22432329e-02+2.01031279e-02j, ...,\n",
       "               -5.05565374e-16+5.41072817e-17j,\n",
       "               -3.58677908e-17-2.72975770e-17j,\n",
       "               -3.39736160e-21-4.62067791e-21j],\n",
       "              [-2.43032816e-01+4.83450838e-02j,\n",
       "                6.59525690e-02+4.14575421e-18j,\n",
       "               -1.20712525e-02-3.05419600e-03j, ...,\n",
       "                1.29162981e-16-4.03692546e-17j,\n",
       "                1.07807582e-17+5.26382147e-18j,\n",
       "                1.12688424e-21+1.02985967e-21j],\n",
       "              [ 4.22432329e-02-2.01031279e-02j,\n",
       "               -1.20712525e-02+3.05419600e-03j,\n",
       "                2.35083444e-03+3.26351321e-19j, ...,\n",
       "               -2.17711462e-17+1.33685957e-17j,\n",
       "               -2.21701959e-18-4.64266495e-19j,\n",
       "               -2.53963438e-22-1.36320488e-22j],\n",
       "              ...,\n",
       "              [-5.05565374e-16-5.41072817e-17j,\n",
       "                1.29162981e-16+4.03692546e-17j,\n",
       "               -2.17711462e-17-1.33685957e-17j, ...,\n",
       "                1.08205106e-30+2.01789102e-44j,\n",
       "               -2.84899674e-32-1.56220635e-31j,\n",
       "                1.07338314e-35-1.04036462e-35j],\n",
       "              [-3.58677908e-17+2.72975770e-17j,\n",
       "                1.07807582e-17-5.26382147e-18j,\n",
       "               -2.21701959e-18+4.64266495e-19j, ...,\n",
       "               -2.84899674e-32+1.56220635e-31j,\n",
       "               -1.31407582e-32-1.39036680e-47j,\n",
       "               -1.22053278e-37-1.68890096e-36j],\n",
       "              [-3.39736160e-21+4.62067791e-21j,\n",
       "                1.12688424e-21-1.02985967e-21j,\n",
       "               -2.53963438e-22+1.36320488e-22j, ...,\n",
       "                1.07338314e-35+1.04036462e-35j,\n",
       "               -1.22053278e-37+1.68890096e-36j,\n",
       "               -6.44775592e-42+7.10357695e-57j]],\n",
       "\n",
       "             [[ 9.31063269e-01+7.59864870e-18j,\n",
       "               -2.42917712e-01-4.84640988e-02j,\n",
       "                4.21876485e-02+2.01345847e-02j, ...,\n",
       "               -1.42372587e-15-8.90459249e-17j,\n",
       "                1.29497777e-17-5.49761160e-17j,\n",
       "                2.56053388e-22+7.76798838e-22j],\n",
       "              [-2.42917712e-01+4.84640988e-02j,\n",
       "                6.59008875e-02-8.01981103e-18j,\n",
       "               -1.20550066e-02-3.05722710e-03j, ...,\n",
       "                3.76093389e-16-5.08798955e-17j,\n",
       "               -5.16401151e-19+1.50174485e-17j,\n",
       "               -1.07242806e-22-1.88987190e-22j],\n",
       "              [ 4.21876485e-02-2.01345847e-02j,\n",
       "               -1.20550066e-02+3.05722710e-03j,\n",
       "                2.34701152e-03-5.42123026e-19j, ...,\n",
       "               -6.64372920e-17+2.67556353e-17j,\n",
       "               -6.02325657e-19-2.77099435e-18j,\n",
       "                2.83695375e-23+2.95290226e-23j],\n",
       "              ...,\n",
       "              [-1.42372587e-15+8.90459249e-17j,\n",
       "                3.76093389e-16+5.08798955e-17j,\n",
       "               -6.64372920e-17-2.67556353e-17j, ...,\n",
       "                2.02095551e-31-1.95846199e-44j,\n",
       "               -1.56620491e-31-4.62437607e-32j,\n",
       "                1.58511965e-36+6.97421241e-36j],\n",
       "              [ 1.29497777e-17+5.49761160e-17j,\n",
       "               -5.16401151e-19-1.50174485e-17j,\n",
       "               -6.02325657e-19+2.77099435e-18j, ...,\n",
       "               -1.56620491e-31+4.62437607e-32j,\n",
       "                1.70102593e-32-4.50580410e-47j,\n",
       "               -3.95483307e-37+2.20309252e-36j],\n",
       "              [ 2.56053388e-22-7.76798838e-22j,\n",
       "               -1.07242806e-22+1.88987190e-22j,\n",
       "                2.83695375e-23-2.95290226e-23j, ...,\n",
       "                1.58511965e-36-6.97421241e-36j,\n",
       "               -3.95483307e-37-2.20309252e-36j,\n",
       "                4.91399589e-41+2.24508684e-56j]],\n",
       "\n",
       "             [[ 9.31119170e-01+5.56749777e-18j,\n",
       "               -2.42802815e-01-4.85836838e-02j,\n",
       "                4.21321069e-02+2.01662303e-02j, ...,\n",
       "               -2.20955849e-16+9.20013285e-16j,\n",
       "               -1.02976578e-17+6.98343758e-17j,\n",
       "                1.36365172e-21+4.22254564e-21j],\n",
       "              [-2.42802815e-01+4.85836838e-02j,\n",
       "                6.58494588e-02+2.75651355e-18j,\n",
       "               -1.20388308e-02-3.06029088e-03j, ...,\n",
       "                9.60780753e-18-2.51435543e-16j,\n",
       "               -9.58689922e-19-1.87477954e-17j,\n",
       "               -5.75842111e-22-1.02978832e-21j],\n",
       "              [ 4.21321069e-02-2.01662303e-02j,\n",
       "               -1.20388308e-02+3.06029088e-03j,\n",
       "                2.34321056e-03+1.07451626e-19j, ...,\n",
       "                9.92978556e-18+4.64144855e-17j,\n",
       "                1.04659173e-18+3.38300199e-18j,\n",
       "                1.53116229e-22+1.61484459e-22j],\n",
       "              ...,\n",
       "              [-2.20955849e-16-9.20013285e-16j,\n",
       "                9.60780753e-18+2.51435543e-16j,\n",
       "                9.92978556e-18-4.64144855e-17j, ...,\n",
       "               -5.83470942e-31-5.37744774e-45j,\n",
       "                2.53058422e-31-2.13012958e-31j,\n",
       "                3.14834617e-36-5.68133208e-36j],\n",
       "              [-1.02976578e-17-6.98343758e-17j,\n",
       "               -9.58689922e-19+1.87477954e-17j,\n",
       "                1.04659173e-18-3.38300199e-18j, ...,\n",
       "                2.53058422e-31+2.13012958e-31j,\n",
       "                3.97978236e-32+1.30687708e-47j,\n",
       "                1.77643709e-37+1.30191962e-36j],\n",
       "              [ 1.36365172e-21-4.22254564e-21j,\n",
       "               -5.75842111e-22+1.02978832e-21j,\n",
       "                1.53116229e-22-1.61484459e-22j, ...,\n",
       "                3.14834617e-36+5.68133208e-36j,\n",
       "                1.77643709e-37-1.30191962e-36j,\n",
       "                9.94349303e-41+4.24075843e-56j]],\n",
       "\n",
       "             ...,\n",
       "\n",
       "             [[ 9.31732295e-01-2.65990612e-18j,\n",
       "               -2.41535295e-01-4.98888092e-02j,\n",
       "                4.15213763e-02+2.05073035e-02j, ...,\n",
       "                2.44495486e-16-4.62578184e-16j,\n",
       "                8.13380666e-17-8.14806096e-17j,\n",
       "               -1.19822483e-21+1.96140283e-22j],\n",
       "              [-2.41535295e-01+4.98888092e-02j,\n",
       "                6.52851716e-02+9.99823134e-18j,\n",
       "               -1.18617809e-02-3.09294489e-03j, ...,\n",
       "               -3.86100008e-17+1.33006447e-16j,\n",
       "               -1.67223697e-17+2.54777359e-17j,\n",
       "                3.00222459e-22-1.15046927e-22j],\n",
       "              [ 4.15213763e-02-2.05073035e-02j,\n",
       "               -1.18617809e-02+3.09294489e-03j,\n",
       "                2.30172427e-03+8.19056704e-19j, ...,\n",
       "                7.13234546e-19-2.59951709e-17j,\n",
       "                1.83122733e-18-5.42132922e-18j,\n",
       "               -4.91163798e-23+3.51398254e-23j],\n",
       "              ...,\n",
       "              [ 2.44495486e-16+4.62578184e-16j,\n",
       "               -3.86100008e-17-1.33006447e-16j,\n",
       "                7.13234546e-19+2.59951709e-17j, ...,\n",
       "               -9.99420124e-31-9.59526784e-45j,\n",
       "                2.06888596e-31-1.23368059e-31j,\n",
       "               -8.40616040e-36+1.04456601e-35j],\n",
       "              [ 8.13380666e-17+8.14806096e-17j,\n",
       "               -1.67223697e-17-2.54777359e-17j,\n",
       "                1.83122733e-18+5.42132922e-18j, ...,\n",
       "                2.06888596e-31+1.23368059e-31j,\n",
       "                2.85806843e-32+7.27359463e-48j,\n",
       "               -1.60311993e-37+1.95856032e-36j],\n",
       "              [-1.19822483e-21-1.96140283e-22j,\n",
       "                3.00222459e-22+1.15046927e-22j,\n",
       "               -4.91163798e-23-3.51398254e-23j, ...,\n",
       "               -8.40616040e-36-1.04456601e-35j,\n",
       "               -1.60311993e-37-1.95856032e-36j,\n",
       "                3.10073757e-41+5.84553101e-56j]],\n",
       "\n",
       "             [[ 9.31787719e-01-8.10527345e-18j,\n",
       "               -2.41419974e-01-5.00065778e-02j,\n",
       "                4.14659656e-02+2.05377215e-02j, ...,\n",
       "                1.28359402e-16+5.32183520e-16j,\n",
       "                1.38421480e-16+5.48119667e-17j,\n",
       "               -3.47093686e-21-9.70726059e-21j],\n",
       "              [-2.41419974e-01+5.00065778e-02j,\n",
       "                6.52341418e-02+6.20831535e-18j,\n",
       "               -1.18458042e-02-3.09582984e-03j, ...,\n",
       "               -6.18085447e-17-1.30994773e-16j,\n",
       "               -3.88046787e-17-6.77213351e-18j,\n",
       "                1.42021619e-21+2.32866384e-21j],\n",
       "              [ 4.14659656e-02-2.05377215e-02j,\n",
       "               -1.18458042e-02+3.09582984e-03j,\n",
       "                2.29799222e-03+2.62750512e-19j, ...,\n",
       "                1.74384797e-17+2.08539983e-17j,\n",
       "                7.36764891e-18-6.11874054e-19j,\n",
       "               -3.68392403e-22-3.55435804e-22j],\n",
       "              ...,\n",
       "              [ 1.28359402e-16-5.32183520e-16j,\n",
       "               -6.18085447e-17+1.30994773e-16j,\n",
       "                1.74384797e-17-2.08539983e-17j, ...,\n",
       "                3.87984724e-31+1.06162895e-44j,\n",
       "               -2.75623665e-32+6.66901514e-32j,\n",
       "               -8.76359981e-36-2.00787615e-35j],\n",
       "              [ 1.38421480e-16-5.48119667e-17j,\n",
       "               -3.88046787e-17+6.77213351e-18j,\n",
       "                7.36764891e-18+6.11874054e-19j, ...,\n",
       "               -2.75623665e-32-6.66901514e-32j,\n",
       "                1.33320850e-32-6.05596756e-49j,\n",
       "               -1.33541476e-36-2.43894735e-36j],\n",
       "              [-3.47093686e-21+9.70726059e-21j,\n",
       "                1.42021619e-21-2.32866384e-21j,\n",
       "               -3.68392403e-22+3.55435804e-22j, ...,\n",
       "               -8.76359981e-36+2.00787615e-35j,\n",
       "               -1.33541476e-36+2.43894735e-36j,\n",
       "                6.95861050e-41-1.63202151e-56j]],\n",
       "\n",
       "             [[ 9.31843052e-01+5.27141327e-18j,\n",
       "               -2.41304627e-01-5.01245402e-02j,\n",
       "                4.14105410e-02+2.05681638e-02j, ...,\n",
       "                2.23597074e-16-1.25807325e-16j,\n",
       "                3.96079331e-17-9.33245228e-17j,\n",
       "               -2.19143506e-21+4.12281962e-21j],\n",
       "              [-2.41304627e-01+5.01245402e-02j,\n",
       "                6.51831928e-02-2.43369720e-18j,\n",
       "               -1.18298539e-02-3.09871932e-03j, ...,\n",
       "               -5.11391771e-17+4.46161482e-17j,\n",
       "               -5.23719034e-18+2.62981567e-17j,\n",
       "                3.46018364e-22-1.18579620e-21j],\n",
       "              [ 4.14105410e-02-2.05681638e-02j,\n",
       "               -1.18298539e-02+3.09871932e-03j,\n",
       "                2.29426964e-03+3.38213151e-19j, ...,\n",
       "                7.16052991e-18-1.05305060e-17j,\n",
       "               -2.99630058e-19-5.02190017e-18j,\n",
       "               -6.46817765e-24+2.31722117e-22j],\n",
       "              ...,\n",
       "              [ 2.23597074e-16+1.25807325e-16j,\n",
       "               -5.11391771e-17-4.46161482e-17j,\n",
       "                7.16052991e-18+1.05305060e-17j, ...,\n",
       "                2.00165613e-30+5.39018917e-45j,\n",
       "                6.94449985e-32+8.49107190e-32j,\n",
       "               -6.48842460e-36-1.26991265e-35j],\n",
       "              [ 3.96079331e-17+9.33245228e-17j,\n",
       "               -5.23719034e-18-2.62981567e-17j,\n",
       "               -2.99630058e-19+5.02190017e-18j, ...,\n",
       "                6.94449985e-32-8.49107190e-32j,\n",
       "               -1.77833264e-32+7.68584308e-48j,\n",
       "               -1.35808172e-38-1.67145997e-36j],\n",
       "              [-2.19143506e-21-4.12281962e-21j,\n",
       "                3.46018364e-22+1.18579620e-21j,\n",
       "               -6.46817765e-24-2.31722117e-22j, ...,\n",
       "               -6.48842460e-36+1.26991265e-35j,\n",
       "               -1.35808172e-38+1.67145997e-36j,\n",
       "               -6.24157721e-41-5.07175808e-57j]]], dtype=complex128)"
      ]
     },
     "execution_count": 80,
     "metadata": {},
     "output_type": "execute_result"
    }
   ],
   "source": [
    "%%time\n",
    "vmap_sim_func(input_params).block_until_ready()\n"
   ]
  },
  {
   "cell_type": "code",
   "execution_count": 67,
   "id": "7a16b879",
   "metadata": {},
   "outputs": [],
   "source": [
    "# %%time\n",
    "# vmap_sim_func(input_params).block_until_ready()"
   ]
  },
  {
   "cell_type": "code",
   "execution_count": null,
   "id": "5ed8e220",
   "metadata": {},
   "outputs": [],
   "source": [
    "# Time for vmap over 8 is 45 (vs 43 post jit) seconds (5.6 sec for sim)\n",
    "# Time for vmap over 16 is 86 seconds (83 post jit)((5.38 sec for sim)"
   ]
  },
  {
   "cell_type": "code",
   "execution_count": 23,
   "id": "a461bb28",
   "metadata": {},
   "outputs": [
    {
     "name": "stdout",
     "output_type": "stream",
     "text": [
      "CPU times: user 15.5 s, sys: 50.8 ms, total: 15.6 s\n",
      "Wall time: 15 s\n"
     ]
    }
   ],
   "source": [
    "%%time\n",
    "yf = sim_function(ωd, rise0, Δt0).block_until_ready()"
   ]
  },
  {
   "cell_type": "code",
   "execution_count": 24,
   "id": "d23a3155",
   "metadata": {},
   "outputs": [
    {
     "name": "stderr",
     "output_type": "stream",
     "text": [
      "/u/brosand/danDynamics/qiskit-dynamics/qiskit_dynamics/models/lindblad_model.py:150: UserWarning: Using sparse mode with JAX is primarily recommended for use on CPU.\n",
      "  self._operator_collection = construct_lindblad_operator_collection(\n",
      "/u/brosand/danDynamics/qiskit-dynamics/qiskit_dynamics/models/lindblad_model.py:500: UserWarning: Using sparse mode with JAX is primarily recommended for use on CPU.\n",
      "  self._operator_collection = construct_lindblad_operator_collection(\n"
     ]
    }
   ],
   "source": [
    "# setup sparse simulation, keep rotating_frame diagonal to preserve sparsity\n",
    "sparse_solver = Solver(\n",
    "    static_hamiltonian=H0,\n",
    "    hamiltonian_operators=[Hd],\n",
    "    static_dissipators=[np.sqrt(γ0) * L0, np.sqrt(γ1) * L1, np.sqrt(γ2) * L2],\n",
    "    rotating_frame=np.diag(H0),\n",
    "    evaluation_mode='sparse'\n",
    ")"
   ]
  },
  {
   "cell_type": "code",
   "execution_count": 25,
   "id": "ea17d667",
   "metadata": {},
   "outputs": [],
   "source": [
    "# setup initial state\n",
    "y0 = np.zeros(dc * dq, dtype=complex)\n",
    "y0[0] = 1.\n",
    "y0 = np.diag(y0)\n",
    "\n",
    "# construct a parameterized simulation\n",
    "def sparse_sim_function(ωd, rise0, Δt0):\n",
    "    \n",
    "    # drive envelope\n",
    "    def drivef(t):\n",
    "        return 2 * gaussian_square(t,rise0,Δt0)\n",
    "    \n",
    "    # carrier freqs in Hz\n",
    "    signal = Signal(envelope=drivef, carrier_freq=ωd / (2 * np.pi))\n",
    "    \n",
    "    solver_copy = sparse_solver.copy()\n",
    "    # set list of time-dependent coefficients for Hamiltonian and Lindblad terms\n",
    "    # in this case there are no time-dependent lindblad terms\n",
    "    solver_copy.signals=([signal], None)\n",
    "    \n",
    "    results = solver_copy.solve(\n",
    "        t_span=[0, Δt0], \n",
    "        y0=y0, \n",
    "        method='jax_odeint', \n",
    "        atol=1e-10, rtol=1e-10\n",
    "    )\n",
    "    \n",
    "    return results.y[-1]"
   ]
  },
  {
   "cell_type": "code",
   "execution_count": 26,
   "id": "5dbacbba",
   "metadata": {},
   "outputs": [
    {
     "name": "stdout",
     "output_type": "stream",
     "text": [
      "CPU times: user 16.8 s, sys: 39.4 ms, total: 16.8 s\n",
      "Wall time: 15.7 s\n"
     ]
    }
   ],
   "source": [
    "%%time\n",
    "yf_sparse = sparse_sim_function(ωd, rise0, Δt0).block_until_ready()"
   ]
  },
  {
   "cell_type": "markdown",
   "id": "f46a5d0c",
   "metadata": {},
   "source": [
    "Verify consistency. Since both were simulated in different frames, we first need to map them to the same frame, in this case we choose the lab frame."
   ]
  },
  {
   "cell_type": "code",
   "execution_count": 27,
   "id": "6c78c3bb",
   "metadata": {},
   "outputs": [
    {
     "data": {
      "text/plain": [
       "Array(4.34575681e-08)"
      ]
     },
     "execution_count": 27,
     "metadata": {},
     "output_type": "execute_result"
    }
   ],
   "source": [
    "# verify consistency\n",
    "yf_lab = solver.model.rotating_frame.operator_out_of_frame(Δt0, yf)\n",
    "yf_sparse_lab = sparse_solver.model.rotating_frame.operator_out_of_frame(Δt0, yf_sparse)\n",
    "np.linalg.norm(yf_lab - yf_sparse_lab) / np.sqrt(dq * dc)"
   ]
  },
  {
   "cell_type": "markdown",
   "id": "0e88a430",
   "metadata": {},
   "source": [
    "Can also check a more \"physically motivated\" measure:\n",
    "\n",
    "$$ f(\\rho_1, \\rho_2) = Tr\\left(\\sqrt{\\sqrt{\\rho_1}\\rho_2\\sqrt{\\rho_1}}\\right)$$"
   ]
  },
  {
   "cell_type": "code",
   "execution_count": 28,
   "id": "7e7f7982",
   "metadata": {},
   "outputs": [],
   "source": [
    "from scipy.linalg import sqrtm\n",
    "\n",
    "def fidelity(rho1, rho2):\n",
    "    sqrt_rho1 = sqrtm(rho1)\n",
    "    return sqrtm(sqrt_rho1 @ rho2 @ sqrt_rho1).trace()"
   ]
  },
  {
   "cell_type": "code",
   "execution_count": 29,
   "id": "b93d2bd1",
   "metadata": {},
   "outputs": [
    {
     "data": {
      "text/plain": [
       "(1.0000000110167597+5.681207662696184e-10j)"
      ]
     },
     "execution_count": 29,
     "metadata": {},
     "output_type": "execute_result"
    }
   ],
   "source": [
    "fidelity(yf_lab, yf_sparse_lab)"
   ]
  },
  {
   "cell_type": "code",
   "execution_count": null,
   "id": "47c59edf",
   "metadata": {},
   "outputs": [],
   "source": []
  }
 ],
 "metadata": {
  "kernelspec": {
   "display_name": "Python 3 (ipykernel)",
   "language": "python",
   "name": "python3"
  },
  "language_info": {
   "codemirror_mode": {
    "name": "ipython",
    "version": 3
   },
   "file_extension": ".py",
   "mimetype": "text/x-python",
   "name": "python",
   "nbconvert_exporter": "python",
   "pygments_lexer": "ipython3",
   "version": "3.9.7"
  }
 },
 "nbformat": 4,
 "nbformat_minor": 5
}
