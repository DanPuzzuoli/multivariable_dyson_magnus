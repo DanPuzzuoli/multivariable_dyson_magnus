{
 "cells": [
  {
   "cell_type": "markdown",
   "id": "b57954f5",
   "metadata": {},
   "source": [
    "# Perturbative solver demo\n",
    "\n",
    "This demo walks through the construction and usage of `PerturbativeSolver` objects for simulating a 2 transmon gate, comparing to traditional solvers using both dense and sparse arrays."
   ]
  },
  {
   "cell_type": "code",
   "execution_count": 1,
   "id": "992cf01a",
   "metadata": {},
   "outputs": [],
   "source": [
    "from time import time\n",
    "\n",
    "import numpy as np\n",
    "\n",
    "import jax.numpy as jnp\n",
    "from jax.scipy.linalg import expm as jexpm\n",
    "from jax.scipy.special import erf\n",
    "from jax import jit, value_and_grad\n",
    "\n",
    "\n",
    "from qiskit.quantum_info import Operator\n",
    "\n",
    "from qiskit_dynamics import Solver, Signal\n",
    "from qiskit_dynamics.perturbation import PerturbativeSolver"
   ]
  },
  {
   "cell_type": "markdown",
   "id": "0bba622d",
   "metadata": {},
   "source": [
    "Configure to use JAX."
   ]
  },
  {
   "cell_type": "code",
   "execution_count": 2,
   "id": "f734eb47",
   "metadata": {},
   "outputs": [],
   "source": [
    "from qiskit_dynamics.array import Array\n",
    "\n",
    "# configure jax to use 64 bit mode\n",
    "import jax\n",
    "jax.config.update(\"jax_enable_x64\", True)\n",
    "\n",
    "# tell JAX we are using CPU\n",
    "jax.config.update('jax_platform_name', 'cpu')\n",
    "\n",
    "# set default backend\n",
    "Array.set_default_backend('jax')"
   ]
  },
  {
   "cell_type": "markdown",
   "id": "2d7dd68f",
   "metadata": {},
   "source": [
    "# 1. Define envelope functions\n",
    "\n",
    "We define a Gaussian square and bipolar Gaussian square pulse shape."
   ]
  },
  {
   "cell_type": "code",
   "execution_count": 3,
   "id": "470c364b",
   "metadata": {},
   "outputs": [],
   "source": [
    "def gaussian_square(t, amp, sigma, risefall, T):\n",
    "    \"\"\"Gaussian square pulse.\"\"\"\n",
    "    \n",
    "    t = Array(t).data\n",
    "    C = jnp.exp(-(2*risefall*sigma)**2/(8*sigma**2))\n",
    "    den = (jnp.sqrt(jnp.pi*2*sigma**2)*erf(2*risefall*sigma/(jnp.sqrt(8)*sigma))-2*risefall*sigma*C)\n",
    "    return amp * jnp.piecewise(t,\n",
    "                         condlist=[t < (risefall * sigma), (T - t) < (risefall * sigma)],\n",
    "                         funclist=[lambda s: (jnp.exp(-(s-sigma*risefall)**2/(2*sigma**2))-C)/den,\n",
    "                                   lambda s: (jnp.exp(-(T-s-sigma*risefall)**2/(2*sigma**2))-C)/den,\n",
    "                                   lambda s: (1-C)/den]\n",
    "                        )\n",
    "\n",
    "def bipolar_gaussian_square(t, amp, sigma, risefall, T):\n",
    "    t = Array(t).data\n",
    "    unipolar = lambda s: gaussian_square(s, amp, sigma, risefall, T/2)\n",
    "    return jnp.piecewise(t,\n",
    "                         condlist=[t < (T/2)],\n",
    "                         funclist=[unipolar, lambda s: -unipolar(s - T/2)])"
   ]
  },
  {
   "cell_type": "markdown",
   "id": "f2de3120",
   "metadata": {},
   "source": [
    "Plot an example."
   ]
  },
  {
   "cell_type": "code",
   "execution_count": 4,
   "id": "c9a1b1ba",
   "metadata": {},
   "outputs": [],
   "source": [
    "T = 200.\n",
    "risefall = 2.\n",
    "sigma = 7.\n",
    "amp=4.\n",
    "\n",
    "test = jnp.vectorize(lambda t: bipolar_gaussian_square(t, amp, sigma, risefall, T))\n",
    "\n",
    "sig = Signal(test)"
   ]
  },
  {
   "cell_type": "code",
   "execution_count": 5,
   "id": "8e8e4c86",
   "metadata": {},
   "outputs": [
    {
     "data": {
      "image/png": "[encoded data removed]",
      "text/plain": [
       "<Figure size 432x288 with 1 Axes>"
      ]
     },
     "metadata": {
      "needs_background": "light"
     },
     "output_type": "display_data"
    }
   ],
   "source": [
    "sig.draw(0, T, 1000, function='envelope')"
   ]
  },
  {
   "cell_type": "markdown",
   "id": "731afdd4",
   "metadata": {},
   "source": [
    "# 2. Construct model operators\n",
    "\n",
    "We construct a two transmon model:\n",
    "\n",
    "$$H(t) = 2 \\pi \\nu a_0 a_0^\\dagger + 2 \\pi r (a_0 + a_0^\\dagger) \\\\\n",
    "   + 2 \\pi \\nu a_1 a_1^\\dagger + 2 \\pi r (a_1 + a_1^\\dagger)\\\\\n",
    "   + 2 \\pi J (a_0a_1^\\dagger + a_0^\\dagger a_1)$$"
   ]
  },
  {
   "cell_type": "code",
   "execution_count": 10,
   "id": "2ef3521f",
   "metadata": {},
   "outputs": [],
   "source": [
    "w_c = 2 * np.pi * 5.105\n",
    "w_t = 2 * np.pi * 5.033\n",
    "alpha_c = 2 * np.pi * (-0.33516)\n",
    "alpha_t = 2 * np.pi * (-0.33721)\n",
    "J = 2 * np.pi * 0.002\n",
    "\n",
    "dim = 5\n",
    "\n",
    "a = np.diag(np.sqrt(np.arange(1, dim)), 1)\n",
    "adag = a.transpose()\n",
    "N = np.diag(np.arange(dim))\n",
    "ident = np.eye(dim)\n",
    "ident2 = np.eye(dim**2)\n",
    "\n",
    "# operators on the control qubit (first tensor factor)\n",
    "a0 = np.kron(a, ident)\n",
    "adag0 = np.kron(adag, ident)\n",
    "N0 = np.kron(N, ident)\n",
    "\n",
    "# operators on the target qubit (first tensor factor)\n",
    "a1 = np.kron(ident, a)\n",
    "adag1 = np.kron(ident, adag)\n",
    "N1 = np.kron(ident, N)"
   ]
  },
  {
   "cell_type": "code",
   "execution_count": 11,
   "id": "b39e304f",
   "metadata": {},
   "outputs": [],
   "source": [
    "H0 = (w_c * N0 + 0.5 * alpha_c * N0 @ (N0 - ident2)\n",
    "      + w_t * N1 + 0.5 * alpha_t * N1 @ (N1 - ident2)\n",
    "      + J * (a0 @ adag1 + adag0 @ a1))\n",
    "Hdc = 2 * np.pi * (a0 + adag0)\n",
    "Hdt = 2 * np.pi * (a1 + adag1)"
   ]
  },
  {
   "cell_type": "markdown",
   "id": "ad8b847b",
   "metadata": {},
   "source": [
    "## 2.1 Get the dressed computational states qubit frequencies"
   ]
  },
  {
   "cell_type": "code",
   "execution_count": 12,
   "id": "029c8ba2",
   "metadata": {},
   "outputs": [],
   "source": [
    "def basis_vec(ind, dimension):\n",
    "    vec = np.zeros(dimension, dtype=complex)\n",
    "    vec[ind] = 1.\n",
    "    return vec\n",
    "\n",
    "def two_q_basis_vec(inda, indb, dimension):\n",
    "    vec_a = basis_vec(inda, dimension)\n",
    "    vec_b = basis_vec(indb, dimension)\n",
    "    return np.kron(vec_a, vec_b)\n",
    "\n",
    "def get_dressed_state_index(inda, indb, dimension, evectors):\n",
    "    b_vec = two_q_basis_vec(inda, indb, dimension)\n",
    "    overlaps = np.abs(evectors @ b_vec)\n",
    "    return overlaps.argmax()\n",
    "\n",
    "def get_dressed_state_and_energy(inda, indb, dimension, evecs):\n",
    "    ind = get_dressed_state_index(inda, indb, dimension, evecs)\n",
    "    return evals[ind], evecs[ind]"
   ]
  },
  {
   "cell_type": "markdown",
   "id": "d2a4b5b6",
   "metadata": {},
   "source": [
    "Diagonalize and get dressed energies/states for computational states."
   ]
  },
  {
   "cell_type": "code",
   "execution_count": 13,
   "id": "14c94468",
   "metadata": {},
   "outputs": [],
   "source": [
    "evals, B = jnp.linalg.eigh(H0)\n",
    "Badj = B.conj().transpose()\n",
    "\n",
    "E00, dressed00 = get_dressed_state_and_energy(0, 0, dim, B.transpose())\n",
    "E01, dressed01 = get_dressed_state_and_energy(0, 1, dim, B.transpose())\n",
    "E10, dressed10 = get_dressed_state_and_energy(1, 0, dim, B.transpose())\n",
    "E11, dressed11 = get_dressed_state_and_energy(1, 1, dim, B.transpose())\n",
    "\n",
    "# \"target dressed frequency\"\n",
    "v_t = E01 / (2 * np.pi)"
   ]
  },
  {
   "cell_type": "code",
   "execution_count": 14,
   "id": "8137aa7f",
   "metadata": {},
   "outputs": [],
   "source": [
    "H0_B = Badj @ H0 @ B\n",
    "Hdc_B = Badj @ Hdc @ B\n",
    "Hdt_B = Badj @ Hdt @ B"
   ]
  },
  {
   "cell_type": "markdown",
   "id": "4ebbf44d",
   "metadata": {},
   "source": [
    "Define fidelity with respect to the $Z \\otimes X$ operator for the computational states."
   ]
  },
  {
   "cell_type": "code",
   "execution_count": 15,
   "id": "2b6c4e72",
   "metadata": {},
   "outputs": [],
   "source": [
    "idx00 = 0\n",
    "idx01 = get_dressed_state_index(0, 1, dim, B.transpose())\n",
    "idx10 = get_dressed_state_index(1, 0, dim, B.transpose())\n",
    "idx11 = get_dressed_state_index(1, 1, dim, B.transpose())\n",
    "\n",
    "e00 = np.zeros(dim**2, dtype=complex)\n",
    "e00[0] = 1.\n",
    "e10 = np.zeros(dim**2, dtype=complex)\n",
    "e10[idx10] = 1.\n",
    "e01 = np.zeros(dim**2, dtype=complex)\n",
    "e01[idx01] = 1.\n",
    "e11 = np.zeros(dim**2, dtype=complex)\n",
    "e11[idx11] = 1.\n",
    "\n",
    "# set up observables\n",
    "S = np.array([e00, e01, e10, e11]).transpose()\n",
    "Sdag = S.conj().transpose()\n",
    "\n",
    "ZX = S @ np.array(Operator.from_label('ZX')) @ Sdag\n",
    "\n",
    "target = S @ jexpm(-1j * np.array(Operator.from_label('ZX')) * jnp.pi / 4) @ Sdag\n",
    "target_conj = target.conj()\n",
    "\n",
    "def fidelity(U):\n",
    "    return jnp.abs(jnp.sum(target_conj * U))**2 / (4**2)"
   ]
  },
  {
   "cell_type": "markdown",
   "id": "7008864d",
   "metadata": {},
   "source": [
    "# 3. Construct dense version of simulation\n",
    "\n",
    "Here we construct a function for simulating the system in the rotating frame of the drift, using a standard ODE solver, and dense arrays."
   ]
  },
  {
   "cell_type": "code",
   "execution_count": 16,
   "id": "5c6a6112",
   "metadata": {},
   "outputs": [],
   "source": [
    "dense_solver = Solver(\n",
    "    static_hamiltonian=H0_B,\n",
    "    hamiltonian_operators=[Hdc_B, Hdt_B],\n",
    "    rotating_frame=np.diag(H0_B)\n",
    ")\n",
    "\n",
    "y0 = np.eye(dim**2, dtype=complex)\n",
    "\n",
    "def ode_sim(params, tol):\n",
    "    cr_amp = params[0]\n",
    "    rotary_amp = params[1]\n",
    "    bipolar_amp = params[2] \n",
    "    \n",
    "    cr_phase = params[3]\n",
    "    rotary_phase = params[4]\n",
    "    bipolar_phase = params[5]\n",
    "    \n",
    "    cr_signal = Signal(lambda t: gaussian_square(t, cr_amp, sigma, risefall, T), \n",
    "                       carrier_freq=v_t, \n",
    "                       phase=cr_phase)\n",
    "    rotary_signal = Signal(lambda t: gaussian_square(t, rotary_amp, sigma, risefall, T), \n",
    "                           carrier_freq=v_t,\n",
    "                           phase=rotary_phase)\n",
    "    bipolar_signal = Signal(lambda t: bipolar_gaussian_square(t, bipolar_amp, sigma, risefall, T), \n",
    "                            carrier_freq=v_t,\n",
    "                            phase=bipolar_phase)\n",
    "    \n",
    "    target_signal = (rotary_signal + bipolar_signal).flatten()\n",
    "    \n",
    "    solver_copy = dense_solver.copy()\n",
    "    \n",
    "    solver_copy.signals = [cr_signal, target_signal]\n",
    "    results = solver_copy.solve(t_span=[0, T],\n",
    "                                y0=y0,\n",
    "                                method='jax_odeint',\n",
    "                                atol=tol,\n",
    "                                rtol=tol)\n",
    "    return results.y[-1]\n",
    "\n",
    "\n",
    "def ode_obj(params, tol):\n",
    "    return fidelity(ode_sim(params, tol))\n"
   ]
  },
  {
   "cell_type": "markdown",
   "id": "c9462081",
   "metadata": {},
   "source": [
    "## Setup a collection of inputs values and create benchmark final unitaries"
   ]
  },
  {
   "cell_type": "code",
   "execution_count": 17,
   "id": "75eb6467",
   "metadata": {},
   "outputs": [],
   "source": [
    "input_params = jnp.array(np.random.uniform(low=-2, high=2, size=(10, 6)))\n",
    "\n",
    "# orig = jnp.array([1.4, 1., 0.3, 0., 0., 0.])"
   ]
  },
  {
   "cell_type": "code",
   "execution_count": 18,
   "id": "189a6a1c",
   "metadata": {},
   "outputs": [],
   "source": [
    "benchmark_sim = jit(lambda x: ode_sim(x, 1e-14))\n",
    "\n",
    "benchmark_yfs = [benchmark_sim(x) for x in input_params]"
   ]
  },
  {
   "cell_type": "markdown",
   "id": "f5367dbd",
   "metadata": {},
   "source": [
    "## Create error metrics and function for running sims"
   ]
  },
  {
   "cell_type": "code",
   "execution_count": 19,
   "id": "5cc2ee63",
   "metadata": {},
   "outputs": [],
   "source": [
    "def distance(U, V):\n",
    "    return jnp.linalg.norm(U - V) / dim\n",
    "\n",
    "\n",
    "target = S @ jexpm(-1j * np.array(Operator.from_label('ZX')) * jnp.pi / 4) @ Sdag\n",
    "target_conj = target.conj()\n",
    "\n",
    "def gate_fidelity(U):\n",
    "    return jnp.abs(jnp.sum(target_conj * U))**2 / (4**2)"
   ]
  },
  {
   "cell_type": "code",
   "execution_count": 46,
   "id": "de46c3c1",
   "metadata": {},
   "outputs": [],
   "source": [
    "from time import time\n",
    "\n",
    "def compute_solver_metrics(sim_func):\n",
    "    sim_func = jit(sim_func)\n",
    "    \n",
    "    # time to jit\n",
    "    start = time()\n",
    "    sim_func(input_params[0]).block_until_ready()\n",
    "    jit_time = time() - start\n",
    "    \n",
    "    # loop over and run simulations\n",
    "    start = time()\n",
    "    yfs = [sim_func(x) for x in input_params]\n",
    "    ave_run_time = (time() - start) / len(input_params)\n",
    "    \n",
    "    distances = []\n",
    "    for yf, benchmark_yf in zip(yfs, benchmark_yfs):\n",
    "        distances.append(distance(yf, benchmark_yf))\n",
    "    \n",
    "    ave_distance = np.sum(distances).real / len(input_params)\n",
    "    \n",
    "    def fid_func(x):\n",
    "        yf = sim_func(x)\n",
    "        return gate_fidelity(yf)\n",
    "\n",
    "    jit_grad_fid_func = jit(value_and_grad(fid_func))\n",
    "    \n",
    "    # time to jit\n",
    "    start = time()\n",
    "    jit_grad_fid_func(input_params[0])[0].block_until_ready()\n",
    "    jit_grad_time = time() - start\n",
    "    \n",
    "    # time to compute gradients\n",
    "    start = time()\n",
    "    for x in input_params:\n",
    "        jit_grad_fid_func(x)[0].block_until_ready()\n",
    "    ave_grad_run_time = (time() - start) / len(input_params)\n",
    "    \n",
    "    return {\n",
    "        'jit_time': jit_time,\n",
    "        'ave_run_time': ave_run_time,\n",
    "        'ave_distance': ave_distance,\n",
    "        'jit_grad_time': jit_grad_time,\n",
    "        'ave_grad_run_time': ave_grad_run_time\n",
    "    }"
   ]
  },
  {
   "cell_type": "markdown",
   "id": "1ed1390e",
   "metadata": {},
   "source": [
    "# Dense simulation\n",
    "\n",
    "Run the sims for dense simulation at various tolerances.\n",
    "\n",
    "we should run this for up to `k==1e-13`, and possibly even for intermediate values to fill out the curve."
   ]
  },
  {
   "cell_type": "code",
   "execution_count": 31,
   "id": "f0d25860",
   "metadata": {},
   "outputs": [],
   "source": [
    "tols = [10**-k for k in range(6, 9)]\n",
    "\n",
    "dense_results = []\n",
    "for tol in tols:\n",
    "    dense_results.append(compute_solver_metrics(lambda params: ode_sim(params, tol)))"
   ]
  },
  {
   "cell_type": "markdown",
   "id": "63fbe694",
   "metadata": {},
   "source": [
    "# Sparse version of simulation\n",
    "\n",
    "For sparse simulation we need to make sure we are in a basis in which the operators are actually sparse."
   ]
  },
  {
   "cell_type": "code",
   "execution_count": 32,
   "id": "93f2e9dc",
   "metadata": {},
   "outputs": [],
   "source": [
    "sparse_solver = Solver(\n",
    "    static_hamiltonian=H0,\n",
    "    hamiltonian_operators=[Hdc, Hdt],\n",
    "    rotating_frame=np.diag(H0),\n",
    "    evaluation_mode='sparse'\n",
    ")\n",
    "\n",
    "y0_sparse = B @ y0\n",
    "\n",
    "def ode_sparse_sim(params, tol):\n",
    "    cr_amp = params[0]\n",
    "    rotary_amp = params[1]\n",
    "    bipolar_amp = params[2] \n",
    "    \n",
    "    cr_phase = params[3]\n",
    "    rotary_phase = params[4]\n",
    "    bipolar_phase = params[5]\n",
    "    \n",
    "    cr_signal = Signal(lambda t: gaussian_square(t, cr_amp, sigma, risefall, T), \n",
    "                       carrier_freq=v_t, \n",
    "                       phase=cr_phase)\n",
    "    rotary_signal = Signal(lambda t: gaussian_square(t, rotary_amp, sigma, risefall, T), \n",
    "                           carrier_freq=v_t,\n",
    "                           phase=rotary_phase)\n",
    "    bipolar_signal = Signal(lambda t: bipolar_gaussian_square(t, bipolar_amp, sigma, risefall, T), \n",
    "                            carrier_freq=v_t,\n",
    "                            phase=bipolar_phase)\n",
    "    \n",
    "    target_signal = (rotary_signal + bipolar_signal).flatten()\n",
    "    \n",
    "    solver_copy = sparse_solver.copy()\n",
    "    \n",
    "    solver_copy.signals = [cr_signal, target_signal]\n",
    "    results = solver_copy.solve(t_span=[0, T],\n",
    "                                y0=y0_sparse,\n",
    "                                method='jax_odeint',\n",
    "                                atol=tol,\n",
    "                                rtol=tol)\n",
    "    \n",
    "    # transfer unitary into same basis and frame as the dense simulation\n",
    "    U = Array(Badj) @ solver_copy.model.rotating_frame.state_out_of_frame(T, results.y[-1])\n",
    "    U = dense_solver.model.rotating_frame.state_into_frame(T, U).data\n",
    "    \n",
    "    return U"
   ]
  },
  {
   "cell_type": "code",
   "execution_count": 33,
   "id": "a1479ea4",
   "metadata": {},
   "outputs": [],
   "source": [
    "sparse_results = []\n",
    "for tol in tols:\n",
    "    sparse_results.append(compute_solver_metrics(lambda params: ode_sparse_sim(params, tol)))"
   ]
  },
  {
   "cell_type": "markdown",
   "id": "e9f5f6fd",
   "metadata": {},
   "source": [
    "# Dyson solver"
   ]
  },
  {
   "cell_type": "code",
   "execution_count": 64,
   "id": "949f2df9",
   "metadata": {},
   "outputs": [],
   "source": [
    "# system information\n",
    "operators = [-1j  * Hdc_B, -1j * Hdt_B]\n",
    "carrier_freqs = [v_t, v_t]\n",
    "frame_operator = -1j * np.diag(H0_B)\n",
    "\n",
    "def perturbative_solver_metrics(\n",
    "    n_steps, \n",
    "    expansion_order, \n",
    "    chebyshev_order, \n",
    "    expansion_method='dyson'\n",
    "):\n",
    "    dt = T / n_steps\n",
    "    \n",
    "    # construct solver\n",
    "    start = time()\n",
    "    perturb_solver = PerturbativeSolver(\n",
    "        operators=operators,\n",
    "        rotating_frame=frame_operator,\n",
    "        dt=dt,\n",
    "        carrier_freqs=carrier_freqs,\n",
    "        chebyshev_orders=[chebyshev_order] * 2,\n",
    "        expansion_method=expansion_method,\n",
    "        expansion_order=expansion_order,\n",
    "        integration_method='jax_odeint',\n",
    "        atol=1e-13,\n",
    "        rtol=1e-13\n",
    "    )\n",
    "    construction_time = time() - start\n",
    "    \n",
    "    def perturb_sim(params):\n",
    "        cr_amp = params[0]\n",
    "        rotary_amp = params[1]\n",
    "        bipolar_amp = params[2] \n",
    "\n",
    "        cr_phase = params[3]\n",
    "        rotary_phase = params[4]\n",
    "        bipolar_phase = params[5]\n",
    "\n",
    "        cr_signal = Signal(lambda t: gaussian_square(t, cr_amp, sigma, risefall, T), \n",
    "                           carrier_freq=v_t, \n",
    "                           phase=cr_phase)\n",
    "        rotary_signal = Signal(lambda t: gaussian_square(t, rotary_amp, sigma, risefall, T), \n",
    "                               carrier_freq=v_t,\n",
    "                               phase=rotary_phase)\n",
    "        bipolar_signal = Signal(lambda t: bipolar_gaussian_square(t, bipolar_amp, sigma, risefall, T), \n",
    "                                carrier_freq=v_t,\n",
    "                                phase=bipolar_phase)\n",
    "\n",
    "        target_signal = (rotary_signal + bipolar_signal).flatten()\n",
    "\n",
    "        return perturb_solver.solve([cr_signal, target_signal], y0, 0., n_steps)\n",
    "\n",
    "    results = compute_solver_metrics(perturb_sim)\n",
    "    results['construction_time'] = construction_time\n",
    "    return results\n"
   ]
  },
  {
   "cell_type": "markdown",
   "id": "f1a84bcb",
   "metadata": {},
   "source": [
    "For reference, this is a value that gives a very high quality approximation. "
   ]
  },
  {
   "cell_type": "code",
   "execution_count": 67,
   "id": "8f22234f",
   "metadata": {},
   "outputs": [],
   "source": [
    "test = perturbative_solver_metrics(\n",
    "    n_steps=30000,\n",
    "    expansion_order=4,\n",
    "    chebyshev_order=2,\n",
    ")"
   ]
  },
  {
   "cell_type": "markdown",
   "id": "886fa6ac",
   "metadata": {},
   "source": [
    "We should generate data for perturbative solvers, for both Dyson and Magnus, treating `n_steps` analogously to `tol` for the usual solvers. I.e. for different expansion orders and chebyshev orders, generate the metrics for a range of `n_steps`. We'll need to play around to see what actual values of `n_steps` to explore (e.g. cranking it really high to get as high a tolerance as possible).\n",
    "\n",
    "For CPU, can we pin this to a single core?"
   ]
  },
  {
   "cell_type": "code",
   "execution_count": 68,
   "id": "a2340fb2",
   "metadata": {
    "scrolled": true
   },
   "outputs": [
    {
     "data": {
      "text/plain": [
       "{'jit_time': 8.879864931106567,\n",
       " 'ave_run_time': 4.396063613891601,\n",
       " 'ave_distance': 9.648982184153147e-09,\n",
       " 'jit_grad_time': 21.49601411819458,\n",
       " 'ave_grad_run_time': 10.685994386672974,\n",
       " 'construction_time': 30.167757987976074}"
      ]
     },
     "execution_count": 68,
     "metadata": {},
     "output_type": "execute_result"
    }
   ],
   "source": [
    "test"
   ]
  },
  {
   "cell_type": "code",
   "execution_count": 69,
   "id": "0a6a3cb2",
   "metadata": {},
   "outputs": [
    {
     "data": {
      "text/plain": [
       "[{'jit_time': 1.9035210609436035,\n",
       "  'ave_run_time': 0.5844924926757813,\n",
       "  'ave_distance': 0.003718933970137258,\n",
       "  'jit_grad_time': 8.971038103103638,\n",
       "  'ave_grad_run_time': 4.295313787460327},\n",
       " {'jit_time': 2.4320571422576904,\n",
       "  'ave_run_time': 0.9539829969406128,\n",
       "  'ave_distance': 0.000187125762398585,\n",
       "  'jit_grad_time': 11.722171068191528,\n",
       "  'ave_grad_run_time': 6.84490818977356},\n",
       " {'jit_time': 2.826451063156128,\n",
       "  'ave_run_time': 1.5413794040679931,\n",
       "  'ave_distance': 8.75029677552049e-06,\n",
       "  'jit_grad_time': 15.96128511428833,\n",
       "  'ave_grad_run_time': 10.8574688911438}]"
      ]
     },
     "execution_count": 69,
     "metadata": {},
     "output_type": "execute_result"
    }
   ],
   "source": [
    "dense_results"
   ]
  },
  {
   "cell_type": "code",
   "execution_count": null,
   "id": "01835ff2",
   "metadata": {},
   "outputs": [],
   "source": []
  }
 ],
 "metadata": {
  "kernelspec": {
   "display_name": "Python 3 (ipykernel)",
   "language": "python",
   "name": "python3"
  },
  "language_info": {
   "codemirror_mode": {
    "name": "ipython",
    "version": 3
   },
   "file_extension": ".py",
   "mimetype": "text/x-python",
   "name": "python",
   "nbconvert_exporter": "python",
   "pygments_lexer": "ipython3",
   "version": "3.9.7"
  }
 },
 "nbformat": 4,
 "nbformat_minor": 5
}
