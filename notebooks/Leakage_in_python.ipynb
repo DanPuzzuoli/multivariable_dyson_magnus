{
 "cells": [
  {
   "cell_type": "code",
   "execution_count": 63,
   "id": "7a539a13",
   "metadata": {},
   "outputs": [],
   "source": [
    "import numpy as np"
   ]
  },
  {
   "cell_type": "code",
   "execution_count": 19,
   "id": "42ec97a7",
   "metadata": {},
   "outputs": [],
   "source": [
    "# Lowering operator function\n",
    "def lower_op(d):\n",
    "    lower_op = np.zeros((d,d))\n",
    "    for ii in range(0,d-1,1):\n",
    "        lower_op[ii,ii+1] = np.sqrt(ii+1) \n",
    "        \n",
    "    return lower_op"
   ]
  },
  {
   "cell_type": "code",
   "execution_count": 27,
   "id": "5c53ede5",
   "metadata": {},
   "outputs": [],
   "source": [
    "# Create operators for cavity and transmon\n",
    "dc = 60\n",
    "dq = 3\n",
    "\n",
    "Ic = np.identity(dc)\n",
    "Iq = np.identity(dq)\n",
    "\n",
    "lowerc = lower_op(dc)\n",
    "lowerq = lower_op(dq)\n",
    "\n",
    "raisec = np.conjugate(np.transpose(lowerc))\n",
    "raiseq = np.conjugate(np.transpose(lowerq))"
   ]
  },
  {
   "cell_type": "code",
   "execution_count": 33,
   "id": "b9b44ddb",
   "metadata": {},
   "outputs": [],
   "source": [
    "# Static Hamiltonian parameters (note the units are GHz)\n",
    "\n",
    "ωq = 5.1*2*np.pi\n",
    "ωc = 7.2*2*np.pi\n",
    "α = -0.35*2*np.pi\n",
    "g = 0.2*2*np.pi"
   ]
  },
  {
   "cell_type": "code",
   "execution_count": 39,
   "id": "73f20bfc",
   "metadata": {},
   "outputs": [],
   "source": [
    "# Static Hamiltonian\n",
    "\n",
    "H0 = ωc*np.kron(Iq,raisec@lowerc) + ωq*np.kron(raiseq@lowerq,Ic) + (α/2)*np.kron(raiseq@raiseq@lowerq@lowerq,Ic) + g*(np.kron(lowerq,raisec) + np.kron(raiseq,lowerc))\n"
   ]
  },
  {
   "cell_type": "code",
   "execution_count": 36,
   "id": "2db49858",
   "metadata": {},
   "outputs": [],
   "source": [
    "# Some physics to calculate the right drive frequency for our standard setup\n",
    "\n",
    "Δ = ωq - ωc\n",
    "χ01 = g**2/Δ\n",
    "χ = (g**2/Δ/(Δ+α)*α)"
   ]
  },
  {
   "cell_type": "code",
   "execution_count": 58,
   "id": "f71ae76e",
   "metadata": {},
   "outputs": [],
   "source": [
    "# Pulse shape for the drive\n",
    "\n",
    "def step_f(t,t_c):\n",
    "    return 0.5 * (np.sign(t-t_c) + 1)\n",
    "\n",
    "def gaussian(t,sig, ti, tf):\n",
    "    return  np.exp(-(t - (tf+ti)/2)**2 / (2 * sig**2))\n",
    "\n",
    "def gaussian_square(t, rise, Δt):\n",
    "    return (step_f(t,rise) - step_f(t,Δt-rise)) + (step_f(t,0.0) - step_f(t,rise))*gaussian(t,rise/4,0.,2*rise) + (step_f(t,Δt-rise) - step_f(t,Δt))*gaussian(t+2*rise-Δt,rise/4,0.,2*rise)"
   ]
  },
  {
   "cell_type": "code",
   "execution_count": 65,
   "id": "d22ea37a",
   "metadata": {},
   "outputs": [],
   "source": [
    "# Drive parameters\n",
    "\n",
    "Ω = 2*np.pi*1e-3\n",
    "ωd = ωc - (χ01 - χ)\n",
    "Δt0 = 350.0\n",
    "rise0 = 8.0"
   ]
  },
  {
   "cell_type": "code",
   "execution_count": 59,
   "id": "34587534",
   "metadata": {},
   "outputs": [],
   "source": [
    "# Drive operator and function\n",
    "\n",
    "Hd = Ω*np.kron(Iq,raisec+lowerc)\n",
    "\n",
    "def drivef(t):\n",
    "    return 2*np.cos(ωd*t)*gaussian_square(t,rise0,Δt0)"
   ]
  },
  {
   "cell_type": "code",
   "execution_count": 55,
   "id": "c7690bc7",
   "metadata": {},
   "outputs": [],
   "source": [
    "# Dissipation\n",
    "\n",
    "# Lindblad operators\n",
    "L0 = np.kron(Iq,lowerc)\n",
    "L1 = np.kron(lowerq,Ic)\n",
    "L2 = np.kron(raiseq*lowerq,Ic)\n",
    "\n",
    "# Rates\n",
    "γ0 = 4*1e-3*2*np.pi\n",
    "γ1 = 1/(350*1e3)\n",
    "γ2 = 1/(230*1e3) - γ1/2"
   ]
  },
  {
   "cell_type": "code",
   "execution_count": 56,
   "id": "94406ac0",
   "metadata": {},
   "outputs": [],
   "source": [
    "# Other parameters\n",
    "\n",
    "# Initial state\n",
    "rho_in = np.zeros((dq*dc,dq*dc))\n",
    "rho_in[0,0] = 1.0\n",
    "\n",
    "# Simulation time\n",
    "t0 = 0.0\n",
    "tf = 700.0"
   ]
  },
  {
   "cell_type": "markdown",
   "id": "97d083c7",
   "metadata": {},
   "source": [
    "#### The rest of these cells define operators to measure the expectation value of"
   ]
  },
  {
   "cell_type": "code",
   "execution_count": 69,
   "id": "c115f614",
   "metadata": {},
   "outputs": [],
   "source": [
    "evs, evecs = np.linalg.eig(H0)"
   ]
  },
  {
   "cell_type": "code",
   "execution_count": 170,
   "id": "aceab2d3",
   "metadata": {},
   "outputs": [
    {
     "name": "stdout",
     "output_type": "stream",
     "text": [
      "True\n",
      "True\n",
      "3.619461881965678e-11\n"
     ]
    }
   ],
   "source": [
    "# Now this is where things get a bit tricky. We have to sort the eigenvectors so that the basis transformation \n",
    "# matrix respects the ordering of Hilbert spaces we imagine for the dressed states: \n",
    "# i.e. dressed transmon \\otimes dressed cavity\n",
    "# To do this we use that the hybridization is weak so we can sort using the bare projectors\n",
    "\n",
    "# Projectors onto bare transmon states\n",
    "Pg = np.kron(np.array([[1.0,0.0,0.0],[0.0,0.0,0.0],[0.0,0.0,0.0]]),Ic)\n",
    "Pe = np.kron(np.array([[0.0,0.0,0.0],[0.0,1.0,0.0],[0.0,0.0,0.0]]),Ic)\n",
    "Pf = np.kron(np.array([[0.0,0.0,0.0],[0.0,0.0,0.0],[0.0,0.0,1.0]]),Ic)\n",
    "\n",
    "g_ol = []\n",
    "e_ol = []\n",
    "f_ol = []\n",
    "\n",
    "for i in range(dc*dq):\n",
    "    g_ol.append(np.trace(Pg@np.outer(evecs[:,i],evecs[:,i])))\n",
    "    e_ol.append(np.trace(Pe@np.outer(evecs[:,i],evecs[:,i])))\n",
    "    f_ol.append(np.trace(Pf@np.outer(evecs[:,i],evecs[:,i])))\n",
    "\n",
    "\n",
    "# Sort by largest to smallest overlap\n",
    "g_sort = np.argsort(g_ol).tolist()\n",
    "g_sort.reverse()\n",
    "e_sort = np.argsort(e_ol).tolist()\n",
    "e_sort.reverse()\n",
    "f_sort = np.argsort(f_ol).tolist()\n",
    "f_sort.reverse()\n",
    "\n",
    "# Take the largest overlaps\n",
    "g_ind = g_sort[0:dc]\n",
    "e_ind = e_sort[0:dc]\n",
    "f_ind = f_sort[0:dc]\n",
    "\n",
    "# Confirm no duplicate indices\n",
    "temp = g_ind + e_ind + f_ind\n",
    "print(len(temp) == len(set(temp)))\n",
    "\n",
    "# Now since each of the individual lists are ordered by decreasing overlap with the transmon projector, they\n",
    "# should be in reverse order of cavity overlap, but just to be safe let's order them. Upon inspection it turns\n",
    "# out that they actually are not due to the finite truncation, so let's reorder them.\n",
    "\n",
    "Nc = np.kron(Iq,raisec@lowerc)\n",
    "\n",
    "c_ol_g = []\n",
    "c_ol_e = []\n",
    "c_ol_f = []\n",
    "for j in range(dc):\n",
    "    c_ol_g.append(np.trace(Nc@np.outer(evecs[:,g_ind[j]],evecs[:,g_ind[j]])))\n",
    "    c_ol_e.append(np.trace(Nc@np.outer(evecs[:,e_ind[j]],evecs[:,e_ind[j]])))\n",
    "    c_ol_f.append(np.trace(Nc@np.outer(evecs[:,f_ind[j]],evecs[:,f_ind[j]])))\n",
    "    \n",
    "# Sort by smallest to largest cavity overlap\n",
    "gc_sort = np.argsort(c_ol_g).tolist()\n",
    "ec_sort = np.argsort(c_ol_e).tolist()\n",
    "fc_sort = np.argsort(c_ol_f).tolist()\n",
    "\n",
    "g_ind_fullsort = [g_ind[k] for k in gc_sort]\n",
    "e_ind_fullsort = [e_ind[k] for k in ec_sort]\n",
    "f_ind_fullsort = [f_ind[k] for k in fc_sort]\n",
    "\n",
    "# Confirm no duplicate indices again\n",
    "temp2 = g_ind_fullsort + e_ind_fullsort + f_ind_fullsort\n",
    "print(len(temp2) == len(set(temp2)))\n",
    "\n",
    "# Finally we reorder the eigenvector matrix to create the change of basis matrix\n",
    "V = np.zeros((dq*dc,dq*dc))\n",
    "\n",
    "for n in temp2:\n",
    "    V[:,n] = evecs[:,temp2[n]]\n",
    "    \n",
    "# For sanity check that V still does what it should and diagonalizes H0\n",
    "tempM = np.conjugate(np.transpose(V))@H0@V\n",
    "print(np.max(np.abs(tempM - np.diag(np.diagonal(tempM)))))"
   ]
  },
  {
   "cell_type": "code",
   "execution_count": 171,
   "id": "d06a39a3",
   "metadata": {},
   "outputs": [],
   "source": [
    "# Transform dressed cavity lowering and raising operator back into lab frame\n",
    "lowerc_dr = V@np.kron(Iq,lowerc)@np.conjugate(np.transpose(V))\n",
    "raisec_dr = V@np.kron(Iq,raisec)@np.conjugate(np.transpose(V))"
   ]
  },
  {
   "cell_type": "code",
   "execution_count": 173,
   "id": "f62eff23",
   "metadata": {},
   "outputs": [],
   "source": [
    "# Things to measure about the dressed cavity\n",
    "\n",
    "# 1) Photon number operator\n",
    "Nc_dr = raisec_dr@lowerc_dr\n",
    "\n",
    "# 2) Cavity quadratures\n",
    "\n",
    "X_dr = (lowerc_dr + raisec_dr)/np.sqrt(2)\n",
    "Y_dr = -1j*(lowerc_dr - raisec_dr)/np.sqrt(2)"
   ]
  },
  {
   "cell_type": "code",
   "execution_count": 176,
   "id": "22e7b36f",
   "metadata": {},
   "outputs": [],
   "source": [
    "# Things to measure about the dressed transmon: state populations\n",
    "# This creates projectors that sum over all the dressed eigenstates that correspond to a given dressed\n",
    "# transmon state, as opposed to just picking the one with zero dressed cavity excitations\n",
    "\n",
    "# G-state pop\n",
    "g_proj = np.zeros((dq*dc,dq*dc))\n",
    "for m in range(dc):\n",
    "    g_proj = g_proj + np.outer(evecs[:,g_ind[j]],evecs[:,g_ind[j]])\n",
    "\n",
    "# E-state pop\n",
    "e_proj = np.zeros((dq*dc,dq*dc))\n",
    "for m in range(dc):\n",
    "    e_proj = e_proj + np.outer(evecs[:,e_ind[j]],evecs[:,e_ind[j]])\n",
    "\n",
    "# F-state pop\n",
    "f_proj = np.zeros((dq*dc,dq*dc))\n",
    "for m in range(dc):\n",
    "    f_proj = f_proj + np.outer(evecs[:,f_ind[j]],evecs[:,f_ind[j]])"
   ]
  },
  {
   "cell_type": "code",
   "execution_count": null,
   "id": "cfb64fa7",
   "metadata": {},
   "outputs": [],
   "source": []
  }
 ],
 "metadata": {
  "kernelspec": {
   "display_name": "Python 3 (ipykernel)",
   "language": "python",
   "name": "python3"
  },
  "language_info": {
   "codemirror_mode": {
    "name": "ipython",
    "version": 3
   },
   "file_extension": ".py",
   "mimetype": "text/x-python",
   "name": "python",
   "nbconvert_exporter": "python",
   "pygments_lexer": "ipython3",
   "version": "3.8.10"
  }
 },
 "nbformat": 4,
 "nbformat_minor": 5
}
