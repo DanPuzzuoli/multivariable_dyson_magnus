{
 "cells": [
  {
   "cell_type": "code",
   "execution_count": 1,
   "id": "7d98cb9f",
   "metadata": {},
   "outputs": [],
   "source": [
    "import numpy as np\n",
    "import jax.numpy as jnp"
   ]
  },
  {
   "cell_type": "code",
   "execution_count": 2,
   "id": "5bda134f",
   "metadata": {},
   "outputs": [],
   "source": [
    "from qiskit_dynamics.array import Array\n",
    "\n",
    "# configure jax to use 64 bit mode\n",
    "import jax\n",
    "jax.config.update(\"jax_enable_x64\", True)\n",
    "\n",
    "# tell JAX we are using CPU\n",
    "jax.config.update('jax_platform_name', 'cpu')\n",
    "\n",
    "\n",
    "# set default backend\n",
    "Array.set_default_backend('jax')"
   ]
  },
  {
   "cell_type": "code",
   "execution_count": 3,
   "id": "caaaa2a9",
   "metadata": {},
   "outputs": [],
   "source": [
    "dim = 5 # dimension cutoff\n",
    "\n",
    "# truncated annihilation, creation, and number operators\n",
    "a = jnp.diag(np.sqrt(np.arange(1, dim, dtype=complex)), -1)\n",
    "adag = a.conj().transpose()\n",
    "numb = jnp.diag(np.arange(dim, dtype=complex))\n",
    "ident = np.eye(dim, dtype=complex)\n",
    "\n",
    "# truncated oscillator X and Y\n",
    "osc_X = a + adag\n",
    "osc_Y = 1j*(a-adag)\n",
    "\n",
    "# model parameters - work in units of GHz/ns\n",
    "v = 5.0\n",
    "anharm = -0.33\n",
    "r = 0.02\n",
    "\n",
    "ones = np.ones(dim, dtype=complex)\n",
    "ones[0:2] = np.array([0., 0.])\n",
    "P = np.diag(ones)"
   ]
  },
  {
   "cell_type": "code",
   "execution_count": 4,
   "id": "85372734",
   "metadata": {},
   "outputs": [],
   "source": [
    "from qiskit_dynamics import DiscreteSignal\n",
    "from discrete_signals import get_param_to_signal\n",
    "\n",
    "# choose the size of the cheb basis\n",
    "cheb_order = 7\n",
    "# choose # steps of the signal\n",
    "N = 100\n",
    "\n",
    "#get the filter\n",
    "param_to_signal = get_param_to_signal(cheb_order, N)\n",
    "\n",
    "# maybe determine overall length?\n",
    "sample_dt = 0.125\n",
    "\n",
    "T = sample_dt * len(param_to_signal(np.random.rand(2, cheb_order + 1)))"
   ]
  },
  {
   "cell_type": "code",
   "execution_count": 5,
   "id": "38e4bb95",
   "metadata": {},
   "outputs": [],
   "source": [
    "test = DiscreteSignal(samples=param_to_signal(10. * np.random.rand(2, cheb_order + 1)),\n",
    "                      dt=sample_dt,\n",
    "                      carrier_freq=v)"
   ]
  },
  {
   "cell_type": "code",
   "execution_count": 6,
   "id": "57d43b14",
   "metadata": {},
   "outputs": [
    {
     "data": {
      "image/png": "[encoded data removed]",
      "text/plain": [
       "<Figure size 432x288 with 1 Axes>"
      ]
     },
     "metadata": {
      "needs_background": "light"
     },
     "output_type": "display_data"
    }
   ],
   "source": [
    "test.draw(0, T, n=100, function='envelope')"
   ]
  },
  {
   "cell_type": "code",
   "execution_count": 7,
   "id": "f439d9f6",
   "metadata": {},
   "outputs": [],
   "source": [
    "X = np.array([[0., 1.], [1., 0.]])\n",
    "\n",
    "def fidelity(V):\n",
    "    V = Array(V)\n",
    "    return np.abs((Array(X) * V[0:2, 0:2]).sum())**2 / 4"
   ]
  },
  {
   "cell_type": "code",
   "execution_count": 8,
   "id": "bb50803e",
   "metadata": {},
   "outputs": [],
   "source": [
    "from qiskit_dynamics import Solver, DiscreteSignal, RotatingFrame\n",
    "from qiskit_dynamics.perturbation import solve_lmde_perturbation, ArrayPolynomial\n",
    "from qiskit_dynamics.array import Array\n",
    "from jax import jit\n",
    "\n",
    "from functools import partial\n",
    "from jax import jit\n",
    "from jax.scipy.linalg import expm as jexpm\n",
    "\n",
    "static_hamiltonian = 2 * np.pi * v * numb + np.pi * anharm * numb * (numb - ident)\n",
    "drive_hamiltonian = 2 * np.pi * r * osc_X\n",
    "\n",
    "perturb1 = 2 * np.pi * v * numb\n",
    "perturb2 = np.pi * anharm * numb * (numb - ident)\n",
    "perturb3 = 2 * np.pi * r * osc_X\n",
    "perturb4 = 2 * np.pi * r * osc_X\n",
    "perturb5 = (np.pi / 3) * anharm * numb * (numb - ident) * (numb - 2 * ident)\n",
    "perturb6 = 2 * np.pi * r * (P @ osc_X @ P)\n",
    "\n",
    "hamiltonian_operators = [\n",
    "    drive_hamiltonian,\n",
    "    perturb1,\n",
    "    perturb2,\n",
    "    perturb3,\n",
    "    perturb4,\n",
    "    perturb5,\n",
    "    perturb6\n",
    "]\n",
    "\n",
    "solver = Solver(\n",
    "    static_hamiltonian=static_hamiltonian,\n",
    "    hamiltonian_operators=hamiltonian_operators,\n",
    "    rotating_frame=np.diag(static_hamiltonian)\n",
    ")\n",
    "\n",
    "\n",
    "def ode_infidelity(control_params, model_params):\n",
    "    # construct s(b, t)\n",
    "    samples = param_to_signal(control_params)\n",
    "    control_signal = DiscreteSignal(samples=samples, dt=sample_dt, carrier_freq=v)\n",
    "    \n",
    "    # extract model parameters and set up solver coefficients\n",
    "    c1, c2, c3, c4, c5, c6 = model_params\n",
    "\n",
    "    signals = [\n",
    "        control_signal,\n",
    "        Array(c1),\n",
    "        Array(c2),\n",
    "        control_signal * Array(c3),\n",
    "        (control_signal * control_signal) * Array(c4),\n",
    "        Array(c5),\n",
    "        control_signal * Array(c6)\n",
    "    ]\n",
    "    \n",
    "    solver_copy = solver.copy()\n",
    "    solver_copy.signals = signals\n",
    "    \n",
    "    results = solver_copy.solve(\n",
    "        t_span=[0,T], \n",
    "        y0=np.eye(dim), \n",
    "        atol=1e-10, \n",
    "        rtol=1e-10,\n",
    "        method='jax_odeint'\n",
    "    )\n",
    "    \n",
    "    # return infidelity\n",
    "    return 1. - fidelity(results.y[-1]).data\n",
    "\n",
    "\n",
    "rotating_frame = solver.model.rotating_frame\n",
    "\n",
    "def compute_1d_perturbation_comparison(\n",
    "    control_params, \n",
    "    model_params_dir, \n",
    "    perturbation, \n",
    "    perturb_vals,\n",
    "    max_magnus_order=5\n",
    "):\n",
    "    \"\"\"\n",
    "    Args:\n",
    "        control_params for params to signal\n",
    "        model_params_dir for 1d direction in model parameter space\n",
    "        perturbation is the function computing the perturbation in the lab frame\n",
    "        perturb_vals is the list of values to plot over\n",
    "        max_magnus_order is the maximum magnus order to compute up to\n",
    "    \"\"\"\n",
    "    \n",
    "    # jit function for computing ode fidelity\n",
    "    ode_func = jit(lambda x: ode_infidelity(control_params, x * model_params_dir))\n",
    "    \n",
    "    # compute perturbation terms\n",
    "    samples = param_to_signal(control_params)\n",
    "    control_signal = DiscreteSignal(samples=samples, dt=sample_dt, carrier_freq=v)\n",
    "    \n",
    "    def generator(t):\n",
    "        op = control_signal(t) * (-1j * drive_hamiltonian)\n",
    "        return rotating_frame.operator_into_frame(t, op)\n",
    "    \n",
    "    def perturb_in_frame(t):\n",
    "        op = perturbation(t)\n",
    "        return rotating_frame.operator_into_frame(t, op)\n",
    "    \n",
    "    results = solve_lmde_perturbation(\n",
    "        perturbations=[perturb_in_frame],\n",
    "        t_span=[0, T],\n",
    "        expansion_method='magnus',\n",
    "        expansion_order=max_magnus_order,\n",
    "        generator=generator,\n",
    "        integration_method='jax_odeint',\n",
    "        rtol=1e-10,\n",
    "        atol=1e-10\n",
    "    )\n",
    "    term_labels = results.perturbation_results.expansion_labels\n",
    "    perturbation_terms = results.perturbation_results.expansion_terms\n",
    "    \n",
    "    # construct magnus expansions for each order from results\n",
    "    magnus_expansions = []\n",
    "    for order in range(1, max_magnus_order + 1):\n",
    "        n_terms = list(map(lambda x: len(x) <= order, term_labels)).count(True)\n",
    "        magnus_expansion = ArrayPolynomial(\n",
    "            array_coefficients=perturbation_terms[:n_terms, -1],\n",
    "            monomial_labels=term_labels[:n_terms]\n",
    "        )\n",
    "        magnus_expansions.append(magnus_expansion)\n",
    "    \n",
    "    U = results.y[-1]\n",
    "    \n",
    "    # get the 1st to 5th order approximate error rates using the Magnus terms\n",
    "    @partial(jit, static_argnums=(1,))\n",
    "    def magnus_infidelity(perturb_val, order):\n",
    "\n",
    "        coeffs = jnp.array([perturb_val])\n",
    "\n",
    "        U_approx = U @ jexpm(magnus_expansions[order - 1](coeffs).data)\n",
    "\n",
    "        return 1. - fidelity(U_approx).data\n",
    "    \n",
    "    ode_vals = []\n",
    "    magnus_vals = [[] for _ in range(max_magnus_order)]\n",
    "    for val in perturb_vals:\n",
    "        ode_vals.append(ode_func(val))\n",
    "        \n",
    "        for order, magnus_val in enumerate(magnus_vals):\n",
    "            magnus_val.append(magnus_infidelity(val, order + 1))\n",
    "    \n",
    "    return ode_vals, magnus_vals"
   ]
  },
  {
   "cell_type": "code",
   "execution_count": 9,
   "id": "37c2db7c",
   "metadata": {},
   "outputs": [],
   "source": [
    "from scipy.integrate import quad\n",
    "\n",
    "from qiskit_dynamics.perturbation import Multiset\n",
    "from qiskit_dynamics.perturbation.perturbation_utils import merge_multiset_expansion_order_labels\n",
    "from qiskit_dynamics.perturbation.multiset import get_all_submultisets\n",
    "\n",
    "def polynomial_integrate(f, a, b, degree):\n",
    "    \"\"\"Integrate [f(x), x*f(x), ..., (x**degree) * f(x)] over [a, b].\"\"\"\n",
    "    \n",
    "    results = []\n",
    "    for k in range(degree + 1):\n",
    "        integrand = lambda t: (t**k) * f(t)\n",
    "        results.append(quad(integrand, a, b)[0])\n",
    "    \n",
    "    return np.array(results)\n",
    "\n",
    "def independent_multivariable_integrate(f_list, ranges, max_degree):\n",
    "    \"\"\"Return an array of shape (degrees[0] + 1, ..., degrees[-1] + 1),\n",
    "    whose i[0], ..., i[-1] entry is the integral\n",
    "    \n",
    "    (degrees)\n",
    "    \"\"\"\n",
    "    \n",
    "    one_d_results = []\n",
    "    for f, [a, b] in zip(f_list, ranges):\n",
    "        one_d_results.append(polynomial_integrate(f, a, b, max_degree)) \n",
    "    \n",
    "    # construct all multisets up to a given degree\n",
    "    multisets = merge_multiset_expansion_order_labels(\n",
    "        perturbation_labels=[[k] for k in range(len(f_list))],\n",
    "        expansion_order=max_degree\n",
    "    )\n",
    "    multisets = get_all_submultisets(multisets)\n",
    "    \n",
    "    # prepend the empty multiset\n",
    "    multisets = [Multiset({})] + multisets\n",
    "\n",
    "    integration_results = []\n",
    "    for multiset in multisets:\n",
    "        res = 1.\n",
    "        for k in range(len(f_list)):\n",
    "            res = res * one_d_results[k][multiset.count(k)]\n",
    "        \n",
    "        integration_results.append(res)\n",
    "    \n",
    "    return np.array(integration_results), multisets\n",
    "\n",
    "def get_guassian(mean, std):\n",
    "    \n",
    "    const = 1 / (std * np.sqrt(2 * np.pi))\n",
    "    \n",
    "    return lambda t: const * np.exp(-0.5 * ((t - mean) / std)**2)"
   ]
  },
  {
   "cell_type": "code",
   "execution_count": 10,
   "id": "9528d3c1",
   "metadata": {},
   "outputs": [],
   "source": [
    "##########################################\n",
    "# magnus order and number of perturbations\n",
    "##########################################\n",
    "\n",
    "integration_ranges = [\n",
    "    [-0.002, 0.002], # frequency\n",
    "    [-0.1, 0.1], # anharmonicity\n",
    "    [-1., 1.], # drive strength\n",
    "    [-1., 1.], # non-linear control term\n",
    "    [-0.5, 0.5], # higher level spacings\n",
    "    [-2., 2.] # higher level drive operator\n",
    "]\n",
    "\n",
    "means = np.zeros(6, dtype=float)\n",
    "stds = np.ones(6, dtype=float)\n",
    "\n",
    "rotating_frame = solver.model.rotating_frame\n",
    "\n",
    "\n",
    "def construct_magnus_objective(magnus_order, n_perturb):\n",
    "    \"\"\"Construct the magnus objective function given an expansion order\n",
    "    and number of perturbations.\n",
    "    \"\"\"\n",
    "\n",
    "\n",
    "    ##############################\n",
    "    # compute distribution moments\n",
    "    ##############################\n",
    "\n",
    "\n",
    "    f_list = [get_guassian(mean, std) for mean, std in zip(means[:n_perturb], stds[:n_perturb])]\n",
    "\n",
    "    moments, multisets = independent_multivariable_integrate(\n",
    "        f_list, \n",
    "        ranges=integration_ranges, \n",
    "        max_degree=2 * magnus_order\n",
    "    )\n",
    "\n",
    "    # normalize in case distribution is cut off\n",
    "    moments = moments / moments[0]\n",
    "\n",
    "    ############################################################\n",
    "    # determine elements to cut based on the integral being zero\n",
    "    ############################################################\n",
    "    \n",
    "    tol=1e-12\n",
    "\n",
    "    nonzero_idx = []\n",
    "    nonzero_moments = []\n",
    "    nonzero_multisets = []\n",
    "    for idx, (moment, multiset) in enumerate(zip(moments, multisets)):\n",
    "        if np.abs(moment) > tol:\n",
    "            nonzero_idx.append(idx)\n",
    "            nonzero_moments.append(moment)\n",
    "            nonzero_multisets.append(multiset)\n",
    "\n",
    "    nonzero_idx = np.array(nonzero_idx)\n",
    "    nonzero_moments = np.array(nonzero_moments)\n",
    "\n",
    "    # build function using the above moments\n",
    "    \n",
    "    def magnus_computation(params):\n",
    "\n",
    "        ##############################\n",
    "        # setup time-dependent signals\n",
    "        ##############################\n",
    "\n",
    "        samples = param_to_signal(params)\n",
    "        control_signal = DiscreteSignal(samples=samples, dt=sample_dt, carrier_freq=v)\n",
    "        control_signal2 = control_signal * control_signal\n",
    "\n",
    "        def generator(t):\n",
    "            op = control_signal(t) * (-1j * drive_hamiltonian)\n",
    "            return rotating_frame.operator_into_frame(t, op)\n",
    "\n",
    "        def perturbation1(t):\n",
    "            op = -1j * perturb1\n",
    "            return rotating_frame.operator_into_frame(t, op)\n",
    "\n",
    "        def perturbation2(t):\n",
    "            op = -1j * perturb2\n",
    "            return rotating_frame.operator_into_frame(t, op)\n",
    "\n",
    "        def perturbation3(t):\n",
    "            op = -1j * control_signal(t) * drive_hamiltonian\n",
    "            return rotating_frame.operator_into_frame(t, op)\n",
    "\n",
    "        def perturbation4(t):\n",
    "            op = -1j * control_signal2(t) * drive_hamiltonian\n",
    "            return rotating_frame.operator_into_frame(t, op)\n",
    "\n",
    "        def perturbation5(t):\n",
    "            op = -1j * perturb5\n",
    "            return rotating_frame.operator_into_frame(t, op)\n",
    "\n",
    "        def perturbation6(t):\n",
    "            op = -1j * control_signal(t) * perturb6\n",
    "            return rotating_frame.operator_into_frame(t, op)\n",
    "\n",
    "\n",
    "        perturbations = [\n",
    "            perturbation1,\n",
    "            perturbation2,\n",
    "            perturbation3,\n",
    "            perturbation4,\n",
    "            perturbation5,\n",
    "            perturbation6,\n",
    "        ]\n",
    "\n",
    "        perturbations = perturbations[:n_perturb]\n",
    "\n",
    "        results = solve_lmde_perturbation(\n",
    "            perturbations=perturbations,\n",
    "            t_span=jnp.array([0., T]),\n",
    "            expansion_method='dyson',\n",
    "            expansion_order=magnus_order,\n",
    "            generator=generator,\n",
    "            integration_method='jax_odeint',\n",
    "            rtol=1e-8,\n",
    "            atol=1e-8\n",
    "        )\n",
    "\n",
    "        # final unitary\n",
    "        U = results.y[-1]\n",
    "\n",
    "        ################################\n",
    "        # construct robustness objective\n",
    "        ################################\n",
    "        \n",
    "        # construct polynomial object\n",
    "        magnus_terms = results.perturbation_results.expansion_terms[:, -1]\n",
    "        monomial_labels = results.perturbation_results.expansion_labels\n",
    "\n",
    "        magnus_polynomial = ArrayPolynomial(\n",
    "            array_coefficients=magnus_terms,\n",
    "            monomial_labels=monomial_labels\n",
    "        )\n",
    "\n",
    "        # get part acting on computational subspace\n",
    "        magnus_polynomial = magnus_polynomial[0:dim, 0:2]\n",
    "\n",
    "        # remove identity component\n",
    "        magnus_no_id = (\n",
    "            magnus_polynomial - (magnus_polynomial.trace() * (np.eye(dim, 2, dtype=complex) / 2))\n",
    "        )\n",
    "\n",
    "        # construct polynomial for norm, only including nonzero moments\n",
    "        magnus_norm = magnus_no_id.conj().mul(\n",
    "            magnus_no_id, monomial_filter=lambda x: x in nonzero_multisets\n",
    "        ).real.sum()\n",
    "        \n",
    "        # final integral is a linear combination of the polynomial coefficients\n",
    "        robustness_integral = np.dot(magnus_norm.array_coefficients, nonzero_moments[1:]).data\n",
    "\n",
    "        ##################################\n",
    "        # fidelity objective\n",
    "        ##################################\n",
    "\n",
    "        fid = fidelity(U).data\n",
    "        #import pdb; pdb.set_trace()\n",
    "        #############################\n",
    "        # return linearized objective\n",
    "        #############################\n",
    "        return (1 - fid) + robustness_integral / T\n",
    "\n",
    "    return magnus_computation"
   ]
  },
  {
   "cell_type": "markdown",
   "id": "38b6f7da",
   "metadata": {},
   "source": [
    "# optimize without robustness"
   ]
  },
  {
   "cell_type": "code",
   "execution_count": 11,
   "id": "19ae5596",
   "metadata": {},
   "outputs": [
    {
     "data": {
      "text/plain": [
       "array([[4.14932649, 8.32072957, 5.85709641, 8.41640539, 2.03329792,\n",
       "        3.9836071 , 1.53028216, 4.79821689],\n",
       "       [7.03008735, 1.09192172, 8.66776425, 9.04497656, 4.68882619,\n",
       "        8.57773011, 7.96220592, 0.01742552]])"
      ]
     },
     "execution_count": 11,
     "metadata": {},
     "output_type": "execute_result"
    }
   ],
   "source": [
    "rand_control_params = 10. * np.random.rand(2, cheb_order + 1)\n",
    "rand_control_params.flatten().reshape(2, cheb_order + 1)"
   ]
  },
  {
   "cell_type": "code",
   "execution_count": 12,
   "id": "488bb142",
   "metadata": {},
   "outputs": [],
   "source": [
    "model_params = np.zeros(6, dtype=float)\n",
    "\n",
    "def no_robust_obj(ctrl_params):\n",
    "    return ode_infidelity(ctrl_params.reshape(2, cheb_order + 1), model_params)"
   ]
  },
  {
   "cell_type": "code",
   "execution_count": 13,
   "id": "6c172472",
   "metadata": {},
   "outputs": [],
   "source": [
    "from jax.scipy.optimize import minimize\n",
    "test = minimize(no_robust_obj, rand_control_params.flatten(), method='BFGS')"
   ]
  },
  {
   "cell_type": "code",
   "execution_count": 14,
   "id": "7c8c0b4e",
   "metadata": {},
   "outputs": [
    {
     "data": {
      "text/plain": [
       "DeviceArray(3.62625024e-08, dtype=float64)"
      ]
     },
     "execution_count": 14,
     "metadata": {},
     "output_type": "execute_result"
    }
   ],
   "source": [
    "test.fun"
   ]
  },
  {
   "cell_type": "code",
   "execution_count": 15,
   "id": "3220d1b9",
   "metadata": {},
   "outputs": [],
   "source": [
    "perturb1_vals = jnp.linspace(-0.002, 0.002, 51)\n",
    "\n",
    "perturb1_results = compute_1d_perturbation_comparison(\n",
    "    test.x.reshape(2, cheb_order + 1), \n",
    "    jnp.array([1., 0., 0., 0., 0., 0.]), \n",
    "    perturbation = lambda t: -1j * perturb1, \n",
    "    perturb_vals=perturb1_vals,\n",
    "    max_magnus_order=1\n",
    ")"
   ]
  },
  {
   "cell_type": "code",
   "execution_count": 16,
   "id": "b8eafdaf",
   "metadata": {
    "scrolled": true
   },
   "outputs": [
    {
     "data": {
      "text/plain": [
       "Text(0, 0.5, 'Infidelity')"
      ]
     },
     "execution_count": 16,
     "metadata": {},
     "output_type": "execute_result"
    },
    {
     "data": {
      "image/png": "[encoded data removed]",
      "text/plain": [
       "<Figure size 432x288 with 1 Axes>"
      ]
     },
     "metadata": {
      "needs_background": "light"
     },
     "output_type": "display_data"
    }
   ],
   "source": [
    "import matplotlib.pyplot as plt\n",
    "\n",
    "plt.plot(perturb1_vals, perturb1_results[1][0],label='1st order Est')\n",
    "#plt.plot(perturb1_vals, perturb1_results[1][1],label='2nd order Est')\n",
    "#plt.plot(perturb1_vals, perturb1_results[1][2],label='3rd order Est')\n",
    "#plt.plot(perturb1_vals, perturb1_results[1][3],label='4th order Est')\n",
    "#plt.plot(perturb1_vals, perturb1_results[1][4],label='5th order Est')\n",
    "plt.plot(perturb1_vals, perturb1_results[0], label='Direct solving')\n",
    "plt.legend()\n",
    "plt.ylim(0, 1e-3)\n",
    "plt.xlabel('Perturbation 1')\n",
    "plt.ylabel('Infidelity')"
   ]
  },
  {
   "cell_type": "code",
   "execution_count": 17,
   "id": "57591b14",
   "metadata": {},
   "outputs": [],
   "source": [
    "magnus_obj = construct_magnus_objective(magnus_order=1, n_perturb=6)\n",
    "\n",
    "def opt_obj(x):\n",
    "    return magnus_obj(x.reshape(2, cheb_order + 1))"
   ]
  },
  {
   "cell_type": "code",
   "execution_count": 18,
   "id": "85526f38",
   "metadata": {},
   "outputs": [],
   "source": [
    "test2 = minimize(opt_obj, rand_control_params.flatten(), method='BFGS')"
   ]
  },
  {
   "cell_type": "code",
   "execution_count": 19,
   "id": "e463ea35",
   "metadata": {},
   "outputs": [
    {
     "data": {
      "text/plain": [
       "DeviceArray(0.0052016, dtype=float64)"
      ]
     },
     "execution_count": 19,
     "metadata": {},
     "output_type": "execute_result"
    }
   ],
   "source": [
    "test2.fun"
   ]
  },
  {
   "cell_type": "code",
   "execution_count": 20,
   "id": "b7df0cc7",
   "metadata": {},
   "outputs": [
    {
     "data": {
      "image/png": "[encoded data removed]",
      "text/plain": [
       "<Figure size 432x288 with 1 Axes>"
      ]
     },
     "metadata": {
      "needs_background": "light"
     },
     "output_type": "display_data"
    }
   ],
   "source": [
    "opt_sig = DiscreteSignal(samples=param_to_signal(test2.x.reshape(2, cheb_order + 1)),\n",
    "                      dt=sample_dt,\n",
    "                      carrier_freq=v)\n",
    "\n",
    "opt_sig.draw(0, T, 100, function='envelope')"
   ]
  },
  {
   "cell_type": "code",
   "execution_count": 23,
   "id": "97778418",
   "metadata": {},
   "outputs": [],
   "source": [
    "perturb1_vals = jnp.linspace(-0.1, 0.1, 51)\n",
    "\n",
    "# compute perturbation terms\n",
    "samples = param_to_signal(test2.x.reshape(2, cheb_order + 1))\n",
    "control_signal = DiscreteSignal(samples=samples, dt=sample_dt, carrier_freq=v)\n",
    "\"\"\"\n",
    "perturb1_results = compute_1d_perturbation_comparison(\n",
    "    test2.x.reshape(2, cheb_order + 1), \n",
    "    jnp.array([0., 0., 1., 0., 0., 0.]), \n",
    "    perturbation = lambda t: -1j * control_signal(t) * drive_hamiltonian, \n",
    "    perturb_vals=perturb1_vals,\n",
    "    max_magnus_order=1\n",
    ")\n",
    "\"\"\"\n",
    "\n",
    "perturb1_vals = jnp.linspace(-0.002, 0.002, 51)\n",
    "\n",
    "perturb1_results = compute_1d_perturbation_comparison(\n",
    "    test.x.reshape(2, cheb_order + 1), \n",
    "    jnp.array([1., 0., 0., 0., 0., 0.]), \n",
    "    perturbation = lambda t: -1j * perturb1, \n",
    "    perturb_vals=perturb1_vals,\n",
    "    max_magnus_order=1\n",
    ")"
   ]
  },
  {
   "cell_type": "code",
   "execution_count": 24,
   "id": "94cf5eb0",
   "metadata": {},
   "outputs": [
    {
     "data": {
      "text/plain": [
       "Text(0, 0.5, 'Infidelity')"
      ]
     },
     "execution_count": 24,
     "metadata": {},
     "output_type": "execute_result"
    },
    {
     "data": {
      "image/png": "[encoded data removed]",
      "text/plain": [
       "<Figure size 432x288 with 1 Axes>"
      ]
     },
     "metadata": {
      "needs_background": "light"
     },
     "output_type": "display_data"
    }
   ],
   "source": [
    "import matplotlib.pyplot as plt\n",
    "\n",
    "plt.plot(perturb1_vals, perturb1_results[1][0],label='1st order Est')\n",
    "#plt.plot(perturb1_vals, perturb1_results[1][1],label='2nd order Est')\n",
    "#plt.plot(perturb1_vals, perturb1_results[1][2],label='3rd order Est')\n",
    "#plt.plot(perturb1_vals, perturb1_results[1][3],label='4th order Est')\n",
    "#plt.plot(perturb1_vals, perturb1_results[1][4],label='5th order Est')\n",
    "plt.plot(perturb1_vals, perturb1_results[0], label='Direct solving')\n",
    "plt.legend()\n",
    "plt.ylim(0, 1e-3)\n",
    "plt.xlabel('Perturbation 1')\n",
    "plt.ylabel('Infidelity')"
   ]
  },
  {
   "cell_type": "code",
   "execution_count": null,
   "id": "cd0ab48b",
   "metadata": {},
   "outputs": [],
   "source": []
  }
 ],
 "metadata": {
  "kernelspec": {
   "display_name": "Python 3 (ipykernel)",
   "language": "python",
   "name": "python3"
  },
  "language_info": {
   "codemirror_mode": {
    "name": "ipython",
    "version": 3
   },
   "file_extension": ".py",
   "mimetype": "text/x-python",
   "name": "python",
   "nbconvert_exporter": "python",
   "pygments_lexer": "ipython3",
   "version": "3.10.2"
  }
 },
 "nbformat": 4,
 "nbformat_minor": 5
}
