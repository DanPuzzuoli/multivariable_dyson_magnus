{
 "cells": [
  {
   "cell_type": "markdown",
   "id": "b57954f5",
   "metadata": {},
   "source": [
    "# Perturbative solver demo\n",
    "\n",
    "This demo walks through the construction and usage of `PerturbativeSolver` objects for simulating a 2 transmon gate, comparing to traditional solvers using both dense and sparse arrays."
   ]
  },
  {
   "cell_type": "code",
   "execution_count": 1,
   "id": "992cf01a",
   "metadata": {},
   "outputs": [],
   "source": [
    "from time import time\n",
    "\n",
    "import numpy as np\n",
    "\n",
    "import jax.numpy as jnp\n",
    "from jax.scipy.linalg import expm as jexpm\n",
    "from jax.scipy.special import erf\n",
    "from jax import jit, value_and_grad, vmap\n",
    "\n",
    "\n",
    "from qiskit.quantum_info import Operator\n",
    "\n",
    "from qiskit_dynamics import Solver, Signal\n",
    "from qiskit_dynamics.perturbation import PerturbativeSolver"
   ]
  },
  {
   "cell_type": "markdown",
   "id": "0bba622d",
   "metadata": {},
   "source": [
    "Configure to use JAX."
   ]
  },
  {
   "cell_type": "code",
   "execution_count": 2,
   "id": "f734eb47",
   "metadata": {},
   "outputs": [],
   "source": [
    "from qiskit_dynamics.array import Array\n",
    "\n",
    "# configure jax to use 64 bit mode\n",
    "import jax\n",
    "jax.config.update(\"jax_enable_x64\", True)\n",
    "\n",
    "# tell JAX we are using CPU\n",
    "jax.config.update('jax_platform_name', 'cpu')\n",
    "\n",
    "# set default backend\n",
    "Array.set_default_backend('jax')"
   ]
  },
  {
   "cell_type": "markdown",
   "id": "2d7dd68f",
   "metadata": {},
   "source": [
    "# 1. Define envelope functions\n",
    "\n",
    "We define a Gaussian square and bipolar Gaussian square pulse shape."
   ]
  },
  {
   "cell_type": "code",
   "execution_count": 3,
   "id": "470c364b",
   "metadata": {},
   "outputs": [],
   "source": [
    "def gaussian_square(t, amp, sigma, risefall, T):\n",
    "    \"\"\"Gaussian square pulse.\"\"\"\n",
    "    \n",
    "    t = Array(t).data\n",
    "    C = jnp.exp(-(2*risefall*sigma)**2/(8*sigma**2))\n",
    "    den = (jnp.sqrt(jnp.pi*2*sigma**2)*erf(2*risefall*sigma/(jnp.sqrt(8)*sigma))-2*risefall*sigma*C)\n",
    "    return amp * jnp.piecewise(t,\n",
    "                         condlist=[t < (risefall * sigma), (T - t) < (risefall * sigma)],\n",
    "                         funclist=[lambda s: (jnp.exp(-(s-sigma*risefall)**2/(2*sigma**2))-C)/den,\n",
    "                                   lambda s: (jnp.exp(-(T-s-sigma*risefall)**2/(2*sigma**2))-C)/den,\n",
    "                                   lambda s: (1-C)/den]\n",
    "                        )\n",
    "\n",
    "def bipolar_gaussian_square(t, amp, sigma, risefall, T):\n",
    "    t = Array(t).data\n",
    "    unipolar = lambda s: gaussian_square(s, amp, sigma, risefall, T/2)\n",
    "    return jnp.piecewise(t,\n",
    "                         condlist=[t < (T/2)],\n",
    "                         funclist=[unipolar, lambda s: -unipolar(s - T/2)])"
   ]
  },
  {
   "cell_type": "markdown",
   "id": "f2de3120",
   "metadata": {},
   "source": [
    "Plot an example."
   ]
  },
  {
   "cell_type": "code",
   "execution_count": 4,
   "id": "c9a1b1ba",
   "metadata": {},
   "outputs": [
    {
     "name": "stderr",
     "output_type": "stream",
     "text": [
      "2022-05-04 11:37:18.190983: E external/org_tensorflow/tensorflow/stream_executor/cuda/cuda_driver.cc:271] failed call to cuInit: CUDA_ERROR_NO_DEVICE: no CUDA-capable device is detected\n"
     ]
    }
   ],
   "source": [
    "T = 200.\n",
    "risefall = 2.\n",
    "sigma = 7.\n",
    "amp=4.\n",
    "\n",
    "test = jnp.vectorize(lambda t: bipolar_gaussian_square(t, amp, sigma, risefall, T))\n",
    "\n",
    "sig = Signal(test)"
   ]
  },
  {
   "cell_type": "code",
   "execution_count": 5,
   "id": "8e8e4c86",
   "metadata": {},
   "outputs": [
    {
     "data": {
      "image/png": "[encoded data removed]",
      "text/plain": [
       "<Figure size 432x288 with 1 Axes>"
      ]
     },
     "metadata": {
      "needs_background": "light"
     },
     "output_type": "display_data"
    }
   ],
   "source": [
    "sig.draw(0, T, 1000, function='envelope')"
   ]
  },
  {
   "cell_type": "markdown",
   "id": "731afdd4",
   "metadata": {},
   "source": [
    "# 2. Construct model operators\n",
    "\n",
    "We construct a two transmon model:\n",
    "\n",
    "$$H(t) = 2 \\pi \\nu a_0 a_0^\\dagger + 2 \\pi r (a_0 + a_0^\\dagger) \\\\\n",
    "   + 2 \\pi \\nu a_1 a_1^\\dagger + 2 \\pi r (a_1 + a_1^\\dagger)\\\\\n",
    "   + 2 \\pi J (a_0a_1^\\dagger + a_0^\\dagger a_1)$$"
   ]
  },
  {
   "cell_type": "code",
   "execution_count": 6,
   "id": "2ef3521f",
   "metadata": {},
   "outputs": [],
   "source": [
    "w_c = 2 * np.pi * 5.105\n",
    "w_t = 2 * np.pi * 5.033\n",
    "alpha_c = 2 * np.pi * (-0.33516)\n",
    "alpha_t = 2 * np.pi * (-0.33721)\n",
    "J = 2 * np.pi * 0.002\n",
    "\n",
    "dim = 10\n",
    "\n",
    "a = np.diag(np.sqrt(np.arange(1, dim)), 1)\n",
    "adag = a.transpose()\n",
    "N = np.diag(np.arange(dim))\n",
    "ident = np.eye(dim)\n",
    "ident2 = np.eye(dim**2)\n",
    "\n",
    "# operators on the control qubit (first tensor factor)\n",
    "a0 = np.kron(a, ident)\n",
    "adag0 = np.kron(adag, ident)\n",
    "N0 = np.kron(N, ident)\n",
    "\n",
    "# operators on the target qubit (first tensor factor)\n",
    "a1 = np.kron(ident, a)\n",
    "adag1 = np.kron(ident, adag)\n",
    "N1 = np.kron(ident, N)"
   ]
  },
  {
   "cell_type": "code",
   "execution_count": 7,
   "id": "b39e304f",
   "metadata": {},
   "outputs": [],
   "source": [
    "H0 = (w_c * N0 + 0.5 * alpha_c * N0 @ (N0 - ident2)\n",
    "      + w_t * N1 + 0.5 * alpha_t * N1 @ (N1 - ident2)\n",
    "      + J * (a0 @ adag1 + adag0 @ a1))\n",
    "Hdc = 2 * np.pi * (a0 + adag0)\n",
    "Hdt = 2 * np.pi * (a1 + adag1)"
   ]
  },
  {
   "cell_type": "markdown",
   "id": "ad8b847b",
   "metadata": {},
   "source": [
    "## 2.1 Get the dressed computational states qubit frequencies"
   ]
  },
  {
   "cell_type": "code",
   "execution_count": 8,
   "id": "029c8ba2",
   "metadata": {},
   "outputs": [],
   "source": [
    "def basis_vec(ind, dimension):\n",
    "    vec = np.zeros(dimension, dtype=complex)\n",
    "    vec[ind] = 1.\n",
    "    return vec\n",
    "\n",
    "def two_q_basis_vec(inda, indb, dimension):\n",
    "    vec_a = basis_vec(inda, dimension)\n",
    "    vec_b = basis_vec(indb, dimension)\n",
    "    return np.kron(vec_a, vec_b)\n",
    "\n",
    "def get_dressed_state_index(inda, indb, dimension, evectors):\n",
    "    b_vec = two_q_basis_vec(inda, indb, dimension)\n",
    "    overlaps = np.abs(evectors @ b_vec)\n",
    "    return overlaps.argmax()\n",
    "\n",
    "def get_dressed_state_and_energy(inda, indb, dimension, evecs):\n",
    "    ind = get_dressed_state_index(inda, indb, dimension, evecs)\n",
    "    return evals[ind], evecs[ind]"
   ]
  },
  {
   "cell_type": "markdown",
   "id": "d2a4b5b6",
   "metadata": {},
   "source": [
    "Diagonalize and get dressed energies/states for computational states."
   ]
  },
  {
   "cell_type": "code",
   "execution_count": 9,
   "id": "14c94468",
   "metadata": {},
   "outputs": [],
   "source": [
    "evals, B = jnp.linalg.eigh(H0)\n",
    "Badj = B.conj().transpose()\n",
    "\n",
    "E00, dressed00 = get_dressed_state_and_energy(0, 0, dim, B.transpose())\n",
    "E01, dressed01 = get_dressed_state_and_energy(0, 1, dim, B.transpose())\n",
    "E10, dressed10 = get_dressed_state_and_energy(1, 0, dim, B.transpose())\n",
    "E11, dressed11 = get_dressed_state_and_energy(1, 1, dim, B.transpose())\n",
    "\n",
    "# \"target dressed frequency\"\n",
    "v_t = E01 / (2 * np.pi)"
   ]
  },
  {
   "cell_type": "code",
   "execution_count": 10,
   "id": "8137aa7f",
   "metadata": {},
   "outputs": [],
   "source": [
    "H0_B = Badj @ H0 @ B\n",
    "Hdc_B = Badj @ Hdc @ B\n",
    "Hdt_B = Badj @ Hdt @ B"
   ]
  },
  {
   "cell_type": "markdown",
   "id": "4ebbf44d",
   "metadata": {},
   "source": [
    "Define fidelity with respect to the $Z \\otimes X$ operator for the computational states."
   ]
  },
  {
   "cell_type": "code",
   "execution_count": 11,
   "id": "2b6c4e72",
   "metadata": {},
   "outputs": [],
   "source": [
    "idx00 = 0\n",
    "idx01 = get_dressed_state_index(0, 1, dim, B.transpose())\n",
    "idx10 = get_dressed_state_index(1, 0, dim, B.transpose())\n",
    "idx11 = get_dressed_state_index(1, 1, dim, B.transpose())\n",
    "\n",
    "e00 = np.zeros(dim**2, dtype=complex)\n",
    "e00[0] = 1.\n",
    "e10 = np.zeros(dim**2, dtype=complex)\n",
    "e10[idx10] = 1.\n",
    "e01 = np.zeros(dim**2, dtype=complex)\n",
    "e01[idx01] = 1.\n",
    "e11 = np.zeros(dim**2, dtype=complex)\n",
    "e11[idx11] = 1.\n",
    "\n",
    "# set up observables\n",
    "S = np.array([e00, e01, e10, e11]).transpose()\n",
    "Sdag = S.conj().transpose()\n",
    "\n",
    "ZX = S @ np.array(Operator.from_label('ZX')) @ Sdag\n",
    "\n",
    "target = S @ jexpm(-1j * np.array(Operator.from_label('ZX')) * jnp.pi / 4) @ Sdag\n",
    "target_conj = target.conj()\n",
    "\n",
    "def fidelity(U):\n",
    "    return jnp.abs(jnp.sum(target_conj * U))**2 / (4**2)"
   ]
  },
  {
   "cell_type": "markdown",
   "id": "7008864d",
   "metadata": {},
   "source": [
    "# 3. Construct dense version of simulation\n",
    "\n",
    "Here we construct a function for simulating the system in the rotating frame of the drift, using a standard ODE solver, and dense arrays."
   ]
  },
  {
   "cell_type": "code",
   "execution_count": 12,
   "id": "5c6a6112",
   "metadata": {},
   "outputs": [],
   "source": [
    "dense_solver = Solver(\n",
    "    static_hamiltonian=H0_B,\n",
    "    hamiltonian_operators=[Hdc_B, Hdt_B],\n",
    "    rotating_frame=np.diag(H0_B)\n",
    ")\n",
    "\n",
    "y0 = np.eye(dim**2, dtype=complex)\n",
    "\n",
    "def ode_sim(params, tol):\n",
    "    cr_amp = params[0]\n",
    "    rotary_amp = params[1]\n",
    "    bipolar_amp = params[2] \n",
    "    \n",
    "    cr_phase = params[3]\n",
    "    rotary_phase = params[4]\n",
    "    bipolar_phase = params[5]\n",
    "    \n",
    "    cr_signal = Signal(lambda t: gaussian_square(t, cr_amp, sigma, risefall, T), \n",
    "                       carrier_freq=v_t, \n",
    "                       phase=cr_phase)\n",
    "    rotary_signal = Signal(lambda t: gaussian_square(t, rotary_amp, sigma, risefall, T), \n",
    "                           carrier_freq=v_t,\n",
    "                           phase=rotary_phase)\n",
    "    bipolar_signal = Signal(lambda t: bipolar_gaussian_square(t, bipolar_amp, sigma, risefall, T), \n",
    "                            carrier_freq=v_t,\n",
    "                            phase=bipolar_phase)\n",
    "    \n",
    "    target_signal = (rotary_signal + bipolar_signal).flatten()\n",
    "    \n",
    "    solver_copy = dense_solver.copy()\n",
    "    \n",
    "    solver_copy.signals = [cr_signal, target_signal]\n",
    "    results = solver_copy.solve(t_span=[0, T],\n",
    "                                y0=y0,\n",
    "                                method='jax_odeint',\n",
    "                                atol=tol,\n",
    "                                rtol=tol)\n",
    "    return results.y[-1]\n",
    "\n",
    "\n",
    "def ode_obj(params, tol):\n",
    "    return fidelity(ode_sim(params, tol))\n"
   ]
  },
  {
   "cell_type": "markdown",
   "id": "c9462081",
   "metadata": {},
   "source": [
    "## Setup a collection of inputs values and create benchmark final unitaries"
   ]
  },
  {
   "cell_type": "code",
   "execution_count": 33,
   "id": "75eb6467",
   "metadata": {},
   "outputs": [],
   "source": [
    "num_inputs=4\n",
    "input_params = jnp.array(np.random.uniform(low=-2, high=2, size=(num_inputs, 6)))\n",
    "\n",
    "# orig = jnp.array([1.4, 1., 0.3, 0., 0., 0.])"
   ]
  },
  {
   "cell_type": "code",
   "execution_count": 34,
   "id": "a0757bec",
   "metadata": {},
   "outputs": [
    {
     "data": {
      "text/plain": [
       "DeviceArray([[-1.28648093, -0.39053822,  1.35252538, -1.50415701,\n",
       "              -0.40970719, -1.76772651]], dtype=float64)"
      ]
     },
     "execution_count": 34,
     "metadata": {},
     "output_type": "execute_result"
    }
   ],
   "source": [
    "jnp.array([input_params[0]])"
   ]
  },
  {
   "cell_type": "code",
   "execution_count": 35,
   "id": "b52be371",
   "metadata": {},
   "outputs": [],
   "source": [
    "# loop over and run simulations\n",
    "sim_func = jit(lambda x: ode_sim(x, 1e-10))\n",
    "vmap_sim_func = jit(vmap(sim_func))\n",
    "# vmap_sim_func = vmap(sim_func)\n",
    "start = time()\n",
    "vmap_sim_func(jnp.array([input_params[0]])).block_until_ready()\n",
    "vmap_jit_time = time() - start"
   ]
  },
  {
   "cell_type": "code",
   "execution_count": 36,
   "id": "189a6a1c",
   "metadata": {},
   "outputs": [],
   "source": [
    "benchmark_sim = jit(lambda x: ode_sim(x, 1e-14))\n",
    "\n",
    "benchmark_yfs = [benchmark_sim(x) for x in input_params]"
   ]
  },
  {
   "cell_type": "markdown",
   "id": "f5367dbd",
   "metadata": {},
   "source": [
    "## Create error metrics and function for running sims"
   ]
  },
  {
   "cell_type": "code",
   "execution_count": 37,
   "id": "5cc2ee63",
   "metadata": {},
   "outputs": [],
   "source": [
    "def distance(U, V):\n",
    "    return jnp.linalg.norm(U - V) / dim\n",
    "\n",
    "\n",
    "target = S @ jexpm(-1j * np.array(Operator.from_label('ZX')) * jnp.pi / 4) @ Sdag\n",
    "target_conj = target.conj()\n",
    "\n",
    "def gate_fidelity(U):\n",
    "    return jnp.abs(jnp.sum(target_conj * U))**2 / (4**2)"
   ]
  },
  {
   "cell_type": "code",
   "execution_count": 45,
   "id": "de46c3c1",
   "metadata": {},
   "outputs": [],
   "source": [
    "from time import time\n",
    "\n",
    "def compute_solver_metrics(sim_func):\n",
    "    sim_func = jit(sim_func)\n",
    "    \n",
    "    # time to jit\n",
    "    start = time()\n",
    "    sim_func(input_params[0]).block_until_ready()\n",
    "    jit_time = time() - start\n",
    "    \n",
    "    # loop over and run simulations\n",
    "    start = time()\n",
    "    vmap_func = jit(vmap(sim_func))\n",
    "    yfs = vmap_func(input_params)\n",
    "#     for i in range(num_inputs)[::2]:\n",
    "#         short_input=jnp.array([input_params[i], input_params[i+1]])\n",
    "#         yfs = vmap_sim_func(short_input).block_until_ready()\n",
    "#     yfs = [sim_func(x) for x in input_params]\n",
    "    ave_run_time = (time() - start) / len(input_params)\n",
    "    \n",
    "    distances = []\n",
    "    for yf, benchmark_yf in zip(yfs, benchmark_yfs):\n",
    "        distances.append(distance(yf, benchmark_yf))\n",
    "    \n",
    "    ave_distance = np.sum(distances).real / len(input_params)\n",
    "    \n",
    "    def fid_func(x):\n",
    "        yf = sim_func(x)\n",
    "        return gate_fidelity(yf)\n",
    "\n",
    "    jit_grad_fid_func = jit(value_and_grad(fid_func))\n",
    "    \n",
    "    # time to jit\n",
    "    start = time()\n",
    "    jit_grad_fid_func(input_params[0])[0].block_until_ready()\n",
    "    jit_grad_time = time() - start\n",
    "    \n",
    "    # time to compute gradients\n",
    "    start = time()\n",
    "    for x in input_params:\n",
    "        jit_grad_fid_func(x)[0].block_until_ready()\n",
    "    ave_grad_run_time = (time() - start) / len(input_params)\n",
    "    \n",
    "    return {\n",
    "        'jit_time': jit_time,\n",
    "        'ave_run_time': ave_run_time,\n",
    "        'ave_distance': ave_distance,\n",
    "        'jit_grad_time': jit_grad_time,\n",
    "        'ave_grad_run_time': ave_grad_run_time\n",
    "    }"
   ]
  },
  {
   "cell_type": "markdown",
   "id": "1ed1390e",
   "metadata": {},
   "source": [
    "# Dense simulation\n",
    "\n",
    "Run the sims for dense simulation at various tolerances.\n",
    "\n",
    "we should run this for up to `k==1e-13`, and possibly even for intermediate values to fill out the curve."
   ]
  },
  {
   "cell_type": "code",
   "execution_count": null,
   "id": "f0d25860",
   "metadata": {},
   "outputs": [],
   "source": [
    "tols = [10**-k for k in range(6, 9)]\n",
    "\n",
    "dense_results = []\n",
    "for tol in tols:\n",
    "    dense_results.append(compute_solver_metrics(lambda params: ode_sim(params, tol)))"
   ]
  },
  {
   "cell_type": "code",
   "execution_count": 41,
   "id": "725ef019",
   "metadata": {},
   "outputs": [
    {
     "data": {
      "text/plain": [
       "[{'jit_time': 13.113801002502441,\n",
       "  'ave_run_time': 95.74349546432495,\n",
       "  'ave_distance': 0.6772811092285915,\n",
       "  'jit_grad_time': 90.11631798744202,\n",
       "  'ave_grad_run_time': 87.9086201786995},\n",
       " {'jit_time': 19.012102603912354,\n",
       "  'ave_run_time': 97.42010116577148,\n",
       "  'ave_distance': 0.6772811092285915,\n",
       "  'jit_grad_time': 150.7567527294159,\n",
       "  'ave_grad_run_time': 146.86474603414536}]"
      ]
     },
     "execution_count": 41,
     "metadata": {},
     "output_type": "execute_result"
    }
   ],
   "source": [
    "dense_results"
   ]
  },
  {
   "cell_type": "markdown",
   "id": "63fbe694",
   "metadata": {},
   "source": [
    "# Sparse version of simulation\n",
    "\n",
    "For sparse simulation we need to make sure we are in a basis in which the operators are actually sparse."
   ]
  },
  {
   "cell_type": "code",
   "execution_count": 20,
   "id": "93f2e9dc",
   "metadata": {},
   "outputs": [],
   "source": [
    "sparse_solver = Solver(\n",
    "    static_hamiltonian=H0,\n",
    "    hamiltonian_operators=[Hdc, Hdt],\n",
    "    rotating_frame=np.diag(H0),\n",
    "    evaluation_mode='sparse'\n",
    ")\n",
    "\n",
    "y0_sparse = B @ y0\n",
    "\n",
    "def ode_sparse_sim(params, tol):\n",
    "    cr_amp = params[0]\n",
    "    rotary_amp = params[1]\n",
    "    bipolar_amp = params[2] \n",
    "    \n",
    "    cr_phase = params[3]\n",
    "    rotary_phase = params[4]\n",
    "    bipolar_phase = params[5]\n",
    "    \n",
    "    cr_signal = Signal(lambda t: gaussian_square(t, cr_amp, sigma, risefall, T), \n",
    "                       carrier_freq=v_t, \n",
    "                       phase=cr_phase)\n",
    "    rotary_signal = Signal(lambda t: gaussian_square(t, rotary_amp, sigma, risefall, T), \n",
    "                           carrier_freq=v_t,\n",
    "                           phase=rotary_phase)\n",
    "    bipolar_signal = Signal(lambda t: bipolar_gaussian_square(t, bipolar_amp, sigma, risefall, T), \n",
    "                            carrier_freq=v_t,\n",
    "                            phase=bipolar_phase)\n",
    "    \n",
    "    target_signal = (rotary_signal + bipolar_signal).flatten()\n",
    "    \n",
    "    solver_copy = sparse_solver.copy()\n",
    "    \n",
    "    solver_copy.signals = [cr_signal, target_signal]\n",
    "    results = solver_copy.solve(t_span=[0, T],\n",
    "                                y0=y0_sparse,\n",
    "                                method='jax_odeint',\n",
    "                                atol=tol,\n",
    "                                rtol=tol)\n",
    "    \n",
    "    # transfer unitary into same basis and frame as the dense simulation\n",
    "    U = Array(Badj) @ solver_copy.model.rotating_frame.state_out_of_frame(T, results.y[-1])\n",
    "    U = dense_solver.model.rotating_frame.state_into_frame(T, U).data\n",
    "    \n",
    "    return U"
   ]
  },
  {
   "cell_type": "code",
   "execution_count": null,
   "id": "a1479ea4",
   "metadata": {},
   "outputs": [],
   "source": [
    "sparse_results = []\n",
    "for tol in tols:\n",
    "    sparse_results.append(compute_solver_metrics(lambda params: ode_sparse_sim(params, tol)))"
   ]
  },
  {
   "cell_type": "markdown",
   "id": "e9f5f6fd",
   "metadata": {},
   "source": [
    "# Dyson solver"
   ]
  },
  {
   "cell_type": "code",
   "execution_count": 46,
   "id": "949f2df9",
   "metadata": {},
   "outputs": [],
   "source": [
    "# system information\n",
    "operators = [-1j  * Hdc_B, -1j * Hdt_B]\n",
    "carrier_freqs = [v_t, v_t]\n",
    "frame_operator = -1j * np.diag(H0_B)\n",
    "\n",
    "def perturbative_solver_metrics(\n",
    "    n_steps, \n",
    "    expansion_order, \n",
    "    chebyshev_order, \n",
    "    expansion_method='dyson'\n",
    "):\n",
    "    dt = T / n_steps\n",
    "    \n",
    "    # construct solver\n",
    "    start = time()\n",
    "    perturb_solver = PerturbativeSolver(\n",
    "        operators=operators,\n",
    "        rotating_frame=frame_operator,\n",
    "        dt=dt,\n",
    "        carrier_freqs=carrier_freqs,\n",
    "        chebyshev_orders=[chebyshev_order] * 2,\n",
    "        expansion_method=expansion_method,\n",
    "        expansion_order=expansion_order,\n",
    "        integration_method='jax_odeint',\n",
    "        atol=1e-13,\n",
    "        rtol=1e-13\n",
    "    )\n",
    "    construction_time = time() - start\n",
    "    \n",
    "    def perturb_sim(params):\n",
    "        cr_amp = params[0]\n",
    "        rotary_amp = params[1]\n",
    "        bipolar_amp = params[2] \n",
    "\n",
    "        cr_phase = params[3]\n",
    "        rotary_phase = params[4]\n",
    "        bipolar_phase = params[5]\n",
    "\n",
    "        cr_signal = Signal(lambda t: gaussian_square(t, cr_amp, sigma, risefall, T), \n",
    "                           carrier_freq=v_t, \n",
    "                           phase=cr_phase)\n",
    "        rotary_signal = Signal(lambda t: gaussian_square(t, rotary_amp, sigma, risefall, T), \n",
    "                               carrier_freq=v_t,\n",
    "                               phase=rotary_phase)\n",
    "        bipolar_signal = Signal(lambda t: bipolar_gaussian_square(t, bipolar_amp, sigma, risefall, T), \n",
    "                                carrier_freq=v_t,\n",
    "                                phase=bipolar_phase)\n",
    "\n",
    "        target_signal = (rotary_signal + bipolar_signal).flatten()\n",
    "\n",
    "        return perturb_solver.solve([cr_signal, target_signal], y0, 0., n_steps)\n",
    "\n",
    "    results = compute_solver_metrics(perturb_sim)\n",
    "    results['construction_time'] = construction_time\n",
    "    return results\n"
   ]
  },
  {
   "cell_type": "markdown",
   "id": "f1a84bcb",
   "metadata": {},
   "source": [
    "For reference, this is a value that gives a very high quality approximation. "
   ]
  },
  {
   "cell_type": "code",
   "execution_count": 47,
   "id": "8f22234f",
   "metadata": {},
   "outputs": [
    {
     "ename": "TracerIntegerConversionError",
     "evalue": "The __index__() method was called on the JAX Tracer object Traced<ShapedArray(int64[], weak_type=True)>with<DynamicJaxprTrace(level=3/0)>\nSee https://jax.readthedocs.io/en/latest/errors.html#jax.errors.TracerIntegerConversionError",
     "output_type": "error",
     "traceback": [
      "\u001b[0;31m---------------------------------------------------------------------------\u001b[0m",
      "\u001b[0;31mTracerIntegerConversionError\u001b[0m              Traceback (most recent call last)",
      "Input \u001b[0;32mIn [47]\u001b[0m, in \u001b[0;36m<module>\u001b[0;34m\u001b[0m\n\u001b[0;32m----> 1\u001b[0m test \u001b[38;5;241m=\u001b[39m \u001b[43mperturbative_solver_metrics\u001b[49m\u001b[43m(\u001b[49m\n\u001b[1;32m      2\u001b[0m \u001b[43m    \u001b[49m\u001b[43mn_steps\u001b[49m\u001b[38;5;241;43m=\u001b[39;49m\u001b[38;5;241;43m30000\u001b[39;49m\u001b[43m,\u001b[49m\n\u001b[1;32m      3\u001b[0m \u001b[43m    \u001b[49m\u001b[43mexpansion_order\u001b[49m\u001b[38;5;241;43m=\u001b[39;49m\u001b[38;5;241;43m4\u001b[39;49m\u001b[43m,\u001b[49m\n\u001b[1;32m      4\u001b[0m \u001b[43m    \u001b[49m\u001b[43mchebyshev_order\u001b[49m\u001b[38;5;241;43m=\u001b[39;49m\u001b[38;5;241;43m2\u001b[39;49m\u001b[43m,\u001b[49m\n\u001b[1;32m      5\u001b[0m \u001b[43m)\u001b[49m\n",
      "Input \u001b[0;32mIn [46]\u001b[0m, in \u001b[0;36mperturbative_solver_metrics\u001b[0;34m(n_steps, expansion_order, chebyshev_order, expansion_method)\u001b[0m\n\u001b[1;32m     14\u001b[0m \u001b[38;5;66;03m# construct solver\u001b[39;00m\n\u001b[1;32m     15\u001b[0m start \u001b[38;5;241m=\u001b[39m time()\n\u001b[0;32m---> 16\u001b[0m perturb_solver \u001b[38;5;241m=\u001b[39m \u001b[43mPerturbativeSolver\u001b[49m\u001b[43m(\u001b[49m\n\u001b[1;32m     17\u001b[0m \u001b[43m    \u001b[49m\u001b[43moperators\u001b[49m\u001b[38;5;241;43m=\u001b[39;49m\u001b[43moperators\u001b[49m\u001b[43m,\u001b[49m\n\u001b[1;32m     18\u001b[0m \u001b[43m    \u001b[49m\u001b[43mrotating_frame\u001b[49m\u001b[38;5;241;43m=\u001b[39;49m\u001b[43mframe_operator\u001b[49m\u001b[43m,\u001b[49m\n\u001b[1;32m     19\u001b[0m \u001b[43m    \u001b[49m\u001b[43mdt\u001b[49m\u001b[38;5;241;43m=\u001b[39;49m\u001b[43mdt\u001b[49m\u001b[43m,\u001b[49m\n\u001b[1;32m     20\u001b[0m \u001b[43m    \u001b[49m\u001b[43mcarrier_freqs\u001b[49m\u001b[38;5;241;43m=\u001b[39;49m\u001b[43mcarrier_freqs\u001b[49m\u001b[43m,\u001b[49m\n\u001b[1;32m     21\u001b[0m \u001b[43m    \u001b[49m\u001b[43mchebyshev_orders\u001b[49m\u001b[38;5;241;43m=\u001b[39;49m\u001b[43m[\u001b[49m\u001b[43mchebyshev_order\u001b[49m\u001b[43m]\u001b[49m\u001b[43m \u001b[49m\u001b[38;5;241;43m*\u001b[39;49m\u001b[43m \u001b[49m\u001b[38;5;241;43m2\u001b[39;49m\u001b[43m,\u001b[49m\n\u001b[1;32m     22\u001b[0m \u001b[43m    \u001b[49m\u001b[43mexpansion_method\u001b[49m\u001b[38;5;241;43m=\u001b[39;49m\u001b[43mexpansion_method\u001b[49m\u001b[43m,\u001b[49m\n\u001b[1;32m     23\u001b[0m \u001b[43m    \u001b[49m\u001b[43mexpansion_order\u001b[49m\u001b[38;5;241;43m=\u001b[39;49m\u001b[43mexpansion_order\u001b[49m\u001b[43m,\u001b[49m\n\u001b[1;32m     24\u001b[0m \u001b[43m    \u001b[49m\u001b[43mintegration_method\u001b[49m\u001b[38;5;241;43m=\u001b[39;49m\u001b[38;5;124;43m'\u001b[39;49m\u001b[38;5;124;43mjax_odeint\u001b[39;49m\u001b[38;5;124;43m'\u001b[39;49m\u001b[43m,\u001b[49m\n\u001b[1;32m     25\u001b[0m \u001b[43m    \u001b[49m\u001b[43matol\u001b[49m\u001b[38;5;241;43m=\u001b[39;49m\u001b[38;5;241;43m1e-13\u001b[39;49m\u001b[43m,\u001b[49m\n\u001b[1;32m     26\u001b[0m \u001b[43m    \u001b[49m\u001b[43mrtol\u001b[49m\u001b[38;5;241;43m=\u001b[39;49m\u001b[38;5;241;43m1e-13\u001b[39;49m\n\u001b[1;32m     27\u001b[0m \u001b[43m\u001b[49m\u001b[43m)\u001b[49m\n\u001b[1;32m     28\u001b[0m construction_time \u001b[38;5;241m=\u001b[39m time() \u001b[38;5;241m-\u001b[39m start\n\u001b[1;32m     30\u001b[0m \u001b[38;5;28;01mdef\u001b[39;00m \u001b[38;5;21mperturb_sim\u001b[39m(params):\n",
      "File \u001b[0;32m~/danDynamics/qiskit-dynamics/qiskit_dynamics/perturbation/perturbative_solver.py:172\u001b[0m, in \u001b[0;36mPerturbativeSolver.__init__\u001b[0;34m(self, operators, rotating_frame, dt, carrier_freqs, chebyshev_orders, expansion_method, expansion_order, expansion_labels, integration_method, **kwargs)\u001b[0m\n\u001b[1;32m    169\u001b[0m \u001b[38;5;28mself\u001b[39m\u001b[38;5;241m.\u001b[39m_dt \u001b[38;5;241m=\u001b[39m dt\n\u001b[1;32m    171\u001b[0m \u001b[38;5;66;03m# compute perturbative terms\u001b[39;00m\n\u001b[0;32m--> 172\u001b[0m results \u001b[38;5;241m=\u001b[39m \u001b[43msolve_lmde_perturbation\u001b[49m\u001b[43m(\u001b[49m\n\u001b[1;32m    173\u001b[0m \u001b[43m    \u001b[49m\u001b[43mperturbations\u001b[49m\u001b[38;5;241;43m=\u001b[39;49m\u001b[43mperturbations\u001b[49m\u001b[43m,\u001b[49m\n\u001b[1;32m    174\u001b[0m \u001b[43m    \u001b[49m\u001b[43mt_span\u001b[49m\u001b[38;5;241;43m=\u001b[39;49m\u001b[43m[\u001b[49m\u001b[38;5;241;43m0\u001b[39;49m\u001b[43m,\u001b[49m\u001b[43m \u001b[49m\u001b[43mdt\u001b[49m\u001b[43m]\u001b[49m\u001b[43m,\u001b[49m\n\u001b[1;32m    175\u001b[0m \u001b[43m    \u001b[49m\u001b[43mexpansion_method\u001b[49m\u001b[38;5;241;43m=\u001b[39;49m\u001b[43mexpansion_method\u001b[49m\u001b[43m,\u001b[49m\n\u001b[1;32m    176\u001b[0m \u001b[43m    \u001b[49m\u001b[43mexpansion_order\u001b[49m\u001b[38;5;241;43m=\u001b[39;49m\u001b[43mexpansion_order\u001b[49m\u001b[43m,\u001b[49m\n\u001b[1;32m    177\u001b[0m \u001b[43m    \u001b[49m\u001b[43mexpansion_labels\u001b[49m\u001b[38;5;241;43m=\u001b[39;49m\u001b[43mexpansion_labels\u001b[49m\u001b[43m,\u001b[49m\n\u001b[1;32m    178\u001b[0m \u001b[43m    \u001b[49m\u001b[43mintegration_method\u001b[49m\u001b[38;5;241;43m=\u001b[39;49m\u001b[43mintegration_method\u001b[49m\u001b[43m,\u001b[49m\n\u001b[1;32m    179\u001b[0m \u001b[43m    \u001b[49m\u001b[38;5;241;43m*\u001b[39;49m\u001b[38;5;241;43m*\u001b[39;49m\u001b[43mkwargs\u001b[49m\u001b[43m,\u001b[49m\n\u001b[1;32m    180\u001b[0m \u001b[43m\u001b[49m\u001b[43m)\u001b[49m\n\u001b[1;32m    181\u001b[0m \u001b[38;5;28mself\u001b[39m\u001b[38;5;241m.\u001b[39m_precomputation_results \u001b[38;5;241m=\u001b[39m results\n\u001b[1;32m    183\u001b[0m \u001b[38;5;28;01mif\u001b[39;00m \u001b[38;5;28mself\u001b[39m\u001b[38;5;241m.\u001b[39mexpansion_method \u001b[38;5;241m==\u001b[39m \u001b[38;5;124m\"\u001b[39m\u001b[38;5;124mdyson\u001b[39m\u001b[38;5;124m\"\u001b[39m:\n\u001b[1;32m    184\u001b[0m     \u001b[38;5;66;03m# if Dyson multiply by single step frame transformation\u001b[39;00m\n",
      "File \u001b[0;32m~/danDynamics/qiskit-dynamics/qiskit_dynamics/perturbation/solve_lmde_perturbation.py:270\u001b[0m, in \u001b[0;36msolve_lmde_perturbation\u001b[0;34m(perturbations, t_span, expansion_method, expansion_order, expansion_labels, perturbation_labels, generator, y0, dyson_in_frame, integration_method, t_eval, **kwargs)\u001b[0m\n\u001b[1;32m    256\u001b[0m         \u001b[38;5;28;01mreturn\u001b[39;00m solve_lmde_dyson(\n\u001b[1;32m    257\u001b[0m             perturbations\u001b[38;5;241m=\u001b[39mperturbations,\n\u001b[1;32m    258\u001b[0m             t_span\u001b[38;5;241m=\u001b[39mt_span,\n\u001b[0;32m   (...)\u001b[0m\n\u001b[1;32m    267\u001b[0m             \u001b[38;5;241m*\u001b[39m\u001b[38;5;241m*\u001b[39mkwargs,\n\u001b[1;32m    268\u001b[0m         )\n\u001b[1;32m    269\u001b[0m     \u001b[38;5;28;01melse\u001b[39;00m:\n\u001b[0;32m--> 270\u001b[0m         \u001b[38;5;28;01mreturn\u001b[39;00m \u001b[43msolve_lmde_dyson_jax\u001b[49m\u001b[43m(\u001b[49m\n\u001b[1;32m    271\u001b[0m \u001b[43m            \u001b[49m\u001b[43mperturbations\u001b[49m\u001b[38;5;241;43m=\u001b[39;49m\u001b[43mperturbations\u001b[49m\u001b[43m,\u001b[49m\n\u001b[1;32m    272\u001b[0m \u001b[43m            \u001b[49m\u001b[43mt_span\u001b[49m\u001b[38;5;241;43m=\u001b[39;49m\u001b[43mt_span\u001b[49m\u001b[43m,\u001b[49m\n\u001b[1;32m    273\u001b[0m \u001b[43m            \u001b[49m\u001b[43mdyson_terms\u001b[49m\u001b[38;5;241;43m=\u001b[39;49m\u001b[43mexpansion_labels\u001b[49m\u001b[43m,\u001b[49m\n\u001b[1;32m    274\u001b[0m \u001b[43m            \u001b[49m\u001b[43mperturbation_labels\u001b[49m\u001b[38;5;241;43m=\u001b[39;49m\u001b[43mperturbation_labels\u001b[49m\u001b[43m,\u001b[49m\n\u001b[1;32m    275\u001b[0m \u001b[43m            \u001b[49m\u001b[43mgenerator\u001b[49m\u001b[38;5;241;43m=\u001b[39;49m\u001b[43mgenerator\u001b[49m\u001b[43m,\u001b[49m\n\u001b[1;32m    276\u001b[0m \u001b[43m            \u001b[49m\u001b[43my0\u001b[49m\u001b[38;5;241;43m=\u001b[39;49m\u001b[43my0\u001b[49m\u001b[43m,\u001b[49m\n\u001b[1;32m    277\u001b[0m \u001b[43m            \u001b[49m\u001b[43mdyson_in_frame\u001b[49m\u001b[38;5;241;43m=\u001b[39;49m\u001b[43mdyson_in_frame\u001b[49m\u001b[43m,\u001b[49m\n\u001b[1;32m    278\u001b[0m \u001b[43m            \u001b[49m\u001b[43mdyson_like\u001b[49m\u001b[38;5;241;43m=\u001b[39;49m\u001b[43mdyson_like\u001b[49m\u001b[43m,\u001b[49m\n\u001b[1;32m    279\u001b[0m \u001b[43m            \u001b[49m\u001b[43mintegration_method\u001b[49m\u001b[38;5;241;43m=\u001b[39;49m\u001b[43mintegration_method\u001b[49m\u001b[43m,\u001b[49m\n\u001b[1;32m    280\u001b[0m \u001b[43m            \u001b[49m\u001b[43mt_eval\u001b[49m\u001b[38;5;241;43m=\u001b[39;49m\u001b[43mt_eval\u001b[49m\u001b[43m,\u001b[49m\n\u001b[1;32m    281\u001b[0m \u001b[43m            \u001b[49m\u001b[38;5;241;43m*\u001b[39;49m\u001b[38;5;241;43m*\u001b[39;49m\u001b[43mkwargs\u001b[49m\u001b[43m,\u001b[49m\n\u001b[1;32m    282\u001b[0m \u001b[43m        \u001b[49m\u001b[43m)\u001b[49m\n\u001b[1;32m    283\u001b[0m \u001b[38;5;28;01melif\u001b[39;00m expansion_method \u001b[38;5;241m==\u001b[39m \u001b[38;5;124m\"\u001b[39m\u001b[38;5;124mmagnus\u001b[39m\u001b[38;5;124m\"\u001b[39m:\n\u001b[1;32m    284\u001b[0m     \u001b[38;5;28;01mif\u001b[39;00m \u001b[38;5;129;01mnot\u001b[39;00m Array\u001b[38;5;241m.\u001b[39mdefault_backend() \u001b[38;5;241m==\u001b[39m \u001b[38;5;124m\"\u001b[39m\u001b[38;5;124mjax\u001b[39m\u001b[38;5;124m\"\u001b[39m:\n",
      "File \u001b[0;32m~/danDynamics/qiskit-dynamics/qiskit_dynamics/perturbation/dyson_magnus.py:290\u001b[0m, in \u001b[0;36msolve_lmde_dyson_jax\u001b[0;34m(perturbations, t_span, dyson_terms, perturbation_labels, generator, y0, dyson_in_frame, dyson_like, integration_method, t_eval, **kwargs)\u001b[0m\n\u001b[1;32m    283\u001b[0m \u001b[38;5;66;03m# initial state\u001b[39;00m\n\u001b[1;32m    284\u001b[0m y0 \u001b[38;5;241m=\u001b[39m jnp\u001b[38;5;241m.\u001b[39mappend(\n\u001b[1;32m    285\u001b[0m     jnp\u001b[38;5;241m.\u001b[39mexpand_dims(y0, \u001b[38;5;241m0\u001b[39m),\n\u001b[1;32m    286\u001b[0m     jnp\u001b[38;5;241m.\u001b[39mzeros((\u001b[38;5;28mlen\u001b[39m(complete_term_list), y0\u001b[38;5;241m.\u001b[39mshape[\u001b[38;5;241m-\u001b[39m\u001b[38;5;241m2\u001b[39m], y0\u001b[38;5;241m.\u001b[39mshape[\u001b[38;5;241m-\u001b[39m\u001b[38;5;241m1\u001b[39m]), dtype\u001b[38;5;241m=\u001b[39m\u001b[38;5;28mcomplex\u001b[39m),\n\u001b[1;32m    287\u001b[0m     axis\u001b[38;5;241m=\u001b[39m\u001b[38;5;241m0\u001b[39m,\n\u001b[1;32m    288\u001b[0m )\n\u001b[0;32m--> 290\u001b[0m results \u001b[38;5;241m=\u001b[39m \u001b[43msolve_ode\u001b[49m\u001b[43m(\u001b[49m\n\u001b[1;32m    291\u001b[0m \u001b[43m    \u001b[49m\u001b[43mrhs\u001b[49m\u001b[38;5;241;43m=\u001b[39;49m\u001b[43mdyson_rhs\u001b[49m\u001b[43m,\u001b[49m\u001b[43m \u001b[49m\u001b[43mt_span\u001b[49m\u001b[38;5;241;43m=\u001b[39;49m\u001b[43mt_span\u001b[49m\u001b[43m,\u001b[49m\u001b[43m \u001b[49m\u001b[43my0\u001b[49m\u001b[38;5;241;43m=\u001b[39;49m\u001b[43my0\u001b[49m\u001b[43m,\u001b[49m\u001b[43m \u001b[49m\u001b[43mmethod\u001b[49m\u001b[38;5;241;43m=\u001b[39;49m\u001b[43mintegration_method\u001b[49m\u001b[43m,\u001b[49m\u001b[43m \u001b[49m\u001b[43mt_eval\u001b[49m\u001b[38;5;241;43m=\u001b[39;49m\u001b[43mt_eval\u001b[49m\u001b[43m,\u001b[49m\u001b[43m \u001b[49m\u001b[38;5;241;43m*\u001b[39;49m\u001b[38;5;241;43m*\u001b[39;49m\u001b[43mkwargs\u001b[49m\n\u001b[1;32m    292\u001b[0m \u001b[43m\u001b[49m\u001b[43m)\u001b[49m\n\u001b[1;32m    294\u001b[0m \u001b[38;5;66;03m# extract Dyson terms and the solution to the base LMDE\u001b[39;00m\n\u001b[1;32m    295\u001b[0m results\u001b[38;5;241m.\u001b[39my \u001b[38;5;241m=\u001b[39m results\u001b[38;5;241m.\u001b[39my\u001b[38;5;241m.\u001b[39mtranspose((\u001b[38;5;241m1\u001b[39m, \u001b[38;5;241m0\u001b[39m, \u001b[38;5;241m2\u001b[39m, \u001b[38;5;241m3\u001b[39m))\n",
      "File \u001b[0;32m~/danDynamics/qiskit-dynamics/qiskit_dynamics/solvers/solver_functions.py:147\u001b[0m, in \u001b[0;36msolve_ode\u001b[0;34m(rhs, t_span, y0, method, t_eval, **kwargs)\u001b[0m\n\u001b[1;32m    145\u001b[0m     results \u001b[38;5;241m=\u001b[39m jax_RK4_solver(solver_rhs, t_span, y0, t_eval\u001b[38;5;241m=\u001b[39mt_eval, \u001b[38;5;241m*\u001b[39m\u001b[38;5;241m*\u001b[39mkwargs)\n\u001b[1;32m    146\u001b[0m \u001b[38;5;28;01melif\u001b[39;00m \u001b[38;5;28misinstance\u001b[39m(method, \u001b[38;5;28mstr\u001b[39m) \u001b[38;5;129;01mand\u001b[39;00m method \u001b[38;5;241m==\u001b[39m \u001b[38;5;124m\"\u001b[39m\u001b[38;5;124mjax_odeint\u001b[39m\u001b[38;5;124m\"\u001b[39m:\n\u001b[0;32m--> 147\u001b[0m     results \u001b[38;5;241m=\u001b[39m \u001b[43mjax_odeint\u001b[49m\u001b[43m(\u001b[49m\u001b[43msolver_rhs\u001b[49m\u001b[43m,\u001b[49m\u001b[43m \u001b[49m\u001b[43mt_span\u001b[49m\u001b[43m,\u001b[49m\u001b[43m \u001b[49m\u001b[43my0\u001b[49m\u001b[43m,\u001b[49m\u001b[43m \u001b[49m\u001b[43mt_eval\u001b[49m\u001b[38;5;241;43m=\u001b[39;49m\u001b[43mt_eval\u001b[49m\u001b[43m,\u001b[49m\u001b[43m \u001b[49m\u001b[38;5;241;43m*\u001b[39;49m\u001b[38;5;241;43m*\u001b[39;49m\u001b[43mkwargs\u001b[49m\u001b[43m)\u001b[49m\n\u001b[1;32m    149\u001b[0m \u001b[38;5;66;03m# convert results out of frame basis if necessary\u001b[39;00m\n\u001b[1;32m    150\u001b[0m \u001b[38;5;28;01mif\u001b[39;00m \u001b[38;5;28misinstance\u001b[39m(rhs, BaseGeneratorModel):\n",
      "File \u001b[0;32m~/danDynamics/qiskit-dynamics/qiskit_dynamics/dispatch/dispatch.py:377\u001b[0m, in \u001b[0;36mrequires_backend.<locals>.decorator.<locals>.decorated_func\u001b[0;34m(*args, **kwargs)\u001b[0m\n\u001b[1;32m    374\u001b[0m \u001b[38;5;129m@functools\u001b[39m\u001b[38;5;241m.\u001b[39mwraps(obj)\n\u001b[1;32m    375\u001b[0m \u001b[38;5;28;01mdef\u001b[39;00m \u001b[38;5;21mdecorated_func\u001b[39m(\u001b[38;5;241m*\u001b[39margs, \u001b[38;5;241m*\u001b[39m\u001b[38;5;241m*\u001b[39mkwargs):\n\u001b[1;32m    376\u001b[0m     check_backend(\u001b[38;5;124mf\u001b[39m\u001b[38;5;124m\"\u001b[39m\u001b[38;5;124mfunction \u001b[39m\u001b[38;5;132;01m{\u001b[39;00mobj\u001b[38;5;132;01m}\u001b[39;00m\u001b[38;5;124m\"\u001b[39m)\n\u001b[0;32m--> 377\u001b[0m     \u001b[38;5;28;01mreturn\u001b[39;00m \u001b[43mobj\u001b[49m\u001b[43m(\u001b[49m\u001b[38;5;241;43m*\u001b[39;49m\u001b[43margs\u001b[49m\u001b[43m,\u001b[49m\u001b[43m \u001b[49m\u001b[38;5;241;43m*\u001b[39;49m\u001b[38;5;241;43m*\u001b[39;49m\u001b[43mkwargs\u001b[49m\u001b[43m)\u001b[49m\n",
      "File \u001b[0;32m~/danDynamics/qiskit-dynamics/qiskit_dynamics/solvers/jax_odeint.py:64\u001b[0m, in \u001b[0;36mjax_odeint\u001b[0;34m(rhs, t_span, y0, t_eval, **kwargs)\u001b[0m\n\u001b[1;32m     61\u001b[0m t_direction \u001b[38;5;241m=\u001b[39m np\u001b[38;5;241m.\u001b[39msign(Array(t_list[\u001b[38;5;241m-\u001b[39m\u001b[38;5;241m1\u001b[39m] \u001b[38;5;241m-\u001b[39m t_list[\u001b[38;5;241m0\u001b[39m], backend\u001b[38;5;241m=\u001b[39m\u001b[38;5;124m\"\u001b[39m\u001b[38;5;124mjax\u001b[39m\u001b[38;5;124m\"\u001b[39m, dtype\u001b[38;5;241m=\u001b[39m\u001b[38;5;28mcomplex\u001b[39m))\n\u001b[1;32m     62\u001b[0m rhs \u001b[38;5;241m=\u001b[39m wrap(rhs)\n\u001b[0;32m---> 64\u001b[0m results \u001b[38;5;241m=\u001b[39m \u001b[43modeint\u001b[49m\u001b[43m(\u001b[49m\n\u001b[1;32m     65\u001b[0m \u001b[43m    \u001b[49m\u001b[38;5;28;43;01mlambda\u001b[39;49;00m\u001b[43m \u001b[49m\u001b[43my\u001b[49m\u001b[43m,\u001b[49m\u001b[43m \u001b[49m\u001b[43mt\u001b[49m\u001b[43m:\u001b[49m\u001b[43m \u001b[49m\u001b[43mrhs\u001b[49m\u001b[43m(\u001b[49m\u001b[43mnp\u001b[49m\u001b[38;5;241;43m.\u001b[39;49m\u001b[43mreal\u001b[49m\u001b[43m(\u001b[49m\u001b[43mt_direction\u001b[49m\u001b[43m \u001b[49m\u001b[38;5;241;43m*\u001b[39;49m\u001b[43m \u001b[49m\u001b[43mt\u001b[49m\u001b[43m)\u001b[49m\u001b[43m,\u001b[49m\u001b[43m \u001b[49m\u001b[43my\u001b[49m\u001b[43m)\u001b[49m\u001b[43m \u001b[49m\u001b[38;5;241;43m*\u001b[39;49m\u001b[43m \u001b[49m\u001b[43mt_direction\u001b[49m\u001b[43m,\u001b[49m\n\u001b[1;32m     66\u001b[0m \u001b[43m    \u001b[49m\u001b[43my0\u001b[49m\u001b[38;5;241;43m=\u001b[39;49m\u001b[43mArray\u001b[49m\u001b[43m(\u001b[49m\u001b[43my0\u001b[49m\u001b[43m,\u001b[49m\u001b[43m \u001b[49m\u001b[43mdtype\u001b[49m\u001b[38;5;241;43m=\u001b[39;49m\u001b[38;5;28;43mcomplex\u001b[39;49m\u001b[43m)\u001b[49m\u001b[43m,\u001b[49m\n\u001b[1;32m     67\u001b[0m \u001b[43m    \u001b[49m\u001b[43mt\u001b[49m\u001b[38;5;241;43m=\u001b[39;49m\u001b[43mnp\u001b[49m\u001b[38;5;241;43m.\u001b[39;49m\u001b[43mreal\u001b[49m\u001b[43m(\u001b[49m\u001b[43mt_direction\u001b[49m\u001b[43m)\u001b[49m\u001b[43m \u001b[49m\u001b[38;5;241;43m*\u001b[39;49m\u001b[43m \u001b[49m\u001b[43mArray\u001b[49m\u001b[43m(\u001b[49m\u001b[43mt_list\u001b[49m\u001b[43m)\u001b[49m\u001b[43m,\u001b[49m\n\u001b[1;32m     68\u001b[0m \u001b[43m    \u001b[49m\u001b[38;5;241;43m*\u001b[39;49m\u001b[38;5;241;43m*\u001b[39;49m\u001b[43mkwargs\u001b[49m\u001b[43m,\u001b[49m\n\u001b[1;32m     69\u001b[0m \u001b[43m\u001b[49m\u001b[43m)\u001b[49m\n\u001b[1;32m     71\u001b[0m results \u001b[38;5;241m=\u001b[39m OdeResult(t\u001b[38;5;241m=\u001b[39mt_list, y\u001b[38;5;241m=\u001b[39mArray(results, backend\u001b[38;5;241m=\u001b[39m\u001b[38;5;124m\"\u001b[39m\u001b[38;5;124mjax\u001b[39m\u001b[38;5;124m\"\u001b[39m, dtype\u001b[38;5;241m=\u001b[39m\u001b[38;5;28mcomplex\u001b[39m))\n\u001b[1;32m     73\u001b[0m \u001b[38;5;28;01mreturn\u001b[39;00m trim_t_results(results, t_span, t_eval)\n",
      "File \u001b[0;32m~/danDynamics/qiskit-dynamics/qiskit_dynamics/array/wrap.py:107\u001b[0m, in \u001b[0;36m_wrap_function.<locals>.wrapped_func\u001b[0;34m(*args, **kwargs)\u001b[0m\n\u001b[1;32m    105\u001b[0m args \u001b[38;5;241m=\u001b[39m _wrap_args(args)\n\u001b[1;32m    106\u001b[0m kwargs \u001b[38;5;241m=\u001b[39m _wrap_kwargs(kwargs)\n\u001b[0;32m--> 107\u001b[0m result \u001b[38;5;241m=\u001b[39m \u001b[43m_wrap_array_function\u001b[49m\u001b[43m(\u001b[49m\u001b[43mfunc\u001b[49m\u001b[43m)\u001b[49m\u001b[43m(\u001b[49m\u001b[38;5;241;43m*\u001b[39;49m\u001b[43margs\u001b[49m\u001b[43m,\u001b[49m\u001b[43m \u001b[49m\u001b[38;5;241;43m*\u001b[39;49m\u001b[38;5;241;43m*\u001b[39;49m\u001b[43mkwargs\u001b[49m\u001b[43m)\u001b[49m\n\u001b[1;32m    108\u001b[0m \u001b[38;5;28;01mreturn\u001b[39;00m Array\u001b[38;5;241m.\u001b[39m_wrap(result)\n",
      "File \u001b[0;32m~/danDynamics/qiskit-dynamics/qiskit_dynamics/array/wrap.py:60\u001b[0m, in \u001b[0;36m_wrap_array_function.<locals>.wrapped_function\u001b[0;34m(*args, **kwargs)\u001b[0m\n\u001b[1;32m     54\u001b[0m kwargs \u001b[38;5;241m=\u001b[39m \u001b[38;5;28mdict\u001b[39m(\n\u001b[1;32m     55\u001b[0m     (key, val\u001b[38;5;241m.\u001b[39m__qiskit_array__()\u001b[38;5;241m.\u001b[39mdata) \u001b[38;5;28;01mif\u001b[39;00m \u001b[38;5;28mhasattr\u001b[39m(val, \u001b[38;5;124m\"\u001b[39m\u001b[38;5;124m__qiskit_array__\u001b[39m\u001b[38;5;124m\"\u001b[39m) \u001b[38;5;28;01melse\u001b[39;00m (key, val)\n\u001b[1;32m     56\u001b[0m     \u001b[38;5;28;01mfor\u001b[39;00m key, val \u001b[38;5;129;01min\u001b[39;00m kwargs\u001b[38;5;241m.\u001b[39mitems()\n\u001b[1;32m     57\u001b[0m )\n\u001b[1;32m     59\u001b[0m \u001b[38;5;66;03m# Evaluate function with unwrapped inputs\u001b[39;00m\n\u001b[0;32m---> 60\u001b[0m result \u001b[38;5;241m=\u001b[39m \u001b[43mfunc\u001b[49m\u001b[43m(\u001b[49m\u001b[38;5;241;43m*\u001b[39;49m\u001b[43margs\u001b[49m\u001b[43m,\u001b[49m\u001b[43m \u001b[49m\u001b[38;5;241;43m*\u001b[39;49m\u001b[38;5;241;43m*\u001b[39;49m\u001b[43mkwargs\u001b[49m\u001b[43m)\u001b[49m\n\u001b[1;32m     62\u001b[0m \u001b[38;5;66;03m# Unwrap result\u001b[39;00m\n\u001b[1;32m     63\u001b[0m \u001b[38;5;28;01mif\u001b[39;00m \u001b[38;5;28misinstance\u001b[39m(result, \u001b[38;5;28mtuple\u001b[39m):\n",
      "File \u001b[0;32m~/.conda/envs/test/lib/python3.9/site-packages/jax/experimental/ode.py:173\u001b[0m, in \u001b[0;36modeint\u001b[0;34m(func, y0, t, rtol, atol, mxstep, *args)\u001b[0m\n\u001b[1;32m    170\u001b[0m \u001b[38;5;28;01mif\u001b[39;00m \u001b[38;5;129;01mnot\u001b[39;00m jnp\u001b[38;5;241m.\u001b[39missubdtype(t\u001b[38;5;241m.\u001b[39mdtype, jnp\u001b[38;5;241m.\u001b[39mfloating):\n\u001b[1;32m    171\u001b[0m   \u001b[38;5;28;01mraise\u001b[39;00m \u001b[38;5;167;01mTypeError\u001b[39;00m(\u001b[38;5;124mf\u001b[39m\u001b[38;5;124m\"\u001b[39m\u001b[38;5;124mt must be an array of floats, but got \u001b[39m\u001b[38;5;132;01m{\u001b[39;00mt\u001b[38;5;132;01m}\u001b[39;00m\u001b[38;5;124m.\u001b[39m\u001b[38;5;124m\"\u001b[39m)\n\u001b[0;32m--> 173\u001b[0m converted, consts \u001b[38;5;241m=\u001b[39m \u001b[43mcustom_derivatives\u001b[49m\u001b[38;5;241;43m.\u001b[39;49m\u001b[43mclosure_convert\u001b[49m\u001b[43m(\u001b[49m\u001b[43mfunc\u001b[49m\u001b[43m,\u001b[49m\u001b[43m \u001b[49m\u001b[43my0\u001b[49m\u001b[43m,\u001b[49m\u001b[43m \u001b[49m\u001b[43mt\u001b[49m\u001b[43m[\u001b[49m\u001b[38;5;241;43m0\u001b[39;49m\u001b[43m]\u001b[49m\u001b[43m,\u001b[49m\u001b[43m \u001b[49m\u001b[38;5;241;43m*\u001b[39;49m\u001b[43margs\u001b[49m\u001b[43m)\u001b[49m\n\u001b[1;32m    174\u001b[0m \u001b[38;5;28;01mreturn\u001b[39;00m _odeint_wrapper(converted, rtol, atol, mxstep, y0, t, \u001b[38;5;241m*\u001b[39margs, \u001b[38;5;241m*\u001b[39mconsts)\n",
      "File \u001b[0;32m~/.conda/envs/test/lib/python3.9/site-packages/jax/_src/custom_derivatives.py:955\u001b[0m, in \u001b[0;36mclosure_convert\u001b[0;34m(fun, *example_args)\u001b[0m\n\u001b[1;32m    953\u001b[0m   \u001b[38;5;28;01mreturn\u001b[39;00m _closure_convert_for_avals\u001b[38;5;241m.\u001b[39m__wrapped__(fun, in_tree, in_avals)\n\u001b[1;32m    954\u001b[0m \u001b[38;5;28;01melse\u001b[39;00m:\n\u001b[0;32m--> 955\u001b[0m   \u001b[38;5;28;01mreturn\u001b[39;00m \u001b[43m_closure_convert_for_avals\u001b[49m\u001b[43m(\u001b[49m\u001b[43mfun\u001b[49m\u001b[43m,\u001b[49m\u001b[43m \u001b[49m\u001b[43min_tree\u001b[49m\u001b[43m,\u001b[49m\u001b[43m \u001b[49m\u001b[43min_avals\u001b[49m\u001b[43m)\u001b[49m\n",
      "File \u001b[0;32m~/.conda/envs/test/lib/python3.9/site-packages/jax/_src/util.py:219\u001b[0m, in \u001b[0;36mcache.<locals>.wrap.<locals>.wrapper\u001b[0;34m(*args, **kwargs)\u001b[0m\n\u001b[1;32m    217\u001b[0m   \u001b[38;5;28;01mreturn\u001b[39;00m f(\u001b[38;5;241m*\u001b[39margs, \u001b[38;5;241m*\u001b[39m\u001b[38;5;241m*\u001b[39mkwargs)\n\u001b[1;32m    218\u001b[0m \u001b[38;5;28;01melse\u001b[39;00m:\n\u001b[0;32m--> 219\u001b[0m   \u001b[38;5;28;01mreturn\u001b[39;00m \u001b[43mcached\u001b[49m\u001b[43m(\u001b[49m\u001b[43mconfig\u001b[49m\u001b[38;5;241;43m.\u001b[39;49m\u001b[43m_trace_context\u001b[49m\u001b[43m(\u001b[49m\u001b[43m)\u001b[49m\u001b[43m,\u001b[49m\u001b[43m \u001b[49m\u001b[38;5;241;43m*\u001b[39;49m\u001b[43margs\u001b[49m\u001b[43m,\u001b[49m\u001b[43m \u001b[49m\u001b[38;5;241;43m*\u001b[39;49m\u001b[38;5;241;43m*\u001b[39;49m\u001b[43mkwargs\u001b[49m\u001b[43m)\u001b[49m\n",
      "File \u001b[0;32m~/.conda/envs/test/lib/python3.9/site-packages/jax/_src/util.py:212\u001b[0m, in \u001b[0;36mcache.<locals>.wrap.<locals>.cached\u001b[0;34m(_, *args, **kwargs)\u001b[0m\n\u001b[1;32m    210\u001b[0m \u001b[38;5;129m@functools\u001b[39m\u001b[38;5;241m.\u001b[39mlru_cache(max_size)\n\u001b[1;32m    211\u001b[0m \u001b[38;5;28;01mdef\u001b[39;00m \u001b[38;5;21mcached\u001b[39m(_, \u001b[38;5;241m*\u001b[39margs, \u001b[38;5;241m*\u001b[39m\u001b[38;5;241m*\u001b[39mkwargs):\n\u001b[0;32m--> 212\u001b[0m   \u001b[38;5;28;01mreturn\u001b[39;00m \u001b[43mf\u001b[49m\u001b[43m(\u001b[49m\u001b[38;5;241;43m*\u001b[39;49m\u001b[43margs\u001b[49m\u001b[43m,\u001b[49m\u001b[43m \u001b[49m\u001b[38;5;241;43m*\u001b[39;49m\u001b[38;5;241;43m*\u001b[39;49m\u001b[43mkwargs\u001b[49m\u001b[43m)\u001b[49m\n",
      "File \u001b[0;32m~/.conda/envs/test/lib/python3.9/site-packages/jax/_src/custom_derivatives.py:980\u001b[0m, in \u001b[0;36m_closure_convert_for_avals\u001b[0;34m(fun, in_tree, in_avals)\u001b[0m\n\u001b[1;32m    977\u001b[0m \u001b[38;5;129m@cache\u001b[39m()\n\u001b[1;32m    978\u001b[0m \u001b[38;5;28;01mdef\u001b[39;00m \u001b[38;5;21m_closure_convert_for_avals\u001b[39m(fun, in_tree, in_avals):\n\u001b[1;32m    979\u001b[0m   wrapped_fun, out_tree \u001b[38;5;241m=\u001b[39m flatten_fun_nokwargs(lu\u001b[38;5;241m.\u001b[39mwrap_init(fun), in_tree)\n\u001b[0;32m--> 980\u001b[0m   jaxpr, out_pvals, consts \u001b[38;5;241m=\u001b[39m \u001b[43mpe\u001b[49m\u001b[38;5;241;43m.\u001b[39;49m\u001b[43mtrace_to_jaxpr_dynamic\u001b[49m\u001b[43m(\u001b[49m\u001b[43mwrapped_fun\u001b[49m\u001b[43m,\u001b[49m\u001b[43m \u001b[49m\u001b[43min_avals\u001b[49m\u001b[43m)\u001b[49m\n\u001b[1;32m    981\u001b[0m   out_tree \u001b[38;5;241m=\u001b[39m out_tree()\n\u001b[1;32m    983\u001b[0m   (closure_consts, hoisted_consts), merge \u001b[38;5;241m=\u001b[39m partition_list(_maybe_perturbed, consts)\n",
      "File \u001b[0;32m~/.conda/envs/test/lib/python3.9/site-packages/jax/_src/profiler.py:206\u001b[0m, in \u001b[0;36mannotate_function.<locals>.wrapper\u001b[0;34m(*args, **kwargs)\u001b[0m\n\u001b[1;32m    203\u001b[0m \u001b[38;5;129m@wraps\u001b[39m(func)\n\u001b[1;32m    204\u001b[0m \u001b[38;5;28;01mdef\u001b[39;00m \u001b[38;5;21mwrapper\u001b[39m(\u001b[38;5;241m*\u001b[39margs, \u001b[38;5;241m*\u001b[39m\u001b[38;5;241m*\u001b[39mkwargs):\n\u001b[1;32m    205\u001b[0m   \u001b[38;5;28;01mwith\u001b[39;00m TraceAnnotation(name, \u001b[38;5;241m*\u001b[39m\u001b[38;5;241m*\u001b[39mdecorator_kwargs):\n\u001b[0;32m--> 206\u001b[0m     \u001b[38;5;28;01mreturn\u001b[39;00m \u001b[43mfunc\u001b[49m\u001b[43m(\u001b[49m\u001b[38;5;241;43m*\u001b[39;49m\u001b[43margs\u001b[49m\u001b[43m,\u001b[49m\u001b[43m \u001b[49m\u001b[38;5;241;43m*\u001b[39;49m\u001b[38;5;241;43m*\u001b[39;49m\u001b[43mkwargs\u001b[49m\u001b[43m)\u001b[49m\n\u001b[1;32m    207\u001b[0m   \u001b[38;5;28;01mreturn\u001b[39;00m wrapper\n",
      "File \u001b[0;32m~/.conda/envs/test/lib/python3.9/site-packages/jax/interpreters/partial_eval.py:1779\u001b[0m, in \u001b[0;36mtrace_to_jaxpr_dynamic\u001b[0;34m(fun, in_avals, debug_info, keep_inputs)\u001b[0m\n\u001b[1;32m   1777\u001b[0m   main\u001b[38;5;241m.\u001b[39mdebug_info \u001b[38;5;241m=\u001b[39m debug_info  \u001b[38;5;66;03m# type: ignore\u001b[39;00m\n\u001b[1;32m   1778\u001b[0m   main\u001b[38;5;241m.\u001b[39mjaxpr_stack \u001b[38;5;241m=\u001b[39m ()  \u001b[38;5;66;03m# type: ignore\u001b[39;00m\n\u001b[0;32m-> 1779\u001b[0m   jaxpr, out_avals, consts \u001b[38;5;241m=\u001b[39m \u001b[43mtrace_to_subjaxpr_dynamic\u001b[49m\u001b[43m(\u001b[49m\n\u001b[1;32m   1780\u001b[0m \u001b[43m    \u001b[49m\u001b[43mfun\u001b[49m\u001b[43m,\u001b[49m\u001b[43m \u001b[49m\u001b[43mmain\u001b[49m\u001b[43m,\u001b[49m\u001b[43m \u001b[49m\u001b[43min_avals\u001b[49m\u001b[43m,\u001b[49m\u001b[43m \u001b[49m\u001b[43mkeep_inputs\u001b[49m\u001b[38;5;241;43m=\u001b[39;49m\u001b[43mkeep_inputs\u001b[49m\u001b[43m)\u001b[49m\n\u001b[1;32m   1781\u001b[0m   \u001b[38;5;28;01mdel\u001b[39;00m main, fun\n\u001b[1;32m   1782\u001b[0m \u001b[38;5;28;01mreturn\u001b[39;00m jaxpr, out_avals, consts\n",
      "File \u001b[0;32m~/.conda/envs/test/lib/python3.9/site-packages/jax/interpreters/partial_eval.py:1816\u001b[0m, in \u001b[0;36mtrace_to_subjaxpr_dynamic\u001b[0;34m(fun, main, in_avals, keep_inputs)\u001b[0m\n\u001b[1;32m   1814\u001b[0m in_tracers \u001b[38;5;241m=\u001b[39m _input_type_to_tracers(trace, in_avals)\n\u001b[1;32m   1815\u001b[0m in_tracers_ \u001b[38;5;241m=\u001b[39m [t \u001b[38;5;28;01mfor\u001b[39;00m t, keep \u001b[38;5;129;01min\u001b[39;00m \u001b[38;5;28mzip\u001b[39m(in_tracers, keep_inputs) \u001b[38;5;28;01mif\u001b[39;00m keep]\n\u001b[0;32m-> 1816\u001b[0m ans \u001b[38;5;241m=\u001b[39m \u001b[43mfun\u001b[49m\u001b[38;5;241;43m.\u001b[39;49m\u001b[43mcall_wrapped\u001b[49m\u001b[43m(\u001b[49m\u001b[38;5;241;43m*\u001b[39;49m\u001b[43min_tracers_\u001b[49m\u001b[43m)\u001b[49m\n\u001b[1;32m   1817\u001b[0m out_tracers \u001b[38;5;241m=\u001b[39m \u001b[38;5;28mmap\u001b[39m(trace\u001b[38;5;241m.\u001b[39mfull_raise, ans)\n\u001b[1;32m   1818\u001b[0m jaxpr, consts \u001b[38;5;241m=\u001b[39m frame\u001b[38;5;241m.\u001b[39mto_jaxpr(out_tracers)\n",
      "File \u001b[0;32m~/.conda/envs/test/lib/python3.9/site-packages/jax/linear_util.py:168\u001b[0m, in \u001b[0;36mWrappedFun.call_wrapped\u001b[0;34m(self, *args, **kwargs)\u001b[0m\n\u001b[1;32m    165\u001b[0m gen \u001b[38;5;241m=\u001b[39m gen_static_args \u001b[38;5;241m=\u001b[39m out_store \u001b[38;5;241m=\u001b[39m \u001b[38;5;28;01mNone\u001b[39;00m\n\u001b[1;32m    167\u001b[0m \u001b[38;5;28;01mtry\u001b[39;00m:\n\u001b[0;32m--> 168\u001b[0m   ans \u001b[38;5;241m=\u001b[39m \u001b[38;5;28;43mself\u001b[39;49m\u001b[38;5;241;43m.\u001b[39;49m\u001b[43mf\u001b[49m\u001b[43m(\u001b[49m\u001b[38;5;241;43m*\u001b[39;49m\u001b[43margs\u001b[49m\u001b[43m,\u001b[49m\u001b[43m \u001b[49m\u001b[38;5;241;43m*\u001b[39;49m\u001b[38;5;241;43m*\u001b[39;49m\u001b[38;5;28;43mdict\u001b[39;49m\u001b[43m(\u001b[49m\u001b[38;5;28;43mself\u001b[39;49m\u001b[38;5;241;43m.\u001b[39;49m\u001b[43mparams\u001b[49m\u001b[43m,\u001b[49m\u001b[43m \u001b[49m\u001b[38;5;241;43m*\u001b[39;49m\u001b[38;5;241;43m*\u001b[39;49m\u001b[43mkwargs\u001b[49m\u001b[43m)\u001b[49m\u001b[43m)\u001b[49m\n\u001b[1;32m    169\u001b[0m \u001b[38;5;28;01mexcept\u001b[39;00m:\n\u001b[1;32m    170\u001b[0m   \u001b[38;5;66;03m# Some transformations yield from inside context managers, so we have to\u001b[39;00m\n\u001b[1;32m    171\u001b[0m   \u001b[38;5;66;03m# interrupt them before reraising the exception. Otherwise they will only\u001b[39;00m\n\u001b[1;32m    172\u001b[0m   \u001b[38;5;66;03m# get garbage-collected at some later time, running their cleanup tasks\u001b[39;00m\n\u001b[1;32m    173\u001b[0m   \u001b[38;5;66;03m# only after this exception is handled, which can corrupt the global\u001b[39;00m\n\u001b[1;32m    174\u001b[0m   \u001b[38;5;66;03m# state.\u001b[39;00m\n\u001b[1;32m    175\u001b[0m   \u001b[38;5;28;01mwhile\u001b[39;00m stack:\n",
      "File \u001b[0;32m~/danDynamics/qiskit-dynamics/qiskit_dynamics/array/wrap.py:60\u001b[0m, in \u001b[0;36m_wrap_array_function.<locals>.wrapped_function\u001b[0;34m(*args, **kwargs)\u001b[0m\n\u001b[1;32m     54\u001b[0m kwargs \u001b[38;5;241m=\u001b[39m \u001b[38;5;28mdict\u001b[39m(\n\u001b[1;32m     55\u001b[0m     (key, val\u001b[38;5;241m.\u001b[39m__qiskit_array__()\u001b[38;5;241m.\u001b[39mdata) \u001b[38;5;28;01mif\u001b[39;00m \u001b[38;5;28mhasattr\u001b[39m(val, \u001b[38;5;124m\"\u001b[39m\u001b[38;5;124m__qiskit_array__\u001b[39m\u001b[38;5;124m\"\u001b[39m) \u001b[38;5;28;01melse\u001b[39;00m (key, val)\n\u001b[1;32m     56\u001b[0m     \u001b[38;5;28;01mfor\u001b[39;00m key, val \u001b[38;5;129;01min\u001b[39;00m kwargs\u001b[38;5;241m.\u001b[39mitems()\n\u001b[1;32m     57\u001b[0m )\n\u001b[1;32m     59\u001b[0m \u001b[38;5;66;03m# Evaluate function with unwrapped inputs\u001b[39;00m\n\u001b[0;32m---> 60\u001b[0m result \u001b[38;5;241m=\u001b[39m \u001b[43mfunc\u001b[49m\u001b[43m(\u001b[49m\u001b[38;5;241;43m*\u001b[39;49m\u001b[43margs\u001b[49m\u001b[43m,\u001b[49m\u001b[43m \u001b[49m\u001b[38;5;241;43m*\u001b[39;49m\u001b[38;5;241;43m*\u001b[39;49m\u001b[43mkwargs\u001b[49m\u001b[43m)\u001b[49m\n\u001b[1;32m     62\u001b[0m \u001b[38;5;66;03m# Unwrap result\u001b[39;00m\n\u001b[1;32m     63\u001b[0m \u001b[38;5;28;01mif\u001b[39;00m \u001b[38;5;28misinstance\u001b[39m(result, \u001b[38;5;28mtuple\u001b[39m):\n",
      "File \u001b[0;32m~/danDynamics/qiskit-dynamics/qiskit_dynamics/solvers/jax_odeint.py:65\u001b[0m, in \u001b[0;36mjax_odeint.<locals>.<lambda>\u001b[0;34m(y, t)\u001b[0m\n\u001b[1;32m     61\u001b[0m t_direction \u001b[38;5;241m=\u001b[39m np\u001b[38;5;241m.\u001b[39msign(Array(t_list[\u001b[38;5;241m-\u001b[39m\u001b[38;5;241m1\u001b[39m] \u001b[38;5;241m-\u001b[39m t_list[\u001b[38;5;241m0\u001b[39m], backend\u001b[38;5;241m=\u001b[39m\u001b[38;5;124m\"\u001b[39m\u001b[38;5;124mjax\u001b[39m\u001b[38;5;124m\"\u001b[39m, dtype\u001b[38;5;241m=\u001b[39m\u001b[38;5;28mcomplex\u001b[39m))\n\u001b[1;32m     62\u001b[0m rhs \u001b[38;5;241m=\u001b[39m wrap(rhs)\n\u001b[1;32m     64\u001b[0m results \u001b[38;5;241m=\u001b[39m odeint(\n\u001b[0;32m---> 65\u001b[0m     \u001b[38;5;28;01mlambda\u001b[39;00m y, t: \u001b[43mrhs\u001b[49m\u001b[43m(\u001b[49m\u001b[43mnp\u001b[49m\u001b[38;5;241;43m.\u001b[39;49m\u001b[43mreal\u001b[49m\u001b[43m(\u001b[49m\u001b[43mt_direction\u001b[49m\u001b[43m \u001b[49m\u001b[38;5;241;43m*\u001b[39;49m\u001b[43m \u001b[49m\u001b[43mt\u001b[49m\u001b[43m)\u001b[49m\u001b[43m,\u001b[49m\u001b[43m \u001b[49m\u001b[43my\u001b[49m\u001b[43m)\u001b[49m \u001b[38;5;241m*\u001b[39m t_direction,\n\u001b[1;32m     66\u001b[0m     y0\u001b[38;5;241m=\u001b[39mArray(y0, dtype\u001b[38;5;241m=\u001b[39m\u001b[38;5;28mcomplex\u001b[39m),\n\u001b[1;32m     67\u001b[0m     t\u001b[38;5;241m=\u001b[39mnp\u001b[38;5;241m.\u001b[39mreal(t_direction) \u001b[38;5;241m*\u001b[39m Array(t_list),\n\u001b[1;32m     68\u001b[0m     \u001b[38;5;241m*\u001b[39m\u001b[38;5;241m*\u001b[39mkwargs,\n\u001b[1;32m     69\u001b[0m )\n\u001b[1;32m     71\u001b[0m results \u001b[38;5;241m=\u001b[39m OdeResult(t\u001b[38;5;241m=\u001b[39mt_list, y\u001b[38;5;241m=\u001b[39mArray(results, backend\u001b[38;5;241m=\u001b[39m\u001b[38;5;124m\"\u001b[39m\u001b[38;5;124mjax\u001b[39m\u001b[38;5;124m\"\u001b[39m, dtype\u001b[38;5;241m=\u001b[39m\u001b[38;5;28mcomplex\u001b[39m))\n\u001b[1;32m     73\u001b[0m \u001b[38;5;28;01mreturn\u001b[39;00m trim_t_results(results, t_span, t_eval)\n",
      "File \u001b[0;32m~/danDynamics/qiskit-dynamics/qiskit_dynamics/array/wrap.py:107\u001b[0m, in \u001b[0;36m_wrap_function.<locals>.wrapped_func\u001b[0;34m(*args, **kwargs)\u001b[0m\n\u001b[1;32m    105\u001b[0m args \u001b[38;5;241m=\u001b[39m _wrap_args(args)\n\u001b[1;32m    106\u001b[0m kwargs \u001b[38;5;241m=\u001b[39m _wrap_kwargs(kwargs)\n\u001b[0;32m--> 107\u001b[0m result \u001b[38;5;241m=\u001b[39m \u001b[43m_wrap_array_function\u001b[49m\u001b[43m(\u001b[49m\u001b[43mfunc\u001b[49m\u001b[43m)\u001b[49m\u001b[43m(\u001b[49m\u001b[38;5;241;43m*\u001b[39;49m\u001b[43margs\u001b[49m\u001b[43m,\u001b[49m\u001b[43m \u001b[49m\u001b[38;5;241;43m*\u001b[39;49m\u001b[38;5;241;43m*\u001b[39;49m\u001b[43mkwargs\u001b[49m\u001b[43m)\u001b[49m\n\u001b[1;32m    108\u001b[0m \u001b[38;5;28;01mreturn\u001b[39;00m Array\u001b[38;5;241m.\u001b[39m_wrap(result)\n",
      "File \u001b[0;32m~/danDynamics/qiskit-dynamics/qiskit_dynamics/array/wrap.py:60\u001b[0m, in \u001b[0;36m_wrap_array_function.<locals>.wrapped_function\u001b[0;34m(*args, **kwargs)\u001b[0m\n\u001b[1;32m     54\u001b[0m kwargs \u001b[38;5;241m=\u001b[39m \u001b[38;5;28mdict\u001b[39m(\n\u001b[1;32m     55\u001b[0m     (key, val\u001b[38;5;241m.\u001b[39m__qiskit_array__()\u001b[38;5;241m.\u001b[39mdata) \u001b[38;5;28;01mif\u001b[39;00m \u001b[38;5;28mhasattr\u001b[39m(val, \u001b[38;5;124m\"\u001b[39m\u001b[38;5;124m__qiskit_array__\u001b[39m\u001b[38;5;124m\"\u001b[39m) \u001b[38;5;28;01melse\u001b[39;00m (key, val)\n\u001b[1;32m     56\u001b[0m     \u001b[38;5;28;01mfor\u001b[39;00m key, val \u001b[38;5;129;01min\u001b[39;00m kwargs\u001b[38;5;241m.\u001b[39mitems()\n\u001b[1;32m     57\u001b[0m )\n\u001b[1;32m     59\u001b[0m \u001b[38;5;66;03m# Evaluate function with unwrapped inputs\u001b[39;00m\n\u001b[0;32m---> 60\u001b[0m result \u001b[38;5;241m=\u001b[39m \u001b[43mfunc\u001b[49m\u001b[43m(\u001b[49m\u001b[38;5;241;43m*\u001b[39;49m\u001b[43margs\u001b[49m\u001b[43m,\u001b[49m\u001b[43m \u001b[49m\u001b[38;5;241;43m*\u001b[39;49m\u001b[38;5;241;43m*\u001b[39;49m\u001b[43mkwargs\u001b[49m\u001b[43m)\u001b[49m\n\u001b[1;32m     62\u001b[0m \u001b[38;5;66;03m# Unwrap result\u001b[39;00m\n\u001b[1;32m     63\u001b[0m \u001b[38;5;28;01mif\u001b[39;00m \u001b[38;5;28misinstance\u001b[39m(result, \u001b[38;5;28mtuple\u001b[39m):\n",
      "File \u001b[0;32m~/danDynamics/qiskit-dynamics/qiskit_dynamics/perturbation/dyson_magnus.py:473\u001b[0m, in \u001b[0;36msetup_dyson_rhs_jax.<locals>.dyson_rhs\u001b[0;34m(t, y)\u001b[0m\n\u001b[1;32m    472\u001b[0m \u001b[38;5;28;01mdef\u001b[39;00m \u001b[38;5;21mdyson_rhs\u001b[39m(t, y):\n\u001b[0;32m--> 473\u001b[0m     \u001b[38;5;28;01mreturn\u001b[39;00m custom_matmul(\u001b[43mmultiple_eval\u001b[49m\u001b[43m(\u001b[49m\u001b[43mperturbations_evaluation_order\u001b[49m\u001b[43m,\u001b[49m\u001b[43m \u001b[49m\u001b[43mt\u001b[49m\u001b[43m)\u001b[49m, y)\n",
      "    \u001b[0;31m[... skipping hidden 3 frame]\u001b[0m\n",
      "File \u001b[0;32m~/danDynamics/qiskit-dynamics/qiskit_dynamics/perturbation/dyson_magnus.py:468\u001b[0m, in \u001b[0;36msetup_dyson_rhs_jax.<locals>.single_eval\u001b[0;34m(idx, t)\u001b[0m\n\u001b[1;32m    467\u001b[0m \u001b[38;5;28;01mdef\u001b[39;00m \u001b[38;5;21msingle_eval\u001b[39m(idx, t):\n\u001b[0;32m--> 468\u001b[0m     \u001b[38;5;28;01mreturn\u001b[39;00m \u001b[43mswitch\u001b[49m\u001b[43m(\u001b[49m\u001b[43midx\u001b[49m\u001b[43m,\u001b[49m\u001b[43m \u001b[49m\u001b[43mnew_list\u001b[49m\u001b[43m,\u001b[49m\u001b[43m \u001b[49m\u001b[43mt\u001b[49m\u001b[43m)\u001b[49m\n",
      "    \u001b[0;31m[... skipping hidden 14 frame]\u001b[0m\n",
      "File \u001b[0;32m~/danDynamics/qiskit-dynamics/qiskit_dynamics/perturbation/dyson_magnus.py:261\u001b[0m, in \u001b[0;36msolve_lmde_dyson_jax.<locals>.func_transform.<locals>.new_func\u001b[0;34m(t)\u001b[0m\n\u001b[1;32m    260\u001b[0m \u001b[38;5;28;01mdef\u001b[39;00m \u001b[38;5;21mnew_func\u001b[39m(t):\n\u001b[0;32m--> 261\u001b[0m     \u001b[38;5;28;01mreturn\u001b[39;00m Array(\u001b[43mf\u001b[49m\u001b[43m(\u001b[49m\u001b[43mt\u001b[49m\u001b[43m)\u001b[49m, backend\u001b[38;5;241m=\u001b[39m\u001b[38;5;124m\"\u001b[39m\u001b[38;5;124mjax\u001b[39m\u001b[38;5;124m\"\u001b[39m)\u001b[38;5;241m.\u001b[39mdata\n",
      "File \u001b[0;32m~/danDynamics/qiskit-dynamics/qiskit_dynamics/perturbation/perturbative_solver.py:411\u001b[0m, in \u001b[0;36mconstruct_cheb_perturbations_jax.<locals>.get_cheb_func_cos_op.<locals>.cheb_func_op\u001b[0;34m(t)\u001b[0m\n\u001b[1;32m    410\u001b[0m \u001b[38;5;28;01mdef\u001b[39;00m \u001b[38;5;21mcheb_func_op\u001b[39m(t):\n\u001b[0;32m--> 411\u001b[0m     op_in_frame \u001b[38;5;241m=\u001b[39m \u001b[43mrotating_frame\u001b[49m\u001b[38;5;241;43m.\u001b[39;49m\u001b[43moperator_into_frame\u001b[49m\u001b[43m(\u001b[49m\u001b[43mt\u001b[49m\u001b[43m,\u001b[49m\u001b[43m \u001b[49m\u001b[43mop\u001b[49m\u001b[43m)\u001b[49m\u001b[38;5;241m.\u001b[39mdata\n\u001b[1;32m    412\u001b[0m     \u001b[38;5;28;01mreturn\u001b[39;00m cheb_func(t) \u001b[38;5;241m*\u001b[39m jnp\u001b[38;5;241m.\u001b[39mcos(rad_freq \u001b[38;5;241m*\u001b[39m t) \u001b[38;5;241m*\u001b[39m op_in_frame\n",
      "File \u001b[0;32m~/danDynamics/qiskit-dynamics/qiskit_dynamics/models/rotating_frame.py:404\u001b[0m, in \u001b[0;36mRotatingFrame.operator_into_frame\u001b[0;34m(self, t, operator, operator_in_frame_basis, return_in_frame_basis, vectorized_operators)\u001b[0m\n\u001b[1;32m    378\u001b[0m \u001b[38;5;28;01mdef\u001b[39;00m \u001b[38;5;21moperator_into_frame\u001b[39m(\n\u001b[1;32m    379\u001b[0m     \u001b[38;5;28mself\u001b[39m,\n\u001b[1;32m    380\u001b[0m     t: \u001b[38;5;28mfloat\u001b[39m,\n\u001b[0;32m   (...)\u001b[0m\n\u001b[1;32m    384\u001b[0m     vectorized_operators: Optional[\u001b[38;5;28mbool\u001b[39m] \u001b[38;5;241m=\u001b[39m \u001b[38;5;28;01mFalse\u001b[39;00m,\n\u001b[1;32m    385\u001b[0m ) \u001b[38;5;241m-\u001b[39m\u001b[38;5;241m>\u001b[39m Array:\n\u001b[1;32m    386\u001b[0m     \u001b[38;5;124mr\u001b[39m\u001b[38;5;124;03m\"\"\"Bring an operator into the frame, i.e. return\u001b[39;00m\n\u001b[1;32m    387\u001b[0m \u001b[38;5;124;03m    ``exp(-tF) @ operator @ exp(tF)``.\u001b[39;00m\n\u001b[1;32m    388\u001b[0m \n\u001b[0;32m   (...)\u001b[0m\n\u001b[1;32m    402\u001b[0m \u001b[38;5;124;03m        Array: operator in frame.\u001b[39;00m\n\u001b[1;32m    403\u001b[0m \u001b[38;5;124;03m    \"\"\"\u001b[39;00m\n\u001b[0;32m--> 404\u001b[0m     \u001b[38;5;28;01mreturn\u001b[39;00m \u001b[38;5;28;43mself\u001b[39;49m\u001b[38;5;241;43m.\u001b[39;49m\u001b[43m_conjugate_and_add\u001b[49m\u001b[43m(\u001b[49m\n\u001b[1;32m    405\u001b[0m \u001b[43m        \u001b[49m\u001b[43mt\u001b[49m\u001b[43m,\u001b[49m\n\u001b[1;32m    406\u001b[0m \u001b[43m        \u001b[49m\u001b[43moperator\u001b[49m\u001b[43m,\u001b[49m\n\u001b[1;32m    407\u001b[0m \u001b[43m        \u001b[49m\u001b[43moperator_in_frame_basis\u001b[49m\u001b[38;5;241;43m=\u001b[39;49m\u001b[43moperator_in_frame_basis\u001b[49m\u001b[43m,\u001b[49m\n\u001b[1;32m    408\u001b[0m \u001b[43m        \u001b[49m\u001b[43mreturn_in_frame_basis\u001b[49m\u001b[38;5;241;43m=\u001b[39;49m\u001b[43mreturn_in_frame_basis\u001b[49m\u001b[43m,\u001b[49m\n\u001b[1;32m    409\u001b[0m \u001b[43m        \u001b[49m\u001b[43mvectorized_operators\u001b[49m\u001b[38;5;241;43m=\u001b[39;49m\u001b[43mvectorized_operators\u001b[49m\u001b[43m,\u001b[49m\n\u001b[1;32m    410\u001b[0m \u001b[43m    \u001b[49m\u001b[43m)\u001b[49m\n",
      "File \u001b[0;32m~/danDynamics/qiskit-dynamics/qiskit_dynamics/models/rotating_frame.py:314\u001b[0m, in \u001b[0;36mRotatingFrame._conjugate_and_add\u001b[0;34m(self, t, operator, op_to_add_in_fb, operator_in_frame_basis, return_in_frame_basis, vectorized_operators)\u001b[0m\n\u001b[1;32m    281\u001b[0m \u001b[38;5;28;01mdef\u001b[39;00m \u001b[38;5;21m_conjugate_and_add\u001b[39m(\n\u001b[1;32m    282\u001b[0m     \u001b[38;5;28mself\u001b[39m,\n\u001b[1;32m    283\u001b[0m     t: \u001b[38;5;28mfloat\u001b[39m,\n\u001b[0;32m   (...)\u001b[0m\n\u001b[1;32m    288\u001b[0m     vectorized_operators: Optional[\u001b[38;5;28mbool\u001b[39m] \u001b[38;5;241m=\u001b[39m \u001b[38;5;28;01mFalse\u001b[39;00m,\n\u001b[1;32m    289\u001b[0m ) \u001b[38;5;241m-\u001b[39m\u001b[38;5;241m>\u001b[39m Union[Array, csr_matrix]:\n\u001b[1;32m    290\u001b[0m     \u001b[38;5;124mr\u001b[39m\u001b[38;5;124;03m\"\"\"General helper function for computing :math:`\\exp(-tF)G\\exp(tF) + B`.\u001b[39;00m\n\u001b[1;32m    291\u001b[0m \n\u001b[1;32m    292\u001b[0m \u001b[38;5;124;03m    Note: B is added in the frame basis before any potential final change\u001b[39;00m\n\u001b[0;32m   (...)\u001b[0m\n\u001b[1;32m    312\u001b[0m \u001b[38;5;124;03m        Array of newly conjugated operator.\u001b[39;00m\n\u001b[1;32m    313\u001b[0m \u001b[38;5;124;03m    \"\"\"\u001b[39;00m\n\u001b[0;32m--> 314\u001b[0m     operator \u001b[38;5;241m=\u001b[39m \u001b[43mto_numeric_matrix_type\u001b[49m\u001b[43m(\u001b[49m\u001b[43moperator\u001b[49m\u001b[43m)\u001b[49m\n\u001b[1;32m    315\u001b[0m     op_to_add_in_fb \u001b[38;5;241m=\u001b[39m to_numeric_matrix_type(op_to_add_in_fb)\n\u001b[1;32m    317\u001b[0m     \u001b[38;5;28;01mif\u001b[39;00m vectorized_operators:\n\u001b[1;32m    318\u001b[0m         \u001b[38;5;66;03m# If passing vectorized operator, undo vectorization temporarily\u001b[39;00m\n",
      "File \u001b[0;32m~/danDynamics/qiskit-dynamics/qiskit_dynamics/type_utils.py:494\u001b[0m, in \u001b[0;36mto_numeric_matrix_type\u001b[0;34m(op)\u001b[0m\n\u001b[1;32m    491\u001b[0m     \u001b[38;5;28;01mreturn\u001b[39;00m to_csr(op)\n\u001b[1;32m    493\u001b[0m \u001b[38;5;28;01melse\u001b[39;00m:\n\u001b[0;32m--> 494\u001b[0m     \u001b[38;5;28;01mreturn\u001b[39;00m \u001b[43mto_array\u001b[49m\u001b[43m(\u001b[49m\u001b[43mop\u001b[49m\u001b[43m)\u001b[49m\n",
      "File \u001b[0;32m~/danDynamics/qiskit-dynamics/qiskit_dynamics/type_utils.py:388\u001b[0m, in \u001b[0;36mto_array\u001b[0;34m(op, no_iter)\u001b[0m\n\u001b[1;32m    385\u001b[0m     \u001b[38;5;28;01mreturn\u001b[39;00m Array(op\u001b[38;5;241m.\u001b[39mtodense())\n\u001b[1;32m    387\u001b[0m \u001b[38;5;28;01mif\u001b[39;00m \u001b[38;5;28misinstance\u001b[39m(op, Iterable) \u001b[38;5;129;01mand\u001b[39;00m \u001b[38;5;129;01mnot\u001b[39;00m no_iter:\n\u001b[0;32m--> 388\u001b[0m     op \u001b[38;5;241m=\u001b[39m Array([to_array(sub_op, no_iter\u001b[38;5;241m=\u001b[39m\u001b[38;5;28;01mTrue\u001b[39;00m) \u001b[38;5;28;01mfor\u001b[39;00m sub_op \u001b[38;5;129;01min\u001b[39;00m op])\n\u001b[1;32m    389\u001b[0m \u001b[38;5;28;01melif\u001b[39;00m \u001b[38;5;28misinstance\u001b[39m(op, Iterable) \u001b[38;5;129;01mand\u001b[39;00m no_iter:\n\u001b[1;32m    390\u001b[0m     \u001b[38;5;28;01mreturn\u001b[39;00m op\n",
      "File \u001b[0;32m~/danDynamics/qiskit-dynamics/qiskit_dynamics/type_utils.py:388\u001b[0m, in \u001b[0;36m<listcomp>\u001b[0;34m(.0)\u001b[0m\n\u001b[1;32m    385\u001b[0m     \u001b[38;5;28;01mreturn\u001b[39;00m Array(op\u001b[38;5;241m.\u001b[39mtodense())\n\u001b[1;32m    387\u001b[0m \u001b[38;5;28;01mif\u001b[39;00m \u001b[38;5;28misinstance\u001b[39m(op, Iterable) \u001b[38;5;129;01mand\u001b[39;00m \u001b[38;5;129;01mnot\u001b[39;00m no_iter:\n\u001b[0;32m--> 388\u001b[0m     op \u001b[38;5;241m=\u001b[39m Array([to_array(sub_op, no_iter\u001b[38;5;241m=\u001b[39m\u001b[38;5;28;01mTrue\u001b[39;00m) \u001b[38;5;28;01mfor\u001b[39;00m sub_op \u001b[38;5;129;01min\u001b[39;00m op])\n\u001b[1;32m    389\u001b[0m \u001b[38;5;28;01melif\u001b[39;00m \u001b[38;5;28misinstance\u001b[39m(op, Iterable) \u001b[38;5;129;01mand\u001b[39;00m no_iter:\n\u001b[1;32m    390\u001b[0m     \u001b[38;5;28;01mreturn\u001b[39;00m op\n",
      "File \u001b[0;32m~/.conda/envs/test/lib/python3.9/site-packages/jax/_src/device_array.py:245\u001b[0m, in \u001b[0;36m<genexpr>\u001b[0;34m(.0)\u001b[0m\n\u001b[1;32m    243\u001b[0m   \u001b[38;5;28;01mraise\u001b[39;00m \u001b[38;5;167;01mTypeError\u001b[39;00m(\u001b[38;5;124m\"\u001b[39m\u001b[38;5;124miteration over a 0-d array\u001b[39m\u001b[38;5;124m\"\u001b[39m)  \u001b[38;5;66;03m# same as numpy error\u001b[39;00m\n\u001b[1;32m    244\u001b[0m \u001b[38;5;28;01melse\u001b[39;00m:\n\u001b[0;32m--> 245\u001b[0m   \u001b[38;5;28;01mreturn\u001b[39;00m (sl \u001b[38;5;28;01mfor\u001b[39;00m chunk \u001b[38;5;129;01min\u001b[39;00m \u001b[38;5;28mself\u001b[39m\u001b[38;5;241m.\u001b[39m_chunk_iter(\u001b[38;5;241m100\u001b[39m) \u001b[38;5;28;01mfor\u001b[39;00m sl \u001b[38;5;129;01min\u001b[39;00m chunk\u001b[38;5;241m.\u001b[39m_unstack())\n",
      "File \u001b[0;32m~/.conda/envs/test/lib/python3.9/site-packages/jax/_src/numpy/lax_numpy.py:4670\u001b[0m, in \u001b[0;36m_chunk_iter\u001b[0;34m(x, size)\u001b[0m\n\u001b[1;32m   4668\u001b[0m \u001b[38;5;28;01melse\u001b[39;00m:\n\u001b[1;32m   4669\u001b[0m   num_chunks, tail \u001b[38;5;241m=\u001b[39m \u001b[38;5;28mdivmod\u001b[39m(x\u001b[38;5;241m.\u001b[39mshape[\u001b[38;5;241m0\u001b[39m], size)\n\u001b[0;32m-> 4670\u001b[0m   \u001b[38;5;28;01mfor\u001b[39;00m i \u001b[38;5;129;01min\u001b[39;00m \u001b[38;5;28;43mrange\u001b[39;49m\u001b[43m(\u001b[49m\u001b[43mnum_chunks\u001b[49m\u001b[43m)\u001b[49m:\n\u001b[1;32m   4671\u001b[0m     \u001b[38;5;28;01myield\u001b[39;00m lax\u001b[38;5;241m.\u001b[39mdynamic_slice_in_dim(x, i \u001b[38;5;241m*\u001b[39m size, size)\n\u001b[1;32m   4672\u001b[0m   \u001b[38;5;28;01mif\u001b[39;00m tail:\n",
      "File \u001b[0;32m~/.conda/envs/test/lib/python3.9/site-packages/jax/core.py:519\u001b[0m, in \u001b[0;36mTracer.__index__\u001b[0;34m(self)\u001b[0m\n\u001b[1;32m    518\u001b[0m \u001b[38;5;28;01mdef\u001b[39;00m \u001b[38;5;21m__index__\u001b[39m(\u001b[38;5;28mself\u001b[39m):\n\u001b[0;32m--> 519\u001b[0m   \u001b[38;5;28;01mraise\u001b[39;00m TracerIntegerConversionError(\u001b[38;5;28mself\u001b[39m)\n",
      "\u001b[0;31mTracerIntegerConversionError\u001b[0m: The __index__() method was called on the JAX Tracer object Traced<ShapedArray(int64[], weak_type=True)>with<DynamicJaxprTrace(level=3/0)>\nSee https://jax.readthedocs.io/en/latest/errors.html#jax.errors.TracerIntegerConversionError"
     ]
    }
   ],
   "source": [
    "test = perturbative_solver_metrics(\n",
    "    n_steps=30000,\n",
    "    expansion_order=4,\n",
    "    chebyshev_order=2,\n",
    ")"
   ]
  },
  {
   "cell_type": "code",
   "execution_count": 24,
   "id": "c89dcf0b",
   "metadata": {},
   "outputs": [
    {
     "data": {
      "text/plain": [
       "[{'jit_time': 12.714799880981445,\n",
       "  'ave_run_time': 14.636967023213705,\n",
       "  'ave_distance': 0.009430727694487107,\n",
       "  'jit_grad_time': 107.71017074584961,\n",
       "  'ave_grad_run_time': 99.54617675145467},\n",
       " {'jit_time': 23.126384258270264,\n",
       "  'ave_run_time': 23.955566962560017,\n",
       "  'ave_distance': 0.0005893526275394577,\n",
       "  'jit_grad_time': 170.26764297485352,\n",
       "  'ave_grad_run_time': 151.2617483139038},\n",
       " {'jit_time': 26.907774209976196,\n",
       "  'ave_run_time': 28.528197367986042,\n",
       "  'ave_distance': 2.6659912330509012e-05,\n",
       "  'jit_grad_time': 263.61266040802,\n",
       "  'ave_grad_run_time': 271.91982261339825}]"
      ]
     },
     "execution_count": 24,
     "metadata": {},
     "output_type": "execute_result"
    }
   ],
   "source": [
    "dense_results"
   ]
  },
  {
   "cell_type": "code",
   "execution_count": 25,
   "id": "92b52b62",
   "metadata": {},
   "outputs": [
    {
     "data": {
      "text/plain": [
       "<function __main__.<lambda>(t)>"
      ]
     },
     "execution_count": 25,
     "metadata": {},
     "output_type": "execute_result"
    }
   ],
   "source": [
    "tes"
   ]
  },
  {
   "cell_type": "markdown",
   "id": "886fa6ac",
   "metadata": {},
   "source": [
    "We should generate data for perturbative solvers, for both Dyson and Magnus, treating `n_steps` analogously to `tol` for the usual solvers. I.e. for different expansion orders and chebyshev orders, generate the metrics for a range of `n_steps`. We'll need to play around to see what actual values of `n_steps` to explore (e.g. cranking it really high to get as high a tolerance as possible).\n",
    "\n",
    "For CPU, can we pin this to a single core?"
   ]
  },
  {
   "cell_type": "code",
   "execution_count": null,
   "id": "a2340fb2",
   "metadata": {
    "scrolled": true
   },
   "outputs": [],
   "source": [
    "test\"{'jit_time': 8.807554960250854,\n",
    " 'ave_run_time': 1.5672102689743042,\n",
    " 'ave_distance': 2.4076992260531547e-08,\n",
    " 'jit_grad_time': 23.593711853027344,\n",
    " 'ave_grad_run_time': 4.455309414863587,\n",
    " 'construction_time': 31.25236678123474}\""
   ]
  },
  {
   "cell_type": "code",
   "execution_count": null,
   "id": "0a6a3cb2",
   "metadata": {},
   "outputs": [],
   "source": [
    "dense_results\"[{'jit_time': 2.934943437576294,\n",
    "  'ave_run_time': 0.7882565021514892,\n",
    "  'ave_distance': 0.0038056807265508313,\n",
    "  'jit_grad_time': 12.229278802871704,\n",
    "  'ave_grad_run_time': 4.830108022689819},\n",
    " {'jit_time': 3.497884511947632,\n",
    "  'ave_run_time': 1.2448240518569946,\n",
    "  'ave_distance': 0.00019116220058663745,\n",
    "  'jit_grad_time': 14.589717149734497,\n",
    "  'ave_grad_run_time': 7.7859468221664425},\n",
    " {'jit_time': 3.8204681873321533,\n",
    "  'ave_run_time': 1.779462170600891,\n",
    "  'ave_distance': 9.305160510893629e-06,\n",
    "  'jit_grad_time': 18.232216835021973,\n",
    "  'ave_grad_run_time': 10.996834254264831}]\""
   ]
  },
  {
   "cell_type": "code",
   "execution_count": null,
   "id": "01835ff2",
   "metadata": {},
   "outputs": [],
   "source": [
    "sparse_results\"[{'jit_time': 2.9687247276306152,\n",
    "  'ave_run_time': 0.6569108963012695,\n",
    "  'ave_distance': 0.0038262962281479275,\n",
    "  'jit_grad_time': 12.376525402069092,\n",
    "  'ave_grad_run_time': 4.482078433036804},\n",
    " {'jit_time': 3.538027286529541,\n",
    "  'ave_run_time': 1.050394058227539,\n",
    "  'ave_distance': 0.00018769907057950274,\n",
    "  'jit_grad_time': 15.0888032913208,\n",
    "  'ave_grad_run_time': 7.085251450538635},\n",
    " {'jit_time': 4.06965708732605,\n",
    "  'ave_run_time': 1.6412882804870605,\n",
    "  'ave_distance': 9.034796610994981e-06,\n",
    "  'jit_grad_time': 19.52087378501892,\n",
    "  'ave_grad_run_time': 10.986740112304688}]\""
   ]
  },
  {
   "cell_type": "code",
   "execution_count": null,
   "id": "10735299",
   "metadata": {},
   "outputs": [],
   "source": [
    "import pandas as pd"
   ]
  },
  {
   "cell_type": "code",
   "execution_count": null,
   "id": "7e061ea2",
   "metadata": {},
   "outputs": [],
   "source": [
    "df = pd.DataFrame(dense_results)\n",
    "df['tol'] = tols"
   ]
  },
  {
   "cell_type": "code",
   "execution_count": null,
   "id": "e0fa627a",
   "metadata": {},
   "outputs": [],
   "source": [
    "df"
   ]
  },
  {
   "cell_type": "code",
   "execution_count": null,
   "id": "0d90b5af",
   "metadata": {},
   "outputs": [],
   "source": []
  }
 ],
 "metadata": {
  "kernelspec": {
   "display_name": "Python 3 (ipykernel)",
   "language": "python",
   "name": "python3"
  },
  "language_info": {
   "codemirror_mode": {
    "name": "ipython",
    "version": 3
   },
   "file_extension": ".py",
   "mimetype": "text/x-python",
   "name": "python",
   "nbconvert_exporter": "python",
   "pygments_lexer": "ipython3",
   "version": "3.9.7"
  }
 },
 "nbformat": 4,
 "nbformat_minor": 5
}
